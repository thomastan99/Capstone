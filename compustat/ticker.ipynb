{
 "cells": [
  {
   "cell_type": "code",
   "execution_count": null,
   "metadata": {},
   "outputs": [],
   "source": [
    "import pandas as pd\n",
    "from google.oauth2 import service_account\n",
    "import pandas_gbq as gbq"
   ]
  },
  {
   "cell_type": "code",
   "execution_count": null,
   "metadata": {},
   "outputs": [],
   "source": [
    "credentials_path = 'token.json'\n",
    "\n",
    "# Authenticate with your credentials\n",
    "credentials = service_account.Credentials.from_service_account_file(\n",
    "    credentials_path, scopes=['https://www.googleapis.com/auth/bigquery'])\n",
    "\n",
    "# Set the credentials for pandas_gbq\n",
    "gbq.context.credentials = credentials\n",
    "\n",
    "project_id = 'capstone-398012'\n",
    "dataset_id = 'capstone'\n",
    "table_id = \"filled_table_2\"\n",
    "\n",
    "from pandas_gbq import read_gbq\n",
    "\n",
    "query = f\"\"\"\n",
    "SELECT *\n",
    "FROM `{project_id}.{dataset_id}.{table_id}`\n",
    "\n",
    "\"\"\"\n",
    "\n",
    "# Authenticate and read data from BigQuery into a DataFrame\n",
    "cri_df = read_gbq(query, project_id=project_id, dialect='standard')\n",
    "cri_df.head()"
   ]
  },
  {
   "cell_type": "code",
   "execution_count": null,
   "metadata": {},
   "outputs": [],
   "source": [
    "file_path3 = 'Datasets/CompMapping.csv'\n",
    "\n",
    "# Read the CSV file into a pandas DataFrame\n",
    "mapping_df = pd.read_csv(file_path3)\n",
    "\n",
    "mapping_df.head()"
   ]
  },
  {
   "cell_type": "code",
   "execution_count": null,
   "metadata": {},
   "outputs": [],
   "source": [
    "mapping_df['Ticker'] = mapping_df.apply(lambda row: row['Ticker'].replace(' US', '') if row['Country_name'] == 'United States' else row['Ticker'], axis=1)\n",
    "mapping_df['Ticker'] = mapping_df.apply(lambda row: row['Ticker'].replace(' CN', '') if row['Country_name'] == 'Canada' else row['Ticker'], axis=1)\n",
    "\n",
    "mapping_df = mapping_df.drop(mapping_df[mapping_df['Country_name'] == 'China'].index)\n",
    "\n",
    "mapping_df['U3_COMPANY_NUMBER'] = mapping_df['U3_COMPANY_NUMBER'].astype(int)\n",
    "\n",
    "mapping_df"
   ]
  },
  {
   "cell_type": "code",
   "execution_count": null,
   "metadata": {},
   "outputs": [],
   "source": [
    "ticker_df = pd.merge(cri_df, mapping_df[['U3_COMPANY_NUMBER', 'Ticker']],  left_on='CompanyNumber', right_on='U3_COMPANY_NUMBER', how='left')\n",
    "ticker_df.drop('U3_COMPANY_NUMBER', axis=1, inplace=True)\n",
    "\n",
    "ticker_df\n",
    "\n",
    "# Download as csv\n",
    "# ticker_df.to_csv('ticker_df.csv', index=False)\n",
    "\n",
    "# Push to GBQ\n",
    "ticker_df.to_gbq(destination_table=f'{project_id}.{dataset_id}.ticker_table', project_id=project_id, if_exists='replace')"
   ]
  }
 ],
 "metadata": {
  "language_info": {
   "name": "python"
  },
  "orig_nbformat": 4
 },
 "nbformat": 4,
 "nbformat_minor": 2
}
