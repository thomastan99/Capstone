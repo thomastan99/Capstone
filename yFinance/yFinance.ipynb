{
 "cells": [
  {
   "cell_type": "code",
   "execution_count": 88,
   "metadata": {},
   "outputs": [],
   "source": [
    "import yfinance as yf \n",
    "import pandas as pd \n",
    "import numpy as np \n",
    "import datetime as dt"
   ]
  },
  {
   "cell_type": "markdown",
   "metadata": {},
   "source": [
    "# Loading in the values from YFinance data, which was aggregated monthly, then calculating the rolling mean of the volume"
   ]
  },
  {
   "cell_type": "code",
   "execution_count": 103,
   "metadata": {},
   "outputs": [
    {
     "name": "stdout",
     "output_type": "stream",
     "text": [
      "         Unnamed: 0  yyyy  mm       Open       High        Low      Close  \\\n",
      "1222632     1222632  2000   1  48.918097  49.765290  47.004649  48.319027   \n",
      "1222633     1222633  2000   2  60.224427  63.608727  58.952521  61.807046   \n",
      "1222634     1222634  2000   3  87.360826  91.856767  82.689944  87.663568   \n",
      "1222635     1222635  2000   4  67.213030  70.281323  63.478842  66.965967   \n",
      "1222636     1222636  2000   5  56.936046  59.407108  54.286156  56.341141   \n",
      "...             ...   ...  ..        ...        ...        ...        ...   \n",
      "1595585     1595585  2023   1   0.183640   0.183640   0.183640   0.183640   \n",
      "1595586     1595586  2023   2   0.219100   0.219100   0.219100   0.219100   \n",
      "1595587     1595587  2023   3   0.182887   0.182887   0.182887   0.182887   \n",
      "1595588     1595588  2023   4   0.190000   0.190000   0.190000   0.190000   \n",
      "1595589     1595589  2023   5   0.159500   0.159500   0.159500   0.159500   \n",
      "\n",
      "         Adj Close        Volume    tic       date  rolling_mean  \n",
      "1222632  41.553350  2.244042e+06      A 2000-01-01  2.244042e+06  \n",
      "1222633  53.152766  1.646900e+06      A 2000-02-01  1.945471e+06  \n",
      "1222634  75.388830  2.507812e+06      A 2000-03-01  2.132918e+06  \n",
      "1222635  57.589325  2.424478e+06      A 2000-04-01  2.205808e+06  \n",
      "1222636  48.452196  4.910608e+06      A 2000-05-01  2.746768e+06  \n",
      "...            ...           ...    ...        ...           ...  \n",
      "1595585   0.183640  1.095500e+02  ZZZOF 2023-01-01  9.309485e+01  \n",
      "1595586   0.219100  0.000000e+00  ZZZOF 2023-02-01  8.116503e+01  \n",
      "1595587   0.182887  1.634783e+01  ZZZOF 2023-03-01  7.082807e+01  \n",
      "1595588   0.190000  0.000000e+00  ZZZOF 2023-04-01  1.766557e+01  \n",
      "1595589   0.159500  2.119048e+01  ZZZOF 2023-05-01  1.943144e+01  \n",
      "\n",
      "[1832587 rows x 12 columns]\n"
     ]
    }
   ],
   "source": [
    "\n",
    "df = pd.read_csv(\"YFinance_data_cleaned.csv\")\n",
    "df['date'] = pd.to_datetime(df['yyyy'].astype(str) + df['mm'].astype(str), format='%Y%m')\n",
    "df.sort_values(by=['tic', 'date'], inplace=True)\n",
    "results = pd.DataFrame()\n",
    "for ticker, group in df.groupby('tic'):\n",
    "    rolling_window = group.rolling('365D', on='date')\n",
    "    group['rolling_mean'] = rolling_window['Volume'].mean()\n",
    "\n",
    "    results = pd.concat([results, group])\n",
    "\n",
    "results['1YearVolumeRatio'] = results['Volume']/results['rolling_mean']"
   ]
  },
  {
   "cell_type": "markdown",
   "metadata": {},
   "source": [
    "# Calculating RSI using Yfinance Data"
   ]
  },
  {
   "cell_type": "code",
   "execution_count": 179,
   "metadata": {},
   "outputs": [
    {
     "name": "stdout",
     "output_type": "stream",
     "text": [
      "               Unnamed: 0  yyyy  mm       Open       High        Low  \\\n",
      "tic                                                                    \n",
      "A     1222632     1222632  2000   1  48.918097  49.765290  47.004649   \n",
      "      1222633     1222633  2000   2  60.224427  63.608727  58.952521   \n",
      "      1222634     1222634  2000   3  87.360826  91.856767  82.689944   \n",
      "      1222635     1222635  2000   4  67.213030  70.281323  63.478842   \n",
      "      1222636     1222636  2000   5  56.936046  59.407108  54.286156   \n",
      "...                   ...   ...  ..        ...        ...        ...   \n",
      "ZZZOF 1595585     1595585  2023   1   0.183640   0.183640   0.183640   \n",
      "      1595586     1595586  2023   2   0.219100   0.219100   0.219100   \n",
      "      1595587     1595587  2023   3   0.182887   0.182887   0.182887   \n",
      "      1595588     1595588  2023   4   0.190000   0.190000   0.190000   \n",
      "      1595589     1595589  2023   5   0.159500   0.159500   0.159500   \n",
      "\n",
      "                   Close  Adj Close        Volume    tic       date  \\\n",
      "tic                                                                   \n",
      "A     1222632  48.319027  41.553350  2.244042e+06      A 2000-01-01   \n",
      "      1222633  61.807046  53.152766  1.646900e+06      A 2000-02-01   \n",
      "      1222634  87.663568  75.388830  2.507812e+06      A 2000-03-01   \n",
      "      1222635  66.965967  57.589325  2.424478e+06      A 2000-04-01   \n",
      "      1222636  56.341141  48.452196  4.910608e+06      A 2000-05-01   \n",
      "...                  ...        ...           ...    ...        ...   \n",
      "ZZZOF 1595585   0.183640   0.183640  1.095500e+02  ZZZOF 2023-01-01   \n",
      "      1595586   0.219100   0.219100  0.000000e+00  ZZZOF 2023-02-01   \n",
      "      1595587   0.182887   0.182887  1.634783e+01  ZZZOF 2023-03-01   \n",
      "      1595588   0.190000   0.190000  0.000000e+00  ZZZOF 2023-04-01   \n",
      "      1595589   0.159500   0.159500  2.119048e+01  ZZZOF 2023-05-01   \n",
      "\n",
      "                    diff   gain   loss   avg_gain  avg_loss        rs  \\\n",
      "tic                                                                     \n",
      "A     1222632        NaN   0.00   0.00   0.000000  0.000000       NaN   \n",
      "      1222633  11.599416  11.60   0.00   5.800000  0.000000       inf   \n",
      "      1222634  22.236064  22.24   0.00  11.280000  0.000000       inf   \n",
      "      1222635 -17.799505   0.00  17.80   8.460000  4.450000  1.901124   \n",
      "      1222636  -9.137129   0.00   9.14   6.768000  5.388000  1.256125   \n",
      "...                  ...    ...    ...        ...       ...       ...   \n",
      "ZZZOF 1595585  -0.028436   0.00   0.03   0.045026  0.097740  0.460669   \n",
      "      1595586   0.035460   0.04   0.00   0.044607  0.089595  0.497874   \n",
      "      1595587  -0.036213   0.00   0.04   0.040890  0.085462  0.478455   \n",
      "      1595588   0.007113   0.01   0.00   0.038316  0.078341  0.489092   \n",
      "      1595589  -0.030500   0.00   0.03   0.035123  0.074312  0.472638   \n",
      "\n",
      "                      rsi  \n",
      "tic                        \n",
      "A     1222632         NaN  \n",
      "      1222633  100.000000  \n",
      "      1222634  100.000000  \n",
      "      1222635   65.530596  \n",
      "      1222636   55.676209  \n",
      "...                   ...  \n",
      "ZZZOF 1595585   31.538242  \n",
      "      1595586   33.238700  \n",
      "      1595587   32.361822  \n",
      "      1595588   32.844994  \n",
      "      1595589   32.094663  \n",
      "\n",
      "[1832587 rows x 18 columns]\n"
     ]
    }
   ],
   "source": [
    "import pandas as pd\n",
    "\n",
    "\n",
    "df = pd.read_csv(\"YFinance_data_cleaned.csv\")\n",
    "df['date'] = pd.to_datetime(df['yyyy'].astype(str) + df['mm'].astype(str), format='%Y%m')\n",
    "df.sort_values(by=['tic', 'date'], inplace=True)\n",
    "def calculate_monthly_rsi(df):\n",
    "    df['diff'] = df['Adj Close'].diff(1)\n",
    "    df['gain'] = df['diff'].clip(lower=0).round(2).fillna(0)\n",
    "    df['loss'] = df['diff'].clip(upper=0).abs().round(2).fillna(0)\n",
    "    window_length = 12\n",
    "    df['avg_gain'] = df['gain'].rolling(window=window_length, min_periods=1).mean()[:window_length+1]\n",
    "    df['avg_loss'] = df['loss'].rolling(window=window_length, min_periods=1).mean()[:window_length+1]\n",
    "    for i, row in enumerate(df['avg_gain'].iloc[window_length+1:]):\n",
    "        df['avg_gain'].iloc[i + window_length + 1] =(df['avg_gain'].iloc[i + window_length] *(window_length - 1) +df['gain'].iloc[i + window_length + 1])/ window_length\n",
    "    for i, row in enumerate(df['avg_loss'].iloc[window_length+1:]):\n",
    "        df['avg_loss'].iloc[i + window_length + 1] =(df['avg_loss'].iloc[i + window_length] * (window_length - 1) + df['loss'].iloc[i + window_length + 1])/window_length\n",
    "        df['rs'] = df['avg_gain'] / df['avg_loss']\n",
    "        df['rsi'] = 100 - (100 / (1.0 + df['rs']))\n",
    "    return df\n",
    "\n",
    "rsi_data = df.groupby('tic').apply(calculate_monthly_rsi)\n",
    "\n",
    "print(rsi_data)\n"
   ]
  },
  {
   "cell_type": "code",
   "execution_count": 183,
   "metadata": {},
   "outputs": [],
   "source": [
    "rsi_data1 = rsi_data.drop(columns=['tic'])\n",
    "rsi_data= rsi_data1.reset_index().dropna()\n",
    "#Here only the first column is dropped cos you cant have RSI on the first data\n",
    "rsi_data.to_pickle(\"rsi_data.pkl\")"
   ]
  },
  {
   "cell_type": "code",
   "execution_count": 192,
   "metadata": {},
   "outputs": [],
   "source": [
    "rsi_data = rsi_data.rename(columns={'yyyy': 'year', 'mm':'month'})\n",
    "cri = pd.read_pickle(\"cri_compustat_merged_v5.pkl\")\n",
    "cri1 = cri.merge(rsi_data, on=['year','month','tic'], how='inner')\n",
    "cri1.to_pickle(\"cri_yfinance_RSI.pkl\")\n"
   ]
  },
  {
   "cell_type": "markdown",
   "metadata": {},
   "source": [
    "Stock Market Indicators:\n",
    "Stock volatility.\n",
    "Beta (compared to a global market index like MSCI World Index).\n",
    "Trading volume.\n",
    "Stock price momentum.\n",
    "\n",
    "\n",
    "these features im getting since our data is monthly then ill be taking monthly averages right or do we want High & Low & mean also"
   ]
  },
  {
   "cell_type": "code",
   "execution_count": 17,
   "metadata": {},
   "outputs": [],
   "source": [
    "def download_data(ticker, _start =dt.date(2000,1,1), _end = dt.date(2023,5,31)):\n",
    "    return yf.download(ticker, start=_start, end = _end)\n",
    "    "
   ]
  },
  {
   "cell_type": "code",
   "execution_count": null,
   "metadata": {},
   "outputs": [],
   "source": [
    "company_PV_data = pd.DataFrame()\n",
    "unique_Tickers = compustat_data_ALL['tic'].unique()\n",
    "for i in unique_Tickers:\n",
    "    try:\n",
    "        temp_df = download_data(i) \n",
    "        temp_df.reset_index(inplace=True)\n",
    "        temp_df['yyyy'] = temp_df.Date.apply(lambda x: x.year)\n",
    "        temp_df['mm'] = temp_df.Date.apply(lambda x: x.month)\n",
    "        temp_df.drop(['Date'],axis=1, inplace=True)\n",
    "        grouped = temp_df.groupby(by = ['yyyy','mm']).mean()\n",
    "        grouped.reset_index(inplace=True)\n",
    "        grouped['tic'] = i\n",
    "        company_PV_data = pd.concat([company_PV_data, grouped])\n",
    "    except Exception as e:\n",
    "        print(e)\n"
   ]
  }
 ],
 "metadata": {
  "kernelspec": {
   "display_name": "Python 3 (ipykernel)",
   "language": "python",
   "name": "python3"
  },
  "language_info": {
   "codemirror_mode": {
    "name": "ipython",
    "version": 3
   },
   "file_extension": ".py",
   "mimetype": "text/x-python",
   "name": "python",
   "nbconvert_exporter": "python",
   "pygments_lexer": "ipython3",
   "version": "3.9.12"
  }
 },
 "nbformat": 4,
 "nbformat_minor": 2
}
