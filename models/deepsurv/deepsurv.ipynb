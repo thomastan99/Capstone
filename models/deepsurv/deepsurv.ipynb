{
 "cells": [
  {
   "cell_type": "code",
   "execution_count": 8,
   "metadata": {},
   "outputs": [
    {
     "ename": "SyntaxError",
     "evalue": "Missing parentheses in call to 'print'. Did you mean print(...)? (deep_surv.py, line 326)",
     "output_type": "error",
     "traceback": [
      "Traceback \u001b[1;36m(most recent call last)\u001b[0m:\n",
      "\u001b[0m  File \u001b[0;32mc:\\Users\\Melissa\\AppData\\Local\\Programs\\Python\\Python310\\lib\\site-packages\\IPython\\core\\interactiveshell.py:3378\u001b[0m in \u001b[0;35mrun_code\u001b[0m\n    exec(code_obj, self.user_global_ns, self.user_ns)\u001b[0m\n",
      "\u001b[0m  Cell \u001b[0;32mIn [8], line 2\u001b[0m\n    import deepsurv\u001b[0m\n",
      "\u001b[1;36m  File \u001b[1;32mc:\\Users\\Melissa\\AppData\\Local\\Programs\\Python\\Python310\\lib\\site-packages\\deepsurv\\__init__.py:1\u001b[1;36m\n\u001b[1;33m    from .deep_surv import DeepSurv\u001b[1;36m\n",
      "\u001b[1;36m  File \u001b[1;32mc:\\Users\\Melissa\\AppData\\Local\\Programs\\Python\\Python310\\lib\\site-packages\\deepsurv\\deep_surv.py:326\u001b[1;36m\u001b[0m\n\u001b[1;33m    print '[INFO] Training CoxMLP'\u001b[0m\n\u001b[1;37m    ^\u001b[0m\n\u001b[1;31mSyntaxError\u001b[0m\u001b[1;31m:\u001b[0m Missing parentheses in call to 'print'. Did you mean print(...)?\n"
     ]
    }
   ],
   "source": [
    "import pandas as pd\n",
    "import deepsurv \n",
    "from lifelines.utils import concordance_index\n"
   ]
  },
  {
   "cell_type": "code",
   "execution_count": null,
   "metadata": {},
   "outputs": [],
   "source": [
    "# Create a sample DataFrame\n",
    "file_path = \"../../../dataset/cri_compustat_merged_v8.pkl\"\n",
    "\n",
    "# Open the pickle file for reading\n",
    "with open(file_path, 'rb') as file:\n",
    "    # Load the data from the pickle file\n",
    "    df = pickle.load(file)\n",
    "\n",
    "df.head()\n"
   ]
  }
 ],
 "metadata": {
  "kernelspec": {
   "display_name": "Python 3",
   "language": "python",
   "name": "python3"
  },
  "language_info": {
   "codemirror_mode": {
    "name": "ipython",
    "version": 3
   },
   "file_extension": ".py",
   "mimetype": "text/x-python",
   "name": "python",
   "nbconvert_exporter": "python",
   "pygments_lexer": "ipython3",
   "version": "3.10.7"
  }
 },
 "nbformat": 4,
 "nbformat_minor": 2
}
