{
 "cells": [
  {
   "cell_type": "code",
   "execution_count": 1,
   "metadata": {},
   "outputs": [],
   "source": [
    "import pandas as pd\n",
    "import datetime\n",
    "from sklearn.metrics import accuracy_score,roc_auc_score,precision_score, recall_score, f1_score,ConfusionMatrixDisplay, confusion_matrix\n",
    "import numpy as np"
   ]
  },
  {
   "cell_type": "code",
   "execution_count": 11,
   "metadata": {},
   "outputs": [],
   "source": [
    "import pandas as pd\n",
    "from google.oauth2 import service_account\n",
    "import pandas as pd\n",
    "import pandas_gbq as gbq\n",
    "import json\n",
    "from pandas_gbq import to_gbq\n",
    "\n",
    "credentials_path = '../../token.json'\n",
    "\n",
    "# Authenticate with your credentials\n",
    "credentials = service_account.Credentials.from_service_account_file(\n",
    "    credentials_path, scopes=['https://www.googleapis.com/auth/bigquery'])\n",
    "\n",
    "# Set the credentials for pandas_gbq\n",
    "gbq.context.credentials = credentials"
   ]
  },
  {
   "cell_type": "code",
   "execution_count": null,
   "metadata": {},
   "outputs": [],
   "source": []
  },
  {
   "cell_type": "code",
   "execution_count": 3,
   "metadata": {},
   "outputs": [
    {
     "data": {
      "text/html": [
       "<div>\n",
       "<style scoped>\n",
       "    .dataframe tbody tr th:only-of-type {\n",
       "        vertical-align: middle;\n",
       "    }\n",
       "\n",
       "    .dataframe tbody tr th {\n",
       "        vertical-align: top;\n",
       "    }\n",
       "\n",
       "    .dataframe thead th {\n",
       "        text-align: right;\n",
       "    }\n",
       "</style>\n",
       "<table border=\"1\" class=\"dataframe\">\n",
       "  <thead>\n",
       "    <tr style=\"text-align: right;\">\n",
       "      <th></th>\n",
       "      <th>CompNo</th>\n",
       "      <th>year</th>\n",
       "      <th>month</th>\n",
       "      <th>StkIndx</th>\n",
       "      <th>STInt</th>\n",
       "      <th>dtdlevel</th>\n",
       "      <th>dtdtrend</th>\n",
       "      <th>liqnonfinlevel</th>\n",
       "      <th>liqnonfintrend</th>\n",
       "      <th>ni2talevel</th>\n",
       "      <th>...</th>\n",
       "      <th>day_sales_outstanding</th>\n",
       "      <th>working_capital_turnover</th>\n",
       "      <th>price_to_earnings</th>\n",
       "      <th>dividend_payout_ratio</th>\n",
       "      <th>retention_ratio</th>\n",
       "      <th>gross_margin_ratio</th>\n",
       "      <th>operating_profit_margin</th>\n",
       "      <th>ebitda_margin</th>\n",
       "      <th>debt_service_coverage_ratio</th>\n",
       "      <th>interest_coverage_ratio</th>\n",
       "    </tr>\n",
       "  </thead>\n",
       "  <tbody>\n",
       "    <tr>\n",
       "      <th>0</th>\n",
       "      <td>42404</td>\n",
       "      <td>2000.0</td>\n",
       "      <td>1</td>\n",
       "      <td>0.089239</td>\n",
       "      <td>0.011089</td>\n",
       "      <td>0.677551</td>\n",
       "      <td>0.332808</td>\n",
       "      <td>1.411466</td>\n",
       "      <td>0.027249</td>\n",
       "      <td>-0.148249</td>\n",
       "      <td>...</td>\n",
       "      <td>197946.597222</td>\n",
       "      <td>0.000000</td>\n",
       "      <td>-5.000000</td>\n",
       "      <td>-0.0</td>\n",
       "      <td>1.0</td>\n",
       "      <td>-5.251700e+06</td>\n",
       "      <td>-2.189250e+07</td>\n",
       "      <td>-2.185540e+07</td>\n",
       "      <td>-149041.103448</td>\n",
       "      <td>-297211.000000</td>\n",
       "    </tr>\n",
       "    <tr>\n",
       "      <th>1</th>\n",
       "      <td>37610</td>\n",
       "      <td>2000.0</td>\n",
       "      <td>1</td>\n",
       "      <td>0.089239</td>\n",
       "      <td>0.011089</td>\n",
       "      <td>0.087376</td>\n",
       "      <td>-0.524732</td>\n",
       "      <td>0.906364</td>\n",
       "      <td>-0.071829</td>\n",
       "      <td>0.000292</td>\n",
       "      <td>...</td>\n",
       "      <td>190.722132</td>\n",
       "      <td>2.177571</td>\n",
       "      <td>-1.220833</td>\n",
       "      <td>0.0</td>\n",
       "      <td>1.0</td>\n",
       "      <td>2.498284e+01</td>\n",
       "      <td>-7.402171e+01</td>\n",
       "      <td>-6.856532e+01</td>\n",
       "      <td>-0.904380</td>\n",
       "      <td>1.490291</td>\n",
       "    </tr>\n",
       "    <tr>\n",
       "      <th>2</th>\n",
       "      <td>49536</td>\n",
       "      <td>2000.0</td>\n",
       "      <td>1</td>\n",
       "      <td>0.313050</td>\n",
       "      <td>0.007314</td>\n",
       "      <td>3.693176</td>\n",
       "      <td>0.625516</td>\n",
       "      <td>1.872712</td>\n",
       "      <td>1.010148</td>\n",
       "      <td>-0.069998</td>\n",
       "      <td>...</td>\n",
       "      <td>0.000000</td>\n",
       "      <td>0.036899</td>\n",
       "      <td>-78.333333</td>\n",
       "      <td>-0.0</td>\n",
       "      <td>1.0</td>\n",
       "      <td>7.542644e+01</td>\n",
       "      <td>-2.309701e+02</td>\n",
       "      <td>-1.503731e+02</td>\n",
       "      <td>-11.081841</td>\n",
       "      <td>-430.222222</td>\n",
       "    </tr>\n",
       "    <tr>\n",
       "      <th>3</th>\n",
       "      <td>32417</td>\n",
       "      <td>2000.0</td>\n",
       "      <td>1</td>\n",
       "      <td>0.089239</td>\n",
       "      <td>0.011089</td>\n",
       "      <td>6.165654</td>\n",
       "      <td>0.863910</td>\n",
       "      <td>1.275166</td>\n",
       "      <td>0.184606</td>\n",
       "      <td>0.013360</td>\n",
       "      <td>...</td>\n",
       "      <td>269.176235</td>\n",
       "      <td>0.551135</td>\n",
       "      <td>66.510333</td>\n",
       "      <td>0.0</td>\n",
       "      <td>1.0</td>\n",
       "      <td>5.234158e+01</td>\n",
       "      <td>-2.327468e+01</td>\n",
       "      <td>-1.952816e+01</td>\n",
       "      <td>-395.933333</td>\n",
       "      <td>777.750000</td>\n",
       "    </tr>\n",
       "    <tr>\n",
       "      <th>4</th>\n",
       "      <td>44933</td>\n",
       "      <td>2000.0</td>\n",
       "      <td>1</td>\n",
       "      <td>0.089239</td>\n",
       "      <td>0.011089</td>\n",
       "      <td>0.629410</td>\n",
       "      <td>-0.874122</td>\n",
       "      <td>0.000000</td>\n",
       "      <td>0.000000</td>\n",
       "      <td>0.004436</td>\n",
       "      <td>...</td>\n",
       "      <td>0.000000</td>\n",
       "      <td>-2.766467</td>\n",
       "      <td>19.196429</td>\n",
       "      <td>0.0</td>\n",
       "      <td>1.0</td>\n",
       "      <td>7.495250e+01</td>\n",
       "      <td>3.133312e+01</td>\n",
       "      <td>4.316023e+01</td>\n",
       "      <td>0.020216</td>\n",
       "      <td>2.013002</td>\n",
       "    </tr>\n",
       "  </tbody>\n",
       "</table>\n",
       "<p>5 rows × 52 columns</p>\n",
       "</div>"
      ],
      "text/plain": [
       "   CompNo    year  month   StkIndx     STInt  dtdlevel  dtdtrend  \\\n",
       "0   42404  2000.0      1  0.089239  0.011089  0.677551  0.332808   \n",
       "1   37610  2000.0      1  0.089239  0.011089  0.087376 -0.524732   \n",
       "2   49536  2000.0      1  0.313050  0.007314  3.693176  0.625516   \n",
       "3   32417  2000.0      1  0.089239  0.011089  6.165654  0.863910   \n",
       "4   44933  2000.0      1  0.089239  0.011089  0.629410 -0.874122   \n",
       "\n",
       "   liqnonfinlevel  liqnonfintrend  ni2talevel  ...  day_sales_outstanding  \\\n",
       "0        1.411466        0.027249   -0.148249  ...          197946.597222   \n",
       "1        0.906364       -0.071829    0.000292  ...             190.722132   \n",
       "2        1.872712        1.010148   -0.069998  ...               0.000000   \n",
       "3        1.275166        0.184606    0.013360  ...             269.176235   \n",
       "4        0.000000        0.000000    0.004436  ...               0.000000   \n",
       "\n",
       "   working_capital_turnover  price_to_earnings  dividend_payout_ratio  \\\n",
       "0                  0.000000          -5.000000                   -0.0   \n",
       "1                  2.177571          -1.220833                    0.0   \n",
       "2                  0.036899         -78.333333                   -0.0   \n",
       "3                  0.551135          66.510333                    0.0   \n",
       "4                 -2.766467          19.196429                    0.0   \n",
       "\n",
       "   retention_ratio  gross_margin_ratio  operating_profit_margin  \\\n",
       "0              1.0       -5.251700e+06            -2.189250e+07   \n",
       "1              1.0        2.498284e+01            -7.402171e+01   \n",
       "2              1.0        7.542644e+01            -2.309701e+02   \n",
       "3              1.0        5.234158e+01            -2.327468e+01   \n",
       "4              1.0        7.495250e+01             3.133312e+01   \n",
       "\n",
       "   ebitda_margin  debt_service_coverage_ratio  interest_coverage_ratio  \n",
       "0  -2.185540e+07               -149041.103448           -297211.000000  \n",
       "1  -6.856532e+01                    -0.904380                 1.490291  \n",
       "2  -1.503731e+02                   -11.081841              -430.222222  \n",
       "3  -1.952816e+01                  -395.933333               777.750000  \n",
       "4   4.316023e+01                     0.020216                 2.013002  \n",
       "\n",
       "[5 rows x 52 columns]"
      ]
     },
     "execution_count": 3,
     "metadata": {},
     "output_type": "execute_result"
    }
   ],
   "source": [
    "cri_compustat_merged = pd.read_pickle(\"cri_compustat_merged_v8.pkl\")\n",
    "cri_compustat_merged.head()"
   ]
  },
  {
   "cell_type": "code",
   "execution_count": 8,
   "metadata": {},
   "outputs": [],
   "source": [
    "# us = pd.read_csv(\"y_proba_output(PHD).csv\", skiprows=3)\n",
    "\n",
    "us = read_gbq(f\"\"\"\n",
    "\n",
    "SELECT *\n",
    "FROM capstone-402105.raw_data.y_proba_output_PHD\n",
    "\n",
    "\"\"\",project_id='capstone-402105', dialect='standard')"
   ]
  },
  {
   "cell_type": "code",
   "execution_count": 14,
   "metadata": {},
   "outputs": [
    {
     "name": "stderr",
     "output_type": "stream",
     "text": [
      "100%|██████████| 1/1 [00:00<00:00, 1005.83it/s]\n"
     ]
    }
   ],
   "source": [
    "# with open('../../token.json', 'r') as token_file:\n",
    "#     token_data = json.load(token_file)\n",
    "#     project_id = token_data.get('project_id', 'default-project-id')\n",
    "\n",
    "# dataset_id = \"raw_data\"\n",
    "# table_id = 'cri_compustat_data'\n",
    "\n",
    "# to_gbq(us, destination_table=f'{project_id}.{dataset_id}.{table_id}', project_id=project_id, if_exists='replace')"
   ]
  },
  {
   "cell_type": "code",
   "execution_count": 15,
   "metadata": {},
   "outputs": [
    {
     "name": "stderr",
     "output_type": "stream",
     "text": [
      "C:\\Users\\shiho\\AppData\\Local\\Temp\\ipykernel_1624\\308508092.py:14: SettingWithCopyWarning: \n",
      "A value is trying to be set on a copy of a slice from a DataFrame\n",
      "\n",
      "See the caveats in the documentation: https://pandas.pydata.org/pandas-docs/stable/user_guide/indexing.html#returning-a-view-versus-a-copy\n",
      "  train_df_us.drop([\"CompNo\", \"year\", \"month\"], axis=1, inplace=True)\n",
      "C:\\Users\\shiho\\AppData\\Local\\Temp\\ipykernel_1624\\308508092.py:15: SettingWithCopyWarning: \n",
      "A value is trying to be set on a copy of a slice from a DataFrame\n",
      "\n",
      "See the caveats in the documentation: https://pandas.pydata.org/pandas-docs/stable/user_guide/indexing.html#returning-a-view-versus-a-copy\n",
      "  validation_df_us.drop([\"CompNo\", \"year\", \"month\"], axis=1, inplace=True)\n",
      "C:\\Users\\shiho\\AppData\\Local\\Temp\\ipykernel_1624\\308508092.py:16: SettingWithCopyWarning: \n",
      "A value is trying to be set on a copy of a slice from a DataFrame\n",
      "\n",
      "See the caveats in the documentation: https://pandas.pydata.org/pandas-docs/stable/user_guide/indexing.html#returning-a-view-versus-a-copy\n",
      "  test_df_us.drop([\"CompNo\", \"year\", \"month\"], axis=1, inplace=True)\n"
     ]
    }
   ],
   "source": [
    "us.rename(columns={'Company_number':'CompNo'}, inplace=True)\n",
    "us = us.merge(cri_compustat_merged, on=['CompNo','year','month'], how='inner')\n",
    "\n",
    "#refactor\n",
    "cols = list(us.columns)\n",
    "\n",
    "us.sort_values(by='EventDate', inplace=True)\n",
    "date2022 = datetime.datetime(2022, 1, 1)\n",
    "date2020 = datetime.datetime(2020,1,1)\n",
    "train_df_us = us[us[\"EventDate\"] < date2020]\n",
    "validation_df_us = us[(us[\"EventDate\"] >= date2020) & (us[\"EventDate\"] < date2022)]\n",
    "test_df_us = us[us[\"EventDate\"] >= date2022]\n",
    "\n",
    "train_df_us.drop([\"CompNo\", \"year\", \"month\"], axis=1, inplace=True)\n",
    "validation_df_us.drop([\"CompNo\", \"year\", \"month\"], axis=1, inplace=True)\n",
    "test_df_us.drop([\"CompNo\", \"year\", \"month\"], axis=1, inplace=True)"
   ]
  },
  {
   "cell_type": "code",
   "execution_count": 16,
   "metadata": {},
   "outputs": [],
   "source": [
    "x_train_us = train_df_us.drop('Default', axis=1)\n",
    "y_train_us = train_df_us['Default']\n",
    "x_validation_us = validation_df_us.drop('Default', axis=1)\n",
    "y_validation_us = validation_df_us['Default']\n",
    "x_test_us = test_df_us.drop('Default', axis=1)\n",
    "y_test_us = test_df_us[\"Default\"]"
   ]
  },
  {
   "cell_type": "code",
   "execution_count": 17,
   "metadata": {},
   "outputs": [],
   "source": [
    "y_pred_us = x_test_us['12_month']\n",
    "y_pred_binary_us = np.round(y_pred_us)"
   ]
  },
  {
   "cell_type": "code",
   "execution_count": 18,
   "metadata": {},
   "outputs": [
    {
     "name": "stdout",
     "output_type": "stream",
     "text": [
      "Accuracy: 0.9950775517785827\n",
      "Recall: 0.0\n",
      "Precision: 0.0\n",
      "F1 Score: 0.0\n",
      "AUC: 0.9665332567572419\n"
     ]
    },
    {
     "data": {
      "text/plain": [
       "<sklearn.metrics._plot.confusion_matrix.ConfusionMatrixDisplay at 0x28e5e1a1960>"
      ]
     },
     "execution_count": 18,
     "metadata": {},
     "output_type": "execute_result"
    },
    {
     "data": {
      "image/png": "[encoded data removed]",
      "text/plain": [
       "<Figure size 640x480 with 2 Axes>"
      ]
     },
     "metadata": {},
     "output_type": "display_data"
    }
   ],
   "source": [
    "accuracy = accuracy_score(y_test_us, y_pred_binary_us)\n",
    "recall = recall_score(y_test_us, y_pred_binary_us)\n",
    "precision = precision_score(y_test_us, y_pred_binary_us)\n",
    "f1 = f1_score(y_test_us, y_pred_binary_us)\n",
    "auc = roc_auc_score(y_test_us, y_pred_us)\n",
    "confusion = confusion_matrix(y_test_us, y_pred_binary_us)\n",
    "\n",
    "print('Accuracy:', accuracy)\n",
    "print('Recall:', recall)\n",
    "print('Precision:', precision)\n",
    "print('F1 Score:', f1)\n",
    "print('AUC:', auc)\n",
    "\n",
    "\n",
    "ConfusionMatrixDisplay(confusion).plot()"
   ]
  },
  {
   "cell_type": "code",
   "execution_count": 23,
   "metadata": {},
   "outputs": [
    {
     "name": "stdout",
     "output_type": "stream",
     "text": [
      "PRAUC: 0.2407548865060661\n",
      "average_precision_score 0.2509397113149039\n"
     ]
    }
   ],
   "source": [
    "from sklearn.metrics import precision_recall_curve, auc, average_precision_score\n",
    "\n",
    "# Compute precision and recall values\n",
    "precision, recall, _ = precision_recall_curve(y_test_us, y_pred_us)\n",
    "\n",
    "# Calculate the area under the precision-recall curve (PRAUC)\n",
    "prauc = auc(recall, precision)\n",
    "\n",
    "print('PRAUC:', prauc)\n",
    "\n",
    "ap = average_precision_score(y_test_us, y_pred_us)\n",
    "print('average_precision_score', ap)"
   ]
  }
 ],
 "metadata": {
  "kernelspec": {
   "display_name": ".venv",
   "language": "python",
   "name": "python3"
  },
  "language_info": {
   "codemirror_mode": {
    "name": "ipython",
    "version": 3
   },
   "file_extension": ".py",
   "mimetype": "text/x-python",
   "name": "python",
   "nbconvert_exporter": "python",
   "pygments_lexer": "ipython3",
   "version": "3.10.2"
  }
 },
 "nbformat": 4,
 "nbformat_minor": 2
}
