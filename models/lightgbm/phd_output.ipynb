{
 "cells": [
  {
   "cell_type": "code",
   "execution_count": 2,
   "metadata": {},
   "outputs": [],
   "source": [
    "import pandas as pd\n",
    "import datetime\n",
    "from sklearn.metrics import accuracy_score,roc_auc_score,precision_score, recall_score, f1_score,ConfusionMatrixDisplay, confusion_matrix\n",
    "import numpy as np"
   ]
  },
  {
   "cell_type": "code",
   "execution_count": 3,
   "metadata": {},
   "outputs": [
    {
     "ename": "FileNotFoundError",
     "evalue": "[Errno 2] No such file or directory: 'cri_compustat_merged_v8.pkl'",
     "output_type": "error",
     "traceback": [
      "\u001b[1;31m---------------------------------------------------------------------------\u001b[0m",
      "\u001b[1;31mFileNotFoundError\u001b[0m                         Traceback (most recent call last)",
      "\u001b[1;32mc:\\Documents\\Capstone\\models\\lightgbm\\phd_output.ipynb Cell 2\u001b[0m line \u001b[0;36m1\n\u001b[1;32m----> <a href='vscode-notebook-cell:/c%3A/Documents/Capstone/models/lightgbm/phd_output.ipynb#W2sZmlsZQ%3D%3D?line=0'>1</a>\u001b[0m cri_compustat_merged \u001b[39m=\u001b[39m pd\u001b[39m.\u001b[39;49mread_pickle(\u001b[39m\"\u001b[39;49m\u001b[39mcri_compustat_merged_v8.pkl\u001b[39;49m\u001b[39m\"\u001b[39;49m)\n\u001b[0;32m      <a href='vscode-notebook-cell:/c%3A/Documents/Capstone/models/lightgbm/phd_output.ipynb#W2sZmlsZQ%3D%3D?line=1'>2</a>\u001b[0m cri_compustat_merged\u001b[39m.\u001b[39mhead()\n",
      "File \u001b[1;32mc:\\Documents\\Capstone\\.venv\\lib\\site-packages\\pandas\\io\\pickle.py:189\u001b[0m, in \u001b[0;36mread_pickle\u001b[1;34m(filepath_or_buffer, compression, storage_options)\u001b[0m\n\u001b[0;32m    125\u001b[0m \u001b[39m\u001b[39m\u001b[39m\"\"\"\u001b[39;00m\n\u001b[0;32m    126\u001b[0m \u001b[39mLoad pickled pandas object (or any object) from file.\u001b[39;00m\n\u001b[0;32m    127\u001b[0m \n\u001b[1;32m   (...)\u001b[0m\n\u001b[0;32m    186\u001b[0m \u001b[39m4    4    9\u001b[39;00m\n\u001b[0;32m    187\u001b[0m \u001b[39m\"\"\"\u001b[39;00m\n\u001b[0;32m    188\u001b[0m excs_to_catch \u001b[39m=\u001b[39m (\u001b[39mAttributeError\u001b[39;00m, \u001b[39mImportError\u001b[39;00m, \u001b[39mModuleNotFoundError\u001b[39;00m, \u001b[39mTypeError\u001b[39;00m)\n\u001b[1;32m--> 189\u001b[0m \u001b[39mwith\u001b[39;00m get_handle(\n\u001b[0;32m    190\u001b[0m     filepath_or_buffer,\n\u001b[0;32m    191\u001b[0m     \u001b[39m\"\u001b[39;49m\u001b[39mrb\u001b[39;49m\u001b[39m\"\u001b[39;49m,\n\u001b[0;32m    192\u001b[0m     compression\u001b[39m=\u001b[39;49mcompression,\n\u001b[0;32m    193\u001b[0m     is_text\u001b[39m=\u001b[39;49m\u001b[39mFalse\u001b[39;49;00m,\n\u001b[0;32m    194\u001b[0m     storage_options\u001b[39m=\u001b[39;49mstorage_options,\n\u001b[0;32m    195\u001b[0m ) \u001b[39mas\u001b[39;00m handles:\n\u001b[0;32m    196\u001b[0m     \u001b[39m# 1) try standard library Pickle\u001b[39;00m\n\u001b[0;32m    197\u001b[0m     \u001b[39m# 2) try pickle_compat (older pandas version) to handle subclass changes\u001b[39;00m\n\u001b[0;32m    198\u001b[0m     \u001b[39m# 3) try pickle_compat with latin-1 encoding upon a UnicodeDecodeError\u001b[39;00m\n\u001b[0;32m    200\u001b[0m     \u001b[39mtry\u001b[39;00m:\n\u001b[0;32m    201\u001b[0m         \u001b[39m# TypeError for Cython complaints about object.__new__ vs Tick.__new__\u001b[39;00m\n\u001b[0;32m    202\u001b[0m         \u001b[39mtry\u001b[39;00m:\n",
      "File \u001b[1;32mc:\\Documents\\Capstone\\.venv\\lib\\site-packages\\pandas\\io\\common.py:872\u001b[0m, in \u001b[0;36mget_handle\u001b[1;34m(path_or_buf, mode, encoding, compression, memory_map, is_text, errors, storage_options)\u001b[0m\n\u001b[0;32m    863\u001b[0m         handle \u001b[39m=\u001b[39m \u001b[39mopen\u001b[39m(\n\u001b[0;32m    864\u001b[0m             handle,\n\u001b[0;32m    865\u001b[0m             ioargs\u001b[39m.\u001b[39mmode,\n\u001b[1;32m   (...)\u001b[0m\n\u001b[0;32m    868\u001b[0m             newline\u001b[39m=\u001b[39m\u001b[39m\"\u001b[39m\u001b[39m\"\u001b[39m,\n\u001b[0;32m    869\u001b[0m         )\n\u001b[0;32m    870\u001b[0m     \u001b[39melse\u001b[39;00m:\n\u001b[0;32m    871\u001b[0m         \u001b[39m# Binary mode\u001b[39;00m\n\u001b[1;32m--> 872\u001b[0m         handle \u001b[39m=\u001b[39m \u001b[39mopen\u001b[39;49m(handle, ioargs\u001b[39m.\u001b[39;49mmode)\n\u001b[0;32m    873\u001b[0m     handles\u001b[39m.\u001b[39mappend(handle)\n\u001b[0;32m    875\u001b[0m \u001b[39m# Convert BytesIO or file objects passed with an encoding\u001b[39;00m\n",
      "\u001b[1;31mFileNotFoundError\u001b[0m: [Errno 2] No such file or directory: 'cri_compustat_merged_v8.pkl'"
     ]
    }
   ],
   "source": [
    "cri_compustat_merged = pd.read_pickle(\"cri_compustat_merged_v8.pkl\")\n",
    "cri_compustat_merged.head()"
   ]
  },
  {
   "cell_type": "code",
   "execution_count": null,
   "metadata": {},
   "outputs": [],
   "source": [
    "us = pd.read_csv(\"US.csv\", skiprows=3)\n",
    "us.rename(columns={'Company_number':'CompNo'}, inplace=True)\n",
    "us = us.merge(cri_compustat_merged, on=['CompNo','year','month'], how='inner')\n",
    "\n",
    "#refactor\n",
    "cols = list(us.columns)\n",
    "\n",
    "us.sort_values(by='EventDate', inplace=True)\n",
    "date2022 = datetime.datetime(2022, 1, 1)\n",
    "date2020 = datetime.datetime(2020,1,1)\n",
    "train_df_us = us[us[\"EventDate\"] < date2020]\n",
    "validation_df_us = us[(us[\"EventDate\"] >= date2020) & (us[\"EventDate\"] < date2022)]\n",
    "test_df_us = us[us[\"EventDate\"] >= date2022]\n",
    "\n",
    "train_df_us.drop([\"CompNo\", \"year\", \"month\"], axis=1, inplace=True)\n",
    "validation_df_us.drop([\"CompNo\", \"year\", \"month\"], axis=1, inplace=True)\n",
    "test_df_us.drop([\"CompNo\", \"year\", \"month\"], axis=1, inplace=True)"
   ]
  },
  {
   "cell_type": "code",
   "execution_count": null,
   "metadata": {},
   "outputs": [],
   "source": [
    "x_train_us = train_df_us.drop('Default', axis=1)\n",
    "y_train_us = train_df_us['Default']\n",
    "x_validation_us = validation_df_us.drop('Default', axis=1)\n",
    "y_validation_us = validation_df_us['Default']\n",
    "x_test_us = test_df_us.drop('Default', axis=1)\n",
    "y_test_us = test_df_us[\"Default\"]"
   ]
  },
  {
   "cell_type": "code",
   "execution_count": null,
   "metadata": {},
   "outputs": [],
   "source": [
    "y_pred_us = x_test_us['12_month']\n",
    "y_pred_binary_us = np.round(y_pred_us)"
   ]
  },
  {
   "cell_type": "code",
   "execution_count": null,
   "metadata": {},
   "outputs": [],
   "source": [
    "accuracy = accuracy_score(y_test_us, y_pred_binary_us)\n",
    "recall = recall_score(y_test_us, y_pred_binary_us)\n",
    "precision = precision_score(y_test_us, y_pred_binary_us)\n",
    "f1 = f1_score(y_test_us, y_pred_binary_us)\n",
    "auc = roc_auc_score(y_test_us, y_pred_us)\n",
    "confusion = confusion_matrix(y_test_us, y_pred_binary_us)\n",
    "\n",
    "print('Accuracy:', accuracy)\n",
    "print('Recall:', recall)\n",
    "print('Precision:', precision)\n",
    "print('F1 Score:', f1)\n",
    "print('AUC:', auc)\n",
    "\n",
    "\n",
    "ConfusionMatrixDisplay(confusion).plot()"
   ]
  },
  {
   "cell_type": "code",
   "execution_count": null,
   "metadata": {},
   "outputs": [],
   "source": [
    "us.isna().sum()"
   ]
  }
 ],
 "metadata": {
  "kernelspec": {
   "display_name": ".venv",
   "language": "python",
   "name": "python3"
  },
  "language_info": {
   "codemirror_mode": {
    "name": "ipython",
    "version": 3
   },
   "file_extension": ".py",
   "mimetype": "text/x-python",
   "name": "python",
   "nbconvert_exporter": "python",
   "pygments_lexer": "ipython3",
   "version": "3.10.2"
  }
 },
 "nbformat": 4,
 "nbformat_minor": 2
}
