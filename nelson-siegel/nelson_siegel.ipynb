{
 "cells": [
  {
   "cell_type": "code",
   "execution_count": 1,
   "outputs": [],
   "source": [
    "from google.oauth2 import service_account\n",
    "import pandas as pd\n",
    "import pandas_gbq as gbq \n",
    "from pandas_gbq import to_gbq, read_gbq\n",
    "import matplotlib.pyplot as plt\n",
    "\n",
    "credentials_path = 'token.json'\n",
    "# Authenticate with your credentials\n",
    "credentials = service_account.Credentials.from_service_account_file(\n",
    "    credentials_path, scopes=['https://www.googleapis.com/auth/bigquery'])\n",
    "# Set the credentials for pandas_gbq\n",
    "gbq.context.credentials = credentials"
   ],
   "metadata": {
    "collapsed": false,
    "ExecuteTime": {
     "end_time": "2023-11-11T12:08:28.066994Z",
     "start_time": "2023-11-11T12:08:27.276951Z"
    }
   },
   "id": "e0846dc82676a6eb"
  },
  {
   "cell_type": "code",
   "execution_count": 2,
   "outputs": [
    {
     "name": "stderr",
     "output_type": "stream",
     "text": [
      "/Users/ryantan/Documents/github/Capstone/venv/lib/python3.9/site-packages/urllib3/__init__.py:34: NotOpenSSLWarning: urllib3 v2.0 only supports OpenSSL 1.1.1+, currently the 'ssl' module is compiled with 'LibreSSL 2.8.3'. See: https://github.com/urllib3/urllib3/issues/3020\n",
      "  warnings.warn(\n"
     ]
    },
    {
     "name": "stdout",
     "output_type": "stream",
     "text": [
      "Downloading: 100%|\u001B[32m██████████\u001B[0m|\n"
     ]
    }
   ],
   "source": [
    "df = read_gbq(f\"\"\"\n",
    "\n",
    "SELECT *\n",
    "FROM capstone-402105.capstone.final_lgbm_output\n",
    "\n",
    "\"\"\",project_id='capstone-402105', dialect='standard')"
   ],
   "metadata": {
    "collapsed": false,
    "ExecuteTime": {
     "end_time": "2023-11-11T12:08:48.226056Z",
     "start_time": "2023-11-11T12:08:31.639690Z"
    }
   },
   "id": "44afcf08951033ed"
  },
  {
   "cell_type": "code",
   "execution_count": 3,
   "outputs": [
    {
     "data": {
      "text/plain": "    1_month  3_months  6_months  12_months  24_months  36_months  60_months  \\\n0  0.000022  0.000087  0.000386   0.001671   0.005755   0.011117   0.041862   \n1  0.000041  0.000222  0.000571   0.001750   0.009321   0.017166   0.038176   \n2  0.000014  0.000054  0.000166   0.000575   0.002565   0.004985   0.012876   \n3  0.000020  0.000061  0.000236   0.001184   0.003199   0.010436   0.020249   \n4  0.000013  0.000053  0.000152   0.000444   0.001002   0.001953   0.006019   \n\n   CompNo                 EventDate  \n0   49535 2022-01-31 00:00:00+00:00  \n1   30444 2022-01-31 00:00:00+00:00  \n2   30415 2022-01-31 00:00:00+00:00  \n3   30404 2022-01-31 00:00:00+00:00  \n4   27120 2022-01-31 00:00:00+00:00  ",
      "text/html": "<div>\n<style scoped>\n    .dataframe tbody tr th:only-of-type {\n        vertical-align: middle;\n    }\n\n    .dataframe tbody tr th {\n        vertical-align: top;\n    }\n\n    .dataframe thead th {\n        text-align: right;\n    }\n</style>\n<table border=\"1\" class=\"dataframe\">\n  <thead>\n    <tr style=\"text-align: right;\">\n      <th></th>\n      <th>1_month</th>\n      <th>3_months</th>\n      <th>6_months</th>\n      <th>12_months</th>\n      <th>24_months</th>\n      <th>36_months</th>\n      <th>60_months</th>\n      <th>CompNo</th>\n      <th>EventDate</th>\n    </tr>\n  </thead>\n  <tbody>\n    <tr>\n      <th>0</th>\n      <td>0.000022</td>\n      <td>0.000087</td>\n      <td>0.000386</td>\n      <td>0.001671</td>\n      <td>0.005755</td>\n      <td>0.011117</td>\n      <td>0.041862</td>\n      <td>49535</td>\n      <td>2022-01-31 00:00:00+00:00</td>\n    </tr>\n    <tr>\n      <th>1</th>\n      <td>0.000041</td>\n      <td>0.000222</td>\n      <td>0.000571</td>\n      <td>0.001750</td>\n      <td>0.009321</td>\n      <td>0.017166</td>\n      <td>0.038176</td>\n      <td>30444</td>\n      <td>2022-01-31 00:00:00+00:00</td>\n    </tr>\n    <tr>\n      <th>2</th>\n      <td>0.000014</td>\n      <td>0.000054</td>\n      <td>0.000166</td>\n      <td>0.000575</td>\n      <td>0.002565</td>\n      <td>0.004985</td>\n      <td>0.012876</td>\n      <td>30415</td>\n      <td>2022-01-31 00:00:00+00:00</td>\n    </tr>\n    <tr>\n      <th>3</th>\n      <td>0.000020</td>\n      <td>0.000061</td>\n      <td>0.000236</td>\n      <td>0.001184</td>\n      <td>0.003199</td>\n      <td>0.010436</td>\n      <td>0.020249</td>\n      <td>30404</td>\n      <td>2022-01-31 00:00:00+00:00</td>\n    </tr>\n    <tr>\n      <th>4</th>\n      <td>0.000013</td>\n      <td>0.000053</td>\n      <td>0.000152</td>\n      <td>0.000444</td>\n      <td>0.001002</td>\n      <td>0.001953</td>\n      <td>0.006019</td>\n      <td>27120</td>\n      <td>2022-01-31 00:00:00+00:00</td>\n    </tr>\n  </tbody>\n</table>\n</div>"
     },
     "execution_count": 3,
     "metadata": {},
     "output_type": "execute_result"
    }
   ],
   "source": [
    "df.head()"
   ],
   "metadata": {
    "collapsed": false,
    "ExecuteTime": {
     "end_time": "2023-11-11T12:08:51.390437Z",
     "start_time": "2023-11-11T12:08:51.374006Z"
    }
   },
   "id": "6b84281d5b79ac93"
  },
  {
   "cell_type": "code",
   "execution_count": 6,
   "outputs": [],
   "source": [
    "df['date'] = pd.to_datetime(df['EventDate'])\n",
    "df['year'] = df['date'].dt.year\n",
    "df['month'] = df['date'].dt.month"
   ],
   "metadata": {
    "collapsed": false,
    "ExecuteTime": {
     "end_time": "2023-11-11T12:20:12.838625Z",
     "start_time": "2023-11-11T12:20:12.830700Z"
    }
   },
   "id": "798966b284b61060"
  },
  {
   "cell_type": "code",
   "execution_count": 7,
   "outputs": [
    {
     "data": {
      "text/plain": "    1_month  3_months  6_months  12_months  24_months  36_months  60_months  \\\n0  0.000022  0.000087  0.000386   0.001671   0.005755   0.011117   0.041862   \n1  0.000041  0.000222  0.000571   0.001750   0.009321   0.017166   0.038176   \n2  0.000014  0.000054  0.000166   0.000575   0.002565   0.004985   0.012876   \n3  0.000020  0.000061  0.000236   0.001184   0.003199   0.010436   0.020249   \n4  0.000013  0.000053  0.000152   0.000444   0.001002   0.001953   0.006019   \n\n   CompNo                 EventDate                      date  year  month  \n0   49535 2022-01-31 00:00:00+00:00 2022-01-31 00:00:00+00:00  2022      1  \n1   30444 2022-01-31 00:00:00+00:00 2022-01-31 00:00:00+00:00  2022      1  \n2   30415 2022-01-31 00:00:00+00:00 2022-01-31 00:00:00+00:00  2022      1  \n3   30404 2022-01-31 00:00:00+00:00 2022-01-31 00:00:00+00:00  2022      1  \n4   27120 2022-01-31 00:00:00+00:00 2022-01-31 00:00:00+00:00  2022      1  ",
      "text/html": "<div>\n<style scoped>\n    .dataframe tbody tr th:only-of-type {\n        vertical-align: middle;\n    }\n\n    .dataframe tbody tr th {\n        vertical-align: top;\n    }\n\n    .dataframe thead th {\n        text-align: right;\n    }\n</style>\n<table border=\"1\" class=\"dataframe\">\n  <thead>\n    <tr style=\"text-align: right;\">\n      <th></th>\n      <th>1_month</th>\n      <th>3_months</th>\n      <th>6_months</th>\n      <th>12_months</th>\n      <th>24_months</th>\n      <th>36_months</th>\n      <th>60_months</th>\n      <th>CompNo</th>\n      <th>EventDate</th>\n      <th>date</th>\n      <th>year</th>\n      <th>month</th>\n    </tr>\n  </thead>\n  <tbody>\n    <tr>\n      <th>0</th>\n      <td>0.000022</td>\n      <td>0.000087</td>\n      <td>0.000386</td>\n      <td>0.001671</td>\n      <td>0.005755</td>\n      <td>0.011117</td>\n      <td>0.041862</td>\n      <td>49535</td>\n      <td>2022-01-31 00:00:00+00:00</td>\n      <td>2022-01-31 00:00:00+00:00</td>\n      <td>2022</td>\n      <td>1</td>\n    </tr>\n    <tr>\n      <th>1</th>\n      <td>0.000041</td>\n      <td>0.000222</td>\n      <td>0.000571</td>\n      <td>0.001750</td>\n      <td>0.009321</td>\n      <td>0.017166</td>\n      <td>0.038176</td>\n      <td>30444</td>\n      <td>2022-01-31 00:00:00+00:00</td>\n      <td>2022-01-31 00:00:00+00:00</td>\n      <td>2022</td>\n      <td>1</td>\n    </tr>\n    <tr>\n      <th>2</th>\n      <td>0.000014</td>\n      <td>0.000054</td>\n      <td>0.000166</td>\n      <td>0.000575</td>\n      <td>0.002565</td>\n      <td>0.004985</td>\n      <td>0.012876</td>\n      <td>30415</td>\n      <td>2022-01-31 00:00:00+00:00</td>\n      <td>2022-01-31 00:00:00+00:00</td>\n      <td>2022</td>\n      <td>1</td>\n    </tr>\n    <tr>\n      <th>3</th>\n      <td>0.000020</td>\n      <td>0.000061</td>\n      <td>0.000236</td>\n      <td>0.001184</td>\n      <td>0.003199</td>\n      <td>0.010436</td>\n      <td>0.020249</td>\n      <td>30404</td>\n      <td>2022-01-31 00:00:00+00:00</td>\n      <td>2022-01-31 00:00:00+00:00</td>\n      <td>2022</td>\n      <td>1</td>\n    </tr>\n    <tr>\n      <th>4</th>\n      <td>0.000013</td>\n      <td>0.000053</td>\n      <td>0.000152</td>\n      <td>0.000444</td>\n      <td>0.001002</td>\n      <td>0.001953</td>\n      <td>0.006019</td>\n      <td>27120</td>\n      <td>2022-01-31 00:00:00+00:00</td>\n      <td>2022-01-31 00:00:00+00:00</td>\n      <td>2022</td>\n      <td>1</td>\n    </tr>\n  </tbody>\n</table>\n</div>"
     },
     "execution_count": 7,
     "metadata": {},
     "output_type": "execute_result"
    }
   ],
   "source": [
    "df.head()"
   ],
   "metadata": {
    "collapsed": false,
    "ExecuteTime": {
     "end_time": "2023-11-11T12:20:18.944805Z",
     "start_time": "2023-11-11T12:20:18.940724Z"
    }
   },
   "id": "9b63146e3f077e93"
  },
  {
   "cell_type": "code",
   "execution_count": 14,
   "outputs": [
    {
     "data": {
      "text/plain": "array([4.14392248e-05, 2.22181131e-04, 5.70749853e-04, 1.74968246e-03,\n       9.32066110e-03, 1.71657189e-02, 3.81764763e-02])"
     },
     "execution_count": 14,
     "metadata": {},
     "output_type": "execute_result"
    }
   ],
   "source": [
    "y = df.loc[(df['CompNo'] == 30444) & (df['year'] == 2022) & (df['month'] == 1)]\n",
    "y = y.iloc[:, 0:7]\n",
    "y = y.T.to_numpy().flatten()\n",
    "y"
   ],
   "metadata": {
    "collapsed": false,
    "ExecuteTime": {
     "end_time": "2023-11-11T12:22:14.929105Z",
     "start_time": "2023-11-11T12:22:14.922345Z"
    }
   },
   "id": "9335dc28538afcec"
  },
  {
   "cell_type": "code",
   "execution_count": 18,
   "outputs": [],
   "source": [
    "import numpy as np\n",
    "from nelson_siegel_svensson.calibrate import calibrate_ns_ols\n",
    "from matplotlib.pyplot import plot\n",
    "\n",
    "def plot_nelson_siegel(y):\n",
    "    \"\"\"\n",
    "    Plot nelson siegel curve for 1,3,6,12,24,36 and 60 month probability of default\n",
    "    :param y: Numpy array of default probabilities \n",
    "    \"\"\"\n",
    "    t = np.array([1, 3, 6, 12, 24, 36, 60])\n",
    "    assert len(y == len(t)), f\"Length of y array not equal to {len(t)}\"\n",
    "    curve, status = calibrate_ns_ols(t, y, tau0=1.0)  # starting value of 1.0 for the optimization of tau\n",
    "    assert status.success\n",
    "    plot(t, curve(t))"
   ],
   "metadata": {
    "collapsed": false,
    "ExecuteTime": {
     "end_time": "2023-11-11T12:22:59.039860Z",
     "start_time": "2023-11-11T12:22:59.032718Z"
    }
   },
   "id": "6d4b06c79a5f38cd"
  },
  {
   "cell_type": "code",
   "execution_count": 19,
   "outputs": [
    {
     "data": {
      "text/plain": "<Figure size 640x480 with 1 Axes>",
      "image/png": "[encoded data removed]"
     },
     "metadata": {},
     "output_type": "display_data"
    }
   ],
   "source": [
    "plot_nelson_siegel(y)"
   ],
   "metadata": {
    "collapsed": false,
    "ExecuteTime": {
     "end_time": "2023-11-11T12:23:00.138170Z",
     "start_time": "2023-11-11T12:23:00.053711Z"
    }
   },
   "id": "7140766eef3ada4a"
  },
  {
   "cell_type": "code",
   "execution_count": null,
   "outputs": [],
   "source": [],
   "metadata": {
    "collapsed": false
   },
   "id": "1a7a4cd021240df3"
  }
 ],
 "metadata": {
  "kernelspec": {
   "display_name": "Python 3",
   "language": "python",
   "name": "python3"
  },
  "language_info": {
   "codemirror_mode": {
    "name": "ipython",
    "version": 2
   },
   "file_extension": ".py",
   "mimetype": "text/x-python",
   "name": "python",
   "nbconvert_exporter": "python",
   "pygments_lexer": "ipython2",
   "version": "2.7.6"
  }
 },
 "nbformat": 4,
 "nbformat_minor": 5
}
