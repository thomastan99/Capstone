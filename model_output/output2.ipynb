{
 "cells": [
  {
   "cell_type": "code",
   "execution_count": 2,
   "id": "initial_id",
   "metadata": {
    "collapsed": true,
    "ExecuteTime": {
     "end_time": "2023-10-22T13:01:41.627531Z",
     "start_time": "2023-10-22T13:01:41.615479Z"
    }
   },
   "outputs": [],
   "source": [
    "import pandas as pd"
   ]
  },
  {
   "cell_type": "code",
   "execution_count": 3,
   "outputs": [],
   "source": [
    "cri_data = pd.read_pickle('./CRI_xy_PHD.pkl')"
   ],
   "metadata": {
    "collapsed": false,
    "ExecuteTime": {
     "end_time": "2023-10-22T13:01:41.825023Z",
     "start_time": "2023-10-22T13:01:41.694866Z"
    }
   },
   "id": "faef558dd54e5a14"
  },
  {
   "cell_type": "code",
   "execution_count": 4,
   "outputs": [
    {
     "data": {
      "text/plain": "              CompNo    year  month   StkIndx     STInt  dtdlevel  dtdtrend  \\\n489123    29823000.0  1991.0      1  0.045126  0.013825  1.810500  0.000000   \n1714449  125959000.0  1991.0      1  0.045126  0.013825  7.910572  0.000000   \n64808     27304000.0  1991.0      1  0.045126  0.013825  6.080297  0.000000   \n192576    27954000.0  1991.0      1  0.045126  0.013825  2.527857  0.000000   \n539304    30244000.0  1991.0      1  0.045126  0.013825  4.337317  0.000000   \n...              ...     ...    ...       ...       ...       ...       ...   \n2232504  200510000.0  2023.0      7  0.015960 -0.010290  0.958419 -0.856131   \n1773536  131684000.0  2023.0      7  0.110445  0.009928  1.289534  0.003536   \n1891924  203351000.0  2023.0      7  0.110445  0.009928  0.440333 -0.085914   \n2240221  211546000.0  2023.0      7  0.015960 -0.010290  7.349152 -0.538347   \n2240222  211664000.0  2023.0      7  0.015960 -0.010290  4.090032  0.000000   \n\n         liqnonfinlevel  liqnonfintrend  ni2talevel  ...       m2b     sigma  \\\n489123         0.983576       -0.268833    0.003667  ...  0.628782  0.221843   \n1714449        0.538243        0.018112    0.016005  ...  3.515291  0.083693   \n64808          0.582996       -0.042528    0.006643  ...  1.674587  0.075069   \n192576         1.041157       -0.129895   -0.010749  ...  1.075097  0.191047   \n539304         0.656583        0.193871    0.007802  ...  2.520483  0.182062   \n...                 ...             ...         ...  ...       ...       ...   \n2232504       -1.198725        0.791549   -0.117400  ...  1.050679  0.523611   \n1773536        0.000000        0.000000   -0.001286  ...  0.718872  0.084515   \n1891924       -1.474937        0.186534   -0.010621  ...  0.549145  0.217249   \n2240221        2.291604        0.000000   -0.088621  ...  4.004365  0.225663   \n2240222        1.198122        0.000000   -0.074286  ...  4.218655  0.333307   \n\n         liqfinlevel  lqfintrend  DTDmedianFin  DTDmedianNonFin  dummy297fin  \\\n489123       0.00000    0.000000      0.000000         2.812531            0   \n1714449      0.00000    0.000000      0.000000         2.812531            0   \n64808        0.00000    0.000000      0.000000         2.812531            0   \n192576       0.00000    0.000000      0.000000         2.812531            0   \n539304       0.00000    0.000000      0.000000         2.812531            0   \n...              ...         ...           ...              ...          ...   \n2232504      0.00000    0.000000      0.000000         2.087496            0   \n1773536     -3.26612   -0.090215      2.596495         0.000000            1   \n1891924      0.00000    0.000000      0.000000         3.244875            0   \n2240221      0.00000    0.000000      0.000000         2.087496            0   \n2240222      0.00000    0.000000      0.000000         2.087496            0   \n\n         Default  day       date  \n489123         0    1 1991-01-01  \n1714449        0    1 1991-01-01  \n64808          0    1 1991-01-01  \n192576         0    1 1991-01-01  \n539304         0    1 1991-01-01  \n...          ...  ...        ...  \n2232504        0    1 2023-07-01  \n1773536        0    1 2023-07-01  \n1891924        0    1 2023-07-01  \n2240221        0    1 2023-07-01  \n2240222        0    1 2023-07-01  \n\n[2240223 rows x 23 columns]",
      "text/html": "<div>\n<style scoped>\n    .dataframe tbody tr th:only-of-type {\n        vertical-align: middle;\n    }\n\n    .dataframe tbody tr th {\n        vertical-align: top;\n    }\n\n    .dataframe thead th {\n        text-align: right;\n    }\n</style>\n<table border=\"1\" class=\"dataframe\">\n  <thead>\n    <tr style=\"text-align: right;\">\n      <th></th>\n      <th>CompNo</th>\n      <th>year</th>\n      <th>month</th>\n      <th>StkIndx</th>\n      <th>STInt</th>\n      <th>dtdlevel</th>\n      <th>dtdtrend</th>\n      <th>liqnonfinlevel</th>\n      <th>liqnonfintrend</th>\n      <th>ni2talevel</th>\n      <th>...</th>\n      <th>m2b</th>\n      <th>sigma</th>\n      <th>liqfinlevel</th>\n      <th>lqfintrend</th>\n      <th>DTDmedianFin</th>\n      <th>DTDmedianNonFin</th>\n      <th>dummy297fin</th>\n      <th>Default</th>\n      <th>day</th>\n      <th>date</th>\n    </tr>\n  </thead>\n  <tbody>\n    <tr>\n      <th>489123</th>\n      <td>29823000.0</td>\n      <td>1991.0</td>\n      <td>1</td>\n      <td>0.045126</td>\n      <td>0.013825</td>\n      <td>1.810500</td>\n      <td>0.000000</td>\n      <td>0.983576</td>\n      <td>-0.268833</td>\n      <td>0.003667</td>\n      <td>...</td>\n      <td>0.628782</td>\n      <td>0.221843</td>\n      <td>0.00000</td>\n      <td>0.000000</td>\n      <td>0.000000</td>\n      <td>2.812531</td>\n      <td>0</td>\n      <td>0</td>\n      <td>1</td>\n      <td>1991-01-01</td>\n    </tr>\n    <tr>\n      <th>1714449</th>\n      <td>125959000.0</td>\n      <td>1991.0</td>\n      <td>1</td>\n      <td>0.045126</td>\n      <td>0.013825</td>\n      <td>7.910572</td>\n      <td>0.000000</td>\n      <td>0.538243</td>\n      <td>0.018112</td>\n      <td>0.016005</td>\n      <td>...</td>\n      <td>3.515291</td>\n      <td>0.083693</td>\n      <td>0.00000</td>\n      <td>0.000000</td>\n      <td>0.000000</td>\n      <td>2.812531</td>\n      <td>0</td>\n      <td>0</td>\n      <td>1</td>\n      <td>1991-01-01</td>\n    </tr>\n    <tr>\n      <th>64808</th>\n      <td>27304000.0</td>\n      <td>1991.0</td>\n      <td>1</td>\n      <td>0.045126</td>\n      <td>0.013825</td>\n      <td>6.080297</td>\n      <td>0.000000</td>\n      <td>0.582996</td>\n      <td>-0.042528</td>\n      <td>0.006643</td>\n      <td>...</td>\n      <td>1.674587</td>\n      <td>0.075069</td>\n      <td>0.00000</td>\n      <td>0.000000</td>\n      <td>0.000000</td>\n      <td>2.812531</td>\n      <td>0</td>\n      <td>0</td>\n      <td>1</td>\n      <td>1991-01-01</td>\n    </tr>\n    <tr>\n      <th>192576</th>\n      <td>27954000.0</td>\n      <td>1991.0</td>\n      <td>1</td>\n      <td>0.045126</td>\n      <td>0.013825</td>\n      <td>2.527857</td>\n      <td>0.000000</td>\n      <td>1.041157</td>\n      <td>-0.129895</td>\n      <td>-0.010749</td>\n      <td>...</td>\n      <td>1.075097</td>\n      <td>0.191047</td>\n      <td>0.00000</td>\n      <td>0.000000</td>\n      <td>0.000000</td>\n      <td>2.812531</td>\n      <td>0</td>\n      <td>0</td>\n      <td>1</td>\n      <td>1991-01-01</td>\n    </tr>\n    <tr>\n      <th>539304</th>\n      <td>30244000.0</td>\n      <td>1991.0</td>\n      <td>1</td>\n      <td>0.045126</td>\n      <td>0.013825</td>\n      <td>4.337317</td>\n      <td>0.000000</td>\n      <td>0.656583</td>\n      <td>0.193871</td>\n      <td>0.007802</td>\n      <td>...</td>\n      <td>2.520483</td>\n      <td>0.182062</td>\n      <td>0.00000</td>\n      <td>0.000000</td>\n      <td>0.000000</td>\n      <td>2.812531</td>\n      <td>0</td>\n      <td>0</td>\n      <td>1</td>\n      <td>1991-01-01</td>\n    </tr>\n    <tr>\n      <th>...</th>\n      <td>...</td>\n      <td>...</td>\n      <td>...</td>\n      <td>...</td>\n      <td>...</td>\n      <td>...</td>\n      <td>...</td>\n      <td>...</td>\n      <td>...</td>\n      <td>...</td>\n      <td>...</td>\n      <td>...</td>\n      <td>...</td>\n      <td>...</td>\n      <td>...</td>\n      <td>...</td>\n      <td>...</td>\n      <td>...</td>\n      <td>...</td>\n      <td>...</td>\n      <td>...</td>\n    </tr>\n    <tr>\n      <th>2232504</th>\n      <td>200510000.0</td>\n      <td>2023.0</td>\n      <td>7</td>\n      <td>0.015960</td>\n      <td>-0.010290</td>\n      <td>0.958419</td>\n      <td>-0.856131</td>\n      <td>-1.198725</td>\n      <td>0.791549</td>\n      <td>-0.117400</td>\n      <td>...</td>\n      <td>1.050679</td>\n      <td>0.523611</td>\n      <td>0.00000</td>\n      <td>0.000000</td>\n      <td>0.000000</td>\n      <td>2.087496</td>\n      <td>0</td>\n      <td>0</td>\n      <td>1</td>\n      <td>2023-07-01</td>\n    </tr>\n    <tr>\n      <th>1773536</th>\n      <td>131684000.0</td>\n      <td>2023.0</td>\n      <td>7</td>\n      <td>0.110445</td>\n      <td>0.009928</td>\n      <td>1.289534</td>\n      <td>0.003536</td>\n      <td>0.000000</td>\n      <td>0.000000</td>\n      <td>-0.001286</td>\n      <td>...</td>\n      <td>0.718872</td>\n      <td>0.084515</td>\n      <td>-3.26612</td>\n      <td>-0.090215</td>\n      <td>2.596495</td>\n      <td>0.000000</td>\n      <td>1</td>\n      <td>0</td>\n      <td>1</td>\n      <td>2023-07-01</td>\n    </tr>\n    <tr>\n      <th>1891924</th>\n      <td>203351000.0</td>\n      <td>2023.0</td>\n      <td>7</td>\n      <td>0.110445</td>\n      <td>0.009928</td>\n      <td>0.440333</td>\n      <td>-0.085914</td>\n      <td>-1.474937</td>\n      <td>0.186534</td>\n      <td>-0.010621</td>\n      <td>...</td>\n      <td>0.549145</td>\n      <td>0.217249</td>\n      <td>0.00000</td>\n      <td>0.000000</td>\n      <td>0.000000</td>\n      <td>3.244875</td>\n      <td>0</td>\n      <td>0</td>\n      <td>1</td>\n      <td>2023-07-01</td>\n    </tr>\n    <tr>\n      <th>2240221</th>\n      <td>211546000.0</td>\n      <td>2023.0</td>\n      <td>7</td>\n      <td>0.015960</td>\n      <td>-0.010290</td>\n      <td>7.349152</td>\n      <td>-0.538347</td>\n      <td>2.291604</td>\n      <td>0.000000</td>\n      <td>-0.088621</td>\n      <td>...</td>\n      <td>4.004365</td>\n      <td>0.225663</td>\n      <td>0.00000</td>\n      <td>0.000000</td>\n      <td>0.000000</td>\n      <td>2.087496</td>\n      <td>0</td>\n      <td>0</td>\n      <td>1</td>\n      <td>2023-07-01</td>\n    </tr>\n    <tr>\n      <th>2240222</th>\n      <td>211664000.0</td>\n      <td>2023.0</td>\n      <td>7</td>\n      <td>0.015960</td>\n      <td>-0.010290</td>\n      <td>4.090032</td>\n      <td>0.000000</td>\n      <td>1.198122</td>\n      <td>0.000000</td>\n      <td>-0.074286</td>\n      <td>...</td>\n      <td>4.218655</td>\n      <td>0.333307</td>\n      <td>0.00000</td>\n      <td>0.000000</td>\n      <td>0.000000</td>\n      <td>2.087496</td>\n      <td>0</td>\n      <td>0</td>\n      <td>1</td>\n      <td>2023-07-01</td>\n    </tr>\n  </tbody>\n</table>\n<p>2240223 rows × 23 columns</p>\n</div>"
     },
     "execution_count": 4,
     "metadata": {},
     "output_type": "execute_result"
    }
   ],
   "source": [
    "cri_data"
   ],
   "metadata": {
    "collapsed": false,
    "ExecuteTime": {
     "end_time": "2023-10-22T13:01:47.533877Z",
     "start_time": "2023-10-22T13:01:47.391520Z"
    }
   },
   "id": "9ae37786105eb0f9"
  },
  {
   "cell_type": "code",
   "execution_count": 20,
   "outputs": [],
   "source": [
    "compustat_data = pd.read_pickle('./compustat_inputed_v1')"
   ],
   "metadata": {
    "collapsed": false,
    "ExecuteTime": {
     "end_time": "2023-10-22T12:38:58.361035Z",
     "start_time": "2023-10-22T12:38:58.011281Z"
    }
   },
   "id": "6a35c9878a537823"
  },
  {
   "cell_type": "code",
   "execution_count": 21,
   "outputs": [
    {
     "data": {
      "text/plain": "(2374929, 44)"
     },
     "execution_count": 21,
     "metadata": {},
     "output_type": "execute_result"
    }
   ],
   "source": [
    "compustat_data.shape"
   ],
   "metadata": {
    "collapsed": false,
    "ExecuteTime": {
     "end_time": "2023-10-22T12:38:58.363783Z",
     "start_time": "2023-10-22T12:38:58.361580Z"
    }
   },
   "id": "ff9fdb000852bdb0"
  },
  {
   "cell_type": "code",
   "execution_count": 22,
   "outputs": [
    {
     "data": {
      "text/plain": "                            pct_inf\ngvkey                      0.000000\ndatadate                   0.000000\ntic                        0.000000\nsic                        0.000000\nta                         0.000000\nlt                         0.000000\ndlc                        0.000000\ndtp                        0.000000\nche                        0.000000\nlct                        0.000000\nact                        0.000000\ninvtq                      0.000000\nintanq                     0.000000\noiadp                      0.005516\ntxp                        0.000000\npi                         0.009937\nni                         0.012295\nrev                        0.001726\ncogs                       0.005432\noancf                      0.000000\nivncf                      0.000000\nfncfa                      0.000000\ncurr_ratio                 0.171542\nquick_ratio                0.178532\ncash_ratio                 0.170784\nnet_working_capital        0.000000\ndebt_ratio                 0.053096\ndebt_equity_ratio          0.013053\nequity_ratio               0.616987\nfinancial_leverage_ratio   0.054275\ncashflow_debt_ratio       25.803382\nnet_profit_margin          2.255646\nroa                        0.334073\nasset_turnover             0.001726\ninventory_turnover         0.000000\ninventory_days             0.000000\nreceivables_turnover       1.745905\ndso                        8.245004\nworking_capital_turnover   0.043833\npe_ratio                   2.588456\nretention_ratio            0.059033\nyear                       0.000000\nquarter                    0.000000\nmm                         0.000000",
      "text/html": "<div>\n<style scoped>\n    .dataframe tbody tr th:only-of-type {\n        vertical-align: middle;\n    }\n\n    .dataframe tbody tr th {\n        vertical-align: top;\n    }\n\n    .dataframe thead th {\n        text-align: right;\n    }\n</style>\n<table border=\"1\" class=\"dataframe\">\n  <thead>\n    <tr style=\"text-align: right;\">\n      <th></th>\n      <th>pct_inf</th>\n    </tr>\n  </thead>\n  <tbody>\n    <tr>\n      <th>gvkey</th>\n      <td>0.000000</td>\n    </tr>\n    <tr>\n      <th>datadate</th>\n      <td>0.000000</td>\n    </tr>\n    <tr>\n      <th>tic</th>\n      <td>0.000000</td>\n    </tr>\n    <tr>\n      <th>sic</th>\n      <td>0.000000</td>\n    </tr>\n    <tr>\n      <th>ta</th>\n      <td>0.000000</td>\n    </tr>\n    <tr>\n      <th>lt</th>\n      <td>0.000000</td>\n    </tr>\n    <tr>\n      <th>dlc</th>\n      <td>0.000000</td>\n    </tr>\n    <tr>\n      <th>dtp</th>\n      <td>0.000000</td>\n    </tr>\n    <tr>\n      <th>che</th>\n      <td>0.000000</td>\n    </tr>\n    <tr>\n      <th>lct</th>\n      <td>0.000000</td>\n    </tr>\n    <tr>\n      <th>act</th>\n      <td>0.000000</td>\n    </tr>\n    <tr>\n      <th>invtq</th>\n      <td>0.000000</td>\n    </tr>\n    <tr>\n      <th>intanq</th>\n      <td>0.000000</td>\n    </tr>\n    <tr>\n      <th>oiadp</th>\n      <td>0.005516</td>\n    </tr>\n    <tr>\n      <th>txp</th>\n      <td>0.000000</td>\n    </tr>\n    <tr>\n      <th>pi</th>\n      <td>0.009937</td>\n    </tr>\n    <tr>\n      <th>ni</th>\n      <td>0.012295</td>\n    </tr>\n    <tr>\n      <th>rev</th>\n      <td>0.001726</td>\n    </tr>\n    <tr>\n      <th>cogs</th>\n      <td>0.005432</td>\n    </tr>\n    <tr>\n      <th>oancf</th>\n      <td>0.000000</td>\n    </tr>\n    <tr>\n      <th>ivncf</th>\n      <td>0.000000</td>\n    </tr>\n    <tr>\n      <th>fncfa</th>\n      <td>0.000000</td>\n    </tr>\n    <tr>\n      <th>curr_ratio</th>\n      <td>0.171542</td>\n    </tr>\n    <tr>\n      <th>quick_ratio</th>\n      <td>0.178532</td>\n    </tr>\n    <tr>\n      <th>cash_ratio</th>\n      <td>0.170784</td>\n    </tr>\n    <tr>\n      <th>net_working_capital</th>\n      <td>0.000000</td>\n    </tr>\n    <tr>\n      <th>debt_ratio</th>\n      <td>0.053096</td>\n    </tr>\n    <tr>\n      <th>debt_equity_ratio</th>\n      <td>0.013053</td>\n    </tr>\n    <tr>\n      <th>equity_ratio</th>\n      <td>0.616987</td>\n    </tr>\n    <tr>\n      <th>financial_leverage_ratio</th>\n      <td>0.054275</td>\n    </tr>\n    <tr>\n      <th>cashflow_debt_ratio</th>\n      <td>25.803382</td>\n    </tr>\n    <tr>\n      <th>net_profit_margin</th>\n      <td>2.255646</td>\n    </tr>\n    <tr>\n      <th>roa</th>\n      <td>0.334073</td>\n    </tr>\n    <tr>\n      <th>asset_turnover</th>\n      <td>0.001726</td>\n    </tr>\n    <tr>\n      <th>inventory_turnover</th>\n      <td>0.000000</td>\n    </tr>\n    <tr>\n      <th>inventory_days</th>\n      <td>0.000000</td>\n    </tr>\n    <tr>\n      <th>receivables_turnover</th>\n      <td>1.745905</td>\n    </tr>\n    <tr>\n      <th>dso</th>\n      <td>8.245004</td>\n    </tr>\n    <tr>\n      <th>working_capital_turnover</th>\n      <td>0.043833</td>\n    </tr>\n    <tr>\n      <th>pe_ratio</th>\n      <td>2.588456</td>\n    </tr>\n    <tr>\n      <th>retention_ratio</th>\n      <td>0.059033</td>\n    </tr>\n    <tr>\n      <th>year</th>\n      <td>0.000000</td>\n    </tr>\n    <tr>\n      <th>quarter</th>\n      <td>0.000000</td>\n    </tr>\n    <tr>\n      <th>mm</th>\n      <td>0.000000</td>\n    </tr>\n  </tbody>\n</table>\n</div>"
     },
     "execution_count": 22,
     "metadata": {},
     "output_type": "execute_result"
    }
   ],
   "source": [
    "inf_breakdown = pd.DataFrame()\n",
    "inf_breakdown['pct_inf'] = (100 * compustat_data.isin([float('inf'), float('-inf')]).sum()) / len(compustat_data)\n",
    "inf_breakdown"
   ],
   "metadata": {
    "collapsed": false,
    "ExecuteTime": {
     "end_time": "2023-10-22T12:39:10.266418Z",
     "start_time": "2023-10-22T12:38:58.661989Z"
    }
   },
   "id": "c1d80e4aefcca55f"
  },
  {
   "cell_type": "code",
   "execution_count": 23,
   "outputs": [],
   "source": [
    "compustat_data.drop(columns = ['sic', 'txp', 'ta', 'lt', 'dlc', 'dtp', 'che', 'lct', 'act', 'invtq', 'intanq', 'oiadp', 'pi', 'ni', 'rev', 'cogs', 'oancf', 'ivncf', 'fncfa'], inplace=True)"
   ],
   "metadata": {
    "collapsed": false,
    "ExecuteTime": {
     "end_time": "2023-10-22T12:39:10.434284Z",
     "start_time": "2023-10-22T12:39:10.276322Z"
    }
   },
   "id": "d24324ac21270125"
  },
  {
   "cell_type": "code",
   "execution_count": 24,
   "outputs": [],
   "source": [
    "import numpy as np\n",
    "compustat_data.drop(columns = ['cashflow_debt_ratio', 'dso'], inplace=True)\n",
    "compustat_no_inf = compustat_data[~compustat_data.isin([np.inf, -np.inf]).any(axis=1)] #remove remaining inf"
   ],
   "metadata": {
    "collapsed": false,
    "ExecuteTime": {
     "end_time": "2023-10-22T12:39:14.428147Z",
     "start_time": "2023-10-22T12:39:10.442481Z"
    }
   },
   "id": "15becd0b2be54ba"
  },
  {
   "cell_type": "code",
   "execution_count": 25,
   "outputs": [
    {
     "data": {
      "text/plain": "                          pct_inf\ngvkey                         0.0\ndatadate                      0.0\ntic                           0.0\ncurr_ratio                    0.0\nquick_ratio                   0.0\ncash_ratio                    0.0\nnet_working_capital           0.0\ndebt_ratio                    0.0\ndebt_equity_ratio             0.0\nequity_ratio                  0.0\nfinancial_leverage_ratio      0.0\nnet_profit_margin             0.0\nroa                           0.0\nasset_turnover                0.0\ninventory_turnover            0.0\ninventory_days                0.0\nreceivables_turnover          0.0\nworking_capital_turnover      0.0\npe_ratio                      0.0\nretention_ratio               0.0\nyear                          0.0\nquarter                       0.0\nmm                            0.0",
      "text/html": "<div>\n<style scoped>\n    .dataframe tbody tr th:only-of-type {\n        vertical-align: middle;\n    }\n\n    .dataframe tbody tr th {\n        vertical-align: top;\n    }\n\n    .dataframe thead th {\n        text-align: right;\n    }\n</style>\n<table border=\"1\" class=\"dataframe\">\n  <thead>\n    <tr style=\"text-align: right;\">\n      <th></th>\n      <th>pct_inf</th>\n    </tr>\n  </thead>\n  <tbody>\n    <tr>\n      <th>gvkey</th>\n      <td>0.0</td>\n    </tr>\n    <tr>\n      <th>datadate</th>\n      <td>0.0</td>\n    </tr>\n    <tr>\n      <th>tic</th>\n      <td>0.0</td>\n    </tr>\n    <tr>\n      <th>curr_ratio</th>\n      <td>0.0</td>\n    </tr>\n    <tr>\n      <th>quick_ratio</th>\n      <td>0.0</td>\n    </tr>\n    <tr>\n      <th>cash_ratio</th>\n      <td>0.0</td>\n    </tr>\n    <tr>\n      <th>net_working_capital</th>\n      <td>0.0</td>\n    </tr>\n    <tr>\n      <th>debt_ratio</th>\n      <td>0.0</td>\n    </tr>\n    <tr>\n      <th>debt_equity_ratio</th>\n      <td>0.0</td>\n    </tr>\n    <tr>\n      <th>equity_ratio</th>\n      <td>0.0</td>\n    </tr>\n    <tr>\n      <th>financial_leverage_ratio</th>\n      <td>0.0</td>\n    </tr>\n    <tr>\n      <th>net_profit_margin</th>\n      <td>0.0</td>\n    </tr>\n    <tr>\n      <th>roa</th>\n      <td>0.0</td>\n    </tr>\n    <tr>\n      <th>asset_turnover</th>\n      <td>0.0</td>\n    </tr>\n    <tr>\n      <th>inventory_turnover</th>\n      <td>0.0</td>\n    </tr>\n    <tr>\n      <th>inventory_days</th>\n      <td>0.0</td>\n    </tr>\n    <tr>\n      <th>receivables_turnover</th>\n      <td>0.0</td>\n    </tr>\n    <tr>\n      <th>working_capital_turnover</th>\n      <td>0.0</td>\n    </tr>\n    <tr>\n      <th>pe_ratio</th>\n      <td>0.0</td>\n    </tr>\n    <tr>\n      <th>retention_ratio</th>\n      <td>0.0</td>\n    </tr>\n    <tr>\n      <th>year</th>\n      <td>0.0</td>\n    </tr>\n    <tr>\n      <th>quarter</th>\n      <td>0.0</td>\n    </tr>\n    <tr>\n      <th>mm</th>\n      <td>0.0</td>\n    </tr>\n  </tbody>\n</table>\n</div>"
     },
     "execution_count": 25,
     "metadata": {},
     "output_type": "execute_result"
    }
   ],
   "source": [
    "inf_breakdown = pd.DataFrame()\n",
    "inf_breakdown['pct_inf'] = (100 * compustat_no_inf.isin([float('inf'), float('-inf')]).sum()) / len(compustat_no_inf)\n",
    "inf_breakdown"
   ],
   "metadata": {
    "collapsed": false,
    "ExecuteTime": {
     "end_time": "2023-10-22T12:39:18.188498Z",
     "start_time": "2023-10-22T12:39:14.533518Z"
    }
   },
   "id": "6aceb58c8a7d2593"
  },
  {
   "cell_type": "code",
   "execution_count": 26,
   "outputs": [
    {
     "name": "stdout",
     "output_type": "stream",
     "text": [
      "(2209124, 23)\n",
      "(2240223, 23)\n"
     ]
    }
   ],
   "source": [
    "print(compustat_no_inf.shape)\n",
    "print(cri_data.shape)"
   ],
   "metadata": {
    "collapsed": false,
    "ExecuteTime": {
     "end_time": "2023-10-22T12:39:18.189987Z",
     "start_time": "2023-10-22T12:39:18.188436Z"
    }
   },
   "id": "ca70e7014ed22949"
  },
  {
   "cell_type": "code",
   "execution_count": 27,
   "outputs": [
    {
     "name": "stdout",
     "output_type": "stream",
     "text": [
      "22553\n",
      "23511\n"
     ]
    }
   ],
   "source": [
    "print(len(compustat_no_inf['gvkey'].unique()))\n",
    "print(len(cri_data['CompNo'].unique()))"
   ],
   "metadata": {
    "collapsed": false,
    "ExecuteTime": {
     "end_time": "2023-10-22T12:39:18.246764Z",
     "start_time": "2023-10-22T12:39:18.191810Z"
    }
   },
   "id": "6f2e9f98741c890c"
  },
  {
   "cell_type": "code",
   "execution_count": 28,
   "outputs": [
    {
     "data": {
      "text/plain": "   company_number   gvkey\n0           50797  177439\n1           92318  160317\n2           92300  106156\n3           45321  141466\n4           43665   66636",
      "text/html": "<div>\n<style scoped>\n    .dataframe tbody tr th:only-of-type {\n        vertical-align: middle;\n    }\n\n    .dataframe tbody tr th {\n        vertical-align: top;\n    }\n\n    .dataframe thead th {\n        text-align: right;\n    }\n</style>\n<table border=\"1\" class=\"dataframe\">\n  <thead>\n    <tr style=\"text-align: right;\">\n      <th></th>\n      <th>company_number</th>\n      <th>gvkey</th>\n    </tr>\n  </thead>\n  <tbody>\n    <tr>\n      <th>0</th>\n      <td>50797</td>\n      <td>177439</td>\n    </tr>\n    <tr>\n      <th>1</th>\n      <td>92318</td>\n      <td>160317</td>\n    </tr>\n    <tr>\n      <th>2</th>\n      <td>92300</td>\n      <td>106156</td>\n    </tr>\n    <tr>\n      <th>3</th>\n      <td>45321</td>\n      <td>141466</td>\n    </tr>\n    <tr>\n      <th>4</th>\n      <td>43665</td>\n      <td>66636</td>\n    </tr>\n  </tbody>\n</table>\n</div>"
     },
     "execution_count": 28,
     "metadata": {},
     "output_type": "execute_result"
    }
   ],
   "source": [
    "company_map = pd.read_csv('./compustat_company_map.xlsx - in.csv')\n",
    "company_map.head()"
   ],
   "metadata": {
    "collapsed": false,
    "ExecuteTime": {
     "end_time": "2023-10-22T12:39:18.253341Z",
     "start_time": "2023-10-22T12:39:18.215945Z"
    }
   },
   "id": "cb6d271955387d3c"
  },
  {
   "cell_type": "code",
   "execution_count": 29,
   "outputs": [],
   "source": [
    "# Format comp no \n",
    "cri_data['CompNo_formatted'] = cri_data['CompNo'].apply(lambda x: int(x / 1000))"
   ],
   "metadata": {
    "collapsed": false,
    "ExecuteTime": {
     "end_time": "2023-10-22T12:39:18.721005Z",
     "start_time": "2023-10-22T12:39:18.225317Z"
    }
   },
   "id": "d8616208a6e69035"
  },
  {
   "cell_type": "code",
   "execution_count": 30,
   "outputs": [],
   "source": [
    "# mapping from company number to gvkey\n",
    "mapping_dict = company_map.set_index('company_number')['gvkey'].to_dict()"
   ],
   "metadata": {
    "collapsed": false,
    "ExecuteTime": {
     "end_time": "2023-10-22T12:39:18.742790Z",
     "start_time": "2023-10-22T12:39:18.721677Z"
    }
   },
   "id": "30c073ddfdadf688"
  },
  {
   "cell_type": "code",
   "execution_count": 31,
   "outputs": [],
   "source": [
    "cri_data['gvkey'] = cri_data['CompNo_formatted'].map(mapping_dict)"
   ],
   "metadata": {
    "collapsed": false,
    "ExecuteTime": {
     "end_time": "2023-10-22T12:39:18.777702Z",
     "start_time": "2023-10-22T12:39:18.751404Z"
    }
   },
   "id": "5404aa4030401c1d"
  },
  {
   "cell_type": "code",
   "execution_count": 32,
   "outputs": [
    {
     "data": {
      "text/plain": "(1943733, 25)"
     },
     "execution_count": 32,
     "metadata": {},
     "output_type": "execute_result"
    }
   ],
   "source": [
    "cri_data = cri_data.dropna()\n",
    "cri_data.shape # lost about 300k rows from missing mapping values, ie 13%"
   ],
   "metadata": {
    "collapsed": false,
    "ExecuteTime": {
     "end_time": "2023-10-22T12:39:19.103391Z",
     "start_time": "2023-10-22T12:39:18.778249Z"
    }
   },
   "id": "1b9ed2bc226215c6"
  },
  {
   "cell_type": "code",
   "execution_count": 33,
   "outputs": [
    {
     "name": "stderr",
     "output_type": "stream",
     "text": [
      "/var/folders/kp/rt42wzwx7sz9plr9l175fkv40000gn/T/ipykernel_76319/1733569423.py:2: SettingWithCopyWarning: \n",
      "A value is trying to be set on a copy of a slice from a DataFrame\n",
      "\n",
      "See the caveats in the documentation: https://pandas.pydata.org/pandas-docs/stable/user_guide/indexing.html#returning-a-view-versus-a-copy\n",
      "  compustat_no_inf.rename(columns = {'mm': 'month'}, inplace=True)\n",
      "/var/folders/kp/rt42wzwx7sz9plr9l175fkv40000gn/T/ipykernel_76319/1733569423.py:3: SettingWithCopyWarning: \n",
      "A value is trying to be set on a copy of a slice from a DataFrame\n",
      "\n",
      "See the caveats in the documentation: https://pandas.pydata.org/pandas-docs/stable/user_guide/indexing.html#returning-a-view-versus-a-copy\n",
      "  compustat_no_inf.drop(columns = ['datadate', 'quarter'], inplace=True)\n"
     ]
    },
    {
     "data": {
      "text/plain": "          gvkey    tic  curr_ratio  quick_ratio  cash_ratio  \\\n0          1004    AIR    2.567588     1.121330    0.213932   \n1          1004    AIR    2.567588     1.121330    0.213932   \n2          1004    AIR    2.567588     1.121330    0.213932   \n3          1004    AIR    3.474157     1.381599    0.159212   \n4          1004    AIR    3.474157     1.381599    0.159212   \n...         ...    ...         ...          ...         ...   \n2374924  353945  ACLLY    2.379581     1.178016   -0.010057   \n2374925  353945  ACLLY    2.517124     1.392924   -0.002727   \n2374926  353945  ACLLY    2.517124     1.392924   -0.002727   \n2374927  353945  ACLLY    2.517124     1.392924   -0.002727   \n2374928  353945  ACLLY    2.147041     1.496589    0.405641   \n\n         net_working_capital  debt_ratio  debt_equity_ratio  equity_ratio  \\\n0                    288.118    0.402049           0.667266      0.602532   \n1                    288.118    0.402049           0.667266      0.602532   \n2                    288.118    0.402049           0.667266      0.602532   \n3                    320.824    0.421016           0.602432      0.698859   \n4                    320.824    0.421016           0.602432      0.698859   \n...                      ...         ...                ...           ...   \n2374924              128.886    0.165499           0.037636      0.905398   \n2374925              222.247    0.231409           0.118487      0.929517   \n2374926              222.247    0.231409           0.118487      0.929517   \n2374927              222.247    0.231409           0.118487      0.929517   \n2374928              328.508    0.559058           1.211369      0.461509   \n\n         financial_leverage_ratio  ...        roa  asset_turnover  \\\n0                        1.659662  ...  -7.628590        0.416489   \n1                        1.659662  ...  -7.628590        0.416489   \n2                        1.659662  ...  -7.628590        0.416489   \n3                        1.430903  ...  -0.331557        0.291972   \n4                        1.430903  ...  -0.331557        0.291972   \n...                           ...  ...        ...             ...   \n2374924                  1.013575  ...  -1.722598        0.532039   \n2374925                  1.012345  ...  -0.760346        0.358163   \n2374926                  1.012345  ...  -0.760346        0.358163   \n2374927                  1.012345  ...  -0.760346        0.358163   \n2374928                  2.166803  ...  12.510914        1.000000   \n\n         inventory_turnover  inventory_days  receivables_turnover  \\\n0                   -8.6610         -8.6610              1.828483   \n1                   -8.6610         -8.6610              1.828483   \n2                   -8.6610         -8.6610              1.828483   \n3                  -16.7510        -16.7510              2.005354   \n4                  -16.7510        -16.7510              2.005354   \n...                     ...             ...                   ...   \n2374924             -6.3005         -6.3005              1.578615   \n2374925            -13.7490        -13.7490              1.490826   \n2374926            -13.7490        -13.7490              1.490826   \n2374927            -13.7490        -13.7490              1.490826   \n2374928            -33.6320        -33.6320              3.380577   \n\n         working_capital_turnover   pe_ratio  retention_ratio    year  month  \n0                        0.502881  -5.093750       146.623341  2001.0     11  \n1                        0.502881  -5.093750       146.623341  2001.0     12  \n2                        0.502881  -5.093750       146.623341  2001.0      1  \n3                        0.447152  -3.957219      3546.832238  2002.0      2  \n4                        0.447152  -3.957219      3546.832238  2002.0      3  \n...                           ...        ...              ...     ...    ...  \n2374924                  0.677005  16.630451         5.297990  2022.0      8  \n2374925                  0.588082  -4.336634        11.068578  2022.0      9  \n2374926                  0.588082  -4.336634        11.068578  2022.0     10  \n2374927                  0.588082  -4.336634        11.068578  2022.0     11  \n2374928                  2.376009  15.796183       186.322000  2022.0     12  \n\n[2209124 rows x 21 columns]",
      "text/html": "<div>\n<style scoped>\n    .dataframe tbody tr th:only-of-type {\n        vertical-align: middle;\n    }\n\n    .dataframe tbody tr th {\n        vertical-align: top;\n    }\n\n    .dataframe thead th {\n        text-align: right;\n    }\n</style>\n<table border=\"1\" class=\"dataframe\">\n  <thead>\n    <tr style=\"text-align: right;\">\n      <th></th>\n      <th>gvkey</th>\n      <th>tic</th>\n      <th>curr_ratio</th>\n      <th>quick_ratio</th>\n      <th>cash_ratio</th>\n      <th>net_working_capital</th>\n      <th>debt_ratio</th>\n      <th>debt_equity_ratio</th>\n      <th>equity_ratio</th>\n      <th>financial_leverage_ratio</th>\n      <th>...</th>\n      <th>roa</th>\n      <th>asset_turnover</th>\n      <th>inventory_turnover</th>\n      <th>inventory_days</th>\n      <th>receivables_turnover</th>\n      <th>working_capital_turnover</th>\n      <th>pe_ratio</th>\n      <th>retention_ratio</th>\n      <th>year</th>\n      <th>month</th>\n    </tr>\n  </thead>\n  <tbody>\n    <tr>\n      <th>0</th>\n      <td>1004</td>\n      <td>AIR</td>\n      <td>2.567588</td>\n      <td>1.121330</td>\n      <td>0.213932</td>\n      <td>288.118</td>\n      <td>0.402049</td>\n      <td>0.667266</td>\n      <td>0.602532</td>\n      <td>1.659662</td>\n      <td>...</td>\n      <td>-7.628590</td>\n      <td>0.416489</td>\n      <td>-8.6610</td>\n      <td>-8.6610</td>\n      <td>1.828483</td>\n      <td>0.502881</td>\n      <td>-5.093750</td>\n      <td>146.623341</td>\n      <td>2001.0</td>\n      <td>11</td>\n    </tr>\n    <tr>\n      <th>1</th>\n      <td>1004</td>\n      <td>AIR</td>\n      <td>2.567588</td>\n      <td>1.121330</td>\n      <td>0.213932</td>\n      <td>288.118</td>\n      <td>0.402049</td>\n      <td>0.667266</td>\n      <td>0.602532</td>\n      <td>1.659662</td>\n      <td>...</td>\n      <td>-7.628590</td>\n      <td>0.416489</td>\n      <td>-8.6610</td>\n      <td>-8.6610</td>\n      <td>1.828483</td>\n      <td>0.502881</td>\n      <td>-5.093750</td>\n      <td>146.623341</td>\n      <td>2001.0</td>\n      <td>12</td>\n    </tr>\n    <tr>\n      <th>2</th>\n      <td>1004</td>\n      <td>AIR</td>\n      <td>2.567588</td>\n      <td>1.121330</td>\n      <td>0.213932</td>\n      <td>288.118</td>\n      <td>0.402049</td>\n      <td>0.667266</td>\n      <td>0.602532</td>\n      <td>1.659662</td>\n      <td>...</td>\n      <td>-7.628590</td>\n      <td>0.416489</td>\n      <td>-8.6610</td>\n      <td>-8.6610</td>\n      <td>1.828483</td>\n      <td>0.502881</td>\n      <td>-5.093750</td>\n      <td>146.623341</td>\n      <td>2001.0</td>\n      <td>1</td>\n    </tr>\n    <tr>\n      <th>3</th>\n      <td>1004</td>\n      <td>AIR</td>\n      <td>3.474157</td>\n      <td>1.381599</td>\n      <td>0.159212</td>\n      <td>320.824</td>\n      <td>0.421016</td>\n      <td>0.602432</td>\n      <td>0.698859</td>\n      <td>1.430903</td>\n      <td>...</td>\n      <td>-0.331557</td>\n      <td>0.291972</td>\n      <td>-16.7510</td>\n      <td>-16.7510</td>\n      <td>2.005354</td>\n      <td>0.447152</td>\n      <td>-3.957219</td>\n      <td>3546.832238</td>\n      <td>2002.0</td>\n      <td>2</td>\n    </tr>\n    <tr>\n      <th>4</th>\n      <td>1004</td>\n      <td>AIR</td>\n      <td>3.474157</td>\n      <td>1.381599</td>\n      <td>0.159212</td>\n      <td>320.824</td>\n      <td>0.421016</td>\n      <td>0.602432</td>\n      <td>0.698859</td>\n      <td>1.430903</td>\n      <td>...</td>\n      <td>-0.331557</td>\n      <td>0.291972</td>\n      <td>-16.7510</td>\n      <td>-16.7510</td>\n      <td>2.005354</td>\n      <td>0.447152</td>\n      <td>-3.957219</td>\n      <td>3546.832238</td>\n      <td>2002.0</td>\n      <td>3</td>\n    </tr>\n    <tr>\n      <th>...</th>\n      <td>...</td>\n      <td>...</td>\n      <td>...</td>\n      <td>...</td>\n      <td>...</td>\n      <td>...</td>\n      <td>...</td>\n      <td>...</td>\n      <td>...</td>\n      <td>...</td>\n      <td>...</td>\n      <td>...</td>\n      <td>...</td>\n      <td>...</td>\n      <td>...</td>\n      <td>...</td>\n      <td>...</td>\n      <td>...</td>\n      <td>...</td>\n      <td>...</td>\n      <td>...</td>\n    </tr>\n    <tr>\n      <th>2374924</th>\n      <td>353945</td>\n      <td>ACLLY</td>\n      <td>2.379581</td>\n      <td>1.178016</td>\n      <td>-0.010057</td>\n      <td>128.886</td>\n      <td>0.165499</td>\n      <td>0.037636</td>\n      <td>0.905398</td>\n      <td>1.013575</td>\n      <td>...</td>\n      <td>-1.722598</td>\n      <td>0.532039</td>\n      <td>-6.3005</td>\n      <td>-6.3005</td>\n      <td>1.578615</td>\n      <td>0.677005</td>\n      <td>16.630451</td>\n      <td>5.297990</td>\n      <td>2022.0</td>\n      <td>8</td>\n    </tr>\n    <tr>\n      <th>2374925</th>\n      <td>353945</td>\n      <td>ACLLY</td>\n      <td>2.517124</td>\n      <td>1.392924</td>\n      <td>-0.002727</td>\n      <td>222.247</td>\n      <td>0.231409</td>\n      <td>0.118487</td>\n      <td>0.929517</td>\n      <td>1.012345</td>\n      <td>...</td>\n      <td>-0.760346</td>\n      <td>0.358163</td>\n      <td>-13.7490</td>\n      <td>-13.7490</td>\n      <td>1.490826</td>\n      <td>0.588082</td>\n      <td>-4.336634</td>\n      <td>11.068578</td>\n      <td>2022.0</td>\n      <td>9</td>\n    </tr>\n    <tr>\n      <th>2374926</th>\n      <td>353945</td>\n      <td>ACLLY</td>\n      <td>2.517124</td>\n      <td>1.392924</td>\n      <td>-0.002727</td>\n      <td>222.247</td>\n      <td>0.231409</td>\n      <td>0.118487</td>\n      <td>0.929517</td>\n      <td>1.012345</td>\n      <td>...</td>\n      <td>-0.760346</td>\n      <td>0.358163</td>\n      <td>-13.7490</td>\n      <td>-13.7490</td>\n      <td>1.490826</td>\n      <td>0.588082</td>\n      <td>-4.336634</td>\n      <td>11.068578</td>\n      <td>2022.0</td>\n      <td>10</td>\n    </tr>\n    <tr>\n      <th>2374927</th>\n      <td>353945</td>\n      <td>ACLLY</td>\n      <td>2.517124</td>\n      <td>1.392924</td>\n      <td>-0.002727</td>\n      <td>222.247</td>\n      <td>0.231409</td>\n      <td>0.118487</td>\n      <td>0.929517</td>\n      <td>1.012345</td>\n      <td>...</td>\n      <td>-0.760346</td>\n      <td>0.358163</td>\n      <td>-13.7490</td>\n      <td>-13.7490</td>\n      <td>1.490826</td>\n      <td>0.588082</td>\n      <td>-4.336634</td>\n      <td>11.068578</td>\n      <td>2022.0</td>\n      <td>11</td>\n    </tr>\n    <tr>\n      <th>2374928</th>\n      <td>353945</td>\n      <td>ACLLY</td>\n      <td>2.147041</td>\n      <td>1.496589</td>\n      <td>0.405641</td>\n      <td>328.508</td>\n      <td>0.559058</td>\n      <td>1.211369</td>\n      <td>0.461509</td>\n      <td>2.166803</td>\n      <td>...</td>\n      <td>12.510914</td>\n      <td>1.000000</td>\n      <td>-33.6320</td>\n      <td>-33.6320</td>\n      <td>3.380577</td>\n      <td>2.376009</td>\n      <td>15.796183</td>\n      <td>186.322000</td>\n      <td>2022.0</td>\n      <td>12</td>\n    </tr>\n  </tbody>\n</table>\n<p>2209124 rows × 21 columns</p>\n</div>"
     },
     "execution_count": 33,
     "metadata": {},
     "output_type": "execute_result"
    }
   ],
   "source": [
    "# clean compustat\n",
    "compustat_no_inf.rename(columns = {'mm': 'month'}, inplace=True)\n",
    "compustat_no_inf.drop(columns = ['datadate', 'quarter'], inplace=True)\n",
    "compustat_no_inf"
   ],
   "metadata": {
    "collapsed": false,
    "ExecuteTime": {
     "end_time": "2023-10-22T12:39:19.430274Z",
     "start_time": "2023-10-22T12:39:19.109637Z"
    }
   },
   "id": "827bf20aeaf9026c"
  },
  {
   "cell_type": "code",
   "execution_count": 34,
   "outputs": [],
   "source": [
    "# left join on gvkey, year, month where left is CRI data, right is compustat\n",
    "cri_compustat_merged = cri_data.merge(compustat_no_inf, how='inner')"
   ],
   "metadata": {
    "collapsed": false,
    "ExecuteTime": {
     "end_time": "2023-10-22T12:39:32.373278Z",
     "start_time": "2023-10-22T12:39:31.531840Z"
    }
   },
   "id": "57d80464b2726d7e"
  },
  {
   "cell_type": "code",
   "execution_count": 35,
   "outputs": [
    {
     "data": {
      "text/plain": "       CompNo    year  month   StkIndx     STInt  dtdlevel  dtdtrend  \\\n0  37610000.0  2000.0      1  0.089239  0.011089  0.087376 -0.524732   \n1  49536000.0  2000.0      1  0.313050  0.007314  3.693176  0.625516   \n2  32417000.0  2000.0      1  0.089239  0.011089  6.165654  0.863910   \n3  44933000.0  2000.0      1  0.089239  0.011089  0.629410 -0.874122   \n4  39333000.0  2000.0      1  0.089239  0.011089  4.337480 -0.245604   \n\n   liqnonfinlevel  liqnonfintrend  ni2talevel  ...  financial_leverage_ratio  \\\n0        0.906364       -0.071829    0.000292  ...                  6.037135   \n1        1.872712        1.010148   -0.069998  ...                  0.861522   \n2        1.275166        0.184606    0.013360  ...                  0.707156   \n3        0.000000        0.000000    0.004436  ...                  0.797336   \n4        2.227256       -0.159957   -0.074377  ...                  0.998722   \n\n   net_profit_margin        roa  asset_turnover  inventory_turnover  \\\n0          24.982837 -12.570935        0.255210              -0.413   \n1          75.426439  -8.322594        0.358015               0.000   \n2          52.341576   3.588386        0.236883              -4.463   \n3          74.952502   0.577149        0.290137               0.000   \n4        -157.397852 -27.807167        0.285404               0.000   \n\n   inventory_days  receivables_turnover  working_capital_turnover   pe_ratio  \\\n0          -0.413              1.912130                  2.055384  -0.341530   \n1           0.000              0.574579                  0.038721 -35.606061   \n2          -4.463              1.295937                  0.525214  15.348538   \n3           0.000             10.253247                 -1.942129  12.797619   \n4           0.000              1.291270                  0.000000  -4.105839   \n\n   retention_ratio  \n0         6.787842  \n1       -73.867110  \n2       183.313219  \n3         5.403687  \n4      -161.047245  \n\n[5 rows x 43 columns]",
      "text/html": "<div>\n<style scoped>\n    .dataframe tbody tr th:only-of-type {\n        vertical-align: middle;\n    }\n\n    .dataframe tbody tr th {\n        vertical-align: top;\n    }\n\n    .dataframe thead th {\n        text-align: right;\n    }\n</style>\n<table border=\"1\" class=\"dataframe\">\n  <thead>\n    <tr style=\"text-align: right;\">\n      <th></th>\n      <th>CompNo</th>\n      <th>year</th>\n      <th>month</th>\n      <th>StkIndx</th>\n      <th>STInt</th>\n      <th>dtdlevel</th>\n      <th>dtdtrend</th>\n      <th>liqnonfinlevel</th>\n      <th>liqnonfintrend</th>\n      <th>ni2talevel</th>\n      <th>...</th>\n      <th>financial_leverage_ratio</th>\n      <th>net_profit_margin</th>\n      <th>roa</th>\n      <th>asset_turnover</th>\n      <th>inventory_turnover</th>\n      <th>inventory_days</th>\n      <th>receivables_turnover</th>\n      <th>working_capital_turnover</th>\n      <th>pe_ratio</th>\n      <th>retention_ratio</th>\n    </tr>\n  </thead>\n  <tbody>\n    <tr>\n      <th>0</th>\n      <td>37610000.0</td>\n      <td>2000.0</td>\n      <td>1</td>\n      <td>0.089239</td>\n      <td>0.011089</td>\n      <td>0.087376</td>\n      <td>-0.524732</td>\n      <td>0.906364</td>\n      <td>-0.071829</td>\n      <td>0.000292</td>\n      <td>...</td>\n      <td>6.037135</td>\n      <td>24.982837</td>\n      <td>-12.570935</td>\n      <td>0.255210</td>\n      <td>-0.413</td>\n      <td>-0.413</td>\n      <td>1.912130</td>\n      <td>2.055384</td>\n      <td>-0.341530</td>\n      <td>6.787842</td>\n    </tr>\n    <tr>\n      <th>1</th>\n      <td>49536000.0</td>\n      <td>2000.0</td>\n      <td>1</td>\n      <td>0.313050</td>\n      <td>0.007314</td>\n      <td>3.693176</td>\n      <td>0.625516</td>\n      <td>1.872712</td>\n      <td>1.010148</td>\n      <td>-0.069998</td>\n      <td>...</td>\n      <td>0.861522</td>\n      <td>75.426439</td>\n      <td>-8.322594</td>\n      <td>0.358015</td>\n      <td>0.000</td>\n      <td>0.000</td>\n      <td>0.574579</td>\n      <td>0.038721</td>\n      <td>-35.606061</td>\n      <td>-73.867110</td>\n    </tr>\n    <tr>\n      <th>2</th>\n      <td>32417000.0</td>\n      <td>2000.0</td>\n      <td>1</td>\n      <td>0.089239</td>\n      <td>0.011089</td>\n      <td>6.165654</td>\n      <td>0.863910</td>\n      <td>1.275166</td>\n      <td>0.184606</td>\n      <td>0.013360</td>\n      <td>...</td>\n      <td>0.707156</td>\n      <td>52.341576</td>\n      <td>3.588386</td>\n      <td>0.236883</td>\n      <td>-4.463</td>\n      <td>-4.463</td>\n      <td>1.295937</td>\n      <td>0.525214</td>\n      <td>15.348538</td>\n      <td>183.313219</td>\n    </tr>\n    <tr>\n      <th>3</th>\n      <td>44933000.0</td>\n      <td>2000.0</td>\n      <td>1</td>\n      <td>0.089239</td>\n      <td>0.011089</td>\n      <td>0.629410</td>\n      <td>-0.874122</td>\n      <td>0.000000</td>\n      <td>0.000000</td>\n      <td>0.004436</td>\n      <td>...</td>\n      <td>0.797336</td>\n      <td>74.952502</td>\n      <td>0.577149</td>\n      <td>0.290137</td>\n      <td>0.000</td>\n      <td>0.000</td>\n      <td>10.253247</td>\n      <td>-1.942129</td>\n      <td>12.797619</td>\n      <td>5.403687</td>\n    </tr>\n    <tr>\n      <th>4</th>\n      <td>39333000.0</td>\n      <td>2000.0</td>\n      <td>1</td>\n      <td>0.089239</td>\n      <td>0.011089</td>\n      <td>4.337480</td>\n      <td>-0.245604</td>\n      <td>2.227256</td>\n      <td>-0.159957</td>\n      <td>-0.074377</td>\n      <td>...</td>\n      <td>0.998722</td>\n      <td>-157.397852</td>\n      <td>-27.807167</td>\n      <td>0.285404</td>\n      <td>0.000</td>\n      <td>0.000</td>\n      <td>1.291270</td>\n      <td>0.000000</td>\n      <td>-4.105839</td>\n      <td>-161.047245</td>\n    </tr>\n  </tbody>\n</table>\n<p>5 rows × 43 columns</p>\n</div>"
     },
     "execution_count": 35,
     "metadata": {},
     "output_type": "execute_result"
    }
   ],
   "source": [
    "cri_compustat_merged.head()"
   ],
   "metadata": {
    "collapsed": false,
    "ExecuteTime": {
     "end_time": "2023-10-22T12:39:32.956425Z",
     "start_time": "2023-10-22T12:39:32.951514Z"
    }
   },
   "id": "c2fe4a0aa2433b15"
  },
  {
   "cell_type": "code",
   "execution_count": 36,
   "outputs": [
    {
     "data": {
      "text/plain": "(1146419, 43)"
     },
     "execution_count": 36,
     "metadata": {},
     "output_type": "execute_result"
    }
   ],
   "source": [
    "cri_compustat_merged.shape #lost about 760249 rows, or 39%"
   ],
   "metadata": {
    "collapsed": false,
    "ExecuteTime": {
     "end_time": "2023-10-22T12:39:46.525288Z",
     "start_time": "2023-10-22T12:39:46.513303Z"
    }
   },
   "id": "2a8e62f501451fb"
  },
  {
   "cell_type": "code",
   "execution_count": 37,
   "outputs": [
    {
     "data": {
      "text/plain": "10844"
     },
     "execution_count": 37,
     "metadata": {},
     "output_type": "execute_result"
    }
   ],
   "source": [
    "len(cri_compustat_merged['gvkey'].unique())"
   ],
   "metadata": {
    "collapsed": false,
    "ExecuteTime": {
     "end_time": "2023-10-22T12:39:49.748268Z",
     "start_time": "2023-10-22T12:39:49.735442Z"
    }
   },
   "id": "7721ffc22ae8c88f"
  },
  {
   "cell_type": "code",
   "execution_count": 38,
   "outputs": [
    {
     "data": {
      "text/plain": "                          pct_inf\nCompNo                        0.0\nyear                          0.0\nmonth                         0.0\nStkIndx                       0.0\nSTInt                         0.0\ndtdlevel                      0.0\ndtdtrend                      0.0\nliqnonfinlevel                0.0\nliqnonfintrend                0.0\nni2talevel                    0.0\nni2tatrend                    0.0\nsizelevel                     0.0\nsizetrend                     0.0\nm2b                           0.0\nsigma                         0.0\nliqfinlevel                   0.0\nlqfintrend                    0.0\nDTDmedianFin                  0.0\nDTDmedianNonFin               0.0\ndummy297fin                   0.0\nDefault                       0.0\nday                           0.0\ndate                          0.0\nCompNo_formatted              0.0\ngvkey                         0.0\ntic                           0.0\ncurr_ratio                    0.0\nquick_ratio                   0.0\ncash_ratio                    0.0\nnet_working_capital           0.0\ndebt_ratio                    0.0\ndebt_equity_ratio             0.0\nequity_ratio                  0.0\nfinancial_leverage_ratio      0.0\nnet_profit_margin             0.0\nroa                           0.0\nasset_turnover                0.0\ninventory_turnover            0.0\ninventory_days                0.0\nreceivables_turnover          0.0\nworking_capital_turnover      0.0\npe_ratio                      0.0\nretention_ratio               0.0",
      "text/html": "<div>\n<style scoped>\n    .dataframe tbody tr th:only-of-type {\n        vertical-align: middle;\n    }\n\n    .dataframe tbody tr th {\n        vertical-align: top;\n    }\n\n    .dataframe thead th {\n        text-align: right;\n    }\n</style>\n<table border=\"1\" class=\"dataframe\">\n  <thead>\n    <tr style=\"text-align: right;\">\n      <th></th>\n      <th>pct_inf</th>\n    </tr>\n  </thead>\n  <tbody>\n    <tr>\n      <th>CompNo</th>\n      <td>0.0</td>\n    </tr>\n    <tr>\n      <th>year</th>\n      <td>0.0</td>\n    </tr>\n    <tr>\n      <th>month</th>\n      <td>0.0</td>\n    </tr>\n    <tr>\n      <th>StkIndx</th>\n      <td>0.0</td>\n    </tr>\n    <tr>\n      <th>STInt</th>\n      <td>0.0</td>\n    </tr>\n    <tr>\n      <th>dtdlevel</th>\n      <td>0.0</td>\n    </tr>\n    <tr>\n      <th>dtdtrend</th>\n      <td>0.0</td>\n    </tr>\n    <tr>\n      <th>liqnonfinlevel</th>\n      <td>0.0</td>\n    </tr>\n    <tr>\n      <th>liqnonfintrend</th>\n      <td>0.0</td>\n    </tr>\n    <tr>\n      <th>ni2talevel</th>\n      <td>0.0</td>\n    </tr>\n    <tr>\n      <th>ni2tatrend</th>\n      <td>0.0</td>\n    </tr>\n    <tr>\n      <th>sizelevel</th>\n      <td>0.0</td>\n    </tr>\n    <tr>\n      <th>sizetrend</th>\n      <td>0.0</td>\n    </tr>\n    <tr>\n      <th>m2b</th>\n      <td>0.0</td>\n    </tr>\n    <tr>\n      <th>sigma</th>\n      <td>0.0</td>\n    </tr>\n    <tr>\n      <th>liqfinlevel</th>\n      <td>0.0</td>\n    </tr>\n    <tr>\n      <th>lqfintrend</th>\n      <td>0.0</td>\n    </tr>\n    <tr>\n      <th>DTDmedianFin</th>\n      <td>0.0</td>\n    </tr>\n    <tr>\n      <th>DTDmedianNonFin</th>\n      <td>0.0</td>\n    </tr>\n    <tr>\n      <th>dummy297fin</th>\n      <td>0.0</td>\n    </tr>\n    <tr>\n      <th>Default</th>\n      <td>0.0</td>\n    </tr>\n    <tr>\n      <th>day</th>\n      <td>0.0</td>\n    </tr>\n    <tr>\n      <th>date</th>\n      <td>0.0</td>\n    </tr>\n    <tr>\n      <th>CompNo_formatted</th>\n      <td>0.0</td>\n    </tr>\n    <tr>\n      <th>gvkey</th>\n      <td>0.0</td>\n    </tr>\n    <tr>\n      <th>tic</th>\n      <td>0.0</td>\n    </tr>\n    <tr>\n      <th>curr_ratio</th>\n      <td>0.0</td>\n    </tr>\n    <tr>\n      <th>quick_ratio</th>\n      <td>0.0</td>\n    </tr>\n    <tr>\n      <th>cash_ratio</th>\n      <td>0.0</td>\n    </tr>\n    <tr>\n      <th>net_working_capital</th>\n      <td>0.0</td>\n    </tr>\n    <tr>\n      <th>debt_ratio</th>\n      <td>0.0</td>\n    </tr>\n    <tr>\n      <th>debt_equity_ratio</th>\n      <td>0.0</td>\n    </tr>\n    <tr>\n      <th>equity_ratio</th>\n      <td>0.0</td>\n    </tr>\n    <tr>\n      <th>financial_leverage_ratio</th>\n      <td>0.0</td>\n    </tr>\n    <tr>\n      <th>net_profit_margin</th>\n      <td>0.0</td>\n    </tr>\n    <tr>\n      <th>roa</th>\n      <td>0.0</td>\n    </tr>\n    <tr>\n      <th>asset_turnover</th>\n      <td>0.0</td>\n    </tr>\n    <tr>\n      <th>inventory_turnover</th>\n      <td>0.0</td>\n    </tr>\n    <tr>\n      <th>inventory_days</th>\n      <td>0.0</td>\n    </tr>\n    <tr>\n      <th>receivables_turnover</th>\n      <td>0.0</td>\n    </tr>\n    <tr>\n      <th>working_capital_turnover</th>\n      <td>0.0</td>\n    </tr>\n    <tr>\n      <th>pe_ratio</th>\n      <td>0.0</td>\n    </tr>\n    <tr>\n      <th>retention_ratio</th>\n      <td>0.0</td>\n    </tr>\n  </tbody>\n</table>\n</div>"
     },
     "execution_count": 38,
     "metadata": {},
     "output_type": "execute_result"
    }
   ],
   "source": [
    "inf_breakdown = pd.DataFrame()\n",
    "inf_breakdown['pct_inf'] = (100 * cri_compustat_merged.isin([float('inf'), float('-inf')]).sum()) / len(cri_compustat_merged)\n",
    "inf_breakdown"
   ],
   "metadata": {
    "collapsed": false,
    "ExecuteTime": {
     "end_time": "2023-10-22T12:39:58.753191Z",
     "start_time": "2023-10-22T12:39:55.346106Z"
    }
   },
   "id": "cfc602a6c53d367"
  },
  {
   "cell_type": "code",
   "execution_count": 40,
   "outputs": [
    {
     "data": {
      "text/plain": "                          pct_nan\nCompNo                        0.0\nyear                          0.0\nmonth                         0.0\nStkIndx                       0.0\nSTInt                         0.0\ndtdlevel                      0.0\ndtdtrend                      0.0\nliqnonfinlevel                0.0\nliqnonfintrend                0.0\nni2talevel                    0.0\nni2tatrend                    0.0\nsizelevel                     0.0\nsizetrend                     0.0\nm2b                           0.0\nsigma                         0.0\nliqfinlevel                   0.0\nlqfintrend                    0.0\nDTDmedianFin                  0.0\nDTDmedianNonFin               0.0\ndummy297fin                   0.0\nDefault                       0.0\nday                           0.0\ndate                          0.0\nCompNo_formatted              0.0\ngvkey                         0.0\ntic                           0.0\ncurr_ratio                    0.0\nquick_ratio                   0.0\ncash_ratio                    0.0\nnet_working_capital           0.0\ndebt_ratio                    0.0\ndebt_equity_ratio             0.0\nequity_ratio                  0.0\nfinancial_leverage_ratio      0.0\nnet_profit_margin             0.0\nroa                           0.0\nasset_turnover                0.0\ninventory_turnover            0.0\ninventory_days                0.0\nreceivables_turnover          0.0\nworking_capital_turnover      0.0\npe_ratio                      0.0\nretention_ratio               0.0",
      "text/html": "<div>\n<style scoped>\n    .dataframe tbody tr th:only-of-type {\n        vertical-align: middle;\n    }\n\n    .dataframe tbody tr th {\n        vertical-align: top;\n    }\n\n    .dataframe thead th {\n        text-align: right;\n    }\n</style>\n<table border=\"1\" class=\"dataframe\">\n  <thead>\n    <tr style=\"text-align: right;\">\n      <th></th>\n      <th>pct_nan</th>\n    </tr>\n  </thead>\n  <tbody>\n    <tr>\n      <th>CompNo</th>\n      <td>0.0</td>\n    </tr>\n    <tr>\n      <th>year</th>\n      <td>0.0</td>\n    </tr>\n    <tr>\n      <th>month</th>\n      <td>0.0</td>\n    </tr>\n    <tr>\n      <th>StkIndx</th>\n      <td>0.0</td>\n    </tr>\n    <tr>\n      <th>STInt</th>\n      <td>0.0</td>\n    </tr>\n    <tr>\n      <th>dtdlevel</th>\n      <td>0.0</td>\n    </tr>\n    <tr>\n      <th>dtdtrend</th>\n      <td>0.0</td>\n    </tr>\n    <tr>\n      <th>liqnonfinlevel</th>\n      <td>0.0</td>\n    </tr>\n    <tr>\n      <th>liqnonfintrend</th>\n      <td>0.0</td>\n    </tr>\n    <tr>\n      <th>ni2talevel</th>\n      <td>0.0</td>\n    </tr>\n    <tr>\n      <th>ni2tatrend</th>\n      <td>0.0</td>\n    </tr>\n    <tr>\n      <th>sizelevel</th>\n      <td>0.0</td>\n    </tr>\n    <tr>\n      <th>sizetrend</th>\n      <td>0.0</td>\n    </tr>\n    <tr>\n      <th>m2b</th>\n      <td>0.0</td>\n    </tr>\n    <tr>\n      <th>sigma</th>\n      <td>0.0</td>\n    </tr>\n    <tr>\n      <th>liqfinlevel</th>\n      <td>0.0</td>\n    </tr>\n    <tr>\n      <th>lqfintrend</th>\n      <td>0.0</td>\n    </tr>\n    <tr>\n      <th>DTDmedianFin</th>\n      <td>0.0</td>\n    </tr>\n    <tr>\n      <th>DTDmedianNonFin</th>\n      <td>0.0</td>\n    </tr>\n    <tr>\n      <th>dummy297fin</th>\n      <td>0.0</td>\n    </tr>\n    <tr>\n      <th>Default</th>\n      <td>0.0</td>\n    </tr>\n    <tr>\n      <th>day</th>\n      <td>0.0</td>\n    </tr>\n    <tr>\n      <th>date</th>\n      <td>0.0</td>\n    </tr>\n    <tr>\n      <th>CompNo_formatted</th>\n      <td>0.0</td>\n    </tr>\n    <tr>\n      <th>gvkey</th>\n      <td>0.0</td>\n    </tr>\n    <tr>\n      <th>tic</th>\n      <td>0.0</td>\n    </tr>\n    <tr>\n      <th>curr_ratio</th>\n      <td>0.0</td>\n    </tr>\n    <tr>\n      <th>quick_ratio</th>\n      <td>0.0</td>\n    </tr>\n    <tr>\n      <th>cash_ratio</th>\n      <td>0.0</td>\n    </tr>\n    <tr>\n      <th>net_working_capital</th>\n      <td>0.0</td>\n    </tr>\n    <tr>\n      <th>debt_ratio</th>\n      <td>0.0</td>\n    </tr>\n    <tr>\n      <th>debt_equity_ratio</th>\n      <td>0.0</td>\n    </tr>\n    <tr>\n      <th>equity_ratio</th>\n      <td>0.0</td>\n    </tr>\n    <tr>\n      <th>financial_leverage_ratio</th>\n      <td>0.0</td>\n    </tr>\n    <tr>\n      <th>net_profit_margin</th>\n      <td>0.0</td>\n    </tr>\n    <tr>\n      <th>roa</th>\n      <td>0.0</td>\n    </tr>\n    <tr>\n      <th>asset_turnover</th>\n      <td>0.0</td>\n    </tr>\n    <tr>\n      <th>inventory_turnover</th>\n      <td>0.0</td>\n    </tr>\n    <tr>\n      <th>inventory_days</th>\n      <td>0.0</td>\n    </tr>\n    <tr>\n      <th>receivables_turnover</th>\n      <td>0.0</td>\n    </tr>\n    <tr>\n      <th>working_capital_turnover</th>\n      <td>0.0</td>\n    </tr>\n    <tr>\n      <th>pe_ratio</th>\n      <td>0.0</td>\n    </tr>\n    <tr>\n      <th>retention_ratio</th>\n      <td>0.0</td>\n    </tr>\n  </tbody>\n</table>\n</div>"
     },
     "execution_count": 40,
     "metadata": {},
     "output_type": "execute_result"
    }
   ],
   "source": [
    "nan_breakdown = pd.DataFrame()\n",
    "nan_breakdown['pct_nan'] = (cri_compustat_merged.isna().sum() / len(cri_compustat_merged)) * 100\n",
    "nan_breakdown"
   ],
   "metadata": {
    "collapsed": false,
    "ExecuteTime": {
     "end_time": "2023-10-22T12:45:47.743057Z",
     "start_time": "2023-10-22T12:45:47.578731Z"
    }
   },
   "id": "977e5180d79ae02f"
  },
  {
   "cell_type": "code",
   "execution_count": 39,
   "outputs": [],
   "source": [
    "cri_compustat_merged.to_pickle('./cri_compustat_merged_v3.pkl')"
   ],
   "metadata": {
    "collapsed": false,
    "ExecuteTime": {
     "end_time": "2023-10-22T12:40:14.573280Z",
     "start_time": "2023-10-22T12:40:14.429218Z"
    }
   },
   "id": "29d837cbf7f82ae4"
  },
  {
   "cell_type": "code",
   "execution_count": null,
   "outputs": [],
   "source": [
    "print('s')"
   ],
   "metadata": {
    "collapsed": false
   },
   "id": "24cc30909345b000"
  }
 ],
 "metadata": {
  "kernelspec": {
   "display_name": "Python 3",
   "language": "python",
   "name": "python3"
  },
  "language_info": {
   "codemirror_mode": {
    "name": "ipython",
    "version": 2
   },
   "file_extension": ".py",
   "mimetype": "text/x-python",
   "name": "python",
   "nbconvert_exporter": "python",
   "pygments_lexer": "ipython2",
   "version": "2.7.6"
  }
 },
 "nbformat": 4,
 "nbformat_minor": 5
}
