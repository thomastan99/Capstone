{
 "cells": [
  {
   "cell_type": "code",
   "execution_count": 94,
   "id": "initial_id",
   "metadata": {
    "collapsed": true,
    "ExecuteTime": {
     "end_time": "2023-10-18T12:20:08.596878Z",
     "start_time": "2023-10-18T12:20:08.589090Z"
    }
   },
   "outputs": [],
   "source": [
    "import pandas as pd"
   ]
  },
  {
   "cell_type": "code",
   "execution_count": 95,
   "outputs": [],
   "source": [
    "cri_data = pd.read_pickle('./CRI_xy_PHD.pkl')"
   ],
   "metadata": {
    "collapsed": false,
    "ExecuteTime": {
     "end_time": "2023-10-18T12:20:09.873956Z",
     "start_time": "2023-10-18T12:20:09.722838Z"
    }
   },
   "id": "faef558dd54e5a14"
  },
  {
   "cell_type": "code",
   "execution_count": 96,
   "outputs": [],
   "source": [
    "compustat_data = pd.read_pickle('./compustat_inputed_v1')"
   ],
   "metadata": {
    "collapsed": false,
    "ExecuteTime": {
     "end_time": "2023-10-18T12:20:10.262943Z",
     "start_time": "2023-10-18T12:20:09.874222Z"
    }
   },
   "id": "6a35c9878a537823"
  },
  {
   "cell_type": "code",
   "execution_count": 97,
   "outputs": [
    {
     "data": {
      "text/plain": "              CompNo    year  month   StkIndx     STInt  dtdlevel  dtdtrend  \\\n489123    29823000.0  1991.0      1  0.045126  0.013825  1.810500       0.0   \n1714449  125959000.0  1991.0      1  0.045126  0.013825  7.910572       0.0   \n64808     27304000.0  1991.0      1  0.045126  0.013825  6.080297       0.0   \n192576    27954000.0  1991.0      1  0.045126  0.013825  2.527857       0.0   \n539304    30244000.0  1991.0      1  0.045126  0.013825  4.337317       0.0   \n\n         liqnonfinlevel  liqnonfintrend  ni2talevel  ...       m2b     sigma  \\\n489123         0.983576       -0.268833    0.003667  ...  0.628782  0.221843   \n1714449        0.538243        0.018112    0.016005  ...  3.515291  0.083693   \n64808          0.582996       -0.042528    0.006643  ...  1.674587  0.075069   \n192576         1.041157       -0.129895   -0.010749  ...  1.075097  0.191047   \n539304         0.656583        0.193871    0.007802  ...  2.520483  0.182062   \n\n         liqfinlevel  lqfintrend  DTDmedianFin  DTDmedianNonFin  dummy297fin  \\\n489123           0.0         0.0           0.0         2.812531            0   \n1714449          0.0         0.0           0.0         2.812531            0   \n64808            0.0         0.0           0.0         2.812531            0   \n192576           0.0         0.0           0.0         2.812531            0   \n539304           0.0         0.0           0.0         2.812531            0   \n\n         Default  day       date  \n489123         0    1 1991-01-01  \n1714449        0    1 1991-01-01  \n64808          0    1 1991-01-01  \n192576         0    1 1991-01-01  \n539304         0    1 1991-01-01  \n\n[5 rows x 23 columns]",
      "text/html": "<div>\n<style scoped>\n    .dataframe tbody tr th:only-of-type {\n        vertical-align: middle;\n    }\n\n    .dataframe tbody tr th {\n        vertical-align: top;\n    }\n\n    .dataframe thead th {\n        text-align: right;\n    }\n</style>\n<table border=\"1\" class=\"dataframe\">\n  <thead>\n    <tr style=\"text-align: right;\">\n      <th></th>\n      <th>CompNo</th>\n      <th>year</th>\n      <th>month</th>\n      <th>StkIndx</th>\n      <th>STInt</th>\n      <th>dtdlevel</th>\n      <th>dtdtrend</th>\n      <th>liqnonfinlevel</th>\n      <th>liqnonfintrend</th>\n      <th>ni2talevel</th>\n      <th>...</th>\n      <th>m2b</th>\n      <th>sigma</th>\n      <th>liqfinlevel</th>\n      <th>lqfintrend</th>\n      <th>DTDmedianFin</th>\n      <th>DTDmedianNonFin</th>\n      <th>dummy297fin</th>\n      <th>Default</th>\n      <th>day</th>\n      <th>date</th>\n    </tr>\n  </thead>\n  <tbody>\n    <tr>\n      <th>489123</th>\n      <td>29823000.0</td>\n      <td>1991.0</td>\n      <td>1</td>\n      <td>0.045126</td>\n      <td>0.013825</td>\n      <td>1.810500</td>\n      <td>0.0</td>\n      <td>0.983576</td>\n      <td>-0.268833</td>\n      <td>0.003667</td>\n      <td>...</td>\n      <td>0.628782</td>\n      <td>0.221843</td>\n      <td>0.0</td>\n      <td>0.0</td>\n      <td>0.0</td>\n      <td>2.812531</td>\n      <td>0</td>\n      <td>0</td>\n      <td>1</td>\n      <td>1991-01-01</td>\n    </tr>\n    <tr>\n      <th>1714449</th>\n      <td>125959000.0</td>\n      <td>1991.0</td>\n      <td>1</td>\n      <td>0.045126</td>\n      <td>0.013825</td>\n      <td>7.910572</td>\n      <td>0.0</td>\n      <td>0.538243</td>\n      <td>0.018112</td>\n      <td>0.016005</td>\n      <td>...</td>\n      <td>3.515291</td>\n      <td>0.083693</td>\n      <td>0.0</td>\n      <td>0.0</td>\n      <td>0.0</td>\n      <td>2.812531</td>\n      <td>0</td>\n      <td>0</td>\n      <td>1</td>\n      <td>1991-01-01</td>\n    </tr>\n    <tr>\n      <th>64808</th>\n      <td>27304000.0</td>\n      <td>1991.0</td>\n      <td>1</td>\n      <td>0.045126</td>\n      <td>0.013825</td>\n      <td>6.080297</td>\n      <td>0.0</td>\n      <td>0.582996</td>\n      <td>-0.042528</td>\n      <td>0.006643</td>\n      <td>...</td>\n      <td>1.674587</td>\n      <td>0.075069</td>\n      <td>0.0</td>\n      <td>0.0</td>\n      <td>0.0</td>\n      <td>2.812531</td>\n      <td>0</td>\n      <td>0</td>\n      <td>1</td>\n      <td>1991-01-01</td>\n    </tr>\n    <tr>\n      <th>192576</th>\n      <td>27954000.0</td>\n      <td>1991.0</td>\n      <td>1</td>\n      <td>0.045126</td>\n      <td>0.013825</td>\n      <td>2.527857</td>\n      <td>0.0</td>\n      <td>1.041157</td>\n      <td>-0.129895</td>\n      <td>-0.010749</td>\n      <td>...</td>\n      <td>1.075097</td>\n      <td>0.191047</td>\n      <td>0.0</td>\n      <td>0.0</td>\n      <td>0.0</td>\n      <td>2.812531</td>\n      <td>0</td>\n      <td>0</td>\n      <td>1</td>\n      <td>1991-01-01</td>\n    </tr>\n    <tr>\n      <th>539304</th>\n      <td>30244000.0</td>\n      <td>1991.0</td>\n      <td>1</td>\n      <td>0.045126</td>\n      <td>0.013825</td>\n      <td>4.337317</td>\n      <td>0.0</td>\n      <td>0.656583</td>\n      <td>0.193871</td>\n      <td>0.007802</td>\n      <td>...</td>\n      <td>2.520483</td>\n      <td>0.182062</td>\n      <td>0.0</td>\n      <td>0.0</td>\n      <td>0.0</td>\n      <td>2.812531</td>\n      <td>0</td>\n      <td>0</td>\n      <td>1</td>\n      <td>1991-01-01</td>\n    </tr>\n  </tbody>\n</table>\n<p>5 rows × 23 columns</p>\n</div>"
     },
     "execution_count": 97,
     "metadata": {},
     "output_type": "execute_result"
    }
   ],
   "source": [
    "cri_data.head()"
   ],
   "metadata": {
    "collapsed": false,
    "ExecuteTime": {
     "end_time": "2023-10-18T12:20:11.178302Z",
     "start_time": "2023-10-18T12:20:11.158468Z"
    }
   },
   "id": "15becd0b2be54ba"
  },
  {
   "cell_type": "code",
   "execution_count": 98,
   "outputs": [
    {
     "data": {
      "text/plain": "   gvkey   datadate  tic     sic       ta       lt     dlc     dtp     che  \\\n0   1004 2001-11-30  AIR  5080.0  714.208  429.864  71.162  55.134  53.129   \n1   1004 2001-12-31  AIR  5080.0  714.208  429.864  71.162  55.134  53.129   \n2   1004 2002-01-31  AIR  5080.0  714.208  429.864  71.162  55.134  53.129   \n3   1004 2002-02-28  AIR  5080.0  690.681  375.849  20.890  55.314  34.454   \n4   1004 2002-03-31  AIR  5080.0  690.681  375.849  20.890  55.314  34.454   \n\n       lct  ...  inventory_turnover  inventory_days  receivables_turnover  \\\n0  183.797  ...              -8.661          -8.661              1.828483   \n1  183.797  ...              -8.661          -8.661              1.828483   \n2  183.797  ...              -8.661          -8.661              1.828483   \n3  129.670  ...             -16.751         -16.751              2.005354   \n4  129.670  ...             -16.751         -16.751              2.005354   \n\n          dso  working_capital_turnover  pe_ratio  retention_ratio    year  \\\n0  199.619019                  0.502881 -5.093750       146.623341  2001.0   \n1  199.619019                  0.502881 -5.093750       146.623341  2001.0   \n2  199.619019                  0.502881 -5.093750       146.623341  2001.0   \n3  182.012763                  0.447152 -3.957219      3546.832238  2002.0   \n4  182.012763                  0.447152 -3.957219      3546.832238  2002.0   \n\n   quarter  mm  \n0      4.0  11  \n1      4.0  12  \n2      4.0   1  \n3      1.0   2  \n4      1.0   3  \n\n[5 rows x 44 columns]",
      "text/html": "<div>\n<style scoped>\n    .dataframe tbody tr th:only-of-type {\n        vertical-align: middle;\n    }\n\n    .dataframe tbody tr th {\n        vertical-align: top;\n    }\n\n    .dataframe thead th {\n        text-align: right;\n    }\n</style>\n<table border=\"1\" class=\"dataframe\">\n  <thead>\n    <tr style=\"text-align: right;\">\n      <th></th>\n      <th>gvkey</th>\n      <th>datadate</th>\n      <th>tic</th>\n      <th>sic</th>\n      <th>ta</th>\n      <th>lt</th>\n      <th>dlc</th>\n      <th>dtp</th>\n      <th>che</th>\n      <th>lct</th>\n      <th>...</th>\n      <th>inventory_turnover</th>\n      <th>inventory_days</th>\n      <th>receivables_turnover</th>\n      <th>dso</th>\n      <th>working_capital_turnover</th>\n      <th>pe_ratio</th>\n      <th>retention_ratio</th>\n      <th>year</th>\n      <th>quarter</th>\n      <th>mm</th>\n    </tr>\n  </thead>\n  <tbody>\n    <tr>\n      <th>0</th>\n      <td>1004</td>\n      <td>2001-11-30</td>\n      <td>AIR</td>\n      <td>5080.0</td>\n      <td>714.208</td>\n      <td>429.864</td>\n      <td>71.162</td>\n      <td>55.134</td>\n      <td>53.129</td>\n      <td>183.797</td>\n      <td>...</td>\n      <td>-8.661</td>\n      <td>-8.661</td>\n      <td>1.828483</td>\n      <td>199.619019</td>\n      <td>0.502881</td>\n      <td>-5.093750</td>\n      <td>146.623341</td>\n      <td>2001.0</td>\n      <td>4.0</td>\n      <td>11</td>\n    </tr>\n    <tr>\n      <th>1</th>\n      <td>1004</td>\n      <td>2001-12-31</td>\n      <td>AIR</td>\n      <td>5080.0</td>\n      <td>714.208</td>\n      <td>429.864</td>\n      <td>71.162</td>\n      <td>55.134</td>\n      <td>53.129</td>\n      <td>183.797</td>\n      <td>...</td>\n      <td>-8.661</td>\n      <td>-8.661</td>\n      <td>1.828483</td>\n      <td>199.619019</td>\n      <td>0.502881</td>\n      <td>-5.093750</td>\n      <td>146.623341</td>\n      <td>2001.0</td>\n      <td>4.0</td>\n      <td>12</td>\n    </tr>\n    <tr>\n      <th>2</th>\n      <td>1004</td>\n      <td>2002-01-31</td>\n      <td>AIR</td>\n      <td>5080.0</td>\n      <td>714.208</td>\n      <td>429.864</td>\n      <td>71.162</td>\n      <td>55.134</td>\n      <td>53.129</td>\n      <td>183.797</td>\n      <td>...</td>\n      <td>-8.661</td>\n      <td>-8.661</td>\n      <td>1.828483</td>\n      <td>199.619019</td>\n      <td>0.502881</td>\n      <td>-5.093750</td>\n      <td>146.623341</td>\n      <td>2001.0</td>\n      <td>4.0</td>\n      <td>1</td>\n    </tr>\n    <tr>\n      <th>3</th>\n      <td>1004</td>\n      <td>2002-02-28</td>\n      <td>AIR</td>\n      <td>5080.0</td>\n      <td>690.681</td>\n      <td>375.849</td>\n      <td>20.890</td>\n      <td>55.314</td>\n      <td>34.454</td>\n      <td>129.670</td>\n      <td>...</td>\n      <td>-16.751</td>\n      <td>-16.751</td>\n      <td>2.005354</td>\n      <td>182.012763</td>\n      <td>0.447152</td>\n      <td>-3.957219</td>\n      <td>3546.832238</td>\n      <td>2002.0</td>\n      <td>1.0</td>\n      <td>2</td>\n    </tr>\n    <tr>\n      <th>4</th>\n      <td>1004</td>\n      <td>2002-03-31</td>\n      <td>AIR</td>\n      <td>5080.0</td>\n      <td>690.681</td>\n      <td>375.849</td>\n      <td>20.890</td>\n      <td>55.314</td>\n      <td>34.454</td>\n      <td>129.670</td>\n      <td>...</td>\n      <td>-16.751</td>\n      <td>-16.751</td>\n      <td>2.005354</td>\n      <td>182.012763</td>\n      <td>0.447152</td>\n      <td>-3.957219</td>\n      <td>3546.832238</td>\n      <td>2002.0</td>\n      <td>1.0</td>\n      <td>3</td>\n    </tr>\n  </tbody>\n</table>\n<p>5 rows × 44 columns</p>\n</div>"
     },
     "execution_count": 98,
     "metadata": {},
     "output_type": "execute_result"
    }
   ],
   "source": [
    "compustat_data.head()"
   ],
   "metadata": {
    "collapsed": false,
    "ExecuteTime": {
     "end_time": "2023-10-18T12:20:12.094336Z",
     "start_time": "2023-10-18T12:20:12.085433Z"
    }
   },
   "id": "6aceb58c8a7d2593"
  },
  {
   "cell_type": "code",
   "execution_count": 99,
   "outputs": [
    {
     "name": "stdout",
     "output_type": "stream",
     "text": [
      "(2374929, 44)\n",
      "(2240223, 23)\n"
     ]
    }
   ],
   "source": [
    "print(compustat_data.shape)\n",
    "print(cri_data.shape)"
   ],
   "metadata": {
    "collapsed": false,
    "ExecuteTime": {
     "end_time": "2023-10-18T12:20:13.455037Z",
     "start_time": "2023-10-18T12:20:13.452497Z"
    }
   },
   "id": "ca70e7014ed22949"
  },
  {
   "cell_type": "code",
   "execution_count": 100,
   "outputs": [
    {
     "name": "stdout",
     "output_type": "stream",
     "text": [
      "22672\n",
      "23511\n"
     ]
    }
   ],
   "source": [
    "print(len(compustat_data['gvkey'].unique()))\n",
    "print(len(cri_data['CompNo'].unique()))"
   ],
   "metadata": {
    "collapsed": false,
    "ExecuteTime": {
     "end_time": "2023-10-18T12:20:14.223707Z",
     "start_time": "2023-10-18T12:20:14.200708Z"
    }
   },
   "id": "6f2e9f98741c890c"
  },
  {
   "cell_type": "code",
   "execution_count": 101,
   "outputs": [
    {
     "data": {
      "text/plain": "   company_number   gvkey\n0           50797  177439\n1           92318  160317\n2           92300  106156\n3           45321  141466\n4           43665   66636",
      "text/html": "<div>\n<style scoped>\n    .dataframe tbody tr th:only-of-type {\n        vertical-align: middle;\n    }\n\n    .dataframe tbody tr th {\n        vertical-align: top;\n    }\n\n    .dataframe thead th {\n        text-align: right;\n    }\n</style>\n<table border=\"1\" class=\"dataframe\">\n  <thead>\n    <tr style=\"text-align: right;\">\n      <th></th>\n      <th>company_number</th>\n      <th>gvkey</th>\n    </tr>\n  </thead>\n  <tbody>\n    <tr>\n      <th>0</th>\n      <td>50797</td>\n      <td>177439</td>\n    </tr>\n    <tr>\n      <th>1</th>\n      <td>92318</td>\n      <td>160317</td>\n    </tr>\n    <tr>\n      <th>2</th>\n      <td>92300</td>\n      <td>106156</td>\n    </tr>\n    <tr>\n      <th>3</th>\n      <td>45321</td>\n      <td>141466</td>\n    </tr>\n    <tr>\n      <th>4</th>\n      <td>43665</td>\n      <td>66636</td>\n    </tr>\n  </tbody>\n</table>\n</div>"
     },
     "execution_count": 101,
     "metadata": {},
     "output_type": "execute_result"
    }
   ],
   "source": [
    "company_map = pd.read_csv('./compustat_company_map.xlsx - in.csv')\n",
    "company_map.head()"
   ],
   "metadata": {
    "collapsed": false,
    "ExecuteTime": {
     "end_time": "2023-10-18T12:20:15.309868Z",
     "start_time": "2023-10-18T12:20:15.290996Z"
    }
   },
   "id": "cb6d271955387d3c"
  },
  {
   "cell_type": "code",
   "execution_count": 102,
   "outputs": [],
   "source": [
    "# Format comp no \n",
    "cri_data['CompNo_formatted'] = cri_data['CompNo'].apply(lambda x: int(x / 1000))"
   ],
   "metadata": {
    "collapsed": false,
    "ExecuteTime": {
     "end_time": "2023-10-18T12:20:17.242133Z",
     "start_time": "2023-10-18T12:20:16.741297Z"
    }
   },
   "id": "d8616208a6e69035"
  },
  {
   "cell_type": "code",
   "execution_count": 103,
   "outputs": [],
   "source": [
    "# mapping from company number to gvkey\n",
    "mapping_dict = company_map.set_index('company_number')['gvkey'].to_dict()"
   ],
   "metadata": {
    "collapsed": false,
    "ExecuteTime": {
     "end_time": "2023-10-18T12:20:18.656890Z",
     "start_time": "2023-10-18T12:20:18.626926Z"
    }
   },
   "id": "30c073ddfdadf688"
  },
  {
   "cell_type": "code",
   "execution_count": 104,
   "outputs": [],
   "source": [
    "cri_data['gvkey'] = cri_data['CompNo_formatted'].map(mapping_dict)"
   ],
   "metadata": {
    "collapsed": false,
    "ExecuteTime": {
     "end_time": "2023-10-18T12:20:19.740298Z",
     "start_time": "2023-10-18T12:20:19.705840Z"
    }
   },
   "id": "5404aa4030401c1d"
  },
  {
   "cell_type": "code",
   "execution_count": 105,
   "outputs": [
    {
     "data": {
      "text/plain": "(1943733, 25)"
     },
     "execution_count": 105,
     "metadata": {},
     "output_type": "execute_result"
    }
   ],
   "source": [
    "cri_data = cri_data.dropna()\n",
    "cri_data.shape # lost about 300k rows from missing mapping values, ie 13%"
   ],
   "metadata": {
    "collapsed": false,
    "ExecuteTime": {
     "end_time": "2023-10-18T12:20:21.102719Z",
     "start_time": "2023-10-18T12:20:20.779173Z"
    }
   },
   "id": "1b9ed2bc226215c6"
  },
  {
   "cell_type": "code",
   "execution_count": 106,
   "outputs": [
    {
     "data": {
      "text/plain": "   gvkey   datadate  tic     sic       ta       lt     dlc     dtp     che  \\\n0   1004 2001-11-30  AIR  5080.0  714.208  429.864  71.162  55.134  53.129   \n1   1004 2001-12-31  AIR  5080.0  714.208  429.864  71.162  55.134  53.129   \n2   1004 2002-01-31  AIR  5080.0  714.208  429.864  71.162  55.134  53.129   \n3   1004 2002-02-28  AIR  5080.0  690.681  375.849  20.890  55.314  34.454   \n4   1004 2002-03-31  AIR  5080.0  690.681  375.849  20.890  55.314  34.454   \n\n       lct  ...  inventory_turnover  inventory_days  receivables_turnover  \\\n0  183.797  ...              -8.661          -8.661              1.828483   \n1  183.797  ...              -8.661          -8.661              1.828483   \n2  183.797  ...              -8.661          -8.661              1.828483   \n3  129.670  ...             -16.751         -16.751              2.005354   \n4  129.670  ...             -16.751         -16.751              2.005354   \n\n          dso  working_capital_turnover  pe_ratio  retention_ratio    year  \\\n0  199.619019                  0.502881 -5.093750       146.623341  2001.0   \n1  199.619019                  0.502881 -5.093750       146.623341  2001.0   \n2  199.619019                  0.502881 -5.093750       146.623341  2001.0   \n3  182.012763                  0.447152 -3.957219      3546.832238  2002.0   \n4  182.012763                  0.447152 -3.957219      3546.832238  2002.0   \n\n   quarter  mm  \n0      4.0  11  \n1      4.0  12  \n2      4.0   1  \n3      1.0   2  \n4      1.0   3  \n\n[5 rows x 44 columns]",
      "text/html": "<div>\n<style scoped>\n    .dataframe tbody tr th:only-of-type {\n        vertical-align: middle;\n    }\n\n    .dataframe tbody tr th {\n        vertical-align: top;\n    }\n\n    .dataframe thead th {\n        text-align: right;\n    }\n</style>\n<table border=\"1\" class=\"dataframe\">\n  <thead>\n    <tr style=\"text-align: right;\">\n      <th></th>\n      <th>gvkey</th>\n      <th>datadate</th>\n      <th>tic</th>\n      <th>sic</th>\n      <th>ta</th>\n      <th>lt</th>\n      <th>dlc</th>\n      <th>dtp</th>\n      <th>che</th>\n      <th>lct</th>\n      <th>...</th>\n      <th>inventory_turnover</th>\n      <th>inventory_days</th>\n      <th>receivables_turnover</th>\n      <th>dso</th>\n      <th>working_capital_turnover</th>\n      <th>pe_ratio</th>\n      <th>retention_ratio</th>\n      <th>year</th>\n      <th>quarter</th>\n      <th>mm</th>\n    </tr>\n  </thead>\n  <tbody>\n    <tr>\n      <th>0</th>\n      <td>1004</td>\n      <td>2001-11-30</td>\n      <td>AIR</td>\n      <td>5080.0</td>\n      <td>714.208</td>\n      <td>429.864</td>\n      <td>71.162</td>\n      <td>55.134</td>\n      <td>53.129</td>\n      <td>183.797</td>\n      <td>...</td>\n      <td>-8.661</td>\n      <td>-8.661</td>\n      <td>1.828483</td>\n      <td>199.619019</td>\n      <td>0.502881</td>\n      <td>-5.093750</td>\n      <td>146.623341</td>\n      <td>2001.0</td>\n      <td>4.0</td>\n      <td>11</td>\n    </tr>\n    <tr>\n      <th>1</th>\n      <td>1004</td>\n      <td>2001-12-31</td>\n      <td>AIR</td>\n      <td>5080.0</td>\n      <td>714.208</td>\n      <td>429.864</td>\n      <td>71.162</td>\n      <td>55.134</td>\n      <td>53.129</td>\n      <td>183.797</td>\n      <td>...</td>\n      <td>-8.661</td>\n      <td>-8.661</td>\n      <td>1.828483</td>\n      <td>199.619019</td>\n      <td>0.502881</td>\n      <td>-5.093750</td>\n      <td>146.623341</td>\n      <td>2001.0</td>\n      <td>4.0</td>\n      <td>12</td>\n    </tr>\n    <tr>\n      <th>2</th>\n      <td>1004</td>\n      <td>2002-01-31</td>\n      <td>AIR</td>\n      <td>5080.0</td>\n      <td>714.208</td>\n      <td>429.864</td>\n      <td>71.162</td>\n      <td>55.134</td>\n      <td>53.129</td>\n      <td>183.797</td>\n      <td>...</td>\n      <td>-8.661</td>\n      <td>-8.661</td>\n      <td>1.828483</td>\n      <td>199.619019</td>\n      <td>0.502881</td>\n      <td>-5.093750</td>\n      <td>146.623341</td>\n      <td>2001.0</td>\n      <td>4.0</td>\n      <td>1</td>\n    </tr>\n    <tr>\n      <th>3</th>\n      <td>1004</td>\n      <td>2002-02-28</td>\n      <td>AIR</td>\n      <td>5080.0</td>\n      <td>690.681</td>\n      <td>375.849</td>\n      <td>20.890</td>\n      <td>55.314</td>\n      <td>34.454</td>\n      <td>129.670</td>\n      <td>...</td>\n      <td>-16.751</td>\n      <td>-16.751</td>\n      <td>2.005354</td>\n      <td>182.012763</td>\n      <td>0.447152</td>\n      <td>-3.957219</td>\n      <td>3546.832238</td>\n      <td>2002.0</td>\n      <td>1.0</td>\n      <td>2</td>\n    </tr>\n    <tr>\n      <th>4</th>\n      <td>1004</td>\n      <td>2002-03-31</td>\n      <td>AIR</td>\n      <td>5080.0</td>\n      <td>690.681</td>\n      <td>375.849</td>\n      <td>20.890</td>\n      <td>55.314</td>\n      <td>34.454</td>\n      <td>129.670</td>\n      <td>...</td>\n      <td>-16.751</td>\n      <td>-16.751</td>\n      <td>2.005354</td>\n      <td>182.012763</td>\n      <td>0.447152</td>\n      <td>-3.957219</td>\n      <td>3546.832238</td>\n      <td>2002.0</td>\n      <td>1.0</td>\n      <td>3</td>\n    </tr>\n  </tbody>\n</table>\n<p>5 rows × 44 columns</p>\n</div>"
     },
     "execution_count": 106,
     "metadata": {},
     "output_type": "execute_result"
    }
   ],
   "source": [
    "compustat_data.head()"
   ],
   "metadata": {
    "collapsed": false,
    "ExecuteTime": {
     "end_time": "2023-10-18T12:20:22.505413Z",
     "start_time": "2023-10-18T12:20:22.496876Z"
    }
   },
   "id": "9d5819794e3df307"
  },
  {
   "cell_type": "code",
   "execution_count": 107,
   "outputs": [
    {
     "data": {
      "text/plain": "          gvkey        ta        lt     dlc      dtp      che      lct  \\\n0          1004  714.2080  429.8640  71.162  55.1340   53.129  183.797   \n1          1004  714.2080  429.8640  71.162  55.1340   53.129  183.797   \n2          1004  714.2080  429.8640  71.162  55.1340   53.129  183.797   \n3          1004  690.6810  375.8490  20.890  55.3140   34.454  129.670   \n4          1004  690.6810  375.8490  20.890  55.3140   34.454  129.670   \n...         ...       ...       ...     ...      ...      ...      ...   \n2374924  353945  407.2310   75.4930   6.954   0.1485   33.225   64.711   \n2374925  353945  488.3815  228.0905   8.396   0.2030   35.454   77.485   \n2374926  353945  488.3815  228.0905   8.396   0.2030   35.454   77.485   \n2374927  353945  488.3815  228.0905   8.396   0.2030   35.454   77.485   \n2374928  353945  981.5510  685.0450   7.130  32.8110  189.357  286.396   \n\n              act    invtq  intanq  ...  asset_turnover  inventory_turnover  \\\n0        714.2080  265.818  48.474  ...        0.416489             -8.6610   \n1        714.2080  265.818  48.474  ...        0.416489             -8.6610   \n2        714.2080  265.818  48.474  ...        0.416489             -8.6610   \n3        690.6810  271.342  45.453  ...        0.291972            -16.7510   \n4        690.6810  271.342  45.453  ...        0.291972            -16.7510   \n...           ...      ...     ...  ...             ...                 ...   \n2374924  407.2310   32.924  26.303  ...        0.532039             -6.3005   \n2374925  488.3815   74.236  39.820  ...        0.358163            -13.7490   \n2374926  488.3815   74.236  39.820  ...        0.358163            -13.7490   \n2374927  488.3815   74.236  39.820  ...        0.358163            -13.7490   \n2374928  981.5510  186.287  10.540  ...        1.000000            -33.6320   \n\n         inventory_days  receivables_turnover         dso  \\\n0               -8.6610              1.828483  199.619019   \n1               -8.6610              1.828483  199.619019   \n2               -8.6610              1.828483  199.619019   \n3              -16.7510              2.005354  182.012763   \n4              -16.7510              2.005354  182.012763   \n...                 ...                   ...         ...   \n2374924         -6.3005              1.578615  231.215355   \n2374925        -13.7490              1.490826  246.804261   \n2374926        -13.7490              1.490826  246.804261   \n2374927        -13.7490              1.490826  246.804261   \n2374928        -33.6320              3.380577  107.969740   \n\n         working_capital_turnover   pe_ratio  retention_ratio    year  month  \n0                        0.502881  -5.093750       146.623341  2001.0     11  \n1                        0.502881  -5.093750       146.623341  2001.0     12  \n2                        0.502881  -5.093750       146.623341  2001.0      1  \n3                        0.447152  -3.957219      3546.832238  2002.0      2  \n4                        0.447152  -3.957219      3546.832238  2002.0      3  \n...                           ...        ...              ...     ...    ...  \n2374924                  0.677005  16.630451         5.297990  2022.0      8  \n2374925                  0.588082  -4.336634        11.068578  2022.0      9  \n2374926                  0.588082  -4.336634        11.068578  2022.0     10  \n2374927                  0.588082  -4.336634        11.068578  2022.0     11  \n2374928                  2.376009  15.796183       186.322000  2022.0     12  \n\n[2374929 rows x 40 columns]",
      "text/html": "<div>\n<style scoped>\n    .dataframe tbody tr th:only-of-type {\n        vertical-align: middle;\n    }\n\n    .dataframe tbody tr th {\n        vertical-align: top;\n    }\n\n    .dataframe thead th {\n        text-align: right;\n    }\n</style>\n<table border=\"1\" class=\"dataframe\">\n  <thead>\n    <tr style=\"text-align: right;\">\n      <th></th>\n      <th>gvkey</th>\n      <th>ta</th>\n      <th>lt</th>\n      <th>dlc</th>\n      <th>dtp</th>\n      <th>che</th>\n      <th>lct</th>\n      <th>act</th>\n      <th>invtq</th>\n      <th>intanq</th>\n      <th>...</th>\n      <th>asset_turnover</th>\n      <th>inventory_turnover</th>\n      <th>inventory_days</th>\n      <th>receivables_turnover</th>\n      <th>dso</th>\n      <th>working_capital_turnover</th>\n      <th>pe_ratio</th>\n      <th>retention_ratio</th>\n      <th>year</th>\n      <th>month</th>\n    </tr>\n  </thead>\n  <tbody>\n    <tr>\n      <th>0</th>\n      <td>1004</td>\n      <td>714.2080</td>\n      <td>429.8640</td>\n      <td>71.162</td>\n      <td>55.1340</td>\n      <td>53.129</td>\n      <td>183.797</td>\n      <td>714.2080</td>\n      <td>265.818</td>\n      <td>48.474</td>\n      <td>...</td>\n      <td>0.416489</td>\n      <td>-8.6610</td>\n      <td>-8.6610</td>\n      <td>1.828483</td>\n      <td>199.619019</td>\n      <td>0.502881</td>\n      <td>-5.093750</td>\n      <td>146.623341</td>\n      <td>2001.0</td>\n      <td>11</td>\n    </tr>\n    <tr>\n      <th>1</th>\n      <td>1004</td>\n      <td>714.2080</td>\n      <td>429.8640</td>\n      <td>71.162</td>\n      <td>55.1340</td>\n      <td>53.129</td>\n      <td>183.797</td>\n      <td>714.2080</td>\n      <td>265.818</td>\n      <td>48.474</td>\n      <td>...</td>\n      <td>0.416489</td>\n      <td>-8.6610</td>\n      <td>-8.6610</td>\n      <td>1.828483</td>\n      <td>199.619019</td>\n      <td>0.502881</td>\n      <td>-5.093750</td>\n      <td>146.623341</td>\n      <td>2001.0</td>\n      <td>12</td>\n    </tr>\n    <tr>\n      <th>2</th>\n      <td>1004</td>\n      <td>714.2080</td>\n      <td>429.8640</td>\n      <td>71.162</td>\n      <td>55.1340</td>\n      <td>53.129</td>\n      <td>183.797</td>\n      <td>714.2080</td>\n      <td>265.818</td>\n      <td>48.474</td>\n      <td>...</td>\n      <td>0.416489</td>\n      <td>-8.6610</td>\n      <td>-8.6610</td>\n      <td>1.828483</td>\n      <td>199.619019</td>\n      <td>0.502881</td>\n      <td>-5.093750</td>\n      <td>146.623341</td>\n      <td>2001.0</td>\n      <td>1</td>\n    </tr>\n    <tr>\n      <th>3</th>\n      <td>1004</td>\n      <td>690.6810</td>\n      <td>375.8490</td>\n      <td>20.890</td>\n      <td>55.3140</td>\n      <td>34.454</td>\n      <td>129.670</td>\n      <td>690.6810</td>\n      <td>271.342</td>\n      <td>45.453</td>\n      <td>...</td>\n      <td>0.291972</td>\n      <td>-16.7510</td>\n      <td>-16.7510</td>\n      <td>2.005354</td>\n      <td>182.012763</td>\n      <td>0.447152</td>\n      <td>-3.957219</td>\n      <td>3546.832238</td>\n      <td>2002.0</td>\n      <td>2</td>\n    </tr>\n    <tr>\n      <th>4</th>\n      <td>1004</td>\n      <td>690.6810</td>\n      <td>375.8490</td>\n      <td>20.890</td>\n      <td>55.3140</td>\n      <td>34.454</td>\n      <td>129.670</td>\n      <td>690.6810</td>\n      <td>271.342</td>\n      <td>45.453</td>\n      <td>...</td>\n      <td>0.291972</td>\n      <td>-16.7510</td>\n      <td>-16.7510</td>\n      <td>2.005354</td>\n      <td>182.012763</td>\n      <td>0.447152</td>\n      <td>-3.957219</td>\n      <td>3546.832238</td>\n      <td>2002.0</td>\n      <td>3</td>\n    </tr>\n    <tr>\n      <th>...</th>\n      <td>...</td>\n      <td>...</td>\n      <td>...</td>\n      <td>...</td>\n      <td>...</td>\n      <td>...</td>\n      <td>...</td>\n      <td>...</td>\n      <td>...</td>\n      <td>...</td>\n      <td>...</td>\n      <td>...</td>\n      <td>...</td>\n      <td>...</td>\n      <td>...</td>\n      <td>...</td>\n      <td>...</td>\n      <td>...</td>\n      <td>...</td>\n      <td>...</td>\n      <td>...</td>\n    </tr>\n    <tr>\n      <th>2374924</th>\n      <td>353945</td>\n      <td>407.2310</td>\n      <td>75.4930</td>\n      <td>6.954</td>\n      <td>0.1485</td>\n      <td>33.225</td>\n      <td>64.711</td>\n      <td>407.2310</td>\n      <td>32.924</td>\n      <td>26.303</td>\n      <td>...</td>\n      <td>0.532039</td>\n      <td>-6.3005</td>\n      <td>-6.3005</td>\n      <td>1.578615</td>\n      <td>231.215355</td>\n      <td>0.677005</td>\n      <td>16.630451</td>\n      <td>5.297990</td>\n      <td>2022.0</td>\n      <td>8</td>\n    </tr>\n    <tr>\n      <th>2374925</th>\n      <td>353945</td>\n      <td>488.3815</td>\n      <td>228.0905</td>\n      <td>8.396</td>\n      <td>0.2030</td>\n      <td>35.454</td>\n      <td>77.485</td>\n      <td>488.3815</td>\n      <td>74.236</td>\n      <td>39.820</td>\n      <td>...</td>\n      <td>0.358163</td>\n      <td>-13.7490</td>\n      <td>-13.7490</td>\n      <td>1.490826</td>\n      <td>246.804261</td>\n      <td>0.588082</td>\n      <td>-4.336634</td>\n      <td>11.068578</td>\n      <td>2022.0</td>\n      <td>9</td>\n    </tr>\n    <tr>\n      <th>2374926</th>\n      <td>353945</td>\n      <td>488.3815</td>\n      <td>228.0905</td>\n      <td>8.396</td>\n      <td>0.2030</td>\n      <td>35.454</td>\n      <td>77.485</td>\n      <td>488.3815</td>\n      <td>74.236</td>\n      <td>39.820</td>\n      <td>...</td>\n      <td>0.358163</td>\n      <td>-13.7490</td>\n      <td>-13.7490</td>\n      <td>1.490826</td>\n      <td>246.804261</td>\n      <td>0.588082</td>\n      <td>-4.336634</td>\n      <td>11.068578</td>\n      <td>2022.0</td>\n      <td>10</td>\n    </tr>\n    <tr>\n      <th>2374927</th>\n      <td>353945</td>\n      <td>488.3815</td>\n      <td>228.0905</td>\n      <td>8.396</td>\n      <td>0.2030</td>\n      <td>35.454</td>\n      <td>77.485</td>\n      <td>488.3815</td>\n      <td>74.236</td>\n      <td>39.820</td>\n      <td>...</td>\n      <td>0.358163</td>\n      <td>-13.7490</td>\n      <td>-13.7490</td>\n      <td>1.490826</td>\n      <td>246.804261</td>\n      <td>0.588082</td>\n      <td>-4.336634</td>\n      <td>11.068578</td>\n      <td>2022.0</td>\n      <td>11</td>\n    </tr>\n    <tr>\n      <th>2374928</th>\n      <td>353945</td>\n      <td>981.5510</td>\n      <td>685.0450</td>\n      <td>7.130</td>\n      <td>32.8110</td>\n      <td>189.357</td>\n      <td>286.396</td>\n      <td>981.5510</td>\n      <td>186.287</td>\n      <td>10.540</td>\n      <td>...</td>\n      <td>1.000000</td>\n      <td>-33.6320</td>\n      <td>-33.6320</td>\n      <td>3.380577</td>\n      <td>107.969740</td>\n      <td>2.376009</td>\n      <td>15.796183</td>\n      <td>186.322000</td>\n      <td>2022.0</td>\n      <td>12</td>\n    </tr>\n  </tbody>\n</table>\n<p>2374929 rows × 40 columns</p>\n</div>"
     },
     "execution_count": 107,
     "metadata": {},
     "output_type": "execute_result"
    }
   ],
   "source": [
    "# clean compustat\n",
    "compustat_data.rename(columns = {'mm': 'month'}, inplace=True)\n",
    "compustat_data.drop(columns = ['datadate', 'tic', 'sic', 'quarter'], inplace=True)\n",
    "compustat_data"
   ],
   "metadata": {
    "collapsed": false,
    "ExecuteTime": {
     "end_time": "2023-10-18T12:20:27.773154Z",
     "start_time": "2023-10-18T12:20:27.562243Z"
    }
   },
   "id": "827bf20aeaf9026c"
  },
  {
   "cell_type": "code",
   "execution_count": 108,
   "outputs": [
    {
     "data": {
      "text/plain": "              CompNo    year  month   StkIndx     STInt  dtdlevel  dtdtrend  \\\n489123    29823000.0  1991.0      1  0.045126  0.013825  1.810500  0.000000   \n1714449  125959000.0  1991.0      1  0.045126  0.013825  7.910572  0.000000   \n64808     27304000.0  1991.0      1  0.045126  0.013825  6.080297  0.000000   \n192576    27954000.0  1991.0      1  0.045126  0.013825  2.527857  0.000000   \n539304    30244000.0  1991.0      1  0.045126  0.013825  4.337317  0.000000   \n...              ...     ...    ...       ...       ...       ...       ...   \n805772    32308000.0  2023.0      7  0.110445  0.009928  5.631405  0.160490   \n2199389   92092000.0  2023.0      7  0.015960 -0.010290  5.841532  0.910713   \n805572    32307000.0  2023.0      7  0.110445  0.009928  3.666131  1.479932   \n1464489   44224000.0  2023.0      7  0.110445  0.009928  9.384103  2.397847   \n2129490   52383000.0  2023.0      7  0.015960 -0.010290  3.347231  0.792576   \n\n         liqnonfinlevel  liqnonfintrend  ni2talevel  ...  liqfinlevel  \\\n489123         0.983576       -0.268833    0.003667  ...     0.000000   \n1714449        0.538243        0.018112    0.016005  ...     0.000000   \n64808          0.582996       -0.042528    0.006643  ...     0.000000   \n192576         1.041157       -0.129895   -0.010749  ...     0.000000   \n539304         0.656583        0.193871    0.007802  ...     0.000000   \n...                 ...             ...         ...  ...          ...   \n805772         0.252861        0.004128    0.002579  ...     0.000000   \n2199389        0.000000        0.000000    0.000585  ...    -3.171261   \n805572         0.458523        0.003382    0.006625  ...     0.000000   \n1464489        2.617266       -0.107896    0.003600  ...     0.000000   \n2129490        0.303174       -0.088284    0.006077  ...     0.000000   \n\n         lqfintrend  DTDmedianFin  DTDmedianNonFin  dummy297fin  Default  day  \\\n489123     0.000000      0.000000         2.812531            0        0    1   \n1714449    0.000000      0.000000         2.812531            0        0    1   \n64808      0.000000      0.000000         2.812531            0        0    1   \n192576     0.000000      0.000000         2.812531            0        0    1   \n539304     0.000000      0.000000         2.812531            0        0    1   \n...             ...           ...              ...          ...      ...  ...   \n805772     0.000000      0.000000         3.244875            0        0    1   \n2199389   -0.213082      3.453191         0.000000            1        0    1   \n805572     0.000000      0.000000         3.244875            0        0    1   \n1464489    0.000000      0.000000         3.244875            0        0    1   \n2129490    0.000000      0.000000         2.087496            0        0    1   \n\n              date  CompNo_formatted     gvkey  \n489123  1991-01-01             29823    4607.0  \n1714449 1991-01-01            125959    6074.0  \n64808   1991-01-01             27304    3532.0  \n192576  1991-01-01             27954    8333.0  \n539304  1991-01-01             30244    5839.0  \n...            ...               ...       ...  \n805772  2023-07-01             32308  174637.0  \n2199389 2023-07-01             92092  163968.0  \n805572  2023-07-01             32307   66371.0  \n1464489 2023-07-01             44224  112111.0  \n2129490 2023-07-01             52383  184582.0  \n\n[1943733 rows x 25 columns]",
      "text/html": "<div>\n<style scoped>\n    .dataframe tbody tr th:only-of-type {\n        vertical-align: middle;\n    }\n\n    .dataframe tbody tr th {\n        vertical-align: top;\n    }\n\n    .dataframe thead th {\n        text-align: right;\n    }\n</style>\n<table border=\"1\" class=\"dataframe\">\n  <thead>\n    <tr style=\"text-align: right;\">\n      <th></th>\n      <th>CompNo</th>\n      <th>year</th>\n      <th>month</th>\n      <th>StkIndx</th>\n      <th>STInt</th>\n      <th>dtdlevel</th>\n      <th>dtdtrend</th>\n      <th>liqnonfinlevel</th>\n      <th>liqnonfintrend</th>\n      <th>ni2talevel</th>\n      <th>...</th>\n      <th>liqfinlevel</th>\n      <th>lqfintrend</th>\n      <th>DTDmedianFin</th>\n      <th>DTDmedianNonFin</th>\n      <th>dummy297fin</th>\n      <th>Default</th>\n      <th>day</th>\n      <th>date</th>\n      <th>CompNo_formatted</th>\n      <th>gvkey</th>\n    </tr>\n  </thead>\n  <tbody>\n    <tr>\n      <th>489123</th>\n      <td>29823000.0</td>\n      <td>1991.0</td>\n      <td>1</td>\n      <td>0.045126</td>\n      <td>0.013825</td>\n      <td>1.810500</td>\n      <td>0.000000</td>\n      <td>0.983576</td>\n      <td>-0.268833</td>\n      <td>0.003667</td>\n      <td>...</td>\n      <td>0.000000</td>\n      <td>0.000000</td>\n      <td>0.000000</td>\n      <td>2.812531</td>\n      <td>0</td>\n      <td>0</td>\n      <td>1</td>\n      <td>1991-01-01</td>\n      <td>29823</td>\n      <td>4607.0</td>\n    </tr>\n    <tr>\n      <th>1714449</th>\n      <td>125959000.0</td>\n      <td>1991.0</td>\n      <td>1</td>\n      <td>0.045126</td>\n      <td>0.013825</td>\n      <td>7.910572</td>\n      <td>0.000000</td>\n      <td>0.538243</td>\n      <td>0.018112</td>\n      <td>0.016005</td>\n      <td>...</td>\n      <td>0.000000</td>\n      <td>0.000000</td>\n      <td>0.000000</td>\n      <td>2.812531</td>\n      <td>0</td>\n      <td>0</td>\n      <td>1</td>\n      <td>1991-01-01</td>\n      <td>125959</td>\n      <td>6074.0</td>\n    </tr>\n    <tr>\n      <th>64808</th>\n      <td>27304000.0</td>\n      <td>1991.0</td>\n      <td>1</td>\n      <td>0.045126</td>\n      <td>0.013825</td>\n      <td>6.080297</td>\n      <td>0.000000</td>\n      <td>0.582996</td>\n      <td>-0.042528</td>\n      <td>0.006643</td>\n      <td>...</td>\n      <td>0.000000</td>\n      <td>0.000000</td>\n      <td>0.000000</td>\n      <td>2.812531</td>\n      <td>0</td>\n      <td>0</td>\n      <td>1</td>\n      <td>1991-01-01</td>\n      <td>27304</td>\n      <td>3532.0</td>\n    </tr>\n    <tr>\n      <th>192576</th>\n      <td>27954000.0</td>\n      <td>1991.0</td>\n      <td>1</td>\n      <td>0.045126</td>\n      <td>0.013825</td>\n      <td>2.527857</td>\n      <td>0.000000</td>\n      <td>1.041157</td>\n      <td>-0.129895</td>\n      <td>-0.010749</td>\n      <td>...</td>\n      <td>0.000000</td>\n      <td>0.000000</td>\n      <td>0.000000</td>\n      <td>2.812531</td>\n      <td>0</td>\n      <td>0</td>\n      <td>1</td>\n      <td>1991-01-01</td>\n      <td>27954</td>\n      <td>8333.0</td>\n    </tr>\n    <tr>\n      <th>539304</th>\n      <td>30244000.0</td>\n      <td>1991.0</td>\n      <td>1</td>\n      <td>0.045126</td>\n      <td>0.013825</td>\n      <td>4.337317</td>\n      <td>0.000000</td>\n      <td>0.656583</td>\n      <td>0.193871</td>\n      <td>0.007802</td>\n      <td>...</td>\n      <td>0.000000</td>\n      <td>0.000000</td>\n      <td>0.000000</td>\n      <td>2.812531</td>\n      <td>0</td>\n      <td>0</td>\n      <td>1</td>\n      <td>1991-01-01</td>\n      <td>30244</td>\n      <td>5839.0</td>\n    </tr>\n    <tr>\n      <th>...</th>\n      <td>...</td>\n      <td>...</td>\n      <td>...</td>\n      <td>...</td>\n      <td>...</td>\n      <td>...</td>\n      <td>...</td>\n      <td>...</td>\n      <td>...</td>\n      <td>...</td>\n      <td>...</td>\n      <td>...</td>\n      <td>...</td>\n      <td>...</td>\n      <td>...</td>\n      <td>...</td>\n      <td>...</td>\n      <td>...</td>\n      <td>...</td>\n      <td>...</td>\n      <td>...</td>\n    </tr>\n    <tr>\n      <th>805772</th>\n      <td>32308000.0</td>\n      <td>2023.0</td>\n      <td>7</td>\n      <td>0.110445</td>\n      <td>0.009928</td>\n      <td>5.631405</td>\n      <td>0.160490</td>\n      <td>0.252861</td>\n      <td>0.004128</td>\n      <td>0.002579</td>\n      <td>...</td>\n      <td>0.000000</td>\n      <td>0.000000</td>\n      <td>0.000000</td>\n      <td>3.244875</td>\n      <td>0</td>\n      <td>0</td>\n      <td>1</td>\n      <td>2023-07-01</td>\n      <td>32308</td>\n      <td>174637.0</td>\n    </tr>\n    <tr>\n      <th>2199389</th>\n      <td>92092000.0</td>\n      <td>2023.0</td>\n      <td>7</td>\n      <td>0.015960</td>\n      <td>-0.010290</td>\n      <td>5.841532</td>\n      <td>0.910713</td>\n      <td>0.000000</td>\n      <td>0.000000</td>\n      <td>0.000585</td>\n      <td>...</td>\n      <td>-3.171261</td>\n      <td>-0.213082</td>\n      <td>3.453191</td>\n      <td>0.000000</td>\n      <td>1</td>\n      <td>0</td>\n      <td>1</td>\n      <td>2023-07-01</td>\n      <td>92092</td>\n      <td>163968.0</td>\n    </tr>\n    <tr>\n      <th>805572</th>\n      <td>32307000.0</td>\n      <td>2023.0</td>\n      <td>7</td>\n      <td>0.110445</td>\n      <td>0.009928</td>\n      <td>3.666131</td>\n      <td>1.479932</td>\n      <td>0.458523</td>\n      <td>0.003382</td>\n      <td>0.006625</td>\n      <td>...</td>\n      <td>0.000000</td>\n      <td>0.000000</td>\n      <td>0.000000</td>\n      <td>3.244875</td>\n      <td>0</td>\n      <td>0</td>\n      <td>1</td>\n      <td>2023-07-01</td>\n      <td>32307</td>\n      <td>66371.0</td>\n    </tr>\n    <tr>\n      <th>1464489</th>\n      <td>44224000.0</td>\n      <td>2023.0</td>\n      <td>7</td>\n      <td>0.110445</td>\n      <td>0.009928</td>\n      <td>9.384103</td>\n      <td>2.397847</td>\n      <td>2.617266</td>\n      <td>-0.107896</td>\n      <td>0.003600</td>\n      <td>...</td>\n      <td>0.000000</td>\n      <td>0.000000</td>\n      <td>0.000000</td>\n      <td>3.244875</td>\n      <td>0</td>\n      <td>0</td>\n      <td>1</td>\n      <td>2023-07-01</td>\n      <td>44224</td>\n      <td>112111.0</td>\n    </tr>\n    <tr>\n      <th>2129490</th>\n      <td>52383000.0</td>\n      <td>2023.0</td>\n      <td>7</td>\n      <td>0.015960</td>\n      <td>-0.010290</td>\n      <td>3.347231</td>\n      <td>0.792576</td>\n      <td>0.303174</td>\n      <td>-0.088284</td>\n      <td>0.006077</td>\n      <td>...</td>\n      <td>0.000000</td>\n      <td>0.000000</td>\n      <td>0.000000</td>\n      <td>2.087496</td>\n      <td>0</td>\n      <td>0</td>\n      <td>1</td>\n      <td>2023-07-01</td>\n      <td>52383</td>\n      <td>184582.0</td>\n    </tr>\n  </tbody>\n</table>\n<p>1943733 rows × 25 columns</p>\n</div>"
     },
     "execution_count": 108,
     "metadata": {},
     "output_type": "execute_result"
    }
   ],
   "source": [
    "cri_data"
   ],
   "metadata": {
    "collapsed": false,
    "ExecuteTime": {
     "end_time": "2023-10-18T12:20:50.675174Z",
     "start_time": "2023-10-18T12:20:50.507586Z"
    }
   },
   "id": "c48a62e3f18d749"
  },
  {
   "cell_type": "code",
   "execution_count": 109,
   "outputs": [],
   "source": [
    "# left join on gvkey, year, month where left is CRI data, right is compustat\n",
    "cri_compustat_merged = cri_data.merge(compustat_data, how='inner')"
   ],
   "metadata": {
    "collapsed": false,
    "ExecuteTime": {
     "end_time": "2023-10-18T12:21:19.375547Z",
     "start_time": "2023-10-18T12:21:17.780434Z"
    }
   },
   "id": "57d80464b2726d7e"
  },
  {
   "cell_type": "code",
   "execution_count": 110,
   "outputs": [
    {
     "data": {
      "text/plain": "       CompNo    year  month   StkIndx     STInt  dtdlevel  dtdtrend  \\\n0  42404002.0  2000.0      1  0.089239  0.011089  0.677551  0.332808   \n1  37610000.0  2000.0      1  0.089239  0.011089  0.087376 -0.524732   \n2  49536000.0  2000.0      1  0.313050  0.007314  3.693176  0.625516   \n3  32417000.0  2000.0      1  0.089239  0.011089  6.165654  0.863910   \n4  44933000.0  2000.0      1  0.089239  0.011089  0.629410 -0.874122   \n\n   liqnonfinlevel  liqnonfintrend  ni2talevel  ...  net_profit_margin  \\\n0        1.411466        0.027249   -0.148249  ...               -inf   \n1        0.906364       -0.071829    0.000292  ...          24.982837   \n2        1.872712        1.010148   -0.069998  ...          75.426439   \n3        1.275166        0.184606    0.013360  ...          52.341576   \n4        0.000000        0.000000    0.004436  ...          74.952502   \n\n         roa  asset_turnover  inventory_turnover  inventory_days  \\\n0  -5.882353        0.000000               0.035           0.035   \n1 -12.570935        0.255210              -0.413          -0.413   \n2  -8.322594        0.358015               0.000           0.000   \n3   3.588386        0.236883              -4.463          -4.463   \n4   0.577149        0.290137               0.000           0.000   \n\n   receivables_turnover         dso  working_capital_turnover   pe_ratio  \\\n0              1.083328  336.925063                  0.000000  -0.833333   \n1              1.912130  190.886574                  2.055384  -0.341530   \n2              0.574579  635.247868                  0.038721 -35.606061   \n3              1.295937  281.649489                  0.525214  15.348538   \n4             10.253247   35.598480                 -1.942129  12.797619   \n\n   retention_ratio  \n0       -99.519750  \n1         6.787842  \n2       -73.867110  \n3       183.313219  \n4         5.403687  \n\n[5 rows x 62 columns]",
      "text/html": "<div>\n<style scoped>\n    .dataframe tbody tr th:only-of-type {\n        vertical-align: middle;\n    }\n\n    .dataframe tbody tr th {\n        vertical-align: top;\n    }\n\n    .dataframe thead th {\n        text-align: right;\n    }\n</style>\n<table border=\"1\" class=\"dataframe\">\n  <thead>\n    <tr style=\"text-align: right;\">\n      <th></th>\n      <th>CompNo</th>\n      <th>year</th>\n      <th>month</th>\n      <th>StkIndx</th>\n      <th>STInt</th>\n      <th>dtdlevel</th>\n      <th>dtdtrend</th>\n      <th>liqnonfinlevel</th>\n      <th>liqnonfintrend</th>\n      <th>ni2talevel</th>\n      <th>...</th>\n      <th>net_profit_margin</th>\n      <th>roa</th>\n      <th>asset_turnover</th>\n      <th>inventory_turnover</th>\n      <th>inventory_days</th>\n      <th>receivables_turnover</th>\n      <th>dso</th>\n      <th>working_capital_turnover</th>\n      <th>pe_ratio</th>\n      <th>retention_ratio</th>\n    </tr>\n  </thead>\n  <tbody>\n    <tr>\n      <th>0</th>\n      <td>42404002.0</td>\n      <td>2000.0</td>\n      <td>1</td>\n      <td>0.089239</td>\n      <td>0.011089</td>\n      <td>0.677551</td>\n      <td>0.332808</td>\n      <td>1.411466</td>\n      <td>0.027249</td>\n      <td>-0.148249</td>\n      <td>...</td>\n      <td>-inf</td>\n      <td>-5.882353</td>\n      <td>0.000000</td>\n      <td>0.035</td>\n      <td>0.035</td>\n      <td>1.083328</td>\n      <td>336.925063</td>\n      <td>0.000000</td>\n      <td>-0.833333</td>\n      <td>-99.519750</td>\n    </tr>\n    <tr>\n      <th>1</th>\n      <td>37610000.0</td>\n      <td>2000.0</td>\n      <td>1</td>\n      <td>0.089239</td>\n      <td>0.011089</td>\n      <td>0.087376</td>\n      <td>-0.524732</td>\n      <td>0.906364</td>\n      <td>-0.071829</td>\n      <td>0.000292</td>\n      <td>...</td>\n      <td>24.982837</td>\n      <td>-12.570935</td>\n      <td>0.255210</td>\n      <td>-0.413</td>\n      <td>-0.413</td>\n      <td>1.912130</td>\n      <td>190.886574</td>\n      <td>2.055384</td>\n      <td>-0.341530</td>\n      <td>6.787842</td>\n    </tr>\n    <tr>\n      <th>2</th>\n      <td>49536000.0</td>\n      <td>2000.0</td>\n      <td>1</td>\n      <td>0.313050</td>\n      <td>0.007314</td>\n      <td>3.693176</td>\n      <td>0.625516</td>\n      <td>1.872712</td>\n      <td>1.010148</td>\n      <td>-0.069998</td>\n      <td>...</td>\n      <td>75.426439</td>\n      <td>-8.322594</td>\n      <td>0.358015</td>\n      <td>0.000</td>\n      <td>0.000</td>\n      <td>0.574579</td>\n      <td>635.247868</td>\n      <td>0.038721</td>\n      <td>-35.606061</td>\n      <td>-73.867110</td>\n    </tr>\n    <tr>\n      <th>3</th>\n      <td>32417000.0</td>\n      <td>2000.0</td>\n      <td>1</td>\n      <td>0.089239</td>\n      <td>0.011089</td>\n      <td>6.165654</td>\n      <td>0.863910</td>\n      <td>1.275166</td>\n      <td>0.184606</td>\n      <td>0.013360</td>\n      <td>...</td>\n      <td>52.341576</td>\n      <td>3.588386</td>\n      <td>0.236883</td>\n      <td>-4.463</td>\n      <td>-4.463</td>\n      <td>1.295937</td>\n      <td>281.649489</td>\n      <td>0.525214</td>\n      <td>15.348538</td>\n      <td>183.313219</td>\n    </tr>\n    <tr>\n      <th>4</th>\n      <td>44933000.0</td>\n      <td>2000.0</td>\n      <td>1</td>\n      <td>0.089239</td>\n      <td>0.011089</td>\n      <td>0.629410</td>\n      <td>-0.874122</td>\n      <td>0.000000</td>\n      <td>0.000000</td>\n      <td>0.004436</td>\n      <td>...</td>\n      <td>74.952502</td>\n      <td>0.577149</td>\n      <td>0.290137</td>\n      <td>0.000</td>\n      <td>0.000</td>\n      <td>10.253247</td>\n      <td>35.598480</td>\n      <td>-1.942129</td>\n      <td>12.797619</td>\n      <td>5.403687</td>\n    </tr>\n  </tbody>\n</table>\n<p>5 rows × 62 columns</p>\n</div>"
     },
     "execution_count": 110,
     "metadata": {},
     "output_type": "execute_result"
    }
   ],
   "source": [
    "cri_compustat_merged.head()"
   ],
   "metadata": {
    "collapsed": false,
    "ExecuteTime": {
     "end_time": "2023-10-18T12:21:20.340595Z",
     "start_time": "2023-10-18T12:21:20.335713Z"
    }
   },
   "id": "c2fe4a0aa2433b15"
  },
  {
   "cell_type": "code",
   "execution_count": 111,
   "outputs": [
    {
     "data": {
      "text/plain": "(1183618, 62)"
     },
     "execution_count": 111,
     "metadata": {},
     "output_type": "execute_result"
    }
   ],
   "source": [
    "cri_compustat_merged.shape #lost about 760249 rows, or 39%"
   ],
   "metadata": {
    "collapsed": false,
    "ExecuteTime": {
     "end_time": "2023-10-18T12:21:39.767860Z",
     "start_time": "2023-10-18T12:21:39.757350Z"
    }
   },
   "id": "2a8e62f501451fb"
  },
  {
   "cell_type": "code",
   "execution_count": 112,
   "outputs": [
    {
     "data": {
      "text/plain": "10907"
     },
     "execution_count": 112,
     "metadata": {},
     "output_type": "execute_result"
    }
   ],
   "source": [
    "len(cri_compustat_merged['gvkey'].unique())"
   ],
   "metadata": {
    "collapsed": false,
    "ExecuteTime": {
     "end_time": "2023-10-18T12:21:42.334509Z",
     "start_time": "2023-10-18T12:21:42.320698Z"
    }
   },
   "id": "7721ffc22ae8c88f"
  },
  {
   "cell_type": "code",
   "execution_count": 115,
   "outputs": [],
   "source": [
    "cri_compustat_merged.to_pickle('./cri_compustat_merged_v1.pkl')"
   ],
   "metadata": {
    "collapsed": false,
    "ExecuteTime": {
     "end_time": "2023-10-18T12:23:50.155844Z",
     "start_time": "2023-10-18T12:23:49.892985Z"
    }
   },
   "id": "29d837cbf7f82ae4"
  },
  {
   "cell_type": "code",
   "execution_count": null,
   "outputs": [],
   "source": [],
   "metadata": {
    "collapsed": false
   },
   "id": "24cc30909345b000"
  }
 ],
 "metadata": {
  "kernelspec": {
   "display_name": "Python 3",
   "language": "python",
   "name": "python3"
  },
  "language_info": {
   "codemirror_mode": {
    "name": "ipython",
    "version": 2
   },
   "file_extension": ".py",
   "mimetype": "text/x-python",
   "name": "python",
   "nbconvert_exporter": "python",
   "pygments_lexer": "ipython2",
   "version": "2.7.6"
  }
 },
 "nbformat": 4,
 "nbformat_minor": 5
}
