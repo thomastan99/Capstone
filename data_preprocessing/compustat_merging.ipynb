{
 "cells": [
  {
   "cell_type": "code",
   "execution_count": 1,
   "id": "initial_id",
   "metadata": {
    "collapsed": true,
    "ExecuteTime": {
     "end_time": "2023-10-30T14:16:24.091377Z",
     "start_time": "2023-10-30T14:16:24.089739Z"
    }
   },
   "outputs": [],
   "source": [
    "import pandas as pd"
   ]
  },
  {
   "cell_type": "code",
   "execution_count": 2,
   "id": "faef558dd54e5a14",
   "metadata": {
    "collapsed": false,
    "ExecuteTime": {
     "end_time": "2023-10-30T14:16:24.322688Z",
     "start_time": "2023-10-30T14:16:24.091692Z"
    }
   },
   "outputs": [],
   "source": [
    "cri_data = pd.read_pickle('xy_data.pkl')"
   ]
  },
  {
   "cell_type": "code",
   "execution_count": 3,
   "id": "06cacb28",
   "metadata": {
    "ExecuteTime": {
     "end_time": "2023-10-30T14:16:24.859847Z",
     "start_time": "2023-10-30T14:16:24.797092Z"
    }
   },
   "outputs": [
    {
     "data": {
      "text/plain": "18507"
     },
     "execution_count": 3,
     "metadata": {},
     "output_type": "execute_result"
    }
   ],
   "source": [
    "cri_data[cri_data['Default'] == 1].shape[0]"
   ]
  },
  {
   "cell_type": "code",
   "execution_count": 4,
   "id": "9ae37786105eb0f9",
   "metadata": {
    "collapsed": false,
    "ExecuteTime": {
     "end_time": "2023-10-30T14:16:25.393536Z",
     "start_time": "2023-10-30T14:16:25.387257Z"
    }
   },
   "outputs": [
    {
     "data": {
      "text/plain": "2240223"
     },
     "execution_count": 4,
     "metadata": {},
     "output_type": "execute_result"
    }
   ],
   "source": [
    "cri_data.shape[0]"
   ]
  },
  {
   "cell_type": "code",
   "execution_count": 5,
   "id": "6a35c9878a537823",
   "metadata": {
    "collapsed": false,
    "ExecuteTime": {
     "end_time": "2023-10-30T14:16:27.017902Z",
     "start_time": "2023-10-30T14:16:26.940433Z"
    }
   },
   "outputs": [],
   "source": [
    "compustat_data = pd.read_pickle('./compustat_data_30_oct.pkl')"
   ]
  },
  {
   "cell_type": "code",
   "execution_count": 6,
   "id": "ff9fdb000852bdb0",
   "metadata": {
    "collapsed": false,
    "ExecuteTime": {
     "end_time": "2023-10-30T14:16:27.614188Z",
     "start_time": "2023-10-30T14:16:27.605652Z"
    }
   },
   "outputs": [
    {
     "data": {
      "text/plain": "(784752, 30)"
     },
     "execution_count": 6,
     "metadata": {},
     "output_type": "execute_result"
    }
   ],
   "source": [
    "compustat_data.shape"
   ]
  },
  {
   "cell_type": "code",
   "execution_count": 11,
   "outputs": [
    {
     "data": {
      "text/plain": "   gvkey   datadate  current_ratio  quick_ratio  cash_ratio  \\\n0   1004 2000-02-29       2.981531     1.176928   -0.021609   \n1   1004 2000-03-31       2.981531     1.176928   -0.021609   \n2   1004 2000-04-30       2.981531     1.176928   -0.021609   \n3   1004 2000-05-31       3.120983     1.069792   -0.042786   \n4   1004 2000-06-30       3.120983     1.069792   -0.042786   \n\n   net_working_capital  debt_ratio  debt_to_equity_ratio  equity_ratio  \\\n0              350.202    0.273288              0.601468      0.454368   \n1              350.202    0.273288              0.601468      0.454368   \n2              350.202    0.273288              0.601468      0.454368   \n3              347.451    0.279030              0.608989      0.458186   \n4              347.451    0.279030              0.608989      0.458186   \n\n   cashflow_to_debt_ratio  ...  gross_margin_ratio  operating_profit_margin  \\\n0                0.027511  ...           18.234795               -72.491564   \n1                0.027511  ...           18.234795               -72.491564   \n2                0.027511  ...           18.234795               -72.491564   \n3                0.048612  ...           18.944015               -75.280235   \n4                0.048612  ...           18.944015               -75.280235   \n\n   ebitda_margin  debt_service_coverage_ratio  interest_coverage_ratio  \\\n0     -70.807951                    -0.958372                 4.223950   \n1     -70.807951                    -0.958372                 4.223950   \n2     -70.807951                    -0.958372                 4.223950   \n3     -73.157425                    -0.819497                 2.287927   \n4     -73.157425                    -0.819497                 2.287927   \n\n      sic  tic    year  quarter  mm  \n0  5080.0  AIR  2000.0      1.0   2  \n1  5080.0  AIR  2000.0      1.0   3  \n2  5080.0  AIR  2000.0      1.0   4  \n3  5080.0  AIR  2000.0      2.0   5  \n4  5080.0  AIR  2000.0      2.0   6  \n\n[5 rows x 31 columns]",
      "text/html": "<div>\n<style scoped>\n    .dataframe tbody tr th:only-of-type {\n        vertical-align: middle;\n    }\n\n    .dataframe tbody tr th {\n        vertical-align: top;\n    }\n\n    .dataframe thead th {\n        text-align: right;\n    }\n</style>\n<table border=\"1\" class=\"dataframe\">\n  <thead>\n    <tr style=\"text-align: right;\">\n      <th></th>\n      <th>gvkey</th>\n      <th>datadate</th>\n      <th>current_ratio</th>\n      <th>quick_ratio</th>\n      <th>cash_ratio</th>\n      <th>net_working_capital</th>\n      <th>debt_ratio</th>\n      <th>debt_to_equity_ratio</th>\n      <th>equity_ratio</th>\n      <th>cashflow_to_debt_ratio</th>\n      <th>...</th>\n      <th>gross_margin_ratio</th>\n      <th>operating_profit_margin</th>\n      <th>ebitda_margin</th>\n      <th>debt_service_coverage_ratio</th>\n      <th>interest_coverage_ratio</th>\n      <th>sic</th>\n      <th>tic</th>\n      <th>year</th>\n      <th>quarter</th>\n      <th>mm</th>\n    </tr>\n  </thead>\n  <tbody>\n    <tr>\n      <th>0</th>\n      <td>1004</td>\n      <td>2000-02-29</td>\n      <td>2.981531</td>\n      <td>1.176928</td>\n      <td>-0.021609</td>\n      <td>350.202</td>\n      <td>0.273288</td>\n      <td>0.601468</td>\n      <td>0.454368</td>\n      <td>0.027511</td>\n      <td>...</td>\n      <td>18.234795</td>\n      <td>-72.491564</td>\n      <td>-70.807951</td>\n      <td>-0.958372</td>\n      <td>4.223950</td>\n      <td>5080.0</td>\n      <td>AIR</td>\n      <td>2000.0</td>\n      <td>1.0</td>\n      <td>2</td>\n    </tr>\n    <tr>\n      <th>1</th>\n      <td>1004</td>\n      <td>2000-03-31</td>\n      <td>2.981531</td>\n      <td>1.176928</td>\n      <td>-0.021609</td>\n      <td>350.202</td>\n      <td>0.273288</td>\n      <td>0.601468</td>\n      <td>0.454368</td>\n      <td>0.027511</td>\n      <td>...</td>\n      <td>18.234795</td>\n      <td>-72.491564</td>\n      <td>-70.807951</td>\n      <td>-0.958372</td>\n      <td>4.223950</td>\n      <td>5080.0</td>\n      <td>AIR</td>\n      <td>2000.0</td>\n      <td>1.0</td>\n      <td>3</td>\n    </tr>\n    <tr>\n      <th>2</th>\n      <td>1004</td>\n      <td>2000-04-30</td>\n      <td>2.981531</td>\n      <td>1.176928</td>\n      <td>-0.021609</td>\n      <td>350.202</td>\n      <td>0.273288</td>\n      <td>0.601468</td>\n      <td>0.454368</td>\n      <td>0.027511</td>\n      <td>...</td>\n      <td>18.234795</td>\n      <td>-72.491564</td>\n      <td>-70.807951</td>\n      <td>-0.958372</td>\n      <td>4.223950</td>\n      <td>5080.0</td>\n      <td>AIR</td>\n      <td>2000.0</td>\n      <td>1.0</td>\n      <td>4</td>\n    </tr>\n    <tr>\n      <th>3</th>\n      <td>1004</td>\n      <td>2000-05-31</td>\n      <td>3.120983</td>\n      <td>1.069792</td>\n      <td>-0.042786</td>\n      <td>347.451</td>\n      <td>0.279030</td>\n      <td>0.608989</td>\n      <td>0.458186</td>\n      <td>0.048612</td>\n      <td>...</td>\n      <td>18.944015</td>\n      <td>-75.280235</td>\n      <td>-73.157425</td>\n      <td>-0.819497</td>\n      <td>2.287927</td>\n      <td>5080.0</td>\n      <td>AIR</td>\n      <td>2000.0</td>\n      <td>2.0</td>\n      <td>5</td>\n    </tr>\n    <tr>\n      <th>4</th>\n      <td>1004</td>\n      <td>2000-06-30</td>\n      <td>3.120983</td>\n      <td>1.069792</td>\n      <td>-0.042786</td>\n      <td>347.451</td>\n      <td>0.279030</td>\n      <td>0.608989</td>\n      <td>0.458186</td>\n      <td>0.048612</td>\n      <td>...</td>\n      <td>18.944015</td>\n      <td>-75.280235</td>\n      <td>-73.157425</td>\n      <td>-0.819497</td>\n      <td>2.287927</td>\n      <td>5080.0</td>\n      <td>AIR</td>\n      <td>2000.0</td>\n      <td>2.0</td>\n      <td>6</td>\n    </tr>\n  </tbody>\n</table>\n<p>5 rows × 31 columns</p>\n</div>"
     },
     "execution_count": 11,
     "metadata": {},
     "output_type": "execute_result"
    }
   ],
   "source": [
    "# convert to monthly \n",
    "def expand_dates(ser):\n",
    "    min_date = ser['datadate'].min()\n",
    "    max_date = ser['datadate'].max()\n",
    "    return pd.DataFrame({'datadate': pd.date_range(min_date, max_date, freq='M')})\n",
    "\n",
    "# Apply the function within each 'id' group\n",
    "ffdf = compustat_data.groupby(['gvkey']).apply(expand_dates).reset_index()\n",
    "\n",
    "# Merge with the original DataFrame and forward fill missing values for the entire row\n",
    "result = ffdf.merge(compustat_data, on=['gvkey', 'datadate'], how='left').fillna(method='ffill')\n",
    "result['mm'] = result['datadate'].dt.month\n",
    "result.drop('level_1', axis=1, inplace=True)\n",
    "result.head()"
   ],
   "metadata": {
    "collapsed": false,
    "ExecuteTime": {
     "end_time": "2023-10-30T14:19:04.873586Z",
     "start_time": "2023-10-30T14:18:48.404049Z"
    }
   },
   "id": "34d52f38a4b5d377"
  },
  {
   "cell_type": "code",
   "execution_count": 12,
   "outputs": [
    {
     "data": {
      "text/plain": "(2366356, 31)"
     },
     "execution_count": 12,
     "metadata": {},
     "output_type": "execute_result"
    }
   ],
   "source": [
    "result.shape"
   ],
   "metadata": {
    "collapsed": false,
    "ExecuteTime": {
     "end_time": "2023-10-30T14:19:13.342588Z",
     "start_time": "2023-10-30T14:19:13.332038Z"
    }
   },
   "id": "ec200e7057d5b342"
  },
  {
   "cell_type": "code",
   "execution_count": 13,
   "id": "c1d80e4aefcca55f",
   "metadata": {
    "collapsed": false,
    "ExecuteTime": {
     "end_time": "2023-10-30T14:19:26.560776Z",
     "start_time": "2023-10-30T14:19:20.069764Z"
    }
   },
   "outputs": [
    {
     "data": {
      "text/plain": "                             pct_inf\ngvkey                            0.0\ndatadate                         0.0\ncurrent_ratio                    0.0\nquick_ratio                      0.0\ncash_ratio                       0.0\nnet_working_capital              0.0\ndebt_ratio                       0.0\ndebt_to_equity_ratio             0.0\nequity_ratio                     0.0\ncashflow_to_debt_ratio           0.0\nnet_profit_margin                0.0\nreturn_on_assets                 0.0\nasset_turnover                   0.0\ninventory_turnover               0.0\ndays_in_inventory                0.0\nreceivables_turnover             0.0\nday_sales_outstanding            0.0\nworking_capital_turnover         0.0\nprice_to_earnings                0.0\ndividend_payout_ratio            0.0\nretention_ratio                  0.0\ngross_margin_ratio               0.0\noperating_profit_margin          0.0\nebitda_margin                    0.0\ndebt_service_coverage_ratio      0.0\ninterest_coverage_ratio          0.0\nsic                              0.0\ntic                              0.0\nyear                             0.0\nquarter                          0.0\nmm                               0.0",
      "text/html": "<div>\n<style scoped>\n    .dataframe tbody tr th:only-of-type {\n        vertical-align: middle;\n    }\n\n    .dataframe tbody tr th {\n        vertical-align: top;\n    }\n\n    .dataframe thead th {\n        text-align: right;\n    }\n</style>\n<table border=\"1\" class=\"dataframe\">\n  <thead>\n    <tr style=\"text-align: right;\">\n      <th></th>\n      <th>pct_inf</th>\n    </tr>\n  </thead>\n  <tbody>\n    <tr>\n      <th>gvkey</th>\n      <td>0.0</td>\n    </tr>\n    <tr>\n      <th>datadate</th>\n      <td>0.0</td>\n    </tr>\n    <tr>\n      <th>current_ratio</th>\n      <td>0.0</td>\n    </tr>\n    <tr>\n      <th>quick_ratio</th>\n      <td>0.0</td>\n    </tr>\n    <tr>\n      <th>cash_ratio</th>\n      <td>0.0</td>\n    </tr>\n    <tr>\n      <th>net_working_capital</th>\n      <td>0.0</td>\n    </tr>\n    <tr>\n      <th>debt_ratio</th>\n      <td>0.0</td>\n    </tr>\n    <tr>\n      <th>debt_to_equity_ratio</th>\n      <td>0.0</td>\n    </tr>\n    <tr>\n      <th>equity_ratio</th>\n      <td>0.0</td>\n    </tr>\n    <tr>\n      <th>cashflow_to_debt_ratio</th>\n      <td>0.0</td>\n    </tr>\n    <tr>\n      <th>net_profit_margin</th>\n      <td>0.0</td>\n    </tr>\n    <tr>\n      <th>return_on_assets</th>\n      <td>0.0</td>\n    </tr>\n    <tr>\n      <th>asset_turnover</th>\n      <td>0.0</td>\n    </tr>\n    <tr>\n      <th>inventory_turnover</th>\n      <td>0.0</td>\n    </tr>\n    <tr>\n      <th>days_in_inventory</th>\n      <td>0.0</td>\n    </tr>\n    <tr>\n      <th>receivables_turnover</th>\n      <td>0.0</td>\n    </tr>\n    <tr>\n      <th>day_sales_outstanding</th>\n      <td>0.0</td>\n    </tr>\n    <tr>\n      <th>working_capital_turnover</th>\n      <td>0.0</td>\n    </tr>\n    <tr>\n      <th>price_to_earnings</th>\n      <td>0.0</td>\n    </tr>\n    <tr>\n      <th>dividend_payout_ratio</th>\n      <td>0.0</td>\n    </tr>\n    <tr>\n      <th>retention_ratio</th>\n      <td>0.0</td>\n    </tr>\n    <tr>\n      <th>gross_margin_ratio</th>\n      <td>0.0</td>\n    </tr>\n    <tr>\n      <th>operating_profit_margin</th>\n      <td>0.0</td>\n    </tr>\n    <tr>\n      <th>ebitda_margin</th>\n      <td>0.0</td>\n    </tr>\n    <tr>\n      <th>debt_service_coverage_ratio</th>\n      <td>0.0</td>\n    </tr>\n    <tr>\n      <th>interest_coverage_ratio</th>\n      <td>0.0</td>\n    </tr>\n    <tr>\n      <th>sic</th>\n      <td>0.0</td>\n    </tr>\n    <tr>\n      <th>tic</th>\n      <td>0.0</td>\n    </tr>\n    <tr>\n      <th>year</th>\n      <td>0.0</td>\n    </tr>\n    <tr>\n      <th>quarter</th>\n      <td>0.0</td>\n    </tr>\n    <tr>\n      <th>mm</th>\n      <td>0.0</td>\n    </tr>\n  </tbody>\n</table>\n</div>"
     },
     "execution_count": 13,
     "metadata": {},
     "output_type": "execute_result"
    }
   ],
   "source": [
    "inf_breakdown = pd.DataFrame()\n",
    "inf_breakdown['pct_inf'] = (100 * result.isin([float('inf'), float('-inf')]).sum()) / len(compustat_data)\n",
    "inf_breakdown"
   ]
  },
  {
   "cell_type": "code",
   "execution_count": 14,
   "id": "cb6d271955387d3c",
   "metadata": {
    "collapsed": false,
    "ExecuteTime": {
     "end_time": "2023-10-30T14:19:36.581291Z",
     "start_time": "2023-10-30T14:19:36.561727Z"
    }
   },
   "outputs": [
    {
     "data": {
      "text/plain": "   company_number   gvkey\n0           50797  177439\n1           92318  160317\n2           92300  106156\n3           45321  141466\n4           43665   66636",
      "text/html": "<div>\n<style scoped>\n    .dataframe tbody tr th:only-of-type {\n        vertical-align: middle;\n    }\n\n    .dataframe tbody tr th {\n        vertical-align: top;\n    }\n\n    .dataframe thead th {\n        text-align: right;\n    }\n</style>\n<table border=\"1\" class=\"dataframe\">\n  <thead>\n    <tr style=\"text-align: right;\">\n      <th></th>\n      <th>company_number</th>\n      <th>gvkey</th>\n    </tr>\n  </thead>\n  <tbody>\n    <tr>\n      <th>0</th>\n      <td>50797</td>\n      <td>177439</td>\n    </tr>\n    <tr>\n      <th>1</th>\n      <td>92318</td>\n      <td>160317</td>\n    </tr>\n    <tr>\n      <th>2</th>\n      <td>92300</td>\n      <td>106156</td>\n    </tr>\n    <tr>\n      <th>3</th>\n      <td>45321</td>\n      <td>141466</td>\n    </tr>\n    <tr>\n      <th>4</th>\n      <td>43665</td>\n      <td>66636</td>\n    </tr>\n  </tbody>\n</table>\n</div>"
     },
     "execution_count": 14,
     "metadata": {},
     "output_type": "execute_result"
    }
   ],
   "source": [
    "company_map = pd.read_csv('./compustat_company_map.xlsx - in.csv')\n",
    "company_map.head()"
   ]
  },
  {
   "cell_type": "code",
   "execution_count": 15,
   "id": "30c073ddfdadf688",
   "metadata": {
    "collapsed": false,
    "ExecuteTime": {
     "end_time": "2023-10-30T14:19:38.999076Z",
     "start_time": "2023-10-30T14:19:38.972419Z"
    }
   },
   "outputs": [],
   "source": [
    "# mapping from company number to gvkey\n",
    "mapping_dict = company_map.set_index('company_number')['gvkey'].to_dict()"
   ]
  },
  {
   "cell_type": "code",
   "execution_count": 16,
   "id": "5404aa4030401c1d",
   "metadata": {
    "collapsed": false,
    "ExecuteTime": {
     "end_time": "2023-10-30T14:19:48.344905Z",
     "start_time": "2023-10-30T14:19:48.311087Z"
    }
   },
   "outputs": [],
   "source": [
    "cri_data['gvkey'] = cri_data['CompNo'].map(mapping_dict)"
   ]
  },
  {
   "cell_type": "code",
   "execution_count": 17,
   "id": "1b9ed2bc226215c6",
   "metadata": {
    "collapsed": false,
    "ExecuteTime": {
     "end_time": "2023-10-30T14:19:49.946944Z",
     "start_time": "2023-10-30T14:19:49.643633Z"
    }
   },
   "outputs": [
    {
     "data": {
      "text/plain": "(1943733, 27)"
     },
     "execution_count": 17,
     "metadata": {},
     "output_type": "execute_result"
    }
   ],
   "source": [
    "cri_data = cri_data.dropna()\n",
    "cri_data.shape # lost about 300k rows from missing mapping values, ie 13%"
   ]
  },
  {
   "cell_type": "code",
   "execution_count": 18,
   "outputs": [
    {
     "data": {
      "text/plain": "   gvkey   datadate  current_ratio  quick_ratio  cash_ratio  \\\n0   1004 2000-02-29       2.981531     1.176928   -0.021609   \n1   1004 2000-03-31       2.981531     1.176928   -0.021609   \n2   1004 2000-04-30       2.981531     1.176928   -0.021609   \n3   1004 2000-05-31       3.120983     1.069792   -0.042786   \n4   1004 2000-06-30       3.120983     1.069792   -0.042786   \n\n   net_working_capital  debt_ratio  debt_to_equity_ratio  equity_ratio  \\\n0              350.202    0.273288              0.601468      0.454368   \n1              350.202    0.273288              0.601468      0.454368   \n2              350.202    0.273288              0.601468      0.454368   \n3              347.451    0.279030              0.608989      0.458186   \n4              347.451    0.279030              0.608989      0.458186   \n\n   cashflow_to_debt_ratio  ...  gross_margin_ratio  operating_profit_margin  \\\n0                0.027511  ...           18.234795               -72.491564   \n1                0.027511  ...           18.234795               -72.491564   \n2                0.027511  ...           18.234795               -72.491564   \n3                0.048612  ...           18.944015               -75.280235   \n4                0.048612  ...           18.944015               -75.280235   \n\n   ebitda_margin  debt_service_coverage_ratio  interest_coverage_ratio  \\\n0     -70.807951                    -0.958372                 4.223950   \n1     -70.807951                    -0.958372                 4.223950   \n2     -70.807951                    -0.958372                 4.223950   \n3     -73.157425                    -0.819497                 2.287927   \n4     -73.157425                    -0.819497                 2.287927   \n\n      sic  tic    year  quarter  mm  \n0  5080.0  AIR  2000.0      1.0   2  \n1  5080.0  AIR  2000.0      1.0   3  \n2  5080.0  AIR  2000.0      1.0   4  \n3  5080.0  AIR  2000.0      2.0   5  \n4  5080.0  AIR  2000.0      2.0   6  \n\n[5 rows x 31 columns]",
      "text/html": "<div>\n<style scoped>\n    .dataframe tbody tr th:only-of-type {\n        vertical-align: middle;\n    }\n\n    .dataframe tbody tr th {\n        vertical-align: top;\n    }\n\n    .dataframe thead th {\n        text-align: right;\n    }\n</style>\n<table border=\"1\" class=\"dataframe\">\n  <thead>\n    <tr style=\"text-align: right;\">\n      <th></th>\n      <th>gvkey</th>\n      <th>datadate</th>\n      <th>current_ratio</th>\n      <th>quick_ratio</th>\n      <th>cash_ratio</th>\n      <th>net_working_capital</th>\n      <th>debt_ratio</th>\n      <th>debt_to_equity_ratio</th>\n      <th>equity_ratio</th>\n      <th>cashflow_to_debt_ratio</th>\n      <th>...</th>\n      <th>gross_margin_ratio</th>\n      <th>operating_profit_margin</th>\n      <th>ebitda_margin</th>\n      <th>debt_service_coverage_ratio</th>\n      <th>interest_coverage_ratio</th>\n      <th>sic</th>\n      <th>tic</th>\n      <th>year</th>\n      <th>quarter</th>\n      <th>mm</th>\n    </tr>\n  </thead>\n  <tbody>\n    <tr>\n      <th>0</th>\n      <td>1004</td>\n      <td>2000-02-29</td>\n      <td>2.981531</td>\n      <td>1.176928</td>\n      <td>-0.021609</td>\n      <td>350.202</td>\n      <td>0.273288</td>\n      <td>0.601468</td>\n      <td>0.454368</td>\n      <td>0.027511</td>\n      <td>...</td>\n      <td>18.234795</td>\n      <td>-72.491564</td>\n      <td>-70.807951</td>\n      <td>-0.958372</td>\n      <td>4.223950</td>\n      <td>5080.0</td>\n      <td>AIR</td>\n      <td>2000.0</td>\n      <td>1.0</td>\n      <td>2</td>\n    </tr>\n    <tr>\n      <th>1</th>\n      <td>1004</td>\n      <td>2000-03-31</td>\n      <td>2.981531</td>\n      <td>1.176928</td>\n      <td>-0.021609</td>\n      <td>350.202</td>\n      <td>0.273288</td>\n      <td>0.601468</td>\n      <td>0.454368</td>\n      <td>0.027511</td>\n      <td>...</td>\n      <td>18.234795</td>\n      <td>-72.491564</td>\n      <td>-70.807951</td>\n      <td>-0.958372</td>\n      <td>4.223950</td>\n      <td>5080.0</td>\n      <td>AIR</td>\n      <td>2000.0</td>\n      <td>1.0</td>\n      <td>3</td>\n    </tr>\n    <tr>\n      <th>2</th>\n      <td>1004</td>\n      <td>2000-04-30</td>\n      <td>2.981531</td>\n      <td>1.176928</td>\n      <td>-0.021609</td>\n      <td>350.202</td>\n      <td>0.273288</td>\n      <td>0.601468</td>\n      <td>0.454368</td>\n      <td>0.027511</td>\n      <td>...</td>\n      <td>18.234795</td>\n      <td>-72.491564</td>\n      <td>-70.807951</td>\n      <td>-0.958372</td>\n      <td>4.223950</td>\n      <td>5080.0</td>\n      <td>AIR</td>\n      <td>2000.0</td>\n      <td>1.0</td>\n      <td>4</td>\n    </tr>\n    <tr>\n      <th>3</th>\n      <td>1004</td>\n      <td>2000-05-31</td>\n      <td>3.120983</td>\n      <td>1.069792</td>\n      <td>-0.042786</td>\n      <td>347.451</td>\n      <td>0.279030</td>\n      <td>0.608989</td>\n      <td>0.458186</td>\n      <td>0.048612</td>\n      <td>...</td>\n      <td>18.944015</td>\n      <td>-75.280235</td>\n      <td>-73.157425</td>\n      <td>-0.819497</td>\n      <td>2.287927</td>\n      <td>5080.0</td>\n      <td>AIR</td>\n      <td>2000.0</td>\n      <td>2.0</td>\n      <td>5</td>\n    </tr>\n    <tr>\n      <th>4</th>\n      <td>1004</td>\n      <td>2000-06-30</td>\n      <td>3.120983</td>\n      <td>1.069792</td>\n      <td>-0.042786</td>\n      <td>347.451</td>\n      <td>0.279030</td>\n      <td>0.608989</td>\n      <td>0.458186</td>\n      <td>0.048612</td>\n      <td>...</td>\n      <td>18.944015</td>\n      <td>-75.280235</td>\n      <td>-73.157425</td>\n      <td>-0.819497</td>\n      <td>2.287927</td>\n      <td>5080.0</td>\n      <td>AIR</td>\n      <td>2000.0</td>\n      <td>2.0</td>\n      <td>6</td>\n    </tr>\n  </tbody>\n</table>\n<p>5 rows × 31 columns</p>\n</div>"
     },
     "execution_count": 18,
     "metadata": {},
     "output_type": "execute_result"
    }
   ],
   "source": [
    "result.head()"
   ],
   "metadata": {
    "collapsed": false,
    "ExecuteTime": {
     "end_time": "2023-10-30T14:20:15.037801Z",
     "start_time": "2023-10-30T14:20:15.022399Z"
    }
   },
   "id": "d7ec1797e8e92aff"
  },
  {
   "cell_type": "code",
   "execution_count": 19,
   "id": "827bf20aeaf9026c",
   "metadata": {
    "collapsed": false,
    "ExecuteTime": {
     "end_time": "2023-10-30T14:20:28.912762Z",
     "start_time": "2023-10-30T14:20:28.888129Z"
    }
   },
   "outputs": [
    {
     "data": {
      "text/plain": "   gvkey  current_ratio  quick_ratio  cash_ratio  net_working_capital  \\\n0   1004       2.981531     1.176928   -0.021609              350.202   \n1   1004       2.981531     1.176928   -0.021609              350.202   \n2   1004       2.981531     1.176928   -0.021609              350.202   \n3   1004       3.120983     1.069792   -0.042786              347.451   \n4   1004       3.120983     1.069792   -0.042786              347.451   \n\n   debt_ratio  debt_to_equity_ratio  equity_ratio  cashflow_to_debt_ratio  \\\n0    0.273288              0.601468      0.454368                0.027511   \n1    0.273288              0.601468      0.454368                0.027511   \n2    0.273288              0.601468      0.454368                0.027511   \n3    0.279030              0.608989      0.458186                0.048612   \n4    0.279030              0.608989      0.458186                0.048612   \n\n   net_profit_margin  ...  dividend_payout_ratio  retention_ratio  \\\n0           4.022678  ...               0.212500         0.787500   \n1           4.022678  ...               0.212500         0.787500   \n2           4.022678  ...               0.212500         0.787500   \n3           1.097837  ...               0.944444         0.055556   \n4           1.097837  ...               0.944444         0.055556   \n\n   gross_margin_ratio  operating_profit_margin  ebitda_margin  \\\n0           18.234795               -72.491564     -70.807951   \n1           18.234795               -72.491564     -70.807951   \n2           18.234795               -72.491564     -70.807951   \n3           18.944015               -75.280235     -73.157425   \n4           18.944015               -75.280235     -73.157425   \n\n   debt_service_coverage_ratio  interest_coverage_ratio  tic    year  month  \n0                    -0.958372                 4.223950  AIR  2000.0      2  \n1                    -0.958372                 4.223950  AIR  2000.0      3  \n2                    -0.958372                 4.223950  AIR  2000.0      4  \n3                    -0.819497                 2.287927  AIR  2000.0      5  \n4                    -0.819497                 2.287927  AIR  2000.0      6  \n\n[5 rows x 28 columns]",
      "text/html": "<div>\n<style scoped>\n    .dataframe tbody tr th:only-of-type {\n        vertical-align: middle;\n    }\n\n    .dataframe tbody tr th {\n        vertical-align: top;\n    }\n\n    .dataframe thead th {\n        text-align: right;\n    }\n</style>\n<table border=\"1\" class=\"dataframe\">\n  <thead>\n    <tr style=\"text-align: right;\">\n      <th></th>\n      <th>gvkey</th>\n      <th>current_ratio</th>\n      <th>quick_ratio</th>\n      <th>cash_ratio</th>\n      <th>net_working_capital</th>\n      <th>debt_ratio</th>\n      <th>debt_to_equity_ratio</th>\n      <th>equity_ratio</th>\n      <th>cashflow_to_debt_ratio</th>\n      <th>net_profit_margin</th>\n      <th>...</th>\n      <th>dividend_payout_ratio</th>\n      <th>retention_ratio</th>\n      <th>gross_margin_ratio</th>\n      <th>operating_profit_margin</th>\n      <th>ebitda_margin</th>\n      <th>debt_service_coverage_ratio</th>\n      <th>interest_coverage_ratio</th>\n      <th>tic</th>\n      <th>year</th>\n      <th>month</th>\n    </tr>\n  </thead>\n  <tbody>\n    <tr>\n      <th>0</th>\n      <td>1004</td>\n      <td>2.981531</td>\n      <td>1.176928</td>\n      <td>-0.021609</td>\n      <td>350.202</td>\n      <td>0.273288</td>\n      <td>0.601468</td>\n      <td>0.454368</td>\n      <td>0.027511</td>\n      <td>4.022678</td>\n      <td>...</td>\n      <td>0.212500</td>\n      <td>0.787500</td>\n      <td>18.234795</td>\n      <td>-72.491564</td>\n      <td>-70.807951</td>\n      <td>-0.958372</td>\n      <td>4.223950</td>\n      <td>AIR</td>\n      <td>2000.0</td>\n      <td>2</td>\n    </tr>\n    <tr>\n      <th>1</th>\n      <td>1004</td>\n      <td>2.981531</td>\n      <td>1.176928</td>\n      <td>-0.021609</td>\n      <td>350.202</td>\n      <td>0.273288</td>\n      <td>0.601468</td>\n      <td>0.454368</td>\n      <td>0.027511</td>\n      <td>4.022678</td>\n      <td>...</td>\n      <td>0.212500</td>\n      <td>0.787500</td>\n      <td>18.234795</td>\n      <td>-72.491564</td>\n      <td>-70.807951</td>\n      <td>-0.958372</td>\n      <td>4.223950</td>\n      <td>AIR</td>\n      <td>2000.0</td>\n      <td>3</td>\n    </tr>\n    <tr>\n      <th>2</th>\n      <td>1004</td>\n      <td>2.981531</td>\n      <td>1.176928</td>\n      <td>-0.021609</td>\n      <td>350.202</td>\n      <td>0.273288</td>\n      <td>0.601468</td>\n      <td>0.454368</td>\n      <td>0.027511</td>\n      <td>4.022678</td>\n      <td>...</td>\n      <td>0.212500</td>\n      <td>0.787500</td>\n      <td>18.234795</td>\n      <td>-72.491564</td>\n      <td>-70.807951</td>\n      <td>-0.958372</td>\n      <td>4.223950</td>\n      <td>AIR</td>\n      <td>2000.0</td>\n      <td>4</td>\n    </tr>\n    <tr>\n      <th>3</th>\n      <td>1004</td>\n      <td>3.120983</td>\n      <td>1.069792</td>\n      <td>-0.042786</td>\n      <td>347.451</td>\n      <td>0.279030</td>\n      <td>0.608989</td>\n      <td>0.458186</td>\n      <td>0.048612</td>\n      <td>1.097837</td>\n      <td>...</td>\n      <td>0.944444</td>\n      <td>0.055556</td>\n      <td>18.944015</td>\n      <td>-75.280235</td>\n      <td>-73.157425</td>\n      <td>-0.819497</td>\n      <td>2.287927</td>\n      <td>AIR</td>\n      <td>2000.0</td>\n      <td>5</td>\n    </tr>\n    <tr>\n      <th>4</th>\n      <td>1004</td>\n      <td>3.120983</td>\n      <td>1.069792</td>\n      <td>-0.042786</td>\n      <td>347.451</td>\n      <td>0.279030</td>\n      <td>0.608989</td>\n      <td>0.458186</td>\n      <td>0.048612</td>\n      <td>1.097837</td>\n      <td>...</td>\n      <td>0.944444</td>\n      <td>0.055556</td>\n      <td>18.944015</td>\n      <td>-75.280235</td>\n      <td>-73.157425</td>\n      <td>-0.819497</td>\n      <td>2.287927</td>\n      <td>AIR</td>\n      <td>2000.0</td>\n      <td>6</td>\n    </tr>\n  </tbody>\n</table>\n<p>5 rows × 28 columns</p>\n</div>"
     },
     "execution_count": 19,
     "metadata": {},
     "output_type": "execute_result"
    }
   ],
   "source": [
    "# clean compustat\n",
    "result.rename(columns = {'mm': 'month'}, inplace=True)\n",
    "result.drop(columns = ['datadate', 'quarter', 'sic'], inplace=True)\n",
    "result.head()"
   ]
  },
  {
   "cell_type": "code",
   "execution_count": 20,
   "id": "522f6fa9",
   "metadata": {
    "ExecuteTime": {
     "end_time": "2023-10-30T14:20:47.369208Z",
     "start_time": "2023-10-30T14:20:47.354023Z"
    }
   },
   "outputs": [],
   "source": [
    "# clean compustat\n",
    "cri_data.rename(columns = {'mm': 'month'}, inplace=True)\n",
    "cri_data.rename(columns = {'yyyy': 'year'}, inplace=True)"
   ]
  },
  {
   "cell_type": "code",
   "execution_count": 21,
   "id": "e31d3083",
   "metadata": {
    "ExecuteTime": {
     "end_time": "2023-10-30T14:20:50.518397Z",
     "start_time": "2023-10-30T14:20:50.507982Z"
    }
   },
   "outputs": [
    {
     "data": {
      "text/plain": "         CompNo    year  month   StkIndx     STInt  dtdlevel  dtdtrend  \\\n489123    29823  1991.0      1  0.045126  0.013825  1.810500       0.0   \n1714449  125959  1991.0      1  0.045126  0.013825  7.910572       0.0   \n64808     27304  1991.0      1  0.045126  0.013825  6.080297       0.0   \n192576    27954  1991.0      1  0.045126  0.013825  2.527857       0.0   \n539304    30244  1991.0      1  0.045126  0.013825  4.337317       0.0   \n\n         liqnonfinlevel  liqnonfintrend  ni2talevel  ...  DTDmedianFin  \\\n489123         0.983576       -0.268833    0.003667  ...           0.0   \n1714449        0.538243        0.018112    0.016005  ...           0.0   \n64808          0.582996       -0.042528    0.006643  ...           0.0   \n192576         1.041157       -0.129895   -0.010749  ...           0.0   \n539304         0.656583        0.193871    0.007802  ...           0.0   \n\n         DTDmedianNonFin  dummy297fin  Default  day       date  StartDate  \\\n489123          2.812531            0        0    1 1991-01-01 1988-01-04   \n1714449         2.812531            0        0    1 1991-01-01 1988-01-04   \n64808           2.812531            0        0    1 1991-01-01 1988-01-04   \n192576          2.812531            0        0    1 1991-01-01 1988-01-04   \n539304          2.812531            0        0    1 1991-01-01 1988-01-04   \n\n         EventDate  Duration   gvkey  \n489123  1991-01-31 1123 days  4607.0  \n1714449 1991-01-31 1123 days  6074.0  \n64808   1991-01-31 1123 days  3532.0  \n192576  1991-01-31 1123 days  8333.0  \n539304  1991-01-31 1123 days  5839.0  \n\n[5 rows x 27 columns]",
      "text/html": "<div>\n<style scoped>\n    .dataframe tbody tr th:only-of-type {\n        vertical-align: middle;\n    }\n\n    .dataframe tbody tr th {\n        vertical-align: top;\n    }\n\n    .dataframe thead th {\n        text-align: right;\n    }\n</style>\n<table border=\"1\" class=\"dataframe\">\n  <thead>\n    <tr style=\"text-align: right;\">\n      <th></th>\n      <th>CompNo</th>\n      <th>year</th>\n      <th>month</th>\n      <th>StkIndx</th>\n      <th>STInt</th>\n      <th>dtdlevel</th>\n      <th>dtdtrend</th>\n      <th>liqnonfinlevel</th>\n      <th>liqnonfintrend</th>\n      <th>ni2talevel</th>\n      <th>...</th>\n      <th>DTDmedianFin</th>\n      <th>DTDmedianNonFin</th>\n      <th>dummy297fin</th>\n      <th>Default</th>\n      <th>day</th>\n      <th>date</th>\n      <th>StartDate</th>\n      <th>EventDate</th>\n      <th>Duration</th>\n      <th>gvkey</th>\n    </tr>\n  </thead>\n  <tbody>\n    <tr>\n      <th>489123</th>\n      <td>29823</td>\n      <td>1991.0</td>\n      <td>1</td>\n      <td>0.045126</td>\n      <td>0.013825</td>\n      <td>1.810500</td>\n      <td>0.0</td>\n      <td>0.983576</td>\n      <td>-0.268833</td>\n      <td>0.003667</td>\n      <td>...</td>\n      <td>0.0</td>\n      <td>2.812531</td>\n      <td>0</td>\n      <td>0</td>\n      <td>1</td>\n      <td>1991-01-01</td>\n      <td>1988-01-04</td>\n      <td>1991-01-31</td>\n      <td>1123 days</td>\n      <td>4607.0</td>\n    </tr>\n    <tr>\n      <th>1714449</th>\n      <td>125959</td>\n      <td>1991.0</td>\n      <td>1</td>\n      <td>0.045126</td>\n      <td>0.013825</td>\n      <td>7.910572</td>\n      <td>0.0</td>\n      <td>0.538243</td>\n      <td>0.018112</td>\n      <td>0.016005</td>\n      <td>...</td>\n      <td>0.0</td>\n      <td>2.812531</td>\n      <td>0</td>\n      <td>0</td>\n      <td>1</td>\n      <td>1991-01-01</td>\n      <td>1988-01-04</td>\n      <td>1991-01-31</td>\n      <td>1123 days</td>\n      <td>6074.0</td>\n    </tr>\n    <tr>\n      <th>64808</th>\n      <td>27304</td>\n      <td>1991.0</td>\n      <td>1</td>\n      <td>0.045126</td>\n      <td>0.013825</td>\n      <td>6.080297</td>\n      <td>0.0</td>\n      <td>0.582996</td>\n      <td>-0.042528</td>\n      <td>0.006643</td>\n      <td>...</td>\n      <td>0.0</td>\n      <td>2.812531</td>\n      <td>0</td>\n      <td>0</td>\n      <td>1</td>\n      <td>1991-01-01</td>\n      <td>1988-01-04</td>\n      <td>1991-01-31</td>\n      <td>1123 days</td>\n      <td>3532.0</td>\n    </tr>\n    <tr>\n      <th>192576</th>\n      <td>27954</td>\n      <td>1991.0</td>\n      <td>1</td>\n      <td>0.045126</td>\n      <td>0.013825</td>\n      <td>2.527857</td>\n      <td>0.0</td>\n      <td>1.041157</td>\n      <td>-0.129895</td>\n      <td>-0.010749</td>\n      <td>...</td>\n      <td>0.0</td>\n      <td>2.812531</td>\n      <td>0</td>\n      <td>0</td>\n      <td>1</td>\n      <td>1991-01-01</td>\n      <td>1988-01-04</td>\n      <td>1991-01-31</td>\n      <td>1123 days</td>\n      <td>8333.0</td>\n    </tr>\n    <tr>\n      <th>539304</th>\n      <td>30244</td>\n      <td>1991.0</td>\n      <td>1</td>\n      <td>0.045126</td>\n      <td>0.013825</td>\n      <td>4.337317</td>\n      <td>0.0</td>\n      <td>0.656583</td>\n      <td>0.193871</td>\n      <td>0.007802</td>\n      <td>...</td>\n      <td>0.0</td>\n      <td>2.812531</td>\n      <td>0</td>\n      <td>0</td>\n      <td>1</td>\n      <td>1991-01-01</td>\n      <td>1988-01-04</td>\n      <td>1991-01-31</td>\n      <td>1123 days</td>\n      <td>5839.0</td>\n    </tr>\n  </tbody>\n</table>\n<p>5 rows × 27 columns</p>\n</div>"
     },
     "execution_count": 21,
     "metadata": {},
     "output_type": "execute_result"
    }
   ],
   "source": [
    "cri_data.head()"
   ]
  },
  {
   "cell_type": "code",
   "execution_count": 22,
   "id": "57d80464b2726d7e",
   "metadata": {
    "collapsed": false,
    "ExecuteTime": {
     "end_time": "2023-10-30T14:21:06.815610Z",
     "start_time": "2023-10-30T14:21:05.660076Z"
    }
   },
   "outputs": [],
   "source": [
    "# left join on gvkey, year, month where left is CRI data, right is compustat\n",
    "cri_compustat_merged = cri_data.merge(result, how='inner')"
   ]
  },
  {
   "cell_type": "code",
   "execution_count": 23,
   "id": "c2fe4a0aa2433b15",
   "metadata": {
    "collapsed": false,
    "ExecuteTime": {
     "end_time": "2023-10-30T14:21:07.336443Z",
     "start_time": "2023-10-30T14:21:07.325293Z"
    }
   },
   "outputs": [
    {
     "data": {
      "text/plain": "   CompNo    year  month   StkIndx     STInt  dtdlevel  dtdtrend  \\\n0   42404  2000.0      1  0.089239  0.011089  0.677551  0.332808   \n1   37610  2000.0      1  0.089239  0.011089  0.087376 -0.524732   \n2   49536  2000.0      1  0.313050  0.007314  3.693176  0.625516   \n3   32417  2000.0      1  0.089239  0.011089  6.165654  0.863910   \n4   44933  2000.0      1  0.089239  0.011089  0.629410 -0.874122   \n\n   liqnonfinlevel  liqnonfintrend  ni2talevel  ...  working_capital_turnover  \\\n0        1.411466        0.027249   -0.148249  ...                  0.000000   \n1        0.906364       -0.071829    0.000292  ...                  2.177571   \n2        1.872712        1.010148   -0.069998  ...                  0.036899   \n3        1.275166        0.184606    0.013360  ...                  0.551135   \n4        0.000000        0.000000    0.004436  ...                 -2.766467   \n\n   price_to_earnings  dividend_payout_ratio  retention_ratio  \\\n0          -5.000000                   -0.0              1.0   \n1          -1.220833                    0.0              1.0   \n2         -78.333333                   -0.0              1.0   \n3          66.510333                    0.0              1.0   \n4          19.196429                    0.0              1.0   \n\n   gross_margin_ratio  operating_profit_margin  ebitda_margin  \\\n0       -5.251700e+06            -2.189250e+07  -2.185540e+07   \n1        2.498284e+01            -7.402171e+01  -6.856532e+01   \n2        7.542644e+01            -2.309701e+02  -1.503731e+02   \n3        5.234158e+01            -2.327468e+01  -1.952816e+01   \n4        7.495250e+01             3.133312e+01   4.316023e+01   \n\n   debt_service_coverage_ratio  interest_coverage_ratio     tic  \n0               -149041.103448           -297211.000000  CDSI.2  \n1                    -0.904380                 1.490291    DXPE  \n2                   -11.081841              -430.222222    ZICA  \n3                  -395.933333               777.750000    XLTC  \n4                     0.020216                 2.013002    MRYP  \n\n[5 rows x 52 columns]",
      "text/html": "<div>\n<style scoped>\n    .dataframe tbody tr th:only-of-type {\n        vertical-align: middle;\n    }\n\n    .dataframe tbody tr th {\n        vertical-align: top;\n    }\n\n    .dataframe thead th {\n        text-align: right;\n    }\n</style>\n<table border=\"1\" class=\"dataframe\">\n  <thead>\n    <tr style=\"text-align: right;\">\n      <th></th>\n      <th>CompNo</th>\n      <th>year</th>\n      <th>month</th>\n      <th>StkIndx</th>\n      <th>STInt</th>\n      <th>dtdlevel</th>\n      <th>dtdtrend</th>\n      <th>liqnonfinlevel</th>\n      <th>liqnonfintrend</th>\n      <th>ni2talevel</th>\n      <th>...</th>\n      <th>working_capital_turnover</th>\n      <th>price_to_earnings</th>\n      <th>dividend_payout_ratio</th>\n      <th>retention_ratio</th>\n      <th>gross_margin_ratio</th>\n      <th>operating_profit_margin</th>\n      <th>ebitda_margin</th>\n      <th>debt_service_coverage_ratio</th>\n      <th>interest_coverage_ratio</th>\n      <th>tic</th>\n    </tr>\n  </thead>\n  <tbody>\n    <tr>\n      <th>0</th>\n      <td>42404</td>\n      <td>2000.0</td>\n      <td>1</td>\n      <td>0.089239</td>\n      <td>0.011089</td>\n      <td>0.677551</td>\n      <td>0.332808</td>\n      <td>1.411466</td>\n      <td>0.027249</td>\n      <td>-0.148249</td>\n      <td>...</td>\n      <td>0.000000</td>\n      <td>-5.000000</td>\n      <td>-0.0</td>\n      <td>1.0</td>\n      <td>-5.251700e+06</td>\n      <td>-2.189250e+07</td>\n      <td>-2.185540e+07</td>\n      <td>-149041.103448</td>\n      <td>-297211.000000</td>\n      <td>CDSI.2</td>\n    </tr>\n    <tr>\n      <th>1</th>\n      <td>37610</td>\n      <td>2000.0</td>\n      <td>1</td>\n      <td>0.089239</td>\n      <td>0.011089</td>\n      <td>0.087376</td>\n      <td>-0.524732</td>\n      <td>0.906364</td>\n      <td>-0.071829</td>\n      <td>0.000292</td>\n      <td>...</td>\n      <td>2.177571</td>\n      <td>-1.220833</td>\n      <td>0.0</td>\n      <td>1.0</td>\n      <td>2.498284e+01</td>\n      <td>-7.402171e+01</td>\n      <td>-6.856532e+01</td>\n      <td>-0.904380</td>\n      <td>1.490291</td>\n      <td>DXPE</td>\n    </tr>\n    <tr>\n      <th>2</th>\n      <td>49536</td>\n      <td>2000.0</td>\n      <td>1</td>\n      <td>0.313050</td>\n      <td>0.007314</td>\n      <td>3.693176</td>\n      <td>0.625516</td>\n      <td>1.872712</td>\n      <td>1.010148</td>\n      <td>-0.069998</td>\n      <td>...</td>\n      <td>0.036899</td>\n      <td>-78.333333</td>\n      <td>-0.0</td>\n      <td>1.0</td>\n      <td>7.542644e+01</td>\n      <td>-2.309701e+02</td>\n      <td>-1.503731e+02</td>\n      <td>-11.081841</td>\n      <td>-430.222222</td>\n      <td>ZICA</td>\n    </tr>\n    <tr>\n      <th>3</th>\n      <td>32417</td>\n      <td>2000.0</td>\n      <td>1</td>\n      <td>0.089239</td>\n      <td>0.011089</td>\n      <td>6.165654</td>\n      <td>0.863910</td>\n      <td>1.275166</td>\n      <td>0.184606</td>\n      <td>0.013360</td>\n      <td>...</td>\n      <td>0.551135</td>\n      <td>66.510333</td>\n      <td>0.0</td>\n      <td>1.0</td>\n      <td>5.234158e+01</td>\n      <td>-2.327468e+01</td>\n      <td>-1.952816e+01</td>\n      <td>-395.933333</td>\n      <td>777.750000</td>\n      <td>XLTC</td>\n    </tr>\n    <tr>\n      <th>4</th>\n      <td>44933</td>\n      <td>2000.0</td>\n      <td>1</td>\n      <td>0.089239</td>\n      <td>0.011089</td>\n      <td>0.629410</td>\n      <td>-0.874122</td>\n      <td>0.000000</td>\n      <td>0.000000</td>\n      <td>0.004436</td>\n      <td>...</td>\n      <td>-2.766467</td>\n      <td>19.196429</td>\n      <td>0.0</td>\n      <td>1.0</td>\n      <td>7.495250e+01</td>\n      <td>3.133312e+01</td>\n      <td>4.316023e+01</td>\n      <td>0.020216</td>\n      <td>2.013002</td>\n      <td>MRYP</td>\n    </tr>\n  </tbody>\n</table>\n<p>5 rows × 52 columns</p>\n</div>"
     },
     "execution_count": 23,
     "metadata": {},
     "output_type": "execute_result"
    }
   ],
   "source": [
    "cri_compustat_merged.head()"
   ]
  },
  {
   "cell_type": "code",
   "execution_count": 24,
   "id": "2a8e62f501451fb",
   "metadata": {
    "collapsed": false,
    "ExecuteTime": {
     "end_time": "2023-10-30T14:21:09.691084Z",
     "start_time": "2023-10-30T14:21:09.672384Z"
    }
   },
   "outputs": [
    {
     "data": {
      "text/plain": "(1179414, 52)"
     },
     "execution_count": 24,
     "metadata": {},
     "output_type": "execute_result"
    }
   ],
   "source": [
    "cri_compustat_merged.shape #lost about 760249 rows, or 39%"
   ]
  },
  {
   "cell_type": "code",
   "execution_count": 25,
   "id": "7721ffc22ae8c88f",
   "metadata": {
    "collapsed": false,
    "ExecuteTime": {
     "end_time": "2023-10-30T14:21:22.900520Z",
     "start_time": "2023-10-30T14:21:22.875949Z"
    }
   },
   "outputs": [
    {
     "data": {
      "text/plain": "10895"
     },
     "execution_count": 25,
     "metadata": {},
     "output_type": "execute_result"
    }
   ],
   "source": [
    "len(cri_compustat_merged['gvkey'].unique())"
   ]
  },
  {
   "cell_type": "code",
   "execution_count": 26,
   "id": "cfc602a6c53d367",
   "metadata": {
    "collapsed": false,
    "ExecuteTime": {
     "end_time": "2023-10-30T14:21:38.560729Z",
     "start_time": "2023-10-30T14:21:28.274417Z"
    }
   },
   "outputs": [
    {
     "data": {
      "text/plain": "                             pct_inf\nCompNo                           0.0\nyear                             0.0\nmonth                            0.0\nStkIndx                          0.0\nSTInt                            0.0\ndtdlevel                         0.0\ndtdtrend                         0.0\nliqnonfinlevel                   0.0\nliqnonfintrend                   0.0\nni2talevel                       0.0\nni2tatrend                       0.0\nsizelevel                        0.0\nsizetrend                        0.0\nm2b                              0.0\nsigma                            0.0\nliqfinlevel                      0.0\nlqfintrend                       0.0\nDTDmedianFin                     0.0\nDTDmedianNonFin                  0.0\ndummy297fin                      0.0\nDefault                          0.0\nday                              0.0\ndate                             0.0\nStartDate                        0.0\nEventDate                        0.0\nDuration                         0.0\ngvkey                            0.0\ncurrent_ratio                    0.0\nquick_ratio                      0.0\ncash_ratio                       0.0\nnet_working_capital              0.0\ndebt_ratio                       0.0\ndebt_to_equity_ratio             0.0\nequity_ratio                     0.0\ncashflow_to_debt_ratio           0.0\nnet_profit_margin                0.0\nreturn_on_assets                 0.0\nasset_turnover                   0.0\ninventory_turnover               0.0\ndays_in_inventory                0.0\nreceivables_turnover             0.0\nday_sales_outstanding            0.0\nworking_capital_turnover         0.0\nprice_to_earnings                0.0\ndividend_payout_ratio            0.0\nretention_ratio                  0.0\ngross_margin_ratio               0.0\noperating_profit_margin          0.0\nebitda_margin                    0.0\ndebt_service_coverage_ratio      0.0\ninterest_coverage_ratio          0.0\ntic                              0.0",
      "text/html": "<div>\n<style scoped>\n    .dataframe tbody tr th:only-of-type {\n        vertical-align: middle;\n    }\n\n    .dataframe tbody tr th {\n        vertical-align: top;\n    }\n\n    .dataframe thead th {\n        text-align: right;\n    }\n</style>\n<table border=\"1\" class=\"dataframe\">\n  <thead>\n    <tr style=\"text-align: right;\">\n      <th></th>\n      <th>pct_inf</th>\n    </tr>\n  </thead>\n  <tbody>\n    <tr>\n      <th>CompNo</th>\n      <td>0.0</td>\n    </tr>\n    <tr>\n      <th>year</th>\n      <td>0.0</td>\n    </tr>\n    <tr>\n      <th>month</th>\n      <td>0.0</td>\n    </tr>\n    <tr>\n      <th>StkIndx</th>\n      <td>0.0</td>\n    </tr>\n    <tr>\n      <th>STInt</th>\n      <td>0.0</td>\n    </tr>\n    <tr>\n      <th>dtdlevel</th>\n      <td>0.0</td>\n    </tr>\n    <tr>\n      <th>dtdtrend</th>\n      <td>0.0</td>\n    </tr>\n    <tr>\n      <th>liqnonfinlevel</th>\n      <td>0.0</td>\n    </tr>\n    <tr>\n      <th>liqnonfintrend</th>\n      <td>0.0</td>\n    </tr>\n    <tr>\n      <th>ni2talevel</th>\n      <td>0.0</td>\n    </tr>\n    <tr>\n      <th>ni2tatrend</th>\n      <td>0.0</td>\n    </tr>\n    <tr>\n      <th>sizelevel</th>\n      <td>0.0</td>\n    </tr>\n    <tr>\n      <th>sizetrend</th>\n      <td>0.0</td>\n    </tr>\n    <tr>\n      <th>m2b</th>\n      <td>0.0</td>\n    </tr>\n    <tr>\n      <th>sigma</th>\n      <td>0.0</td>\n    </tr>\n    <tr>\n      <th>liqfinlevel</th>\n      <td>0.0</td>\n    </tr>\n    <tr>\n      <th>lqfintrend</th>\n      <td>0.0</td>\n    </tr>\n    <tr>\n      <th>DTDmedianFin</th>\n      <td>0.0</td>\n    </tr>\n    <tr>\n      <th>DTDmedianNonFin</th>\n      <td>0.0</td>\n    </tr>\n    <tr>\n      <th>dummy297fin</th>\n      <td>0.0</td>\n    </tr>\n    <tr>\n      <th>Default</th>\n      <td>0.0</td>\n    </tr>\n    <tr>\n      <th>day</th>\n      <td>0.0</td>\n    </tr>\n    <tr>\n      <th>date</th>\n      <td>0.0</td>\n    </tr>\n    <tr>\n      <th>StartDate</th>\n      <td>0.0</td>\n    </tr>\n    <tr>\n      <th>EventDate</th>\n      <td>0.0</td>\n    </tr>\n    <tr>\n      <th>Duration</th>\n      <td>0.0</td>\n    </tr>\n    <tr>\n      <th>gvkey</th>\n      <td>0.0</td>\n    </tr>\n    <tr>\n      <th>current_ratio</th>\n      <td>0.0</td>\n    </tr>\n    <tr>\n      <th>quick_ratio</th>\n      <td>0.0</td>\n    </tr>\n    <tr>\n      <th>cash_ratio</th>\n      <td>0.0</td>\n    </tr>\n    <tr>\n      <th>net_working_capital</th>\n      <td>0.0</td>\n    </tr>\n    <tr>\n      <th>debt_ratio</th>\n      <td>0.0</td>\n    </tr>\n    <tr>\n      <th>debt_to_equity_ratio</th>\n      <td>0.0</td>\n    </tr>\n    <tr>\n      <th>equity_ratio</th>\n      <td>0.0</td>\n    </tr>\n    <tr>\n      <th>cashflow_to_debt_ratio</th>\n      <td>0.0</td>\n    </tr>\n    <tr>\n      <th>net_profit_margin</th>\n      <td>0.0</td>\n    </tr>\n    <tr>\n      <th>return_on_assets</th>\n      <td>0.0</td>\n    </tr>\n    <tr>\n      <th>asset_turnover</th>\n      <td>0.0</td>\n    </tr>\n    <tr>\n      <th>inventory_turnover</th>\n      <td>0.0</td>\n    </tr>\n    <tr>\n      <th>days_in_inventory</th>\n      <td>0.0</td>\n    </tr>\n    <tr>\n      <th>receivables_turnover</th>\n      <td>0.0</td>\n    </tr>\n    <tr>\n      <th>day_sales_outstanding</th>\n      <td>0.0</td>\n    </tr>\n    <tr>\n      <th>working_capital_turnover</th>\n      <td>0.0</td>\n    </tr>\n    <tr>\n      <th>price_to_earnings</th>\n      <td>0.0</td>\n    </tr>\n    <tr>\n      <th>dividend_payout_ratio</th>\n      <td>0.0</td>\n    </tr>\n    <tr>\n      <th>retention_ratio</th>\n      <td>0.0</td>\n    </tr>\n    <tr>\n      <th>gross_margin_ratio</th>\n      <td>0.0</td>\n    </tr>\n    <tr>\n      <th>operating_profit_margin</th>\n      <td>0.0</td>\n    </tr>\n    <tr>\n      <th>ebitda_margin</th>\n      <td>0.0</td>\n    </tr>\n    <tr>\n      <th>debt_service_coverage_ratio</th>\n      <td>0.0</td>\n    </tr>\n    <tr>\n      <th>interest_coverage_ratio</th>\n      <td>0.0</td>\n    </tr>\n    <tr>\n      <th>tic</th>\n      <td>0.0</td>\n    </tr>\n  </tbody>\n</table>\n</div>"
     },
     "execution_count": 26,
     "metadata": {},
     "output_type": "execute_result"
    }
   ],
   "source": [
    "inf_breakdown = pd.DataFrame()\n",
    "inf_breakdown['pct_inf'] = (100 * cri_compustat_merged.isin([float('inf'), float('-inf')]).sum()) / len(cri_compustat_merged)\n",
    "inf_breakdown"
   ]
  },
  {
   "cell_type": "code",
   "execution_count": 27,
   "id": "977e5180d79ae02f",
   "metadata": {
    "collapsed": false,
    "ExecuteTime": {
     "end_time": "2023-10-30T14:21:45.798315Z",
     "start_time": "2023-10-30T14:21:45.601532Z"
    }
   },
   "outputs": [
    {
     "data": {
      "text/plain": "                             pct_nan\nCompNo                           0.0\nyear                             0.0\nmonth                            0.0\nStkIndx                          0.0\nSTInt                            0.0\ndtdlevel                         0.0\ndtdtrend                         0.0\nliqnonfinlevel                   0.0\nliqnonfintrend                   0.0\nni2talevel                       0.0\nni2tatrend                       0.0\nsizelevel                        0.0\nsizetrend                        0.0\nm2b                              0.0\nsigma                            0.0\nliqfinlevel                      0.0\nlqfintrend                       0.0\nDTDmedianFin                     0.0\nDTDmedianNonFin                  0.0\ndummy297fin                      0.0\nDefault                          0.0\nday                              0.0\ndate                             0.0\nStartDate                        0.0\nEventDate                        0.0\nDuration                         0.0\ngvkey                            0.0\ncurrent_ratio                    0.0\nquick_ratio                      0.0\ncash_ratio                       0.0\nnet_working_capital              0.0\ndebt_ratio                       0.0\ndebt_to_equity_ratio             0.0\nequity_ratio                     0.0\ncashflow_to_debt_ratio           0.0\nnet_profit_margin                0.0\nreturn_on_assets                 0.0\nasset_turnover                   0.0\ninventory_turnover               0.0\ndays_in_inventory                0.0\nreceivables_turnover             0.0\nday_sales_outstanding            0.0\nworking_capital_turnover         0.0\nprice_to_earnings                0.0\ndividend_payout_ratio            0.0\nretention_ratio                  0.0\ngross_margin_ratio               0.0\noperating_profit_margin          0.0\nebitda_margin                    0.0\ndebt_service_coverage_ratio      0.0\ninterest_coverage_ratio          0.0\ntic                              0.0",
      "text/html": "<div>\n<style scoped>\n    .dataframe tbody tr th:only-of-type {\n        vertical-align: middle;\n    }\n\n    .dataframe tbody tr th {\n        vertical-align: top;\n    }\n\n    .dataframe thead th {\n        text-align: right;\n    }\n</style>\n<table border=\"1\" class=\"dataframe\">\n  <thead>\n    <tr style=\"text-align: right;\">\n      <th></th>\n      <th>pct_nan</th>\n    </tr>\n  </thead>\n  <tbody>\n    <tr>\n      <th>CompNo</th>\n      <td>0.0</td>\n    </tr>\n    <tr>\n      <th>year</th>\n      <td>0.0</td>\n    </tr>\n    <tr>\n      <th>month</th>\n      <td>0.0</td>\n    </tr>\n    <tr>\n      <th>StkIndx</th>\n      <td>0.0</td>\n    </tr>\n    <tr>\n      <th>STInt</th>\n      <td>0.0</td>\n    </tr>\n    <tr>\n      <th>dtdlevel</th>\n      <td>0.0</td>\n    </tr>\n    <tr>\n      <th>dtdtrend</th>\n      <td>0.0</td>\n    </tr>\n    <tr>\n      <th>liqnonfinlevel</th>\n      <td>0.0</td>\n    </tr>\n    <tr>\n      <th>liqnonfintrend</th>\n      <td>0.0</td>\n    </tr>\n    <tr>\n      <th>ni2talevel</th>\n      <td>0.0</td>\n    </tr>\n    <tr>\n      <th>ni2tatrend</th>\n      <td>0.0</td>\n    </tr>\n    <tr>\n      <th>sizelevel</th>\n      <td>0.0</td>\n    </tr>\n    <tr>\n      <th>sizetrend</th>\n      <td>0.0</td>\n    </tr>\n    <tr>\n      <th>m2b</th>\n      <td>0.0</td>\n    </tr>\n    <tr>\n      <th>sigma</th>\n      <td>0.0</td>\n    </tr>\n    <tr>\n      <th>liqfinlevel</th>\n      <td>0.0</td>\n    </tr>\n    <tr>\n      <th>lqfintrend</th>\n      <td>0.0</td>\n    </tr>\n    <tr>\n      <th>DTDmedianFin</th>\n      <td>0.0</td>\n    </tr>\n    <tr>\n      <th>DTDmedianNonFin</th>\n      <td>0.0</td>\n    </tr>\n    <tr>\n      <th>dummy297fin</th>\n      <td>0.0</td>\n    </tr>\n    <tr>\n      <th>Default</th>\n      <td>0.0</td>\n    </tr>\n    <tr>\n      <th>day</th>\n      <td>0.0</td>\n    </tr>\n    <tr>\n      <th>date</th>\n      <td>0.0</td>\n    </tr>\n    <tr>\n      <th>StartDate</th>\n      <td>0.0</td>\n    </tr>\n    <tr>\n      <th>EventDate</th>\n      <td>0.0</td>\n    </tr>\n    <tr>\n      <th>Duration</th>\n      <td>0.0</td>\n    </tr>\n    <tr>\n      <th>gvkey</th>\n      <td>0.0</td>\n    </tr>\n    <tr>\n      <th>current_ratio</th>\n      <td>0.0</td>\n    </tr>\n    <tr>\n      <th>quick_ratio</th>\n      <td>0.0</td>\n    </tr>\n    <tr>\n      <th>cash_ratio</th>\n      <td>0.0</td>\n    </tr>\n    <tr>\n      <th>net_working_capital</th>\n      <td>0.0</td>\n    </tr>\n    <tr>\n      <th>debt_ratio</th>\n      <td>0.0</td>\n    </tr>\n    <tr>\n      <th>debt_to_equity_ratio</th>\n      <td>0.0</td>\n    </tr>\n    <tr>\n      <th>equity_ratio</th>\n      <td>0.0</td>\n    </tr>\n    <tr>\n      <th>cashflow_to_debt_ratio</th>\n      <td>0.0</td>\n    </tr>\n    <tr>\n      <th>net_profit_margin</th>\n      <td>0.0</td>\n    </tr>\n    <tr>\n      <th>return_on_assets</th>\n      <td>0.0</td>\n    </tr>\n    <tr>\n      <th>asset_turnover</th>\n      <td>0.0</td>\n    </tr>\n    <tr>\n      <th>inventory_turnover</th>\n      <td>0.0</td>\n    </tr>\n    <tr>\n      <th>days_in_inventory</th>\n      <td>0.0</td>\n    </tr>\n    <tr>\n      <th>receivables_turnover</th>\n      <td>0.0</td>\n    </tr>\n    <tr>\n      <th>day_sales_outstanding</th>\n      <td>0.0</td>\n    </tr>\n    <tr>\n      <th>working_capital_turnover</th>\n      <td>0.0</td>\n    </tr>\n    <tr>\n      <th>price_to_earnings</th>\n      <td>0.0</td>\n    </tr>\n    <tr>\n      <th>dividend_payout_ratio</th>\n      <td>0.0</td>\n    </tr>\n    <tr>\n      <th>retention_ratio</th>\n      <td>0.0</td>\n    </tr>\n    <tr>\n      <th>gross_margin_ratio</th>\n      <td>0.0</td>\n    </tr>\n    <tr>\n      <th>operating_profit_margin</th>\n      <td>0.0</td>\n    </tr>\n    <tr>\n      <th>ebitda_margin</th>\n      <td>0.0</td>\n    </tr>\n    <tr>\n      <th>debt_service_coverage_ratio</th>\n      <td>0.0</td>\n    </tr>\n    <tr>\n      <th>interest_coverage_ratio</th>\n      <td>0.0</td>\n    </tr>\n    <tr>\n      <th>tic</th>\n      <td>0.0</td>\n    </tr>\n  </tbody>\n</table>\n</div>"
     },
     "execution_count": 27,
     "metadata": {},
     "output_type": "execute_result"
    }
   ],
   "source": [
    "nan_breakdown = pd.DataFrame()\n",
    "nan_breakdown['pct_nan'] = (cri_compustat_merged.isna().sum() / len(cri_compustat_merged)) * 100\n",
    "nan_breakdown"
   ]
  },
  {
   "cell_type": "code",
   "execution_count": 28,
   "id": "29d837cbf7f82ae4",
   "metadata": {
    "collapsed": false,
    "ExecuteTime": {
     "end_time": "2023-10-30T14:21:55.769457Z",
     "start_time": "2023-10-30T14:21:55.599695Z"
    }
   },
   "outputs": [],
   "source": [
    "cri_compustat_merged.to_pickle('./cri_compustat_merged_v6.pkl')"
   ]
  }
 ],
 "metadata": {
  "kernelspec": {
   "display_name": "Python 3",
   "language": "python",
   "name": "python3"
  },
  "language_info": {
   "codemirror_mode": {
    "name": "ipython",
    "version": 3
   },
   "file_extension": ".py",
   "mimetype": "text/x-python",
   "name": "python",
   "nbconvert_exporter": "python",
   "pygments_lexer": "ipython3",
   "version": "3.10.2"
  }
 },
 "nbformat": 4,
 "nbformat_minor": 5
}
