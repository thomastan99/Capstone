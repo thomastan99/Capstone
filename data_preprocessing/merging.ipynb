{
 "cells": [
  {
   "cell_type": "code",
   "execution_count": 1,
   "id": "initial_id",
   "metadata": {
    "collapsed": true,
    "ExecuteTime": {
     "end_time": "2023-11-03T10:42:39.301097Z",
     "start_time": "2023-11-03T10:42:38.829908Z"
    }
   },
   "outputs": [],
   "source": [
    "import pandas as pd"
   ]
  },
  {
   "cell_type": "code",
   "execution_count": 2,
   "id": "faef558dd54e5a14",
   "metadata": {
    "collapsed": false,
    "ExecuteTime": {
     "end_time": "2023-11-03T10:42:39.506327Z",
     "start_time": "2023-11-03T10:42:39.302128Z"
    }
   },
   "outputs": [],
   "source": [
    "cri_data = pd.read_pickle('xy_data.pkl')"
   ]
  },
  {
   "cell_type": "code",
   "execution_count": 3,
   "id": "06cacb28",
   "metadata": {
    "ExecuteTime": {
     "end_time": "2023-11-03T10:42:39.665756Z",
     "start_time": "2023-11-03T10:42:39.507443Z"
    }
   },
   "outputs": [
    {
     "data": {
      "text/plain": "18507"
     },
     "execution_count": 3,
     "metadata": {},
     "output_type": "execute_result"
    }
   ],
   "source": [
    "cri_data[cri_data['Default'] == 1].shape[0]"
   ]
  },
  {
   "cell_type": "code",
   "execution_count": 4,
   "id": "9ae37786105eb0f9",
   "metadata": {
    "collapsed": false,
    "ExecuteTime": {
     "end_time": "2023-11-03T10:42:41.059904Z",
     "start_time": "2023-11-03T10:42:41.056897Z"
    }
   },
   "outputs": [
    {
     "data": {
      "text/plain": "2240223"
     },
     "execution_count": 4,
     "metadata": {},
     "output_type": "execute_result"
    }
   ],
   "source": [
    "cri_data.shape[0]"
   ]
  },
  {
   "cell_type": "code",
   "execution_count": 6,
   "id": "6a35c9878a537823",
   "metadata": {
    "collapsed": false,
    "ExecuteTime": {
     "end_time": "2023-11-03T10:43:02.569586Z",
     "start_time": "2023-11-03T10:43:02.455831Z"
    }
   },
   "outputs": [],
   "source": [
    "compustat_data = pd.read_pickle('compustat_inputed.pkl')"
   ]
  },
  {
   "cell_type": "code",
   "execution_count": 7,
   "id": "ff9fdb000852bdb0",
   "metadata": {
    "collapsed": false,
    "ExecuteTime": {
     "end_time": "2023-11-03T10:43:03.229095Z",
     "start_time": "2023-11-03T10:43:03.226529Z"
    }
   },
   "outputs": [
    {
     "data": {
      "text/plain": "(842904, 31)"
     },
     "execution_count": 7,
     "metadata": {},
     "output_type": "execute_result"
    }
   ],
   "source": [
    "compustat_data.shape"
   ]
  },
  {
   "cell_type": "code",
   "execution_count": 8,
   "id": "34d52f38a4b5d377",
   "metadata": {
    "collapsed": false,
    "ExecuteTime": {
     "end_time": "2023-11-03T10:43:26.711687Z",
     "start_time": "2023-11-03T10:43:09.581075Z"
    }
   },
   "outputs": [
    {
     "data": {
      "text/plain": "   gvkey   datadate     sic  tic    year  quarter  current_ratio  quick_ratio  \\\n0   1004 2000-02-29  5080.0  AIR  2000.0      1.0       2.981531     1.176928   \n1   1004 2000-03-31  5080.0  AIR  2000.0      1.0       2.981531     1.176928   \n2   1004 2000-04-30  5080.0  AIR  2000.0      1.0       2.981531     1.176928   \n3   1004 2000-05-31  5080.0  AIR  2000.0      2.0       3.120983     1.069792   \n4   1004 2000-06-30  5080.0  AIR  2000.0      2.0       3.120983     1.069792   \n\n   cash_ratio  net_working_capital  ...  price_to_earnings  \\\n0   -0.021609              350.202  ...          59.375000   \n1   -0.021609              350.202  ...          59.375000   \n2   -0.021609              350.202  ...          59.375000   \n3   -0.042786              347.451  ...         154.166667   \n4   -0.042786              347.451  ...         154.166667   \n\n   dividend_payout_ratio  retention_ratio  gross_margin_ratio  \\\n0               0.212500         0.787500           18.234795   \n1               0.212500         0.787500           18.234795   \n2               0.212500         0.787500           18.234795   \n3               0.944444         0.055556           18.944015   \n4               0.944444         0.055556           18.944015   \n\n   operating_profit_margin  ebitda_margin  debt_service_coverage_ratio  \\\n0               -72.491564     -70.807951                    -0.958372   \n1               -72.491564     -70.807951                    -0.958372   \n2               -72.491564     -70.807951                    -0.958372   \n3               -75.280235     -73.157425                    -0.819497   \n4               -75.280235     -73.157425                    -0.819497   \n\n   interest_coverage_ratio  sic_2  mm  \n0                 4.223950   50.0   2  \n1                 4.223950   50.0   3  \n2                 4.223950   50.0   4  \n3                 2.287927   50.0   5  \n4                 2.287927   50.0   6  \n\n[5 rows x 32 columns]",
      "text/html": "<div>\n<style scoped>\n    .dataframe tbody tr th:only-of-type {\n        vertical-align: middle;\n    }\n\n    .dataframe tbody tr th {\n        vertical-align: top;\n    }\n\n    .dataframe thead th {\n        text-align: right;\n    }\n</style>\n<table border=\"1\" class=\"dataframe\">\n  <thead>\n    <tr style=\"text-align: right;\">\n      <th></th>\n      <th>gvkey</th>\n      <th>datadate</th>\n      <th>sic</th>\n      <th>tic</th>\n      <th>year</th>\n      <th>quarter</th>\n      <th>current_ratio</th>\n      <th>quick_ratio</th>\n      <th>cash_ratio</th>\n      <th>net_working_capital</th>\n      <th>...</th>\n      <th>price_to_earnings</th>\n      <th>dividend_payout_ratio</th>\n      <th>retention_ratio</th>\n      <th>gross_margin_ratio</th>\n      <th>operating_profit_margin</th>\n      <th>ebitda_margin</th>\n      <th>debt_service_coverage_ratio</th>\n      <th>interest_coverage_ratio</th>\n      <th>sic_2</th>\n      <th>mm</th>\n    </tr>\n  </thead>\n  <tbody>\n    <tr>\n      <th>0</th>\n      <td>1004</td>\n      <td>2000-02-29</td>\n      <td>5080.0</td>\n      <td>AIR</td>\n      <td>2000.0</td>\n      <td>1.0</td>\n      <td>2.981531</td>\n      <td>1.176928</td>\n      <td>-0.021609</td>\n      <td>350.202</td>\n      <td>...</td>\n      <td>59.375000</td>\n      <td>0.212500</td>\n      <td>0.787500</td>\n      <td>18.234795</td>\n      <td>-72.491564</td>\n      <td>-70.807951</td>\n      <td>-0.958372</td>\n      <td>4.223950</td>\n      <td>50.0</td>\n      <td>2</td>\n    </tr>\n    <tr>\n      <th>1</th>\n      <td>1004</td>\n      <td>2000-03-31</td>\n      <td>5080.0</td>\n      <td>AIR</td>\n      <td>2000.0</td>\n      <td>1.0</td>\n      <td>2.981531</td>\n      <td>1.176928</td>\n      <td>-0.021609</td>\n      <td>350.202</td>\n      <td>...</td>\n      <td>59.375000</td>\n      <td>0.212500</td>\n      <td>0.787500</td>\n      <td>18.234795</td>\n      <td>-72.491564</td>\n      <td>-70.807951</td>\n      <td>-0.958372</td>\n      <td>4.223950</td>\n      <td>50.0</td>\n      <td>3</td>\n    </tr>\n    <tr>\n      <th>2</th>\n      <td>1004</td>\n      <td>2000-04-30</td>\n      <td>5080.0</td>\n      <td>AIR</td>\n      <td>2000.0</td>\n      <td>1.0</td>\n      <td>2.981531</td>\n      <td>1.176928</td>\n      <td>-0.021609</td>\n      <td>350.202</td>\n      <td>...</td>\n      <td>59.375000</td>\n      <td>0.212500</td>\n      <td>0.787500</td>\n      <td>18.234795</td>\n      <td>-72.491564</td>\n      <td>-70.807951</td>\n      <td>-0.958372</td>\n      <td>4.223950</td>\n      <td>50.0</td>\n      <td>4</td>\n    </tr>\n    <tr>\n      <th>3</th>\n      <td>1004</td>\n      <td>2000-05-31</td>\n      <td>5080.0</td>\n      <td>AIR</td>\n      <td>2000.0</td>\n      <td>2.0</td>\n      <td>3.120983</td>\n      <td>1.069792</td>\n      <td>-0.042786</td>\n      <td>347.451</td>\n      <td>...</td>\n      <td>154.166667</td>\n      <td>0.944444</td>\n      <td>0.055556</td>\n      <td>18.944015</td>\n      <td>-75.280235</td>\n      <td>-73.157425</td>\n      <td>-0.819497</td>\n      <td>2.287927</td>\n      <td>50.0</td>\n      <td>5</td>\n    </tr>\n    <tr>\n      <th>4</th>\n      <td>1004</td>\n      <td>2000-06-30</td>\n      <td>5080.0</td>\n      <td>AIR</td>\n      <td>2000.0</td>\n      <td>2.0</td>\n      <td>3.120983</td>\n      <td>1.069792</td>\n      <td>-0.042786</td>\n      <td>347.451</td>\n      <td>...</td>\n      <td>154.166667</td>\n      <td>0.944444</td>\n      <td>0.055556</td>\n      <td>18.944015</td>\n      <td>-75.280235</td>\n      <td>-73.157425</td>\n      <td>-0.819497</td>\n      <td>2.287927</td>\n      <td>50.0</td>\n      <td>6</td>\n    </tr>\n  </tbody>\n</table>\n<p>5 rows × 32 columns</p>\n</div>"
     },
     "execution_count": 8,
     "metadata": {},
     "output_type": "execute_result"
    }
   ],
   "source": [
    "# convert to monthly \n",
    "def expand_dates(ser):\n",
    "    min_date = ser['datadate'].min()\n",
    "    max_date = ser['datadate'].max()\n",
    "    return pd.DataFrame({'datadate': pd.date_range(min_date, max_date, freq='M')})\n",
    "\n",
    "# Apply the function within each 'id' group\n",
    "ffdf = compustat_data.groupby(['gvkey']).apply(expand_dates).reset_index()\n",
    "\n",
    "# Merge with the original DataFrame and forward fill missing values for the entire row\n",
    "result = ffdf.merge(compustat_data, on=['gvkey', 'datadate'], how='left').fillna(method='ffill')\n",
    "result['mm'] = result['datadate'].dt.month\n",
    "result.drop('level_1', axis=1, inplace=True)\n",
    "result.head()"
   ]
  },
  {
   "cell_type": "code",
   "execution_count": 9,
   "id": "ec200e7057d5b342",
   "metadata": {
    "collapsed": false,
    "ExecuteTime": {
     "end_time": "2023-11-03T10:44:18.736671Z",
     "start_time": "2023-11-03T10:44:18.732652Z"
    }
   },
   "outputs": [
    {
     "data": {
      "text/plain": "(2487582, 32)"
     },
     "execution_count": 9,
     "metadata": {},
     "output_type": "execute_result"
    }
   ],
   "source": [
    "result.shape"
   ]
  },
  {
   "cell_type": "code",
   "execution_count": 10,
   "id": "c1d80e4aefcca55f",
   "metadata": {
    "collapsed": false,
    "ExecuteTime": {
     "end_time": "2023-11-03T10:44:26.394028Z",
     "start_time": "2023-11-03T10:44:19.584231Z"
    }
   },
   "outputs": [
    {
     "data": {
      "text/plain": "                             pct_inf\ngvkey                            0.0\ndatadate                         0.0\nsic                              0.0\ntic                              0.0\nyear                             0.0\nquarter                          0.0\ncurrent_ratio                    0.0\nquick_ratio                      0.0\ncash_ratio                       0.0\nnet_working_capital              0.0\ndebt_ratio                       0.0\ndebt_to_equity_ratio             0.0\nequity_ratio                     0.0\ncashflow_to_debt_ratio           0.0\nnet_profit_margin                0.0\nreturn_on_assets                 0.0\nasset_turnover                   0.0\ninventory_turnover               0.0\ndays_in_inventory                0.0\nreceivables_turnover             0.0\nday_sales_outstanding            0.0\nworking_capital_turnover         0.0\nprice_to_earnings                0.0\ndividend_payout_ratio            0.0\nretention_ratio                  0.0\ngross_margin_ratio               0.0\noperating_profit_margin          0.0\nebitda_margin                    0.0\ndebt_service_coverage_ratio      0.0\ninterest_coverage_ratio          0.0\nsic_2                            0.0\nmm                               0.0",
      "text/html": "<div>\n<style scoped>\n    .dataframe tbody tr th:only-of-type {\n        vertical-align: middle;\n    }\n\n    .dataframe tbody tr th {\n        vertical-align: top;\n    }\n\n    .dataframe thead th {\n        text-align: right;\n    }\n</style>\n<table border=\"1\" class=\"dataframe\">\n  <thead>\n    <tr style=\"text-align: right;\">\n      <th></th>\n      <th>pct_inf</th>\n    </tr>\n  </thead>\n  <tbody>\n    <tr>\n      <th>gvkey</th>\n      <td>0.0</td>\n    </tr>\n    <tr>\n      <th>datadate</th>\n      <td>0.0</td>\n    </tr>\n    <tr>\n      <th>sic</th>\n      <td>0.0</td>\n    </tr>\n    <tr>\n      <th>tic</th>\n      <td>0.0</td>\n    </tr>\n    <tr>\n      <th>year</th>\n      <td>0.0</td>\n    </tr>\n    <tr>\n      <th>quarter</th>\n      <td>0.0</td>\n    </tr>\n    <tr>\n      <th>current_ratio</th>\n      <td>0.0</td>\n    </tr>\n    <tr>\n      <th>quick_ratio</th>\n      <td>0.0</td>\n    </tr>\n    <tr>\n      <th>cash_ratio</th>\n      <td>0.0</td>\n    </tr>\n    <tr>\n      <th>net_working_capital</th>\n      <td>0.0</td>\n    </tr>\n    <tr>\n      <th>debt_ratio</th>\n      <td>0.0</td>\n    </tr>\n    <tr>\n      <th>debt_to_equity_ratio</th>\n      <td>0.0</td>\n    </tr>\n    <tr>\n      <th>equity_ratio</th>\n      <td>0.0</td>\n    </tr>\n    <tr>\n      <th>cashflow_to_debt_ratio</th>\n      <td>0.0</td>\n    </tr>\n    <tr>\n      <th>net_profit_margin</th>\n      <td>0.0</td>\n    </tr>\n    <tr>\n      <th>return_on_assets</th>\n      <td>0.0</td>\n    </tr>\n    <tr>\n      <th>asset_turnover</th>\n      <td>0.0</td>\n    </tr>\n    <tr>\n      <th>inventory_turnover</th>\n      <td>0.0</td>\n    </tr>\n    <tr>\n      <th>days_in_inventory</th>\n      <td>0.0</td>\n    </tr>\n    <tr>\n      <th>receivables_turnover</th>\n      <td>0.0</td>\n    </tr>\n    <tr>\n      <th>day_sales_outstanding</th>\n      <td>0.0</td>\n    </tr>\n    <tr>\n      <th>working_capital_turnover</th>\n      <td>0.0</td>\n    </tr>\n    <tr>\n      <th>price_to_earnings</th>\n      <td>0.0</td>\n    </tr>\n    <tr>\n      <th>dividend_payout_ratio</th>\n      <td>0.0</td>\n    </tr>\n    <tr>\n      <th>retention_ratio</th>\n      <td>0.0</td>\n    </tr>\n    <tr>\n      <th>gross_margin_ratio</th>\n      <td>0.0</td>\n    </tr>\n    <tr>\n      <th>operating_profit_margin</th>\n      <td>0.0</td>\n    </tr>\n    <tr>\n      <th>ebitda_margin</th>\n      <td>0.0</td>\n    </tr>\n    <tr>\n      <th>debt_service_coverage_ratio</th>\n      <td>0.0</td>\n    </tr>\n    <tr>\n      <th>interest_coverage_ratio</th>\n      <td>0.0</td>\n    </tr>\n    <tr>\n      <th>sic_2</th>\n      <td>0.0</td>\n    </tr>\n    <tr>\n      <th>mm</th>\n      <td>0.0</td>\n    </tr>\n  </tbody>\n</table>\n</div>"
     },
     "execution_count": 10,
     "metadata": {},
     "output_type": "execute_result"
    }
   ],
   "source": [
    "inf_breakdown = pd.DataFrame()\n",
    "inf_breakdown['pct_inf'] = (100 * result.isin([float('inf'), float('-inf')]).sum()) / len(compustat_data)\n",
    "inf_breakdown"
   ]
  },
  {
   "cell_type": "code",
   "execution_count": 11,
   "id": "cb6d271955387d3c",
   "metadata": {
    "collapsed": false,
    "ExecuteTime": {
     "end_time": "2023-11-03T10:44:41.306545Z",
     "start_time": "2023-11-03T10:44:41.286464Z"
    }
   },
   "outputs": [
    {
     "data": {
      "text/plain": "   company_number   gvkey\n0           50797  177439\n1           92318  160317\n2           92300  106156\n3           45321  141466\n4           43665   66636",
      "text/html": "<div>\n<style scoped>\n    .dataframe tbody tr th:only-of-type {\n        vertical-align: middle;\n    }\n\n    .dataframe tbody tr th {\n        vertical-align: top;\n    }\n\n    .dataframe thead th {\n        text-align: right;\n    }\n</style>\n<table border=\"1\" class=\"dataframe\">\n  <thead>\n    <tr style=\"text-align: right;\">\n      <th></th>\n      <th>company_number</th>\n      <th>gvkey</th>\n    </tr>\n  </thead>\n  <tbody>\n    <tr>\n      <th>0</th>\n      <td>50797</td>\n      <td>177439</td>\n    </tr>\n    <tr>\n      <th>1</th>\n      <td>92318</td>\n      <td>160317</td>\n    </tr>\n    <tr>\n      <th>2</th>\n      <td>92300</td>\n      <td>106156</td>\n    </tr>\n    <tr>\n      <th>3</th>\n      <td>45321</td>\n      <td>141466</td>\n    </tr>\n    <tr>\n      <th>4</th>\n      <td>43665</td>\n      <td>66636</td>\n    </tr>\n  </tbody>\n</table>\n</div>"
     },
     "execution_count": 11,
     "metadata": {},
     "output_type": "execute_result"
    }
   ],
   "source": [
    "company_map = pd.read_csv('./compustat_company_map.xlsx - in.csv')\n",
    "company_map.head()"
   ]
  },
  {
   "cell_type": "code",
   "execution_count": 12,
   "id": "30c073ddfdadf688",
   "metadata": {
    "collapsed": false,
    "ExecuteTime": {
     "end_time": "2023-11-03T10:44:42.770565Z",
     "start_time": "2023-11-03T10:44:42.763470Z"
    }
   },
   "outputs": [],
   "source": [
    "# mapping from company number to gvkey\n",
    "mapping_dict = company_map.set_index('company_number')['gvkey'].to_dict()"
   ]
  },
  {
   "cell_type": "code",
   "execution_count": 13,
   "id": "5404aa4030401c1d",
   "metadata": {
    "collapsed": false,
    "ExecuteTime": {
     "end_time": "2023-11-03T10:44:43.961653Z",
     "start_time": "2023-11-03T10:44:43.928833Z"
    }
   },
   "outputs": [],
   "source": [
    "cri_data['gvkey'] = cri_data['CompNo'].map(mapping_dict)"
   ]
  },
  {
   "cell_type": "code",
   "execution_count": 14,
   "id": "1b9ed2bc226215c6",
   "metadata": {
    "collapsed": false,
    "ExecuteTime": {
     "end_time": "2023-11-03T10:44:44.724381Z",
     "start_time": "2023-11-03T10:44:44.431023Z"
    }
   },
   "outputs": [
    {
     "data": {
      "text/plain": "(1943733, 27)"
     },
     "execution_count": 14,
     "metadata": {},
     "output_type": "execute_result"
    }
   ],
   "source": [
    "cri_data = cri_data.dropna()\n",
    "cri_data.shape # lost about 300k rows from missing mapping values, ie 13%"
   ]
  },
  {
   "cell_type": "code",
   "execution_count": 15,
   "id": "d7ec1797e8e92aff",
   "metadata": {
    "collapsed": false,
    "ExecuteTime": {
     "end_time": "2023-11-03T10:44:45.951711Z",
     "start_time": "2023-11-03T10:44:45.946453Z"
    }
   },
   "outputs": [
    {
     "data": {
      "text/plain": "   gvkey   datadate     sic  tic    year  quarter  current_ratio  quick_ratio  \\\n0   1004 2000-02-29  5080.0  AIR  2000.0      1.0       2.981531     1.176928   \n1   1004 2000-03-31  5080.0  AIR  2000.0      1.0       2.981531     1.176928   \n2   1004 2000-04-30  5080.0  AIR  2000.0      1.0       2.981531     1.176928   \n3   1004 2000-05-31  5080.0  AIR  2000.0      2.0       3.120983     1.069792   \n4   1004 2000-06-30  5080.0  AIR  2000.0      2.0       3.120983     1.069792   \n\n   cash_ratio  net_working_capital  ...  price_to_earnings  \\\n0   -0.021609              350.202  ...          59.375000   \n1   -0.021609              350.202  ...          59.375000   \n2   -0.021609              350.202  ...          59.375000   \n3   -0.042786              347.451  ...         154.166667   \n4   -0.042786              347.451  ...         154.166667   \n\n   dividend_payout_ratio  retention_ratio  gross_margin_ratio  \\\n0               0.212500         0.787500           18.234795   \n1               0.212500         0.787500           18.234795   \n2               0.212500         0.787500           18.234795   \n3               0.944444         0.055556           18.944015   \n4               0.944444         0.055556           18.944015   \n\n   operating_profit_margin  ebitda_margin  debt_service_coverage_ratio  \\\n0               -72.491564     -70.807951                    -0.958372   \n1               -72.491564     -70.807951                    -0.958372   \n2               -72.491564     -70.807951                    -0.958372   \n3               -75.280235     -73.157425                    -0.819497   \n4               -75.280235     -73.157425                    -0.819497   \n\n   interest_coverage_ratio  sic_2  mm  \n0                 4.223950   50.0   2  \n1                 4.223950   50.0   3  \n2                 4.223950   50.0   4  \n3                 2.287927   50.0   5  \n4                 2.287927   50.0   6  \n\n[5 rows x 32 columns]",
      "text/html": "<div>\n<style scoped>\n    .dataframe tbody tr th:only-of-type {\n        vertical-align: middle;\n    }\n\n    .dataframe tbody tr th {\n        vertical-align: top;\n    }\n\n    .dataframe thead th {\n        text-align: right;\n    }\n</style>\n<table border=\"1\" class=\"dataframe\">\n  <thead>\n    <tr style=\"text-align: right;\">\n      <th></th>\n      <th>gvkey</th>\n      <th>datadate</th>\n      <th>sic</th>\n      <th>tic</th>\n      <th>year</th>\n      <th>quarter</th>\n      <th>current_ratio</th>\n      <th>quick_ratio</th>\n      <th>cash_ratio</th>\n      <th>net_working_capital</th>\n      <th>...</th>\n      <th>price_to_earnings</th>\n      <th>dividend_payout_ratio</th>\n      <th>retention_ratio</th>\n      <th>gross_margin_ratio</th>\n      <th>operating_profit_margin</th>\n      <th>ebitda_margin</th>\n      <th>debt_service_coverage_ratio</th>\n      <th>interest_coverage_ratio</th>\n      <th>sic_2</th>\n      <th>mm</th>\n    </tr>\n  </thead>\n  <tbody>\n    <tr>\n      <th>0</th>\n      <td>1004</td>\n      <td>2000-02-29</td>\n      <td>5080.0</td>\n      <td>AIR</td>\n      <td>2000.0</td>\n      <td>1.0</td>\n      <td>2.981531</td>\n      <td>1.176928</td>\n      <td>-0.021609</td>\n      <td>350.202</td>\n      <td>...</td>\n      <td>59.375000</td>\n      <td>0.212500</td>\n      <td>0.787500</td>\n      <td>18.234795</td>\n      <td>-72.491564</td>\n      <td>-70.807951</td>\n      <td>-0.958372</td>\n      <td>4.223950</td>\n      <td>50.0</td>\n      <td>2</td>\n    </tr>\n    <tr>\n      <th>1</th>\n      <td>1004</td>\n      <td>2000-03-31</td>\n      <td>5080.0</td>\n      <td>AIR</td>\n      <td>2000.0</td>\n      <td>1.0</td>\n      <td>2.981531</td>\n      <td>1.176928</td>\n      <td>-0.021609</td>\n      <td>350.202</td>\n      <td>...</td>\n      <td>59.375000</td>\n      <td>0.212500</td>\n      <td>0.787500</td>\n      <td>18.234795</td>\n      <td>-72.491564</td>\n      <td>-70.807951</td>\n      <td>-0.958372</td>\n      <td>4.223950</td>\n      <td>50.0</td>\n      <td>3</td>\n    </tr>\n    <tr>\n      <th>2</th>\n      <td>1004</td>\n      <td>2000-04-30</td>\n      <td>5080.0</td>\n      <td>AIR</td>\n      <td>2000.0</td>\n      <td>1.0</td>\n      <td>2.981531</td>\n      <td>1.176928</td>\n      <td>-0.021609</td>\n      <td>350.202</td>\n      <td>...</td>\n      <td>59.375000</td>\n      <td>0.212500</td>\n      <td>0.787500</td>\n      <td>18.234795</td>\n      <td>-72.491564</td>\n      <td>-70.807951</td>\n      <td>-0.958372</td>\n      <td>4.223950</td>\n      <td>50.0</td>\n      <td>4</td>\n    </tr>\n    <tr>\n      <th>3</th>\n      <td>1004</td>\n      <td>2000-05-31</td>\n      <td>5080.0</td>\n      <td>AIR</td>\n      <td>2000.0</td>\n      <td>2.0</td>\n      <td>3.120983</td>\n      <td>1.069792</td>\n      <td>-0.042786</td>\n      <td>347.451</td>\n      <td>...</td>\n      <td>154.166667</td>\n      <td>0.944444</td>\n      <td>0.055556</td>\n      <td>18.944015</td>\n      <td>-75.280235</td>\n      <td>-73.157425</td>\n      <td>-0.819497</td>\n      <td>2.287927</td>\n      <td>50.0</td>\n      <td>5</td>\n    </tr>\n    <tr>\n      <th>4</th>\n      <td>1004</td>\n      <td>2000-06-30</td>\n      <td>5080.0</td>\n      <td>AIR</td>\n      <td>2000.0</td>\n      <td>2.0</td>\n      <td>3.120983</td>\n      <td>1.069792</td>\n      <td>-0.042786</td>\n      <td>347.451</td>\n      <td>...</td>\n      <td>154.166667</td>\n      <td>0.944444</td>\n      <td>0.055556</td>\n      <td>18.944015</td>\n      <td>-75.280235</td>\n      <td>-73.157425</td>\n      <td>-0.819497</td>\n      <td>2.287927</td>\n      <td>50.0</td>\n      <td>6</td>\n    </tr>\n  </tbody>\n</table>\n<p>5 rows × 32 columns</p>\n</div>"
     },
     "execution_count": 15,
     "metadata": {},
     "output_type": "execute_result"
    }
   ],
   "source": [
    "result.head()"
   ]
  },
  {
   "cell_type": "code",
   "execution_count": 16,
   "id": "827bf20aeaf9026c",
   "metadata": {
    "collapsed": false,
    "ExecuteTime": {
     "end_time": "2023-11-03T10:44:48.812776Z",
     "start_time": "2023-11-03T10:44:48.673497Z"
    }
   },
   "outputs": [
    {
     "data": {
      "text/plain": "   gvkey  tic    year  current_ratio  quick_ratio  cash_ratio  \\\n0   1004  AIR  2000.0       2.981531     1.176928   -0.021609   \n1   1004  AIR  2000.0       2.981531     1.176928   -0.021609   \n2   1004  AIR  2000.0       2.981531     1.176928   -0.021609   \n3   1004  AIR  2000.0       3.120983     1.069792   -0.042786   \n4   1004  AIR  2000.0       3.120983     1.069792   -0.042786   \n\n   net_working_capital  debt_ratio  debt_to_equity_ratio  equity_ratio  ...  \\\n0              350.202    0.273288              0.601468      0.454368  ...   \n1              350.202    0.273288              0.601468      0.454368  ...   \n2              350.202    0.273288              0.601468      0.454368  ...   \n3              347.451    0.279030              0.608989      0.458186  ...   \n4              347.451    0.279030              0.608989      0.458186  ...   \n\n   price_to_earnings  dividend_payout_ratio  retention_ratio  \\\n0          59.375000               0.212500         0.787500   \n1          59.375000               0.212500         0.787500   \n2          59.375000               0.212500         0.787500   \n3         154.166667               0.944444         0.055556   \n4         154.166667               0.944444         0.055556   \n\n   gross_margin_ratio  operating_profit_margin  ebitda_margin  \\\n0           18.234795               -72.491564     -70.807951   \n1           18.234795               -72.491564     -70.807951   \n2           18.234795               -72.491564     -70.807951   \n3           18.944015               -75.280235     -73.157425   \n4           18.944015               -75.280235     -73.157425   \n\n   debt_service_coverage_ratio  interest_coverage_ratio  sic_2  month  \n0                    -0.958372                 4.223950   50.0      2  \n1                    -0.958372                 4.223950   50.0      3  \n2                    -0.958372                 4.223950   50.0      4  \n3                    -0.819497                 2.287927   50.0      5  \n4                    -0.819497                 2.287927   50.0      6  \n\n[5 rows x 29 columns]",
      "text/html": "<div>\n<style scoped>\n    .dataframe tbody tr th:only-of-type {\n        vertical-align: middle;\n    }\n\n    .dataframe tbody tr th {\n        vertical-align: top;\n    }\n\n    .dataframe thead th {\n        text-align: right;\n    }\n</style>\n<table border=\"1\" class=\"dataframe\">\n  <thead>\n    <tr style=\"text-align: right;\">\n      <th></th>\n      <th>gvkey</th>\n      <th>tic</th>\n      <th>year</th>\n      <th>current_ratio</th>\n      <th>quick_ratio</th>\n      <th>cash_ratio</th>\n      <th>net_working_capital</th>\n      <th>debt_ratio</th>\n      <th>debt_to_equity_ratio</th>\n      <th>equity_ratio</th>\n      <th>...</th>\n      <th>price_to_earnings</th>\n      <th>dividend_payout_ratio</th>\n      <th>retention_ratio</th>\n      <th>gross_margin_ratio</th>\n      <th>operating_profit_margin</th>\n      <th>ebitda_margin</th>\n      <th>debt_service_coverage_ratio</th>\n      <th>interest_coverage_ratio</th>\n      <th>sic_2</th>\n      <th>month</th>\n    </tr>\n  </thead>\n  <tbody>\n    <tr>\n      <th>0</th>\n      <td>1004</td>\n      <td>AIR</td>\n      <td>2000.0</td>\n      <td>2.981531</td>\n      <td>1.176928</td>\n      <td>-0.021609</td>\n      <td>350.202</td>\n      <td>0.273288</td>\n      <td>0.601468</td>\n      <td>0.454368</td>\n      <td>...</td>\n      <td>59.375000</td>\n      <td>0.212500</td>\n      <td>0.787500</td>\n      <td>18.234795</td>\n      <td>-72.491564</td>\n      <td>-70.807951</td>\n      <td>-0.958372</td>\n      <td>4.223950</td>\n      <td>50.0</td>\n      <td>2</td>\n    </tr>\n    <tr>\n      <th>1</th>\n      <td>1004</td>\n      <td>AIR</td>\n      <td>2000.0</td>\n      <td>2.981531</td>\n      <td>1.176928</td>\n      <td>-0.021609</td>\n      <td>350.202</td>\n      <td>0.273288</td>\n      <td>0.601468</td>\n      <td>0.454368</td>\n      <td>...</td>\n      <td>59.375000</td>\n      <td>0.212500</td>\n      <td>0.787500</td>\n      <td>18.234795</td>\n      <td>-72.491564</td>\n      <td>-70.807951</td>\n      <td>-0.958372</td>\n      <td>4.223950</td>\n      <td>50.0</td>\n      <td>3</td>\n    </tr>\n    <tr>\n      <th>2</th>\n      <td>1004</td>\n      <td>AIR</td>\n      <td>2000.0</td>\n      <td>2.981531</td>\n      <td>1.176928</td>\n      <td>-0.021609</td>\n      <td>350.202</td>\n      <td>0.273288</td>\n      <td>0.601468</td>\n      <td>0.454368</td>\n      <td>...</td>\n      <td>59.375000</td>\n      <td>0.212500</td>\n      <td>0.787500</td>\n      <td>18.234795</td>\n      <td>-72.491564</td>\n      <td>-70.807951</td>\n      <td>-0.958372</td>\n      <td>4.223950</td>\n      <td>50.0</td>\n      <td>4</td>\n    </tr>\n    <tr>\n      <th>3</th>\n      <td>1004</td>\n      <td>AIR</td>\n      <td>2000.0</td>\n      <td>3.120983</td>\n      <td>1.069792</td>\n      <td>-0.042786</td>\n      <td>347.451</td>\n      <td>0.279030</td>\n      <td>0.608989</td>\n      <td>0.458186</td>\n      <td>...</td>\n      <td>154.166667</td>\n      <td>0.944444</td>\n      <td>0.055556</td>\n      <td>18.944015</td>\n      <td>-75.280235</td>\n      <td>-73.157425</td>\n      <td>-0.819497</td>\n      <td>2.287927</td>\n      <td>50.0</td>\n      <td>5</td>\n    </tr>\n    <tr>\n      <th>4</th>\n      <td>1004</td>\n      <td>AIR</td>\n      <td>2000.0</td>\n      <td>3.120983</td>\n      <td>1.069792</td>\n      <td>-0.042786</td>\n      <td>347.451</td>\n      <td>0.279030</td>\n      <td>0.608989</td>\n      <td>0.458186</td>\n      <td>...</td>\n      <td>154.166667</td>\n      <td>0.944444</td>\n      <td>0.055556</td>\n      <td>18.944015</td>\n      <td>-75.280235</td>\n      <td>-73.157425</td>\n      <td>-0.819497</td>\n      <td>2.287927</td>\n      <td>50.0</td>\n      <td>6</td>\n    </tr>\n  </tbody>\n</table>\n<p>5 rows × 29 columns</p>\n</div>"
     },
     "execution_count": 16,
     "metadata": {},
     "output_type": "execute_result"
    }
   ],
   "source": [
    "# clean compustat\n",
    "result.rename(columns = {'mm': 'month'}, inplace=True)\n",
    "result.drop(columns = ['datadate', 'quarter', 'sic'], inplace=True)\n",
    "result.head()"
   ]
  },
  {
   "cell_type": "code",
   "execution_count": 17,
   "id": "522f6fa9",
   "metadata": {
    "ExecuteTime": {
     "end_time": "2023-11-03T10:45:09.559112Z",
     "start_time": "2023-11-03T10:45:09.552408Z"
    }
   },
   "outputs": [],
   "source": [
    "# clean compustat\n",
    "cri_data.rename(columns = {'mm': 'month'}, inplace=True)\n",
    "cri_data.rename(columns = {'yyyy': 'year'}, inplace=True)"
   ]
  },
  {
   "cell_type": "code",
   "execution_count": 18,
   "id": "e31d3083",
   "metadata": {
    "ExecuteTime": {
     "end_time": "2023-11-03T10:45:10.091864Z",
     "start_time": "2023-11-03T10:45:10.086821Z"
    }
   },
   "outputs": [
    {
     "data": {
      "text/plain": "         CompNo    year  month   StkIndx     STInt  dtdlevel  dtdtrend  \\\n489123    29823  1991.0      1  0.045126  0.013825  1.810500       0.0   \n1714449  125959  1991.0      1  0.045126  0.013825  7.910572       0.0   \n64808     27304  1991.0      1  0.045126  0.013825  6.080297       0.0   \n192576    27954  1991.0      1  0.045126  0.013825  2.527857       0.0   \n539304    30244  1991.0      1  0.045126  0.013825  4.337317       0.0   \n\n         liqnonfinlevel  liqnonfintrend  ni2talevel  ...  DTDmedianFin  \\\n489123         0.983576       -0.268833    0.003667  ...           0.0   \n1714449        0.538243        0.018112    0.016005  ...           0.0   \n64808          0.582996       -0.042528    0.006643  ...           0.0   \n192576         1.041157       -0.129895   -0.010749  ...           0.0   \n539304         0.656583        0.193871    0.007802  ...           0.0   \n\n         DTDmedianNonFin  dummy297fin  Default  day       date  StartDate  \\\n489123          2.812531            0        0    1 1991-01-01 1988-01-04   \n1714449         2.812531            0        0    1 1991-01-01 1988-01-04   \n64808           2.812531            0        0    1 1991-01-01 1988-01-04   \n192576          2.812531            0        0    1 1991-01-01 1988-01-04   \n539304          2.812531            0        0    1 1991-01-01 1988-01-04   \n\n         EventDate  Duration   gvkey  \n489123  1991-01-31 1123 days  4607.0  \n1714449 1991-01-31 1123 days  6074.0  \n64808   1991-01-31 1123 days  3532.0  \n192576  1991-01-31 1123 days  8333.0  \n539304  1991-01-31 1123 days  5839.0  \n\n[5 rows x 27 columns]",
      "text/html": "<div>\n<style scoped>\n    .dataframe tbody tr th:only-of-type {\n        vertical-align: middle;\n    }\n\n    .dataframe tbody tr th {\n        vertical-align: top;\n    }\n\n    .dataframe thead th {\n        text-align: right;\n    }\n</style>\n<table border=\"1\" class=\"dataframe\">\n  <thead>\n    <tr style=\"text-align: right;\">\n      <th></th>\n      <th>CompNo</th>\n      <th>year</th>\n      <th>month</th>\n      <th>StkIndx</th>\n      <th>STInt</th>\n      <th>dtdlevel</th>\n      <th>dtdtrend</th>\n      <th>liqnonfinlevel</th>\n      <th>liqnonfintrend</th>\n      <th>ni2talevel</th>\n      <th>...</th>\n      <th>DTDmedianFin</th>\n      <th>DTDmedianNonFin</th>\n      <th>dummy297fin</th>\n      <th>Default</th>\n      <th>day</th>\n      <th>date</th>\n      <th>StartDate</th>\n      <th>EventDate</th>\n      <th>Duration</th>\n      <th>gvkey</th>\n    </tr>\n  </thead>\n  <tbody>\n    <tr>\n      <th>489123</th>\n      <td>29823</td>\n      <td>1991.0</td>\n      <td>1</td>\n      <td>0.045126</td>\n      <td>0.013825</td>\n      <td>1.810500</td>\n      <td>0.0</td>\n      <td>0.983576</td>\n      <td>-0.268833</td>\n      <td>0.003667</td>\n      <td>...</td>\n      <td>0.0</td>\n      <td>2.812531</td>\n      <td>0</td>\n      <td>0</td>\n      <td>1</td>\n      <td>1991-01-01</td>\n      <td>1988-01-04</td>\n      <td>1991-01-31</td>\n      <td>1123 days</td>\n      <td>4607.0</td>\n    </tr>\n    <tr>\n      <th>1714449</th>\n      <td>125959</td>\n      <td>1991.0</td>\n      <td>1</td>\n      <td>0.045126</td>\n      <td>0.013825</td>\n      <td>7.910572</td>\n      <td>0.0</td>\n      <td>0.538243</td>\n      <td>0.018112</td>\n      <td>0.016005</td>\n      <td>...</td>\n      <td>0.0</td>\n      <td>2.812531</td>\n      <td>0</td>\n      <td>0</td>\n      <td>1</td>\n      <td>1991-01-01</td>\n      <td>1988-01-04</td>\n      <td>1991-01-31</td>\n      <td>1123 days</td>\n      <td>6074.0</td>\n    </tr>\n    <tr>\n      <th>64808</th>\n      <td>27304</td>\n      <td>1991.0</td>\n      <td>1</td>\n      <td>0.045126</td>\n      <td>0.013825</td>\n      <td>6.080297</td>\n      <td>0.0</td>\n      <td>0.582996</td>\n      <td>-0.042528</td>\n      <td>0.006643</td>\n      <td>...</td>\n      <td>0.0</td>\n      <td>2.812531</td>\n      <td>0</td>\n      <td>0</td>\n      <td>1</td>\n      <td>1991-01-01</td>\n      <td>1988-01-04</td>\n      <td>1991-01-31</td>\n      <td>1123 days</td>\n      <td>3532.0</td>\n    </tr>\n    <tr>\n      <th>192576</th>\n      <td>27954</td>\n      <td>1991.0</td>\n      <td>1</td>\n      <td>0.045126</td>\n      <td>0.013825</td>\n      <td>2.527857</td>\n      <td>0.0</td>\n      <td>1.041157</td>\n      <td>-0.129895</td>\n      <td>-0.010749</td>\n      <td>...</td>\n      <td>0.0</td>\n      <td>2.812531</td>\n      <td>0</td>\n      <td>0</td>\n      <td>1</td>\n      <td>1991-01-01</td>\n      <td>1988-01-04</td>\n      <td>1991-01-31</td>\n      <td>1123 days</td>\n      <td>8333.0</td>\n    </tr>\n    <tr>\n      <th>539304</th>\n      <td>30244</td>\n      <td>1991.0</td>\n      <td>1</td>\n      <td>0.045126</td>\n      <td>0.013825</td>\n      <td>4.337317</td>\n      <td>0.0</td>\n      <td>0.656583</td>\n      <td>0.193871</td>\n      <td>0.007802</td>\n      <td>...</td>\n      <td>0.0</td>\n      <td>2.812531</td>\n      <td>0</td>\n      <td>0</td>\n      <td>1</td>\n      <td>1991-01-01</td>\n      <td>1988-01-04</td>\n      <td>1991-01-31</td>\n      <td>1123 days</td>\n      <td>5839.0</td>\n    </tr>\n  </tbody>\n</table>\n<p>5 rows × 27 columns</p>\n</div>"
     },
     "execution_count": 18,
     "metadata": {},
     "output_type": "execute_result"
    }
   ],
   "source": [
    "cri_data.head()"
   ]
  },
  {
   "cell_type": "code",
   "execution_count": 19,
   "id": "57d80464b2726d7e",
   "metadata": {
    "collapsed": false,
    "ExecuteTime": {
     "end_time": "2023-11-03T10:45:12.582856Z",
     "start_time": "2023-11-03T10:45:11.488476Z"
    }
   },
   "outputs": [],
   "source": [
    "# left join on gvkey, year, month where left is CRI data, right is compustat\n",
    "cri_compustat_merged = cri_data.merge(result, how='inner')"
   ]
  },
  {
   "cell_type": "code",
   "execution_count": 20,
   "id": "c2fe4a0aa2433b15",
   "metadata": {
    "collapsed": false,
    "ExecuteTime": {
     "end_time": "2023-11-03T10:45:14.923188Z",
     "start_time": "2023-11-03T10:45:14.919173Z"
    }
   },
   "outputs": [
    {
     "data": {
      "text/plain": "   CompNo    year  month   StkIndx     STInt  dtdlevel  dtdtrend  \\\n0   42404  2000.0      1  0.089239  0.011089  0.677551  0.332808   \n1   37610  2000.0      1  0.089239  0.011089  0.087376 -0.524732   \n2   49536  2000.0      1  0.313050  0.007314  3.693176  0.625516   \n3   32417  2000.0      1  0.089239  0.011089  6.165654  0.863910   \n4   44933  2000.0      1  0.089239  0.011089  0.629410 -0.874122   \n\n   liqnonfinlevel  liqnonfintrend  ni2talevel  ...  working_capital_turnover  \\\n0        1.411466        0.027249   -0.148249  ...                  0.000000   \n1        0.906364       -0.071829    0.000292  ...                  2.177571   \n2        1.872712        1.010148   -0.069998  ...                  0.036899   \n3        1.275166        0.184606    0.013360  ...                  0.551135   \n4        0.000000        0.000000    0.004436  ...                  0.005675   \n\n   price_to_earnings  dividend_payout_ratio  retention_ratio  \\\n0          -5.000000                   -0.0              1.0   \n1          10.466667                    0.0              1.0   \n2         -78.333333                   -0.0              1.0   \n3          66.510333                    0.0              1.0   \n4          19.196429                    0.0              1.0   \n\n   gross_margin_ratio  operating_profit_margin  ebitda_margin  \\\n0       -5.251700e+06            -2.189250e+07  -2.185540e+07   \n1        2.498284e+01            -7.402171e+01  -7.439914e+01   \n2        7.542644e+01            -2.309701e+02  -1.503731e+02   \n3        5.234158e+01            -2.327468e+01  -1.952816e+01   \n4        7.495250e+01             3.133312e+01   4.316023e+01   \n\n   debt_service_coverage_ratio  interest_coverage_ratio  sic_2  \n0               -149041.103448           -297211.000000   99.0  \n1                    -0.904380                 2.506224   50.0  \n2                   -11.081841              -430.222222   73.0  \n3                  -395.933333               777.750000   36.0  \n4                     0.020216                 2.013002   65.0  \n\n[5 rows x 53 columns]",
      "text/html": "<div>\n<style scoped>\n    .dataframe tbody tr th:only-of-type {\n        vertical-align: middle;\n    }\n\n    .dataframe tbody tr th {\n        vertical-align: top;\n    }\n\n    .dataframe thead th {\n        text-align: right;\n    }\n</style>\n<table border=\"1\" class=\"dataframe\">\n  <thead>\n    <tr style=\"text-align: right;\">\n      <th></th>\n      <th>CompNo</th>\n      <th>year</th>\n      <th>month</th>\n      <th>StkIndx</th>\n      <th>STInt</th>\n      <th>dtdlevel</th>\n      <th>dtdtrend</th>\n      <th>liqnonfinlevel</th>\n      <th>liqnonfintrend</th>\n      <th>ni2talevel</th>\n      <th>...</th>\n      <th>working_capital_turnover</th>\n      <th>price_to_earnings</th>\n      <th>dividend_payout_ratio</th>\n      <th>retention_ratio</th>\n      <th>gross_margin_ratio</th>\n      <th>operating_profit_margin</th>\n      <th>ebitda_margin</th>\n      <th>debt_service_coverage_ratio</th>\n      <th>interest_coverage_ratio</th>\n      <th>sic_2</th>\n    </tr>\n  </thead>\n  <tbody>\n    <tr>\n      <th>0</th>\n      <td>42404</td>\n      <td>2000.0</td>\n      <td>1</td>\n      <td>0.089239</td>\n      <td>0.011089</td>\n      <td>0.677551</td>\n      <td>0.332808</td>\n      <td>1.411466</td>\n      <td>0.027249</td>\n      <td>-0.148249</td>\n      <td>...</td>\n      <td>0.000000</td>\n      <td>-5.000000</td>\n      <td>-0.0</td>\n      <td>1.0</td>\n      <td>-5.251700e+06</td>\n      <td>-2.189250e+07</td>\n      <td>-2.185540e+07</td>\n      <td>-149041.103448</td>\n      <td>-297211.000000</td>\n      <td>99.0</td>\n    </tr>\n    <tr>\n      <th>1</th>\n      <td>37610</td>\n      <td>2000.0</td>\n      <td>1</td>\n      <td>0.089239</td>\n      <td>0.011089</td>\n      <td>0.087376</td>\n      <td>-0.524732</td>\n      <td>0.906364</td>\n      <td>-0.071829</td>\n      <td>0.000292</td>\n      <td>...</td>\n      <td>2.177571</td>\n      <td>10.466667</td>\n      <td>0.0</td>\n      <td>1.0</td>\n      <td>2.498284e+01</td>\n      <td>-7.402171e+01</td>\n      <td>-7.439914e+01</td>\n      <td>-0.904380</td>\n      <td>2.506224</td>\n      <td>50.0</td>\n    </tr>\n    <tr>\n      <th>2</th>\n      <td>49536</td>\n      <td>2000.0</td>\n      <td>1</td>\n      <td>0.313050</td>\n      <td>0.007314</td>\n      <td>3.693176</td>\n      <td>0.625516</td>\n      <td>1.872712</td>\n      <td>1.010148</td>\n      <td>-0.069998</td>\n      <td>...</td>\n      <td>0.036899</td>\n      <td>-78.333333</td>\n      <td>-0.0</td>\n      <td>1.0</td>\n      <td>7.542644e+01</td>\n      <td>-2.309701e+02</td>\n      <td>-1.503731e+02</td>\n      <td>-11.081841</td>\n      <td>-430.222222</td>\n      <td>73.0</td>\n    </tr>\n    <tr>\n      <th>3</th>\n      <td>32417</td>\n      <td>2000.0</td>\n      <td>1</td>\n      <td>0.089239</td>\n      <td>0.011089</td>\n      <td>6.165654</td>\n      <td>0.863910</td>\n      <td>1.275166</td>\n      <td>0.184606</td>\n      <td>0.013360</td>\n      <td>...</td>\n      <td>0.551135</td>\n      <td>66.510333</td>\n      <td>0.0</td>\n      <td>1.0</td>\n      <td>5.234158e+01</td>\n      <td>-2.327468e+01</td>\n      <td>-1.952816e+01</td>\n      <td>-395.933333</td>\n      <td>777.750000</td>\n      <td>36.0</td>\n    </tr>\n    <tr>\n      <th>4</th>\n      <td>44933</td>\n      <td>2000.0</td>\n      <td>1</td>\n      <td>0.089239</td>\n      <td>0.011089</td>\n      <td>0.629410</td>\n      <td>-0.874122</td>\n      <td>0.000000</td>\n      <td>0.000000</td>\n      <td>0.004436</td>\n      <td>...</td>\n      <td>0.005675</td>\n      <td>19.196429</td>\n      <td>0.0</td>\n      <td>1.0</td>\n      <td>7.495250e+01</td>\n      <td>3.133312e+01</td>\n      <td>4.316023e+01</td>\n      <td>0.020216</td>\n      <td>2.013002</td>\n      <td>65.0</td>\n    </tr>\n  </tbody>\n</table>\n<p>5 rows × 53 columns</p>\n</div>"
     },
     "execution_count": 20,
     "metadata": {},
     "output_type": "execute_result"
    }
   ],
   "source": [
    "cri_compustat_merged.head()"
   ]
  },
  {
   "cell_type": "code",
   "execution_count": 21,
   "id": "2a8e62f501451fb",
   "metadata": {
    "collapsed": false,
    "ExecuteTime": {
     "end_time": "2023-11-03T10:45:15.407983Z",
     "start_time": "2023-11-03T10:45:15.404189Z"
    }
   },
   "outputs": [
    {
     "data": {
      "text/plain": "(1253426, 53)"
     },
     "execution_count": 21,
     "metadata": {},
     "output_type": "execute_result"
    }
   ],
   "source": [
    "cri_compustat_merged.shape #lost about 760249 rows, or 39%"
   ]
  },
  {
   "cell_type": "code",
   "execution_count": 22,
   "id": "7721ffc22ae8c88f",
   "metadata": {
    "collapsed": false,
    "ExecuteTime": {
     "end_time": "2023-11-03T10:45:19.522907Z",
     "start_time": "2023-11-03T10:45:19.507028Z"
    }
   },
   "outputs": [
    {
     "data": {
      "text/plain": "11028"
     },
     "execution_count": 22,
     "metadata": {},
     "output_type": "execute_result"
    }
   ],
   "source": [
    "len(cri_compustat_merged['gvkey'].unique())"
   ]
  },
  {
   "cell_type": "code",
   "execution_count": 23,
   "id": "cfc602a6c53d367",
   "metadata": {
    "collapsed": false,
    "ExecuteTime": {
     "end_time": "2023-11-03T10:45:34.748200Z",
     "start_time": "2023-11-03T10:45:23.813028Z"
    }
   },
   "outputs": [
    {
     "data": {
      "text/plain": "                             pct_inf\nCompNo                           0.0\nyear                             0.0\nmonth                            0.0\nStkIndx                          0.0\nSTInt                            0.0\ndtdlevel                         0.0\ndtdtrend                         0.0\nliqnonfinlevel                   0.0\nliqnonfintrend                   0.0\nni2talevel                       0.0\nni2tatrend                       0.0\nsizelevel                        0.0\nsizetrend                        0.0\nm2b                              0.0\nsigma                            0.0\nliqfinlevel                      0.0\nlqfintrend                       0.0\nDTDmedianFin                     0.0\nDTDmedianNonFin                  0.0\ndummy297fin                      0.0\nDefault                          0.0\nday                              0.0\ndate                             0.0\nStartDate                        0.0\nEventDate                        0.0\nDuration                         0.0\ngvkey                            0.0\ntic                              0.0\ncurrent_ratio                    0.0\nquick_ratio                      0.0\ncash_ratio                       0.0\nnet_working_capital              0.0\ndebt_ratio                       0.0\ndebt_to_equity_ratio             0.0\nequity_ratio                     0.0\ncashflow_to_debt_ratio           0.0\nnet_profit_margin                0.0\nreturn_on_assets                 0.0\nasset_turnover                   0.0\ninventory_turnover               0.0\ndays_in_inventory                0.0\nreceivables_turnover             0.0\nday_sales_outstanding            0.0\nworking_capital_turnover         0.0\nprice_to_earnings                0.0\ndividend_payout_ratio            0.0\nretention_ratio                  0.0\ngross_margin_ratio               0.0\noperating_profit_margin          0.0\nebitda_margin                    0.0\ndebt_service_coverage_ratio      0.0\ninterest_coverage_ratio          0.0\nsic_2                            0.0",
      "text/html": "<div>\n<style scoped>\n    .dataframe tbody tr th:only-of-type {\n        vertical-align: middle;\n    }\n\n    .dataframe tbody tr th {\n        vertical-align: top;\n    }\n\n    .dataframe thead th {\n        text-align: right;\n    }\n</style>\n<table border=\"1\" class=\"dataframe\">\n  <thead>\n    <tr style=\"text-align: right;\">\n      <th></th>\n      <th>pct_inf</th>\n    </tr>\n  </thead>\n  <tbody>\n    <tr>\n      <th>CompNo</th>\n      <td>0.0</td>\n    </tr>\n    <tr>\n      <th>year</th>\n      <td>0.0</td>\n    </tr>\n    <tr>\n      <th>month</th>\n      <td>0.0</td>\n    </tr>\n    <tr>\n      <th>StkIndx</th>\n      <td>0.0</td>\n    </tr>\n    <tr>\n      <th>STInt</th>\n      <td>0.0</td>\n    </tr>\n    <tr>\n      <th>dtdlevel</th>\n      <td>0.0</td>\n    </tr>\n    <tr>\n      <th>dtdtrend</th>\n      <td>0.0</td>\n    </tr>\n    <tr>\n      <th>liqnonfinlevel</th>\n      <td>0.0</td>\n    </tr>\n    <tr>\n      <th>liqnonfintrend</th>\n      <td>0.0</td>\n    </tr>\n    <tr>\n      <th>ni2talevel</th>\n      <td>0.0</td>\n    </tr>\n    <tr>\n      <th>ni2tatrend</th>\n      <td>0.0</td>\n    </tr>\n    <tr>\n      <th>sizelevel</th>\n      <td>0.0</td>\n    </tr>\n    <tr>\n      <th>sizetrend</th>\n      <td>0.0</td>\n    </tr>\n    <tr>\n      <th>m2b</th>\n      <td>0.0</td>\n    </tr>\n    <tr>\n      <th>sigma</th>\n      <td>0.0</td>\n    </tr>\n    <tr>\n      <th>liqfinlevel</th>\n      <td>0.0</td>\n    </tr>\n    <tr>\n      <th>lqfintrend</th>\n      <td>0.0</td>\n    </tr>\n    <tr>\n      <th>DTDmedianFin</th>\n      <td>0.0</td>\n    </tr>\n    <tr>\n      <th>DTDmedianNonFin</th>\n      <td>0.0</td>\n    </tr>\n    <tr>\n      <th>dummy297fin</th>\n      <td>0.0</td>\n    </tr>\n    <tr>\n      <th>Default</th>\n      <td>0.0</td>\n    </tr>\n    <tr>\n      <th>day</th>\n      <td>0.0</td>\n    </tr>\n    <tr>\n      <th>date</th>\n      <td>0.0</td>\n    </tr>\n    <tr>\n      <th>StartDate</th>\n      <td>0.0</td>\n    </tr>\n    <tr>\n      <th>EventDate</th>\n      <td>0.0</td>\n    </tr>\n    <tr>\n      <th>Duration</th>\n      <td>0.0</td>\n    </tr>\n    <tr>\n      <th>gvkey</th>\n      <td>0.0</td>\n    </tr>\n    <tr>\n      <th>tic</th>\n      <td>0.0</td>\n    </tr>\n    <tr>\n      <th>current_ratio</th>\n      <td>0.0</td>\n    </tr>\n    <tr>\n      <th>quick_ratio</th>\n      <td>0.0</td>\n    </tr>\n    <tr>\n      <th>cash_ratio</th>\n      <td>0.0</td>\n    </tr>\n    <tr>\n      <th>net_working_capital</th>\n      <td>0.0</td>\n    </tr>\n    <tr>\n      <th>debt_ratio</th>\n      <td>0.0</td>\n    </tr>\n    <tr>\n      <th>debt_to_equity_ratio</th>\n      <td>0.0</td>\n    </tr>\n    <tr>\n      <th>equity_ratio</th>\n      <td>0.0</td>\n    </tr>\n    <tr>\n      <th>cashflow_to_debt_ratio</th>\n      <td>0.0</td>\n    </tr>\n    <tr>\n      <th>net_profit_margin</th>\n      <td>0.0</td>\n    </tr>\n    <tr>\n      <th>return_on_assets</th>\n      <td>0.0</td>\n    </tr>\n    <tr>\n      <th>asset_turnover</th>\n      <td>0.0</td>\n    </tr>\n    <tr>\n      <th>inventory_turnover</th>\n      <td>0.0</td>\n    </tr>\n    <tr>\n      <th>days_in_inventory</th>\n      <td>0.0</td>\n    </tr>\n    <tr>\n      <th>receivables_turnover</th>\n      <td>0.0</td>\n    </tr>\n    <tr>\n      <th>day_sales_outstanding</th>\n      <td>0.0</td>\n    </tr>\n    <tr>\n      <th>working_capital_turnover</th>\n      <td>0.0</td>\n    </tr>\n    <tr>\n      <th>price_to_earnings</th>\n      <td>0.0</td>\n    </tr>\n    <tr>\n      <th>dividend_payout_ratio</th>\n      <td>0.0</td>\n    </tr>\n    <tr>\n      <th>retention_ratio</th>\n      <td>0.0</td>\n    </tr>\n    <tr>\n      <th>gross_margin_ratio</th>\n      <td>0.0</td>\n    </tr>\n    <tr>\n      <th>operating_profit_margin</th>\n      <td>0.0</td>\n    </tr>\n    <tr>\n      <th>ebitda_margin</th>\n      <td>0.0</td>\n    </tr>\n    <tr>\n      <th>debt_service_coverage_ratio</th>\n      <td>0.0</td>\n    </tr>\n    <tr>\n      <th>interest_coverage_ratio</th>\n      <td>0.0</td>\n    </tr>\n    <tr>\n      <th>sic_2</th>\n      <td>0.0</td>\n    </tr>\n  </tbody>\n</table>\n</div>"
     },
     "execution_count": 23,
     "metadata": {},
     "output_type": "execute_result"
    }
   ],
   "source": [
    "inf_breakdown = pd.DataFrame()\n",
    "inf_breakdown['pct_inf'] = (100 * cri_compustat_merged.isin([float('inf'), float('-inf')]).sum()) / len(cri_compustat_merged)\n",
    "inf_breakdown"
   ]
  },
  {
   "cell_type": "code",
   "execution_count": 24,
   "id": "977e5180d79ae02f",
   "metadata": {
    "collapsed": false,
    "ExecuteTime": {
     "end_time": "2023-11-03T10:45:34.971654Z",
     "start_time": "2023-11-03T10:45:34.745542Z"
    }
   },
   "outputs": [
    {
     "data": {
      "text/plain": "                             pct_nan\nCompNo                           0.0\nyear                             0.0\nmonth                            0.0\nStkIndx                          0.0\nSTInt                            0.0\ndtdlevel                         0.0\ndtdtrend                         0.0\nliqnonfinlevel                   0.0\nliqnonfintrend                   0.0\nni2talevel                       0.0\nni2tatrend                       0.0\nsizelevel                        0.0\nsizetrend                        0.0\nm2b                              0.0\nsigma                            0.0\nliqfinlevel                      0.0\nlqfintrend                       0.0\nDTDmedianFin                     0.0\nDTDmedianNonFin                  0.0\ndummy297fin                      0.0\nDefault                          0.0\nday                              0.0\ndate                             0.0\nStartDate                        0.0\nEventDate                        0.0\nDuration                         0.0\ngvkey                            0.0\ntic                              0.0\ncurrent_ratio                    0.0\nquick_ratio                      0.0\ncash_ratio                       0.0\nnet_working_capital              0.0\ndebt_ratio                       0.0\ndebt_to_equity_ratio             0.0\nequity_ratio                     0.0\ncashflow_to_debt_ratio           0.0\nnet_profit_margin                0.0\nreturn_on_assets                 0.0\nasset_turnover                   0.0\ninventory_turnover               0.0\ndays_in_inventory                0.0\nreceivables_turnover             0.0\nday_sales_outstanding            0.0\nworking_capital_turnover         0.0\nprice_to_earnings                0.0\ndividend_payout_ratio            0.0\nretention_ratio                  0.0\ngross_margin_ratio               0.0\noperating_profit_margin          0.0\nebitda_margin                    0.0\ndebt_service_coverage_ratio      0.0\ninterest_coverage_ratio          0.0\nsic_2                            0.0",
      "text/html": "<div>\n<style scoped>\n    .dataframe tbody tr th:only-of-type {\n        vertical-align: middle;\n    }\n\n    .dataframe tbody tr th {\n        vertical-align: top;\n    }\n\n    .dataframe thead th {\n        text-align: right;\n    }\n</style>\n<table border=\"1\" class=\"dataframe\">\n  <thead>\n    <tr style=\"text-align: right;\">\n      <th></th>\n      <th>pct_nan</th>\n    </tr>\n  </thead>\n  <tbody>\n    <tr>\n      <th>CompNo</th>\n      <td>0.0</td>\n    </tr>\n    <tr>\n      <th>year</th>\n      <td>0.0</td>\n    </tr>\n    <tr>\n      <th>month</th>\n      <td>0.0</td>\n    </tr>\n    <tr>\n      <th>StkIndx</th>\n      <td>0.0</td>\n    </tr>\n    <tr>\n      <th>STInt</th>\n      <td>0.0</td>\n    </tr>\n    <tr>\n      <th>dtdlevel</th>\n      <td>0.0</td>\n    </tr>\n    <tr>\n      <th>dtdtrend</th>\n      <td>0.0</td>\n    </tr>\n    <tr>\n      <th>liqnonfinlevel</th>\n      <td>0.0</td>\n    </tr>\n    <tr>\n      <th>liqnonfintrend</th>\n      <td>0.0</td>\n    </tr>\n    <tr>\n      <th>ni2talevel</th>\n      <td>0.0</td>\n    </tr>\n    <tr>\n      <th>ni2tatrend</th>\n      <td>0.0</td>\n    </tr>\n    <tr>\n      <th>sizelevel</th>\n      <td>0.0</td>\n    </tr>\n    <tr>\n      <th>sizetrend</th>\n      <td>0.0</td>\n    </tr>\n    <tr>\n      <th>m2b</th>\n      <td>0.0</td>\n    </tr>\n    <tr>\n      <th>sigma</th>\n      <td>0.0</td>\n    </tr>\n    <tr>\n      <th>liqfinlevel</th>\n      <td>0.0</td>\n    </tr>\n    <tr>\n      <th>lqfintrend</th>\n      <td>0.0</td>\n    </tr>\n    <tr>\n      <th>DTDmedianFin</th>\n      <td>0.0</td>\n    </tr>\n    <tr>\n      <th>DTDmedianNonFin</th>\n      <td>0.0</td>\n    </tr>\n    <tr>\n      <th>dummy297fin</th>\n      <td>0.0</td>\n    </tr>\n    <tr>\n      <th>Default</th>\n      <td>0.0</td>\n    </tr>\n    <tr>\n      <th>day</th>\n      <td>0.0</td>\n    </tr>\n    <tr>\n      <th>date</th>\n      <td>0.0</td>\n    </tr>\n    <tr>\n      <th>StartDate</th>\n      <td>0.0</td>\n    </tr>\n    <tr>\n      <th>EventDate</th>\n      <td>0.0</td>\n    </tr>\n    <tr>\n      <th>Duration</th>\n      <td>0.0</td>\n    </tr>\n    <tr>\n      <th>gvkey</th>\n      <td>0.0</td>\n    </tr>\n    <tr>\n      <th>tic</th>\n      <td>0.0</td>\n    </tr>\n    <tr>\n      <th>current_ratio</th>\n      <td>0.0</td>\n    </tr>\n    <tr>\n      <th>quick_ratio</th>\n      <td>0.0</td>\n    </tr>\n    <tr>\n      <th>cash_ratio</th>\n      <td>0.0</td>\n    </tr>\n    <tr>\n      <th>net_working_capital</th>\n      <td>0.0</td>\n    </tr>\n    <tr>\n      <th>debt_ratio</th>\n      <td>0.0</td>\n    </tr>\n    <tr>\n      <th>debt_to_equity_ratio</th>\n      <td>0.0</td>\n    </tr>\n    <tr>\n      <th>equity_ratio</th>\n      <td>0.0</td>\n    </tr>\n    <tr>\n      <th>cashflow_to_debt_ratio</th>\n      <td>0.0</td>\n    </tr>\n    <tr>\n      <th>net_profit_margin</th>\n      <td>0.0</td>\n    </tr>\n    <tr>\n      <th>return_on_assets</th>\n      <td>0.0</td>\n    </tr>\n    <tr>\n      <th>asset_turnover</th>\n      <td>0.0</td>\n    </tr>\n    <tr>\n      <th>inventory_turnover</th>\n      <td>0.0</td>\n    </tr>\n    <tr>\n      <th>days_in_inventory</th>\n      <td>0.0</td>\n    </tr>\n    <tr>\n      <th>receivables_turnover</th>\n      <td>0.0</td>\n    </tr>\n    <tr>\n      <th>day_sales_outstanding</th>\n      <td>0.0</td>\n    </tr>\n    <tr>\n      <th>working_capital_turnover</th>\n      <td>0.0</td>\n    </tr>\n    <tr>\n      <th>price_to_earnings</th>\n      <td>0.0</td>\n    </tr>\n    <tr>\n      <th>dividend_payout_ratio</th>\n      <td>0.0</td>\n    </tr>\n    <tr>\n      <th>retention_ratio</th>\n      <td>0.0</td>\n    </tr>\n    <tr>\n      <th>gross_margin_ratio</th>\n      <td>0.0</td>\n    </tr>\n    <tr>\n      <th>operating_profit_margin</th>\n      <td>0.0</td>\n    </tr>\n    <tr>\n      <th>ebitda_margin</th>\n      <td>0.0</td>\n    </tr>\n    <tr>\n      <th>debt_service_coverage_ratio</th>\n      <td>0.0</td>\n    </tr>\n    <tr>\n      <th>interest_coverage_ratio</th>\n      <td>0.0</td>\n    </tr>\n    <tr>\n      <th>sic_2</th>\n      <td>0.0</td>\n    </tr>\n  </tbody>\n</table>\n</div>"
     },
     "execution_count": 24,
     "metadata": {},
     "output_type": "execute_result"
    }
   ],
   "source": [
    "nan_breakdown = pd.DataFrame()\n",
    "nan_breakdown['pct_nan'] = (cri_compustat_merged.isna().sum() / len(cri_compustat_merged)) * 100\n",
    "nan_breakdown"
   ]
  },
  {
   "cell_type": "code",
   "execution_count": 25,
   "id": "29d837cbf7f82ae4",
   "metadata": {
    "collapsed": false,
    "ExecuteTime": {
     "end_time": "2023-11-03T10:45:54.054416Z",
     "start_time": "2023-11-03T10:45:53.929695Z"
    }
   },
   "outputs": [],
   "source": [
    "cri_compustat_merged.to_pickle('./cri_compustat_merged_v7.pkl')"
   ]
  },
  {
   "cell_type": "code",
   "execution_count": 26,
   "outputs": [
    {
     "data": {
      "text/plain": "         CompNo    year  month   StkIndx     STInt  dtdlevel  dtdtrend  \\\n0         42404  2000.0      1  0.089239  0.011089  0.677551  0.332808   \n1         37610  2000.0      1  0.089239  0.011089  0.087376 -0.524732   \n2         49536  2000.0      1  0.313050  0.007314  3.693176  0.625516   \n3         32417  2000.0      1  0.089239  0.011089  6.165654  0.863910   \n4         44933  2000.0      1  0.089239  0.011089  0.629410 -0.874122   \n...         ...     ...    ...       ...       ...       ...       ...   \n1253421   27334  2023.0      7  0.110445  0.009928  4.813408  1.285527   \n1253422   32388  2023.0      7  0.110445  0.009928  3.637767  1.072696   \n1253423   27348  2023.0      7  0.110445  0.009928  3.124164  0.535792   \n1253424   27136  2023.0      7  0.110445  0.009928  3.328665  1.573513   \n1253425   29406  2023.0      7  0.110445  0.009928  2.983618  0.517713   \n\n         liqnonfinlevel  liqnonfintrend  ni2talevel  ...  \\\n0              1.411466        0.027249   -0.148249  ...   \n1              0.906364       -0.071829    0.000292  ...   \n2              1.872712        1.010148   -0.069998  ...   \n3              1.275166        0.184606    0.013360  ...   \n4              0.000000        0.000000    0.004436  ...   \n...                 ...             ...         ...  ...   \n1253421       -0.311802        0.041775    0.008093  ...   \n1253422        0.114648       -0.005109    0.018388  ...   \n1253423        0.738567        0.004386    0.020075  ...   \n1253424       -0.025210        0.006575    0.006587  ...   \n1253425        0.402398        0.141918    0.020642  ...   \n\n         working_capital_turnover  price_to_earnings  dividend_payout_ratio  \\\n0                        0.000000          -5.000000              -0.000000   \n1                        2.177571          10.466667               0.000000   \n2                        0.036899         -78.333333              -0.000000   \n3                        0.551135          66.510333               0.000000   \n4                        0.005675          19.196429               0.000000   \n...                           ...                ...                    ...   \n1253421                  0.965876          42.117647               0.122549   \n1253422                  6.589918          44.435897               0.288462   \n1253423                  1.198436          42.987469               0.050125   \n1253424                -69.694545          66.440000               0.736000   \n1253425                  2.045230          28.666667               0.000000   \n\n         retention_ratio  gross_margin_ratio  operating_profit_margin  \\\n0               1.000000       -5.251700e+06            -2.189250e+07   \n1               1.000000        2.498284e+01            -7.402171e+01   \n2               1.000000        7.542644e+01            -2.309701e+02   \n3               1.000000        5.234158e+01            -2.327468e+01   \n4               1.000000        7.495250e+01             3.133312e+01   \n...                  ...                 ...                      ...   \n1253421         0.877451        5.408037e+01            -1.552184e+01   \n1253422         0.711538        4.363803e+01            -3.881733e+01   \n1253423         0.949875        3.997746e+01            -4.618755e+01   \n1253424         0.264000        2.540958e+01            -6.856934e+01   \n1253425         1.000000        5.025528e+01            -3.336904e+01   \n\n         ebitda_margin  debt_service_coverage_ratio  interest_coverage_ratio  \\\n0        -2.185540e+07               -149041.103448           -297211.000000   \n1        -7.439914e+01                    -0.904380                 2.506224   \n2        -1.503731e+02                   -11.081841              -430.222222   \n3        -1.952816e+01                  -395.933333               777.750000   \n4         4.316023e+01                     0.020216                 2.013002   \n...                ...                          ...                      ...   \n1253421  -1.237445e+01                    -0.133886                24.668750   \n1253422  -3.585155e+01                    -0.520015                 2.953488   \n1253423  -4.338300e+01                    -1.337079              2210.000000   \n1253424  -6.610665e+01                    -1.630926                48.083333   \n1253425  -3.089265e+01                    -0.312302                16.600000   \n\n         sic_2  \n0         99.0  \n1         50.0  \n2         73.0  \n3         36.0  \n4         65.0  \n...        ...  \n1253421   35.0  \n1253422   59.0  \n1253423   53.0  \n1253424   57.0  \n1253425   56.0  \n\n[1253426 rows x 53 columns]",
      "text/html": "<div>\n<style scoped>\n    .dataframe tbody tr th:only-of-type {\n        vertical-align: middle;\n    }\n\n    .dataframe tbody tr th {\n        vertical-align: top;\n    }\n\n    .dataframe thead th {\n        text-align: right;\n    }\n</style>\n<table border=\"1\" class=\"dataframe\">\n  <thead>\n    <tr style=\"text-align: right;\">\n      <th></th>\n      <th>CompNo</th>\n      <th>year</th>\n      <th>month</th>\n      <th>StkIndx</th>\n      <th>STInt</th>\n      <th>dtdlevel</th>\n      <th>dtdtrend</th>\n      <th>liqnonfinlevel</th>\n      <th>liqnonfintrend</th>\n      <th>ni2talevel</th>\n      <th>...</th>\n      <th>working_capital_turnover</th>\n      <th>price_to_earnings</th>\n      <th>dividend_payout_ratio</th>\n      <th>retention_ratio</th>\n      <th>gross_margin_ratio</th>\n      <th>operating_profit_margin</th>\n      <th>ebitda_margin</th>\n      <th>debt_service_coverage_ratio</th>\n      <th>interest_coverage_ratio</th>\n      <th>sic_2</th>\n    </tr>\n  </thead>\n  <tbody>\n    <tr>\n      <th>0</th>\n      <td>42404</td>\n      <td>2000.0</td>\n      <td>1</td>\n      <td>0.089239</td>\n      <td>0.011089</td>\n      <td>0.677551</td>\n      <td>0.332808</td>\n      <td>1.411466</td>\n      <td>0.027249</td>\n      <td>-0.148249</td>\n      <td>...</td>\n      <td>0.000000</td>\n      <td>-5.000000</td>\n      <td>-0.000000</td>\n      <td>1.000000</td>\n      <td>-5.251700e+06</td>\n      <td>-2.189250e+07</td>\n      <td>-2.185540e+07</td>\n      <td>-149041.103448</td>\n      <td>-297211.000000</td>\n      <td>99.0</td>\n    </tr>\n    <tr>\n      <th>1</th>\n      <td>37610</td>\n      <td>2000.0</td>\n      <td>1</td>\n      <td>0.089239</td>\n      <td>0.011089</td>\n      <td>0.087376</td>\n      <td>-0.524732</td>\n      <td>0.906364</td>\n      <td>-0.071829</td>\n      <td>0.000292</td>\n      <td>...</td>\n      <td>2.177571</td>\n      <td>10.466667</td>\n      <td>0.000000</td>\n      <td>1.000000</td>\n      <td>2.498284e+01</td>\n      <td>-7.402171e+01</td>\n      <td>-7.439914e+01</td>\n      <td>-0.904380</td>\n      <td>2.506224</td>\n      <td>50.0</td>\n    </tr>\n    <tr>\n      <th>2</th>\n      <td>49536</td>\n      <td>2000.0</td>\n      <td>1</td>\n      <td>0.313050</td>\n      <td>0.007314</td>\n      <td>3.693176</td>\n      <td>0.625516</td>\n      <td>1.872712</td>\n      <td>1.010148</td>\n      <td>-0.069998</td>\n      <td>...</td>\n      <td>0.036899</td>\n      <td>-78.333333</td>\n      <td>-0.000000</td>\n      <td>1.000000</td>\n      <td>7.542644e+01</td>\n      <td>-2.309701e+02</td>\n      <td>-1.503731e+02</td>\n      <td>-11.081841</td>\n      <td>-430.222222</td>\n      <td>73.0</td>\n    </tr>\n    <tr>\n      <th>3</th>\n      <td>32417</td>\n      <td>2000.0</td>\n      <td>1</td>\n      <td>0.089239</td>\n      <td>0.011089</td>\n      <td>6.165654</td>\n      <td>0.863910</td>\n      <td>1.275166</td>\n      <td>0.184606</td>\n      <td>0.013360</td>\n      <td>...</td>\n      <td>0.551135</td>\n      <td>66.510333</td>\n      <td>0.000000</td>\n      <td>1.000000</td>\n      <td>5.234158e+01</td>\n      <td>-2.327468e+01</td>\n      <td>-1.952816e+01</td>\n      <td>-395.933333</td>\n      <td>777.750000</td>\n      <td>36.0</td>\n    </tr>\n    <tr>\n      <th>4</th>\n      <td>44933</td>\n      <td>2000.0</td>\n      <td>1</td>\n      <td>0.089239</td>\n      <td>0.011089</td>\n      <td>0.629410</td>\n      <td>-0.874122</td>\n      <td>0.000000</td>\n      <td>0.000000</td>\n      <td>0.004436</td>\n      <td>...</td>\n      <td>0.005675</td>\n      <td>19.196429</td>\n      <td>0.000000</td>\n      <td>1.000000</td>\n      <td>7.495250e+01</td>\n      <td>3.133312e+01</td>\n      <td>4.316023e+01</td>\n      <td>0.020216</td>\n      <td>2.013002</td>\n      <td>65.0</td>\n    </tr>\n    <tr>\n      <th>...</th>\n      <td>...</td>\n      <td>...</td>\n      <td>...</td>\n      <td>...</td>\n      <td>...</td>\n      <td>...</td>\n      <td>...</td>\n      <td>...</td>\n      <td>...</td>\n      <td>...</td>\n      <td>...</td>\n      <td>...</td>\n      <td>...</td>\n      <td>...</td>\n      <td>...</td>\n      <td>...</td>\n      <td>...</td>\n      <td>...</td>\n      <td>...</td>\n      <td>...</td>\n      <td>...</td>\n    </tr>\n    <tr>\n      <th>1253421</th>\n      <td>27334</td>\n      <td>2023.0</td>\n      <td>7</td>\n      <td>0.110445</td>\n      <td>0.009928</td>\n      <td>4.813408</td>\n      <td>1.285527</td>\n      <td>-0.311802</td>\n      <td>0.041775</td>\n      <td>0.008093</td>\n      <td>...</td>\n      <td>0.965876</td>\n      <td>42.117647</td>\n      <td>0.122549</td>\n      <td>0.877451</td>\n      <td>5.408037e+01</td>\n      <td>-1.552184e+01</td>\n      <td>-1.237445e+01</td>\n      <td>-0.133886</td>\n      <td>24.668750</td>\n      <td>35.0</td>\n    </tr>\n    <tr>\n      <th>1253422</th>\n      <td>32388</td>\n      <td>2023.0</td>\n      <td>7</td>\n      <td>0.110445</td>\n      <td>0.009928</td>\n      <td>3.637767</td>\n      <td>1.072696</td>\n      <td>0.114648</td>\n      <td>-0.005109</td>\n      <td>0.018388</td>\n      <td>...</td>\n      <td>6.589918</td>\n      <td>44.435897</td>\n      <td>0.288462</td>\n      <td>0.711538</td>\n      <td>4.363803e+01</td>\n      <td>-3.881733e+01</td>\n      <td>-3.585155e+01</td>\n      <td>-0.520015</td>\n      <td>2.953488</td>\n      <td>59.0</td>\n    </tr>\n    <tr>\n      <th>1253423</th>\n      <td>27348</td>\n      <td>2023.0</td>\n      <td>7</td>\n      <td>0.110445</td>\n      <td>0.009928</td>\n      <td>3.124164</td>\n      <td>0.535792</td>\n      <td>0.738567</td>\n      <td>0.004386</td>\n      <td>0.020075</td>\n      <td>...</td>\n      <td>1.198436</td>\n      <td>42.987469</td>\n      <td>0.050125</td>\n      <td>0.949875</td>\n      <td>3.997746e+01</td>\n      <td>-4.618755e+01</td>\n      <td>-4.338300e+01</td>\n      <td>-1.337079</td>\n      <td>2210.000000</td>\n      <td>53.0</td>\n    </tr>\n    <tr>\n      <th>1253424</th>\n      <td>27136</td>\n      <td>2023.0</td>\n      <td>7</td>\n      <td>0.110445</td>\n      <td>0.009928</td>\n      <td>3.328665</td>\n      <td>1.573513</td>\n      <td>-0.025210</td>\n      <td>0.006575</td>\n      <td>0.006587</td>\n      <td>...</td>\n      <td>-69.694545</td>\n      <td>66.440000</td>\n      <td>0.736000</td>\n      <td>0.264000</td>\n      <td>2.540958e+01</td>\n      <td>-6.856934e+01</td>\n      <td>-6.610665e+01</td>\n      <td>-1.630926</td>\n      <td>48.083333</td>\n      <td>57.0</td>\n    </tr>\n    <tr>\n      <th>1253425</th>\n      <td>29406</td>\n      <td>2023.0</td>\n      <td>7</td>\n      <td>0.110445</td>\n      <td>0.009928</td>\n      <td>2.983618</td>\n      <td>0.517713</td>\n      <td>0.402398</td>\n      <td>0.141918</td>\n      <td>0.020642</td>\n      <td>...</td>\n      <td>2.045230</td>\n      <td>28.666667</td>\n      <td>0.000000</td>\n      <td>1.000000</td>\n      <td>5.025528e+01</td>\n      <td>-3.336904e+01</td>\n      <td>-3.089265e+01</td>\n      <td>-0.312302</td>\n      <td>16.600000</td>\n      <td>56.0</td>\n    </tr>\n  </tbody>\n</table>\n<p>1253426 rows × 53 columns</p>\n</div>"
     },
     "execution_count": 26,
     "metadata": {},
     "output_type": "execute_result"
    }
   ],
   "source": [
    "cri_compustat_merged"
   ],
   "metadata": {
    "collapsed": false,
    "ExecuteTime": {
     "end_time": "2023-11-03T10:47:20.314200Z",
     "start_time": "2023-11-03T10:47:20.202369Z"
    }
   },
   "id": "d36baa2030270fef"
  },
  {
   "cell_type": "code",
   "execution_count": null,
   "outputs": [],
   "source": [],
   "metadata": {
    "collapsed": false
   },
   "id": "9bfb59640bb1a9b1"
  }
 ],
 "metadata": {
  "kernelspec": {
   "display_name": "Python 3",
   "language": "python",
   "name": "python3"
  },
  "language_info": {
   "codemirror_mode": {
    "name": "ipython",
    "version": 3
   },
   "file_extension": ".py",
   "mimetype": "text/x-python",
   "name": "python",
   "nbconvert_exporter": "python",
   "pygments_lexer": "ipython3",
   "version": "3.10.2"
  }
 },
 "nbformat": 4,
 "nbformat_minor": 5
}
