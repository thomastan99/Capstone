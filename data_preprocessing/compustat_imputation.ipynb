{
 "cells": [
  {
   "cell_type": "code",
   "execution_count": 2,
   "id": "initial_id",
   "metadata": {
    "collapsed": true,
    "ExecuteTime": {
     "end_time": "2023-11-03T09:28:42.020229Z",
     "start_time": "2023-11-03T09:28:11.352697Z"
    }
   },
   "outputs": [
    {
     "name": "stderr",
     "output_type": "stream",
     "text": [
      "/var/folders/kp/rt42wzwx7sz9plr9l175fkv40000gn/T/ipykernel_7394/2245958990.py:2: DtypeWarning: Columns (10,12,13,17,18,20,25,26,30,32,33,34,35,647,648,649,650,654,656,664,668,669,674,675,678,679) have mixed types. Specify dtype option on import or set low_memory=False.\n",
      "  df = pd.read_csv('g0mutmqkqyhytzev.csv')\n"
     ]
    },
    {
     "data": {
      "text/plain": "   gvkey    datadate  fyearq  fqtr  fyr indfmt consol popsrc datafmt  tic  \\\n0   1004  2000-02-29    1999   3.0    5   INDL      C      D     STD  AIR   \n1   1004  2000-05-31    1999   4.0    5   INDL      C      D     STD  AIR   \n2   1004  2000-08-31    2000   1.0    5   INDL      C      D     STD  AIR   \n3   1004  2000-11-30    2000   2.0    5   INDL      C      D     STD  AIR   \n4   1004  2001-02-28    2000   3.0    5   INDL      C      D     STD  AIR   \n\n   ... priusa   sic spcindcd spcseccd  spcsrc  state  stko           weburl  \\\n0  ...    1.0  5080    110.0    925.0       B     IL   0.0  www.aarcorp.com   \n1  ...    1.0  5080    110.0    925.0       B     IL   0.0  www.aarcorp.com   \n2  ...    1.0  5080    110.0    925.0       B     IL   0.0  www.aarcorp.com   \n3  ...    1.0  5080    110.0    925.0       B     IL   0.0  www.aarcorp.com   \n4  ...    1.0  5080    110.0    925.0       B     IL   0.0  www.aarcorp.com   \n\n  dldte     ipodate  \n0   NaN  1988-01-01  \n1   NaN  1988-01-01  \n2   NaN  1988-01-01  \n3   NaN  1988-01-01  \n4   NaN  1988-01-01  \n\n[5 rows x 680 columns]",
      "text/html": "<div>\n<style scoped>\n    .dataframe tbody tr th:only-of-type {\n        vertical-align: middle;\n    }\n\n    .dataframe tbody tr th {\n        vertical-align: top;\n    }\n\n    .dataframe thead th {\n        text-align: right;\n    }\n</style>\n<table border=\"1\" class=\"dataframe\">\n  <thead>\n    <tr style=\"text-align: right;\">\n      <th></th>\n      <th>gvkey</th>\n      <th>datadate</th>\n      <th>fyearq</th>\n      <th>fqtr</th>\n      <th>fyr</th>\n      <th>indfmt</th>\n      <th>consol</th>\n      <th>popsrc</th>\n      <th>datafmt</th>\n      <th>tic</th>\n      <th>...</th>\n      <th>priusa</th>\n      <th>sic</th>\n      <th>spcindcd</th>\n      <th>spcseccd</th>\n      <th>spcsrc</th>\n      <th>state</th>\n      <th>stko</th>\n      <th>weburl</th>\n      <th>dldte</th>\n      <th>ipodate</th>\n    </tr>\n  </thead>\n  <tbody>\n    <tr>\n      <th>0</th>\n      <td>1004</td>\n      <td>2000-02-29</td>\n      <td>1999</td>\n      <td>3.0</td>\n      <td>5</td>\n      <td>INDL</td>\n      <td>C</td>\n      <td>D</td>\n      <td>STD</td>\n      <td>AIR</td>\n      <td>...</td>\n      <td>1.0</td>\n      <td>5080</td>\n      <td>110.0</td>\n      <td>925.0</td>\n      <td>B</td>\n      <td>IL</td>\n      <td>0.0</td>\n      <td>www.aarcorp.com</td>\n      <td>NaN</td>\n      <td>1988-01-01</td>\n    </tr>\n    <tr>\n      <th>1</th>\n      <td>1004</td>\n      <td>2000-05-31</td>\n      <td>1999</td>\n      <td>4.0</td>\n      <td>5</td>\n      <td>INDL</td>\n      <td>C</td>\n      <td>D</td>\n      <td>STD</td>\n      <td>AIR</td>\n      <td>...</td>\n      <td>1.0</td>\n      <td>5080</td>\n      <td>110.0</td>\n      <td>925.0</td>\n      <td>B</td>\n      <td>IL</td>\n      <td>0.0</td>\n      <td>www.aarcorp.com</td>\n      <td>NaN</td>\n      <td>1988-01-01</td>\n    </tr>\n    <tr>\n      <th>2</th>\n      <td>1004</td>\n      <td>2000-08-31</td>\n      <td>2000</td>\n      <td>1.0</td>\n      <td>5</td>\n      <td>INDL</td>\n      <td>C</td>\n      <td>D</td>\n      <td>STD</td>\n      <td>AIR</td>\n      <td>...</td>\n      <td>1.0</td>\n      <td>5080</td>\n      <td>110.0</td>\n      <td>925.0</td>\n      <td>B</td>\n      <td>IL</td>\n      <td>0.0</td>\n      <td>www.aarcorp.com</td>\n      <td>NaN</td>\n      <td>1988-01-01</td>\n    </tr>\n    <tr>\n      <th>3</th>\n      <td>1004</td>\n      <td>2000-11-30</td>\n      <td>2000</td>\n      <td>2.0</td>\n      <td>5</td>\n      <td>INDL</td>\n      <td>C</td>\n      <td>D</td>\n      <td>STD</td>\n      <td>AIR</td>\n      <td>...</td>\n      <td>1.0</td>\n      <td>5080</td>\n      <td>110.0</td>\n      <td>925.0</td>\n      <td>B</td>\n      <td>IL</td>\n      <td>0.0</td>\n      <td>www.aarcorp.com</td>\n      <td>NaN</td>\n      <td>1988-01-01</td>\n    </tr>\n    <tr>\n      <th>4</th>\n      <td>1004</td>\n      <td>2001-02-28</td>\n      <td>2000</td>\n      <td>3.0</td>\n      <td>5</td>\n      <td>INDL</td>\n      <td>C</td>\n      <td>D</td>\n      <td>STD</td>\n      <td>AIR</td>\n      <td>...</td>\n      <td>1.0</td>\n      <td>5080</td>\n      <td>110.0</td>\n      <td>925.0</td>\n      <td>B</td>\n      <td>IL</td>\n      <td>0.0</td>\n      <td>www.aarcorp.com</td>\n      <td>NaN</td>\n      <td>1988-01-01</td>\n    </tr>\n  </tbody>\n</table>\n<p>5 rows × 680 columns</p>\n</div>"
     },
     "execution_count": 2,
     "metadata": {},
     "output_type": "execute_result"
    }
   ],
   "source": [
    "import pandas as pd\n",
    "df = pd.read_csv('g0mutmqkqyhytzev.csv')\n",
    "df.head()"
   ]
  },
  {
   "cell_type": "code",
   "execution_count": 3,
   "id": "61407de953a3c370",
   "metadata": {
    "collapsed": false,
    "ExecuteTime": {
     "end_time": "2023-11-03T09:28:45.826796Z",
     "start_time": "2023-11-03T09:28:45.636065Z"
    }
   },
   "outputs": [
    {
     "data": {
      "text/plain": "datadate      0\ngvkey         0\nfqtr        346\nfyr           0\ntic         694\nsic           0\ndtype: int64"
     },
     "execution_count": 3,
     "metadata": {},
     "output_type": "execute_result"
    }
   ],
   "source": [
    "df_with_ratios = pd.DataFrame(df[['datadate', 'gvkey', 'fqtr', 'fyr', 'tic', 'sic']])\n",
    "df_with_ratios.isna().sum()"
   ]
  },
  {
   "cell_type": "markdown",
   "id": "d40928e6df226e1d",
   "metadata": {
    "collapsed": false
   },
   "source": [
    "Looks like gvkey would be a better primary key than ticker since it has no nans in this dataset. We also need to inspect financial quarter"
   ]
  },
  {
   "cell_type": "code",
   "execution_count": 4,
   "id": "1d051243cd48ce27",
   "metadata": {
    "collapsed": false,
    "ExecuteTime": {
     "end_time": "2023-11-03T09:28:49.083139Z",
     "start_time": "2023-11-03T09:28:49.054535Z"
    }
   },
   "outputs": [
    {
     "data": {
      "text/plain": "           datadate   gvkey  fqtr  fyr    tic   sic\n2746     2014-03-31    1224   NaN   12   EGN1  4924\n2747     2014-06-30    1224   NaN   12   EGN1  4924\n12300    2014-11-30    1951   NaN    8  PRSNQ  3845\n31199    2014-12-31    3424   NaN    9     BH  5812\n35114    2014-12-31    3806   NaN    9   DWSN  1382\n...             ...     ...   ...  ...    ...   ...\n1050126  2013-06-30  196766   NaN    3  ALGDF  1040\n1050128  2013-09-30  196766   NaN    3  ALGDF  1040\n1074260  2015-06-30  317427   NaN    3   NOMD  2030\n1074262  2015-09-30  317427   NaN    3   NOMD  2030\n1074264  2015-12-31  317427   NaN    3   NOMD  2030\n\n[346 rows x 6 columns]",
      "text/html": "<div>\n<style scoped>\n    .dataframe tbody tr th:only-of-type {\n        vertical-align: middle;\n    }\n\n    .dataframe tbody tr th {\n        vertical-align: top;\n    }\n\n    .dataframe thead th {\n        text-align: right;\n    }\n</style>\n<table border=\"1\" class=\"dataframe\">\n  <thead>\n    <tr style=\"text-align: right;\">\n      <th></th>\n      <th>datadate</th>\n      <th>gvkey</th>\n      <th>fqtr</th>\n      <th>fyr</th>\n      <th>tic</th>\n      <th>sic</th>\n    </tr>\n  </thead>\n  <tbody>\n    <tr>\n      <th>2746</th>\n      <td>2014-03-31</td>\n      <td>1224</td>\n      <td>NaN</td>\n      <td>12</td>\n      <td>EGN1</td>\n      <td>4924</td>\n    </tr>\n    <tr>\n      <th>2747</th>\n      <td>2014-06-30</td>\n      <td>1224</td>\n      <td>NaN</td>\n      <td>12</td>\n      <td>EGN1</td>\n      <td>4924</td>\n    </tr>\n    <tr>\n      <th>12300</th>\n      <td>2014-11-30</td>\n      <td>1951</td>\n      <td>NaN</td>\n      <td>8</td>\n      <td>PRSNQ</td>\n      <td>3845</td>\n    </tr>\n    <tr>\n      <th>31199</th>\n      <td>2014-12-31</td>\n      <td>3424</td>\n      <td>NaN</td>\n      <td>9</td>\n      <td>BH</td>\n      <td>5812</td>\n    </tr>\n    <tr>\n      <th>35114</th>\n      <td>2014-12-31</td>\n      <td>3806</td>\n      <td>NaN</td>\n      <td>9</td>\n      <td>DWSN</td>\n      <td>1382</td>\n    </tr>\n    <tr>\n      <th>...</th>\n      <td>...</td>\n      <td>...</td>\n      <td>...</td>\n      <td>...</td>\n      <td>...</td>\n      <td>...</td>\n    </tr>\n    <tr>\n      <th>1050126</th>\n      <td>2013-06-30</td>\n      <td>196766</td>\n      <td>NaN</td>\n      <td>3</td>\n      <td>ALGDF</td>\n      <td>1040</td>\n    </tr>\n    <tr>\n      <th>1050128</th>\n      <td>2013-09-30</td>\n      <td>196766</td>\n      <td>NaN</td>\n      <td>3</td>\n      <td>ALGDF</td>\n      <td>1040</td>\n    </tr>\n    <tr>\n      <th>1074260</th>\n      <td>2015-06-30</td>\n      <td>317427</td>\n      <td>NaN</td>\n      <td>3</td>\n      <td>NOMD</td>\n      <td>2030</td>\n    </tr>\n    <tr>\n      <th>1074262</th>\n      <td>2015-09-30</td>\n      <td>317427</td>\n      <td>NaN</td>\n      <td>3</td>\n      <td>NOMD</td>\n      <td>2030</td>\n    </tr>\n    <tr>\n      <th>1074264</th>\n      <td>2015-12-31</td>\n      <td>317427</td>\n      <td>NaN</td>\n      <td>3</td>\n      <td>NOMD</td>\n      <td>2030</td>\n    </tr>\n  </tbody>\n</table>\n<p>346 rows × 6 columns</p>\n</div>"
     },
     "execution_count": 4,
     "metadata": {},
     "output_type": "execute_result"
    }
   ],
   "source": [
    "df_with_ratios[df['fqtr'].isna()]"
   ]
  },
  {
   "cell_type": "markdown",
   "id": "bb5bfc7fef3da35b",
   "metadata": {
    "collapsed": false
   },
   "source": [
    "No clear pattern in financial quarters with nan values. Just use date value since there is no nans there"
   ]
  },
  {
   "cell_type": "code",
   "execution_count": 5,
   "id": "4f2ead5a6d60d71e",
   "metadata": {
    "collapsed": false,
    "ExecuteTime": {
     "end_time": "2023-11-03T09:28:52.625696Z",
     "start_time": "2023-11-03T09:28:52.590904Z"
    }
   },
   "outputs": [
    {
     "data": {
      "text/plain": "     datadate  gvkey  tic   sic\n0  2000-02-29   1004  AIR  5080\n1  2000-05-31   1004  AIR  5080\n2  2000-08-31   1004  AIR  5080\n3  2000-11-30   1004  AIR  5080\n4  2001-02-28   1004  AIR  5080",
      "text/html": "<div>\n<style scoped>\n    .dataframe tbody tr th:only-of-type {\n        vertical-align: middle;\n    }\n\n    .dataframe tbody tr th {\n        vertical-align: top;\n    }\n\n    .dataframe thead th {\n        text-align: right;\n    }\n</style>\n<table border=\"1\" class=\"dataframe\">\n  <thead>\n    <tr style=\"text-align: right;\">\n      <th></th>\n      <th>datadate</th>\n      <th>gvkey</th>\n      <th>tic</th>\n      <th>sic</th>\n    </tr>\n  </thead>\n  <tbody>\n    <tr>\n      <th>0</th>\n      <td>2000-02-29</td>\n      <td>1004</td>\n      <td>AIR</td>\n      <td>5080</td>\n    </tr>\n    <tr>\n      <th>1</th>\n      <td>2000-05-31</td>\n      <td>1004</td>\n      <td>AIR</td>\n      <td>5080</td>\n    </tr>\n    <tr>\n      <th>2</th>\n      <td>2000-08-31</td>\n      <td>1004</td>\n      <td>AIR</td>\n      <td>5080</td>\n    </tr>\n    <tr>\n      <th>3</th>\n      <td>2000-11-30</td>\n      <td>1004</td>\n      <td>AIR</td>\n      <td>5080</td>\n    </tr>\n    <tr>\n      <th>4</th>\n      <td>2001-02-28</td>\n      <td>1004</td>\n      <td>AIR</td>\n      <td>5080</td>\n    </tr>\n  </tbody>\n</table>\n</div>"
     },
     "execution_count": 5,
     "metadata": {},
     "output_type": "execute_result"
    }
   ],
   "source": [
    "df_with_ratios.drop(['fqtr', 'fyr'], axis=1, inplace=True)\n",
    "df_with_ratios.head()"
   ]
  },
  {
   "cell_type": "code",
   "execution_count": 6,
   "id": "2999313ffedc3020",
   "metadata": {
    "collapsed": false,
    "ExecuteTime": {
     "end_time": "2023-11-03T09:32:42.381143Z",
     "start_time": "2023-11-03T09:32:42.350434Z"
    }
   },
   "outputs": [],
   "source": [
    "df['average_asset'] = (df['atq'] + df['atq'].shift(1)) / 2\n",
    "df['average_inventory'] = (df['invtq'] + df['invtq'].shift(1)) / 2\n",
    "df['average_receivables'] = (df['rectq'] + df['rectq'].shift(1)) / 2\n",
    "df['average_workingcapital'] = (df['wcapq'] + df['wcapq'].shift(1)) / 2\n",
    "df['cogs'] = df['cogsq'] / (df['cogsy'])"
   ]
  },
  {
   "cell_type": "code",
   "execution_count": 7,
   "id": "5892de2b16998b88",
   "metadata": {
    "collapsed": false,
    "ExecuteTime": {
     "end_time": "2023-11-03T09:32:42.883881Z",
     "start_time": "2023-11-03T09:32:42.809778Z"
    }
   },
   "outputs": [],
   "source": [
    "df_with_ratios['current_ratio'] = df['actq'] / (df['lctq'])\n",
    "df_with_ratios['quick_ratio'] = (df['actq'] - df['invtq']) / ( df['lctq']) \n",
    "df_with_ratios['cash_ratio'] = df['chechy'] / (df['lctq'] ) \n",
    "df_with_ratios['net_working_capital'] = df['actq'] - df['lctq']\n",
    "df_with_ratios['debt_ratio'] = (df['dlttq'] + df['dlcq']) / ( df['atq'])\n",
    "df_with_ratios['debt_to_equity_ratio'] = (df['dlttq'] + df['dlcq']) / ( df['ceqq']) \n",
    "df_with_ratios['equity_ratio'] = df['ceqq'] / (df['atq'])\n",
    "df_with_ratios['cashflow_to_debt_ratio'] = df['oancfy'] / (df['dlttq'] + df['dlcq'])\n",
    "df_with_ratios['net_profit_margin'] = 100 * (df['niq'] / ( df['revtq']))\n",
    "df_with_ratios['return_on_assets'] = 100 * (df['niq'] / (df['atq']))\n",
    "df_with_ratios['asset_turnover'] = df['revtq'] / (df['average_asset'])\n",
    "df_with_ratios['inventory_turnover'] = df['cogs'] / (df['average_inventory'])\n",
    "df_with_ratios['days_in_inventory'] = 365 / (df['cogs'] / ( df['average_inventory']))\n",
    "df_with_ratios['receivables_turnover'] = df['revtq'] / ( df['average_inventory'])\n",
    "df_with_ratios['day_sales_outstanding'] = 365 / (df['revtq'] / (df['average_inventory']))\n",
    "df_with_ratios['working_capital_turnover'] = df['revtq'] /  df['average_workingcapital']\n",
    "df_with_ratios['price_to_earnings'] = df['prccq'] / (df['epsfxq'])\n",
    "df_with_ratios['dividend_payout_ratio'] = df['dvpspq'] / ( df['epsfxq'])\n",
    "df_with_ratios['retention_ratio'] = 1 - (df['dvpspq'] / (df['epsfxq']))\n",
    "df_with_ratios['gross_margin_ratio'] = 100 * ((df['revtq'] - df['cogsq']) / ( df['revtq']))\n",
    "df_with_ratios['operating_profit_margin'] = 100 * ((df['revtq'] - df['cogsq']- df['xoprq']) / (df['revtq']))\n",
    "df_with_ratios['ebitda_margin'] = 100 * ((df['revtq'] - df['cogsq']- df['xoprq'] + df['dpq']) / (df['revtq']))\n",
    "df_with_ratios['debt_service_coverage_ratio'] = (df['revtq'] - df['cogsq']- df['xoprq']) / (df['dlttq'] + df['dlcq'])\n",
    "df_with_ratios['interest_coverage_ratio'] = df['oibdpq'] / ( df['xintq'])"
   ]
  },
  {
   "cell_type": "code",
   "execution_count": 8,
   "id": "7474976106c6e01b",
   "metadata": {
    "collapsed": false,
    "ExecuteTime": {
     "end_time": "2023-11-03T09:32:44.744830Z",
     "start_time": "2023-11-03T09:32:44.731268Z"
    }
   },
   "outputs": [
    {
     "data": {
      "text/plain": "     datadate  gvkey  tic   sic  current_ratio  quick_ratio  cash_ratio  \\\n0  2000-02-29   1004  AIR  5080       2.981531     1.176928   -0.021609   \n1  2000-05-31   1004  AIR  5080       3.120983     1.069792   -0.042786   \n2  2000-08-31   1004  AIR  5080       3.032279     0.989191   -0.003399   \n3  2000-11-30   1004  AIR  5080       2.718261     0.897575    0.009653   \n4  2001-02-28   1004  AIR  5080       3.136912     1.025058   -0.002824   \n\n   net_working_capital  debt_ratio  debt_to_equity_ratio  ...  \\\n0              350.202    0.273288              0.601468  ...   \n1              347.451    0.279030              0.608989  ...   \n2              341.996    0.305692              0.673592  ...   \n3              325.382    0.298354              0.675752  ...   \n4              358.685    0.304446              0.666264  ...   \n\n   day_sales_outstanding  working_capital_turnover  price_to_earnings  \\\n0                    NaN                       NaN          59.375000   \n1             531.051575                  0.645246         154.166667   \n2             513.171702                  0.701345          93.750000   \n3             594.639896                  0.633329          64.843750   \n4             637.845577                  0.584946          68.000000   \n\n   dividend_payout_ratio  retention_ratio  gross_margin_ratio  \\\n0               0.212500         0.787500           18.234795   \n1               0.944444         0.055556           18.944015   \n2               0.708333         0.291667           16.176118   \n3               0.531250         0.468750           18.857738   \n4               0.425000         0.575000           20.259808   \n\n   operating_profit_margin  ebitda_margin  debt_service_coverage_ratio  \\\n0               -72.491564     -70.807951                    -0.958372   \n1               -75.280235     -73.157425                    -0.819497   \n2               -77.799562     -75.858047                    -0.823112   \n3               -73.583647     -71.446755                    -0.674333   \n4               -71.119752     -68.726602                    -0.619269   \n\n   interest_coverage_ratio  \n0                 4.223950  \n1                 2.287927  \n2                 2.432365  \n3                 2.793634  \n4                 3.174489  \n\n[5 rows x 28 columns]",
      "text/html": "<div>\n<style scoped>\n    .dataframe tbody tr th:only-of-type {\n        vertical-align: middle;\n    }\n\n    .dataframe tbody tr th {\n        vertical-align: top;\n    }\n\n    .dataframe thead th {\n        text-align: right;\n    }\n</style>\n<table border=\"1\" class=\"dataframe\">\n  <thead>\n    <tr style=\"text-align: right;\">\n      <th></th>\n      <th>datadate</th>\n      <th>gvkey</th>\n      <th>tic</th>\n      <th>sic</th>\n      <th>current_ratio</th>\n      <th>quick_ratio</th>\n      <th>cash_ratio</th>\n      <th>net_working_capital</th>\n      <th>debt_ratio</th>\n      <th>debt_to_equity_ratio</th>\n      <th>...</th>\n      <th>day_sales_outstanding</th>\n      <th>working_capital_turnover</th>\n      <th>price_to_earnings</th>\n      <th>dividend_payout_ratio</th>\n      <th>retention_ratio</th>\n      <th>gross_margin_ratio</th>\n      <th>operating_profit_margin</th>\n      <th>ebitda_margin</th>\n      <th>debt_service_coverage_ratio</th>\n      <th>interest_coverage_ratio</th>\n    </tr>\n  </thead>\n  <tbody>\n    <tr>\n      <th>0</th>\n      <td>2000-02-29</td>\n      <td>1004</td>\n      <td>AIR</td>\n      <td>5080</td>\n      <td>2.981531</td>\n      <td>1.176928</td>\n      <td>-0.021609</td>\n      <td>350.202</td>\n      <td>0.273288</td>\n      <td>0.601468</td>\n      <td>...</td>\n      <td>NaN</td>\n      <td>NaN</td>\n      <td>59.375000</td>\n      <td>0.212500</td>\n      <td>0.787500</td>\n      <td>18.234795</td>\n      <td>-72.491564</td>\n      <td>-70.807951</td>\n      <td>-0.958372</td>\n      <td>4.223950</td>\n    </tr>\n    <tr>\n      <th>1</th>\n      <td>2000-05-31</td>\n      <td>1004</td>\n      <td>AIR</td>\n      <td>5080</td>\n      <td>3.120983</td>\n      <td>1.069792</td>\n      <td>-0.042786</td>\n      <td>347.451</td>\n      <td>0.279030</td>\n      <td>0.608989</td>\n      <td>...</td>\n      <td>531.051575</td>\n      <td>0.645246</td>\n      <td>154.166667</td>\n      <td>0.944444</td>\n      <td>0.055556</td>\n      <td>18.944015</td>\n      <td>-75.280235</td>\n      <td>-73.157425</td>\n      <td>-0.819497</td>\n      <td>2.287927</td>\n    </tr>\n    <tr>\n      <th>2</th>\n      <td>2000-08-31</td>\n      <td>1004</td>\n      <td>AIR</td>\n      <td>5080</td>\n      <td>3.032279</td>\n      <td>0.989191</td>\n      <td>-0.003399</td>\n      <td>341.996</td>\n      <td>0.305692</td>\n      <td>0.673592</td>\n      <td>...</td>\n      <td>513.171702</td>\n      <td>0.701345</td>\n      <td>93.750000</td>\n      <td>0.708333</td>\n      <td>0.291667</td>\n      <td>16.176118</td>\n      <td>-77.799562</td>\n      <td>-75.858047</td>\n      <td>-0.823112</td>\n      <td>2.432365</td>\n    </tr>\n    <tr>\n      <th>3</th>\n      <td>2000-11-30</td>\n      <td>1004</td>\n      <td>AIR</td>\n      <td>5080</td>\n      <td>2.718261</td>\n      <td>0.897575</td>\n      <td>0.009653</td>\n      <td>325.382</td>\n      <td>0.298354</td>\n      <td>0.675752</td>\n      <td>...</td>\n      <td>594.639896</td>\n      <td>0.633329</td>\n      <td>64.843750</td>\n      <td>0.531250</td>\n      <td>0.468750</td>\n      <td>18.857738</td>\n      <td>-73.583647</td>\n      <td>-71.446755</td>\n      <td>-0.674333</td>\n      <td>2.793634</td>\n    </tr>\n    <tr>\n      <th>4</th>\n      <td>2001-02-28</td>\n      <td>1004</td>\n      <td>AIR</td>\n      <td>5080</td>\n      <td>3.136912</td>\n      <td>1.025058</td>\n      <td>-0.002824</td>\n      <td>358.685</td>\n      <td>0.304446</td>\n      <td>0.666264</td>\n      <td>...</td>\n      <td>637.845577</td>\n      <td>0.584946</td>\n      <td>68.000000</td>\n      <td>0.425000</td>\n      <td>0.575000</td>\n      <td>20.259808</td>\n      <td>-71.119752</td>\n      <td>-68.726602</td>\n      <td>-0.619269</td>\n      <td>3.174489</td>\n    </tr>\n  </tbody>\n</table>\n<p>5 rows × 28 columns</p>\n</div>"
     },
     "execution_count": 8,
     "metadata": {},
     "output_type": "execute_result"
    }
   ],
   "source": [
    "df_with_ratios.head(5)"
   ]
  },
  {
   "cell_type": "code",
   "execution_count": 9,
   "id": "365f07b9101d2915",
   "metadata": {
    "collapsed": false,
    "ExecuteTime": {
     "end_time": "2023-11-03T09:32:50.971797Z",
     "start_time": "2023-11-03T09:32:50.957876Z"
    }
   },
   "outputs": [
    {
     "name": "stdout",
     "output_type": "stream",
     "text": [
      "length of dataset: 1075571\n",
      "shape of dataset: (1075571, 28)\n"
     ]
    }
   ],
   "source": [
    "print(f\"length of dataset: {len(df_with_ratios)}\")\n",
    "print(f\"shape of dataset: {df_with_ratios.shape}\")"
   ]
  },
  {
   "cell_type": "code",
   "execution_count": 10,
   "id": "99c04e0303a63594",
   "metadata": {
    "collapsed": false,
    "ExecuteTime": {
     "end_time": "2023-11-03T09:32:52.358344Z",
     "start_time": "2023-11-03T09:32:52.325348Z"
    }
   },
   "outputs": [
    {
     "data": {
      "text/plain": "                               pct_nan\ndatadate                      0.000000\ngvkey                         0.000000\ntic                           0.064524\nsic                           0.000000\ncurrent_ratio                37.248122\nquick_ratio                  38.371990\ncash_ratio                   38.470171\nnet_working_capital          37.207679\ndebt_ratio                   28.442846\ndebt_to_equity_ratio         28.606852\nequity_ratio                 24.486993\ncashflow_to_debt_ratio       31.512564\nnet_profit_margin            28.302827\nreturn_on_assets             24.576527\nasset_turnover               33.507690\ninventory_turnover           37.789509\ndays_in_inventory            37.789509\nreceivables_turnover         42.795501\nday_sales_outstanding        42.795501\nworking_capital_turnover     40.247645\nprice_to_earnings            30.025261\ndividend_payout_ratio        34.557272\nretention_ratio              34.557272\ngross_margin_ratio           36.340418\noperating_profit_margin      29.008964\nebitda_margin                35.047152\ndebt_service_coverage_ratio  35.057007\ninterest_coverage_ratio      42.831947",
      "text/html": "<div>\n<style scoped>\n    .dataframe tbody tr th:only-of-type {\n        vertical-align: middle;\n    }\n\n    .dataframe tbody tr th {\n        vertical-align: top;\n    }\n\n    .dataframe thead th {\n        text-align: right;\n    }\n</style>\n<table border=\"1\" class=\"dataframe\">\n  <thead>\n    <tr style=\"text-align: right;\">\n      <th></th>\n      <th>pct_nan</th>\n    </tr>\n  </thead>\n  <tbody>\n    <tr>\n      <th>datadate</th>\n      <td>0.000000</td>\n    </tr>\n    <tr>\n      <th>gvkey</th>\n      <td>0.000000</td>\n    </tr>\n    <tr>\n      <th>tic</th>\n      <td>0.064524</td>\n    </tr>\n    <tr>\n      <th>sic</th>\n      <td>0.000000</td>\n    </tr>\n    <tr>\n      <th>current_ratio</th>\n      <td>37.248122</td>\n    </tr>\n    <tr>\n      <th>quick_ratio</th>\n      <td>38.371990</td>\n    </tr>\n    <tr>\n      <th>cash_ratio</th>\n      <td>38.470171</td>\n    </tr>\n    <tr>\n      <th>net_working_capital</th>\n      <td>37.207679</td>\n    </tr>\n    <tr>\n      <th>debt_ratio</th>\n      <td>28.442846</td>\n    </tr>\n    <tr>\n      <th>debt_to_equity_ratio</th>\n      <td>28.606852</td>\n    </tr>\n    <tr>\n      <th>equity_ratio</th>\n      <td>24.486993</td>\n    </tr>\n    <tr>\n      <th>cashflow_to_debt_ratio</th>\n      <td>31.512564</td>\n    </tr>\n    <tr>\n      <th>net_profit_margin</th>\n      <td>28.302827</td>\n    </tr>\n    <tr>\n      <th>return_on_assets</th>\n      <td>24.576527</td>\n    </tr>\n    <tr>\n      <th>asset_turnover</th>\n      <td>33.507690</td>\n    </tr>\n    <tr>\n      <th>inventory_turnover</th>\n      <td>37.789509</td>\n    </tr>\n    <tr>\n      <th>days_in_inventory</th>\n      <td>37.789509</td>\n    </tr>\n    <tr>\n      <th>receivables_turnover</th>\n      <td>42.795501</td>\n    </tr>\n    <tr>\n      <th>day_sales_outstanding</th>\n      <td>42.795501</td>\n    </tr>\n    <tr>\n      <th>working_capital_turnover</th>\n      <td>40.247645</td>\n    </tr>\n    <tr>\n      <th>price_to_earnings</th>\n      <td>30.025261</td>\n    </tr>\n    <tr>\n      <th>dividend_payout_ratio</th>\n      <td>34.557272</td>\n    </tr>\n    <tr>\n      <th>retention_ratio</th>\n      <td>34.557272</td>\n    </tr>\n    <tr>\n      <th>gross_margin_ratio</th>\n      <td>36.340418</td>\n    </tr>\n    <tr>\n      <th>operating_profit_margin</th>\n      <td>29.008964</td>\n    </tr>\n    <tr>\n      <th>ebitda_margin</th>\n      <td>35.047152</td>\n    </tr>\n    <tr>\n      <th>debt_service_coverage_ratio</th>\n      <td>35.057007</td>\n    </tr>\n    <tr>\n      <th>interest_coverage_ratio</th>\n      <td>42.831947</td>\n    </tr>\n  </tbody>\n</table>\n</div>"
     },
     "execution_count": 10,
     "metadata": {},
     "output_type": "execute_result"
    }
   ],
   "source": [
    "nan_breakdown = pd.DataFrame()\n",
    "nan_breakdown['pct_nan'] = (df_with_ratios.isna().sum() / len(df_with_ratios)) * 100\n",
    "nan_breakdown"
   ]
  },
  {
   "cell_type": "markdown",
   "id": "684d7f68b48f5cf0",
   "metadata": {
    "collapsed": false
   },
   "source": [
    "At this point our dataset should have columns with at most 20-30% nan values. we shall now inpute them using sector median. \n",
    "Let us first try Methodology 1: \n",
    "1. map gvkey to sector\n",
    "2. Eg. if company X in sector A on date 2000-01-01 has a missing value for total income, we inpute it using the median of sector A in 2000-01-01. \n",
    "\n",
    "This assumes that on a particular date, a companies fundamentals can be represented by its sector median on that date. \n",
    "Sector will be represented by SIC code. (I used all 4 digits for now)"
   ]
  },
  {
   "cell_type": "markdown",
   "id": "4d48aa8938b7b102",
   "metadata": {
    "collapsed": false
   },
   "source": [
    "First let us convert datadate to year and quarter representation"
   ]
  },
  {
   "cell_type": "code",
   "execution_count": 11,
   "id": "c2bc99e8b9bdbe5b",
   "metadata": {
    "collapsed": false,
    "ExecuteTime": {
     "end_time": "2023-11-03T09:33:00.790895Z",
     "start_time": "2023-11-03T09:33:00.675653Z"
    }
   },
   "outputs": [
    {
     "data": {
      "text/plain": "    datadate  gvkey  tic   sic  current_ratio  quick_ratio  cash_ratio  \\\n0 2000-02-29   1004  AIR  5080       2.981531     1.176928   -0.021609   \n1 2000-05-31   1004  AIR  5080       3.120983     1.069792   -0.042786   \n2 2000-08-31   1004  AIR  5080       3.032279     0.989191   -0.003399   \n3 2000-11-30   1004  AIR  5080       2.718261     0.897575    0.009653   \n4 2001-02-28   1004  AIR  5080       3.136912     1.025058   -0.002824   \n\n   net_working_capital  debt_ratio  debt_to_equity_ratio  ...  \\\n0              350.202    0.273288              0.601468  ...   \n1              347.451    0.279030              0.608989  ...   \n2              341.996    0.305692              0.673592  ...   \n3              325.382    0.298354              0.675752  ...   \n4              358.685    0.304446              0.666264  ...   \n\n   price_to_earnings  dividend_payout_ratio  retention_ratio  \\\n0          59.375000               0.212500         0.787500   \n1         154.166667               0.944444         0.055556   \n2          93.750000               0.708333         0.291667   \n3          64.843750               0.531250         0.468750   \n4          68.000000               0.425000         0.575000   \n\n   gross_margin_ratio  operating_profit_margin  ebitda_margin  \\\n0           18.234795               -72.491564     -70.807951   \n1           18.944015               -75.280235     -73.157425   \n2           16.176118               -77.799562     -75.858047   \n3           18.857738               -73.583647     -71.446755   \n4           20.259808               -71.119752     -68.726602   \n\n   debt_service_coverage_ratio  interest_coverage_ratio  year  quarter  \n0                    -0.958372                 4.223950  2000        1  \n1                    -0.819497                 2.287927  2000        2  \n2                    -0.823112                 2.432365  2000        3  \n3                    -0.674333                 2.793634  2000        4  \n4                    -0.619269                 3.174489  2001        1  \n\n[5 rows x 30 columns]",
      "text/html": "<div>\n<style scoped>\n    .dataframe tbody tr th:only-of-type {\n        vertical-align: middle;\n    }\n\n    .dataframe tbody tr th {\n        vertical-align: top;\n    }\n\n    .dataframe thead th {\n        text-align: right;\n    }\n</style>\n<table border=\"1\" class=\"dataframe\">\n  <thead>\n    <tr style=\"text-align: right;\">\n      <th></th>\n      <th>datadate</th>\n      <th>gvkey</th>\n      <th>tic</th>\n      <th>sic</th>\n      <th>current_ratio</th>\n      <th>quick_ratio</th>\n      <th>cash_ratio</th>\n      <th>net_working_capital</th>\n      <th>debt_ratio</th>\n      <th>debt_to_equity_ratio</th>\n      <th>...</th>\n      <th>price_to_earnings</th>\n      <th>dividend_payout_ratio</th>\n      <th>retention_ratio</th>\n      <th>gross_margin_ratio</th>\n      <th>operating_profit_margin</th>\n      <th>ebitda_margin</th>\n      <th>debt_service_coverage_ratio</th>\n      <th>interest_coverage_ratio</th>\n      <th>year</th>\n      <th>quarter</th>\n    </tr>\n  </thead>\n  <tbody>\n    <tr>\n      <th>0</th>\n      <td>2000-02-29</td>\n      <td>1004</td>\n      <td>AIR</td>\n      <td>5080</td>\n      <td>2.981531</td>\n      <td>1.176928</td>\n      <td>-0.021609</td>\n      <td>350.202</td>\n      <td>0.273288</td>\n      <td>0.601468</td>\n      <td>...</td>\n      <td>59.375000</td>\n      <td>0.212500</td>\n      <td>0.787500</td>\n      <td>18.234795</td>\n      <td>-72.491564</td>\n      <td>-70.807951</td>\n      <td>-0.958372</td>\n      <td>4.223950</td>\n      <td>2000</td>\n      <td>1</td>\n    </tr>\n    <tr>\n      <th>1</th>\n      <td>2000-05-31</td>\n      <td>1004</td>\n      <td>AIR</td>\n      <td>5080</td>\n      <td>3.120983</td>\n      <td>1.069792</td>\n      <td>-0.042786</td>\n      <td>347.451</td>\n      <td>0.279030</td>\n      <td>0.608989</td>\n      <td>...</td>\n      <td>154.166667</td>\n      <td>0.944444</td>\n      <td>0.055556</td>\n      <td>18.944015</td>\n      <td>-75.280235</td>\n      <td>-73.157425</td>\n      <td>-0.819497</td>\n      <td>2.287927</td>\n      <td>2000</td>\n      <td>2</td>\n    </tr>\n    <tr>\n      <th>2</th>\n      <td>2000-08-31</td>\n      <td>1004</td>\n      <td>AIR</td>\n      <td>5080</td>\n      <td>3.032279</td>\n      <td>0.989191</td>\n      <td>-0.003399</td>\n      <td>341.996</td>\n      <td>0.305692</td>\n      <td>0.673592</td>\n      <td>...</td>\n      <td>93.750000</td>\n      <td>0.708333</td>\n      <td>0.291667</td>\n      <td>16.176118</td>\n      <td>-77.799562</td>\n      <td>-75.858047</td>\n      <td>-0.823112</td>\n      <td>2.432365</td>\n      <td>2000</td>\n      <td>3</td>\n    </tr>\n    <tr>\n      <th>3</th>\n      <td>2000-11-30</td>\n      <td>1004</td>\n      <td>AIR</td>\n      <td>5080</td>\n      <td>2.718261</td>\n      <td>0.897575</td>\n      <td>0.009653</td>\n      <td>325.382</td>\n      <td>0.298354</td>\n      <td>0.675752</td>\n      <td>...</td>\n      <td>64.843750</td>\n      <td>0.531250</td>\n      <td>0.468750</td>\n      <td>18.857738</td>\n      <td>-73.583647</td>\n      <td>-71.446755</td>\n      <td>-0.674333</td>\n      <td>2.793634</td>\n      <td>2000</td>\n      <td>4</td>\n    </tr>\n    <tr>\n      <th>4</th>\n      <td>2001-02-28</td>\n      <td>1004</td>\n      <td>AIR</td>\n      <td>5080</td>\n      <td>3.136912</td>\n      <td>1.025058</td>\n      <td>-0.002824</td>\n      <td>358.685</td>\n      <td>0.304446</td>\n      <td>0.666264</td>\n      <td>...</td>\n      <td>68.000000</td>\n      <td>0.425000</td>\n      <td>0.575000</td>\n      <td>20.259808</td>\n      <td>-71.119752</td>\n      <td>-68.726602</td>\n      <td>-0.619269</td>\n      <td>3.174489</td>\n      <td>2001</td>\n      <td>1</td>\n    </tr>\n  </tbody>\n</table>\n<p>5 rows × 30 columns</p>\n</div>"
     },
     "execution_count": 11,
     "metadata": {},
     "output_type": "execute_result"
    }
   ],
   "source": [
    "df_with_ratios['datadate'] = pd.to_datetime(df_with_ratios['datadate'])\n",
    "df_with_ratios['year'] = df_with_ratios['datadate'].dt.year\n",
    "df_with_ratios['quarter'] = df_with_ratios['datadate'].dt.quarter\n",
    "df_with_ratios.head()"
   ]
  },
  {
   "cell_type": "code",
   "execution_count": 12,
   "id": "a4af01747ab0cb14",
   "metadata": {
    "collapsed": false,
    "ExecuteTime": {
     "end_time": "2023-11-03T09:33:02.729050Z",
     "start_time": "2023-11-03T09:33:02.536654Z"
    }
   },
   "outputs": [
    {
     "data": {
      "text/plain": "1402"
     },
     "execution_count": 12,
     "metadata": {},
     "output_type": "execute_result"
    }
   ],
   "source": [
    "df_drop_duplicates = df_with_ratios.drop_duplicates(subset=['gvkey', 'year', 'quarter'])\n",
    "len(df_with_ratios) - len(df_drop_duplicates)"
   ]
  },
  {
   "cell_type": "markdown",
   "id": "a9e34480cfa5749b",
   "metadata": {
    "collapsed": false
   },
   "source": [
    "We then drop rows where there are duplicate year, quarters and gvkey, since the original dataset is monthly data. We only drop 1402 rows, so not significant. "
   ]
  },
  {
   "cell_type": "code",
   "execution_count": 13,
   "id": "7a27562471a30f",
   "metadata": {
    "collapsed": false,
    "ExecuteTime": {
     "end_time": "2023-11-03T09:33:08.125759Z",
     "start_time": "2023-11-03T09:33:08.122544Z"
    }
   },
   "outputs": [],
   "source": [
    "df_with_ratios = df_drop_duplicates"
   ]
  },
  {
   "cell_type": "markdown",
   "id": "70c4ae63b5670604",
   "metadata": {
    "collapsed": false
   },
   "source": [
    "Now we find all the gvkeys where there is no data at all and drop them from our dataframe. From this operation we remove 6813 gvkeys from a total of "
   ]
  },
  {
   "cell_type": "code",
   "execution_count": 14,
   "id": "75eb5948a8ba4adc",
   "metadata": {
    "collapsed": false,
    "ExecuteTime": {
     "end_time": "2023-11-03T09:33:28.625502Z",
     "start_time": "2023-11-03T09:33:23.526253Z"
    }
   },
   "outputs": [],
   "source": [
    "df_drop_gvkey = df_with_ratios.drop(['sic',  'tic', 'year', 'quarter', 'datadate'], axis=1)\n",
    "df_drop_gvkey = df_drop_gvkey.groupby('gvkey').apply(lambda group: group.iloc[:, 1:].isna().all().all())\n",
    "to_drop = df_drop_gvkey[df_drop_gvkey == True]\n",
    "gvkeys_to_drop = list(to_drop.index)"
   ]
  },
  {
   "cell_type": "code",
   "execution_count": 25,
   "id": "2a34e00a8f2355d1",
   "metadata": {
    "collapsed": false,
    "ExecuteTime": {
     "end_time": "2023-11-03T09:37:25.381290Z",
     "start_time": "2023-11-03T09:37:25.361579Z"
    }
   },
   "outputs": [
    {
     "name": "stdout",
     "output_type": "stream",
     "text": [
      "Dropped 22.53381394887397% of stocks\n"
     ]
    }
   ],
   "source": [
    "original_number_of_gvkeys = len(df_with_ratios['gvkey'].unique())\n",
    "print(f\"Dropped {len(gvkeys_to_drop) * 100 / original_number_of_gvkeys}% of stocks\")"
   ]
  },
  {
   "cell_type": "code",
   "execution_count": 26,
   "id": "3af94cb278776090",
   "metadata": {
    "collapsed": false,
    "ExecuteTime": {
     "end_time": "2023-11-03T09:37:47.166599Z",
     "start_time": "2023-11-03T09:37:47.099239Z"
    }
   },
   "outputs": [
    {
     "name": "stdout",
     "output_type": "stream",
     "text": [
      "number of unique gvkeys now: 23425\n",
      "% of total rows lost: 17.750651899282143%\n"
     ]
    }
   ],
   "source": [
    "df_with_ratios_dropped_gvkey = df_with_ratios[~df_with_ratios['gvkey'].isin(gvkeys_to_drop)]\n",
    "print(f\"number of unique gvkeys now: {len(df_with_ratios_dropped_gvkey['gvkey'].unique())}\")\n",
    "print(f\"% of total rows lost: {(len(df_with_ratios) - len(df_with_ratios_dropped_gvkey)) * 100 / len(df_with_ratios)  }%\")"
   ]
  },
  {
   "cell_type": "code",
   "execution_count": 29,
   "id": "a33b6449eccab27",
   "metadata": {
    "collapsed": false,
    "ExecuteTime": {
     "end_time": "2023-11-03T09:38:43.938142Z",
     "start_time": "2023-11-03T09:38:43.838366Z"
    }
   },
   "outputs": [
    {
     "data": {
      "text/plain": "                               pct_nan\ndatadate                      0.000000\ngvkey                         0.000000\ntic                           0.027957\nsic                           0.000000\ncurrent_ratio                23.707834\nquick_ratio                  25.075580\ncash_ratio                   25.167941\nnet_working_capital          23.658937\ndebt_ratio                   12.990197\ndebt_to_equity_ratio         13.190650\nequity_ratio                  8.179315\ncashflow_to_debt_ratio       16.698529\nnet_profit_margin            12.821775\nreturn_on_assets              8.272354\nasset_turnover               19.121174\ninventory_turnover           24.318475\ndays_in_inventory            24.318475\nreceivables_turnover         30.411422\nday_sales_outstanding        30.411422\nworking_capital_turnover     27.304564\nprice_to_earnings            14.922065\ndividend_payout_ratio        20.426781\nretention_ratio              20.426781\ngross_margin_ratio           22.593399\noperating_profit_margin      13.677353\nebitda_margin                21.018860\ndebt_service_coverage_ratio  21.023388\ninterest_coverage_ratio      30.498010\nyear                          0.000000\nquarter                       0.000000",
      "text/html": "<div>\n<style scoped>\n    .dataframe tbody tr th:only-of-type {\n        vertical-align: middle;\n    }\n\n    .dataframe tbody tr th {\n        vertical-align: top;\n    }\n\n    .dataframe thead th {\n        text-align: right;\n    }\n</style>\n<table border=\"1\" class=\"dataframe\">\n  <thead>\n    <tr style=\"text-align: right;\">\n      <th></th>\n      <th>pct_nan</th>\n    </tr>\n  </thead>\n  <tbody>\n    <tr>\n      <th>datadate</th>\n      <td>0.000000</td>\n    </tr>\n    <tr>\n      <th>gvkey</th>\n      <td>0.000000</td>\n    </tr>\n    <tr>\n      <th>tic</th>\n      <td>0.027957</td>\n    </tr>\n    <tr>\n      <th>sic</th>\n      <td>0.000000</td>\n    </tr>\n    <tr>\n      <th>current_ratio</th>\n      <td>23.707834</td>\n    </tr>\n    <tr>\n      <th>quick_ratio</th>\n      <td>25.075580</td>\n    </tr>\n    <tr>\n      <th>cash_ratio</th>\n      <td>25.167941</td>\n    </tr>\n    <tr>\n      <th>net_working_capital</th>\n      <td>23.658937</td>\n    </tr>\n    <tr>\n      <th>debt_ratio</th>\n      <td>12.990197</td>\n    </tr>\n    <tr>\n      <th>debt_to_equity_ratio</th>\n      <td>13.190650</td>\n    </tr>\n    <tr>\n      <th>equity_ratio</th>\n      <td>8.179315</td>\n    </tr>\n    <tr>\n      <th>cashflow_to_debt_ratio</th>\n      <td>16.698529</td>\n    </tr>\n    <tr>\n      <th>net_profit_margin</th>\n      <td>12.821775</td>\n    </tr>\n    <tr>\n      <th>return_on_assets</th>\n      <td>8.272354</td>\n    </tr>\n    <tr>\n      <th>asset_turnover</th>\n      <td>19.121174</td>\n    </tr>\n    <tr>\n      <th>inventory_turnover</th>\n      <td>24.318475</td>\n    </tr>\n    <tr>\n      <th>days_in_inventory</th>\n      <td>24.318475</td>\n    </tr>\n    <tr>\n      <th>receivables_turnover</th>\n      <td>30.411422</td>\n    </tr>\n    <tr>\n      <th>day_sales_outstanding</th>\n      <td>30.411422</td>\n    </tr>\n    <tr>\n      <th>working_capital_turnover</th>\n      <td>27.304564</td>\n    </tr>\n    <tr>\n      <th>price_to_earnings</th>\n      <td>14.922065</td>\n    </tr>\n    <tr>\n      <th>dividend_payout_ratio</th>\n      <td>20.426781</td>\n    </tr>\n    <tr>\n      <th>retention_ratio</th>\n      <td>20.426781</td>\n    </tr>\n    <tr>\n      <th>gross_margin_ratio</th>\n      <td>22.593399</td>\n    </tr>\n    <tr>\n      <th>operating_profit_margin</th>\n      <td>13.677353</td>\n    </tr>\n    <tr>\n      <th>ebitda_margin</th>\n      <td>21.018860</td>\n    </tr>\n    <tr>\n      <th>debt_service_coverage_ratio</th>\n      <td>21.023388</td>\n    </tr>\n    <tr>\n      <th>interest_coverage_ratio</th>\n      <td>30.498010</td>\n    </tr>\n    <tr>\n      <th>year</th>\n      <td>0.000000</td>\n    </tr>\n    <tr>\n      <th>quarter</th>\n      <td>0.000000</td>\n    </tr>\n  </tbody>\n</table>\n</div>"
     },
     "execution_count": 29,
     "metadata": {},
     "output_type": "execute_result"
    }
   ],
   "source": [
    "nan_breakdown = pd.DataFrame()\n",
    "nan_breakdown['pct_nan'] = (df_with_ratios_dropped_gvkey.isna().sum() / len(df_with_ratios_dropped_gvkey)) * 100\n",
    "nan_breakdown"
   ]
  },
  {
   "cell_type": "markdown",
   "id": "881427e58132ef4",
   "metadata": {
    "collapsed": false
   },
   "source": [
    "We can also see that the % of nans has decreased significantly across columns after dropping these gvkeys"
   ]
  },
  {
   "cell_type": "code",
   "execution_count": 30,
   "id": "c8aeffe5a75e257e",
   "metadata": {
    "collapsed": false,
    "ExecuteTime": {
     "end_time": "2023-11-03T09:38:51.166407Z",
     "start_time": "2023-11-03T09:38:51.022879Z"
    }
   },
   "outputs": [
    {
     "data": {
      "text/plain": "      datadate  gvkey   tic   sic  current_ratio  quick_ratio  cash_ratio  \\\n156 2000-03-31   1019  AFAP  7380            NaN          NaN         NaN   \n157 2000-06-30   1019  AFAP  7380            NaN          NaN         NaN   \n158 2000-09-30   1019  AFAP  7380            NaN          NaN         NaN   \n159 2000-12-31   1019  AFAP  7380       1.640074     1.550835    0.116883   \n160 2001-03-31   1019  AFAP  7380            NaN          NaN         NaN   \n..         ...    ...   ...   ...            ...          ...         ...   \n235 2019-12-31   1019  AFAP  7380       1.405545     1.159588    0.031515   \n236 2020-03-31   1019  AFAP  7380            NaN          NaN         NaN   \n237 2020-06-30   1019  AFAP  7380            NaN          NaN         NaN   \n238 2020-09-30   1019  AFAP  7380            NaN          NaN         NaN   \n239 2020-12-31   1019  AFAP  7380       1.996918     1.743017    0.268863   \n\n     net_working_capital  debt_ratio  debt_to_equity_ratio  ...  \\\n156                  NaN         NaN                   NaN  ...   \n157                  NaN         NaN                   NaN  ...   \n158                  NaN         NaN                   NaN  ...   \n159                3.450    0.062365              0.135467  ...   \n160                  NaN         NaN                   NaN  ...   \n..                   ...         ...                   ...  ...   \n235                6.846    0.054954              0.157569  ...   \n236                  NaN         NaN                   NaN  ...   \n237                  NaN         NaN                   NaN  ...   \n238                  NaN         NaN                   NaN  ...   \n239               15.525    0.213655              0.643074  ...   \n\n     price_to_earnings  dividend_payout_ratio  retention_ratio  \\\n156          84.745763               0.282486         0.717514   \n157          49.848943               0.151057         0.848943   \n158                NaN                    NaN              NaN   \n159          34.014870               0.092937         0.907063   \n160          75.100402               0.200803         0.799197   \n..                 ...                    ...              ...   \n235          13.225569               0.036738         0.963262   \n236                NaN                    NaN              NaN   \n237                NaN                    NaN              NaN   \n238                NaN                    NaN              NaN   \n239          10.814170               0.031075         0.968925   \n\n     gross_margin_ratio  operating_profit_margin  ebitda_margin  \\\n156                 NaN                      NaN            NaN   \n157                 NaN                      NaN            NaN   \n158                 NaN                      NaN            NaN   \n159          -17.483221              -195.148610    -185.426654   \n160                 NaN                      NaN            NaN   \n..                  ...                      ...            ...   \n235           32.806181               -60.904102     -58.519883   \n236                 NaN                      NaN            NaN   \n237                 NaN                      NaN            NaN   \n238                 NaN                      NaN            NaN   \n239           32.663675               -60.357527     -58.030455   \n\n     debt_service_coverage_ratio  interest_coverage_ratio  year  quarter  \n156                          NaN                      NaN  2000        1  \n157                          NaN                      NaN  2000        2  \n158                          NaN                      NaN  2000        3  \n159                   -22.792833                24.408072  2000        4  \n160                          NaN                      NaN  2001        1  \n..                           ...                      ...   ...      ...  \n235                   -27.607201                44.666667  2019        4  \n236                          NaN                      NaN  2020        1  \n237                          NaN                      NaN  2020        2  \n238                          NaN                      NaN  2020        3  \n239                    -5.757153                52.935780  2020        4  \n\n[84 rows x 30 columns]",
      "text/html": "<div>\n<style scoped>\n    .dataframe tbody tr th:only-of-type {\n        vertical-align: middle;\n    }\n\n    .dataframe tbody tr th {\n        vertical-align: top;\n    }\n\n    .dataframe thead th {\n        text-align: right;\n    }\n</style>\n<table border=\"1\" class=\"dataframe\">\n  <thead>\n    <tr style=\"text-align: right;\">\n      <th></th>\n      <th>datadate</th>\n      <th>gvkey</th>\n      <th>tic</th>\n      <th>sic</th>\n      <th>current_ratio</th>\n      <th>quick_ratio</th>\n      <th>cash_ratio</th>\n      <th>net_working_capital</th>\n      <th>debt_ratio</th>\n      <th>debt_to_equity_ratio</th>\n      <th>...</th>\n      <th>price_to_earnings</th>\n      <th>dividend_payout_ratio</th>\n      <th>retention_ratio</th>\n      <th>gross_margin_ratio</th>\n      <th>operating_profit_margin</th>\n      <th>ebitda_margin</th>\n      <th>debt_service_coverage_ratio</th>\n      <th>interest_coverage_ratio</th>\n      <th>year</th>\n      <th>quarter</th>\n    </tr>\n  </thead>\n  <tbody>\n    <tr>\n      <th>156</th>\n      <td>2000-03-31</td>\n      <td>1019</td>\n      <td>AFAP</td>\n      <td>7380</td>\n      <td>NaN</td>\n      <td>NaN</td>\n      <td>NaN</td>\n      <td>NaN</td>\n      <td>NaN</td>\n      <td>NaN</td>\n      <td>...</td>\n      <td>84.745763</td>\n      <td>0.282486</td>\n      <td>0.717514</td>\n      <td>NaN</td>\n      <td>NaN</td>\n      <td>NaN</td>\n      <td>NaN</td>\n      <td>NaN</td>\n      <td>2000</td>\n      <td>1</td>\n    </tr>\n    <tr>\n      <th>157</th>\n      <td>2000-06-30</td>\n      <td>1019</td>\n      <td>AFAP</td>\n      <td>7380</td>\n      <td>NaN</td>\n      <td>NaN</td>\n      <td>NaN</td>\n      <td>NaN</td>\n      <td>NaN</td>\n      <td>NaN</td>\n      <td>...</td>\n      <td>49.848943</td>\n      <td>0.151057</td>\n      <td>0.848943</td>\n      <td>NaN</td>\n      <td>NaN</td>\n      <td>NaN</td>\n      <td>NaN</td>\n      <td>NaN</td>\n      <td>2000</td>\n      <td>2</td>\n    </tr>\n    <tr>\n      <th>158</th>\n      <td>2000-09-30</td>\n      <td>1019</td>\n      <td>AFAP</td>\n      <td>7380</td>\n      <td>NaN</td>\n      <td>NaN</td>\n      <td>NaN</td>\n      <td>NaN</td>\n      <td>NaN</td>\n      <td>NaN</td>\n      <td>...</td>\n      <td>NaN</td>\n      <td>NaN</td>\n      <td>NaN</td>\n      <td>NaN</td>\n      <td>NaN</td>\n      <td>NaN</td>\n      <td>NaN</td>\n      <td>NaN</td>\n      <td>2000</td>\n      <td>3</td>\n    </tr>\n    <tr>\n      <th>159</th>\n      <td>2000-12-31</td>\n      <td>1019</td>\n      <td>AFAP</td>\n      <td>7380</td>\n      <td>1.640074</td>\n      <td>1.550835</td>\n      <td>0.116883</td>\n      <td>3.450</td>\n      <td>0.062365</td>\n      <td>0.135467</td>\n      <td>...</td>\n      <td>34.014870</td>\n      <td>0.092937</td>\n      <td>0.907063</td>\n      <td>-17.483221</td>\n      <td>-195.148610</td>\n      <td>-185.426654</td>\n      <td>-22.792833</td>\n      <td>24.408072</td>\n      <td>2000</td>\n      <td>4</td>\n    </tr>\n    <tr>\n      <th>160</th>\n      <td>2001-03-31</td>\n      <td>1019</td>\n      <td>AFAP</td>\n      <td>7380</td>\n      <td>NaN</td>\n      <td>NaN</td>\n      <td>NaN</td>\n      <td>NaN</td>\n      <td>NaN</td>\n      <td>NaN</td>\n      <td>...</td>\n      <td>75.100402</td>\n      <td>0.200803</td>\n      <td>0.799197</td>\n      <td>NaN</td>\n      <td>NaN</td>\n      <td>NaN</td>\n      <td>NaN</td>\n      <td>NaN</td>\n      <td>2001</td>\n      <td>1</td>\n    </tr>\n    <tr>\n      <th>...</th>\n      <td>...</td>\n      <td>...</td>\n      <td>...</td>\n      <td>...</td>\n      <td>...</td>\n      <td>...</td>\n      <td>...</td>\n      <td>...</td>\n      <td>...</td>\n      <td>...</td>\n      <td>...</td>\n      <td>...</td>\n      <td>...</td>\n      <td>...</td>\n      <td>...</td>\n      <td>...</td>\n      <td>...</td>\n      <td>...</td>\n      <td>...</td>\n      <td>...</td>\n      <td>...</td>\n    </tr>\n    <tr>\n      <th>235</th>\n      <td>2019-12-31</td>\n      <td>1019</td>\n      <td>AFAP</td>\n      <td>7380</td>\n      <td>1.405545</td>\n      <td>1.159588</td>\n      <td>0.031515</td>\n      <td>6.846</td>\n      <td>0.054954</td>\n      <td>0.157569</td>\n      <td>...</td>\n      <td>13.225569</td>\n      <td>0.036738</td>\n      <td>0.963262</td>\n      <td>32.806181</td>\n      <td>-60.904102</td>\n      <td>-58.519883</td>\n      <td>-27.607201</td>\n      <td>44.666667</td>\n      <td>2019</td>\n      <td>4</td>\n    </tr>\n    <tr>\n      <th>236</th>\n      <td>2020-03-31</td>\n      <td>1019</td>\n      <td>AFAP</td>\n      <td>7380</td>\n      <td>NaN</td>\n      <td>NaN</td>\n      <td>NaN</td>\n      <td>NaN</td>\n      <td>NaN</td>\n      <td>NaN</td>\n      <td>...</td>\n      <td>NaN</td>\n      <td>NaN</td>\n      <td>NaN</td>\n      <td>NaN</td>\n      <td>NaN</td>\n      <td>NaN</td>\n      <td>NaN</td>\n      <td>NaN</td>\n      <td>2020</td>\n      <td>1</td>\n    </tr>\n    <tr>\n      <th>237</th>\n      <td>2020-06-30</td>\n      <td>1019</td>\n      <td>AFAP</td>\n      <td>7380</td>\n      <td>NaN</td>\n      <td>NaN</td>\n      <td>NaN</td>\n      <td>NaN</td>\n      <td>NaN</td>\n      <td>NaN</td>\n      <td>...</td>\n      <td>NaN</td>\n      <td>NaN</td>\n      <td>NaN</td>\n      <td>NaN</td>\n      <td>NaN</td>\n      <td>NaN</td>\n      <td>NaN</td>\n      <td>NaN</td>\n      <td>2020</td>\n      <td>2</td>\n    </tr>\n    <tr>\n      <th>238</th>\n      <td>2020-09-30</td>\n      <td>1019</td>\n      <td>AFAP</td>\n      <td>7380</td>\n      <td>NaN</td>\n      <td>NaN</td>\n      <td>NaN</td>\n      <td>NaN</td>\n      <td>NaN</td>\n      <td>NaN</td>\n      <td>...</td>\n      <td>NaN</td>\n      <td>NaN</td>\n      <td>NaN</td>\n      <td>NaN</td>\n      <td>NaN</td>\n      <td>NaN</td>\n      <td>NaN</td>\n      <td>NaN</td>\n      <td>2020</td>\n      <td>3</td>\n    </tr>\n    <tr>\n      <th>239</th>\n      <td>2020-12-31</td>\n      <td>1019</td>\n      <td>AFAP</td>\n      <td>7380</td>\n      <td>1.996918</td>\n      <td>1.743017</td>\n      <td>0.268863</td>\n      <td>15.525</td>\n      <td>0.213655</td>\n      <td>0.643074</td>\n      <td>...</td>\n      <td>10.814170</td>\n      <td>0.031075</td>\n      <td>0.968925</td>\n      <td>32.663675</td>\n      <td>-60.357527</td>\n      <td>-58.030455</td>\n      <td>-5.757153</td>\n      <td>52.935780</td>\n      <td>2020</td>\n      <td>4</td>\n    </tr>\n  </tbody>\n</table>\n<p>84 rows × 30 columns</p>\n</div>"
     },
     "execution_count": 30,
     "metadata": {},
     "output_type": "execute_result"
    }
   ],
   "source": [
    "test = df_with_ratios_dropped_gvkey\n",
    "test = test[test.isna().any(axis=1)]\n",
    "test[test['tic'] == 'AFAP']"
   ]
  },
  {
   "cell_type": "code",
   "execution_count": 35,
   "outputs": [
    {
     "data": {
      "text/plain": "883497"
     },
     "execution_count": 35,
     "metadata": {},
     "output_type": "execute_result"
    }
   ],
   "source": [
    "len(df_with_ratios_dropped_gvkey)"
   ],
   "metadata": {
    "collapsed": false,
    "ExecuteTime": {
     "end_time": "2023-11-03T09:44:48.252992Z",
     "start_time": "2023-11-03T09:44:48.245202Z"
    }
   },
   "id": "cbce1e1d7009fc03"
  },
  {
   "cell_type": "markdown",
   "id": "5ca1578e1294e6da",
   "metadata": {
    "collapsed": false
   },
   "source": [
    "Here we can see that there are still certain stocks where there is data, but many missing values. for example for ticker AFAP, we have data missing from 2003-2016. Such tickers should be dropped as well"
   ]
  },
  {
   "cell_type": "code",
   "execution_count": 31,
   "id": "bdda00a640318e15",
   "metadata": {
    "collapsed": false,
    "ExecuteTime": {
     "end_time": "2023-11-03T09:39:20.567563Z",
     "start_time": "2023-11-03T09:39:20.511392Z"
    }
   },
   "outputs": [],
   "source": [
    "cols_df = df_with_ratios_dropped_gvkey.drop(['gvkey', 'sic',  'tic', 'year', 'quarter', 'datadate'], axis=1)\n",
    "all_na_rows = cols_df[cols_df.isna().all(axis=1)] # all rows where each feature is NA\n",
    "df_with_nans = df_with_ratios_dropped_gvkey.loc[all_na_rows.index]\n",
    "df_with_nans_counts = df_with_nans.groupby('gvkey').size() # Number of nan rows for each gvkey\n",
    "gvkey_with_bad_data = df_with_nans_counts[df_with_nans_counts > 10]"
   ]
  },
  {
   "cell_type": "code",
   "execution_count": 40,
   "id": "ea4aaa1ffcc6feb5",
   "metadata": {
    "collapsed": false,
    "ExecuteTime": {
     "end_time": "2023-11-03T09:49:55.979436Z",
     "start_time": "2023-11-03T09:49:55.960839Z"
    }
   },
   "outputs": [
    {
     "name": "stdout",
     "output_type": "stream",
     "text": [
      "2.992529348986126\n"
     ]
    }
   ],
   "source": [
    "print(100*len(gvkey_with_bad_data) / len(df_with_ratios_dropped_gvkey['gvkey'].unique()))"
   ]
  },
  {
   "cell_type": "markdown",
   "id": "8a765a57c64abf89",
   "metadata": {
    "collapsed": false
   },
   "source": [
    "We can decide here the threshold for which we want to drop our gvkeys. We drop gvkeys with more than 10 missing rows with all NANS. This causes us to drop 2.99% of gvkeys. "
   ]
  },
  {
   "cell_type": "code",
   "execution_count": 44,
   "id": "30c1a593eec8c4bb",
   "metadata": {
    "collapsed": false,
    "ExecuteTime": {
     "end_time": "2023-11-03T09:51:24.302861Z",
     "start_time": "2023-11-03T09:51:24.245703Z"
    }
   },
   "outputs": [
    {
     "name": "stdout",
     "output_type": "stream",
     "text": [
      "% of total rows lost in total after this step: 21.50732333552728%\n"
     ]
    }
   ],
   "source": [
    "df_with_ratios_dropped_gvkey_v2 = df_with_ratios_dropped_gvkey[~df_with_ratios_dropped_gvkey['gvkey'].isin(gvkey_with_bad_data.index)]\n",
    "print(f\"% of total rows lost in total after this step: {(len(df_with_ratios) - len(df_with_ratios_dropped_gvkey_v2)) * 100 / len(df_with_ratios)  }%\")"
   ]
  },
  {
   "cell_type": "code",
   "execution_count": 45,
   "id": "f206955cbff215cc",
   "metadata": {
    "collapsed": false,
    "ExecuteTime": {
     "end_time": "2023-11-03T09:51:26.809306Z",
     "start_time": "2023-11-03T09:51:26.709311Z"
    }
   },
   "outputs": [
    {
     "data": {
      "text/plain": "                               pct_nan\ndatadate                      0.000000\ngvkey                         0.000000\ntic                           0.022995\nsic                           0.000000\ncurrent_ratio                17.390932\nquick_ratio                  18.483870\ncash_ratio                   18.525577\nnet_working_capital          17.353787\ndebt_ratio                    8.907723\ndebt_to_equity_ratio          9.064216\nequity_ratio                  5.069780\ncashflow_to_debt_ratio       11.808663\nnet_profit_margin             8.826637\nreturn_on_assets              5.143232\nasset_turnover               13.043478\ninventory_turnover           17.216937\ndays_in_inventory            17.216937\nreceivables_turnover         22.149494\nday_sales_outstanding        22.149494\nworking_capital_turnover     19.646257\nprice_to_earnings            10.492669\ndividend_payout_ratio        14.885460\nretention_ratio              14.885460\ngross_margin_ratio           16.633695\noperating_profit_margin       9.491337\nebitda_margin                15.245366\ndebt_service_coverage_ratio  15.316584\ninterest_coverage_ratio      22.883829\nyear                          0.000000\nquarter                       0.000000",
      "text/html": "<div>\n<style scoped>\n    .dataframe tbody tr th:only-of-type {\n        vertical-align: middle;\n    }\n\n    .dataframe tbody tr th {\n        vertical-align: top;\n    }\n\n    .dataframe thead th {\n        text-align: right;\n    }\n</style>\n<table border=\"1\" class=\"dataframe\">\n  <thead>\n    <tr style=\"text-align: right;\">\n      <th></th>\n      <th>pct_nan</th>\n    </tr>\n  </thead>\n  <tbody>\n    <tr>\n      <th>datadate</th>\n      <td>0.000000</td>\n    </tr>\n    <tr>\n      <th>gvkey</th>\n      <td>0.000000</td>\n    </tr>\n    <tr>\n      <th>tic</th>\n      <td>0.022995</td>\n    </tr>\n    <tr>\n      <th>sic</th>\n      <td>0.000000</td>\n    </tr>\n    <tr>\n      <th>current_ratio</th>\n      <td>17.390932</td>\n    </tr>\n    <tr>\n      <th>quick_ratio</th>\n      <td>18.483870</td>\n    </tr>\n    <tr>\n      <th>cash_ratio</th>\n      <td>18.525577</td>\n    </tr>\n    <tr>\n      <th>net_working_capital</th>\n      <td>17.353787</td>\n    </tr>\n    <tr>\n      <th>debt_ratio</th>\n      <td>8.907723</td>\n    </tr>\n    <tr>\n      <th>debt_to_equity_ratio</th>\n      <td>9.064216</td>\n    </tr>\n    <tr>\n      <th>equity_ratio</th>\n      <td>5.069780</td>\n    </tr>\n    <tr>\n      <th>cashflow_to_debt_ratio</th>\n      <td>11.808663</td>\n    </tr>\n    <tr>\n      <th>net_profit_margin</th>\n      <td>8.826637</td>\n    </tr>\n    <tr>\n      <th>return_on_assets</th>\n      <td>5.143232</td>\n    </tr>\n    <tr>\n      <th>asset_turnover</th>\n      <td>13.043478</td>\n    </tr>\n    <tr>\n      <th>inventory_turnover</th>\n      <td>17.216937</td>\n    </tr>\n    <tr>\n      <th>days_in_inventory</th>\n      <td>17.216937</td>\n    </tr>\n    <tr>\n      <th>receivables_turnover</th>\n      <td>22.149494</td>\n    </tr>\n    <tr>\n      <th>day_sales_outstanding</th>\n      <td>22.149494</td>\n    </tr>\n    <tr>\n      <th>working_capital_turnover</th>\n      <td>19.646257</td>\n    </tr>\n    <tr>\n      <th>price_to_earnings</th>\n      <td>10.492669</td>\n    </tr>\n    <tr>\n      <th>dividend_payout_ratio</th>\n      <td>14.885460</td>\n    </tr>\n    <tr>\n      <th>retention_ratio</th>\n      <td>14.885460</td>\n    </tr>\n    <tr>\n      <th>gross_margin_ratio</th>\n      <td>16.633695</td>\n    </tr>\n    <tr>\n      <th>operating_profit_margin</th>\n      <td>9.491337</td>\n    </tr>\n    <tr>\n      <th>ebitda_margin</th>\n      <td>15.245366</td>\n    </tr>\n    <tr>\n      <th>debt_service_coverage_ratio</th>\n      <td>15.316584</td>\n    </tr>\n    <tr>\n      <th>interest_coverage_ratio</th>\n      <td>22.883829</td>\n    </tr>\n    <tr>\n      <th>year</th>\n      <td>0.000000</td>\n    </tr>\n    <tr>\n      <th>quarter</th>\n      <td>0.000000</td>\n    </tr>\n  </tbody>\n</table>\n</div>"
     },
     "execution_count": 45,
     "metadata": {},
     "output_type": "execute_result"
    }
   ],
   "source": [
    "nan_breakdown = pd.DataFrame()\n",
    "nan_breakdown['pct_nan'] = (df_with_ratios_dropped_gvkey_v2.isna().sum() / len(df_with_ratios)) * 100\n",
    "nan_breakdown"
   ]
  },
  {
   "cell_type": "markdown",
   "id": "21561e5f9e734a26",
   "metadata": {
    "collapsed": false
   },
   "source": [
    "Our % of rows dropped increased from 17% to 21%. We can reduce this perentage by increasing the tolerance of how many nan rows a stock can have. This is balancing data quantity vs quality. % of nans for many rows also decreased. "
   ]
  },
  {
   "cell_type": "code",
   "execution_count": 46,
   "id": "35b58ced90195a57",
   "metadata": {
    "collapsed": false,
    "ExecuteTime": {
     "end_time": "2023-11-03T09:52:08.708435Z",
     "start_time": "2023-11-03T09:52:06.936228Z"
    }
   },
   "outputs": [
    {
     "data": {
      "text/plain": "                               pct_inf\ndatadate                      0.000000\ngvkey                         0.000000\ntic                           0.000000\nsic                           0.000000\ncurrent_ratio                 0.082430\nquick_ratio                   0.082311\ncash_ratio                    0.071874\nnet_working_capital           0.000000\ndebt_ratio                    0.182531\ndebt_to_equity_ratio          0.011742\nequity_ratio                  0.335293\ncashflow_to_debt_ratio       15.462602\nnet_profit_margin            11.375518\nreturn_on_assets              0.320230\nasset_turnover                0.013402\ninventory_turnover           23.817047\ndays_in_inventory             0.050644\nreceivables_turnover         22.074640\nday_sales_outstanding         0.899016\nworking_capital_turnover      0.009726\nprice_to_earnings             7.021932\ndividend_payout_ratio         0.169841\nretention_ratio               0.169841\ngross_margin_ratio            1.872041\noperating_profit_margin      11.136769\nebitda_margin                10.687380\ndebt_service_coverage_ratio  15.730409\ninterest_coverage_ratio      12.264572\nyear                          0.000000\nquarter                       0.000000",
      "text/html": "<div>\n<style scoped>\n    .dataframe tbody tr th:only-of-type {\n        vertical-align: middle;\n    }\n\n    .dataframe tbody tr th {\n        vertical-align: top;\n    }\n\n    .dataframe thead th {\n        text-align: right;\n    }\n</style>\n<table border=\"1\" class=\"dataframe\">\n  <thead>\n    <tr style=\"text-align: right;\">\n      <th></th>\n      <th>pct_inf</th>\n    </tr>\n  </thead>\n  <tbody>\n    <tr>\n      <th>datadate</th>\n      <td>0.000000</td>\n    </tr>\n    <tr>\n      <th>gvkey</th>\n      <td>0.000000</td>\n    </tr>\n    <tr>\n      <th>tic</th>\n      <td>0.000000</td>\n    </tr>\n    <tr>\n      <th>sic</th>\n      <td>0.000000</td>\n    </tr>\n    <tr>\n      <th>current_ratio</th>\n      <td>0.082430</td>\n    </tr>\n    <tr>\n      <th>quick_ratio</th>\n      <td>0.082311</td>\n    </tr>\n    <tr>\n      <th>cash_ratio</th>\n      <td>0.071874</td>\n    </tr>\n    <tr>\n      <th>net_working_capital</th>\n      <td>0.000000</td>\n    </tr>\n    <tr>\n      <th>debt_ratio</th>\n      <td>0.182531</td>\n    </tr>\n    <tr>\n      <th>debt_to_equity_ratio</th>\n      <td>0.011742</td>\n    </tr>\n    <tr>\n      <th>equity_ratio</th>\n      <td>0.335293</td>\n    </tr>\n    <tr>\n      <th>cashflow_to_debt_ratio</th>\n      <td>15.462602</td>\n    </tr>\n    <tr>\n      <th>net_profit_margin</th>\n      <td>11.375518</td>\n    </tr>\n    <tr>\n      <th>return_on_assets</th>\n      <td>0.320230</td>\n    </tr>\n    <tr>\n      <th>asset_turnover</th>\n      <td>0.013402</td>\n    </tr>\n    <tr>\n      <th>inventory_turnover</th>\n      <td>23.817047</td>\n    </tr>\n    <tr>\n      <th>days_in_inventory</th>\n      <td>0.050644</td>\n    </tr>\n    <tr>\n      <th>receivables_turnover</th>\n      <td>22.074640</td>\n    </tr>\n    <tr>\n      <th>day_sales_outstanding</th>\n      <td>0.899016</td>\n    </tr>\n    <tr>\n      <th>working_capital_turnover</th>\n      <td>0.009726</td>\n    </tr>\n    <tr>\n      <th>price_to_earnings</th>\n      <td>7.021932</td>\n    </tr>\n    <tr>\n      <th>dividend_payout_ratio</th>\n      <td>0.169841</td>\n    </tr>\n    <tr>\n      <th>retention_ratio</th>\n      <td>0.169841</td>\n    </tr>\n    <tr>\n      <th>gross_margin_ratio</th>\n      <td>1.872041</td>\n    </tr>\n    <tr>\n      <th>operating_profit_margin</th>\n      <td>11.136769</td>\n    </tr>\n    <tr>\n      <th>ebitda_margin</th>\n      <td>10.687380</td>\n    </tr>\n    <tr>\n      <th>debt_service_coverage_ratio</th>\n      <td>15.730409</td>\n    </tr>\n    <tr>\n      <th>interest_coverage_ratio</th>\n      <td>12.264572</td>\n    </tr>\n    <tr>\n      <th>year</th>\n      <td>0.000000</td>\n    </tr>\n    <tr>\n      <th>quarter</th>\n      <td>0.000000</td>\n    </tr>\n  </tbody>\n</table>\n</div>"
     },
     "execution_count": 46,
     "metadata": {},
     "output_type": "execute_result"
    }
   ],
   "source": [
    "# dealing with inf value\n",
    "inf_breakdown = pd.DataFrame()\n",
    "inf_breakdown['pct_inf'] = (100 * df_with_ratios_dropped_gvkey_v2.isin([float('inf'), float('-inf')]).sum()) / len(df_with_ratios_dropped_gvkey_v2)\n",
    "inf_breakdown"
   ]
  },
  {
   "cell_type": "markdown",
   "source": [
    "Remove INF values for a gvkey but replacing it with its largest value. Replace negative INF with its smallest value"
   ],
   "metadata": {
    "collapsed": false
   },
   "id": "688ba61bb5144397"
  },
  {
   "cell_type": "code",
   "execution_count": 48,
   "outputs": [],
   "source": [
    "non_numerical_cols = ['gvkey', 'sic', 'tic', 'year', 'quarter', 'datadate']\n",
    "numerical_cols = [col for col in df_with_ratios_dropped_gvkey_v2.columns if col not in non_numerical_cols]\n",
    "df_without_inf = pd.DataFrame()\n",
    "for col in non_numerical_cols: \n",
    "    df_without_inf[col] = df_with_ratios_dropped_gvkey_v2[col]\n",
    "for col in numerical_cols: \n",
    "    df_without_inf[col] = df_with_ratios_dropped_gvkey_v2.groupby(['gvkey'])[col].transform(lambda x: x.replace([float('inf')], x.replace([float('inf')], float('-inf')).max())).transform(lambda x: x.replace([float('-inf')], x.replace([float('-inf')], float('inf')).min()))"
   ],
   "metadata": {
    "collapsed": false,
    "ExecuteTime": {
     "end_time": "2023-11-03T10:07:56.325293Z",
     "start_time": "2023-11-03T10:06:55.869830Z"
    }
   },
   "id": "1cb9be450c33ff69"
  },
  {
   "cell_type": "code",
   "execution_count": 50,
   "outputs": [
    {
     "data": {
      "text/plain": "                             pct_inf\ngvkey                            0.0\nsic                              0.0\ntic                              0.0\nyear                             0.0\nquarter                          0.0\ndatadate                         0.0\ncurrent_ratio                    0.0\nquick_ratio                      0.0\ncash_ratio                       0.0\nnet_working_capital              0.0\ndebt_ratio                       0.0\ndebt_to_equity_ratio             0.0\nequity_ratio                     0.0\ncashflow_to_debt_ratio           0.0\nnet_profit_margin                0.0\nreturn_on_assets                 0.0\nasset_turnover                   0.0\ninventory_turnover               0.0\ndays_in_inventory                0.0\nreceivables_turnover             0.0\nday_sales_outstanding            0.0\nworking_capital_turnover         0.0\nprice_to_earnings                0.0\ndividend_payout_ratio            0.0\nretention_ratio                  0.0\ngross_margin_ratio               0.0\noperating_profit_margin          0.0\nebitda_margin                    0.0\ndebt_service_coverage_ratio      0.0\ninterest_coverage_ratio          0.0",
      "text/html": "<div>\n<style scoped>\n    .dataframe tbody tr th:only-of-type {\n        vertical-align: middle;\n    }\n\n    .dataframe tbody tr th {\n        vertical-align: top;\n    }\n\n    .dataframe thead th {\n        text-align: right;\n    }\n</style>\n<table border=\"1\" class=\"dataframe\">\n  <thead>\n    <tr style=\"text-align: right;\">\n      <th></th>\n      <th>pct_inf</th>\n    </tr>\n  </thead>\n  <tbody>\n    <tr>\n      <th>gvkey</th>\n      <td>0.0</td>\n    </tr>\n    <tr>\n      <th>sic</th>\n      <td>0.0</td>\n    </tr>\n    <tr>\n      <th>tic</th>\n      <td>0.0</td>\n    </tr>\n    <tr>\n      <th>year</th>\n      <td>0.0</td>\n    </tr>\n    <tr>\n      <th>quarter</th>\n      <td>0.0</td>\n    </tr>\n    <tr>\n      <th>datadate</th>\n      <td>0.0</td>\n    </tr>\n    <tr>\n      <th>current_ratio</th>\n      <td>0.0</td>\n    </tr>\n    <tr>\n      <th>quick_ratio</th>\n      <td>0.0</td>\n    </tr>\n    <tr>\n      <th>cash_ratio</th>\n      <td>0.0</td>\n    </tr>\n    <tr>\n      <th>net_working_capital</th>\n      <td>0.0</td>\n    </tr>\n    <tr>\n      <th>debt_ratio</th>\n      <td>0.0</td>\n    </tr>\n    <tr>\n      <th>debt_to_equity_ratio</th>\n      <td>0.0</td>\n    </tr>\n    <tr>\n      <th>equity_ratio</th>\n      <td>0.0</td>\n    </tr>\n    <tr>\n      <th>cashflow_to_debt_ratio</th>\n      <td>0.0</td>\n    </tr>\n    <tr>\n      <th>net_profit_margin</th>\n      <td>0.0</td>\n    </tr>\n    <tr>\n      <th>return_on_assets</th>\n      <td>0.0</td>\n    </tr>\n    <tr>\n      <th>asset_turnover</th>\n      <td>0.0</td>\n    </tr>\n    <tr>\n      <th>inventory_turnover</th>\n      <td>0.0</td>\n    </tr>\n    <tr>\n      <th>days_in_inventory</th>\n      <td>0.0</td>\n    </tr>\n    <tr>\n      <th>receivables_turnover</th>\n      <td>0.0</td>\n    </tr>\n    <tr>\n      <th>day_sales_outstanding</th>\n      <td>0.0</td>\n    </tr>\n    <tr>\n      <th>working_capital_turnover</th>\n      <td>0.0</td>\n    </tr>\n    <tr>\n      <th>price_to_earnings</th>\n      <td>0.0</td>\n    </tr>\n    <tr>\n      <th>dividend_payout_ratio</th>\n      <td>0.0</td>\n    </tr>\n    <tr>\n      <th>retention_ratio</th>\n      <td>0.0</td>\n    </tr>\n    <tr>\n      <th>gross_margin_ratio</th>\n      <td>0.0</td>\n    </tr>\n    <tr>\n      <th>operating_profit_margin</th>\n      <td>0.0</td>\n    </tr>\n    <tr>\n      <th>ebitda_margin</th>\n      <td>0.0</td>\n    </tr>\n    <tr>\n      <th>debt_service_coverage_ratio</th>\n      <td>0.0</td>\n    </tr>\n    <tr>\n      <th>interest_coverage_ratio</th>\n      <td>0.0</td>\n    </tr>\n  </tbody>\n</table>\n</div>"
     },
     "execution_count": 50,
     "metadata": {},
     "output_type": "execute_result"
    }
   ],
   "source": [
    "inf_breakdown = pd.DataFrame()\n",
    "inf_breakdown['pct_inf'] = (100 * df_without_inf.isin([float('inf'), float('-inf')]).sum()) / len(df_without_inf)\n",
    "inf_breakdown"
   ],
   "metadata": {
    "collapsed": false,
    "ExecuteTime": {
     "end_time": "2023-11-03T10:08:45.986368Z",
     "start_time": "2023-11-03T10:08:43.656472Z"
    }
   },
   "id": "f2d4c9e0001af7af"
  },
  {
   "cell_type": "code",
   "execution_count": 51,
   "outputs": [
    {
     "data": {
      "text/plain": "   gvkey   sic  tic  year  quarter   datadate  current_ratio  quick_ratio  \\\n0   1004  5080  AIR  2000        1 2000-02-29       2.981531     1.176928   \n1   1004  5080  AIR  2000        2 2000-05-31       3.120983     1.069792   \n2   1004  5080  AIR  2000        3 2000-08-31       3.032279     0.989191   \n3   1004  5080  AIR  2000        4 2000-11-30       2.718261     0.897575   \n4   1004  5080  AIR  2001        1 2001-02-28       3.136912     1.025058   \n\n   cash_ratio  net_working_capital  ...  day_sales_outstanding  \\\n0   -0.021609              350.202  ...                    NaN   \n1   -0.042786              347.451  ...             531.051575   \n2   -0.003399              341.996  ...             513.171702   \n3    0.009653              325.382  ...             594.639896   \n4   -0.002824              358.685  ...             637.845577   \n\n   working_capital_turnover  price_to_earnings  dividend_payout_ratio  \\\n0                       NaN          59.375000               0.212500   \n1                  0.645246         154.166667               0.944444   \n2                  0.701345          93.750000               0.708333   \n3                  0.633329          64.843750               0.531250   \n4                  0.584946          68.000000               0.425000   \n\n   retention_ratio  gross_margin_ratio  operating_profit_margin  \\\n0         0.787500           18.234795               -72.491564   \n1         0.055556           18.944015               -75.280235   \n2         0.291667           16.176118               -77.799562   \n3         0.468750           18.857738               -73.583647   \n4         0.575000           20.259808               -71.119752   \n\n   ebitda_margin  debt_service_coverage_ratio  interest_coverage_ratio  \n0     -70.807951                    -0.958372                 4.223950  \n1     -73.157425                    -0.819497                 2.287927  \n2     -75.858047                    -0.823112                 2.432365  \n3     -71.446755                    -0.674333                 2.793634  \n4     -68.726602                    -0.619269                 3.174489  \n\n[5 rows x 30 columns]",
      "text/html": "<div>\n<style scoped>\n    .dataframe tbody tr th:only-of-type {\n        vertical-align: middle;\n    }\n\n    .dataframe tbody tr th {\n        vertical-align: top;\n    }\n\n    .dataframe thead th {\n        text-align: right;\n    }\n</style>\n<table border=\"1\" class=\"dataframe\">\n  <thead>\n    <tr style=\"text-align: right;\">\n      <th></th>\n      <th>gvkey</th>\n      <th>sic</th>\n      <th>tic</th>\n      <th>year</th>\n      <th>quarter</th>\n      <th>datadate</th>\n      <th>current_ratio</th>\n      <th>quick_ratio</th>\n      <th>cash_ratio</th>\n      <th>net_working_capital</th>\n      <th>...</th>\n      <th>day_sales_outstanding</th>\n      <th>working_capital_turnover</th>\n      <th>price_to_earnings</th>\n      <th>dividend_payout_ratio</th>\n      <th>retention_ratio</th>\n      <th>gross_margin_ratio</th>\n      <th>operating_profit_margin</th>\n      <th>ebitda_margin</th>\n      <th>debt_service_coverage_ratio</th>\n      <th>interest_coverage_ratio</th>\n    </tr>\n  </thead>\n  <tbody>\n    <tr>\n      <th>0</th>\n      <td>1004</td>\n      <td>5080</td>\n      <td>AIR</td>\n      <td>2000</td>\n      <td>1</td>\n      <td>2000-02-29</td>\n      <td>2.981531</td>\n      <td>1.176928</td>\n      <td>-0.021609</td>\n      <td>350.202</td>\n      <td>...</td>\n      <td>NaN</td>\n      <td>NaN</td>\n      <td>59.375000</td>\n      <td>0.212500</td>\n      <td>0.787500</td>\n      <td>18.234795</td>\n      <td>-72.491564</td>\n      <td>-70.807951</td>\n      <td>-0.958372</td>\n      <td>4.223950</td>\n    </tr>\n    <tr>\n      <th>1</th>\n      <td>1004</td>\n      <td>5080</td>\n      <td>AIR</td>\n      <td>2000</td>\n      <td>2</td>\n      <td>2000-05-31</td>\n      <td>3.120983</td>\n      <td>1.069792</td>\n      <td>-0.042786</td>\n      <td>347.451</td>\n      <td>...</td>\n      <td>531.051575</td>\n      <td>0.645246</td>\n      <td>154.166667</td>\n      <td>0.944444</td>\n      <td>0.055556</td>\n      <td>18.944015</td>\n      <td>-75.280235</td>\n      <td>-73.157425</td>\n      <td>-0.819497</td>\n      <td>2.287927</td>\n    </tr>\n    <tr>\n      <th>2</th>\n      <td>1004</td>\n      <td>5080</td>\n      <td>AIR</td>\n      <td>2000</td>\n      <td>3</td>\n      <td>2000-08-31</td>\n      <td>3.032279</td>\n      <td>0.989191</td>\n      <td>-0.003399</td>\n      <td>341.996</td>\n      <td>...</td>\n      <td>513.171702</td>\n      <td>0.701345</td>\n      <td>93.750000</td>\n      <td>0.708333</td>\n      <td>0.291667</td>\n      <td>16.176118</td>\n      <td>-77.799562</td>\n      <td>-75.858047</td>\n      <td>-0.823112</td>\n      <td>2.432365</td>\n    </tr>\n    <tr>\n      <th>3</th>\n      <td>1004</td>\n      <td>5080</td>\n      <td>AIR</td>\n      <td>2000</td>\n      <td>4</td>\n      <td>2000-11-30</td>\n      <td>2.718261</td>\n      <td>0.897575</td>\n      <td>0.009653</td>\n      <td>325.382</td>\n      <td>...</td>\n      <td>594.639896</td>\n      <td>0.633329</td>\n      <td>64.843750</td>\n      <td>0.531250</td>\n      <td>0.468750</td>\n      <td>18.857738</td>\n      <td>-73.583647</td>\n      <td>-71.446755</td>\n      <td>-0.674333</td>\n      <td>2.793634</td>\n    </tr>\n    <tr>\n      <th>4</th>\n      <td>1004</td>\n      <td>5080</td>\n      <td>AIR</td>\n      <td>2001</td>\n      <td>1</td>\n      <td>2001-02-28</td>\n      <td>3.136912</td>\n      <td>1.025058</td>\n      <td>-0.002824</td>\n      <td>358.685</td>\n      <td>...</td>\n      <td>637.845577</td>\n      <td>0.584946</td>\n      <td>68.000000</td>\n      <td>0.425000</td>\n      <td>0.575000</td>\n      <td>20.259808</td>\n      <td>-71.119752</td>\n      <td>-68.726602</td>\n      <td>-0.619269</td>\n      <td>3.174489</td>\n    </tr>\n  </tbody>\n</table>\n<p>5 rows × 30 columns</p>\n</div>"
     },
     "execution_count": 51,
     "metadata": {},
     "output_type": "execute_result"
    }
   ],
   "source": [
    "df_without_inf.head()"
   ],
   "metadata": {
    "collapsed": false,
    "ExecuteTime": {
     "end_time": "2023-11-03T10:09:04.496782Z",
     "start_time": "2023-11-03T10:09:04.488802Z"
    }
   },
   "id": "d03bde2a957d3b59"
  },
  {
   "cell_type": "code",
   "execution_count": 58,
   "outputs": [],
   "source": [
    "df_without_inf['sic_2']  = df['sic'].astype(str).str[:2].astype(int) # use major SIC group"
   ],
   "metadata": {
    "collapsed": false,
    "ExecuteTime": {
     "end_time": "2023-11-03T10:14:02.488052Z",
     "start_time": "2023-11-03T10:14:02.049647Z"
    }
   },
   "id": "1172f485f8fd68d"
  },
  {
   "cell_type": "code",
   "execution_count": 59,
   "id": "60e9cfeb22f9a10b",
   "metadata": {
    "collapsed": false,
    "ExecuteTime": {
     "end_time": "2023-11-03T10:14:14.035988Z",
     "start_time": "2023-11-03T10:14:13.705382Z"
    }
   },
   "outputs": [
    {
     "data": {
      "text/plain": "                      gvkey     sic  current_ratio  quick_ratio  cash_ratio  \\\nsic_2 year quarter                                                            \n10    2000 1        26748.0  1040.0       2.027228     1.337097   -0.008772   \n           2        26837.0  1040.0       2.235176     1.330361   -0.014108   \n           3        26906.0  1040.0       1.885593     1.287574   -0.015638   \n           4        26910.0  1040.0       1.567034     1.266471   -0.025805   \n      2001 1        27309.0  1040.0       1.650396     1.168624   -0.011111   \n...                     ...     ...            ...          ...         ...   \n99    2022 2        37182.5  9995.0       0.343192     0.343192   -0.011795   \n           3        37493.0  9995.0       0.364865     0.364865   -0.001933   \n           4        37412.5  9995.0       0.298987     0.298987   -0.006556   \n      2023 1        37548.0  9995.0       0.465569     0.465569   -0.011681   \n           2        37543.0  9995.0       0.320375     0.320375    0.000000   \n\n                    net_working_capital  debt_ratio  debt_to_equity_ratio  \\\nsic_2 year quarter                                                          \n10    2000 1                     1.2575    0.034892              0.004476   \n           2                     0.6945    0.035794              0.003925   \n           3                     0.5640    0.032941              0.003043   \n           4                     0.4460    0.048032              0.010961   \n      2001 1                     0.4030    0.039936              0.005299   \n...                                 ...         ...                   ...   \n99    2022 2                    -0.1665    0.005729              0.000000   \n           3                    -0.2290    0.062021             -0.000000   \n           4                    -0.1845    0.130641              0.000000   \n      2023 1                    -0.3430    0.170179              0.000000   \n           2                    -0.5710    0.116739              0.000000   \n\n                    equity_ratio  cashflow_to_debt_ratio  ...  \\\nsic_2 year quarter                                        ...   \n10    2000 1            0.742389               -0.226882  ...   \n           2            0.738709               -0.342188  ...   \n           3            0.777583               -0.492892  ...   \n           4            0.695705               -0.576022  ...   \n      2001 1            0.710131               -0.275648  ...   \n...                          ...                     ...  ...   \n99    2022 2            0.570273               -0.579582  ...   \n           3            0.504746               -0.739426  ...   \n           4            0.292845               -0.725869  ...   \n      2023 1            0.189131               -0.221521  ...   \n           2            0.152877               -0.385170  ...   \n\n                    day_sales_outstanding  working_capital_turnover  \\\nsic_2 year quarter                                                    \n10    2000 1                   140.100516                       0.0   \n           2                   197.003250                      -0.0   \n           3                   226.385111                       0.0   \n           4                   217.759814                      -0.0   \n      2001 1                   256.164684                       0.0   \n...                                   ...                       ...   \n99    2022 2                   225.204959                      -0.0   \n           3                   182.144371                      -0.0   \n           4                   205.573019                       0.0   \n      2023 1                   230.792775                      -0.0   \n           2                   155.115823                      -0.0   \n\n                    price_to_earnings  dividend_payout_ratio  retention_ratio  \\\nsic_2 year quarter                                                              \n10    2000 1                -6.280096                   -0.0              1.0   \n           2                -6.000000                   -0.0              1.0   \n           3                -3.390444                   -0.0              1.0   \n           4                -3.000000                    0.0              1.0   \n      2001 1                -4.500000                    0.0              1.0   \n...                               ...                    ...              ...   \n99    2022 2                18.444444                    0.0              1.0   \n           3                12.500000                   -0.0              1.0   \n           4                -0.238107                   -0.0              1.0   \n      2023 1                -0.746429                   -0.0              1.0   \n           2                12.965753                    0.0              1.0   \n\n                    gross_margin_ratio  operating_profit_margin  \\\nsic_2 year quarter                                                \n10    2000 1                 14.571308              -21892500.0   \n           2                 13.692438                 -72500.0   \n           3                 15.413116              -21892500.0   \n           4                -57.955072              -21892500.0   \n      2001 1                 15.270372              -21892500.0   \n...                                ...                      ...   \n99    2022 2                 27.007972              -21892500.0   \n           3                 27.878105              -21892500.0   \n           4                 29.469743              -21892500.0   \n      2023 1                 26.995015              -21892500.0   \n           2                 29.595345              -21892500.0   \n\n                    ebitda_margin  debt_service_coverage_ratio  \\\nsic_2 year quarter                                               \n10    2000 1        -2.185540e+07                    -0.983638   \n           2        -3.958571e+04                    -1.076507   \n           3        -2.185540e+07                    -1.325559   \n           4        -2.185540e+07                    -3.983498   \n      2001 1        -2.185540e+07                    -1.354348   \n...                           ...                          ...   \n99    2022 2        -2.185540e+07                    -0.799600   \n           3        -2.185540e+07                    -0.745410   \n           4        -2.185540e+07                    -0.656031   \n      2023 1        -2.185540e+07                    -0.664269   \n           2        -2.185540e+07                    -0.454000   \n\n                    interest_coverage_ratio  \nsic_2 year quarter                           \n10    2000 1                      -8.571429  \n           2                     -12.836145  \n           3                     -11.666667  \n           4                     -57.583333  \n      2001 1                     -34.217391  \n...                                     ...  \n99    2022 2                 -297211.000000  \n           3                 -297211.000000  \n           4                 -297211.000000  \n      2023 1                    -125.000000  \n           2                     -56.681818  \n\n[6227 rows x 26 columns]",
      "text/html": "<div>\n<style scoped>\n    .dataframe tbody tr th:only-of-type {\n        vertical-align: middle;\n    }\n\n    .dataframe tbody tr th {\n        vertical-align: top;\n    }\n\n    .dataframe thead th {\n        text-align: right;\n    }\n</style>\n<table border=\"1\" class=\"dataframe\">\n  <thead>\n    <tr style=\"text-align: right;\">\n      <th></th>\n      <th></th>\n      <th></th>\n      <th>gvkey</th>\n      <th>sic</th>\n      <th>current_ratio</th>\n      <th>quick_ratio</th>\n      <th>cash_ratio</th>\n      <th>net_working_capital</th>\n      <th>debt_ratio</th>\n      <th>debt_to_equity_ratio</th>\n      <th>equity_ratio</th>\n      <th>cashflow_to_debt_ratio</th>\n      <th>...</th>\n      <th>day_sales_outstanding</th>\n      <th>working_capital_turnover</th>\n      <th>price_to_earnings</th>\n      <th>dividend_payout_ratio</th>\n      <th>retention_ratio</th>\n      <th>gross_margin_ratio</th>\n      <th>operating_profit_margin</th>\n      <th>ebitda_margin</th>\n      <th>debt_service_coverage_ratio</th>\n      <th>interest_coverage_ratio</th>\n    </tr>\n    <tr>\n      <th>sic_2</th>\n      <th>year</th>\n      <th>quarter</th>\n      <th></th>\n      <th></th>\n      <th></th>\n      <th></th>\n      <th></th>\n      <th></th>\n      <th></th>\n      <th></th>\n      <th></th>\n      <th></th>\n      <th></th>\n      <th></th>\n      <th></th>\n      <th></th>\n      <th></th>\n      <th></th>\n      <th></th>\n      <th></th>\n      <th></th>\n      <th></th>\n      <th></th>\n    </tr>\n  </thead>\n  <tbody>\n    <tr>\n      <th rowspan=\"5\" valign=\"top\">10</th>\n      <th rowspan=\"4\" valign=\"top\">2000</th>\n      <th>1</th>\n      <td>26748.0</td>\n      <td>1040.0</td>\n      <td>2.027228</td>\n      <td>1.337097</td>\n      <td>-0.008772</td>\n      <td>1.2575</td>\n      <td>0.034892</td>\n      <td>0.004476</td>\n      <td>0.742389</td>\n      <td>-0.226882</td>\n      <td>...</td>\n      <td>140.100516</td>\n      <td>0.0</td>\n      <td>-6.280096</td>\n      <td>-0.0</td>\n      <td>1.0</td>\n      <td>14.571308</td>\n      <td>-21892500.0</td>\n      <td>-2.185540e+07</td>\n      <td>-0.983638</td>\n      <td>-8.571429</td>\n    </tr>\n    <tr>\n      <th>2</th>\n      <td>26837.0</td>\n      <td>1040.0</td>\n      <td>2.235176</td>\n      <td>1.330361</td>\n      <td>-0.014108</td>\n      <td>0.6945</td>\n      <td>0.035794</td>\n      <td>0.003925</td>\n      <td>0.738709</td>\n      <td>-0.342188</td>\n      <td>...</td>\n      <td>197.003250</td>\n      <td>-0.0</td>\n      <td>-6.000000</td>\n      <td>-0.0</td>\n      <td>1.0</td>\n      <td>13.692438</td>\n      <td>-72500.0</td>\n      <td>-3.958571e+04</td>\n      <td>-1.076507</td>\n      <td>-12.836145</td>\n    </tr>\n    <tr>\n      <th>3</th>\n      <td>26906.0</td>\n      <td>1040.0</td>\n      <td>1.885593</td>\n      <td>1.287574</td>\n      <td>-0.015638</td>\n      <td>0.5640</td>\n      <td>0.032941</td>\n      <td>0.003043</td>\n      <td>0.777583</td>\n      <td>-0.492892</td>\n      <td>...</td>\n      <td>226.385111</td>\n      <td>0.0</td>\n      <td>-3.390444</td>\n      <td>-0.0</td>\n      <td>1.0</td>\n      <td>15.413116</td>\n      <td>-21892500.0</td>\n      <td>-2.185540e+07</td>\n      <td>-1.325559</td>\n      <td>-11.666667</td>\n    </tr>\n    <tr>\n      <th>4</th>\n      <td>26910.0</td>\n      <td>1040.0</td>\n      <td>1.567034</td>\n      <td>1.266471</td>\n      <td>-0.025805</td>\n      <td>0.4460</td>\n      <td>0.048032</td>\n      <td>0.010961</td>\n      <td>0.695705</td>\n      <td>-0.576022</td>\n      <td>...</td>\n      <td>217.759814</td>\n      <td>-0.0</td>\n      <td>-3.000000</td>\n      <td>0.0</td>\n      <td>1.0</td>\n      <td>-57.955072</td>\n      <td>-21892500.0</td>\n      <td>-2.185540e+07</td>\n      <td>-3.983498</td>\n      <td>-57.583333</td>\n    </tr>\n    <tr>\n      <th>2001</th>\n      <th>1</th>\n      <td>27309.0</td>\n      <td>1040.0</td>\n      <td>1.650396</td>\n      <td>1.168624</td>\n      <td>-0.011111</td>\n      <td>0.4030</td>\n      <td>0.039936</td>\n      <td>0.005299</td>\n      <td>0.710131</td>\n      <td>-0.275648</td>\n      <td>...</td>\n      <td>256.164684</td>\n      <td>0.0</td>\n      <td>-4.500000</td>\n      <td>0.0</td>\n      <td>1.0</td>\n      <td>15.270372</td>\n      <td>-21892500.0</td>\n      <td>-2.185540e+07</td>\n      <td>-1.354348</td>\n      <td>-34.217391</td>\n    </tr>\n    <tr>\n      <th>...</th>\n      <th>...</th>\n      <th>...</th>\n      <td>...</td>\n      <td>...</td>\n      <td>...</td>\n      <td>...</td>\n      <td>...</td>\n      <td>...</td>\n      <td>...</td>\n      <td>...</td>\n      <td>...</td>\n      <td>...</td>\n      <td>...</td>\n      <td>...</td>\n      <td>...</td>\n      <td>...</td>\n      <td>...</td>\n      <td>...</td>\n      <td>...</td>\n      <td>...</td>\n      <td>...</td>\n      <td>...</td>\n      <td>...</td>\n    </tr>\n    <tr>\n      <th rowspan=\"5\" valign=\"top\">99</th>\n      <th rowspan=\"3\" valign=\"top\">2022</th>\n      <th>2</th>\n      <td>37182.5</td>\n      <td>9995.0</td>\n      <td>0.343192</td>\n      <td>0.343192</td>\n      <td>-0.011795</td>\n      <td>-0.1665</td>\n      <td>0.005729</td>\n      <td>0.000000</td>\n      <td>0.570273</td>\n      <td>-0.579582</td>\n      <td>...</td>\n      <td>225.204959</td>\n      <td>-0.0</td>\n      <td>18.444444</td>\n      <td>0.0</td>\n      <td>1.0</td>\n      <td>27.007972</td>\n      <td>-21892500.0</td>\n      <td>-2.185540e+07</td>\n      <td>-0.799600</td>\n      <td>-297211.000000</td>\n    </tr>\n    <tr>\n      <th>3</th>\n      <td>37493.0</td>\n      <td>9995.0</td>\n      <td>0.364865</td>\n      <td>0.364865</td>\n      <td>-0.001933</td>\n      <td>-0.2290</td>\n      <td>0.062021</td>\n      <td>-0.000000</td>\n      <td>0.504746</td>\n      <td>-0.739426</td>\n      <td>...</td>\n      <td>182.144371</td>\n      <td>-0.0</td>\n      <td>12.500000</td>\n      <td>-0.0</td>\n      <td>1.0</td>\n      <td>27.878105</td>\n      <td>-21892500.0</td>\n      <td>-2.185540e+07</td>\n      <td>-0.745410</td>\n      <td>-297211.000000</td>\n    </tr>\n    <tr>\n      <th>4</th>\n      <td>37412.5</td>\n      <td>9995.0</td>\n      <td>0.298987</td>\n      <td>0.298987</td>\n      <td>-0.006556</td>\n      <td>-0.1845</td>\n      <td>0.130641</td>\n      <td>0.000000</td>\n      <td>0.292845</td>\n      <td>-0.725869</td>\n      <td>...</td>\n      <td>205.573019</td>\n      <td>0.0</td>\n      <td>-0.238107</td>\n      <td>-0.0</td>\n      <td>1.0</td>\n      <td>29.469743</td>\n      <td>-21892500.0</td>\n      <td>-2.185540e+07</td>\n      <td>-0.656031</td>\n      <td>-297211.000000</td>\n    </tr>\n    <tr>\n      <th rowspan=\"2\" valign=\"top\">2023</th>\n      <th>1</th>\n      <td>37548.0</td>\n      <td>9995.0</td>\n      <td>0.465569</td>\n      <td>0.465569</td>\n      <td>-0.011681</td>\n      <td>-0.3430</td>\n      <td>0.170179</td>\n      <td>0.000000</td>\n      <td>0.189131</td>\n      <td>-0.221521</td>\n      <td>...</td>\n      <td>230.792775</td>\n      <td>-0.0</td>\n      <td>-0.746429</td>\n      <td>-0.0</td>\n      <td>1.0</td>\n      <td>26.995015</td>\n      <td>-21892500.0</td>\n      <td>-2.185540e+07</td>\n      <td>-0.664269</td>\n      <td>-125.000000</td>\n    </tr>\n    <tr>\n      <th>2</th>\n      <td>37543.0</td>\n      <td>9995.0</td>\n      <td>0.320375</td>\n      <td>0.320375</td>\n      <td>0.000000</td>\n      <td>-0.5710</td>\n      <td>0.116739</td>\n      <td>0.000000</td>\n      <td>0.152877</td>\n      <td>-0.385170</td>\n      <td>...</td>\n      <td>155.115823</td>\n      <td>-0.0</td>\n      <td>12.965753</td>\n      <td>0.0</td>\n      <td>1.0</td>\n      <td>29.595345</td>\n      <td>-21892500.0</td>\n      <td>-2.185540e+07</td>\n      <td>-0.454000</td>\n      <td>-56.681818</td>\n    </tr>\n  </tbody>\n</table>\n<p>6227 rows × 26 columns</p>\n</div>"
     },
     "execution_count": 59,
     "metadata": {},
     "output_type": "execute_result"
    }
   ],
   "source": [
    "sector_date_median = df_without_inf.groupby(['sic_2', 'year', 'quarter']).median()\n",
    "sector_date_median"
   ]
  },
  {
   "cell_type": "code",
   "execution_count": 62,
   "id": "1b8254cad68aa301",
   "metadata": {
    "collapsed": false,
    "ExecuteTime": {
     "end_time": "2023-11-03T10:19:58.458743Z",
     "start_time": "2023-11-03T10:19:58.445053Z"
    }
   },
   "outputs": [
    {
     "data": {
      "text/plain": "['current_ratio',\n 'quick_ratio',\n 'cash_ratio',\n 'net_working_capital',\n 'debt_ratio',\n 'debt_to_equity_ratio',\n 'equity_ratio',\n 'cashflow_to_debt_ratio',\n 'net_profit_margin',\n 'return_on_assets',\n 'asset_turnover',\n 'inventory_turnover',\n 'days_in_inventory',\n 'receivables_turnover',\n 'day_sales_outstanding',\n 'working_capital_turnover',\n 'price_to_earnings',\n 'dividend_payout_ratio',\n 'retention_ratio',\n 'gross_margin_ratio',\n 'operating_profit_margin',\n 'ebitda_margin',\n 'debt_service_coverage_ratio',\n 'interest_coverage_ratio']"
     },
     "execution_count": 62,
     "metadata": {},
     "output_type": "execute_result"
    }
   ],
   "source": [
    "cols_to_check = [col for col in df_without_inf.columns if col not in ['datadate', 'year', 'quarter', 'sic', 'gvkey', 'tic', 'sic_2']]\n",
    "cols_to_check"
   ]
  },
  {
   "cell_type": "code",
   "execution_count": 61,
   "id": "fb6659f626cdd823",
   "metadata": {
    "collapsed": false,
    "ExecuteTime": {
     "end_time": "2023-11-03T10:14:57.995313Z",
     "start_time": "2023-11-03T10:14:57.976824Z"
    }
   },
   "outputs": [],
   "source": [
    "import numpy as np\n",
    "def fill_with_median(x):\n",
    "    sic = x['sic_2']\n",
    "    year = x['year']\n",
    "    quarter = x['quarter']\n",
    "    for col in cols_to_check: \n",
    "        if np.isnan(x[col]): \n",
    "            median = sector_date_median[sector_date_median.index == (sic,year,quarter)][col].iloc[0]\n",
    "            x[col] = median\n",
    "    return x"
   ]
  },
  {
   "cell_type": "code",
   "execution_count": 63,
   "outputs": [
    {
     "name": "stdout",
     "output_type": "stream",
     "text": [
      "INFO: Pandarallel will run on 10 workers.\n",
      "INFO: Pandarallel will use standard multiprocessing data transfer (pipe) to transfer data between the main process and workers.\n"
     ]
    }
   ],
   "source": [
    "from pandarallel import pandarallel\n",
    "pandarallel.initialize()\n",
    "df_inputed = df_without_inf.parallel_apply(fill_with_median, axis=1)"
   ],
   "metadata": {
    "collapsed": false,
    "ExecuteTime": {
     "end_time": "2023-11-03T10:26:21.543312Z",
     "start_time": "2023-11-03T10:22:55.698810Z"
    }
   },
   "id": "d65ed2ab2284eb2a"
  },
  {
   "cell_type": "code",
   "execution_count": 65,
   "id": "8fd6b7446589c93d",
   "metadata": {
    "collapsed": false,
    "ExecuteTime": {
     "end_time": "2023-11-03T10:37:05.105240Z",
     "start_time": "2023-11-03T10:37:04.893325Z"
    }
   },
   "outputs": [
    {
     "data": {
      "text/plain": "                             pct_nan_before_sector_inpute  \\\ndatadate                                         0.000000   \ngvkey                                            0.000000   \ntic                                              0.022995   \nsic                                              0.000000   \ncurrent_ratio                                   17.390932   \nquick_ratio                                     18.483870   \ncash_ratio                                      18.525577   \nnet_working_capital                             17.353787   \ndebt_ratio                                       8.907723   \ndebt_to_equity_ratio                             9.064216   \nequity_ratio                                     5.069780   \ncashflow_to_debt_ratio                          11.808663   \nnet_profit_margin                                8.826637   \nreturn_on_assets                                 5.143232   \nasset_turnover                                  13.043478   \ninventory_turnover                              17.216937   \ndays_in_inventory                               17.216937   \nreceivables_turnover                            22.149494   \nday_sales_outstanding                           22.149494   \nworking_capital_turnover                        19.646257   \nprice_to_earnings                               10.492669   \ndividend_payout_ratio                           14.885460   \nretention_ratio                                 14.885460   \ngross_margin_ratio                              16.633695   \noperating_profit_margin                          9.491337   \nebitda_margin                                   15.245366   \ndebt_service_coverage_ratio                     15.316584   \ninterest_coverage_ratio                         22.883829   \nyear                                             0.000000   \nquarter                                          0.000000   \n\n                             pct_nan_after_sector_inpute  \ndatadate                                        0.000000  \ngvkey                                           0.000000  \ntic                                             0.022995  \nsic                                             0.000000  \ncurrent_ratio                                   0.002048  \nquick_ratio                                     0.002048  \ncash_ratio                                      0.002234  \nnet_working_capital                             0.002048  \ndebt_ratio                                      0.002793  \ndebt_to_equity_ratio                            0.002793  \nequity_ratio                                    0.001490  \ncashflow_to_debt_ratio                          0.003258  \nnet_profit_margin                               0.000838  \nreturn_on_assets                                0.001490  \nasset_turnover                                  0.002234  \ninventory_turnover                              0.002793  \ndays_in_inventory                               0.002793  \nreceivables_turnover                            0.002234  \nday_sales_outstanding                           0.002234  \nworking_capital_turnover                        0.002793  \nprice_to_earnings                               0.002048  \ndividend_payout_ratio                           0.002141  \nretention_ratio                                 0.002141  \ngross_margin_ratio                              0.001303  \noperating_profit_margin                         0.001210  \nebitda_margin                                   0.001210  \ndebt_service_coverage_ratio                     0.002979  \ninterest_coverage_ratio                         0.004003  \nyear                                            0.000000  \nquarter                                         0.000000  ",
      "text/html": "<div>\n<style scoped>\n    .dataframe tbody tr th:only-of-type {\n        vertical-align: middle;\n    }\n\n    .dataframe tbody tr th {\n        vertical-align: top;\n    }\n\n    .dataframe thead th {\n        text-align: right;\n    }\n</style>\n<table border=\"1\" class=\"dataframe\">\n  <thead>\n    <tr style=\"text-align: right;\">\n      <th></th>\n      <th>pct_nan_before_sector_inpute</th>\n      <th>pct_nan_after_sector_inpute</th>\n    </tr>\n  </thead>\n  <tbody>\n    <tr>\n      <th>datadate</th>\n      <td>0.000000</td>\n      <td>0.000000</td>\n    </tr>\n    <tr>\n      <th>gvkey</th>\n      <td>0.000000</td>\n      <td>0.000000</td>\n    </tr>\n    <tr>\n      <th>tic</th>\n      <td>0.022995</td>\n      <td>0.022995</td>\n    </tr>\n    <tr>\n      <th>sic</th>\n      <td>0.000000</td>\n      <td>0.000000</td>\n    </tr>\n    <tr>\n      <th>current_ratio</th>\n      <td>17.390932</td>\n      <td>0.002048</td>\n    </tr>\n    <tr>\n      <th>quick_ratio</th>\n      <td>18.483870</td>\n      <td>0.002048</td>\n    </tr>\n    <tr>\n      <th>cash_ratio</th>\n      <td>18.525577</td>\n      <td>0.002234</td>\n    </tr>\n    <tr>\n      <th>net_working_capital</th>\n      <td>17.353787</td>\n      <td>0.002048</td>\n    </tr>\n    <tr>\n      <th>debt_ratio</th>\n      <td>8.907723</td>\n      <td>0.002793</td>\n    </tr>\n    <tr>\n      <th>debt_to_equity_ratio</th>\n      <td>9.064216</td>\n      <td>0.002793</td>\n    </tr>\n    <tr>\n      <th>equity_ratio</th>\n      <td>5.069780</td>\n      <td>0.001490</td>\n    </tr>\n    <tr>\n      <th>cashflow_to_debt_ratio</th>\n      <td>11.808663</td>\n      <td>0.003258</td>\n    </tr>\n    <tr>\n      <th>net_profit_margin</th>\n      <td>8.826637</td>\n      <td>0.000838</td>\n    </tr>\n    <tr>\n      <th>return_on_assets</th>\n      <td>5.143232</td>\n      <td>0.001490</td>\n    </tr>\n    <tr>\n      <th>asset_turnover</th>\n      <td>13.043478</td>\n      <td>0.002234</td>\n    </tr>\n    <tr>\n      <th>inventory_turnover</th>\n      <td>17.216937</td>\n      <td>0.002793</td>\n    </tr>\n    <tr>\n      <th>days_in_inventory</th>\n      <td>17.216937</td>\n      <td>0.002793</td>\n    </tr>\n    <tr>\n      <th>receivables_turnover</th>\n      <td>22.149494</td>\n      <td>0.002234</td>\n    </tr>\n    <tr>\n      <th>day_sales_outstanding</th>\n      <td>22.149494</td>\n      <td>0.002234</td>\n    </tr>\n    <tr>\n      <th>working_capital_turnover</th>\n      <td>19.646257</td>\n      <td>0.002793</td>\n    </tr>\n    <tr>\n      <th>price_to_earnings</th>\n      <td>10.492669</td>\n      <td>0.002048</td>\n    </tr>\n    <tr>\n      <th>dividend_payout_ratio</th>\n      <td>14.885460</td>\n      <td>0.002141</td>\n    </tr>\n    <tr>\n      <th>retention_ratio</th>\n      <td>14.885460</td>\n      <td>0.002141</td>\n    </tr>\n    <tr>\n      <th>gross_margin_ratio</th>\n      <td>16.633695</td>\n      <td>0.001303</td>\n    </tr>\n    <tr>\n      <th>operating_profit_margin</th>\n      <td>9.491337</td>\n      <td>0.001210</td>\n    </tr>\n    <tr>\n      <th>ebitda_margin</th>\n      <td>15.245366</td>\n      <td>0.001210</td>\n    </tr>\n    <tr>\n      <th>debt_service_coverage_ratio</th>\n      <td>15.316584</td>\n      <td>0.002979</td>\n    </tr>\n    <tr>\n      <th>interest_coverage_ratio</th>\n      <td>22.883829</td>\n      <td>0.004003</td>\n    </tr>\n    <tr>\n      <th>year</th>\n      <td>0.000000</td>\n      <td>0.000000</td>\n    </tr>\n    <tr>\n      <th>quarter</th>\n      <td>0.000000</td>\n      <td>0.000000</td>\n    </tr>\n  </tbody>\n</table>\n</div>"
     },
     "execution_count": 65,
     "metadata": {},
     "output_type": "execute_result"
    }
   ],
   "source": [
    "nan_breakdown = pd.DataFrame()\n",
    "nan_breakdown['pct_nan_before_sector_inpute'] = (df_with_ratios_dropped_gvkey_v2.isna().sum() / len(df_with_ratios)) * 100\n",
    "nan_breakdown['pct_nan_after_sector_inpute'] = (df_inputed.isna().sum() / len(df_with_ratios)) * 100\n",
    "nan_breakdown"
   ]
  },
  {
   "cell_type": "code",
   "execution_count": 66,
   "id": "ff6bbcc584663042",
   "metadata": {
    "collapsed": false,
    "ExecuteTime": {
     "end_time": "2023-11-03T10:37:58.845343Z",
     "start_time": "2023-11-03T10:37:58.601959Z"
    }
   },
   "outputs": [],
   "source": [
    "df_inputed.ffill(limit=4, inplace=True)\n",
    "df_inputed.dropna(inplace=True)"
   ]
  },
  {
   "cell_type": "code",
   "execution_count": 68,
   "id": "e2a01855971f9374",
   "metadata": {
    "collapsed": false,
    "ExecuteTime": {
     "end_time": "2023-11-03T10:38:59.519701Z",
     "start_time": "2023-11-03T10:38:59.420783Z"
    }
   },
   "outputs": [
    {
     "data": {
      "text/plain": "                             pct_nan\ngvkey                            0.0\nsic                              0.0\ntic                              0.0\nyear                             0.0\nquarter                          0.0\ndatadate                         0.0\ncurrent_ratio                    0.0\nquick_ratio                      0.0\ncash_ratio                       0.0\nnet_working_capital              0.0\ndebt_ratio                       0.0\ndebt_to_equity_ratio             0.0\nequity_ratio                     0.0\ncashflow_to_debt_ratio           0.0\nnet_profit_margin                0.0\nreturn_on_assets                 0.0\nasset_turnover                   0.0\ninventory_turnover               0.0\ndays_in_inventory                0.0\nreceivables_turnover             0.0\nday_sales_outstanding            0.0\nworking_capital_turnover         0.0\nprice_to_earnings                0.0\ndividend_payout_ratio            0.0\nretention_ratio                  0.0\ngross_margin_ratio               0.0\noperating_profit_margin          0.0\nebitda_margin                    0.0\ndebt_service_coverage_ratio      0.0\ninterest_coverage_ratio          0.0\nsic_2                            0.0",
      "text/html": "<div>\n<style scoped>\n    .dataframe tbody tr th:only-of-type {\n        vertical-align: middle;\n    }\n\n    .dataframe tbody tr th {\n        vertical-align: top;\n    }\n\n    .dataframe thead th {\n        text-align: right;\n    }\n</style>\n<table border=\"1\" class=\"dataframe\">\n  <thead>\n    <tr style=\"text-align: right;\">\n      <th></th>\n      <th>pct_nan</th>\n    </tr>\n  </thead>\n  <tbody>\n    <tr>\n      <th>gvkey</th>\n      <td>0.0</td>\n    </tr>\n    <tr>\n      <th>sic</th>\n      <td>0.0</td>\n    </tr>\n    <tr>\n      <th>tic</th>\n      <td>0.0</td>\n    </tr>\n    <tr>\n      <th>year</th>\n      <td>0.0</td>\n    </tr>\n    <tr>\n      <th>quarter</th>\n      <td>0.0</td>\n    </tr>\n    <tr>\n      <th>datadate</th>\n      <td>0.0</td>\n    </tr>\n    <tr>\n      <th>current_ratio</th>\n      <td>0.0</td>\n    </tr>\n    <tr>\n      <th>quick_ratio</th>\n      <td>0.0</td>\n    </tr>\n    <tr>\n      <th>cash_ratio</th>\n      <td>0.0</td>\n    </tr>\n    <tr>\n      <th>net_working_capital</th>\n      <td>0.0</td>\n    </tr>\n    <tr>\n      <th>debt_ratio</th>\n      <td>0.0</td>\n    </tr>\n    <tr>\n      <th>debt_to_equity_ratio</th>\n      <td>0.0</td>\n    </tr>\n    <tr>\n      <th>equity_ratio</th>\n      <td>0.0</td>\n    </tr>\n    <tr>\n      <th>cashflow_to_debt_ratio</th>\n      <td>0.0</td>\n    </tr>\n    <tr>\n      <th>net_profit_margin</th>\n      <td>0.0</td>\n    </tr>\n    <tr>\n      <th>return_on_assets</th>\n      <td>0.0</td>\n    </tr>\n    <tr>\n      <th>asset_turnover</th>\n      <td>0.0</td>\n    </tr>\n    <tr>\n      <th>inventory_turnover</th>\n      <td>0.0</td>\n    </tr>\n    <tr>\n      <th>days_in_inventory</th>\n      <td>0.0</td>\n    </tr>\n    <tr>\n      <th>receivables_turnover</th>\n      <td>0.0</td>\n    </tr>\n    <tr>\n      <th>day_sales_outstanding</th>\n      <td>0.0</td>\n    </tr>\n    <tr>\n      <th>working_capital_turnover</th>\n      <td>0.0</td>\n    </tr>\n    <tr>\n      <th>price_to_earnings</th>\n      <td>0.0</td>\n    </tr>\n    <tr>\n      <th>dividend_payout_ratio</th>\n      <td>0.0</td>\n    </tr>\n    <tr>\n      <th>retention_ratio</th>\n      <td>0.0</td>\n    </tr>\n    <tr>\n      <th>gross_margin_ratio</th>\n      <td>0.0</td>\n    </tr>\n    <tr>\n      <th>operating_profit_margin</th>\n      <td>0.0</td>\n    </tr>\n    <tr>\n      <th>ebitda_margin</th>\n      <td>0.0</td>\n    </tr>\n    <tr>\n      <th>debt_service_coverage_ratio</th>\n      <td>0.0</td>\n    </tr>\n    <tr>\n      <th>interest_coverage_ratio</th>\n      <td>0.0</td>\n    </tr>\n    <tr>\n      <th>sic_2</th>\n      <td>0.0</td>\n    </tr>\n  </tbody>\n</table>\n</div>"
     },
     "execution_count": 68,
     "metadata": {},
     "output_type": "execute_result"
    }
   ],
   "source": [
    "nan_breakdown = pd.DataFrame()\n",
    "nan_breakdown['pct_nan'] = (df_inputed.isna().sum() / len(df_inputed)) * 100\n",
    "nan_breakdown"
   ]
  },
  {
   "cell_type": "code",
   "execution_count": 69,
   "outputs": [],
   "source": [
    "df_inputed.to_pickle('compustat_inputed.pkl')"
   ],
   "metadata": {
    "collapsed": false,
    "ExecuteTime": {
     "end_time": "2023-11-03T10:39:23.972362Z",
     "start_time": "2023-11-03T10:39:23.919851Z"
    }
   },
   "id": "e5d92021c5b877ee"
  },
  {
   "cell_type": "code",
   "execution_count": null,
   "outputs": [],
   "source": [],
   "metadata": {
    "collapsed": false
   },
   "id": "738ac1781af43dcb"
  }
 ],
 "metadata": {
  "kernelspec": {
   "display_name": "Python 3",
   "language": "python",
   "name": "python3"
  },
  "language_info": {
   "codemirror_mode": {
    "name": "ipython",
    "version": 3
   },
   "file_extension": ".py",
   "mimetype": "text/x-python",
   "name": "python",
   "nbconvert_exporter": "python",
   "pygments_lexer": "ipython3",
   "version": "3.10.2"
  }
 },
 "nbformat": 4,
 "nbformat_minor": 5
}
