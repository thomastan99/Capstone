{
 "cells": [
  {
   "cell_type": "code",
   "execution_count": 2,
   "metadata": {
    "ExecuteTime": {
     "end_time": "2023-11-03T10:49:29.296474Z",
     "start_time": "2023-11-03T10:49:29.098521Z"
    }
   },
   "outputs": [],
   "source": [
    "# Import all the necessary libraries\n",
    "import pandas as pd\n",
    "import datetime\n",
    "import numpy as np\n",
    "import seaborn as sns\n",
    "import plotly.express as px\n",
    "import matplotlib.pyplot as plt\n",
    "from sklearn.tree import plot_tree\n",
    "from sklearn.decomposition import PCA\n",
    "from imblearn.over_sampling import SMOTE\n",
    "from sklearn.ensemble import VotingClassifier\n",
    "from sklearn.preprocessing import RobustScaler\n",
    "from sklearn.tree import DecisionTreeClassifier\n",
    "from sklearn.ensemble import RandomForestClassifier\n",
    "from sklearn.linear_model import LogisticRegression\n",
    "from sklearn.ensemble import GradientBoostingClassifier\n",
    "from sklearn.model_selection import train_test_split, GridSearchCV\n",
    "from sklearn.metrics import accuracy_score,roc_auc_score,precision_score, recall_score, f1_score,ConfusionMatrixDisplay,classification_report\n",
    "\n",
    "\n",
    "import warnings \n",
    "warnings.filterwarnings(\"ignore\")"
   ]
  },
  {
   "cell_type": "code",
   "execution_count": 3,
   "metadata": {
    "ExecuteTime": {
     "end_time": "2023-11-03T10:49:30.157059Z",
     "start_time": "2023-11-03T10:49:29.922463Z"
    }
   },
   "outputs": [
    {
     "data": {
      "text/plain": "1253426"
     },
     "execution_count": 3,
     "metadata": {},
     "output_type": "execute_result"
    }
   ],
   "source": [
    "cri_compustat_merged = pd.read_pickle(\"cri_compustat_merged_v7.pkl\")\n",
    "cri_compustat_merged.shape[0]"
   ]
  },
  {
   "cell_type": "code",
   "execution_count": 4,
   "metadata": {
    "ExecuteTime": {
     "end_time": "2023-11-03T10:49:31.804628Z",
     "start_time": "2023-11-03T10:49:31.797200Z"
    }
   },
   "outputs": [
    {
     "data": {
      "text/plain": "0          CDSI.2\n1            DXPE\n2            ZICA\n3            XLTC\n4            MRYP\n            ...  \n1253421        DE\n1253422       WSM\n1253423       DDS\n1253424       BBY\n1253425      DXLG\nName: tic, Length: 1253426, dtype: object"
     },
     "execution_count": 4,
     "metadata": {},
     "output_type": "execute_result"
    }
   ],
   "source": [
    "cri_compustat_merged['tic']"
   ]
  },
  {
   "cell_type": "code",
   "execution_count": 5,
   "metadata": {
    "ExecuteTime": {
     "end_time": "2023-11-03T10:49:58.725949Z",
     "start_time": "2023-11-03T10:49:58.645310Z"
    }
   },
   "outputs": [
    {
     "ename": "FileNotFoundError",
     "evalue": "[Errno 2] No such file or directory: 'final_yfiance.pkl'",
     "output_type": "error",
     "traceback": [
      "\u001B[0;31m---------------------------------------------------------------------------\u001B[0m",
      "\u001B[0;31mFileNotFoundError\u001B[0m                         Traceback (most recent call last)",
      "Cell \u001B[0;32mIn[5], line 1\u001B[0m\n\u001B[0;32m----> 1\u001B[0m yfinance \u001B[38;5;241m=\u001B[39m \u001B[43mpd\u001B[49m\u001B[38;5;241;43m.\u001B[39;49m\u001B[43mread_pickle\u001B[49m\u001B[43m(\u001B[49m\u001B[38;5;124;43m\"\u001B[39;49m\u001B[38;5;124;43mfinal_yfiance.pkl\u001B[39;49m\u001B[38;5;124;43m\"\u001B[39;49m\u001B[43m)\u001B[49m\n\u001B[1;32m      2\u001B[0m yfinance\u001B[38;5;241m.\u001B[39mshape\n",
      "File \u001B[0;32m~/Documents/github/Capstone/venv/lib/python3.9/site-packages/pandas/io/pickle.py:187\u001B[0m, in \u001B[0;36mread_pickle\u001B[0;34m(filepath_or_buffer, compression, storage_options)\u001B[0m\n\u001B[1;32m    124\u001B[0m \u001B[38;5;250m\u001B[39m\u001B[38;5;124;03m\"\"\"\u001B[39;00m\n\u001B[1;32m    125\u001B[0m \u001B[38;5;124;03mLoad pickled pandas object (or any object) from file.\u001B[39;00m\n\u001B[1;32m    126\u001B[0m \n\u001B[0;32m   (...)\u001B[0m\n\u001B[1;32m    184\u001B[0m \u001B[38;5;124;03m4    4    9\u001B[39;00m\n\u001B[1;32m    185\u001B[0m \u001B[38;5;124;03m\"\"\"\u001B[39;00m  \u001B[38;5;66;03m# noqa: E501\u001B[39;00m\n\u001B[1;32m    186\u001B[0m excs_to_catch \u001B[38;5;241m=\u001B[39m (\u001B[38;5;167;01mAttributeError\u001B[39;00m, \u001B[38;5;167;01mImportError\u001B[39;00m, \u001B[38;5;167;01mModuleNotFoundError\u001B[39;00m, \u001B[38;5;167;01mTypeError\u001B[39;00m)\n\u001B[0;32m--> 187\u001B[0m \u001B[38;5;28;01mwith\u001B[39;00m \u001B[43mget_handle\u001B[49m\u001B[43m(\u001B[49m\n\u001B[1;32m    188\u001B[0m \u001B[43m    \u001B[49m\u001B[43mfilepath_or_buffer\u001B[49m\u001B[43m,\u001B[49m\n\u001B[1;32m    189\u001B[0m \u001B[43m    \u001B[49m\u001B[38;5;124;43m\"\u001B[39;49m\u001B[38;5;124;43mrb\u001B[39;49m\u001B[38;5;124;43m\"\u001B[39;49m\u001B[43m,\u001B[49m\n\u001B[1;32m    190\u001B[0m \u001B[43m    \u001B[49m\u001B[43mcompression\u001B[49m\u001B[38;5;241;43m=\u001B[39;49m\u001B[43mcompression\u001B[49m\u001B[43m,\u001B[49m\n\u001B[1;32m    191\u001B[0m \u001B[43m    \u001B[49m\u001B[43mis_text\u001B[49m\u001B[38;5;241;43m=\u001B[39;49m\u001B[38;5;28;43;01mFalse\u001B[39;49;00m\u001B[43m,\u001B[49m\n\u001B[1;32m    192\u001B[0m \u001B[43m    \u001B[49m\u001B[43mstorage_options\u001B[49m\u001B[38;5;241;43m=\u001B[39;49m\u001B[43mstorage_options\u001B[49m\u001B[43m,\u001B[49m\n\u001B[1;32m    193\u001B[0m \u001B[43m\u001B[49m\u001B[43m)\u001B[49m \u001B[38;5;28;01mas\u001B[39;00m handles:\n\u001B[1;32m    194\u001B[0m \n\u001B[1;32m    195\u001B[0m     \u001B[38;5;66;03m# 1) try standard library Pickle\u001B[39;00m\n\u001B[1;32m    196\u001B[0m     \u001B[38;5;66;03m# 2) try pickle_compat (older pandas version) to handle subclass changes\u001B[39;00m\n\u001B[1;32m    197\u001B[0m     \u001B[38;5;66;03m# 3) try pickle_compat with latin-1 encoding upon a UnicodeDecodeError\u001B[39;00m\n\u001B[1;32m    199\u001B[0m     \u001B[38;5;28;01mtry\u001B[39;00m:\n\u001B[1;32m    200\u001B[0m         \u001B[38;5;66;03m# TypeError for Cython complaints about object.__new__ vs Tick.__new__\u001B[39;00m\n\u001B[1;32m    201\u001B[0m         \u001B[38;5;28;01mtry\u001B[39;00m:\n",
      "File \u001B[0;32m~/Documents/github/Capstone/venv/lib/python3.9/site-packages/pandas/io/common.py:795\u001B[0m, in \u001B[0;36mget_handle\u001B[0;34m(path_or_buf, mode, encoding, compression, memory_map, is_text, errors, storage_options)\u001B[0m\n\u001B[1;32m    786\u001B[0m         handle \u001B[38;5;241m=\u001B[39m \u001B[38;5;28mopen\u001B[39m(\n\u001B[1;32m    787\u001B[0m             handle,\n\u001B[1;32m    788\u001B[0m             ioargs\u001B[38;5;241m.\u001B[39mmode,\n\u001B[0;32m   (...)\u001B[0m\n\u001B[1;32m    791\u001B[0m             newline\u001B[38;5;241m=\u001B[39m\u001B[38;5;124m\"\u001B[39m\u001B[38;5;124m\"\u001B[39m,\n\u001B[1;32m    792\u001B[0m         )\n\u001B[1;32m    793\u001B[0m     \u001B[38;5;28;01melse\u001B[39;00m:\n\u001B[1;32m    794\u001B[0m         \u001B[38;5;66;03m# Binary mode\u001B[39;00m\n\u001B[0;32m--> 795\u001B[0m         handle \u001B[38;5;241m=\u001B[39m \u001B[38;5;28;43mopen\u001B[39;49m\u001B[43m(\u001B[49m\u001B[43mhandle\u001B[49m\u001B[43m,\u001B[49m\u001B[43m \u001B[49m\u001B[43mioargs\u001B[49m\u001B[38;5;241;43m.\u001B[39;49m\u001B[43mmode\u001B[49m\u001B[43m)\u001B[49m\n\u001B[1;32m    796\u001B[0m     handles\u001B[38;5;241m.\u001B[39mappend(handle)\n\u001B[1;32m    798\u001B[0m \u001B[38;5;66;03m# Convert BytesIO or file objects passed with an encoding\u001B[39;00m\n",
      "\u001B[0;31mFileNotFoundError\u001B[0m: [Errno 2] No such file or directory: 'final_yfiance.pkl'"
     ]
    }
   ],
   "source": [
    "yfinance = pd.read_pickle(\"final_yfiance.pkl\")\n",
    "yfinance.shape"
   ]
  },
  {
   "cell_type": "code",
   "execution_count": 6,
   "metadata": {
    "ExecuteTime": {
     "end_time": "2023-11-03T10:49:58.815878Z",
     "start_time": "2023-11-03T10:49:58.814278Z"
    }
   },
   "outputs": [
    {
     "ename": "NameError",
     "evalue": "name 'yfinance' is not defined",
     "output_type": "error",
     "traceback": [
      "\u001B[0;31m---------------------------------------------------------------------------\u001B[0m",
      "\u001B[0;31mNameError\u001B[0m                                 Traceback (most recent call last)",
      "Cell \u001B[0;32mIn[6], line 1\u001B[0m\n\u001B[0;32m----> 1\u001B[0m yfinance \u001B[38;5;241m=\u001B[39m \u001B[43myfinance\u001B[49m\u001B[38;5;241m.\u001B[39mrename(columns\u001B[38;5;241m=\u001B[39m{\u001B[38;5;124m\"\u001B[39m\u001B[38;5;124myyyy\u001B[39m\u001B[38;5;124m\"\u001B[39m:\u001B[38;5;124m\"\u001B[39m\u001B[38;5;124myear\u001B[39m\u001B[38;5;124m\"\u001B[39m})\n\u001B[1;32m      2\u001B[0m yfinance \u001B[38;5;241m=\u001B[39m yfinance\u001B[38;5;241m.\u001B[39mrename(columns\u001B[38;5;241m=\u001B[39m{\u001B[38;5;124m\"\u001B[39m\u001B[38;5;124mmm\u001B[39m\u001B[38;5;124m\"\u001B[39m:\u001B[38;5;124m\"\u001B[39m\u001B[38;5;124mmonth\u001B[39m\u001B[38;5;124m\"\u001B[39m})\n\u001B[1;32m      3\u001B[0m yfinance\n",
      "\u001B[0;31mNameError\u001B[0m: name 'yfinance' is not defined"
     ]
    }
   ],
   "source": [
    "yfinance = yfinance.rename(columns={\"yyyy\":\"year\"})\n",
    "yfinance = yfinance.rename(columns={\"mm\":\"month\"})\n",
    "yfinance"
   ]
  },
  {
   "cell_type": "code",
   "execution_count": 7,
   "metadata": {
    "ExecuteTime": {
     "end_time": "2023-11-03T10:49:58.925648Z",
     "start_time": "2023-11-03T10:49:58.920181Z"
    }
   },
   "outputs": [
    {
     "ename": "NameError",
     "evalue": "name 'yfinance' is not defined",
     "output_type": "error",
     "traceback": [
      "\u001B[0;31m---------------------------------------------------------------------------\u001B[0m",
      "\u001B[0;31mNameError\u001B[0m                                 Traceback (most recent call last)",
      "Cell \u001B[0;32mIn[7], line 1\u001B[0m\n\u001B[0;32m----> 1\u001B[0m cri_compustat_yfinance \u001B[38;5;241m=\u001B[39m cri_compustat_merged\u001B[38;5;241m.\u001B[39mmerge(\u001B[43myfinance\u001B[49m, on\u001B[38;5;241m=\u001B[39m[\u001B[38;5;124m'\u001B[39m\u001B[38;5;124mtic\u001B[39m\u001B[38;5;124m'\u001B[39m,\u001B[38;5;124m'\u001B[39m\u001B[38;5;124myear\u001B[39m\u001B[38;5;124m'\u001B[39m,\u001B[38;5;124m'\u001B[39m\u001B[38;5;124mmonth\u001B[39m\u001B[38;5;124m'\u001B[39m], how\u001B[38;5;241m=\u001B[39m\u001B[38;5;124m'\u001B[39m\u001B[38;5;124minner\u001B[39m\u001B[38;5;124m'\u001B[39m)\n",
      "\u001B[0;31mNameError\u001B[0m: name 'yfinance' is not defined"
     ]
    }
   ],
   "source": [
    "cri_compustat_yfinance = cri_compustat_merged.merge(yfinance, on=['tic','year','month'], how='inner')"
   ]
  },
  {
   "cell_type": "code",
   "execution_count": 45,
   "metadata": {},
   "outputs": [
    {
     "data": {
      "text/plain": [
       "612959"
      ]
     },
     "execution_count": 45,
     "metadata": {},
     "output_type": "execute_result"
    }
   ],
   "source": [
    "cri_compustat_yfinance.shape[0]"
   ]
  },
  {
   "cell_type": "code",
   "execution_count": 72,
   "metadata": {},
   "outputs": [
    {
     "data": {
      "text/plain": [
       "CompNo                         0\n",
       "year                           0\n",
       "month                          0\n",
       "StkIndx                        0\n",
       "STInt                          0\n",
       "dtdlevel                       0\n",
       "dtdtrend                       0\n",
       "liqnonfinlevel                 0\n",
       "liqnonfintrend                 0\n",
       "ni2talevel                     0\n",
       "ni2tatrend                     0\n",
       "sizelevel                      0\n",
       "sizetrend                      0\n",
       "m2b                            0\n",
       "sigma                          0\n",
       "liqfinlevel                    0\n",
       "lqfintrend                     0\n",
       "DTDmedianFin                   0\n",
       "DTDmedianNonFin                0\n",
       "dummy297fin                    0\n",
       "Default                        0\n",
       "day                            0\n",
       "date                           0\n",
       "StartDate                      0\n",
       "EventDate                      0\n",
       "Duration                       0\n",
       "gvkey                          0\n",
       "current_ratio                  0\n",
       "quick_ratio                    0\n",
       "cash_ratio                     0\n",
       "net_working_capital            0\n",
       "debt_ratio                     0\n",
       "debt_to_equity_ratio           0\n",
       "equity_ratio                   0\n",
       "cashflow_to_debt_ratio         0\n",
       "net_profit_margin              0\n",
       "return_on_assets               0\n",
       "asset_turnover                 0\n",
       "inventory_turnover             0\n",
       "days_in_inventory              0\n",
       "receivables_turnover           0\n",
       "day_sales_outstanding          0\n",
       "working_capital_turnover       0\n",
       "price_to_earnings              0\n",
       "dividend_payout_ratio          0\n",
       "retention_ratio                0\n",
       "gross_margin_ratio             0\n",
       "operating_profit_margin        0\n",
       "ebitda_margin                  0\n",
       "debt_service_coverage_ratio    0\n",
       "interest_coverage_ratio        0\n",
       "tic                            0\n",
       "Rolling_Sortino                0\n",
       "macd                           0\n",
       "macd_h                         0\n",
       "macd_s                         0\n",
       "rsi                            0\n",
       "dtype: int64"
      ]
     },
     "execution_count": 72,
     "metadata": {},
     "output_type": "execute_result"
    }
   ],
   "source": [
    "cri_compustat_yfinance.isna().sum()"
   ]
  },
  {
   "cell_type": "code",
   "execution_count": 46,
   "metadata": {},
   "outputs": [],
   "source": [
    "cri_compustat_yfinance.dropna(inplace=True)"
   ]
  },
  {
   "cell_type": "code",
   "execution_count": 47,
   "metadata": {},
   "outputs": [],
   "source": [
    "cri_compustat_merged = cri_compustat_yfinance"
   ]
  },
  {
   "cell_type": "code",
   "execution_count": 8,
   "metadata": {
    "ExecuteTime": {
     "end_time": "2023-11-03T10:51:32.438423Z",
     "start_time": "2023-11-03T10:51:32.431549Z"
    }
   },
   "outputs": [
    {
     "data": {
      "text/plain": "0         2000-01-31\n1         2000-01-31\n2         2000-01-31\n3         2000-01-31\n4         2000-01-31\n             ...    \n1253421   2023-07-31\n1253422   2023-07-31\n1253423   2023-07-31\n1253424   2023-07-31\n1253425   2023-07-31\nName: EventDate, Length: 1253426, dtype: datetime64[ns]"
     },
     "execution_count": 8,
     "metadata": {},
     "output_type": "execute_result"
    }
   ],
   "source": [
    "cri_compustat_merged['EventDate']"
   ]
  },
  {
   "cell_type": "code",
   "execution_count": 9,
   "metadata": {
    "ExecuteTime": {
     "end_time": "2023-11-03T10:51:38.422712Z",
     "start_time": "2023-11-03T10:51:38.028669Z"
    }
   },
   "outputs": [],
   "source": [
    "#refactor\n",
    "cols = list(cri_compustat_merged.columns)\n",
    "\n",
    "cri_compustat_merged.sort_values(by='EventDate', inplace=True)\n",
    "date2022 = datetime.datetime(2022, 1, 1)\n",
    "date2020 = datetime.datetime(2020,1,1)\n",
    "train_df = cri_compustat_merged[cri_compustat_merged[\"EventDate\"] < date2020]\n",
    "validation_df = cri_compustat_merged[(cri_compustat_merged[\"EventDate\"] >= date2020) & (cri_compustat_merged[\"EventDate\"] < date2022)]\n",
    "test_df = cri_compustat_merged[cri_compustat_merged[\"EventDate\"] >= date2022]"
   ]
  },
  {
   "cell_type": "code",
   "execution_count": 10,
   "metadata": {
    "ExecuteTime": {
     "end_time": "2023-11-03T10:51:38.621869Z",
     "start_time": "2023-11-03T10:51:38.608137Z"
    }
   },
   "outputs": [
    {
     "data": {
      "text/plain": "0.7586407175214173"
     },
     "execution_count": 10,
     "metadata": {},
     "output_type": "execute_result"
    }
   ],
   "source": [
    "len(cri_compustat_merged[cri_compustat_merged['Default'] == 1])/len(cri_compustat_merged)*100"
   ]
  },
  {
   "cell_type": "code",
   "execution_count": 11,
   "metadata": {
    "ExecuteTime": {
     "end_time": "2023-11-03T10:51:41.071911Z",
     "start_time": "2023-11-03T10:51:41.062218Z"
    }
   },
   "outputs": [
    {
     "data": {
      "text/plain": "0.4748850238940572"
     },
     "execution_count": 11,
     "metadata": {},
     "output_type": "execute_result"
    }
   ],
   "source": [
    "len(validation_df[validation_df['Default'] == 1])/len(validation_df) *100"
   ]
  },
  {
   "cell_type": "code",
   "execution_count": 12,
   "metadata": {
    "ExecuteTime": {
     "end_time": "2023-11-03T10:51:41.633195Z",
     "start_time": "2023-11-03T10:51:41.628985Z"
    }
   },
   "outputs": [
    {
     "data": {
      "text/plain": "0.4262326842972004"
     },
     "execution_count": 12,
     "metadata": {},
     "output_type": "execute_result"
    }
   ],
   "source": [
    "len(test_df[test_df['Default'] == 1])/len(test_df) *100"
   ]
  },
  {
   "cell_type": "code",
   "execution_count": 13,
   "metadata": {
    "ExecuteTime": {
     "end_time": "2023-11-03T10:51:42.074435Z",
     "start_time": "2023-11-03T10:51:42.058715Z"
    }
   },
   "outputs": [
    {
     "data": {
      "text/plain": "         CompNo    year  month   StkIndx     STInt  dtdlevel  dtdtrend  \\\n3939      28611  2000.0      1  0.089239  0.011089  0.756315  0.546429   \n3960      34602  2000.0      1  0.089239  0.011089  0.980684 -0.365880   \n3982      40983  2000.0      1  0.089239  0.011089  0.287877 -0.785039   \n4257      27240  2000.0      1  0.089239  0.011089  1.608767 -0.579390   \n4113      41332  2000.0      1  0.089239  0.011089 -0.340560 -0.124496   \n...         ...     ...    ...       ...       ...       ...       ...   \n1246220   30473  2023.0      3 -0.092950  0.007115 -0.761189 -0.147672   \n1244161   27346  2023.0      3 -0.092950  0.007115 -1.113511  0.000000   \n1244707   46481  2023.0      3 -0.092950  0.007115  0.622700 -0.098017   \n1247849   27346  2023.0      4 -0.027527  0.008456 -1.113511 -0.055722   \n1250646   27346  2023.0      5  0.011539  0.009881 -1.113511 -0.319639   \n\n         liqnonfinlevel  liqnonfintrend  ni2talevel  ...  \\\n3939           0.301765        0.286080   -0.014388  ...   \n3960          -0.033778       -0.118834   -0.001747  ...   \n3982           1.117781       -0.134035   -0.002720  ...   \n4257           0.546160        0.131284   -0.001938  ...   \n4113          -1.022922        0.060817   -0.041892  ...   \n...                 ...             ...         ...  ...   \n1246220        1.021671       -0.218530   -0.034514  ...   \n1244161        0.098426        0.000000   -0.016226  ...   \n1244707        1.692032        0.166245   -0.036078  ...   \n1247849        0.098426        0.000000   -0.016226  ...   \n1250646        0.083153       -0.045819   -0.015165  ...   \n\n         working_capital_turnover  price_to_earnings  dividend_payout_ratio  \\\n3939                    -1.195807          44.791667               0.225421   \n3960                     1.573741          -1.875000              -0.000000   \n3982                    -2.546999          -0.128240              -0.000000   \n4257                     2.072832          -0.714286              -0.000000   \n4113                    -2.547920          -0.117647              -0.000000   \n...                           ...                ...                    ...   \n1246220                 -0.483450          -0.176829              -0.000000   \n1244161                  7.346535          -0.857143              -0.000000   \n1244707                  0.000000          -0.868966              -0.000000   \n1247849                  7.346535          -0.857143              -0.000000   \n1250646                  7.346535          -0.857143              -0.000000   \n\n         retention_ratio  gross_margin_ratio  operating_profit_margin  \\\n3939            0.774579           22.569356            -5.791551e+01   \n3960            1.000000           33.220235            -8.781080e+01   \n3982            1.000000           64.491489            -4.249063e+00   \n4257            1.000000            6.380575            -1.007847e+02   \n4113            1.000000            8.790602            -8.241880e+01   \n...                  ...                 ...                      ...   \n1246220         1.000000           27.335511            -7.955085e+01   \n1244161         1.000000           28.008907            -6.484238e+01   \n1244707         1.000000           22.282769            -2.189250e+07   \n1247849         1.000000           28.008907            -6.484238e+01   \n1250646         1.000000           28.008907            -6.484238e+01   \n\n         ebitda_margin  debt_service_coverage_ratio  interest_coverage_ratio  \\\n3939     -5.026128e+01                    -0.204349                 3.508621   \n3960     -8.606458e+01                    -0.980703                -6.932852   \n3982      3.802359e+01                    -0.027480                 8.689003   \n4257     -9.646779e+01                    -0.394548                -1.173697   \n4113     -7.466927e+01               -149041.103448                 8.268191   \n...                ...                          ...                      ...   \n1246220  -7.106463e+01                    -0.100127                -0.365241   \n1244161  -6.139693e+01                    -0.208368                 0.744811   \n1244707  -2.185540e+07                    -1.577718               -33.092024   \n1247849  -6.139693e+01                    -0.208368                 0.744811   \n1250646  -6.139693e+01                    -0.208368                 0.744811   \n\n         sic_2  \n3939      49.0  \n3960      57.0  \n3982      56.0  \n4257      10.0  \n4113      54.0  \n...        ...  \n1246220   28.0  \n1244161   35.0  \n1244707   28.0  \n1247849   35.0  \n1250646   35.0  \n\n[9509 rows x 53 columns]",
      "text/html": "<div>\n<style scoped>\n    .dataframe tbody tr th:only-of-type {\n        vertical-align: middle;\n    }\n\n    .dataframe tbody tr th {\n        vertical-align: top;\n    }\n\n    .dataframe thead th {\n        text-align: right;\n    }\n</style>\n<table border=\"1\" class=\"dataframe\">\n  <thead>\n    <tr style=\"text-align: right;\">\n      <th></th>\n      <th>CompNo</th>\n      <th>year</th>\n      <th>month</th>\n      <th>StkIndx</th>\n      <th>STInt</th>\n      <th>dtdlevel</th>\n      <th>dtdtrend</th>\n      <th>liqnonfinlevel</th>\n      <th>liqnonfintrend</th>\n      <th>ni2talevel</th>\n      <th>...</th>\n      <th>working_capital_turnover</th>\n      <th>price_to_earnings</th>\n      <th>dividend_payout_ratio</th>\n      <th>retention_ratio</th>\n      <th>gross_margin_ratio</th>\n      <th>operating_profit_margin</th>\n      <th>ebitda_margin</th>\n      <th>debt_service_coverage_ratio</th>\n      <th>interest_coverage_ratio</th>\n      <th>sic_2</th>\n    </tr>\n  </thead>\n  <tbody>\n    <tr>\n      <th>3939</th>\n      <td>28611</td>\n      <td>2000.0</td>\n      <td>1</td>\n      <td>0.089239</td>\n      <td>0.011089</td>\n      <td>0.756315</td>\n      <td>0.546429</td>\n      <td>0.301765</td>\n      <td>0.286080</td>\n      <td>-0.014388</td>\n      <td>...</td>\n      <td>-1.195807</td>\n      <td>44.791667</td>\n      <td>0.225421</td>\n      <td>0.774579</td>\n      <td>22.569356</td>\n      <td>-5.791551e+01</td>\n      <td>-5.026128e+01</td>\n      <td>-0.204349</td>\n      <td>3.508621</td>\n      <td>49.0</td>\n    </tr>\n    <tr>\n      <th>3960</th>\n      <td>34602</td>\n      <td>2000.0</td>\n      <td>1</td>\n      <td>0.089239</td>\n      <td>0.011089</td>\n      <td>0.980684</td>\n      <td>-0.365880</td>\n      <td>-0.033778</td>\n      <td>-0.118834</td>\n      <td>-0.001747</td>\n      <td>...</td>\n      <td>1.573741</td>\n      <td>-1.875000</td>\n      <td>-0.000000</td>\n      <td>1.000000</td>\n      <td>33.220235</td>\n      <td>-8.781080e+01</td>\n      <td>-8.606458e+01</td>\n      <td>-0.980703</td>\n      <td>-6.932852</td>\n      <td>57.0</td>\n    </tr>\n    <tr>\n      <th>3982</th>\n      <td>40983</td>\n      <td>2000.0</td>\n      <td>1</td>\n      <td>0.089239</td>\n      <td>0.011089</td>\n      <td>0.287877</td>\n      <td>-0.785039</td>\n      <td>1.117781</td>\n      <td>-0.134035</td>\n      <td>-0.002720</td>\n      <td>...</td>\n      <td>-2.546999</td>\n      <td>-0.128240</td>\n      <td>-0.000000</td>\n      <td>1.000000</td>\n      <td>64.491489</td>\n      <td>-4.249063e+00</td>\n      <td>3.802359e+01</td>\n      <td>-0.027480</td>\n      <td>8.689003</td>\n      <td>56.0</td>\n    </tr>\n    <tr>\n      <th>4257</th>\n      <td>27240</td>\n      <td>2000.0</td>\n      <td>1</td>\n      <td>0.089239</td>\n      <td>0.011089</td>\n      <td>1.608767</td>\n      <td>-0.579390</td>\n      <td>0.546160</td>\n      <td>0.131284</td>\n      <td>-0.001938</td>\n      <td>...</td>\n      <td>2.072832</td>\n      <td>-0.714286</td>\n      <td>-0.000000</td>\n      <td>1.000000</td>\n      <td>6.380575</td>\n      <td>-1.007847e+02</td>\n      <td>-9.646779e+01</td>\n      <td>-0.394548</td>\n      <td>-1.173697</td>\n      <td>10.0</td>\n    </tr>\n    <tr>\n      <th>4113</th>\n      <td>41332</td>\n      <td>2000.0</td>\n      <td>1</td>\n      <td>0.089239</td>\n      <td>0.011089</td>\n      <td>-0.340560</td>\n      <td>-0.124496</td>\n      <td>-1.022922</td>\n      <td>0.060817</td>\n      <td>-0.041892</td>\n      <td>...</td>\n      <td>-2.547920</td>\n      <td>-0.117647</td>\n      <td>-0.000000</td>\n      <td>1.000000</td>\n      <td>8.790602</td>\n      <td>-8.241880e+01</td>\n      <td>-7.466927e+01</td>\n      <td>-149041.103448</td>\n      <td>8.268191</td>\n      <td>54.0</td>\n    </tr>\n    <tr>\n      <th>...</th>\n      <td>...</td>\n      <td>...</td>\n      <td>...</td>\n      <td>...</td>\n      <td>...</td>\n      <td>...</td>\n      <td>...</td>\n      <td>...</td>\n      <td>...</td>\n      <td>...</td>\n      <td>...</td>\n      <td>...</td>\n      <td>...</td>\n      <td>...</td>\n      <td>...</td>\n      <td>...</td>\n      <td>...</td>\n      <td>...</td>\n      <td>...</td>\n      <td>...</td>\n      <td>...</td>\n    </tr>\n    <tr>\n      <th>1246220</th>\n      <td>30473</td>\n      <td>2023.0</td>\n      <td>3</td>\n      <td>-0.092950</td>\n      <td>0.007115</td>\n      <td>-0.761189</td>\n      <td>-0.147672</td>\n      <td>1.021671</td>\n      <td>-0.218530</td>\n      <td>-0.034514</td>\n      <td>...</td>\n      <td>-0.483450</td>\n      <td>-0.176829</td>\n      <td>-0.000000</td>\n      <td>1.000000</td>\n      <td>27.335511</td>\n      <td>-7.955085e+01</td>\n      <td>-7.106463e+01</td>\n      <td>-0.100127</td>\n      <td>-0.365241</td>\n      <td>28.0</td>\n    </tr>\n    <tr>\n      <th>1244161</th>\n      <td>27346</td>\n      <td>2023.0</td>\n      <td>3</td>\n      <td>-0.092950</td>\n      <td>0.007115</td>\n      <td>-1.113511</td>\n      <td>0.000000</td>\n      <td>0.098426</td>\n      <td>0.000000</td>\n      <td>-0.016226</td>\n      <td>...</td>\n      <td>7.346535</td>\n      <td>-0.857143</td>\n      <td>-0.000000</td>\n      <td>1.000000</td>\n      <td>28.008907</td>\n      <td>-6.484238e+01</td>\n      <td>-6.139693e+01</td>\n      <td>-0.208368</td>\n      <td>0.744811</td>\n      <td>35.0</td>\n    </tr>\n    <tr>\n      <th>1244707</th>\n      <td>46481</td>\n      <td>2023.0</td>\n      <td>3</td>\n      <td>-0.092950</td>\n      <td>0.007115</td>\n      <td>0.622700</td>\n      <td>-0.098017</td>\n      <td>1.692032</td>\n      <td>0.166245</td>\n      <td>-0.036078</td>\n      <td>...</td>\n      <td>0.000000</td>\n      <td>-0.868966</td>\n      <td>-0.000000</td>\n      <td>1.000000</td>\n      <td>22.282769</td>\n      <td>-2.189250e+07</td>\n      <td>-2.185540e+07</td>\n      <td>-1.577718</td>\n      <td>-33.092024</td>\n      <td>28.0</td>\n    </tr>\n    <tr>\n      <th>1247849</th>\n      <td>27346</td>\n      <td>2023.0</td>\n      <td>4</td>\n      <td>-0.027527</td>\n      <td>0.008456</td>\n      <td>-1.113511</td>\n      <td>-0.055722</td>\n      <td>0.098426</td>\n      <td>0.000000</td>\n      <td>-0.016226</td>\n      <td>...</td>\n      <td>7.346535</td>\n      <td>-0.857143</td>\n      <td>-0.000000</td>\n      <td>1.000000</td>\n      <td>28.008907</td>\n      <td>-6.484238e+01</td>\n      <td>-6.139693e+01</td>\n      <td>-0.208368</td>\n      <td>0.744811</td>\n      <td>35.0</td>\n    </tr>\n    <tr>\n      <th>1250646</th>\n      <td>27346</td>\n      <td>2023.0</td>\n      <td>5</td>\n      <td>0.011539</td>\n      <td>0.009881</td>\n      <td>-1.113511</td>\n      <td>-0.319639</td>\n      <td>0.083153</td>\n      <td>-0.045819</td>\n      <td>-0.015165</td>\n      <td>...</td>\n      <td>7.346535</td>\n      <td>-0.857143</td>\n      <td>-0.000000</td>\n      <td>1.000000</td>\n      <td>28.008907</td>\n      <td>-6.484238e+01</td>\n      <td>-6.139693e+01</td>\n      <td>-0.208368</td>\n      <td>0.744811</td>\n      <td>35.0</td>\n    </tr>\n  </tbody>\n</table>\n<p>9509 rows × 53 columns</p>\n</div>"
     },
     "execution_count": 13,
     "metadata": {},
     "output_type": "execute_result"
    }
   ],
   "source": [
    "cri_compustat_merged[cri_compustat_merged['Default'] == 1]"
   ]
  },
  {
   "cell_type": "code",
   "execution_count": 14,
   "metadata": {
    "ExecuteTime": {
     "end_time": "2023-11-03T10:51:42.717036Z",
     "start_time": "2023-11-03T10:51:42.712890Z"
    }
   },
   "outputs": [
    {
     "data": {
      "text/plain": "Index(['CompNo', 'year', 'month', 'StkIndx', 'STInt', 'dtdlevel', 'dtdtrend',\n       'liqnonfinlevel', 'liqnonfintrend', 'ni2talevel', 'ni2tatrend',\n       'sizelevel', 'sizetrend', 'm2b', 'sigma', 'liqfinlevel', 'lqfintrend',\n       'DTDmedianFin', 'DTDmedianNonFin', 'dummy297fin', 'Default', 'day',\n       'date', 'StartDate', 'EventDate', 'Duration', 'gvkey', 'tic',\n       'current_ratio', 'quick_ratio', 'cash_ratio', 'net_working_capital',\n       'debt_ratio', 'debt_to_equity_ratio', 'equity_ratio',\n       'cashflow_to_debt_ratio', 'net_profit_margin', 'return_on_assets',\n       'asset_turnover', 'inventory_turnover', 'days_in_inventory',\n       'receivables_turnover', 'day_sales_outstanding',\n       'working_capital_turnover', 'price_to_earnings',\n       'dividend_payout_ratio', 'retention_ratio', 'gross_margin_ratio',\n       'operating_profit_margin', 'ebitda_margin',\n       'debt_service_coverage_ratio', 'interest_coverage_ratio', 'sic_2'],\n      dtype='object')"
     },
     "execution_count": 14,
     "metadata": {},
     "output_type": "execute_result"
    }
   ],
   "source": [
    "cri_compustat_merged.columns"
   ]
  },
  {
   "cell_type": "code",
   "execution_count": 15,
   "metadata": {
    "ExecuteTime": {
     "end_time": "2023-11-03T10:51:45.845533Z",
     "start_time": "2023-11-03T10:51:44.622105Z"
    }
   },
   "outputs": [
    {
     "data": {
      "text/plain": "<Figure size 500x500 with 1 Axes>",
      "image/png": "[encoded data removed]"
     },
     "metadata": {},
     "output_type": "display_data"
    },
    {
     "name": "stdout",
     "output_type": "stream",
     "text": [
      "Imbalance Ratio is:126.03870896184561\n",
      " % of default is :0.007871616518870141\n"
     ]
    }
   ],
   "source": [
    "plt.figure(figsize=(5,5))\n",
    "sns.countplot(x=train_df[\"Default\"], palette=\"dark\")\n",
    "plt.title(\"Data Distribution of Bankrupt (training set)\")\n",
    "plt.show()\n",
    "majority_class_samples=train_df[\"Default\"].loc[train_df[\"Default\"]==0]\n",
    "minority_class_samples=train_df[\"Default\"].loc[train_df[\"Default\"]==1]\n",
    "Imbalance_Ratio= len(majority_class_samples)/len(minority_class_samples)\n",
    "percentage = len(minority_class_samples)/(len(minority_class_samples)+len(majority_class_samples))\n",
    "print(f\"Imbalance Ratio is:{Imbalance_Ratio}\")\n",
    "print(f\" % of default is :{percentage}\") "
   ]
  },
  {
   "cell_type": "code",
   "execution_count": 16,
   "metadata": {
    "ExecuteTime": {
     "end_time": "2023-11-03T10:51:49.053970Z",
     "start_time": "2023-11-03T10:51:49.013887Z"
    }
   },
   "outputs": [],
   "source": [
    "# drop unecessary columns\n",
    "train_df.drop([\"CompNo\", \"year\", \"month\", \"day\", \"date\"], axis=1, inplace=True)\n",
    "validation_df.drop([\"CompNo\", \"year\", \"month\", \"day\", \"date\"], axis=1, inplace=True)\n",
    "test_df.drop([\"CompNo\", \"year\", \"month\", \"day\", \"date\"], axis=1, inplace=True)"
   ]
  },
  {
   "cell_type": "code",
   "execution_count": 17,
   "metadata": {
    "ExecuteTime": {
     "end_time": "2023-11-03T10:51:49.346518Z",
     "start_time": "2023-11-03T10:51:49.319201Z"
    }
   },
   "outputs": [],
   "source": [
    "x_train = train_df.drop('Default', axis=1)\n",
    "y_train = train_df['Default']\n",
    "x_validation = validation_df.drop('Default', axis=1)\n",
    "y_validation = validation_df['Default']\n",
    "x_test = test_df.drop('Default', axis=1)\n",
    "y_test = test_df[\"Default\"]"
   ]
  },
  {
   "cell_type": "code",
   "execution_count": 18,
   "metadata": {
    "ExecuteTime": {
     "end_time": "2023-11-03T10:51:50.722066Z",
     "start_time": "2023-11-03T10:51:50.713091Z"
    }
   },
   "outputs": [],
   "source": [
    "def get_num_cat_columns(dataframe):\n",
    "    categorical_cols=dataframe.select_dtypes(include=\"object\").columns\n",
    "    numerical_cols=dataframe.select_dtypes(exclude=\"object\").columns\n",
    "    \n",
    "    return categorical_cols, numerical_cols"
   ]
  },
  {
   "cell_type": "code",
   "execution_count": 19,
   "metadata": {
    "ExecuteTime": {
     "end_time": "2023-11-03T10:51:51.271168Z",
     "start_time": "2023-11-03T10:51:51.140467Z"
    }
   },
   "outputs": [],
   "source": [
    "categorical_cols, numerical_cols= get_num_cat_columns(x_train)"
   ]
  },
  {
   "cell_type": "code",
   "execution_count": 20,
   "metadata": {
    "ExecuteTime": {
     "end_time": "2023-11-03T10:51:52.089663Z",
     "start_time": "2023-11-03T10:51:52.083373Z"
    }
   },
   "outputs": [],
   "source": [
    "def Winsorization_Method(columns, x_train, y_train , a, b):\n",
    "    outliers=[]\n",
    "\n",
    "    for col in columns:\n",
    "        q1= np.percentile(x_train[col], a)\n",
    "        q2= np.percentile(x_train[col],b)\n",
    "        \n",
    "        for pos in range(len(x_train)):\n",
    "            if x_train[col].iloc[pos]>q2 or x_train[col].iloc[pos]<q1:\n",
    "                outliers.append(pos) \n",
    "                \n",
    "    outliers= set(outliers)                   # remove the duplicates from the outliers\n",
    "    outliers= list(outliers)\n",
    "    \n",
    "    ratio= round(len(outliers)/len(x_train)*100, 2)                       # Ratio of outliers\n",
    "    x_train.drop(x_train.index[outliers], inplace=True)    # remove the outliers from the training dataset\n",
    "    y_train.drop(y_train.index[outliers], inplace=True)\n",
    "    \n",
    "    \n",
    "    \n",
    "    return ratio, x_train, y_train"
   ]
  },
  {
   "cell_type": "code",
   "execution_count": 21,
   "metadata": {
    "ExecuteTime": {
     "end_time": "2023-11-03T10:55:38.610732Z",
     "start_time": "2023-11-03T10:51:53.084245Z"
    }
   },
   "outputs": [
    {
     "ename": "KeyboardInterrupt",
     "evalue": "",
     "output_type": "error",
     "traceback": [
      "\u001B[0;31m---------------------------------------------------------------------------\u001B[0m",
      "\u001B[0;31mKeyboardInterrupt\u001B[0m                         Traceback (most recent call last)",
      "Cell \u001B[0;32mIn[21], line 1\u001B[0m\n\u001B[0;32m----> 1\u001B[0m ratio, x_train, y_train\u001B[38;5;241m=\u001B[39m \u001B[43mWinsorization_Method\u001B[49m\u001B[43m(\u001B[49m\u001B[43mnumerical_cols\u001B[49m\u001B[43m,\u001B[49m\u001B[43m \u001B[49m\u001B[43mx_train\u001B[49m\u001B[43m,\u001B[49m\u001B[43m \u001B[49m\u001B[43my_train\u001B[49m\u001B[43m,\u001B[49m\u001B[43ma\u001B[49m\u001B[38;5;241;43m=\u001B[39;49m\u001B[38;5;241;43m0.3\u001B[39;49m\u001B[43m,\u001B[49m\u001B[43mb\u001B[49m\u001B[38;5;241;43m=\u001B[39;49m\u001B[38;5;241;43m99.7\u001B[39;49m\u001B[43m)\u001B[49m\n\u001B[1;32m      2\u001B[0m \u001B[38;5;28mprint\u001B[39m(\u001B[38;5;124mf\u001B[39m\u001B[38;5;124m\"\u001B[39m\u001B[38;5;124mRatio of Outliers Detected in the dataset:\u001B[39m\u001B[38;5;132;01m{\u001B[39;00mratio\u001B[38;5;132;01m}\u001B[39;00m\u001B[38;5;124m\"\u001B[39m)\n",
      "Cell \u001B[0;32mIn[20], line 9\u001B[0m, in \u001B[0;36mWinsorization_Method\u001B[0;34m(columns, x_train, y_train, a, b)\u001B[0m\n\u001B[1;32m      6\u001B[0m     q2\u001B[38;5;241m=\u001B[39m np\u001B[38;5;241m.\u001B[39mpercentile(x_train[col],b)\n\u001B[1;32m      8\u001B[0m     \u001B[38;5;28;01mfor\u001B[39;00m pos \u001B[38;5;129;01min\u001B[39;00m \u001B[38;5;28mrange\u001B[39m(\u001B[38;5;28mlen\u001B[39m(x_train)):\n\u001B[0;32m----> 9\u001B[0m         \u001B[38;5;28;01mif\u001B[39;00m x_train[col]\u001B[38;5;241m.\u001B[39miloc[pos]\u001B[38;5;241m>\u001B[39mq2 \u001B[38;5;129;01mor\u001B[39;00m \u001B[43mx_train\u001B[49m\u001B[43m[\u001B[49m\u001B[43mcol\u001B[49m\u001B[43m]\u001B[49m\u001B[38;5;241;43m.\u001B[39;49m\u001B[43miloc\u001B[49m\u001B[43m[\u001B[49m\u001B[43mpos\u001B[49m\u001B[43m]\u001B[49m\u001B[38;5;241m<\u001B[39mq1:\n\u001B[1;32m     10\u001B[0m             outliers\u001B[38;5;241m.\u001B[39mappend(pos) \n\u001B[1;32m     12\u001B[0m outliers\u001B[38;5;241m=\u001B[39m \u001B[38;5;28mset\u001B[39m(outliers)                   \u001B[38;5;66;03m# remove the duplicates from the outliers\u001B[39;00m\n",
      "File \u001B[0;32m~/Documents/github/Capstone/venv/lib/python3.9/site-packages/pandas/core/indexing.py:967\u001B[0m, in \u001B[0;36m_LocationIndexer.__getitem__\u001B[0;34m(self, key)\u001B[0m\n\u001B[1;32m    964\u001B[0m axis \u001B[38;5;241m=\u001B[39m \u001B[38;5;28mself\u001B[39m\u001B[38;5;241m.\u001B[39maxis \u001B[38;5;129;01mor\u001B[39;00m \u001B[38;5;241m0\u001B[39m\n\u001B[1;32m    966\u001B[0m maybe_callable \u001B[38;5;241m=\u001B[39m com\u001B[38;5;241m.\u001B[39mapply_if_callable(key, \u001B[38;5;28mself\u001B[39m\u001B[38;5;241m.\u001B[39mobj)\n\u001B[0;32m--> 967\u001B[0m \u001B[38;5;28;01mreturn\u001B[39;00m \u001B[38;5;28;43mself\u001B[39;49m\u001B[38;5;241;43m.\u001B[39;49m\u001B[43m_getitem_axis\u001B[49m\u001B[43m(\u001B[49m\u001B[43mmaybe_callable\u001B[49m\u001B[43m,\u001B[49m\u001B[43m \u001B[49m\u001B[43maxis\u001B[49m\u001B[38;5;241;43m=\u001B[39;49m\u001B[43maxis\u001B[49m\u001B[43m)\u001B[49m\n",
      "File \u001B[0;32m~/Documents/github/Capstone/venv/lib/python3.9/site-packages/pandas/core/indexing.py:1513\u001B[0m, in \u001B[0;36m_iLocIndexer._getitem_axis\u001B[0;34m(self, key, axis)\u001B[0m\n\u001B[1;32m   1510\u001B[0m     \u001B[38;5;28;01mreturn\u001B[39;00m \u001B[38;5;28mself\u001B[39m\u001B[38;5;241m.\u001B[39m_getbool_axis(key, axis\u001B[38;5;241m=\u001B[39maxis)\n\u001B[1;32m   1512\u001B[0m \u001B[38;5;66;03m# a list of integers\u001B[39;00m\n\u001B[0;32m-> 1513\u001B[0m \u001B[38;5;28;01melif\u001B[39;00m \u001B[43mis_list_like_indexer\u001B[49m\u001B[43m(\u001B[49m\u001B[43mkey\u001B[49m\u001B[43m)\u001B[49m:\n\u001B[1;32m   1514\u001B[0m     \u001B[38;5;28;01mreturn\u001B[39;00m \u001B[38;5;28mself\u001B[39m\u001B[38;5;241m.\u001B[39m_get_list_axis(key, axis\u001B[38;5;241m=\u001B[39maxis)\n\u001B[1;32m   1516\u001B[0m \u001B[38;5;66;03m# a single integer\u001B[39;00m\n\u001B[1;32m   1517\u001B[0m \u001B[38;5;28;01melse\u001B[39;00m:\n",
      "File \u001B[0;32m~/Documents/github/Capstone/venv/lib/python3.9/site-packages/pandas/core/indexers/utils.py:82\u001B[0m, in \u001B[0;36mis_list_like_indexer\u001B[0;34m(key)\u001B[0m\n\u001B[1;32m     70\u001B[0m \u001B[38;5;250m\u001B[39m\u001B[38;5;124;03m\"\"\"\u001B[39;00m\n\u001B[1;32m     71\u001B[0m \u001B[38;5;124;03mCheck if we have a list-like indexer that is *not* a NamedTuple.\u001B[39;00m\n\u001B[1;32m     72\u001B[0m \n\u001B[0;32m   (...)\u001B[0m\n\u001B[1;32m     79\u001B[0m \u001B[38;5;124;03mbool\u001B[39;00m\n\u001B[1;32m     80\u001B[0m \u001B[38;5;124;03m\"\"\"\u001B[39;00m\n\u001B[1;32m     81\u001B[0m \u001B[38;5;66;03m# allow a list_like, but exclude NamedTuples which can be indexers\u001B[39;00m\n\u001B[0;32m---> 82\u001B[0m \u001B[38;5;28;01mreturn\u001B[39;00m \u001B[43mis_list_like\u001B[49m\u001B[43m(\u001B[49m\u001B[43mkey\u001B[49m\u001B[43m)\u001B[49m \u001B[38;5;129;01mand\u001B[39;00m \u001B[38;5;129;01mnot\u001B[39;00m (\u001B[38;5;28misinstance\u001B[39m(key, \u001B[38;5;28mtuple\u001B[39m) \u001B[38;5;129;01mand\u001B[39;00m \u001B[38;5;28mtype\u001B[39m(key) \u001B[38;5;129;01mis\u001B[39;00m \u001B[38;5;129;01mnot\u001B[39;00m \u001B[38;5;28mtuple\u001B[39m)\n",
      "\u001B[0;31mKeyboardInterrupt\u001B[0m: "
     ]
    }
   ],
   "source": [
    "ratio, x_train, y_train= Winsorization_Method(numerical_cols, x_train, y_train,a=0.3,b=99.7)\n",
    "print(f\"Ratio of Outliers Detected in the dataset:{ratio}\")"
   ]
  },
  {
   "cell_type": "code",
   "execution_count": 22,
   "metadata": {
    "ExecuteTime": {
     "end_time": "2023-11-03T10:55:42.862706Z",
     "start_time": "2023-11-03T10:55:42.854805Z"
    }
   },
   "outputs": [
    {
     "data": {
      "text/plain": "((1145381, 47), (41292, 47), (66753, 47), (1145381,), (41292,), (66753,))"
     },
     "execution_count": 22,
     "metadata": {},
     "output_type": "execute_result"
    }
   ],
   "source": [
    "# shape of data after removing the outliers in the training data\n",
    "x_train.shape,x_test.shape,x_validation.shape ,y_train.shape, y_test.shape, y_validation.shape"
   ]
  },
  {
   "cell_type": "code",
   "execution_count": 25,
   "metadata": {
    "ExecuteTime": {
     "end_time": "2023-11-03T10:57:00.486235Z",
     "start_time": "2023-11-03T10:56:25.017344Z"
    }
   },
   "outputs": [],
   "source": [
    "x_train.to_csv(\"../Dataset/\" + \"X_train_winsorized.csv\", index=False)"
   ]
  },
  {
   "cell_type": "code",
   "execution_count": 26,
   "metadata": {
    "ExecuteTime": {
     "end_time": "2023-11-03T10:58:47.275796Z",
     "start_time": "2023-11-03T10:58:45.892021Z"
    }
   },
   "outputs": [],
   "source": [
    "x_test.to_csv(\"../Dataset/\" + \"X_test.csv\", index=False)"
   ]
  },
  {
   "cell_type": "code",
   "execution_count": 27,
   "metadata": {
    "ExecuteTime": {
     "end_time": "2023-11-03T10:58:49.356510Z",
     "start_time": "2023-11-03T10:58:47.275545Z"
    }
   },
   "outputs": [],
   "source": [
    "x_validation.to_csv(\"../Dataset/\" + \"X_validation.csv\", index=False)"
   ]
  },
  {
   "cell_type": "code",
   "execution_count": 28,
   "metadata": {
    "ExecuteTime": {
     "end_time": "2023-11-03T10:58:49.807648Z",
     "start_time": "2023-11-03T10:58:49.357996Z"
    }
   },
   "outputs": [],
   "source": [
    "y_train.to_csv(\"../Dataset/\" + \"Y_train_winsorized.csv\", index=False)"
   ]
  },
  {
   "cell_type": "code",
   "execution_count": 29,
   "metadata": {
    "ExecuteTime": {
     "end_time": "2023-11-03T10:58:49.827329Z",
     "start_time": "2023-11-03T10:58:49.809459Z"
    }
   },
   "outputs": [],
   "source": [
    "y_test.to_csv(\"../Dataset/\" + \"Y_test.csv\", index=False)"
   ]
  },
  {
   "cell_type": "code",
   "execution_count": 30,
   "metadata": {
    "ExecuteTime": {
     "end_time": "2023-11-03T10:58:49.855126Z",
     "start_time": "2023-11-03T10:58:49.828303Z"
    }
   },
   "outputs": [],
   "source": [
    "y_validation.to_csv(\"../Dataset/\" + \"Y_validation.csv\", index=False)"
   ]
  },
  {
   "cell_type": "code",
   "execution_count": null,
   "outputs": [],
   "source": [],
   "metadata": {
    "collapsed": false
   }
  }
 ],
 "metadata": {
  "kernelspec": {
   "display_name": ".venv",
   "language": "python",
   "name": "python3"
  },
  "language_info": {
   "codemirror_mode": {
    "name": "ipython",
    "version": 3
   },
   "file_extension": ".py",
   "mimetype": "text/x-python",
   "name": "python",
   "nbconvert_exporter": "python",
   "pygments_lexer": "ipython3",
   "version": "3.10.2"
  },
  "orig_nbformat": 4
 },
 "nbformat": 4,
 "nbformat_minor": 2
}
