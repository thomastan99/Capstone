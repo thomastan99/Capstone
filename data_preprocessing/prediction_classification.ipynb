{
 "cells": [
  {
   "cell_type": "code",
   "execution_count": 1,
   "metadata": {
    "ExecuteTime": {
     "end_time": "2023-11-03T13:51:20.953638Z",
     "start_time": "2023-11-03T13:51:20.692627Z"
    }
   },
   "outputs": [],
   "source": [
    "# Import all the necessary libraries\n",
    "import pandas as pd\n",
    "import datetime\n",
    "import numpy as np\n",
    "import seaborn as sns\n",
    "import plotly.express as px\n",
    "import matplotlib.pyplot as plt\n",
    "from sklearn.tree import plot_tree\n",
    "from sklearn.decomposition import PCA\n",
    "from imblearn.over_sampling import SMOTE\n",
    "from sklearn.ensemble import VotingClassifier\n",
    "from sklearn.preprocessing import RobustScaler\n",
    "from sklearn.tree import DecisionTreeClassifier\n",
    "from sklearn.ensemble import RandomForestClassifier\n",
    "from sklearn.linear_model import LogisticRegression\n",
    "from sklearn.ensemble import GradientBoostingClassifier\n",
    "from sklearn.model_selection import train_test_split, GridSearchCV\n",
    "from sklearn.metrics import accuracy_score,roc_auc_score,precision_score, recall_score, f1_score,ConfusionMatrixDisplay,classification_report\n",
    "\n",
    "\n",
    "import warnings \n",
    "warnings.filterwarnings(\"ignore\")"
   ]
  },
  {
   "cell_type": "code",
   "execution_count": 2,
   "metadata": {
    "ExecuteTime": {
     "end_time": "2023-11-03T13:51:21.116819Z",
     "start_time": "2023-11-03T13:51:20.954342Z"
    }
   },
   "outputs": [
    {
     "data": {
      "text/plain": "1179414"
     },
     "execution_count": 2,
     "metadata": {},
     "output_type": "execute_result"
    }
   ],
   "source": [
    "cri_compustat_merged = pd.read_pickle(\"cri_compustat_merged_v8.pkl\")\n",
    "cri_compustat_merged.shape[0]"
   ]
  },
  {
   "cell_type": "code",
   "execution_count": 3,
   "metadata": {
    "ExecuteTime": {
     "end_time": "2023-11-03T13:51:22.366410Z",
     "start_time": "2023-11-03T13:51:22.357915Z"
    }
   },
   "outputs": [
    {
     "data": {
      "text/plain": "0          CDSI.2\n1            DXPE\n2            ZICA\n3            XLTC\n4            MRYP\n            ...  \n1179409        DE\n1179410       WSM\n1179411       DDS\n1179412       BBY\n1179413      DXLG\nName: tic, Length: 1179414, dtype: object"
     },
     "execution_count": 3,
     "metadata": {},
     "output_type": "execute_result"
    }
   ],
   "source": [
    "cri_compustat_merged['tic']"
   ]
  },
  {
   "cell_type": "code",
   "execution_count": 4,
   "metadata": {
    "ExecuteTime": {
     "end_time": "2023-11-03T13:49:15.709825Z",
     "start_time": "2023-11-03T13:49:15.439681Z"
    }
   },
   "outputs": [
    {
     "ename": "FileNotFoundError",
     "evalue": "[Errno 2] No such file or directory: 'final_yfiance.pkl'",
     "output_type": "error",
     "traceback": [
      "\u001B[0;31m---------------------------------------------------------------------------\u001B[0m",
      "\u001B[0;31mFileNotFoundError\u001B[0m                         Traceback (most recent call last)",
      "Cell \u001B[0;32mIn[4], line 1\u001B[0m\n\u001B[0;32m----> 1\u001B[0m yfinance \u001B[38;5;241m=\u001B[39m \u001B[43mpd\u001B[49m\u001B[38;5;241;43m.\u001B[39;49m\u001B[43mread_pickle\u001B[49m\u001B[43m(\u001B[49m\u001B[38;5;124;43m\"\u001B[39;49m\u001B[38;5;124;43mfinal_yfiance.pkl\u001B[39;49m\u001B[38;5;124;43m\"\u001B[39;49m\u001B[43m)\u001B[49m\n\u001B[1;32m      2\u001B[0m yfinance\u001B[38;5;241m.\u001B[39mshape\n",
      "File \u001B[0;32m~/Documents/github/Capstone/venv/lib/python3.9/site-packages/pandas/io/pickle.py:187\u001B[0m, in \u001B[0;36mread_pickle\u001B[0;34m(filepath_or_buffer, compression, storage_options)\u001B[0m\n\u001B[1;32m    124\u001B[0m \u001B[38;5;250m\u001B[39m\u001B[38;5;124;03m\"\"\"\u001B[39;00m\n\u001B[1;32m    125\u001B[0m \u001B[38;5;124;03mLoad pickled pandas object (or any object) from file.\u001B[39;00m\n\u001B[1;32m    126\u001B[0m \n\u001B[0;32m   (...)\u001B[0m\n\u001B[1;32m    184\u001B[0m \u001B[38;5;124;03m4    4    9\u001B[39;00m\n\u001B[1;32m    185\u001B[0m \u001B[38;5;124;03m\"\"\"\u001B[39;00m  \u001B[38;5;66;03m# noqa: E501\u001B[39;00m\n\u001B[1;32m    186\u001B[0m excs_to_catch \u001B[38;5;241m=\u001B[39m (\u001B[38;5;167;01mAttributeError\u001B[39;00m, \u001B[38;5;167;01mImportError\u001B[39;00m, \u001B[38;5;167;01mModuleNotFoundError\u001B[39;00m, \u001B[38;5;167;01mTypeError\u001B[39;00m)\n\u001B[0;32m--> 187\u001B[0m \u001B[38;5;28;01mwith\u001B[39;00m \u001B[43mget_handle\u001B[49m\u001B[43m(\u001B[49m\n\u001B[1;32m    188\u001B[0m \u001B[43m    \u001B[49m\u001B[43mfilepath_or_buffer\u001B[49m\u001B[43m,\u001B[49m\n\u001B[1;32m    189\u001B[0m \u001B[43m    \u001B[49m\u001B[38;5;124;43m\"\u001B[39;49m\u001B[38;5;124;43mrb\u001B[39;49m\u001B[38;5;124;43m\"\u001B[39;49m\u001B[43m,\u001B[49m\n\u001B[1;32m    190\u001B[0m \u001B[43m    \u001B[49m\u001B[43mcompression\u001B[49m\u001B[38;5;241;43m=\u001B[39;49m\u001B[43mcompression\u001B[49m\u001B[43m,\u001B[49m\n\u001B[1;32m    191\u001B[0m \u001B[43m    \u001B[49m\u001B[43mis_text\u001B[49m\u001B[38;5;241;43m=\u001B[39;49m\u001B[38;5;28;43;01mFalse\u001B[39;49;00m\u001B[43m,\u001B[49m\n\u001B[1;32m    192\u001B[0m \u001B[43m    \u001B[49m\u001B[43mstorage_options\u001B[49m\u001B[38;5;241;43m=\u001B[39;49m\u001B[43mstorage_options\u001B[49m\u001B[43m,\u001B[49m\n\u001B[1;32m    193\u001B[0m \u001B[43m\u001B[49m\u001B[43m)\u001B[49m \u001B[38;5;28;01mas\u001B[39;00m handles:\n\u001B[1;32m    194\u001B[0m \n\u001B[1;32m    195\u001B[0m     \u001B[38;5;66;03m# 1) try standard library Pickle\u001B[39;00m\n\u001B[1;32m    196\u001B[0m     \u001B[38;5;66;03m# 2) try pickle_compat (older pandas version) to handle subclass changes\u001B[39;00m\n\u001B[1;32m    197\u001B[0m     \u001B[38;5;66;03m# 3) try pickle_compat with latin-1 encoding upon a UnicodeDecodeError\u001B[39;00m\n\u001B[1;32m    199\u001B[0m     \u001B[38;5;28;01mtry\u001B[39;00m:\n\u001B[1;32m    200\u001B[0m         \u001B[38;5;66;03m# TypeError for Cython complaints about object.__new__ vs Tick.__new__\u001B[39;00m\n\u001B[1;32m    201\u001B[0m         \u001B[38;5;28;01mtry\u001B[39;00m:\n",
      "File \u001B[0;32m~/Documents/github/Capstone/venv/lib/python3.9/site-packages/pandas/io/common.py:795\u001B[0m, in \u001B[0;36mget_handle\u001B[0;34m(path_or_buf, mode, encoding, compression, memory_map, is_text, errors, storage_options)\u001B[0m\n\u001B[1;32m    786\u001B[0m         handle \u001B[38;5;241m=\u001B[39m \u001B[38;5;28mopen\u001B[39m(\n\u001B[1;32m    787\u001B[0m             handle,\n\u001B[1;32m    788\u001B[0m             ioargs\u001B[38;5;241m.\u001B[39mmode,\n\u001B[0;32m   (...)\u001B[0m\n\u001B[1;32m    791\u001B[0m             newline\u001B[38;5;241m=\u001B[39m\u001B[38;5;124m\"\u001B[39m\u001B[38;5;124m\"\u001B[39m,\n\u001B[1;32m    792\u001B[0m         )\n\u001B[1;32m    793\u001B[0m     \u001B[38;5;28;01melse\u001B[39;00m:\n\u001B[1;32m    794\u001B[0m         \u001B[38;5;66;03m# Binary mode\u001B[39;00m\n\u001B[0;32m--> 795\u001B[0m         handle \u001B[38;5;241m=\u001B[39m \u001B[38;5;28;43mopen\u001B[39;49m\u001B[43m(\u001B[49m\u001B[43mhandle\u001B[49m\u001B[43m,\u001B[49m\u001B[43m \u001B[49m\u001B[43mioargs\u001B[49m\u001B[38;5;241;43m.\u001B[39;49m\u001B[43mmode\u001B[49m\u001B[43m)\u001B[49m\n\u001B[1;32m    796\u001B[0m     handles\u001B[38;5;241m.\u001B[39mappend(handle)\n\u001B[1;32m    798\u001B[0m \u001B[38;5;66;03m# Convert BytesIO or file objects passed with an encoding\u001B[39;00m\n",
      "\u001B[0;31mFileNotFoundError\u001B[0m: [Errno 2] No such file or directory: 'final_yfiance.pkl'"
     ]
    }
   ],
   "source": [
    "yfinance = pd.read_pickle(\"final_yfiance.pkl\")\n",
    "yfinance.shape"
   ]
  },
  {
   "cell_type": "code",
   "execution_count": null,
   "metadata": {
    "ExecuteTime": {
     "end_time": "2023-11-03T13:49:15.713947Z",
     "start_time": "2023-11-03T13:49:15.711921Z"
    }
   },
   "outputs": [],
   "source": [
    "yfinance = yfinance.rename(columns={\"yyyy\":\"year\"})\n",
    "yfinance = yfinance.rename(columns={\"mm\":\"month\"})\n",
    "yfinance"
   ]
  },
  {
   "cell_type": "code",
   "execution_count": null,
   "metadata": {
    "ExecuteTime": {
     "start_time": "2023-11-03T13:49:15.713503Z"
    }
   },
   "outputs": [],
   "source": [
    "cri_compustat_yfinance = cri_compustat_merged.merge(yfinance, on=['tic','year','month'], how='inner')"
   ]
  },
  {
   "cell_type": "code",
   "execution_count": null,
   "metadata": {
    "ExecuteTime": {
     "start_time": "2023-11-03T13:49:15.715294Z"
    }
   },
   "outputs": [],
   "source": [
    "cri_compustat_yfinance.shape[0]"
   ]
  },
  {
   "cell_type": "code",
   "execution_count": null,
   "metadata": {
    "ExecuteTime": {
     "start_time": "2023-11-03T13:49:15.716934Z"
    }
   },
   "outputs": [],
   "source": [
    "cri_compustat_yfinance.isna().sum()"
   ]
  },
  {
   "cell_type": "code",
   "execution_count": null,
   "metadata": {
    "ExecuteTime": {
     "start_time": "2023-11-03T13:49:15.718535Z"
    }
   },
   "outputs": [],
   "source": [
    "cri_compustat_yfinance.dropna(inplace=True)"
   ]
  },
  {
   "cell_type": "code",
   "execution_count": null,
   "metadata": {
    "ExecuteTime": {
     "start_time": "2023-11-03T13:49:15.720077Z"
    }
   },
   "outputs": [],
   "source": [
    "cri_compustat_merged = cri_compustat_yfinance"
   ]
  },
  {
   "cell_type": "code",
   "execution_count": 4,
   "metadata": {
    "ExecuteTime": {
     "end_time": "2023-11-03T13:51:30.833294Z",
     "start_time": "2023-11-03T13:51:30.823384Z"
    }
   },
   "outputs": [
    {
     "data": {
      "text/plain": "0         2000-01-31\n1         2000-01-31\n2         2000-01-31\n3         2000-01-31\n4         2000-01-31\n             ...    \n1179409   2023-07-31\n1179410   2023-07-31\n1179411   2023-07-31\n1179412   2023-07-31\n1179413   2023-07-31\nName: EventDate, Length: 1179414, dtype: datetime64[ns]"
     },
     "execution_count": 4,
     "metadata": {},
     "output_type": "execute_result"
    }
   ],
   "source": [
    "cri_compustat_merged['EventDate']"
   ]
  },
  {
   "cell_type": "code",
   "execution_count": 5,
   "metadata": {
    "ExecuteTime": {
     "end_time": "2023-11-03T13:51:34.140909Z",
     "start_time": "2023-11-03T13:51:33.906635Z"
    }
   },
   "outputs": [],
   "source": [
    "#refactor\n",
    "cols = list(cri_compustat_merged.columns)\n",
    "\n",
    "cri_compustat_merged.sort_values(by='EventDate', inplace=True)\n",
    "date2022 = datetime.datetime(2022, 1, 1)\n",
    "date2020 = datetime.datetime(2020,1,1)\n",
    "train_df = cri_compustat_merged[cri_compustat_merged[\"EventDate\"] < date2020]\n",
    "validation_df = cri_compustat_merged[(cri_compustat_merged[\"EventDate\"] >= date2020) & (cri_compustat_merged[\"EventDate\"] < date2022)]\n",
    "test_df = cri_compustat_merged[cri_compustat_merged[\"EventDate\"] >= date2022]"
   ]
  },
  {
   "cell_type": "code",
   "execution_count": 6,
   "metadata": {
    "ExecuteTime": {
     "end_time": "2023-11-03T13:51:36.831755Z",
     "start_time": "2023-11-03T13:51:36.821467Z"
    }
   },
   "outputs": [
    {
     "data": {
      "text/plain": "0.7903925169618133"
     },
     "execution_count": 6,
     "metadata": {},
     "output_type": "execute_result"
    }
   ],
   "source": [
    "len(cri_compustat_merged[cri_compustat_merged['Default'] == 1])/len(cri_compustat_merged)*100"
   ]
  },
  {
   "cell_type": "code",
   "execution_count": 7,
   "metadata": {
    "ExecuteTime": {
     "end_time": "2023-11-03T13:51:36.994222Z",
     "start_time": "2023-11-03T13:51:36.990256Z"
    }
   },
   "outputs": [
    {
     "data": {
      "text/plain": "0.5420333110344946"
     },
     "execution_count": 7,
     "metadata": {},
     "output_type": "execute_result"
    }
   ],
   "source": [
    "len(validation_df[validation_df['Default'] == 1])/len(validation_df) *100"
   ]
  },
  {
   "cell_type": "code",
   "execution_count": 8,
   "metadata": {
    "ExecuteTime": {
     "end_time": "2023-11-03T13:51:37.232484Z",
     "start_time": "2023-11-03T13:51:37.224565Z"
    }
   },
   "outputs": [
    {
     "data": {
      "text/plain": "0.42696444699893255"
     },
     "execution_count": 8,
     "metadata": {},
     "output_type": "execute_result"
    }
   ],
   "source": [
    "len(test_df[test_df['Default'] == 1])/len(test_df) *100"
   ]
  },
  {
   "cell_type": "code",
   "execution_count": 9,
   "metadata": {
    "ExecuteTime": {
     "end_time": "2023-11-03T13:51:38.583461Z",
     "start_time": "2023-11-03T13:51:38.560089Z"
    }
   },
   "outputs": [
    {
     "data": {
      "text/plain": "         CompNo    year  month   StkIndx     STInt  dtdlevel  dtdtrend  \\\n4655      28611  2000.0      1  0.089239  0.011089  0.756315  0.546429   \n4676      34602  2000.0      1  0.089239  0.011089  0.980684 -0.365880   \n4700      40983  2000.0      1  0.089239  0.011089  0.287877 -0.785039   \n5031      27240  2000.0      1  0.089239  0.011089  1.608767 -0.579390   \n4808      29969  2000.0      1  0.089239  0.011089  0.480276  0.613480   \n...         ...     ...    ...       ...       ...       ...       ...   \n1173086   30473  2023.0      3 -0.092950  0.007115 -0.761189 -0.147672   \n1171271   27346  2023.0      3 -0.092950  0.007115 -1.113511  0.000000   \n1171740   46481  2023.0      3 -0.092950  0.007115  0.622700 -0.098017   \n1174492   27346  2023.0      4 -0.027527  0.008456 -1.113511 -0.055722   \n1176957   27346  2023.0      5  0.011539  0.009881 -1.113511 -0.319639   \n\n         liqnonfinlevel  liqnonfintrend  ni2talevel  ...  \\\n4655           0.301765        0.286080   -0.014388  ...   \n4676          -0.033778       -0.118834   -0.001747  ...   \n4700           1.117781       -0.134035   -0.002720  ...   \n5031           0.546160        0.131284   -0.001938  ...   \n4808           0.701922        0.042428   -0.005224  ...   \n...                 ...             ...         ...  ...   \n1173086        1.021671       -0.218530   -0.034514  ...   \n1171271        0.098426        0.000000   -0.016226  ...   \n1171740        1.692032        0.166245   -0.036078  ...   \n1174492        0.098426        0.000000   -0.016226  ...   \n1176957        0.083153       -0.045819   -0.015165  ...   \n\n         day_sales_outstanding  working_capital_turnover  price_to_earnings  \\\n4655                  9.492897                 -0.000000          46.153846   \n4676                 51.404615                  2.122705          -1.875000   \n4700                147.829040                 -2.546999          -0.128240   \n5031                300.709446                  2.072832          -0.714286   \n4808                109.669789                 -0.844392          -0.030058   \n...                        ...                       ...                ...   \n1173086             420.690530                 -0.483450          -0.176829   \n1171271             262.553615                  7.346535          -0.857143   \n1171740               0.000000                  0.000000          -0.868966   \n1174492             262.553615                  7.346535          -0.857143   \n1176957             262.553615                  7.346535          -0.857143   \n\n         dividend_payout_ratio  retention_ratio  gross_margin_ratio  \\\n4655                      -0.0              1.0           36.490270   \n4676                      -0.0              1.0           33.220235   \n4700                      -0.0              1.0           64.491489   \n5031                      -0.0              1.0            6.380575   \n4808                      -0.0              1.0            3.667787   \n...                        ...              ...                 ...   \n1173086                   -0.0              1.0           27.335511   \n1171271                   -0.0              1.0           28.008907   \n1171740                   -0.0              1.0         -324.793063   \n1174492                   -0.0              1.0           28.008907   \n1176957                   -0.0              1.0           28.008907   \n\n         operating_profit_margin  ebitda_margin  debt_service_coverage_ratio  \\\n4655               -4.708875e+01  -3.332780e+01                    -0.126920   \n4676               -8.781080e+01  -8.606458e+01                    -0.980703   \n4700               -4.249063e+00   3.802359e+01                    -0.027480   \n5031               -1.007847e+02  -9.646779e+01                    -0.394548   \n4808               -1.013477e+02  -9.821682e+01                    -1.066224   \n...                          ...            ...                          ...   \n1173086            -7.955085e+01  -7.106463e+01                    -0.100127   \n1171271            -6.484238e+01  -6.139693e+01                    -0.208368   \n1171740            -2.189250e+07  -2.185540e+07                    -1.577718   \n1174492            -6.484238e+01  -6.139693e+01                    -0.208368   \n1176957            -6.484238e+01  -6.139693e+01                    -0.208368   \n\n         interest_coverage_ratio  \n4655                    1.876995  \n4676                   -6.932852  \n4700                    8.689003  \n5031                   -1.173697  \n4808                   -0.988917  \n...                          ...  \n1173086                -0.365241  \n1171271                 0.744811  \n1171740              -223.529412  \n1174492                 0.744811  \n1176957                 0.744811  \n\n[9322 rows x 52 columns]",
      "text/html": "<div>\n<style scoped>\n    .dataframe tbody tr th:only-of-type {\n        vertical-align: middle;\n    }\n\n    .dataframe tbody tr th {\n        vertical-align: top;\n    }\n\n    .dataframe thead th {\n        text-align: right;\n    }\n</style>\n<table border=\"1\" class=\"dataframe\">\n  <thead>\n    <tr style=\"text-align: right;\">\n      <th></th>\n      <th>CompNo</th>\n      <th>year</th>\n      <th>month</th>\n      <th>StkIndx</th>\n      <th>STInt</th>\n      <th>dtdlevel</th>\n      <th>dtdtrend</th>\n      <th>liqnonfinlevel</th>\n      <th>liqnonfintrend</th>\n      <th>ni2talevel</th>\n      <th>...</th>\n      <th>day_sales_outstanding</th>\n      <th>working_capital_turnover</th>\n      <th>price_to_earnings</th>\n      <th>dividend_payout_ratio</th>\n      <th>retention_ratio</th>\n      <th>gross_margin_ratio</th>\n      <th>operating_profit_margin</th>\n      <th>ebitda_margin</th>\n      <th>debt_service_coverage_ratio</th>\n      <th>interest_coverage_ratio</th>\n    </tr>\n  </thead>\n  <tbody>\n    <tr>\n      <th>4655</th>\n      <td>28611</td>\n      <td>2000.0</td>\n      <td>1</td>\n      <td>0.089239</td>\n      <td>0.011089</td>\n      <td>0.756315</td>\n      <td>0.546429</td>\n      <td>0.301765</td>\n      <td>0.286080</td>\n      <td>-0.014388</td>\n      <td>...</td>\n      <td>9.492897</td>\n      <td>-0.000000</td>\n      <td>46.153846</td>\n      <td>-0.0</td>\n      <td>1.0</td>\n      <td>36.490270</td>\n      <td>-4.708875e+01</td>\n      <td>-3.332780e+01</td>\n      <td>-0.126920</td>\n      <td>1.876995</td>\n    </tr>\n    <tr>\n      <th>4676</th>\n      <td>34602</td>\n      <td>2000.0</td>\n      <td>1</td>\n      <td>0.089239</td>\n      <td>0.011089</td>\n      <td>0.980684</td>\n      <td>-0.365880</td>\n      <td>-0.033778</td>\n      <td>-0.118834</td>\n      <td>-0.001747</td>\n      <td>...</td>\n      <td>51.404615</td>\n      <td>2.122705</td>\n      <td>-1.875000</td>\n      <td>-0.0</td>\n      <td>1.0</td>\n      <td>33.220235</td>\n      <td>-8.781080e+01</td>\n      <td>-8.606458e+01</td>\n      <td>-0.980703</td>\n      <td>-6.932852</td>\n    </tr>\n    <tr>\n      <th>4700</th>\n      <td>40983</td>\n      <td>2000.0</td>\n      <td>1</td>\n      <td>0.089239</td>\n      <td>0.011089</td>\n      <td>0.287877</td>\n      <td>-0.785039</td>\n      <td>1.117781</td>\n      <td>-0.134035</td>\n      <td>-0.002720</td>\n      <td>...</td>\n      <td>147.829040</td>\n      <td>-2.546999</td>\n      <td>-0.128240</td>\n      <td>-0.0</td>\n      <td>1.0</td>\n      <td>64.491489</td>\n      <td>-4.249063e+00</td>\n      <td>3.802359e+01</td>\n      <td>-0.027480</td>\n      <td>8.689003</td>\n    </tr>\n    <tr>\n      <th>5031</th>\n      <td>27240</td>\n      <td>2000.0</td>\n      <td>1</td>\n      <td>0.089239</td>\n      <td>0.011089</td>\n      <td>1.608767</td>\n      <td>-0.579390</td>\n      <td>0.546160</td>\n      <td>0.131284</td>\n      <td>-0.001938</td>\n      <td>...</td>\n      <td>300.709446</td>\n      <td>2.072832</td>\n      <td>-0.714286</td>\n      <td>-0.0</td>\n      <td>1.0</td>\n      <td>6.380575</td>\n      <td>-1.007847e+02</td>\n      <td>-9.646779e+01</td>\n      <td>-0.394548</td>\n      <td>-1.173697</td>\n    </tr>\n    <tr>\n      <th>4808</th>\n      <td>29969</td>\n      <td>2000.0</td>\n      <td>1</td>\n      <td>0.089239</td>\n      <td>0.011089</td>\n      <td>0.480276</td>\n      <td>0.613480</td>\n      <td>0.701922</td>\n      <td>0.042428</td>\n      <td>-0.005224</td>\n      <td>...</td>\n      <td>109.669789</td>\n      <td>-0.844392</td>\n      <td>-0.030058</td>\n      <td>-0.0</td>\n      <td>1.0</td>\n      <td>3.667787</td>\n      <td>-1.013477e+02</td>\n      <td>-9.821682e+01</td>\n      <td>-1.066224</td>\n      <td>-0.988917</td>\n    </tr>\n    <tr>\n      <th>...</th>\n      <td>...</td>\n      <td>...</td>\n      <td>...</td>\n      <td>...</td>\n      <td>...</td>\n      <td>...</td>\n      <td>...</td>\n      <td>...</td>\n      <td>...</td>\n      <td>...</td>\n      <td>...</td>\n      <td>...</td>\n      <td>...</td>\n      <td>...</td>\n      <td>...</td>\n      <td>...</td>\n      <td>...</td>\n      <td>...</td>\n      <td>...</td>\n      <td>...</td>\n      <td>...</td>\n    </tr>\n    <tr>\n      <th>1173086</th>\n      <td>30473</td>\n      <td>2023.0</td>\n      <td>3</td>\n      <td>-0.092950</td>\n      <td>0.007115</td>\n      <td>-0.761189</td>\n      <td>-0.147672</td>\n      <td>1.021671</td>\n      <td>-0.218530</td>\n      <td>-0.034514</td>\n      <td>...</td>\n      <td>420.690530</td>\n      <td>-0.483450</td>\n      <td>-0.176829</td>\n      <td>-0.0</td>\n      <td>1.0</td>\n      <td>27.335511</td>\n      <td>-7.955085e+01</td>\n      <td>-7.106463e+01</td>\n      <td>-0.100127</td>\n      <td>-0.365241</td>\n    </tr>\n    <tr>\n      <th>1171271</th>\n      <td>27346</td>\n      <td>2023.0</td>\n      <td>3</td>\n      <td>-0.092950</td>\n      <td>0.007115</td>\n      <td>-1.113511</td>\n      <td>0.000000</td>\n      <td>0.098426</td>\n      <td>0.000000</td>\n      <td>-0.016226</td>\n      <td>...</td>\n      <td>262.553615</td>\n      <td>7.346535</td>\n      <td>-0.857143</td>\n      <td>-0.0</td>\n      <td>1.0</td>\n      <td>28.008907</td>\n      <td>-6.484238e+01</td>\n      <td>-6.139693e+01</td>\n      <td>-0.208368</td>\n      <td>0.744811</td>\n    </tr>\n    <tr>\n      <th>1171740</th>\n      <td>46481</td>\n      <td>2023.0</td>\n      <td>3</td>\n      <td>-0.092950</td>\n      <td>0.007115</td>\n      <td>0.622700</td>\n      <td>-0.098017</td>\n      <td>1.692032</td>\n      <td>0.166245</td>\n      <td>-0.036078</td>\n      <td>...</td>\n      <td>0.000000</td>\n      <td>0.000000</td>\n      <td>-0.868966</td>\n      <td>-0.0</td>\n      <td>1.0</td>\n      <td>-324.793063</td>\n      <td>-2.189250e+07</td>\n      <td>-2.185540e+07</td>\n      <td>-1.577718</td>\n      <td>-223.529412</td>\n    </tr>\n    <tr>\n      <th>1174492</th>\n      <td>27346</td>\n      <td>2023.0</td>\n      <td>4</td>\n      <td>-0.027527</td>\n      <td>0.008456</td>\n      <td>-1.113511</td>\n      <td>-0.055722</td>\n      <td>0.098426</td>\n      <td>0.000000</td>\n      <td>-0.016226</td>\n      <td>...</td>\n      <td>262.553615</td>\n      <td>7.346535</td>\n      <td>-0.857143</td>\n      <td>-0.0</td>\n      <td>1.0</td>\n      <td>28.008907</td>\n      <td>-6.484238e+01</td>\n      <td>-6.139693e+01</td>\n      <td>-0.208368</td>\n      <td>0.744811</td>\n    </tr>\n    <tr>\n      <th>1176957</th>\n      <td>27346</td>\n      <td>2023.0</td>\n      <td>5</td>\n      <td>0.011539</td>\n      <td>0.009881</td>\n      <td>-1.113511</td>\n      <td>-0.319639</td>\n      <td>0.083153</td>\n      <td>-0.045819</td>\n      <td>-0.015165</td>\n      <td>...</td>\n      <td>262.553615</td>\n      <td>7.346535</td>\n      <td>-0.857143</td>\n      <td>-0.0</td>\n      <td>1.0</td>\n      <td>28.008907</td>\n      <td>-6.484238e+01</td>\n      <td>-6.139693e+01</td>\n      <td>-0.208368</td>\n      <td>0.744811</td>\n    </tr>\n  </tbody>\n</table>\n<p>9322 rows × 52 columns</p>\n</div>"
     },
     "execution_count": 9,
     "metadata": {},
     "output_type": "execute_result"
    }
   ],
   "source": [
    "cri_compustat_merged[cri_compustat_merged['Default'] == 1]"
   ]
  },
  {
   "cell_type": "code",
   "execution_count": 10,
   "metadata": {
    "ExecuteTime": {
     "end_time": "2023-11-03T13:51:39.200133Z",
     "start_time": "2023-11-03T13:51:39.197610Z"
    }
   },
   "outputs": [
    {
     "data": {
      "text/plain": "Index(['CompNo', 'year', 'month', 'StkIndx', 'STInt', 'dtdlevel', 'dtdtrend',\n       'liqnonfinlevel', 'liqnonfintrend', 'ni2talevel', 'ni2tatrend',\n       'sizelevel', 'sizetrend', 'm2b', 'sigma', 'liqfinlevel', 'lqfintrend',\n       'DTDmedianFin', 'DTDmedianNonFin', 'dummy297fin', 'Default', 'day',\n       'date', 'StartDate', 'EventDate', 'Duration', 'gvkey', 'tic',\n       'current_ratio', 'quick_ratio', 'cash_ratio', 'net_working_capital',\n       'debt_ratio', 'debt_to_equity_ratio', 'equity_ratio',\n       'cashflow_to_debt_ratio', 'net_profit_margin', 'return_on_assets',\n       'asset_turnover', 'inventory_turnover', 'days_in_inventory',\n       'receivables_turnover', 'day_sales_outstanding',\n       'working_capital_turnover', 'price_to_earnings',\n       'dividend_payout_ratio', 'retention_ratio', 'gross_margin_ratio',\n       'operating_profit_margin', 'ebitda_margin',\n       'debt_service_coverage_ratio', 'interest_coverage_ratio'],\n      dtype='object')"
     },
     "execution_count": 10,
     "metadata": {},
     "output_type": "execute_result"
    }
   ],
   "source": [
    "cri_compustat_merged.columns"
   ]
  },
  {
   "cell_type": "code",
   "execution_count": 11,
   "metadata": {
    "ExecuteTime": {
     "end_time": "2023-11-03T13:51:40.793040Z",
     "start_time": "2023-11-03T13:51:39.691618Z"
    }
   },
   "outputs": [
    {
     "data": {
      "text/plain": "<Figure size 500x500 with 1 Axes>",
      "image/png": "[encoded data removed]"
     },
     "metadata": {},
     "output_type": "display_data"
    },
    {
     "name": "stdout",
     "output_type": "stream",
     "text": [
      "Imbalance Ratio is:121.55118644067797\n",
      " % of default is :0.008159855722686613\n"
     ]
    }
   ],
   "source": [
    "plt.figure(figsize=(5,5))\n",
    "sns.countplot(x=train_df[\"Default\"], palette=\"dark\")\n",
    "plt.title(\"Data Distribution of Bankrupt (training set)\")\n",
    "plt.show()\n",
    "majority_class_samples=train_df[\"Default\"].loc[train_df[\"Default\"]==0]\n",
    "minority_class_samples=train_df[\"Default\"].loc[train_df[\"Default\"]==1]\n",
    "Imbalance_Ratio= len(majority_class_samples)/len(minority_class_samples)\n",
    "percentage = len(minority_class_samples)/(len(minority_class_samples)+len(majority_class_samples))\n",
    "print(f\"Imbalance Ratio is:{Imbalance_Ratio}\")\n",
    "print(f\" % of default is :{percentage}\") "
   ]
  },
  {
   "cell_type": "code",
   "execution_count": 12,
   "metadata": {
    "ExecuteTime": {
     "end_time": "2023-11-03T13:51:41.410254Z",
     "start_time": "2023-11-03T13:51:41.389555Z"
    }
   },
   "outputs": [],
   "source": [
    "# drop unecessary columns\n",
    "train_df.drop([\"CompNo\", \"year\", \"month\", \"day\", \"date\"], axis=1, inplace=True)\n",
    "validation_df.drop([\"CompNo\", \"year\", \"month\", \"day\", \"date\"], axis=1, inplace=True)\n",
    "test_df.drop([\"CompNo\", \"year\", \"month\", \"day\", \"date\"], axis=1, inplace=True)"
   ]
  },
  {
   "cell_type": "code",
   "execution_count": 13,
   "metadata": {
    "ExecuteTime": {
     "end_time": "2023-11-03T13:51:42.364342Z",
     "start_time": "2023-11-03T13:51:42.351914Z"
    }
   },
   "outputs": [],
   "source": [
    "x_train = train_df.drop('Default', axis=1)\n",
    "y_train = train_df['Default']\n",
    "x_validation = validation_df.drop('Default', axis=1)\n",
    "y_validation = validation_df['Default']\n",
    "x_test = test_df.drop('Default', axis=1)\n",
    "y_test = test_df[\"Default\"]"
   ]
  },
  {
   "cell_type": "code",
   "execution_count": 14,
   "metadata": {
    "ExecuteTime": {
     "end_time": "2023-11-03T13:51:42.907892Z",
     "start_time": "2023-11-03T13:51:42.901408Z"
    }
   },
   "outputs": [],
   "source": [
    "def get_num_cat_columns(dataframe):\n",
    "    categorical_cols=dataframe.select_dtypes(include=\"object\").columns\n",
    "    numerical_cols=dataframe.select_dtypes(exclude=\"object\").columns\n",
    "    \n",
    "    return categorical_cols, numerical_cols"
   ]
  },
  {
   "cell_type": "code",
   "execution_count": 15,
   "metadata": {
    "ExecuteTime": {
     "end_time": "2023-11-03T13:51:43.291465Z",
     "start_time": "2023-11-03T13:51:43.228814Z"
    }
   },
   "outputs": [],
   "source": [
    "categorical_cols, numerical_cols= get_num_cat_columns(x_train)"
   ]
  },
  {
   "cell_type": "code",
   "execution_count": 16,
   "metadata": {
    "ExecuteTime": {
     "end_time": "2023-11-03T13:51:43.803637Z",
     "start_time": "2023-11-03T13:51:43.800362Z"
    }
   },
   "outputs": [
    {
     "data": {
      "text/plain": "((1084578, 46), (36537, 46), (58299, 46), (1084578,), (36537,), (58299,))"
     },
     "execution_count": 16,
     "metadata": {},
     "output_type": "execute_result"
    }
   ],
   "source": [
    "# shape of data after removing the outliers in the training data\n",
    "x_train.shape,x_test.shape,x_validation.shape ,y_train.shape, y_test.shape, y_validation.shape"
   ]
  },
  {
   "cell_type": "code",
   "execution_count": 17,
   "metadata": {
    "ExecuteTime": {
     "end_time": "2023-11-03T13:52:17.744840Z",
     "start_time": "2023-11-03T13:51:44.765138Z"
    }
   },
   "outputs": [],
   "source": [
    "x_train.to_csv(\"../Dataset/\" + \"X_train_winsorized.csv\", index=False)"
   ]
  },
  {
   "cell_type": "code",
   "execution_count": 18,
   "metadata": {
    "ExecuteTime": {
     "end_time": "2023-11-03T13:52:18.858749Z",
     "start_time": "2023-11-03T13:52:17.745552Z"
    }
   },
   "outputs": [],
   "source": [
    "x_test.to_csv(\"../Dataset/\" + \"X_test.csv\", index=False)"
   ]
  },
  {
   "cell_type": "code",
   "execution_count": 19,
   "metadata": {
    "ExecuteTime": {
     "end_time": "2023-11-03T13:52:20.627616Z",
     "start_time": "2023-11-03T13:52:18.858999Z"
    }
   },
   "outputs": [],
   "source": [
    "x_validation.to_csv(\"../Dataset/\" + \"X_validation.csv\", index=False)"
   ]
  },
  {
   "cell_type": "code",
   "execution_count": 20,
   "metadata": {
    "ExecuteTime": {
     "end_time": "2023-11-03T13:52:21.036319Z",
     "start_time": "2023-11-03T13:52:20.628519Z"
    }
   },
   "outputs": [],
   "source": [
    "y_train.to_csv(\"../Dataset/\" + \"Y_train_winsorized.csv\", index=False)"
   ]
  },
  {
   "cell_type": "code",
   "execution_count": 21,
   "metadata": {
    "ExecuteTime": {
     "end_time": "2023-11-03T13:52:21.053391Z",
     "start_time": "2023-11-03T13:52:21.036750Z"
    }
   },
   "outputs": [],
   "source": [
    "y_test.to_csv(\"../Dataset/\" + \"Y_test.csv\", index=False)"
   ]
  },
  {
   "cell_type": "code",
   "execution_count": 22,
   "metadata": {
    "ExecuteTime": {
     "end_time": "2023-11-03T13:52:21.079266Z",
     "start_time": "2023-11-03T13:52:21.053935Z"
    }
   },
   "outputs": [],
   "source": [
    "y_validation.to_csv(\"../Dataset/\" + \"Y_validation.csv\", index=False)"
   ]
  },
  {
   "cell_type": "code",
   "execution_count": null,
   "outputs": [],
   "source": [],
   "metadata": {
    "collapsed": false,
    "ExecuteTime": {
     "start_time": "2023-11-03T13:49:15.741807Z"
    }
   }
  }
 ],
 "metadata": {
  "kernelspec": {
   "display_name": ".venv",
   "language": "python",
   "name": "python3"
  },
  "language_info": {
   "codemirror_mode": {
    "name": "ipython",
    "version": 3
   },
   "file_extension": ".py",
   "mimetype": "text/x-python",
   "name": "python",
   "nbconvert_exporter": "python",
   "pygments_lexer": "ipython3",
   "version": "3.10.2"
  },
  "orig_nbformat": 4
 },
 "nbformat": 4,
 "nbformat_minor": 2
}
