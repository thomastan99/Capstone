{
 "cells": [
  {
   "cell_type": "code",
   "execution_count": 2,
   "metadata": {},
   "outputs": [],
   "source": [
    "# Import all the necessary libraries\n",
    "import pandas as pd\n",
    "import datetime\n",
    "import numpy as np\n",
    "import seaborn as sns\n",
    "import plotly.express as px\n",
    "import matplotlib.pyplot as plt\n",
    "from sklearn.tree import plot_tree\n",
    "from sklearn.decomposition import PCA\n",
    "from imblearn.over_sampling import SMOTE\n",
    "from sklearn.ensemble import VotingClassifier\n",
    "from sklearn.preprocessing import RobustScaler\n",
    "from sklearn.tree import DecisionTreeClassifier\n",
    "from sklearn.ensemble import RandomForestClassifier\n",
    "from sklearn.linear_model import LogisticRegression\n",
    "from sklearn.ensemble import GradientBoostingClassifier\n",
    "from sklearn.model_selection import train_test_split, GridSearchCV\n",
    "from sklearn.metrics import accuracy_score,roc_auc_score,precision_score, recall_score, f1_score,ConfusionMatrixDisplay,classification_report\n",
    "\n",
    "\n",
    "import warnings \n",
    "warnings.filterwarnings(\"ignore\")"
   ]
  },
  {
   "cell_type": "code",
   "execution_count": 33,
   "metadata": {},
   "outputs": [
    {
     "data": {
      "text/plain": [
       "1179414"
      ]
     },
     "execution_count": 33,
     "metadata": {},
     "output_type": "execute_result"
    }
   ],
   "source": [
    "cri_compustat_merged = pd.read_pickle(\"cri_compustat_merged_v6.pkl\")\n",
    "cri_compustat_merged.shape[0]"
   ]
  },
  {
   "cell_type": "code",
   "execution_count": 37,
   "metadata": {},
   "outputs": [
    {
     "data": {
      "text/plain": [
       "0          CDSI.2\n",
       "1            DXPE\n",
       "2            ZICA\n",
       "3            XLTC\n",
       "4            MRYP\n",
       "            ...  \n",
       "1179409        DE\n",
       "1179410       WSM\n",
       "1179411       DDS\n",
       "1179412       BBY\n",
       "1179413      DXLG\n",
       "Name: tic, Length: 1179414, dtype: object"
      ]
     },
     "execution_count": 37,
     "metadata": {},
     "output_type": "execute_result"
    }
   ],
   "source": [
    "cri_compustat_merged['tic']"
   ]
  },
  {
   "cell_type": "code",
   "execution_count": 34,
   "metadata": {},
   "outputs": [
    {
     "data": {
      "text/plain": [
       "(1829792, 8)"
      ]
     },
     "execution_count": 34,
     "metadata": {},
     "output_type": "execute_result"
    }
   ],
   "source": [
    "yfinance = pd.read_pickle(\"final_yfiance.pkl\")\n",
    "yfinance.shape"
   ]
  },
  {
   "cell_type": "code",
   "execution_count": 40,
   "metadata": {},
   "outputs": [
    {
     "data": {
      "text/html": [
       "<div>\n",
       "<style scoped>\n",
       "    .dataframe tbody tr th:only-of-type {\n",
       "        vertical-align: middle;\n",
       "    }\n",
       "\n",
       "    .dataframe tbody tr th {\n",
       "        vertical-align: top;\n",
       "    }\n",
       "\n",
       "    .dataframe thead th {\n",
       "        text-align: right;\n",
       "    }\n",
       "</style>\n",
       "<table border=\"1\" class=\"dataframe\">\n",
       "  <thead>\n",
       "    <tr style=\"text-align: right;\">\n",
       "      <th></th>\n",
       "      <th>tic</th>\n",
       "      <th>yyyy</th>\n",
       "      <th>mm</th>\n",
       "      <th>Rolling_Sortino</th>\n",
       "      <th>macd</th>\n",
       "      <th>macd_h</th>\n",
       "      <th>macd_s</th>\n",
       "      <th>rsi</th>\n",
       "    </tr>\n",
       "  </thead>\n",
       "  <tbody>\n",
       "    <tr>\n",
       "      <th>0</th>\n",
       "      <td>A</td>\n",
       "      <td>2000</td>\n",
       "      <td>2</td>\n",
       "      <td>NaN</td>\n",
       "      <td>1.075967</td>\n",
       "      <td>0.860774</td>\n",
       "      <td>0.215193</td>\n",
       "      <td>100.000000</td>\n",
       "    </tr>\n",
       "    <tr>\n",
       "      <th>1</th>\n",
       "      <td>A</td>\n",
       "      <td>2000</td>\n",
       "      <td>3</td>\n",
       "      <td>NaN</td>\n",
       "      <td>3.969328</td>\n",
       "      <td>3.003308</td>\n",
       "      <td>0.966020</td>\n",
       "      <td>100.000000</td>\n",
       "    </tr>\n",
       "    <tr>\n",
       "      <th>2</th>\n",
       "      <td>A</td>\n",
       "      <td>2000</td>\n",
       "      <td>4</td>\n",
       "      <td>NaN</td>\n",
       "      <td>4.539882</td>\n",
       "      <td>2.859089</td>\n",
       "      <td>1.680793</td>\n",
       "      <td>65.530596</td>\n",
       "    </tr>\n",
       "    <tr>\n",
       "      <th>3</th>\n",
       "      <td>A</td>\n",
       "      <td>2000</td>\n",
       "      <td>5</td>\n",
       "      <td>NaN</td>\n",
       "      <td>4.087595</td>\n",
       "      <td>1.925442</td>\n",
       "      <td>2.162153</td>\n",
       "      <td>55.676209</td>\n",
       "    </tr>\n",
       "    <tr>\n",
       "      <th>4</th>\n",
       "      <td>A</td>\n",
       "      <td>2000</td>\n",
       "      <td>6</td>\n",
       "      <td>NaN</td>\n",
       "      <td>3.326092</td>\n",
       "      <td>0.931151</td>\n",
       "      <td>2.394941</td>\n",
       "      <td>52.327200</td>\n",
       "    </tr>\n",
       "    <tr>\n",
       "      <th>...</th>\n",
       "      <td>...</td>\n",
       "      <td>...</td>\n",
       "      <td>...</td>\n",
       "      <td>...</td>\n",
       "      <td>...</td>\n",
       "      <td>...</td>\n",
       "      <td>...</td>\n",
       "      <td>...</td>\n",
       "    </tr>\n",
       "    <tr>\n",
       "      <th>1829787</th>\n",
       "      <td>ZZZOF</td>\n",
       "      <td>2023</td>\n",
       "      <td>1</td>\n",
       "      <td>-10.560671</td>\n",
       "      <td>-0.612086</td>\n",
       "      <td>0.180779</td>\n",
       "      <td>-0.792866</td>\n",
       "      <td>31.538242</td>\n",
       "    </tr>\n",
       "    <tr>\n",
       "      <th>1829788</th>\n",
       "      <td>ZZZOF</td>\n",
       "      <td>2023</td>\n",
       "      <td>2</td>\n",
       "      <td>-13.056398</td>\n",
       "      <td>-0.577128</td>\n",
       "      <td>0.172590</td>\n",
       "      <td>-0.749718</td>\n",
       "      <td>33.238700</td>\n",
       "    </tr>\n",
       "    <tr>\n",
       "      <th>1829789</th>\n",
       "      <td>ZZZOF</td>\n",
       "      <td>2023</td>\n",
       "      <td>3</td>\n",
       "      <td>-12.786201</td>\n",
       "      <td>-0.546051</td>\n",
       "      <td>0.162933</td>\n",
       "      <td>-0.708985</td>\n",
       "      <td>32.361822</td>\n",
       "    </tr>\n",
       "    <tr>\n",
       "      <th>1829790</th>\n",
       "      <td>ZZZOF</td>\n",
       "      <td>2023</td>\n",
       "      <td>4</td>\n",
       "      <td>-16.810842</td>\n",
       "      <td>-0.514913</td>\n",
       "      <td>0.155257</td>\n",
       "      <td>-0.670170</td>\n",
       "      <td>32.844994</td>\n",
       "    </tr>\n",
       "    <tr>\n",
       "      <th>1829791</th>\n",
       "      <td>ZZZOF</td>\n",
       "      <td>2023</td>\n",
       "      <td>5</td>\n",
       "      <td>-17.886817</td>\n",
       "      <td>-0.487082</td>\n",
       "      <td>0.146471</td>\n",
       "      <td>-0.633553</td>\n",
       "      <td>32.094663</td>\n",
       "    </tr>\n",
       "  </tbody>\n",
       "</table>\n",
       "<p>1829792 rows × 8 columns</p>\n",
       "</div>"
      ],
      "text/plain": [
       "           tic  yyyy  mm  Rolling_Sortino      macd    macd_h    macd_s  \\\n",
       "0            A  2000   2              NaN  1.075967  0.860774  0.215193   \n",
       "1            A  2000   3              NaN  3.969328  3.003308  0.966020   \n",
       "2            A  2000   4              NaN  4.539882  2.859089  1.680793   \n",
       "3            A  2000   5              NaN  4.087595  1.925442  2.162153   \n",
       "4            A  2000   6              NaN  3.326092  0.931151  2.394941   \n",
       "...        ...   ...  ..              ...       ...       ...       ...   \n",
       "1829787  ZZZOF  2023   1       -10.560671 -0.612086  0.180779 -0.792866   \n",
       "1829788  ZZZOF  2023   2       -13.056398 -0.577128  0.172590 -0.749718   \n",
       "1829789  ZZZOF  2023   3       -12.786201 -0.546051  0.162933 -0.708985   \n",
       "1829790  ZZZOF  2023   4       -16.810842 -0.514913  0.155257 -0.670170   \n",
       "1829791  ZZZOF  2023   5       -17.886817 -0.487082  0.146471 -0.633553   \n",
       "\n",
       "                rsi  \n",
       "0        100.000000  \n",
       "1        100.000000  \n",
       "2         65.530596  \n",
       "3         55.676209  \n",
       "4         52.327200  \n",
       "...             ...  \n",
       "1829787   31.538242  \n",
       "1829788   33.238700  \n",
       "1829789   32.361822  \n",
       "1829790   32.844994  \n",
       "1829791   32.094663  \n",
       "\n",
       "[1829792 rows x 8 columns]"
      ]
     },
     "execution_count": 40,
     "metadata": {},
     "output_type": "execute_result"
    }
   ],
   "source": [
    "yfinance = yfinance.rename(columns={\"yyyy\":\"year\"})\n",
    "yfinance = yfinance.rename(columns={\"mm\":\"month\"})\n",
    "yfinance"
   ]
  },
  {
   "cell_type": "code",
   "execution_count": null,
   "metadata": {},
   "outputs": [],
   "source": [
    "cri_compustat_yfinance = cri_compustat_merged.merge(yfinance, on=['tic','year','month'], how='inner')"
   ]
  },
  {
   "cell_type": "code",
   "execution_count": 18,
   "metadata": {},
   "outputs": [
    {
     "data": {
      "text/plain": [
       "CompNo                         0\n",
       "year                           0\n",
       "month                          0\n",
       "StkIndx                        0\n",
       "STInt                          0\n",
       "dtdlevel                       0\n",
       "dtdtrend                       0\n",
       "liqnonfinlevel                 0\n",
       "liqnonfintrend                 0\n",
       "ni2talevel                     0\n",
       "ni2tatrend                     0\n",
       "sizelevel                      0\n",
       "sizetrend                      0\n",
       "m2b                            0\n",
       "sigma                          0\n",
       "liqfinlevel                    0\n",
       "lqfintrend                     0\n",
       "DTDmedianFin                   0\n",
       "DTDmedianNonFin                0\n",
       "dummy297fin                    0\n",
       "Default                        0\n",
       "day                            0\n",
       "date                           0\n",
       "StartDate                      0\n",
       "EventDate                      0\n",
       "Duration                       0\n",
       "gvkey                          0\n",
       "current_ratio                  0\n",
       "quick_ratio                    0\n",
       "cash_ratio                     0\n",
       "net_working_capital            0\n",
       "debt_ratio                     0\n",
       "debt_to_equity_ratio           0\n",
       "equity_ratio                   0\n",
       "cashflow_to_debt_ratio         0\n",
       "net_profit_margin              0\n",
       "return_on_assets               0\n",
       "asset_turnover                 0\n",
       "inventory_turnover             0\n",
       "days_in_inventory              0\n",
       "receivables_turnover           0\n",
       "day_sales_outstanding          0\n",
       "working_capital_turnover       0\n",
       "price_to_earnings              0\n",
       "dividend_payout_ratio          0\n",
       "retention_ratio                0\n",
       "gross_margin_ratio             0\n",
       "operating_profit_margin        0\n",
       "ebitda_margin                  0\n",
       "debt_service_coverage_ratio    0\n",
       "interest_coverage_ratio        0\n",
       "tic                            0\n",
       "dtype: int64"
      ]
     },
     "execution_count": 18,
     "metadata": {},
     "output_type": "execute_result"
    }
   ],
   "source": [
    "cri_compustat_merged.isna().sum()"
   ]
  },
  {
   "cell_type": "code",
   "execution_count": 19,
   "metadata": {},
   "outputs": [
    {
     "data": {
      "text/plain": [
       "0         2000-01-31\n",
       "1         2000-01-31\n",
       "2         2000-01-31\n",
       "3         2000-01-31\n",
       "4         2000-01-31\n",
       "             ...    \n",
       "1179409   2023-07-31\n",
       "1179410   2023-07-31\n",
       "1179411   2023-07-31\n",
       "1179412   2023-07-31\n",
       "1179413   2023-07-31\n",
       "Name: EventDate, Length: 1179414, dtype: datetime64[ns]"
      ]
     },
     "execution_count": 19,
     "metadata": {},
     "output_type": "execute_result"
    }
   ],
   "source": [
    "cri_compustat_merged['EventDate']"
   ]
  },
  {
   "cell_type": "code",
   "execution_count": 20,
   "metadata": {},
   "outputs": [],
   "source": [
    "#refactor\n",
    "cols = list(cri_compustat_merged.columns)\n",
    "\n",
    "cri_compustat_merged.sort_values(by='EventDate', inplace=True)\n",
    "date2022 = datetime.datetime(2022, 1, 1)\n",
    "date2020 = datetime.datetime(2020,1,1)\n",
    "train_df = cri_compustat_merged[cri_compustat_merged[\"EventDate\"] < date2020]\n",
    "validation_df = cri_compustat_merged[(cri_compustat_merged[\"EventDate\"] >= date2020) & (cri_compustat_merged[\"EventDate\"] < date2022)]\n",
    "test_df = cri_compustat_merged[cri_compustat_merged[\"EventDate\"] >= date2022]"
   ]
  },
  {
   "cell_type": "code",
   "execution_count": 25,
   "metadata": {},
   "outputs": [
    {
     "data": {
      "text/plain": [
       "0.7903925169618133"
      ]
     },
     "execution_count": 25,
     "metadata": {},
     "output_type": "execute_result"
    }
   ],
   "source": [
    "len(cri_compustat_merged[cri_compustat_merged['Default'] == 1])/len(cri_compustat_merged)*100"
   ]
  },
  {
   "cell_type": "code",
   "execution_count": 24,
   "metadata": {},
   "outputs": [
    {
     "data": {
      "text/plain": [
       "0.5420333110344946"
      ]
     },
     "execution_count": 24,
     "metadata": {},
     "output_type": "execute_result"
    }
   ],
   "source": [
    "len(validation_df[validation_df['Default'] == 1])/len(validation_df) *100"
   ]
  },
  {
   "cell_type": "code",
   "execution_count": 26,
   "metadata": {},
   "outputs": [
    {
     "data": {
      "text/plain": [
       "0.42696444699893255"
      ]
     },
     "execution_count": 26,
     "metadata": {},
     "output_type": "execute_result"
    }
   ],
   "source": [
    "len(test_df[test_df['Default'] == 1])/len(test_df) *100"
   ]
  },
  {
   "cell_type": "code",
   "execution_count": 7,
   "metadata": {},
   "outputs": [
    {
     "data": {
      "text/html": [
       "<div>\n",
       "<style scoped>\n",
       "    .dataframe tbody tr th:only-of-type {\n",
       "        vertical-align: middle;\n",
       "    }\n",
       "\n",
       "    .dataframe tbody tr th {\n",
       "        vertical-align: top;\n",
       "    }\n",
       "\n",
       "    .dataframe thead th {\n",
       "        text-align: right;\n",
       "    }\n",
       "</style>\n",
       "<table border=\"1\" class=\"dataframe\">\n",
       "  <thead>\n",
       "    <tr style=\"text-align: right;\">\n",
       "      <th></th>\n",
       "      <th>CompNo</th>\n",
       "      <th>year</th>\n",
       "      <th>month</th>\n",
       "      <th>StkIndx</th>\n",
       "      <th>STInt</th>\n",
       "      <th>dtdlevel</th>\n",
       "      <th>dtdtrend</th>\n",
       "      <th>liqnonfinlevel</th>\n",
       "      <th>liqnonfintrend</th>\n",
       "      <th>ni2talevel</th>\n",
       "      <th>...</th>\n",
       "      <th>working_capital_turnover</th>\n",
       "      <th>price_to_earnings</th>\n",
       "      <th>dividend_payout_ratio</th>\n",
       "      <th>retention_ratio</th>\n",
       "      <th>gross_margin_ratio</th>\n",
       "      <th>operating_profit_margin</th>\n",
       "      <th>ebitda_margin</th>\n",
       "      <th>debt_service_coverage_ratio</th>\n",
       "      <th>interest_coverage_ratio</th>\n",
       "      <th>tic</th>\n",
       "    </tr>\n",
       "  </thead>\n",
       "  <tbody>\n",
       "    <tr>\n",
       "      <th>4655</th>\n",
       "      <td>28611</td>\n",
       "      <td>2000.0</td>\n",
       "      <td>1</td>\n",
       "      <td>0.089239</td>\n",
       "      <td>0.011089</td>\n",
       "      <td>0.756315</td>\n",
       "      <td>0.546429</td>\n",
       "      <td>0.301765</td>\n",
       "      <td>0.286080</td>\n",
       "      <td>-0.014388</td>\n",
       "      <td>...</td>\n",
       "      <td>-0.000000</td>\n",
       "      <td>46.153846</td>\n",
       "      <td>-0.0</td>\n",
       "      <td>1.0</td>\n",
       "      <td>36.490270</td>\n",
       "      <td>-4.708875e+01</td>\n",
       "      <td>-3.332780e+01</td>\n",
       "      <td>-0.126920</td>\n",
       "      <td>1.876995</td>\n",
       "      <td>UBMSQ</td>\n",
       "    </tr>\n",
       "    <tr>\n",
       "      <th>4676</th>\n",
       "      <td>34602</td>\n",
       "      <td>2000.0</td>\n",
       "      <td>1</td>\n",
       "      <td>0.089239</td>\n",
       "      <td>0.011089</td>\n",
       "      <td>0.980684</td>\n",
       "      <td>-0.365880</td>\n",
       "      <td>-0.033778</td>\n",
       "      <td>-0.118834</td>\n",
       "      <td>-0.001747</td>\n",
       "      <td>...</td>\n",
       "      <td>2.122705</td>\n",
       "      <td>-1.875000</td>\n",
       "      <td>-0.0</td>\n",
       "      <td>1.0</td>\n",
       "      <td>33.220235</td>\n",
       "      <td>-8.781080e+01</td>\n",
       "      <td>-8.606458e+01</td>\n",
       "      <td>-0.980703</td>\n",
       "      <td>-6.932852</td>\n",
       "      <td>FRAE</td>\n",
       "    </tr>\n",
       "    <tr>\n",
       "      <th>4700</th>\n",
       "      <td>40983</td>\n",
       "      <td>2000.0</td>\n",
       "      <td>1</td>\n",
       "      <td>0.089239</td>\n",
       "      <td>0.011089</td>\n",
       "      <td>0.287877</td>\n",
       "      <td>-0.785039</td>\n",
       "      <td>1.117781</td>\n",
       "      <td>-0.134035</td>\n",
       "      <td>-0.002720</td>\n",
       "      <td>...</td>\n",
       "      <td>-2.546999</td>\n",
       "      <td>-0.128240</td>\n",
       "      <td>-0.0</td>\n",
       "      <td>1.0</td>\n",
       "      <td>64.491489</td>\n",
       "      <td>-4.249063e+00</td>\n",
       "      <td>3.802359e+01</td>\n",
       "      <td>-0.027480</td>\n",
       "      <td>8.689003</td>\n",
       "      <td>SSINQ</td>\n",
       "    </tr>\n",
       "    <tr>\n",
       "      <th>5031</th>\n",
       "      <td>27240</td>\n",
       "      <td>2000.0</td>\n",
       "      <td>1</td>\n",
       "      <td>0.089239</td>\n",
       "      <td>0.011089</td>\n",
       "      <td>1.608767</td>\n",
       "      <td>-0.579390</td>\n",
       "      <td>0.546160</td>\n",
       "      <td>0.131284</td>\n",
       "      <td>-0.001938</td>\n",
       "      <td>...</td>\n",
       "      <td>2.072832</td>\n",
       "      <td>-0.714286</td>\n",
       "      <td>-0.0</td>\n",
       "      <td>1.0</td>\n",
       "      <td>6.380575</td>\n",
       "      <td>-1.007847e+02</td>\n",
       "      <td>-9.646779e+01</td>\n",
       "      <td>-0.394548</td>\n",
       "      <td>-1.173697</td>\n",
       "      <td>CQB</td>\n",
       "    </tr>\n",
       "    <tr>\n",
       "      <th>4808</th>\n",
       "      <td>29969</td>\n",
       "      <td>2000.0</td>\n",
       "      <td>1</td>\n",
       "      <td>0.089239</td>\n",
       "      <td>0.011089</td>\n",
       "      <td>0.480276</td>\n",
       "      <td>0.613480</td>\n",
       "      <td>0.701922</td>\n",
       "      <td>0.042428</td>\n",
       "      <td>-0.005224</td>\n",
       "      <td>...</td>\n",
       "      <td>-0.844392</td>\n",
       "      <td>-0.030058</td>\n",
       "      <td>-0.0</td>\n",
       "      <td>1.0</td>\n",
       "      <td>3.667787</td>\n",
       "      <td>-1.013477e+02</td>\n",
       "      <td>-9.821682e+01</td>\n",
       "      <td>-1.066224</td>\n",
       "      <td>-0.988917</td>\n",
       "      <td>MM.1</td>\n",
       "    </tr>\n",
       "    <tr>\n",
       "      <th>...</th>\n",
       "      <td>...</td>\n",
       "      <td>...</td>\n",
       "      <td>...</td>\n",
       "      <td>...</td>\n",
       "      <td>...</td>\n",
       "      <td>...</td>\n",
       "      <td>...</td>\n",
       "      <td>...</td>\n",
       "      <td>...</td>\n",
       "      <td>...</td>\n",
       "      <td>...</td>\n",
       "      <td>...</td>\n",
       "      <td>...</td>\n",
       "      <td>...</td>\n",
       "      <td>...</td>\n",
       "      <td>...</td>\n",
       "      <td>...</td>\n",
       "      <td>...</td>\n",
       "      <td>...</td>\n",
       "      <td>...</td>\n",
       "      <td>...</td>\n",
       "    </tr>\n",
       "    <tr>\n",
       "      <th>1173086</th>\n",
       "      <td>30473</td>\n",
       "      <td>2023.0</td>\n",
       "      <td>3</td>\n",
       "      <td>-0.092950</td>\n",
       "      <td>0.007115</td>\n",
       "      <td>-0.761189</td>\n",
       "      <td>-0.147672</td>\n",
       "      <td>1.021671</td>\n",
       "      <td>-0.218530</td>\n",
       "      <td>-0.034514</td>\n",
       "      <td>...</td>\n",
       "      <td>-0.483450</td>\n",
       "      <td>-0.176829</td>\n",
       "      <td>-0.0</td>\n",
       "      <td>1.0</td>\n",
       "      <td>27.335511</td>\n",
       "      <td>-7.955085e+01</td>\n",
       "      <td>-7.106463e+01</td>\n",
       "      <td>-0.100127</td>\n",
       "      <td>-0.365241</td>\n",
       "      <td>LCINQ</td>\n",
       "    </tr>\n",
       "    <tr>\n",
       "      <th>1171271</th>\n",
       "      <td>27346</td>\n",
       "      <td>2023.0</td>\n",
       "      <td>3</td>\n",
       "      <td>-0.092950</td>\n",
       "      <td>0.007115</td>\n",
       "      <td>-1.113511</td>\n",
       "      <td>0.000000</td>\n",
       "      <td>0.098426</td>\n",
       "      <td>0.000000</td>\n",
       "      <td>-0.016226</td>\n",
       "      <td>...</td>\n",
       "      <td>7.346535</td>\n",
       "      <td>-0.857143</td>\n",
       "      <td>-0.0</td>\n",
       "      <td>1.0</td>\n",
       "      <td>28.008907</td>\n",
       "      <td>-6.484238e+01</td>\n",
       "      <td>-6.139693e+01</td>\n",
       "      <td>-0.208368</td>\n",
       "      <td>0.744811</td>\n",
       "      <td>DBD</td>\n",
       "    </tr>\n",
       "    <tr>\n",
       "      <th>1171740</th>\n",
       "      <td>46481</td>\n",
       "      <td>2023.0</td>\n",
       "      <td>3</td>\n",
       "      <td>-0.092950</td>\n",
       "      <td>0.007115</td>\n",
       "      <td>0.622700</td>\n",
       "      <td>-0.098017</td>\n",
       "      <td>1.692032</td>\n",
       "      <td>0.166245</td>\n",
       "      <td>-0.036078</td>\n",
       "      <td>...</td>\n",
       "      <td>0.000000</td>\n",
       "      <td>-0.868966</td>\n",
       "      <td>-0.0</td>\n",
       "      <td>1.0</td>\n",
       "      <td>-324.793063</td>\n",
       "      <td>-2.189250e+07</td>\n",
       "      <td>-2.185540e+07</td>\n",
       "      <td>-1.577718</td>\n",
       "      <td>-219.857143</td>\n",
       "      <td>RGTPQ</td>\n",
       "    </tr>\n",
       "    <tr>\n",
       "      <th>1174492</th>\n",
       "      <td>27346</td>\n",
       "      <td>2023.0</td>\n",
       "      <td>4</td>\n",
       "      <td>-0.027527</td>\n",
       "      <td>0.008456</td>\n",
       "      <td>-1.113511</td>\n",
       "      <td>-0.055722</td>\n",
       "      <td>0.098426</td>\n",
       "      <td>0.000000</td>\n",
       "      <td>-0.016226</td>\n",
       "      <td>...</td>\n",
       "      <td>7.346535</td>\n",
       "      <td>-0.857143</td>\n",
       "      <td>-0.0</td>\n",
       "      <td>1.0</td>\n",
       "      <td>28.008907</td>\n",
       "      <td>-6.484238e+01</td>\n",
       "      <td>-6.139693e+01</td>\n",
       "      <td>-0.208368</td>\n",
       "      <td>0.744811</td>\n",
       "      <td>DBD</td>\n",
       "    </tr>\n",
       "    <tr>\n",
       "      <th>1176957</th>\n",
       "      <td>27346</td>\n",
       "      <td>2023.0</td>\n",
       "      <td>5</td>\n",
       "      <td>0.011539</td>\n",
       "      <td>0.009881</td>\n",
       "      <td>-1.113511</td>\n",
       "      <td>-0.319639</td>\n",
       "      <td>0.083153</td>\n",
       "      <td>-0.045819</td>\n",
       "      <td>-0.015165</td>\n",
       "      <td>...</td>\n",
       "      <td>7.346535</td>\n",
       "      <td>-0.857143</td>\n",
       "      <td>-0.0</td>\n",
       "      <td>1.0</td>\n",
       "      <td>28.008907</td>\n",
       "      <td>-6.484238e+01</td>\n",
       "      <td>-6.139693e+01</td>\n",
       "      <td>-0.208368</td>\n",
       "      <td>0.744811</td>\n",
       "      <td>DBD</td>\n",
       "    </tr>\n",
       "  </tbody>\n",
       "</table>\n",
       "<p>9322 rows × 52 columns</p>\n",
       "</div>"
      ],
      "text/plain": [
       "         CompNo    year  month   StkIndx     STInt  dtdlevel  dtdtrend  \\\n",
       "4655      28611  2000.0      1  0.089239  0.011089  0.756315  0.546429   \n",
       "4676      34602  2000.0      1  0.089239  0.011089  0.980684 -0.365880   \n",
       "4700      40983  2000.0      1  0.089239  0.011089  0.287877 -0.785039   \n",
       "5031      27240  2000.0      1  0.089239  0.011089  1.608767 -0.579390   \n",
       "4808      29969  2000.0      1  0.089239  0.011089  0.480276  0.613480   \n",
       "...         ...     ...    ...       ...       ...       ...       ...   \n",
       "1173086   30473  2023.0      3 -0.092950  0.007115 -0.761189 -0.147672   \n",
       "1171271   27346  2023.0      3 -0.092950  0.007115 -1.113511  0.000000   \n",
       "1171740   46481  2023.0      3 -0.092950  0.007115  0.622700 -0.098017   \n",
       "1174492   27346  2023.0      4 -0.027527  0.008456 -1.113511 -0.055722   \n",
       "1176957   27346  2023.0      5  0.011539  0.009881 -1.113511 -0.319639   \n",
       "\n",
       "         liqnonfinlevel  liqnonfintrend  ni2talevel  ...  \\\n",
       "4655           0.301765        0.286080   -0.014388  ...   \n",
       "4676          -0.033778       -0.118834   -0.001747  ...   \n",
       "4700           1.117781       -0.134035   -0.002720  ...   \n",
       "5031           0.546160        0.131284   -0.001938  ...   \n",
       "4808           0.701922        0.042428   -0.005224  ...   \n",
       "...                 ...             ...         ...  ...   \n",
       "1173086        1.021671       -0.218530   -0.034514  ...   \n",
       "1171271        0.098426        0.000000   -0.016226  ...   \n",
       "1171740        1.692032        0.166245   -0.036078  ...   \n",
       "1174492        0.098426        0.000000   -0.016226  ...   \n",
       "1176957        0.083153       -0.045819   -0.015165  ...   \n",
       "\n",
       "         working_capital_turnover  price_to_earnings  dividend_payout_ratio  \\\n",
       "4655                    -0.000000          46.153846                   -0.0   \n",
       "4676                     2.122705          -1.875000                   -0.0   \n",
       "4700                    -2.546999          -0.128240                   -0.0   \n",
       "5031                     2.072832          -0.714286                   -0.0   \n",
       "4808                    -0.844392          -0.030058                   -0.0   \n",
       "...                           ...                ...                    ...   \n",
       "1173086                 -0.483450          -0.176829                   -0.0   \n",
       "1171271                  7.346535          -0.857143                   -0.0   \n",
       "1171740                  0.000000          -0.868966                   -0.0   \n",
       "1174492                  7.346535          -0.857143                   -0.0   \n",
       "1176957                  7.346535          -0.857143                   -0.0   \n",
       "\n",
       "         retention_ratio  gross_margin_ratio  operating_profit_margin  \\\n",
       "4655                 1.0           36.490270            -4.708875e+01   \n",
       "4676                 1.0           33.220235            -8.781080e+01   \n",
       "4700                 1.0           64.491489            -4.249063e+00   \n",
       "5031                 1.0            6.380575            -1.007847e+02   \n",
       "4808                 1.0            3.667787            -1.013477e+02   \n",
       "...                  ...                 ...                      ...   \n",
       "1173086              1.0           27.335511            -7.955085e+01   \n",
       "1171271              1.0           28.008907            -6.484238e+01   \n",
       "1171740              1.0         -324.793063            -2.189250e+07   \n",
       "1174492              1.0           28.008907            -6.484238e+01   \n",
       "1176957              1.0           28.008907            -6.484238e+01   \n",
       "\n",
       "         ebitda_margin  debt_service_coverage_ratio  interest_coverage_ratio  \\\n",
       "4655     -3.332780e+01                    -0.126920                 1.876995   \n",
       "4676     -8.606458e+01                    -0.980703                -6.932852   \n",
       "4700      3.802359e+01                    -0.027480                 8.689003   \n",
       "5031     -9.646779e+01                    -0.394548                -1.173697   \n",
       "4808     -9.821682e+01                    -1.066224                -0.988917   \n",
       "...                ...                          ...                      ...   \n",
       "1173086  -7.106463e+01                    -0.100127                -0.365241   \n",
       "1171271  -6.139693e+01                    -0.208368                 0.744811   \n",
       "1171740  -2.185540e+07                    -1.577718              -219.857143   \n",
       "1174492  -6.139693e+01                    -0.208368                 0.744811   \n",
       "1176957  -6.139693e+01                    -0.208368                 0.744811   \n",
       "\n",
       "           tic  \n",
       "4655     UBMSQ  \n",
       "4676      FRAE  \n",
       "4700     SSINQ  \n",
       "5031       CQB  \n",
       "4808      MM.1  \n",
       "...        ...  \n",
       "1173086  LCINQ  \n",
       "1171271    DBD  \n",
       "1171740  RGTPQ  \n",
       "1174492    DBD  \n",
       "1176957    DBD  \n",
       "\n",
       "[9322 rows x 52 columns]"
      ]
     },
     "execution_count": 7,
     "metadata": {},
     "output_type": "execute_result"
    }
   ],
   "source": [
    "cri_compustat_merged[cri_compustat_merged['Default'] == 1]"
   ]
  },
  {
   "cell_type": "code",
   "execution_count": 16,
   "metadata": {},
   "outputs": [
    {
     "data": {
      "text/plain": [
       "Index(['CompNo', 'year', 'month', 'StkIndx', 'STInt', 'dtdlevel', 'dtdtrend',\n",
       "       'liqnonfinlevel', 'liqnonfintrend', 'ni2talevel', 'ni2tatrend',\n",
       "       'sizelevel', 'sizetrend', 'm2b', 'sigma', 'liqfinlevel', 'lqfintrend',\n",
       "       'DTDmedianFin', 'DTDmedianNonFin', 'dummy297fin', 'Default', 'day',\n",
       "       'date', 'StartDate', 'EventDate', 'Duration', 'gvkey', 'current_ratio',\n",
       "       'quick_ratio', 'cash_ratio', 'net_working_capital', 'debt_ratio',\n",
       "       'debt_to_equity_ratio', 'equity_ratio', 'cashflow_to_debt_ratio',\n",
       "       'net_profit_margin', 'return_on_assets', 'asset_turnover',\n",
       "       'inventory_turnover', 'days_in_inventory', 'receivables_turnover',\n",
       "       'day_sales_outstanding', 'working_capital_turnover',\n",
       "       'price_to_earnings', 'dividend_payout_ratio', 'retention_ratio',\n",
       "       'gross_margin_ratio', 'operating_profit_margin', 'ebitda_margin',\n",
       "       'debt_service_coverage_ratio', 'interest_coverage_ratio', 'tic'],\n",
       "      dtype='object')"
      ]
     },
     "execution_count": 16,
     "metadata": {},
     "output_type": "execute_result"
    }
   ],
   "source": [
    "cri_compustat_merged.columns"
   ]
  },
  {
   "cell_type": "code",
   "execution_count": 8,
   "metadata": {},
   "outputs": [
    {
     "data": {
      "image/png": "[encoded data removed]",
      "text/plain": [
       "<Figure size 500x500 with 1 Axes>"
      ]
     },
     "metadata": {},
     "output_type": "display_data"
    },
    {
     "name": "stdout",
     "output_type": "stream",
     "text": [
      "Imbalance Ratio is:121.55118644067797\n",
      " % of default is :0.008159855722686613\n"
     ]
    }
   ],
   "source": [
    "plt.figure(figsize=(5,5))\n",
    "sns.countplot(x=train_df[\"Default\"], palette=\"dark\")\n",
    "plt.title(\"Data Distribution of Bankrupt (training set)\")\n",
    "plt.show()\n",
    "majority_class_samples=train_df[\"Default\"].loc[train_df[\"Default\"]==0]\n",
    "minority_class_samples=train_df[\"Default\"].loc[train_df[\"Default\"]==1]\n",
    "Imbalance_Ratio= len(majority_class_samples)/len(minority_class_samples)\n",
    "percentage = len(minority_class_samples)/(len(minority_class_samples)+len(majority_class_samples))\n",
    "print(f\"Imbalance Ratio is:{Imbalance_Ratio}\")\n",
    "print(f\" % of default is :{percentage}\") "
   ]
  },
  {
   "cell_type": "code",
   "execution_count": 9,
   "metadata": {},
   "outputs": [],
   "source": [
    "# drop unecessary columns\n",
    "train_df.drop([\"CompNo\", \"year\", \"month\", \"day\", \"date\"], axis=1, inplace=True)\n",
    "validation_df.drop([\"CompNo\", \"year\", \"month\", \"day\", \"date\"], axis=1, inplace=True)\n",
    "test_df.drop([\"CompNo\", \"year\", \"month\", \"day\", \"date\"], axis=1, inplace=True)"
   ]
  },
  {
   "cell_type": "code",
   "execution_count": 10,
   "metadata": {},
   "outputs": [],
   "source": [
    "x_train = train_df.drop('Default', axis=1)\n",
    "y_train = train_df['Default']\n",
    "x_validation = validation_df.drop('Default', axis=1)\n",
    "y_validation = validation_df['Default']\n",
    "x_test = test_df.drop('Default', axis=1)\n",
    "y_test = test_df[\"Default\"]"
   ]
  },
  {
   "cell_type": "code",
   "execution_count": 11,
   "metadata": {},
   "outputs": [],
   "source": [
    "def get_num_cat_columns(dataframe):\n",
    "    categorical_cols=dataframe.select_dtypes(include=\"object\").columns\n",
    "    numerical_cols=dataframe.select_dtypes(exclude=\"object\").columns\n",
    "    \n",
    "    return categorical_cols, numerical_cols"
   ]
  },
  {
   "cell_type": "code",
   "execution_count": 12,
   "metadata": {},
   "outputs": [],
   "source": [
    "categorical_cols, numerical_cols= get_num_cat_columns(x_train)"
   ]
  },
  {
   "cell_type": "code",
   "execution_count": 13,
   "metadata": {},
   "outputs": [],
   "source": [
    "def Winsorization_Method(columns, x_train, y_train , a, b):\n",
    "    outliers=[]\n",
    "\n",
    "    for col in columns:\n",
    "        q1= np.percentile(x_train[col], a)\n",
    "        q2= np.percentile(x_train[col],b)\n",
    "        \n",
    "        for pos in range(len(x_train)):\n",
    "            if x_train[col].iloc[pos]>q2 or x_train[col].iloc[pos]<q1:\n",
    "                outliers.append(pos) \n",
    "                \n",
    "    outliers= set(outliers)                   # remove the duplicates from the outliers\n",
    "    outliers= list(outliers)\n",
    "    \n",
    "    ratio= round(len(outliers)/len(x_train)*100, 2)                       # Ratio of outliers\n",
    "    x_train.drop(x_train.index[outliers], inplace=True)    # remove the outliers from the training dataset\n",
    "    y_train.drop(y_train.index[outliers], inplace=True)\n",
    "    \n",
    "    \n",
    "    \n",
    "    return ratio, x_train, y_train"
   ]
  },
  {
   "cell_type": "code",
   "execution_count": 14,
   "metadata": {},
   "outputs": [
    {
     "name": "stdout",
     "output_type": "stream",
     "text": [
      "Ratio of Outliers Detected in the dataset:13.55\n"
     ]
    }
   ],
   "source": [
    "ratio, x_train, y_train= Winsorization_Method(numerical_cols, x_train, y_train,a=0.3,b=99.7)\n",
    "print(f\"Ratio of Outliers Detected in the dataset:{ratio}\")"
   ]
  },
  {
   "cell_type": "code",
   "execution_count": 14,
   "metadata": {},
   "outputs": [
    {
     "data": {
      "text/plain": [
       "((1084578, 46), (36537, 46), (58299, 46), (1084578,), (36537,), (58299,))"
      ]
     },
     "execution_count": 14,
     "metadata": {},
     "output_type": "execute_result"
    }
   ],
   "source": [
    "# shape of data after removing the outliers in the training data\n",
    "x_train.shape,x_test.shape,x_validation.shape ,y_train.shape, y_test.shape, y_validation.shape"
   ]
  },
  {
   "cell_type": "code",
   "execution_count": 16,
   "metadata": {},
   "outputs": [],
   "source": [
    "x_train.to_csv(\"../Dataset/\" + \"X_train_winsorized.csv\", index=False)"
   ]
  },
  {
   "cell_type": "code",
   "execution_count": 17,
   "metadata": {},
   "outputs": [],
   "source": [
    "x_test.to_csv(\"../Dataset/\" + \"X_test.csv\", index=False)"
   ]
  },
  {
   "cell_type": "code",
   "execution_count": 18,
   "metadata": {},
   "outputs": [],
   "source": [
    "x_validation.to_csv(\"../Dataset/\" + \"X_validation.csv\", index=False)"
   ]
  },
  {
   "cell_type": "code",
   "execution_count": 19,
   "metadata": {},
   "outputs": [],
   "source": [
    "y_train.to_csv(\"../Dataset/\" + \"Y_train_winsorized.csv\", index=False)"
   ]
  },
  {
   "cell_type": "code",
   "execution_count": 20,
   "metadata": {},
   "outputs": [],
   "source": [
    "y_test.to_csv(\"../Dataset/\" + \"Y_test.csv\", index=False)"
   ]
  },
  {
   "cell_type": "code",
   "execution_count": 21,
   "metadata": {},
   "outputs": [],
   "source": [
    "y_validation.to_csv(\"../Dataset/\" + \"Y_validation.csv\", index=False)"
   ]
  }
 ],
 "metadata": {
  "kernelspec": {
   "display_name": ".venv",
   "language": "python",
   "name": "python3"
  },
  "language_info": {
   "codemirror_mode": {
    "name": "ipython",
    "version": 3
   },
   "file_extension": ".py",
   "mimetype": "text/x-python",
   "name": "python",
   "nbconvert_exporter": "python",
   "pygments_lexer": "ipython3",
   "version": "3.10.2"
  },
  "orig_nbformat": 4
 },
 "nbformat": 4,
 "nbformat_minor": 2
}
