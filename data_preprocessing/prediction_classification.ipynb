{
 "cells": [
  {
   "cell_type": "code",
   "execution_count": 1,
   "metadata": {},
   "outputs": [],
   "source": [
    "# Import all the necessary libraries\n",
    "import pandas as pd\n",
    "import datetime\n",
    "import numpy as np\n",
    "import seaborn as sns\n",
    "import plotly.express as px\n",
    "import matplotlib.pyplot as plt\n",
    "from sklearn.tree import plot_tree\n",
    "from sklearn.decomposition import PCA\n",
    "from imblearn.over_sampling import SMOTE\n",
    "from sklearn.ensemble import VotingClassifier\n",
    "from sklearn.preprocessing import RobustScaler\n",
    "from sklearn.tree import DecisionTreeClassifier\n",
    "from sklearn.ensemble import RandomForestClassifier\n",
    "from sklearn.linear_model import LogisticRegression\n",
    "from sklearn.ensemble import GradientBoostingClassifier\n",
    "from sklearn.model_selection import train_test_split, GridSearchCV\n",
    "from sklearn.metrics import accuracy_score,roc_auc_score,precision_score, recall_score, f1_score,ConfusionMatrixDisplay,classification_report\n",
    "\n",
    "\n",
    "import warnings \n",
    "warnings.filterwarnings(\"ignore\")"
   ]
  },
  {
   "cell_type": "code",
   "execution_count": 2,
   "metadata": {},
   "outputs": [],
   "source": [
    "cri_compustat_merged = pd.read_pickle(\"cri_compustat_merged_v5.pkl\")"
   ]
  },
  {
   "cell_type": "code",
   "execution_count": 5,
   "metadata": {},
   "outputs": [
    {
     "data": {
      "text/plain": [
       "CompNo                      0\n",
       "year                        0\n",
       "month                       0\n",
       "StkIndx                     0\n",
       "STInt                       0\n",
       "dtdlevel                    0\n",
       "dtdtrend                    0\n",
       "liqnonfinlevel              0\n",
       "liqnonfintrend              0\n",
       "ni2talevel                  0\n",
       "ni2tatrend                  0\n",
       "sizelevel                   0\n",
       "sizetrend                   0\n",
       "m2b                         0\n",
       "sigma                       0\n",
       "liqfinlevel                 0\n",
       "lqfintrend                  0\n",
       "DTDmedianFin                0\n",
       "DTDmedianNonFin             0\n",
       "dummy297fin                 0\n",
       "EventDate                   0\n",
       "Default                     0\n",
       "StartDate                   0\n",
       "Duration                    0\n",
       "gvkey                       0\n",
       "tic                         0\n",
       "curr_ratio                  0\n",
       "quick_ratio                 0\n",
       "cash_ratio                  0\n",
       "net_working_capital         0\n",
       "debt_ratio                  0\n",
       "debt_equity_ratio           0\n",
       "equity_ratio                0\n",
       "financial_leverage_ratio    0\n",
       "net_profit_margin           0\n",
       "roa                         0\n",
       "asset_turnover              0\n",
       "inventory_turnover          0\n",
       "inventory_days              0\n",
       "receivables_turnover        0\n",
       "working_capital_turnover    0\n",
       "pe_ratio                    0\n",
       "retention_ratio             0\n",
       "dtype: int64"
      ]
     },
     "execution_count": 5,
     "metadata": {},
     "output_type": "execute_result"
    }
   ],
   "source": [
    "cri_compustat_merged.isna().sum()"
   ]
  },
  {
   "cell_type": "code",
   "execution_count": 7,
   "metadata": {},
   "outputs": [
    {
     "data": {
      "text/plain": [
       "0         2016-01-31\n",
       "1         2016-02-29\n",
       "2         2016-09-30\n",
       "3         2016-10-31\n",
       "4         2016-11-30\n",
       "             ...    \n",
       "1146414   2013-09-30\n",
       "1146415   2013-10-31\n",
       "1146416   2013-11-30\n",
       "1146417   2013-12-31\n",
       "1146418   2014-03-31\n",
       "Name: EventDate, Length: 1146419, dtype: datetime64[ns]"
      ]
     },
     "execution_count": 7,
     "metadata": {},
     "output_type": "execute_result"
    }
   ],
   "source": [
    "cri_compustat_merged['EventDate']"
   ]
  },
  {
   "cell_type": "code",
   "execution_count": 9,
   "metadata": {},
   "outputs": [],
   "source": [
    "#refactor\n",
    "cols = list(cri_compustat_merged.columns)\n",
    "\n",
    "cri_compustat_merged.sort_values(by='EventDate', inplace=True)\n",
    "date2022 = datetime.datetime(2022, 1, 1)\n",
    "date2020 = datetime.datetime(2020,1,1)\n",
    "train_df = cri_compustat_merged[cri_compustat_merged[\"EventDate\"] < date2020]\n",
    "validation_df = cri_compustat_merged[(cri_compustat_merged[\"EventDate\"] >= date2020) & (cri_compustat_merged[\"EventDate\"] < date2022)]\n",
    "test_df = cri_compustat_merged[cri_compustat_merged[\"EventDate\"] >= date2022]"
   ]
  },
  {
   "cell_type": "code",
   "execution_count": 16,
   "metadata": {},
   "outputs": [
    {
     "data": {
      "text/html": [
       "<div>\n",
       "<style scoped>\n",
       "    .dataframe tbody tr th:only-of-type {\n",
       "        vertical-align: middle;\n",
       "    }\n",
       "\n",
       "    .dataframe tbody tr th {\n",
       "        vertical-align: top;\n",
       "    }\n",
       "\n",
       "    .dataframe thead th {\n",
       "        text-align: right;\n",
       "    }\n",
       "</style>\n",
       "<table border=\"1\" class=\"dataframe\">\n",
       "  <thead>\n",
       "    <tr style=\"text-align: right;\">\n",
       "      <th></th>\n",
       "      <th>CompNo</th>\n",
       "      <th>year</th>\n",
       "      <th>month</th>\n",
       "      <th>StkIndx</th>\n",
       "      <th>STInt</th>\n",
       "      <th>dtdlevel</th>\n",
       "      <th>dtdtrend</th>\n",
       "      <th>liqnonfinlevel</th>\n",
       "      <th>liqnonfintrend</th>\n",
       "      <th>ni2talevel</th>\n",
       "      <th>...</th>\n",
       "      <th>financial_leverage_ratio</th>\n",
       "      <th>net_profit_margin</th>\n",
       "      <th>roa</th>\n",
       "      <th>asset_turnover</th>\n",
       "      <th>inventory_turnover</th>\n",
       "      <th>inventory_days</th>\n",
       "      <th>receivables_turnover</th>\n",
       "      <th>working_capital_turnover</th>\n",
       "      <th>pe_ratio</th>\n",
       "      <th>retention_ratio</th>\n",
       "    </tr>\n",
       "  </thead>\n",
       "  <tbody>\n",
       "  </tbody>\n",
       "</table>\n",
       "<p>0 rows × 43 columns</p>\n",
       "</div>"
      ],
      "text/plain": [
       "Empty DataFrame\n",
       "Columns: [CompNo, year, month, StkIndx, STInt, dtdlevel, dtdtrend, liqnonfinlevel, liqnonfintrend, ni2talevel, ni2tatrend, sizelevel, sizetrend, m2b, sigma, liqfinlevel, lqfintrend, DTDmedianFin, DTDmedianNonFin, dummy297fin, EventDate, Default, StartDate, Duration, gvkey, tic, curr_ratio, quick_ratio, cash_ratio, net_working_capital, debt_ratio, debt_equity_ratio, equity_ratio, financial_leverage_ratio, net_profit_margin, roa, asset_turnover, inventory_turnover, inventory_days, receivables_turnover, working_capital_turnover, pe_ratio, retention_ratio]\n",
       "Index: []\n",
       "\n",
       "[0 rows x 43 columns]"
      ]
     },
     "execution_count": 16,
     "metadata": {},
     "output_type": "execute_result"
    }
   ],
   "source": [
    "cri_compustat_merged[cri_compustat_merged['Default'] == 1]"
   ]
  },
  {
   "cell_type": "code",
   "execution_count": 12,
   "metadata": {},
   "outputs": [
    {
     "data": {
      "image/png": "[encoded data removed]",
      "text/plain": [
       "<Figure size 500x500 with 1 Axes>"
      ]
     },
     "metadata": {},
     "output_type": "display_data"
    },
    {
     "ename": "ZeroDivisionError",
     "evalue": "division by zero",
     "output_type": "error",
     "traceback": [
      "\u001b[1;31m---------------------------------------------------------------------------\u001b[0m",
      "\u001b[1;31mZeroDivisionError\u001b[0m                         Traceback (most recent call last)",
      "Cell \u001b[1;32mIn[12], line 7\u001b[0m\n\u001b[0;32m      5\u001b[0m majority_class_samples\u001b[39m=\u001b[39mtrain_df[\u001b[39m\"\u001b[39m\u001b[39mDefault\u001b[39m\u001b[39m\"\u001b[39m]\u001b[39m.\u001b[39mloc[train_df[\u001b[39m\"\u001b[39m\u001b[39mDefault\u001b[39m\u001b[39m\"\u001b[39m]\u001b[39m==\u001b[39m\u001b[39m0\u001b[39m]\n\u001b[0;32m      6\u001b[0m minority_class_samples\u001b[39m=\u001b[39mtrain_df[\u001b[39m\"\u001b[39m\u001b[39mDefault\u001b[39m\u001b[39m\"\u001b[39m]\u001b[39m.\u001b[39mloc[train_df[\u001b[39m\"\u001b[39m\u001b[39mDefault\u001b[39m\u001b[39m\"\u001b[39m]\u001b[39m==\u001b[39m\u001b[39m1\u001b[39m]\n\u001b[1;32m----> 7\u001b[0m Imbalance_Ratio\u001b[39m=\u001b[39m \u001b[39mlen\u001b[39;49m(majority_class_samples)\u001b[39m/\u001b[39;49m\u001b[39mlen\u001b[39;49m(minority_class_samples)\n\u001b[0;32m      8\u001b[0m percentage \u001b[39m=\u001b[39m \u001b[39mlen\u001b[39m(minority_class_samples)\u001b[39m/\u001b[39m(\u001b[39mlen\u001b[39m(minority_class_samples)\u001b[39m+\u001b[39m\u001b[39mlen\u001b[39m(majority_class_samples))\n\u001b[0;32m      9\u001b[0m \u001b[39mprint\u001b[39m(\u001b[39mf\u001b[39m\u001b[39m\"\u001b[39m\u001b[39mImbalance Ratio is:\u001b[39m\u001b[39m{\u001b[39;00mImbalance_Ratio\u001b[39m}\u001b[39;00m\u001b[39m\"\u001b[39m)\n",
      "\u001b[1;31mZeroDivisionError\u001b[0m: division by zero"
     ]
    }
   ],
   "source": [
    "plt.figure(figsize=(5,5))\n",
    "sns.countplot(x=train_df[\"Default\"], palette=\"dark\")\n",
    "plt.title(\"Data Distribution of Bankrupt (training set)\")\n",
    "plt.show()\n",
    "majority_class_samples=train_df[\"Default\"].loc[train_df[\"Default\"]==0]\n",
    "minority_class_samples=train_df[\"Default\"].loc[train_df[\"Default\"]==1]\n",
    "Imbalance_Ratio= len(majority_class_samples)/len(minority_class_samples)\n",
    "percentage = len(minority_class_samples)/(len(minority_class_samples)+len(majority_class_samples))\n",
    "print(f\"Imbalance Ratio is:{Imbalance_Ratio}\")\n",
    "print(f\" % of default is :{percentage}\") "
   ]
  },
  {
   "cell_type": "code",
   "execution_count": null,
   "metadata": {},
   "outputs": [],
   "source": [
    "# drop unecessary columns\n",
    "train_df.drop([\"CompNo\", \"year\", \"month\", \"day\", \"date\"], axis=1, inplace=True)\n",
    "validation_df.drop([\"CompNo\", \"year\", \"month\", \"day\", \"date\"], axis=1, inplace=True)\n",
    "test_df.drop([\"CompNo\", \"year\", \"month\", \"day\", \"date\"], axis=1, inplace=True)"
   ]
  },
  {
   "cell_type": "code",
   "execution_count": null,
   "metadata": {},
   "outputs": [],
   "source": [
    "x_train = train_df.drop('Default', axis=1)\n",
    "y_train = train_df['Default']\n",
    "x_validation = validation_df.drop('Default', axis=1)\n",
    "y_validation = validation_df['Default']\n",
    "x_test = test_df.drop('Default', axis=1)\n",
    "y_test = test_df[\"Default\"]"
   ]
  },
  {
   "cell_type": "code",
   "execution_count": null,
   "metadata": {},
   "outputs": [],
   "source": [
    "def get_num_cat_columns(dataframe):\n",
    "    categorical_cols=dataframe.select_dtypes(include=\"object\").columns\n",
    "    numerical_cols=dataframe.select_dtypes(exclude=\"object\").columns\n",
    "    \n",
    "    return categorical_cols, numerical_cols"
   ]
  },
  {
   "cell_type": "code",
   "execution_count": null,
   "metadata": {},
   "outputs": [],
   "source": [
    "categorical_cols, numerical_cols= get_num_cat_columns(x_train)"
   ]
  },
  {
   "cell_type": "code",
   "execution_count": null,
   "metadata": {},
   "outputs": [],
   "source": [
    "def Winsorization_Method(columns, x_train, y_train , a, b):\n",
    "    outliers=[]\n",
    "\n",
    "    for col in columns:\n",
    "        q1= np.percentile(x_train[col], a)\n",
    "        q2= np.percentile(x_train[col],b)\n",
    "        \n",
    "        for pos in range(len(x_train)):\n",
    "            if x_train[col].iloc[pos]>q2 or x_train[col].iloc[pos]<q1:\n",
    "                outliers.append(pos) \n",
    "                \n",
    "    outliers= set(outliers)                   # remove the duplicates from the outliers\n",
    "    outliers= list(outliers)\n",
    "    \n",
    "    ratio= round(len(outliers)/len(x_train)*100, 2)                       # Ratio of outliers\n",
    "    x_train.drop(x_train.index[outliers], inplace=True)    # remove the outliers from the training dataset\n",
    "    y_train.drop(y_train.index[outliers], inplace=True)\n",
    "    \n",
    "    \n",
    "    \n",
    "    return ratio, x_train, y_train"
   ]
  },
  {
   "cell_type": "code",
   "execution_count": null,
   "metadata": {},
   "outputs": [],
   "source": [
    "ratio, x_train, y_train= Winsorization_Method(numerical_cols, x_train, y_train,a=0.3,b=99.7)\n",
    "print(f\"Ratio of Outliers Detected in the dataset:{ratio}\")"
   ]
  },
  {
   "cell_type": "code",
   "execution_count": null,
   "metadata": {},
   "outputs": [],
   "source": [
    "# shape of data after removing the outliers in the training data\n",
    "x_train.shape,x_test.shape,x_validation.shape ,y_train.shape, y_test.shape, y_validation.shape"
   ]
  },
  {
   "cell_type": "code",
   "execution_count": null,
   "metadata": {},
   "outputs": [],
   "source": [
    "x_train.to_csv(\"Dataset/\" + \"X_train_winsorized.csv\", index=False)"
   ]
  },
  {
   "cell_type": "code",
   "execution_count": null,
   "metadata": {},
   "outputs": [],
   "source": [
    "x_test.to_csv(\"Dataset/\" + \"X_test.csv\", index=False)"
   ]
  },
  {
   "cell_type": "code",
   "execution_count": null,
   "metadata": {},
   "outputs": [],
   "source": [
    "x_validation.to_csv(\"Dataset/\" + \"X_validation.csv\", index=False)"
   ]
  },
  {
   "cell_type": "code",
   "execution_count": null,
   "metadata": {},
   "outputs": [],
   "source": [
    "y_train.to_csv(\"Dataset/\" + \"Y_train_winsorized.csv\", index=False)"
   ]
  },
  {
   "cell_type": "code",
   "execution_count": null,
   "metadata": {},
   "outputs": [],
   "source": [
    "y_test.to_csv(\"Dataset/\" + \"Y_test.csv\", index=False)"
   ]
  },
  {
   "cell_type": "code",
   "execution_count": null,
   "metadata": {},
   "outputs": [],
   "source": [
    "y_validation.to_csv(\"Dataset/\" + \"Y_validation.csv\", index=False)"
   ]
  }
 ],
 "metadata": {
  "kernelspec": {
   "display_name": ".venv",
   "language": "python",
   "name": "python3"
  },
  "language_info": {
   "codemirror_mode": {
    "name": "ipython",
    "version": 3
   },
   "file_extension": ".py",
   "mimetype": "text/x-python",
   "name": "python",
   "nbconvert_exporter": "python",
   "pygments_lexer": "ipython3",
   "version": "3.10.2"
  },
  "orig_nbformat": 4
 },
 "nbformat": 4,
 "nbformat_minor": 2
}
