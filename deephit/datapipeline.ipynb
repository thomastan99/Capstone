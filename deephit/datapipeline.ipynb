{
 "cells": [
  {
   "cell_type": "code",
   "execution_count": 1,
   "metadata": {},
   "outputs": [
    {
     "name": "stdout",
     "output_type": "stream",
     "text": [
      "Requirement already satisfied: pandas in /Users/thomastan/opt/anaconda3/lib/python3.9/site-packages (1.5.3)\n",
      "Requirement already satisfied: google-cloud-bigquery in /Users/thomastan/opt/anaconda3/lib/python3.9/site-packages (3.11.4)\n",
      "Requirement already satisfied: python-dateutil>=2.8.1 in /Users/thomastan/opt/anaconda3/lib/python3.9/site-packages (from pandas) (2.8.2)\n",
      "Requirement already satisfied: numpy>=1.20.3 in /Users/thomastan/opt/anaconda3/lib/python3.9/site-packages (from pandas) (1.23.4)\n",
      "Requirement already satisfied: pytz>=2020.1 in /Users/thomastan/opt/anaconda3/lib/python3.9/site-packages (from pandas) (2023.3)\n",
      "Requirement already satisfied: google-cloud-core<3.0.0dev,>=1.6.0 in /Users/thomastan/opt/anaconda3/lib/python3.9/site-packages (from google-cloud-bigquery) (2.3.3)\n",
      "Requirement already satisfied: packaging>=20.0.0 in /Users/thomastan/opt/anaconda3/lib/python3.9/site-packages (from google-cloud-bigquery) (23.1)\n",
      "Requirement already satisfied: requests<3.0.0dev,>=2.21.0 in /Users/thomastan/opt/anaconda3/lib/python3.9/site-packages (from google-cloud-bigquery) (2.31.0)\n",
      "Requirement already satisfied: proto-plus<2.0.0dev,>=1.15.0 in /Users/thomastan/opt/anaconda3/lib/python3.9/site-packages (from google-cloud-bigquery) (1.22.3)\n",
      "Requirement already satisfied: google-resumable-media<3.0dev,>=0.6.0 in /Users/thomastan/opt/anaconda3/lib/python3.9/site-packages (from google-cloud-bigquery) (1.3.1)\n",
      "Requirement already satisfied: protobuf!=3.20.0,!=3.20.1,!=4.21.0,!=4.21.1,!=4.21.2,!=4.21.3,!=4.21.4,!=4.21.5,<5.0.0dev,>=3.19.5 in /Users/thomastan/opt/anaconda3/lib/python3.9/site-packages (from google-cloud-bigquery) (4.24.1)\n",
      "Requirement already satisfied: google-api-core[grpc]!=2.0.*,!=2.1.*,!=2.2.*,!=2.3.0,<3.0.0dev,>=1.31.5 in /Users/thomastan/opt/anaconda3/lib/python3.9/site-packages (from google-cloud-bigquery) (2.11.1)\n",
      "Requirement already satisfied: grpcio<2.0dev,>=1.47.0 in /Users/thomastan/opt/anaconda3/lib/python3.9/site-packages (from google-cloud-bigquery) (1.57.0)\n",
      "Requirement already satisfied: googleapis-common-protos<2.0.dev0,>=1.56.2 in /Users/thomastan/opt/anaconda3/lib/python3.9/site-packages (from google-api-core[grpc]!=2.0.*,!=2.1.*,!=2.2.*,!=2.3.0,<3.0.0dev,>=1.31.5->google-cloud-bigquery) (1.60.0)\n",
      "Requirement already satisfied: google-auth<3.0.dev0,>=2.14.1 in /Users/thomastan/opt/anaconda3/lib/python3.9/site-packages (from google-api-core[grpc]!=2.0.*,!=2.1.*,!=2.2.*,!=2.3.0,<3.0.0dev,>=1.31.5->google-cloud-bigquery) (2.22.0)\n",
      "Requirement already satisfied: grpcio-status<2.0.dev0,>=1.33.2 in /Users/thomastan/opt/anaconda3/lib/python3.9/site-packages (from google-api-core[grpc]!=2.0.*,!=2.1.*,!=2.2.*,!=2.3.0,<3.0.0dev,>=1.31.5->google-cloud-bigquery) (1.57.0)\n",
      "Requirement already satisfied: urllib3<2.0 in /Users/thomastan/opt/anaconda3/lib/python3.9/site-packages (from google-auth<3.0.dev0,>=2.14.1->google-api-core[grpc]!=2.0.*,!=2.1.*,!=2.2.*,!=2.3.0,<3.0.0dev,>=1.31.5->google-cloud-bigquery) (1.26.16)\n",
      "Requirement already satisfied: cachetools<6.0,>=2.0.0 in /Users/thomastan/opt/anaconda3/lib/python3.9/site-packages (from google-auth<3.0.dev0,>=2.14.1->google-api-core[grpc]!=2.0.*,!=2.1.*,!=2.2.*,!=2.3.0,<3.0.0dev,>=1.31.5->google-cloud-bigquery) (5.3.1)\n",
      "Requirement already satisfied: rsa<5,>=3.1.4 in /Users/thomastan/opt/anaconda3/lib/python3.9/site-packages (from google-auth<3.0.dev0,>=2.14.1->google-api-core[grpc]!=2.0.*,!=2.1.*,!=2.2.*,!=2.3.0,<3.0.0dev,>=1.31.5->google-cloud-bigquery) (4.9)\n",
      "Requirement already satisfied: six>=1.9.0 in /Users/thomastan/opt/anaconda3/lib/python3.9/site-packages (from google-auth<3.0.dev0,>=2.14.1->google-api-core[grpc]!=2.0.*,!=2.1.*,!=2.2.*,!=2.3.0,<3.0.0dev,>=1.31.5->google-cloud-bigquery) (1.16.0)\n",
      "Requirement already satisfied: pyasn1-modules>=0.2.1 in /Users/thomastan/opt/anaconda3/lib/python3.9/site-packages (from google-auth<3.0.dev0,>=2.14.1->google-api-core[grpc]!=2.0.*,!=2.1.*,!=2.2.*,!=2.3.0,<3.0.0dev,>=1.31.5->google-cloud-bigquery) (0.2.8)\n",
      "Requirement already satisfied: google-crc32c<2.0dev,>=1.0 in /Users/thomastan/opt/anaconda3/lib/python3.9/site-packages (from google-resumable-media<3.0dev,>=0.6.0->google-cloud-bigquery) (1.1.2)\n",
      "Requirement already satisfied: cffi>=1.0.0 in /Users/thomastan/opt/anaconda3/lib/python3.9/site-packages (from google-crc32c<2.0dev,>=1.0->google-resumable-media<3.0dev,>=0.6.0->google-cloud-bigquery) (1.15.1)\n",
      "Requirement already satisfied: pycparser in /Users/thomastan/opt/anaconda3/lib/python3.9/site-packages (from cffi>=1.0.0->google-crc32c<2.0dev,>=1.0->google-resumable-media<3.0dev,>=0.6.0->google-cloud-bigquery) (2.21)\n",
      "Requirement already satisfied: pyasn1<0.5.0,>=0.4.6 in /Users/thomastan/opt/anaconda3/lib/python3.9/site-packages (from pyasn1-modules>=0.2.1->google-auth<3.0.dev0,>=2.14.1->google-api-core[grpc]!=2.0.*,!=2.1.*,!=2.2.*,!=2.3.0,<3.0.0dev,>=1.31.5->google-cloud-bigquery) (0.4.8)\n",
      "Requirement already satisfied: certifi>=2017.4.17 in /Users/thomastan/opt/anaconda3/lib/python3.9/site-packages (from requests<3.0.0dev,>=2.21.0->google-cloud-bigquery) (2023.7.22)\n",
      "Requirement already satisfied: charset-normalizer<4,>=2 in /Users/thomastan/opt/anaconda3/lib/python3.9/site-packages (from requests<3.0.0dev,>=2.21.0->google-cloud-bigquery) (3.2.0)\n",
      "Requirement already satisfied: idna<4,>=2.5 in /Users/thomastan/opt/anaconda3/lib/python3.9/site-packages (from requests<3.0.0dev,>=2.21.0->google-cloud-bigquery) (3.4)\n",
      "Requirement already satisfied: pandas-gbq in /Users/thomastan/opt/anaconda3/lib/python3.9/site-packages (0.19.2)\n",
      "Requirement already satisfied: pyarrow>=3.0.0 in /Users/thomastan/opt/anaconda3/lib/python3.9/site-packages (from pandas-gbq) (12.0.1)\n",
      "Requirement already satisfied: db-dtypes<2.0.0,>=1.0.4 in /Users/thomastan/opt/anaconda3/lib/python3.9/site-packages (from pandas-gbq) (1.1.1)\n",
      "Requirement already satisfied: setuptools in /Users/thomastan/opt/anaconda3/lib/python3.9/site-packages (from pandas-gbq) (65.4.1)\n",
      "Requirement already satisfied: google-cloud-bigquery-storage<3.0.0dev,>=2.16.2 in /Users/thomastan/opt/anaconda3/lib/python3.9/site-packages (from pandas-gbq) (2.22.0)\n",
      "Requirement already satisfied: pandas>=1.1.4 in /Users/thomastan/opt/anaconda3/lib/python3.9/site-packages (from pandas-gbq) (1.5.3)\n",
      "Requirement already satisfied: google-cloud-bigquery!=2.4.*,<4.0.0dev,>=3.3.5 in /Users/thomastan/opt/anaconda3/lib/python3.9/site-packages (from pandas-gbq) (3.11.4)\n",
      "Requirement already satisfied: google-api-core<3.0.0dev,>=2.10.2 in /Users/thomastan/opt/anaconda3/lib/python3.9/site-packages (from pandas-gbq) (2.11.1)\n",
      "Requirement already satisfied: numpy>=1.16.6 in /Users/thomastan/opt/anaconda3/lib/python3.9/site-packages (from pandas-gbq) (1.23.4)\n",
      "Requirement already satisfied: google-auth-oauthlib>=0.7.0 in /Users/thomastan/opt/anaconda3/lib/python3.9/site-packages (from pandas-gbq) (1.0.0)\n",
      "Requirement already satisfied: pydata-google-auth>=1.5.0 in /Users/thomastan/opt/anaconda3/lib/python3.9/site-packages (from pandas-gbq) (1.8.2)\n",
      "Requirement already satisfied: google-auth>=2.13.0 in /Users/thomastan/opt/anaconda3/lib/python3.9/site-packages (from pandas-gbq) (2.22.0)\n",
      "Requirement already satisfied: packaging>=17.0 in /Users/thomastan/opt/anaconda3/lib/python3.9/site-packages (from db-dtypes<2.0.0,>=1.0.4->pandas-gbq) (23.1)\n",
      "Requirement already satisfied: requests<3.0.0.dev0,>=2.18.0 in /Users/thomastan/opt/anaconda3/lib/python3.9/site-packages (from google-api-core<3.0.0dev,>=2.10.2->pandas-gbq) (2.31.0)\n",
      "Requirement already satisfied: protobuf!=3.20.0,!=3.20.1,!=4.21.0,!=4.21.1,!=4.21.2,!=4.21.3,!=4.21.4,!=4.21.5,<5.0.0.dev0,>=3.19.5 in /Users/thomastan/opt/anaconda3/lib/python3.9/site-packages (from google-api-core<3.0.0dev,>=2.10.2->pandas-gbq) (4.24.1)\n",
      "Requirement already satisfied: googleapis-common-protos<2.0.dev0,>=1.56.2 in /Users/thomastan/opt/anaconda3/lib/python3.9/site-packages (from google-api-core<3.0.0dev,>=2.10.2->pandas-gbq) (1.60.0)\n",
      "Requirement already satisfied: pyasn1-modules>=0.2.1 in /Users/thomastan/opt/anaconda3/lib/python3.9/site-packages (from google-auth>=2.13.0->pandas-gbq) (0.2.8)\n",
      "Requirement already satisfied: cachetools<6.0,>=2.0.0 in /Users/thomastan/opt/anaconda3/lib/python3.9/site-packages (from google-auth>=2.13.0->pandas-gbq) (5.3.1)\n",
      "Requirement already satisfied: rsa<5,>=3.1.4 in /Users/thomastan/opt/anaconda3/lib/python3.9/site-packages (from google-auth>=2.13.0->pandas-gbq) (4.9)\n",
      "Requirement already satisfied: urllib3<2.0 in /Users/thomastan/opt/anaconda3/lib/python3.9/site-packages (from google-auth>=2.13.0->pandas-gbq) (1.26.16)\n",
      "Requirement already satisfied: six>=1.9.0 in /Users/thomastan/opt/anaconda3/lib/python3.9/site-packages (from google-auth>=2.13.0->pandas-gbq) (1.16.0)\n",
      "Requirement already satisfied: requests-oauthlib>=0.7.0 in /Users/thomastan/opt/anaconda3/lib/python3.9/site-packages (from google-auth-oauthlib>=0.7.0->pandas-gbq) (1.3.1)\n",
      "Requirement already satisfied: proto-plus<2.0.0dev,>=1.15.0 in /Users/thomastan/opt/anaconda3/lib/python3.9/site-packages (from google-cloud-bigquery!=2.4.*,<4.0.0dev,>=3.3.5->pandas-gbq) (1.22.3)\n",
      "Requirement already satisfied: google-resumable-media<3.0dev,>=0.6.0 in /Users/thomastan/opt/anaconda3/lib/python3.9/site-packages (from google-cloud-bigquery!=2.4.*,<4.0.0dev,>=3.3.5->pandas-gbq) (1.3.1)\n",
      "Requirement already satisfied: grpcio<2.0dev,>=1.47.0 in /Users/thomastan/opt/anaconda3/lib/python3.9/site-packages (from google-cloud-bigquery!=2.4.*,<4.0.0dev,>=3.3.5->pandas-gbq) (1.57.0)\n",
      "Requirement already satisfied: python-dateutil<3.0dev,>=2.7.2 in /Users/thomastan/opt/anaconda3/lib/python3.9/site-packages (from google-cloud-bigquery!=2.4.*,<4.0.0dev,>=3.3.5->pandas-gbq) (2.8.2)\n",
      "Requirement already satisfied: google-cloud-core<3.0.0dev,>=1.6.0 in /Users/thomastan/opt/anaconda3/lib/python3.9/site-packages (from google-cloud-bigquery!=2.4.*,<4.0.0dev,>=3.3.5->pandas-gbq) (2.3.3)\n",
      "Requirement already satisfied: grpcio-status<2.0.dev0,>=1.33.2 in /Users/thomastan/opt/anaconda3/lib/python3.9/site-packages (from google-api-core<3.0.0dev,>=2.10.2->pandas-gbq) (1.57.0)\n",
      "Requirement already satisfied: google-crc32c<2.0dev,>=1.0 in /Users/thomastan/opt/anaconda3/lib/python3.9/site-packages (from google-resumable-media<3.0dev,>=0.6.0->google-cloud-bigquery!=2.4.*,<4.0.0dev,>=3.3.5->pandas-gbq) (1.1.2)\n",
      "Requirement already satisfied: cffi>=1.0.0 in /Users/thomastan/opt/anaconda3/lib/python3.9/site-packages (from google-crc32c<2.0dev,>=1.0->google-resumable-media<3.0dev,>=0.6.0->google-cloud-bigquery!=2.4.*,<4.0.0dev,>=3.3.5->pandas-gbq) (1.15.1)\n",
      "Requirement already satisfied: pycparser in /Users/thomastan/opt/anaconda3/lib/python3.9/site-packages (from cffi>=1.0.0->google-crc32c<2.0dev,>=1.0->google-resumable-media<3.0dev,>=0.6.0->google-cloud-bigquery!=2.4.*,<4.0.0dev,>=3.3.5->pandas-gbq) (2.21)\n",
      "Requirement already satisfied: pytz>=2020.1 in /Users/thomastan/opt/anaconda3/lib/python3.9/site-packages (from pandas>=1.1.4->pandas-gbq) (2023.3)\n",
      "Requirement already satisfied: pyasn1<0.5.0,>=0.4.6 in /Users/thomastan/opt/anaconda3/lib/python3.9/site-packages (from pyasn1-modules>=0.2.1->google-auth>=2.13.0->pandas-gbq) (0.4.8)\n",
      "Requirement already satisfied: idna<4,>=2.5 in /Users/thomastan/opt/anaconda3/lib/python3.9/site-packages (from requests<3.0.0.dev0,>=2.18.0->google-api-core<3.0.0dev,>=2.10.2->pandas-gbq) (3.4)\n",
      "Requirement already satisfied: charset-normalizer<4,>=2 in /Users/thomastan/opt/anaconda3/lib/python3.9/site-packages (from requests<3.0.0.dev0,>=2.18.0->google-api-core<3.0.0dev,>=2.10.2->pandas-gbq) (3.2.0)\n",
      "Requirement already satisfied: certifi>=2017.4.17 in /Users/thomastan/opt/anaconda3/lib/python3.9/site-packages (from requests<3.0.0.dev0,>=2.18.0->google-api-core<3.0.0dev,>=2.10.2->pandas-gbq) (2023.7.22)\n",
      "Requirement already satisfied: oauthlib>=3.0.0 in /Users/thomastan/opt/anaconda3/lib/python3.9/site-packages (from requests-oauthlib>=0.7.0->google-auth-oauthlib>=0.7.0->pandas-gbq) (3.2.2)\n"
     ]
    }
   ],
   "source": [
    "!pip install pandas google-cloud-bigquery\n",
    "!pip install pandas-gbq\n",
    "import pandas as pd"
   ]
  },
  {
   "cell_type": "code",
   "execution_count": 3,
   "metadata": {},
   "outputs": [],
   "source": [
    "data = pd.read_csv('datawithY.csv')"
   ]
  },
  {
   "cell_type": "code",
   "execution_count": null,
   "metadata": {},
   "outputs": [],
   "source": []
  },
  {
   "cell_type": "code",
   "execution_count": null,
   "metadata": {},
   "outputs": [],
   "source": [
    "dataPipe.to_gbq(destination_table=f'{project_id}.{dataset_id}.{table_id}', project_id=project_id, if_exists='replace')"
   ]
  }
 ],
 "metadata": {
  "kernelspec": {
   "display_name": "Python 3 (ipykernel)",
   "language": "python",
   "name": "python3"
  },
  "language_info": {
   "codemirror_mode": {
    "name": "ipython",
    "version": 3
   },
   "file_extension": ".py",
   "mimetype": "text/x-python",
   "name": "python",
   "nbconvert_exporter": "python",
   "pygments_lexer": "ipython3",
   "version": "3.9.12"
  },
  "orig_nbformat": 4
 },
 "nbformat": 4,
 "nbformat_minor": 2
}
