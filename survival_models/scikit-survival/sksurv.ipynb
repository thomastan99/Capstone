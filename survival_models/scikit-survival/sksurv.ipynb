{
 "cells": [
  {
   "cell_type": "code",
   "execution_count": 1,
   "metadata": {},
   "outputs": [],
   "source": [
    "import numpy as np\n",
    "import pandas as pd\n",
    "import matplotlib.pyplot as plt\n",
    "from sklearn.model_selection import train_test_split\n",
    "from sklearn.preprocessing import StandardScaler, MinMaxScaler\n",
    "from sklearn.pipeline import make_pipeline\n",
    "from sksurv.linear_model import CoxPHSurvivalAnalysis\n",
    "from sksurv.nonparametric import kaplan_meier_estimator\n",
    "from sksurv.preprocessing import OneHotEncoder\n",
    "from sksurv.ensemble import RandomSurvivalForest\n",
    "from sksurv.ensemble import ComponentwiseGradientBoostingSurvivalAnalysis\n",
    "from sksurv.ensemble import GradientBoostingSurvivalAnalysis\n",
    "from sksurv.metrics import concordance_index_censored\n",
    "from sksurv.metrics import as_cumulative_dynamic_auc_scorer\n",
    "from sklearn.model_selection import cross_val_score\n",
    "from sksurv.metrics import cumulative_dynamic_auc\n",
    "from sklearn.model_selection import KFold\n",
    "import pickle\n"
   ]
  },
  {
   "cell_type": "code",
   "execution_count": 166,
   "metadata": {},
   "outputs": [
    {
     "data": {
      "text/html": [
       "<div>\n",
       "<style scoped>\n",
       "    .dataframe tbody tr th:only-of-type {\n",
       "        vertical-align: middle;\n",
       "    }\n",
       "\n",
       "    .dataframe tbody tr th {\n",
       "        vertical-align: top;\n",
       "    }\n",
       "\n",
       "    .dataframe thead th {\n",
       "        text-align: right;\n",
       "    }\n",
       "</style>\n",
       "<table border=\"1\" class=\"dataframe\">\n",
       "  <thead>\n",
       "    <tr style=\"text-align: right;\">\n",
       "      <th></th>\n",
       "      <th>CompNo</th>\n",
       "      <th>year</th>\n",
       "      <th>month</th>\n",
       "      <th>StkIndx</th>\n",
       "      <th>STInt</th>\n",
       "      <th>dtdlevel</th>\n",
       "      <th>dtdtrend</th>\n",
       "      <th>liqnonfinlevel</th>\n",
       "      <th>liqnonfintrend</th>\n",
       "      <th>ni2talevel</th>\n",
       "      <th>...</th>\n",
       "      <th>day_sales_outstanding</th>\n",
       "      <th>working_capital_turnover</th>\n",
       "      <th>price_to_earnings</th>\n",
       "      <th>dividend_payout_ratio</th>\n",
       "      <th>retention_ratio</th>\n",
       "      <th>gross_margin_ratio</th>\n",
       "      <th>operating_profit_margin</th>\n",
       "      <th>ebitda_margin</th>\n",
       "      <th>debt_service_coverage_ratio</th>\n",
       "      <th>interest_coverage_ratio</th>\n",
       "    </tr>\n",
       "  </thead>\n",
       "  <tbody>\n",
       "    <tr>\n",
       "      <th>0</th>\n",
       "      <td>42404</td>\n",
       "      <td>2000.0</td>\n",
       "      <td>1</td>\n",
       "      <td>0.089239</td>\n",
       "      <td>0.011089</td>\n",
       "      <td>0.677551</td>\n",
       "      <td>0.332808</td>\n",
       "      <td>1.411466</td>\n",
       "      <td>0.027249</td>\n",
       "      <td>-0.148249</td>\n",
       "      <td>...</td>\n",
       "      <td>197946.597222</td>\n",
       "      <td>0.000000</td>\n",
       "      <td>-5.000000</td>\n",
       "      <td>-0.0</td>\n",
       "      <td>1.0</td>\n",
       "      <td>-5.251700e+06</td>\n",
       "      <td>-2.189250e+07</td>\n",
       "      <td>-2.185540e+07</td>\n",
       "      <td>-149041.103448</td>\n",
       "      <td>-297211.000000</td>\n",
       "    </tr>\n",
       "    <tr>\n",
       "      <th>1</th>\n",
       "      <td>37610</td>\n",
       "      <td>2000.0</td>\n",
       "      <td>1</td>\n",
       "      <td>0.089239</td>\n",
       "      <td>0.011089</td>\n",
       "      <td>0.087376</td>\n",
       "      <td>-0.524732</td>\n",
       "      <td>0.906364</td>\n",
       "      <td>-0.071829</td>\n",
       "      <td>0.000292</td>\n",
       "      <td>...</td>\n",
       "      <td>190.722132</td>\n",
       "      <td>2.177571</td>\n",
       "      <td>-1.220833</td>\n",
       "      <td>0.0</td>\n",
       "      <td>1.0</td>\n",
       "      <td>2.498284e+01</td>\n",
       "      <td>-7.402171e+01</td>\n",
       "      <td>-6.856532e+01</td>\n",
       "      <td>-0.904380</td>\n",
       "      <td>1.490291</td>\n",
       "    </tr>\n",
       "    <tr>\n",
       "      <th>2</th>\n",
       "      <td>49536</td>\n",
       "      <td>2000.0</td>\n",
       "      <td>1</td>\n",
       "      <td>0.313050</td>\n",
       "      <td>0.007314</td>\n",
       "      <td>3.693176</td>\n",
       "      <td>0.625516</td>\n",
       "      <td>1.872712</td>\n",
       "      <td>1.010148</td>\n",
       "      <td>-0.069998</td>\n",
       "      <td>...</td>\n",
       "      <td>0.000000</td>\n",
       "      <td>0.036899</td>\n",
       "      <td>-78.333333</td>\n",
       "      <td>-0.0</td>\n",
       "      <td>1.0</td>\n",
       "      <td>7.542644e+01</td>\n",
       "      <td>-2.309701e+02</td>\n",
       "      <td>-1.503731e+02</td>\n",
       "      <td>-11.081841</td>\n",
       "      <td>-430.222222</td>\n",
       "    </tr>\n",
       "    <tr>\n",
       "      <th>3</th>\n",
       "      <td>32417</td>\n",
       "      <td>2000.0</td>\n",
       "      <td>1</td>\n",
       "      <td>0.089239</td>\n",
       "      <td>0.011089</td>\n",
       "      <td>6.165654</td>\n",
       "      <td>0.863910</td>\n",
       "      <td>1.275166</td>\n",
       "      <td>0.184606</td>\n",
       "      <td>0.013360</td>\n",
       "      <td>...</td>\n",
       "      <td>269.176235</td>\n",
       "      <td>0.551135</td>\n",
       "      <td>66.510333</td>\n",
       "      <td>0.0</td>\n",
       "      <td>1.0</td>\n",
       "      <td>5.234158e+01</td>\n",
       "      <td>-2.327468e+01</td>\n",
       "      <td>-1.952816e+01</td>\n",
       "      <td>-395.933333</td>\n",
       "      <td>777.750000</td>\n",
       "    </tr>\n",
       "    <tr>\n",
       "      <th>4</th>\n",
       "      <td>44933</td>\n",
       "      <td>2000.0</td>\n",
       "      <td>1</td>\n",
       "      <td>0.089239</td>\n",
       "      <td>0.011089</td>\n",
       "      <td>0.629410</td>\n",
       "      <td>-0.874122</td>\n",
       "      <td>0.000000</td>\n",
       "      <td>0.000000</td>\n",
       "      <td>0.004436</td>\n",
       "      <td>...</td>\n",
       "      <td>0.000000</td>\n",
       "      <td>-2.766467</td>\n",
       "      <td>19.196429</td>\n",
       "      <td>0.0</td>\n",
       "      <td>1.0</td>\n",
       "      <td>7.495250e+01</td>\n",
       "      <td>3.133312e+01</td>\n",
       "      <td>4.316023e+01</td>\n",
       "      <td>0.020216</td>\n",
       "      <td>2.013002</td>\n",
       "    </tr>\n",
       "  </tbody>\n",
       "</table>\n",
       "<p>5 rows × 52 columns</p>\n",
       "</div>"
      ],
      "text/plain": [
       "   CompNo    year  month   StkIndx     STInt  dtdlevel  dtdtrend  \\\n",
       "0   42404  2000.0      1  0.089239  0.011089  0.677551  0.332808   \n",
       "1   37610  2000.0      1  0.089239  0.011089  0.087376 -0.524732   \n",
       "2   49536  2000.0      1  0.313050  0.007314  3.693176  0.625516   \n",
       "3   32417  2000.0      1  0.089239  0.011089  6.165654  0.863910   \n",
       "4   44933  2000.0      1  0.089239  0.011089  0.629410 -0.874122   \n",
       "\n",
       "   liqnonfinlevel  liqnonfintrend  ni2talevel  ...  day_sales_outstanding  \\\n",
       "0        1.411466        0.027249   -0.148249  ...          197946.597222   \n",
       "1        0.906364       -0.071829    0.000292  ...             190.722132   \n",
       "2        1.872712        1.010148   -0.069998  ...               0.000000   \n",
       "3        1.275166        0.184606    0.013360  ...             269.176235   \n",
       "4        0.000000        0.000000    0.004436  ...               0.000000   \n",
       "\n",
       "   working_capital_turnover  price_to_earnings  dividend_payout_ratio  \\\n",
       "0                  0.000000          -5.000000                   -0.0   \n",
       "1                  2.177571          -1.220833                    0.0   \n",
       "2                  0.036899         -78.333333                   -0.0   \n",
       "3                  0.551135          66.510333                    0.0   \n",
       "4                 -2.766467          19.196429                    0.0   \n",
       "\n",
       "   retention_ratio  gross_margin_ratio  operating_profit_margin  \\\n",
       "0              1.0       -5.251700e+06            -2.189250e+07   \n",
       "1              1.0        2.498284e+01            -7.402171e+01   \n",
       "2              1.0        7.542644e+01            -2.309701e+02   \n",
       "3              1.0        5.234158e+01            -2.327468e+01   \n",
       "4              1.0        7.495250e+01             3.133312e+01   \n",
       "\n",
       "   ebitda_margin  debt_service_coverage_ratio  interest_coverage_ratio  \n",
       "0  -2.185540e+07               -149041.103448           -297211.000000  \n",
       "1  -6.856532e+01                    -0.904380                 1.490291  \n",
       "2  -1.503731e+02                   -11.081841              -430.222222  \n",
       "3  -1.952816e+01                  -395.933333               777.750000  \n",
       "4   4.316023e+01                     0.020216                 2.013002  \n",
       "\n",
       "[5 rows x 52 columns]"
      ]
     },
     "execution_count": 166,
     "metadata": {},
     "output_type": "execute_result"
    }
   ],
   "source": [
    "# # Specify the path to your pickle file\n",
    "# file_path = \"../../../dataset/cri_compustat_merged_v8.pkl\"\n",
    "\n",
    "# # Open the pickle file for reading\n",
    "# with open(file_path, 'rb') as file:\n",
    "#     # Load the data from the pickle file\n",
    "#     df = pickle.load(file)\n",
    "\n",
    "# df.head()"
   ]
  },
  {
   "cell_type": "code",
   "execution_count": 3,
   "metadata": {},
   "outputs": [],
   "source": [
    "from google.oauth2 import service_account\n",
    "import pandas_gbq as gbq \n",
    "import json\n",
    "from pandas_gbq import to_gbq, read_gbq\n",
    "\n",
    "credentials_path = '../../../token.json'\n",
    "\n",
    "# Authenticate with your credentials\n",
    "credentials = service_account.Credentials.from_service_account_file(\n",
    "    credentials_path, scopes=['https://www.googleapis.com/auth/bigquery'])\n",
    "\n",
    "# Set the credentials for pandas_gbq\n",
    "gbq.context.credentials = credentials"
   ]
  },
  {
   "cell_type": "code",
   "execution_count": 4,
   "metadata": {},
   "outputs": [
    {
     "name": "stdout",
     "output_type": "stream",
     "text": [
      "Downloading: 100%|\u001b[32m██████████\u001b[0m|\n"
     ]
    }
   ],
   "source": [
    "# import dataframe from GBQ\n",
    "\n",
    "df = read_gbq(f\"\"\"\n",
    "\n",
    "SELECT *\n",
    "FROM capstone-402105.capstone.cri_compustat_data\n",
    "\n",
    "\"\"\",project_id='capstone-402105', dialect='standard')"
   ]
  },
  {
   "cell_type": "code",
   "execution_count": 5,
   "metadata": {},
   "outputs": [],
   "source": [
    "# df['Duration'] = df['Duration'].dt.total_seconds() / (24 * 60 * 60)\n",
    "df['Default_12'] = df['Default_12'].map(lambda x : False if x == 0.0 else True)"
   ]
  },
  {
   "cell_type": "code",
   "execution_count": 6,
   "metadata": {},
   "outputs": [
    {
     "data": {
      "image/png": "[encoded data removed]",
      "text/plain": [
       "<Figure size 640x480 with 1 Axes>"
      ]
     },
     "metadata": {},
     "output_type": "display_data"
    }
   ],
   "source": [
    "%matplotlib inline\n",
    "import matplotlib.pyplot as plt\n",
    "from sksurv.nonparametric import kaplan_meier_estimator\n",
    "\n",
    "# Extract the time and status (event) data\n",
    "time, status = np.array(df['Duration'], dtype=float), np.array(df['Default_12'], dtype=bool)\n",
    "\n",
    "# Estimate the Kaplan-Meier survival curve\n",
    "time, survival_prob = kaplan_meier_estimator(status, time)\n",
    "\n",
    "# Plot the Kaplan-Meier survival curve\n",
    "plt.step(time, survival_prob, where=\"post\")\n",
    "plt.xlabel(\"Time\")\n",
    "plt.ylabel(\"Survival Probability\")\n",
    "plt.title(\"Kaplan-Meier Survival Curve\")\n",
    "plt.show()"
   ]
  },
  {
   "cell_type": "code",
   "execution_count": 8,
   "metadata": {},
   "outputs": [
    {
     "name": "stdout",
     "output_type": "stream",
     "text": [
      "train_df shape: (1142877, 56)\n",
      "test_df shape: (36537, 56)\n"
     ]
    }
   ],
   "source": [
    "from datetime import datetime\n",
    "import pytz\n",
    "\n",
    "date2022 = datetime(2022, 1, 1).replace(tzinfo=pytz.UTC)\n",
    "train_df = df[df[\"EventDate\"] < date2022]\n",
    "test_df = df[df[\"EventDate\"] >= date2022]\n",
    "print(\"train_df shape:\", train_df.shape)\n",
    "print(\"test_df shape:\", test_df.shape)"
   ]
  },
  {
   "cell_type": "code",
   "execution_count": 9,
   "metadata": {},
   "outputs": [],
   "source": [
    "selected_features = ['StkIndx', 'STInt', 'dtdlevel', 'dtdtrend',\n",
    "        'liqnonfinlevel', 'liqnonfintrend', 'ni2talevel', 'ni2tatrend',\n",
    "        'sizelevel', 'sizetrend', 'm2b', 'sigma', 'liqfinlevel', 'lqfintrend',\n",
    "        'DTDmedianFin', 'DTDmedianNonFin', 'dummy297fin', \n",
    "        'current_ratio', 'quick_ratio', 'cash_ratio', 'net_working_capital',\n",
    "        'debt_ratio', 'debt_to_equity_ratio', 'equity_ratio',\n",
    "        'cashflow_to_debt_ratio', 'net_profit_margin', 'return_on_assets',\n",
    "        'asset_turnover', 'inventory_turnover', 'days_in_inventory',\n",
    "        'receivables_turnover', 'day_sales_outstanding',\n",
    "        'working_capital_turnover', 'price_to_earnings',\n",
    "        'dividend_payout_ratio', 'retention_ratio', 'gross_margin_ratio',\n",
    "        'operating_profit_margin', 'ebitda_margin',\n",
    "        'debt_service_coverage_ratio', 'interest_coverage_ratio']"
   ]
  },
  {
   "cell_type": "code",
   "execution_count": 10,
   "metadata": {},
   "outputs": [],
   "source": [
    "X_train = train_df[selected_features]\n",
    "y_train_df = train_df[['Default_12', 'Duration']]"
   ]
  },
  {
   "cell_type": "code",
   "execution_count": 11,
   "metadata": {},
   "outputs": [
    {
     "name": "stdout",
     "output_type": "stream",
     "text": [
      "   Default_12  Duration\n",
      "0       False     11105\n",
      "1       False      8114\n",
      "2       False      3823\n",
      "3       False     11105\n",
      "4       False     11105\n"
     ]
    }
   ],
   "source": [
    "print(y_train_df.head())"
   ]
  },
  {
   "cell_type": "code",
   "execution_count": 12,
   "metadata": {},
   "outputs": [
    {
     "name": "stdout",
     "output_type": "stream",
     "text": [
      "[(False, 11105) (False, 8114) (False, 3823) ... (False, 4896)\n",
      " (False, 2162) (False, 1114)]\n"
     ]
    }
   ],
   "source": [
    "y_train = np.array(y_train_df.to_records(index=False))\n",
    "print(y_train)"
   ]
  },
  {
   "cell_type": "code",
   "execution_count": 13,
   "metadata": {},
   "outputs": [
    {
     "name": "stderr",
     "output_type": "stream",
     "text": [
      "c:\\Users\\Melissa\\AppData\\Local\\Programs\\Python\\Python310\\lib\\site-packages\\sksurv\\linear_model\\coxph.py:449: LinAlgWarning: Ill-conditioned matrix (rcond=3.02862e-19): result may not be accurate.\n",
      "  delta = solve(\n",
      "c:\\Users\\Melissa\\AppData\\Local\\Programs\\Python\\Python310\\lib\\site-packages\\sksurv\\linear_model\\coxph.py:449: LinAlgWarning: Ill-conditioned matrix (rcond=6.83206e-22): result may not be accurate.\n",
      "  delta = solve(\n",
      "c:\\Users\\Melissa\\AppData\\Local\\Programs\\Python\\Python310\\lib\\site-packages\\sksurv\\linear_model\\coxph.py:173: RuntimeWarning: overflow encountered in exp\n",
      "  risk_set += np.exp(xw[k])\n",
      "c:\\Users\\Melissa\\AppData\\Local\\Programs\\Python\\Python310\\lib\\site-packages\\sksurv\\linear_model\\coxph.py:170: RuntimeWarning: overflow encountered in exp\n",
      "  risk_set2 += np.exp(xw[k])\n",
      "c:\\Users\\Melissa\\AppData\\Local\\Programs\\Python\\Python310\\lib\\site-packages\\sksurv\\linear_model\\coxph.py:449: LinAlgWarning: Ill-conditioned matrix (rcond=2.27852e-20): result may not be accurate.\n",
      "  delta = solve(\n",
      "c:\\Users\\Melissa\\AppData\\Local\\Programs\\Python\\Python310\\lib\\site-packages\\sksurv\\linear_model\\coxph.py:449: LinAlgWarning: Ill-conditioned matrix (rcond=2.50961e-19): result may not be accurate.\n",
      "  delta = solve(\n",
      "c:\\Users\\Melissa\\AppData\\Local\\Programs\\Python\\Python310\\lib\\site-packages\\sksurv\\linear_model\\coxph.py:449: LinAlgWarning: Ill-conditioned matrix (rcond=2.70913e-19): result may not be accurate.\n",
      "  delta = solve(\n",
      "c:\\Users\\Melissa\\AppData\\Local\\Programs\\Python\\Python310\\lib\\site-packages\\sksurv\\linear_model\\coxph.py:449: LinAlgWarning: Ill-conditioned matrix (rcond=3.11683e-19): result may not be accurate.\n",
      "  delta = solve(\n",
      "c:\\Users\\Melissa\\AppData\\Local\\Programs\\Python\\Python310\\lib\\site-packages\\sksurv\\linear_model\\coxph.py:449: LinAlgWarning: Ill-conditioned matrix (rcond=3.10174e-19): result may not be accurate.\n",
      "  delta = solve(\n",
      "c:\\Users\\Melissa\\AppData\\Local\\Programs\\Python\\Python310\\lib\\site-packages\\sksurv\\linear_model\\coxph.py:449: LinAlgWarning: Ill-conditioned matrix (rcond=3.06435e-19): result may not be accurate.\n",
      "  delta = solve(\n",
      "c:\\Users\\Melissa\\AppData\\Local\\Programs\\Python\\Python310\\lib\\site-packages\\sksurv\\linear_model\\coxph.py:449: LinAlgWarning: Ill-conditioned matrix (rcond=3.04625e-19): result may not be accurate.\n",
      "  delta = solve(\n",
      "c:\\Users\\Melissa\\AppData\\Local\\Programs\\Python\\Python310\\lib\\site-packages\\sksurv\\linear_model\\coxph.py:449: LinAlgWarning: Ill-conditioned matrix (rcond=3.03737e-19): result may not be accurate.\n",
      "  delta = solve(\n",
      "c:\\Users\\Melissa\\AppData\\Local\\Programs\\Python\\Python310\\lib\\site-packages\\sksurv\\linear_model\\coxph.py:449: LinAlgWarning: Ill-conditioned matrix (rcond=3.03298e-19): result may not be accurate.\n",
      "  delta = solve(\n",
      "c:\\Users\\Melissa\\AppData\\Local\\Programs\\Python\\Python310\\lib\\site-packages\\sksurv\\linear_model\\coxph.py:449: LinAlgWarning: Ill-conditioned matrix (rcond=3.03079e-19): result may not be accurate.\n",
      "  delta = solve(\n",
      "c:\\Users\\Melissa\\AppData\\Local\\Programs\\Python\\Python310\\lib\\site-packages\\sksurv\\linear_model\\coxph.py:449: LinAlgWarning: Ill-conditioned matrix (rcond=3.0297e-19): result may not be accurate.\n",
      "  delta = solve(\n",
      "c:\\Users\\Melissa\\AppData\\Local\\Programs\\Python\\Python310\\lib\\site-packages\\sksurv\\linear_model\\coxph.py:449: LinAlgWarning: Ill-conditioned matrix (rcond=3.02916e-19): result may not be accurate.\n",
      "  delta = solve(\n",
      "c:\\Users\\Melissa\\AppData\\Local\\Programs\\Python\\Python310\\lib\\site-packages\\sksurv\\linear_model\\coxph.py:449: LinAlgWarning: Ill-conditioned matrix (rcond=3.02889e-19): result may not be accurate.\n",
      "  delta = solve(\n",
      "c:\\Users\\Melissa\\AppData\\Local\\Programs\\Python\\Python310\\lib\\site-packages\\sksurv\\linear_model\\coxph.py:449: LinAlgWarning: Ill-conditioned matrix (rcond=3.02875e-19): result may not be accurate.\n",
      "  delta = solve(\n",
      "c:\\Users\\Melissa\\AppData\\Local\\Programs\\Python\\Python310\\lib\\site-packages\\sksurv\\linear_model\\coxph.py:449: LinAlgWarning: Ill-conditioned matrix (rcond=3.02868e-19): result may not be accurate.\n",
      "  delta = solve(\n",
      "c:\\Users\\Melissa\\AppData\\Local\\Programs\\Python\\Python310\\lib\\site-packages\\sksurv\\linear_model\\coxph.py:449: LinAlgWarning: Ill-conditioned matrix (rcond=3.02865e-19): result may not be accurate.\n",
      "  delta = solve(\n",
      "c:\\Users\\Melissa\\AppData\\Local\\Programs\\Python\\Python310\\lib\\site-packages\\sksurv\\linear_model\\coxph.py:449: LinAlgWarning: Ill-conditioned matrix (rcond=3.02863e-19): result may not be accurate.\n",
      "  delta = solve(\n",
      "C:\\Users\\Melissa\\AppData\\Local\\Temp\\ipykernel_23684\\3559286037.py:2: ConvergenceWarning: Optimization did not converge: Maximum number of iterations has been exceeded.\n",
      "  model.fit(X_train, y_train)\n"
     ]
    },
    {
     "data": {
      "text/html": [
       "<style>#sk-container-id-1 {color: black;background-color: white;}#sk-container-id-1 pre{padding: 0;}#sk-container-id-1 div.sk-toggleable {background-color: white;}#sk-container-id-1 label.sk-toggleable__label {cursor: pointer;display: block;width: 100%;margin-bottom: 0;padding: 0.3em;box-sizing: border-box;text-align: center;}#sk-container-id-1 label.sk-toggleable__label-arrow:before {content: \"▸\";float: left;margin-right: 0.25em;color: #696969;}#sk-container-id-1 label.sk-toggleable__label-arrow:hover:before {color: black;}#sk-container-id-1 div.sk-estimator:hover label.sk-toggleable__label-arrow:before {color: black;}#sk-container-id-1 div.sk-toggleable__content {max-height: 0;max-width: 0;overflow: hidden;text-align: left;background-color: #f0f8ff;}#sk-container-id-1 div.sk-toggleable__content pre {margin: 0.2em;color: black;border-radius: 0.25em;background-color: #f0f8ff;}#sk-container-id-1 input.sk-toggleable__control:checked~div.sk-toggleable__content {max-height: 200px;max-width: 100%;overflow: auto;}#sk-container-id-1 input.sk-toggleable__control:checked~label.sk-toggleable__label-arrow:before {content: \"▾\";}#sk-container-id-1 div.sk-estimator input.sk-toggleable__control:checked~label.sk-toggleable__label {background-color: #d4ebff;}#sk-container-id-1 div.sk-label input.sk-toggleable__control:checked~label.sk-toggleable__label {background-color: #d4ebff;}#sk-container-id-1 input.sk-hidden--visually {border: 0;clip: rect(1px 1px 1px 1px);clip: rect(1px, 1px, 1px, 1px);height: 1px;margin: -1px;overflow: hidden;padding: 0;position: absolute;width: 1px;}#sk-container-id-1 div.sk-estimator {font-family: monospace;background-color: #f0f8ff;border: 1px dotted black;border-radius: 0.25em;box-sizing: border-box;margin-bottom: 0.5em;}#sk-container-id-1 div.sk-estimator:hover {background-color: #d4ebff;}#sk-container-id-1 div.sk-parallel-item::after {content: \"\";width: 100%;border-bottom: 1px solid gray;flex-grow: 1;}#sk-container-id-1 div.sk-label:hover label.sk-toggleable__label {background-color: #d4ebff;}#sk-container-id-1 div.sk-serial::before {content: \"\";position: absolute;border-left: 1px solid gray;box-sizing: border-box;top: 0;bottom: 0;left: 50%;z-index: 0;}#sk-container-id-1 div.sk-serial {display: flex;flex-direction: column;align-items: center;background-color: white;padding-right: 0.2em;padding-left: 0.2em;position: relative;}#sk-container-id-1 div.sk-item {position: relative;z-index: 1;}#sk-container-id-1 div.sk-parallel {display: flex;align-items: stretch;justify-content: center;background-color: white;position: relative;}#sk-container-id-1 div.sk-item::before, #sk-container-id-1 div.sk-parallel-item::before {content: \"\";position: absolute;border-left: 1px solid gray;box-sizing: border-box;top: 0;bottom: 0;left: 50%;z-index: -1;}#sk-container-id-1 div.sk-parallel-item {display: flex;flex-direction: column;z-index: 1;position: relative;background-color: white;}#sk-container-id-1 div.sk-parallel-item:first-child::after {align-self: flex-end;width: 50%;}#sk-container-id-1 div.sk-parallel-item:last-child::after {align-self: flex-start;width: 50%;}#sk-container-id-1 div.sk-parallel-item:only-child::after {width: 0;}#sk-container-id-1 div.sk-dashed-wrapped {border: 1px dashed gray;margin: 0 0.4em 0.5em 0.4em;box-sizing: border-box;padding-bottom: 0.4em;background-color: white;}#sk-container-id-1 div.sk-label label {font-family: monospace;font-weight: bold;display: inline-block;line-height: 1.2em;}#sk-container-id-1 div.sk-label-container {text-align: center;}#sk-container-id-1 div.sk-container {/* jupyter's `normalize.less` sets `[hidden] { display: none; }` but bootstrap.min.css set `[hidden] { display: none !important; }` so we also need the `!important` here to be able to override the default hidden behavior on the sphinx rendered scikit-learn.org. See: https://github.com/scikit-learn/scikit-learn/issues/21755 */display: inline-block !important;position: relative;}#sk-container-id-1 div.sk-text-repr-fallback {display: none;}</style><div id=\"sk-container-id-1\" class=\"sk-top-container\"><div class=\"sk-text-repr-fallback\"><pre>CoxPHSurvivalAnalysis()</pre><b>In a Jupyter environment, please rerun this cell to show the HTML representation or trust the notebook. <br />On GitHub, the HTML representation is unable to render, please try loading this page with nbviewer.org.</b></div><div class=\"sk-container\" hidden><div class=\"sk-item\"><div class=\"sk-estimator sk-toggleable\"><input class=\"sk-toggleable__control sk-hidden--visually\" id=\"sk-estimator-id-1\" type=\"checkbox\" checked><label for=\"sk-estimator-id-1\" class=\"sk-toggleable__label sk-toggleable__label-arrow\">CoxPHSurvivalAnalysis</label><div class=\"sk-toggleable__content\"><pre>CoxPHSurvivalAnalysis()</pre></div></div></div></div></div>"
      ],
      "text/plain": [
       "CoxPHSurvivalAnalysis()"
      ]
     },
     "execution_count": 13,
     "metadata": {},
     "output_type": "execute_result"
    }
   ],
   "source": [
    "model = CoxPHSurvivalAnalysis()\n",
    "model.fit(X_train, y_train)"
   ]
  },
  {
   "cell_type": "code",
   "execution_count": 14,
   "metadata": {},
   "outputs": [],
   "source": [
    "X_test = test_df[selected_features]\n",
    "y_test_df = test_df[['Default_12', 'Duration']]\n",
    "y_test = np.array(y_test_df.to_records(index=False))"
   ]
  },
  {
   "cell_type": "code",
   "execution_count": 29,
   "metadata": {},
   "outputs": [
    {
     "name": "stdout",
     "output_type": "stream",
     "text": [
      "Concordance Index (C-index): 0.5000\n"
     ]
    }
   ],
   "source": [
    "prediction = model.predict(X_test)\n",
    "result = concordance_index_censored(y_test['Default_12'], y_test['Duration'], prediction)\n",
    "print(f\"Concordance Index (C-index): {result[0]:.4f}\")"
   ]
  }
 ],
 "metadata": {
  "kernelspec": {
   "display_name": "base",
   "language": "python",
   "name": "python3"
  },
  "language_info": {
   "codemirror_mode": {
    "name": "ipython",
    "version": 3
   },
   "file_extension": ".py",
   "mimetype": "text/x-python",
   "name": "python",
   "nbconvert_exporter": "python",
   "pygments_lexer": "ipython3",
   "version": "3.10.7"
  },
  "orig_nbformat": 4
 },
 "nbformat": 4,
 "nbformat_minor": 2
}
