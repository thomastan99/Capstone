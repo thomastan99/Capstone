{
 "cells": [
  {
   "cell_type": "code",
   "execution_count": 165,
   "metadata": {},
   "outputs": [],
   "source": [
    "import numpy as np\n",
    "import pandas as pd\n",
    "import matplotlib.pyplot as plt\n",
    "from sklearn.model_selection import train_test_split\n",
    "from sklearn.preprocessing import StandardScaler, MinMaxScaler\n",
    "from sklearn.pipeline import make_pipeline\n",
    "from sksurv.linear_model import CoxPHSurvivalAnalysis\n",
    "from sksurv.nonparametric import kaplan_meier_estimator\n",
    "from sksurv.preprocessing import OneHotEncoder\n",
    "from sksurv.ensemble import RandomSurvivalForest\n",
    "from sksurv.ensemble import ComponentwiseGradientBoostingSurvivalAnalysis\n",
    "from sksurv.ensemble import GradientBoostingSurvivalAnalysis\n",
    "from sksurv.metrics import concordance_index_censored\n",
    "from sksurv.metrics import as_cumulative_dynamic_auc_scorer\n",
    "from sklearn.model_selection import cross_val_score\n",
    "from sksurv.metrics import cumulative_dynamic_auc\n",
    "from sklearn.model_selection import KFold\n",
    "import pickle\n"
   ]
  },
  {
   "cell_type": "code",
   "execution_count": 166,
   "metadata": {},
   "outputs": [
    {
     "data": {
      "text/html": [
       "<div>\n",
       "<style scoped>\n",
       "    .dataframe tbody tr th:only-of-type {\n",
       "        vertical-align: middle;\n",
       "    }\n",
       "\n",
       "    .dataframe tbody tr th {\n",
       "        vertical-align: top;\n",
       "    }\n",
       "\n",
       "    .dataframe thead th {\n",
       "        text-align: right;\n",
       "    }\n",
       "</style>\n",
       "<table border=\"1\" class=\"dataframe\">\n",
       "  <thead>\n",
       "    <tr style=\"text-align: right;\">\n",
       "      <th></th>\n",
       "      <th>CompNo</th>\n",
       "      <th>year</th>\n",
       "      <th>month</th>\n",
       "      <th>StkIndx</th>\n",
       "      <th>STInt</th>\n",
       "      <th>dtdlevel</th>\n",
       "      <th>dtdtrend</th>\n",
       "      <th>liqnonfinlevel</th>\n",
       "      <th>liqnonfintrend</th>\n",
       "      <th>ni2talevel</th>\n",
       "      <th>...</th>\n",
       "      <th>day_sales_outstanding</th>\n",
       "      <th>working_capital_turnover</th>\n",
       "      <th>price_to_earnings</th>\n",
       "      <th>dividend_payout_ratio</th>\n",
       "      <th>retention_ratio</th>\n",
       "      <th>gross_margin_ratio</th>\n",
       "      <th>operating_profit_margin</th>\n",
       "      <th>ebitda_margin</th>\n",
       "      <th>debt_service_coverage_ratio</th>\n",
       "      <th>interest_coverage_ratio</th>\n",
       "    </tr>\n",
       "  </thead>\n",
       "  <tbody>\n",
       "    <tr>\n",
       "      <th>0</th>\n",
       "      <td>42404</td>\n",
       "      <td>2000.0</td>\n",
       "      <td>1</td>\n",
       "      <td>0.089239</td>\n",
       "      <td>0.011089</td>\n",
       "      <td>0.677551</td>\n",
       "      <td>0.332808</td>\n",
       "      <td>1.411466</td>\n",
       "      <td>0.027249</td>\n",
       "      <td>-0.148249</td>\n",
       "      <td>...</td>\n",
       "      <td>197946.597222</td>\n",
       "      <td>0.000000</td>\n",
       "      <td>-5.000000</td>\n",
       "      <td>-0.0</td>\n",
       "      <td>1.0</td>\n",
       "      <td>-5.251700e+06</td>\n",
       "      <td>-2.189250e+07</td>\n",
       "      <td>-2.185540e+07</td>\n",
       "      <td>-149041.103448</td>\n",
       "      <td>-297211.000000</td>\n",
       "    </tr>\n",
       "    <tr>\n",
       "      <th>1</th>\n",
       "      <td>37610</td>\n",
       "      <td>2000.0</td>\n",
       "      <td>1</td>\n",
       "      <td>0.089239</td>\n",
       "      <td>0.011089</td>\n",
       "      <td>0.087376</td>\n",
       "      <td>-0.524732</td>\n",
       "      <td>0.906364</td>\n",
       "      <td>-0.071829</td>\n",
       "      <td>0.000292</td>\n",
       "      <td>...</td>\n",
       "      <td>190.722132</td>\n",
       "      <td>2.177571</td>\n",
       "      <td>-1.220833</td>\n",
       "      <td>0.0</td>\n",
       "      <td>1.0</td>\n",
       "      <td>2.498284e+01</td>\n",
       "      <td>-7.402171e+01</td>\n",
       "      <td>-6.856532e+01</td>\n",
       "      <td>-0.904380</td>\n",
       "      <td>1.490291</td>\n",
       "    </tr>\n",
       "    <tr>\n",
       "      <th>2</th>\n",
       "      <td>49536</td>\n",
       "      <td>2000.0</td>\n",
       "      <td>1</td>\n",
       "      <td>0.313050</td>\n",
       "      <td>0.007314</td>\n",
       "      <td>3.693176</td>\n",
       "      <td>0.625516</td>\n",
       "      <td>1.872712</td>\n",
       "      <td>1.010148</td>\n",
       "      <td>-0.069998</td>\n",
       "      <td>...</td>\n",
       "      <td>0.000000</td>\n",
       "      <td>0.036899</td>\n",
       "      <td>-78.333333</td>\n",
       "      <td>-0.0</td>\n",
       "      <td>1.0</td>\n",
       "      <td>7.542644e+01</td>\n",
       "      <td>-2.309701e+02</td>\n",
       "      <td>-1.503731e+02</td>\n",
       "      <td>-11.081841</td>\n",
       "      <td>-430.222222</td>\n",
       "    </tr>\n",
       "    <tr>\n",
       "      <th>3</th>\n",
       "      <td>32417</td>\n",
       "      <td>2000.0</td>\n",
       "      <td>1</td>\n",
       "      <td>0.089239</td>\n",
       "      <td>0.011089</td>\n",
       "      <td>6.165654</td>\n",
       "      <td>0.863910</td>\n",
       "      <td>1.275166</td>\n",
       "      <td>0.184606</td>\n",
       "      <td>0.013360</td>\n",
       "      <td>...</td>\n",
       "      <td>269.176235</td>\n",
       "      <td>0.551135</td>\n",
       "      <td>66.510333</td>\n",
       "      <td>0.0</td>\n",
       "      <td>1.0</td>\n",
       "      <td>5.234158e+01</td>\n",
       "      <td>-2.327468e+01</td>\n",
       "      <td>-1.952816e+01</td>\n",
       "      <td>-395.933333</td>\n",
       "      <td>777.750000</td>\n",
       "    </tr>\n",
       "    <tr>\n",
       "      <th>4</th>\n",
       "      <td>44933</td>\n",
       "      <td>2000.0</td>\n",
       "      <td>1</td>\n",
       "      <td>0.089239</td>\n",
       "      <td>0.011089</td>\n",
       "      <td>0.629410</td>\n",
       "      <td>-0.874122</td>\n",
       "      <td>0.000000</td>\n",
       "      <td>0.000000</td>\n",
       "      <td>0.004436</td>\n",
       "      <td>...</td>\n",
       "      <td>0.000000</td>\n",
       "      <td>-2.766467</td>\n",
       "      <td>19.196429</td>\n",
       "      <td>0.0</td>\n",
       "      <td>1.0</td>\n",
       "      <td>7.495250e+01</td>\n",
       "      <td>3.133312e+01</td>\n",
       "      <td>4.316023e+01</td>\n",
       "      <td>0.020216</td>\n",
       "      <td>2.013002</td>\n",
       "    </tr>\n",
       "  </tbody>\n",
       "</table>\n",
       "<p>5 rows × 52 columns</p>\n",
       "</div>"
      ],
      "text/plain": [
       "   CompNo    year  month   StkIndx     STInt  dtdlevel  dtdtrend  \\\n",
       "0   42404  2000.0      1  0.089239  0.011089  0.677551  0.332808   \n",
       "1   37610  2000.0      1  0.089239  0.011089  0.087376 -0.524732   \n",
       "2   49536  2000.0      1  0.313050  0.007314  3.693176  0.625516   \n",
       "3   32417  2000.0      1  0.089239  0.011089  6.165654  0.863910   \n",
       "4   44933  2000.0      1  0.089239  0.011089  0.629410 -0.874122   \n",
       "\n",
       "   liqnonfinlevel  liqnonfintrend  ni2talevel  ...  day_sales_outstanding  \\\n",
       "0        1.411466        0.027249   -0.148249  ...          197946.597222   \n",
       "1        0.906364       -0.071829    0.000292  ...             190.722132   \n",
       "2        1.872712        1.010148   -0.069998  ...               0.000000   \n",
       "3        1.275166        0.184606    0.013360  ...             269.176235   \n",
       "4        0.000000        0.000000    0.004436  ...               0.000000   \n",
       "\n",
       "   working_capital_turnover  price_to_earnings  dividend_payout_ratio  \\\n",
       "0                  0.000000          -5.000000                   -0.0   \n",
       "1                  2.177571          -1.220833                    0.0   \n",
       "2                  0.036899         -78.333333                   -0.0   \n",
       "3                  0.551135          66.510333                    0.0   \n",
       "4                 -2.766467          19.196429                    0.0   \n",
       "\n",
       "   retention_ratio  gross_margin_ratio  operating_profit_margin  \\\n",
       "0              1.0       -5.251700e+06            -2.189250e+07   \n",
       "1              1.0        2.498284e+01            -7.402171e+01   \n",
       "2              1.0        7.542644e+01            -2.309701e+02   \n",
       "3              1.0        5.234158e+01            -2.327468e+01   \n",
       "4              1.0        7.495250e+01             3.133312e+01   \n",
       "\n",
       "   ebitda_margin  debt_service_coverage_ratio  interest_coverage_ratio  \n",
       "0  -2.185540e+07               -149041.103448           -297211.000000  \n",
       "1  -6.856532e+01                    -0.904380                 1.490291  \n",
       "2  -1.503731e+02                   -11.081841              -430.222222  \n",
       "3  -1.952816e+01                  -395.933333               777.750000  \n",
       "4   4.316023e+01                     0.020216                 2.013002  \n",
       "\n",
       "[5 rows x 52 columns]"
      ]
     },
     "execution_count": 166,
     "metadata": {},
     "output_type": "execute_result"
    }
   ],
   "source": [
    "# Specify the path to your pickle file\n",
    "file_path = \"../../../dataset/cri_compustat_merged_v8.pkl\"\n",
    "\n",
    "# Open the pickle file for reading\n",
    "with open(file_path, 'rb') as file:\n",
    "    # Load the data from the pickle file\n",
    "    df = pickle.load(file)\n",
    "\n",
    "df.head()"
   ]
  },
  {
   "cell_type": "code",
   "execution_count": 167,
   "metadata": {},
   "outputs": [],
   "source": [
    "df['Duration'] = df['Duration'].dt.total_seconds() / (24 * 60 * 60)\n",
    "df['Default'] = df['Default'].map(lambda x : False if x == 0.0 else True)"
   ]
  },
  {
   "cell_type": "code",
   "execution_count": 168,
   "metadata": {},
   "outputs": [
    {
     "data": {
      "image/png": "[encoded data removed]",
      "text/plain": [
       "<Figure size 640x480 with 1 Axes>"
      ]
     },
     "metadata": {},
     "output_type": "display_data"
    }
   ],
   "source": [
    "%matplotlib inline\n",
    "import matplotlib.pyplot as plt\n",
    "from sksurv.nonparametric import kaplan_meier_estimator\n",
    "\n",
    "# Extract the time and status (event) data\n",
    "time, status = np.array(df['Duration'], dtype=float), np.array(df['Default'], dtype=bool)\n",
    "\n",
    "# Estimate the Kaplan-Meier survival curve\n",
    "time, survival_prob = kaplan_meier_estimator(status, time)\n",
    "\n",
    "# Plot the Kaplan-Meier survival curve\n",
    "plt.step(time, survival_prob, where=\"post\")\n",
    "plt.xlabel(\"Time\")\n",
    "plt.ylabel(\"Survival Probability\")\n",
    "plt.title(\"Kaplan-Meier Survival Curve\")\n",
    "plt.show()"
   ]
  },
  {
   "cell_type": "code",
   "execution_count": 169,
   "metadata": {},
   "outputs": [
    {
     "name": "stdout",
     "output_type": "stream",
     "text": [
      "train_df shape: (1142877, 52)\n",
      "test_df shape: (36537, 52)\n"
     ]
    }
   ],
   "source": [
    "from datetime import datetime\n",
    "\n",
    "date2022 = datetime(2022, 1, 1)\n",
    "train_df = df[df[\"date\"] < date2022]\n",
    "test_df = df[df[\"date\"] >= date2022]\n",
    "print(\"train_df shape:\", train_df.shape)\n",
    "print(\"test_df shape:\", test_df.shape)"
   ]
  },
  {
   "cell_type": "code",
   "execution_count": 170,
   "metadata": {},
   "outputs": [],
   "source": [
    "selected_features = ['StkIndx', 'STInt', 'dtdlevel', 'dtdtrend',\n",
    "        'liqnonfinlevel', 'liqnonfintrend', 'ni2talevel', 'ni2tatrend',\n",
    "        'sizelevel', 'sizetrend', 'm2b', 'sigma', 'liqfinlevel', 'lqfintrend',\n",
    "        'DTDmedianFin', 'DTDmedianNonFin', 'dummy297fin', \n",
    "        'current_ratio', 'quick_ratio', 'cash_ratio', 'net_working_capital',\n",
    "        'debt_ratio', 'debt_to_equity_ratio', 'equity_ratio',\n",
    "        'cashflow_to_debt_ratio', 'net_profit_margin', 'return_on_assets',\n",
    "        'asset_turnover', 'inventory_turnover', 'days_in_inventory',\n",
    "        'receivables_turnover', 'day_sales_outstanding',\n",
    "        'working_capital_turnover', 'price_to_earnings',\n",
    "        'dividend_payout_ratio', 'retention_ratio', 'gross_margin_ratio',\n",
    "        'operating_profit_margin', 'ebitda_margin',\n",
    "        'debt_service_coverage_ratio', 'interest_coverage_ratio']"
   ]
  },
  {
   "cell_type": "code",
   "execution_count": 171,
   "metadata": {},
   "outputs": [],
   "source": [
    "X_train = train_df[selected_features]\n",
    "y_train_df = train_df[['Default', 'Duration']]"
   ]
  },
  {
   "cell_type": "code",
   "execution_count": 172,
   "metadata": {},
   "outputs": [
    {
     "name": "stdout",
     "output_type": "stream",
     "text": [
      "   Default  Duration\n",
      "0    False     914.0\n",
      "1    False    1848.0\n",
      "2    False    3785.0\n",
      "3    False    2786.0\n",
      "4    False     472.0\n"
     ]
    }
   ],
   "source": [
    "print(y_train_df.head())"
   ]
  },
  {
   "cell_type": "code",
   "execution_count": 173,
   "metadata": {},
   "outputs": [
    {
     "name": "stdout",
     "output_type": "stream",
     "text": [
      "[(False,   914.) (False,  1848.) (False,  3785.) ... (False, 12415.)\n",
      " (False,  9753.) (False,  3844.)]\n"
     ]
    }
   ],
   "source": [
    "y_train = np.array(y_train_df.to_records(index=False))\n",
    "print(y_train)"
   ]
  },
  {
   "cell_type": "code",
   "execution_count": 177,
   "metadata": {},
   "outputs": [
    {
     "name": "stderr",
     "output_type": "stream",
     "text": [
      "c:\\Users\\Melissa\\AppData\\Local\\Programs\\Python\\Python310\\lib\\site-packages\\sksurv\\linear_model\\coxph.py:449: LinAlgWarning: Ill-conditioned matrix (rcond=3.02805e-19): result may not be accurate.\n",
      "  delta = solve(\n",
      "c:\\Users\\Melissa\\AppData\\Local\\Programs\\Python\\Python310\\lib\\site-packages\\sksurv\\linear_model\\coxph.py:449: LinAlgWarning: Ill-conditioned matrix (rcond=6.76826e-22): result may not be accurate.\n",
      "  delta = solve(\n",
      "c:\\Users\\Melissa\\AppData\\Local\\Programs\\Python\\Python310\\lib\\site-packages\\sksurv\\linear_model\\coxph.py:173: RuntimeWarning: overflow encountered in exp\n",
      "  risk_set += np.exp(xw[k])\n",
      "c:\\Users\\Melissa\\AppData\\Local\\Programs\\Python\\Python310\\lib\\site-packages\\sksurv\\linear_model\\coxph.py:170: RuntimeWarning: overflow encountered in exp\n",
      "  risk_set2 += np.exp(xw[k])\n",
      "c:\\Users\\Melissa\\AppData\\Local\\Programs\\Python\\Python310\\lib\\site-packages\\sksurv\\linear_model\\coxph.py:449: LinAlgWarning: Ill-conditioned matrix (rcond=2.25084e-20): result may not be accurate.\n",
      "  delta = solve(\n",
      "c:\\Users\\Melissa\\AppData\\Local\\Programs\\Python\\Python310\\lib\\site-packages\\sksurv\\linear_model\\coxph.py:449: LinAlgWarning: Ill-conditioned matrix (rcond=2.50227e-19): result may not be accurate.\n",
      "  delta = solve(\n",
      "c:\\Users\\Melissa\\AppData\\Local\\Programs\\Python\\Python310\\lib\\site-packages\\sksurv\\linear_model\\coxph.py:449: LinAlgWarning: Ill-conditioned matrix (rcond=2.70479e-19): result may not be accurate.\n",
      "  delta = solve(\n",
      "c:\\Users\\Melissa\\AppData\\Local\\Programs\\Python\\Python310\\lib\\site-packages\\sksurv\\linear_model\\coxph.py:449: LinAlgWarning: Ill-conditioned matrix (rcond=3.11124e-19): result may not be accurate.\n",
      "  delta = solve(\n",
      "c:\\Users\\Melissa\\AppData\\Local\\Programs\\Python\\Python310\\lib\\site-packages\\sksurv\\linear_model\\coxph.py:449: LinAlgWarning: Ill-conditioned matrix (rcond=3.10011e-19): result may not be accurate.\n",
      "  delta = solve(\n",
      "c:\\Users\\Melissa\\AppData\\Local\\Programs\\Python\\Python310\\lib\\site-packages\\sksurv\\linear_model\\coxph.py:449: LinAlgWarning: Ill-conditioned matrix (rcond=3.06326e-19): result may not be accurate.\n",
      "  delta = solve(\n",
      "c:\\Users\\Melissa\\AppData\\Local\\Programs\\Python\\Python310\\lib\\site-packages\\sksurv\\linear_model\\coxph.py:449: LinAlgWarning: Ill-conditioned matrix (rcond=3.04542e-19): result may not be accurate.\n",
      "  delta = solve(\n",
      "c:\\Users\\Melissa\\AppData\\Local\\Programs\\Python\\Python310\\lib\\site-packages\\sksurv\\linear_model\\coxph.py:449: LinAlgWarning: Ill-conditioned matrix (rcond=3.03667e-19): result may not be accurate.\n",
      "  delta = solve(\n",
      "c:\\Users\\Melissa\\AppData\\Local\\Programs\\Python\\Python310\\lib\\site-packages\\sksurv\\linear_model\\coxph.py:449: LinAlgWarning: Ill-conditioned matrix (rcond=3.03235e-19): result may not be accurate.\n",
      "  delta = solve(\n",
      "c:\\Users\\Melissa\\AppData\\Local\\Programs\\Python\\Python310\\lib\\site-packages\\sksurv\\linear_model\\coxph.py:449: LinAlgWarning: Ill-conditioned matrix (rcond=3.03019e-19): result may not be accurate.\n",
      "  delta = solve(\n",
      "c:\\Users\\Melissa\\AppData\\Local\\Programs\\Python\\Python310\\lib\\site-packages\\sksurv\\linear_model\\coxph.py:449: LinAlgWarning: Ill-conditioned matrix (rcond=3.02912e-19): result may not be accurate.\n",
      "  delta = solve(\n",
      "c:\\Users\\Melissa\\AppData\\Local\\Programs\\Python\\Python310\\lib\\site-packages\\sksurv\\linear_model\\coxph.py:449: LinAlgWarning: Ill-conditioned matrix (rcond=3.02858e-19): result may not be accurate.\n",
      "  delta = solve(\n",
      "c:\\Users\\Melissa\\AppData\\Local\\Programs\\Python\\Python310\\lib\\site-packages\\sksurv\\linear_model\\coxph.py:449: LinAlgWarning: Ill-conditioned matrix (rcond=3.02831e-19): result may not be accurate.\n",
      "  delta = solve(\n",
      "c:\\Users\\Melissa\\AppData\\Local\\Programs\\Python\\Python310\\lib\\site-packages\\sksurv\\linear_model\\coxph.py:449: LinAlgWarning: Ill-conditioned matrix (rcond=3.02818e-19): result may not be accurate.\n",
      "  delta = solve(\n",
      "c:\\Users\\Melissa\\AppData\\Local\\Programs\\Python\\Python310\\lib\\site-packages\\sksurv\\linear_model\\coxph.py:449: LinAlgWarning: Ill-conditioned matrix (rcond=3.02811e-19): result may not be accurate.\n",
      "  delta = solve(\n",
      "c:\\Users\\Melissa\\AppData\\Local\\Programs\\Python\\Python310\\lib\\site-packages\\sksurv\\linear_model\\coxph.py:449: LinAlgWarning: Ill-conditioned matrix (rcond=3.02808e-19): result may not be accurate.\n",
      "  delta = solve(\n",
      "c:\\Users\\Melissa\\AppData\\Local\\Programs\\Python\\Python310\\lib\\site-packages\\sksurv\\linear_model\\coxph.py:449: LinAlgWarning: Ill-conditioned matrix (rcond=3.02806e-19): result may not be accurate.\n",
      "  delta = solve(\n",
      "C:\\Users\\Melissa\\AppData\\Local\\Temp\\ipykernel_21624\\3559286037.py:2: ConvergenceWarning: Optimization did not converge: Maximum number of iterations has been exceeded.\n",
      "  model.fit(X_train, y_train)\n"
     ]
    },
    {
     "data": {
      "text/html": [
       "<style>#sk-container-id-2 {color: black;background-color: white;}#sk-container-id-2 pre{padding: 0;}#sk-container-id-2 div.sk-toggleable {background-color: white;}#sk-container-id-2 label.sk-toggleable__label {cursor: pointer;display: block;width: 100%;margin-bottom: 0;padding: 0.3em;box-sizing: border-box;text-align: center;}#sk-container-id-2 label.sk-toggleable__label-arrow:before {content: \"▸\";float: left;margin-right: 0.25em;color: #696969;}#sk-container-id-2 label.sk-toggleable__label-arrow:hover:before {color: black;}#sk-container-id-2 div.sk-estimator:hover label.sk-toggleable__label-arrow:before {color: black;}#sk-container-id-2 div.sk-toggleable__content {max-height: 0;max-width: 0;overflow: hidden;text-align: left;background-color: #f0f8ff;}#sk-container-id-2 div.sk-toggleable__content pre {margin: 0.2em;color: black;border-radius: 0.25em;background-color: #f0f8ff;}#sk-container-id-2 input.sk-toggleable__control:checked~div.sk-toggleable__content {max-height: 200px;max-width: 100%;overflow: auto;}#sk-container-id-2 input.sk-toggleable__control:checked~label.sk-toggleable__label-arrow:before {content: \"▾\";}#sk-container-id-2 div.sk-estimator input.sk-toggleable__control:checked~label.sk-toggleable__label {background-color: #d4ebff;}#sk-container-id-2 div.sk-label input.sk-toggleable__control:checked~label.sk-toggleable__label {background-color: #d4ebff;}#sk-container-id-2 input.sk-hidden--visually {border: 0;clip: rect(1px 1px 1px 1px);clip: rect(1px, 1px, 1px, 1px);height: 1px;margin: -1px;overflow: hidden;padding: 0;position: absolute;width: 1px;}#sk-container-id-2 div.sk-estimator {font-family: monospace;background-color: #f0f8ff;border: 1px dotted black;border-radius: 0.25em;box-sizing: border-box;margin-bottom: 0.5em;}#sk-container-id-2 div.sk-estimator:hover {background-color: #d4ebff;}#sk-container-id-2 div.sk-parallel-item::after {content: \"\";width: 100%;border-bottom: 1px solid gray;flex-grow: 1;}#sk-container-id-2 div.sk-label:hover label.sk-toggleable__label {background-color: #d4ebff;}#sk-container-id-2 div.sk-serial::before {content: \"\";position: absolute;border-left: 1px solid gray;box-sizing: border-box;top: 0;bottom: 0;left: 50%;z-index: 0;}#sk-container-id-2 div.sk-serial {display: flex;flex-direction: column;align-items: center;background-color: white;padding-right: 0.2em;padding-left: 0.2em;position: relative;}#sk-container-id-2 div.sk-item {position: relative;z-index: 1;}#sk-container-id-2 div.sk-parallel {display: flex;align-items: stretch;justify-content: center;background-color: white;position: relative;}#sk-container-id-2 div.sk-item::before, #sk-container-id-2 div.sk-parallel-item::before {content: \"\";position: absolute;border-left: 1px solid gray;box-sizing: border-box;top: 0;bottom: 0;left: 50%;z-index: -1;}#sk-container-id-2 div.sk-parallel-item {display: flex;flex-direction: column;z-index: 1;position: relative;background-color: white;}#sk-container-id-2 div.sk-parallel-item:first-child::after {align-self: flex-end;width: 50%;}#sk-container-id-2 div.sk-parallel-item:last-child::after {align-self: flex-start;width: 50%;}#sk-container-id-2 div.sk-parallel-item:only-child::after {width: 0;}#sk-container-id-2 div.sk-dashed-wrapped {border: 1px dashed gray;margin: 0 0.4em 0.5em 0.4em;box-sizing: border-box;padding-bottom: 0.4em;background-color: white;}#sk-container-id-2 div.sk-label label {font-family: monospace;font-weight: bold;display: inline-block;line-height: 1.2em;}#sk-container-id-2 div.sk-label-container {text-align: center;}#sk-container-id-2 div.sk-container {/* jupyter's `normalize.less` sets `[hidden] { display: none; }` but bootstrap.min.css set `[hidden] { display: none !important; }` so we also need the `!important` here to be able to override the default hidden behavior on the sphinx rendered scikit-learn.org. See: https://github.com/scikit-learn/scikit-learn/issues/21755 */display: inline-block !important;position: relative;}#sk-container-id-2 div.sk-text-repr-fallback {display: none;}</style><div id=\"sk-container-id-2\" class=\"sk-top-container\"><div class=\"sk-text-repr-fallback\"><pre>CoxPHSurvivalAnalysis()</pre><b>In a Jupyter environment, please rerun this cell to show the HTML representation or trust the notebook. <br />On GitHub, the HTML representation is unable to render, please try loading this page with nbviewer.org.</b></div><div class=\"sk-container\" hidden><div class=\"sk-item\"><div class=\"sk-estimator sk-toggleable\"><input class=\"sk-toggleable__control sk-hidden--visually\" id=\"sk-estimator-id-2\" type=\"checkbox\" checked><label for=\"sk-estimator-id-2\" class=\"sk-toggleable__label sk-toggleable__label-arrow\">CoxPHSurvivalAnalysis</label><div class=\"sk-toggleable__content\"><pre>CoxPHSurvivalAnalysis()</pre></div></div></div></div></div>"
      ],
      "text/plain": [
       "CoxPHSurvivalAnalysis()"
      ]
     },
     "execution_count": 177,
     "metadata": {},
     "output_type": "execute_result"
    }
   ],
   "source": [
    "model = CoxPHSurvivalAnalysis()\n",
    "model.fit(X_train, y_train)"
   ]
  },
  {
   "cell_type": "code",
   "execution_count": 190,
   "metadata": {},
   "outputs": [],
   "source": [
    "X_test = test_df[selected_features]\n",
    "y_test_df = test_df[['Default', 'Duration']]\n",
    "y_test = np.array(y_test_df.to_records(index=False))"
   ]
  },
  {
   "cell_type": "code",
   "execution_count": 196,
   "metadata": {},
   "outputs": [
    {
     "ename": "IndexError",
     "evalue": "invalid index to scalar variable.",
     "output_type": "error",
     "traceback": [
      "\u001b[1;31m---------------------------------------------------------------------------\u001b[0m",
      "\u001b[1;31mIndexError\u001b[0m                                Traceback (most recent call last)",
      "\u001b[1;32mc:\\Users\\Melissa\\Desktop\\Uni\\Y4S1\\BT4103 capstone\\Capstone\\models\\scikit-survival\\sksurv.ipynb Cell 12\u001b[0m line \u001b[0;36m1\n\u001b[0;32m     <a href='vscode-notebook-cell:/c%3A/Users/Melissa/Desktop/Uni/Y4S1/BT4103%20capstone/Capstone/models/scikit-survival/sksurv.ipynb#Y104sZmlsZQ%3D%3D?line=9'>10</a>\u001b[0m \u001b[39m# Iterate through the survival functions and extract the survival probability at the specific time point\u001b[39;00m\n\u001b[0;32m     <a href='vscode-notebook-cell:/c%3A/Users/Melissa/Desktop/Uni/Y4S1/BT4103%20capstone/Capstone/models/scikit-survival/sksurv.ipynb#Y104sZmlsZQ%3D%3D?line=10'>11</a>\u001b[0m \u001b[39mfor\u001b[39;00m i, survival_function \u001b[39min\u001b[39;00m \u001b[39menumerate\u001b[39m(survival_functions):\n\u001b[1;32m---> <a href='vscode-notebook-cell:/c%3A/Users/Melissa/Desktop/Uni/Y4S1/BT4103%20capstone/Capstone/models/scikit-survival/sksurv.ipynb#Y104sZmlsZQ%3D%3D?line=11'>12</a>\u001b[0m     survival_probability \u001b[39m=\u001b[39m survival_function[i]  \u001b[39m# Use [i] to access the i-th prediction\u001b[39;00m\n\u001b[0;32m     <a href='vscode-notebook-cell:/c%3A/Users/Melissa/Desktop/Uni/Y4S1/BT4103%20capstone/Capstone/models/scikit-survival/sksurv.ipynb#Y104sZmlsZQ%3D%3D?line=12'>13</a>\u001b[0m     survival_probabilities\u001b[39m.\u001b[39mappend(survival_probability)\n\u001b[0;32m     <a href='vscode-notebook-cell:/c%3A/Users/Melissa/Desktop/Uni/Y4S1/BT4103%20capstone/Capstone/models/scikit-survival/sksurv.ipynb#Y104sZmlsZQ%3D%3D?line=14'>15</a>\u001b[0m \u001b[39m# 'survival_probabilities' now contains the survival probabilities for each data point at the specific time point\u001b[39;00m\n",
      "\u001b[1;31mIndexError\u001b[0m: invalid index to scalar variable."
     ]
    }
   ],
   "source": [
    "# Predict survival functions for each row in X_test\n",
    "survival_functions = model.predict(X_test)\n",
    "\n",
    "# Define the specific time point (in days) for which you want to obtain survival probabilities\n",
    "specific_time_point = 365  # Adjust this as needed\n",
    "\n",
    "# Initialize a list to store the survival probabilities at the specific time point\n",
    "survival_probabilities = []\n",
    "\n",
    "# Iterate through the survival functions and extract the survival probability at the specific time point\n",
    "for i, survival_function in enumerate(survival_functions):\n",
    "    survival_probability = survival_function[i]  # Use [i] to access the i-th prediction\n",
    "    survival_probabilities.append(survival_probability)\n",
    "\n",
    "# 'survival_probabilities' now contains the survival probabilities for each data point at the specific time point\n",
    "print(survival_probabilities)\n"
   ]
  },
  {
   "cell_type": "code",
   "execution_count": null,
   "metadata": {},
   "outputs": [
    {
     "name": "stdout",
     "output_type": "stream",
     "text": [
      "C-Index: 0.41081749404424717\n"
     ]
    }
   ],
   "source": [
    "result = concordance_index_censored(y_test['Default'], -model.predict(X_test), y_test['Duration'])\n",
    "\n",
    "print(\"C-Index:\", result[0])"
   ]
  },
  {
   "cell_type": "code",
   "execution_count": 197,
   "metadata": {},
   "outputs": [
    {
     "name": "stdout",
     "output_type": "stream",
     "text": [
      "Concordance Index (C-index): 0.5000\n"
     ]
    }
   ],
   "source": [
    "prediction = model.predict(X_test)\n",
    "\n",
    "c_index = model.score(X_test, y_test)\n",
    "print(f\"Concordance Index (C-index): {c_index:.4f}\")"
   ]
  },
  {
   "cell_type": "code",
   "execution_count": null,
   "metadata": {},
   "outputs": [
    {
     "name": "stdout",
     "output_type": "stream",
     "text": [
      "[1.         1.         1.         ... 0.96434071 0.96434071 0.96434071]\n"
     ]
    }
   ],
   "source": [
    "# Calculate predicted survival probabilities for the test data\n",
    "survival_probs = model.predict_survival_function(X_test)\n",
    "\n",
    "y_prob_array = []\n",
    "\n",
    "time_points = [12 * 30]  # Specify the time point (12 months)\n",
    "\n",
    "# Extract the probability at each time point\n",
    "for t in time_points:\n",
    "    # Use indexing to get the survival probability at the specified time point\n",
    "    y_prob = [1.0 - survival_probs[0](t) for _ in range(len(X_test))]\n",
    "\n",
    "    y_prob_array.append(y_prob)\n",
    "\n",
    "# y_prob_array now contains an array of predicted probabilities for the specified time point (12 months)\n",
    " \n",
    "print(survival_prob)"
   ]
  },
  {
   "cell_type": "code",
   "execution_count": null,
   "metadata": {},
   "outputs": [
    {
     "name": "stdout",
     "output_type": "stream",
     "text": [
      "Shape of y_prob_array: (1, 36537)\n",
      "[[0.00016423 0.00016423 0.00016423 ... 0.00016423 0.00016423 0.00016423]]\n"
     ]
    }
   ],
   "source": [
    "y_prob_array = np.array(y_prob_array)  # Convert to a NumPy array\n",
    "shape = y_prob_array.shape\n",
    "\n",
    "print(\"Shape of y_prob_array:\", shape)"
   ]
  },
  {
   "cell_type": "code",
   "execution_count": null,
   "metadata": {},
   "outputs": [
    {
     "name": "stdout",
     "output_type": "stream",
     "text": [
      "Shape of array_y: (36537,)\n"
     ]
    },
    {
     "name": "stderr",
     "output_type": "stream",
     "text": [
      "C:\\Users\\Melissa\\AppData\\Local\\Temp\\ipykernel_21624\\67081832.py:1: SettingWithCopyWarning: \n",
      "A value is trying to be set on a copy of a slice from a DataFrame.\n",
      "Try using .loc[row_indexer,col_indexer] = value instead\n",
      "\n",
      "See the caveats in the documentation: https://pandas.pydata.org/pandas-docs/stable/user_guide/indexing.html#returning-a-view-versus-a-copy\n",
      "  y_test_df['Binary_Default'] = y_test_df['Default'].map(lambda x : 0.0 if x == False else 1.0)\n"
     ]
    }
   ],
   "source": [
    "y_test_df['Binary_Default'] = y_test_df['Default'].map(lambda x : 0.0 if x == False else 1.0)\n",
    "array_y = np.array(y_test_df['Binary_Default'])  # Convert to a NumPy array\n",
    "shape = array_y.shape\n",
    "\n",
    "print(\"Shape of array_y:\", shape)"
   ]
  },
  {
   "cell_type": "code",
   "execution_count": null,
   "metadata": {},
   "outputs": [
    {
     "name": "stdout",
     "output_type": "stream",
     "text": [
      "Unique values in y_prob_array: [0.00016423]\n"
     ]
    }
   ],
   "source": [
    "# Assuming you have your y_prob_array\n",
    "unique_values = np.unique(y_prob_array)\n",
    "\n",
    "print(\"Unique values in y_prob_array:\", unique_values)"
   ]
  },
  {
   "cell_type": "code",
   "execution_count": null,
   "metadata": {},
   "outputs": [
    {
     "name": "stdout",
     "output_type": "stream",
     "text": [
      "[[0.00016423 0.00016423 0.00016423 ... 0.00016423 0.00016423 0.00016423]] [0. 0. 0. ... 0. 0. 0.]\n"
     ]
    }
   ],
   "source": [
    "print(y_prob_array, array_y)"
   ]
  },
  {
   "cell_type": "code",
   "execution_count": null,
   "metadata": {},
   "outputs": [
    {
     "ename": "ValueError",
     "evalue": "Found input variables with inconsistent numbers of samples: [36537, 12505]",
     "output_type": "error",
     "traceback": [
      "\u001b[1;31m---------------------------------------------------------------------------\u001b[0m",
      "\u001b[1;31mValueError\u001b[0m                                Traceback (most recent call last)",
      "\u001b[1;32mc:\\Users\\Melissa\\Desktop\\Uni\\Y4S1\\BT4103 capstone\\Capstone\\models\\scikit-survival\\sksurv.ipynb Cell 19\u001b[0m line \u001b[0;36m7\n\u001b[0;32m      <a href='vscode-notebook-cell:/c%3A/Users/Melissa/Desktop/Uni/Y4S1/BT4103%20capstone/Capstone/models/scikit-survival/sksurv.ipynb#X44sZmlsZQ%3D%3D?line=0'>1</a>\u001b[0m \u001b[39mfrom\u001b[39;00m \u001b[39msklearn\u001b[39;00m\u001b[39m.\u001b[39;00m\u001b[39mmetrics\u001b[39;00m \u001b[39mimport\u001b[39;00m roc_auc_score\n\u001b[0;32m      <a href='vscode-notebook-cell:/c%3A/Users/Melissa/Desktop/Uni/Y4S1/BT4103%20capstone/Capstone/models/scikit-survival/sksurv.ipynb#X44sZmlsZQ%3D%3D?line=2'>3</a>\u001b[0m \u001b[39m# Assuming you have the true labels (y_true) and predicted probabilities (y_prob) for a binary classification task\u001b[39;00m\n\u001b[0;32m      <a href='vscode-notebook-cell:/c%3A/Users/Melissa/Desktop/Uni/Y4S1/BT4103%20capstone/Capstone/models/scikit-survival/sksurv.ipynb#X44sZmlsZQ%3D%3D?line=3'>4</a>\u001b[0m \u001b[39m# y_true should contain binary labels (0 or 1), and y_prob should contain predicted probabilities for class 1\u001b[39;00m\n\u001b[0;32m      <a href='vscode-notebook-cell:/c%3A/Users/Melissa/Desktop/Uni/Y4S1/BT4103%20capstone/Capstone/models/scikit-survival/sksurv.ipynb#X44sZmlsZQ%3D%3D?line=4'>5</a>\u001b[0m \n\u001b[0;32m      <a href='vscode-notebook-cell:/c%3A/Users/Melissa/Desktop/Uni/Y4S1/BT4103%20capstone/Capstone/models/scikit-survival/sksurv.ipynb#X44sZmlsZQ%3D%3D?line=5'>6</a>\u001b[0m \u001b[39m# Calculate the AUC\u001b[39;00m\n\u001b[1;32m----> <a href='vscode-notebook-cell:/c%3A/Users/Melissa/Desktop/Uni/Y4S1/BT4103%20capstone/Capstone/models/scikit-survival/sksurv.ipynb#X44sZmlsZQ%3D%3D?line=6'>7</a>\u001b[0m auc \u001b[39m=\u001b[39m roc_auc_score(array_y, survival_prob)\n\u001b[0;32m      <a href='vscode-notebook-cell:/c%3A/Users/Melissa/Desktop/Uni/Y4S1/BT4103%20capstone/Capstone/models/scikit-survival/sksurv.ipynb#X44sZmlsZQ%3D%3D?line=8'>9</a>\u001b[0m \u001b[39m# Print the AUC score\u001b[39;00m\n\u001b[0;32m     <a href='vscode-notebook-cell:/c%3A/Users/Melissa/Desktop/Uni/Y4S1/BT4103%20capstone/Capstone/models/scikit-survival/sksurv.ipynb#X44sZmlsZQ%3D%3D?line=9'>10</a>\u001b[0m \u001b[39mprint\u001b[39m(\u001b[39mf\u001b[39m\u001b[39m\"\u001b[39m\u001b[39mAUC: \u001b[39m\u001b[39m{\u001b[39;00mauc\u001b[39m:\u001b[39;00m\u001b[39m.4f\u001b[39m\u001b[39m}\u001b[39;00m\u001b[39m\"\u001b[39m)\n",
      "File \u001b[1;32mc:\\Users\\Melissa\\AppData\\Local\\Programs\\Python\\Python310\\lib\\site-packages\\sklearn\\metrics\\_ranking.py:572\u001b[0m, in \u001b[0;36mroc_auc_score\u001b[1;34m(y_true, y_score, average, sample_weight, max_fpr, multi_class, labels)\u001b[0m\n\u001b[0;32m    570\u001b[0m     labels \u001b[39m=\u001b[39m np\u001b[39m.\u001b[39munique(y_true)\n\u001b[0;32m    571\u001b[0m     y_true \u001b[39m=\u001b[39m label_binarize(y_true, classes\u001b[39m=\u001b[39mlabels)[:, \u001b[39m0\u001b[39m]\n\u001b[1;32m--> 572\u001b[0m     \u001b[39mreturn\u001b[39;00m _average_binary_score(\n\u001b[0;32m    573\u001b[0m         partial(_binary_roc_auc_score, max_fpr\u001b[39m=\u001b[39;49mmax_fpr),\n\u001b[0;32m    574\u001b[0m         y_true,\n\u001b[0;32m    575\u001b[0m         y_score,\n\u001b[0;32m    576\u001b[0m         average,\n\u001b[0;32m    577\u001b[0m         sample_weight\u001b[39m=\u001b[39;49msample_weight,\n\u001b[0;32m    578\u001b[0m     )\n\u001b[0;32m    579\u001b[0m \u001b[39melse\u001b[39;00m:  \u001b[39m# multilabel-indicator\u001b[39;00m\n\u001b[0;32m    580\u001b[0m     \u001b[39mreturn\u001b[39;00m _average_binary_score(\n\u001b[0;32m    581\u001b[0m         partial(_binary_roc_auc_score, max_fpr\u001b[39m=\u001b[39mmax_fpr),\n\u001b[0;32m    582\u001b[0m         y_true,\n\u001b[1;32m   (...)\u001b[0m\n\u001b[0;32m    585\u001b[0m         sample_weight\u001b[39m=\u001b[39msample_weight,\n\u001b[0;32m    586\u001b[0m     )\n",
      "File \u001b[1;32mc:\\Users\\Melissa\\AppData\\Local\\Programs\\Python\\Python310\\lib\\site-packages\\sklearn\\metrics\\_base.py:75\u001b[0m, in \u001b[0;36m_average_binary_score\u001b[1;34m(binary_metric, y_true, y_score, average, sample_weight)\u001b[0m\n\u001b[0;32m     72\u001b[0m     \u001b[39mraise\u001b[39;00m \u001b[39mValueError\u001b[39;00m(\u001b[39m\"\u001b[39m\u001b[39m{0}\u001b[39;00m\u001b[39m format is not supported\u001b[39m\u001b[39m\"\u001b[39m\u001b[39m.\u001b[39mformat(y_type))\n\u001b[0;32m     74\u001b[0m \u001b[39mif\u001b[39;00m y_type \u001b[39m==\u001b[39m \u001b[39m\"\u001b[39m\u001b[39mbinary\u001b[39m\u001b[39m\"\u001b[39m:\n\u001b[1;32m---> 75\u001b[0m     \u001b[39mreturn\u001b[39;00m binary_metric(y_true, y_score, sample_weight\u001b[39m=\u001b[39;49msample_weight)\n\u001b[0;32m     77\u001b[0m check_consistent_length(y_true, y_score, sample_weight)\n\u001b[0;32m     78\u001b[0m y_true \u001b[39m=\u001b[39m check_array(y_true)\n",
      "File \u001b[1;32mc:\\Users\\Melissa\\AppData\\Local\\Programs\\Python\\Python310\\lib\\site-packages\\sklearn\\metrics\\_ranking.py:344\u001b[0m, in \u001b[0;36m_binary_roc_auc_score\u001b[1;34m(y_true, y_score, sample_weight, max_fpr)\u001b[0m\n\u001b[0;32m    338\u001b[0m \u001b[39mif\u001b[39;00m \u001b[39mlen\u001b[39m(np\u001b[39m.\u001b[39munique(y_true)) \u001b[39m!=\u001b[39m \u001b[39m2\u001b[39m:\n\u001b[0;32m    339\u001b[0m     \u001b[39mraise\u001b[39;00m \u001b[39mValueError\u001b[39;00m(\n\u001b[0;32m    340\u001b[0m         \u001b[39m\"\u001b[39m\u001b[39mOnly one class present in y_true. ROC AUC score \u001b[39m\u001b[39m\"\u001b[39m\n\u001b[0;32m    341\u001b[0m         \u001b[39m\"\u001b[39m\u001b[39mis not defined in that case.\u001b[39m\u001b[39m\"\u001b[39m\n\u001b[0;32m    342\u001b[0m     )\n\u001b[1;32m--> 344\u001b[0m fpr, tpr, _ \u001b[39m=\u001b[39m roc_curve(y_true, y_score, sample_weight\u001b[39m=\u001b[39;49msample_weight)\n\u001b[0;32m    345\u001b[0m \u001b[39mif\u001b[39;00m max_fpr \u001b[39mis\u001b[39;00m \u001b[39mNone\u001b[39;00m \u001b[39mor\u001b[39;00m max_fpr \u001b[39m==\u001b[39m \u001b[39m1\u001b[39m:\n\u001b[0;32m    346\u001b[0m     \u001b[39mreturn\u001b[39;00m auc(fpr, tpr)\n",
      "File \u001b[1;32mc:\\Users\\Melissa\\AppData\\Local\\Programs\\Python\\Python310\\lib\\site-packages\\sklearn\\metrics\\_ranking.py:992\u001b[0m, in \u001b[0;36mroc_curve\u001b[1;34m(y_true, y_score, pos_label, sample_weight, drop_intermediate)\u001b[0m\n\u001b[0;32m    904\u001b[0m \u001b[39mdef\u001b[39;00m \u001b[39mroc_curve\u001b[39m(\n\u001b[0;32m    905\u001b[0m     y_true, y_score, \u001b[39m*\u001b[39m, pos_label\u001b[39m=\u001b[39m\u001b[39mNone\u001b[39;00m, sample_weight\u001b[39m=\u001b[39m\u001b[39mNone\u001b[39;00m, drop_intermediate\u001b[39m=\u001b[39m\u001b[39mTrue\u001b[39;00m\n\u001b[0;32m    906\u001b[0m ):\n\u001b[0;32m    907\u001b[0m     \u001b[39m\"\"\"Compute Receiver operating characteristic (ROC).\u001b[39;00m\n\u001b[0;32m    908\u001b[0m \n\u001b[0;32m    909\u001b[0m \u001b[39m    Note: this implementation is restricted to the binary classification task.\u001b[39;00m\n\u001b[1;32m   (...)\u001b[0m\n\u001b[0;32m    990\u001b[0m \u001b[39m    array([1.8 , 0.8 , 0.4 , 0.35, 0.1 ])\u001b[39;00m\n\u001b[0;32m    991\u001b[0m \u001b[39m    \"\"\"\u001b[39;00m\n\u001b[1;32m--> 992\u001b[0m     fps, tps, thresholds \u001b[39m=\u001b[39m _binary_clf_curve(\n\u001b[0;32m    993\u001b[0m         y_true, y_score, pos_label\u001b[39m=\u001b[39;49mpos_label, sample_weight\u001b[39m=\u001b[39;49msample_weight\n\u001b[0;32m    994\u001b[0m     )\n\u001b[0;32m    996\u001b[0m     \u001b[39m# Attempt to drop thresholds corresponding to points in between and\u001b[39;00m\n\u001b[0;32m    997\u001b[0m     \u001b[39m# collinear with other points. These are always suboptimal and do not\u001b[39;00m\n\u001b[0;32m    998\u001b[0m     \u001b[39m# appear on a plotted ROC curve (and thus do not affect the AUC).\u001b[39;00m\n\u001b[1;32m   (...)\u001b[0m\n\u001b[0;32m   1003\u001b[0m     \u001b[39m# but does not drop more complicated cases like fps = [1, 3, 7],\u001b[39;00m\n\u001b[0;32m   1004\u001b[0m     \u001b[39m# tps = [1, 2, 4]; there is no harm in keeping too many thresholds.\u001b[39;00m\n\u001b[0;32m   1005\u001b[0m     \u001b[39mif\u001b[39;00m drop_intermediate \u001b[39mand\u001b[39;00m \u001b[39mlen\u001b[39m(fps) \u001b[39m>\u001b[39m \u001b[39m2\u001b[39m:\n",
      "File \u001b[1;32mc:\\Users\\Melissa\\AppData\\Local\\Programs\\Python\\Python310\\lib\\site-packages\\sklearn\\metrics\\_ranking.py:751\u001b[0m, in \u001b[0;36m_binary_clf_curve\u001b[1;34m(y_true, y_score, pos_label, sample_weight)\u001b[0m\n\u001b[0;32m    748\u001b[0m \u001b[39mif\u001b[39;00m \u001b[39mnot\u001b[39;00m (y_type \u001b[39m==\u001b[39m \u001b[39m\"\u001b[39m\u001b[39mbinary\u001b[39m\u001b[39m\"\u001b[39m \u001b[39mor\u001b[39;00m (y_type \u001b[39m==\u001b[39m \u001b[39m\"\u001b[39m\u001b[39mmulticlass\u001b[39m\u001b[39m\"\u001b[39m \u001b[39mand\u001b[39;00m pos_label \u001b[39mis\u001b[39;00m \u001b[39mnot\u001b[39;00m \u001b[39mNone\u001b[39;00m)):\n\u001b[0;32m    749\u001b[0m     \u001b[39mraise\u001b[39;00m \u001b[39mValueError\u001b[39;00m(\u001b[39m\"\u001b[39m\u001b[39m{0}\u001b[39;00m\u001b[39m format is not supported\u001b[39m\u001b[39m\"\u001b[39m\u001b[39m.\u001b[39mformat(y_type))\n\u001b[1;32m--> 751\u001b[0m check_consistent_length(y_true, y_score, sample_weight)\n\u001b[0;32m    752\u001b[0m y_true \u001b[39m=\u001b[39m column_or_1d(y_true)\n\u001b[0;32m    753\u001b[0m y_score \u001b[39m=\u001b[39m column_or_1d(y_score)\n",
      "File \u001b[1;32mc:\\Users\\Melissa\\AppData\\Local\\Programs\\Python\\Python310\\lib\\site-packages\\sklearn\\utils\\validation.py:397\u001b[0m, in \u001b[0;36mcheck_consistent_length\u001b[1;34m(*arrays)\u001b[0m\n\u001b[0;32m    395\u001b[0m uniques \u001b[39m=\u001b[39m np\u001b[39m.\u001b[39munique(lengths)\n\u001b[0;32m    396\u001b[0m \u001b[39mif\u001b[39;00m \u001b[39mlen\u001b[39m(uniques) \u001b[39m>\u001b[39m \u001b[39m1\u001b[39m:\n\u001b[1;32m--> 397\u001b[0m     \u001b[39mraise\u001b[39;00m \u001b[39mValueError\u001b[39;00m(\n\u001b[0;32m    398\u001b[0m         \u001b[39m\"\u001b[39m\u001b[39mFound input variables with inconsistent numbers of samples: \u001b[39m\u001b[39m%r\u001b[39;00m\u001b[39m\"\u001b[39m\n\u001b[0;32m    399\u001b[0m         \u001b[39m%\u001b[39m [\u001b[39mint\u001b[39m(l) \u001b[39mfor\u001b[39;00m l \u001b[39min\u001b[39;00m lengths]\n\u001b[0;32m    400\u001b[0m     )\n",
      "\u001b[1;31mValueError\u001b[0m: Found input variables with inconsistent numbers of samples: [36537, 12505]"
     ]
    }
   ],
   "source": [
    "from sklearn.metrics import roc_auc_score\n",
    "\n",
    "# Assuming you have the true labels (y_true) and predicted probabilities (y_prob) for a binary classification task\n",
    "# y_true should contain binary labels (0 or 1), and y_prob should contain predicted probabilities for class 1\n",
    "\n",
    "# Calculate the AUC\n",
    "auc = roc_auc_score(array_y, survival_prob)\n",
    "\n",
    "# Print the AUC score\n",
    "print(f\"AUC: {auc:.4f}\")\n"
   ]
  },
  {
   "cell_type": "code",
   "execution_count": null,
   "metadata": {},
   "outputs": [
    {
     "name": "stdout",
     "output_type": "stream",
     "text": [
      "[(0,   914.) (0,  1848.) (0,  3785.) ... (0, 12415.) (0,  9753.)\n",
      " (0,  3844.)]\n"
     ]
    }
   ],
   "source": [
    "y_train_binary = np.array([(int(value), duration) for value, duration in y_train],\n",
    "                        dtype=[('Default', 'i1'), ('Duration', '<f8')])\n",
    "\n",
    "print(y_train_binary)"
   ]
  },
  {
   "cell_type": "code",
   "execution_count": null,
   "metadata": {},
   "outputs": [
    {
     "name": "stdout",
     "output_type": "stream",
     "text": [
      "Number of False under 'Default' column: 1133711\n",
      "Number of True under 'Default' column: 9166\n"
     ]
    }
   ],
   "source": [
    "false_count = (y_train_df['Default'] == False).sum()\n",
    "print(\"Number of False under 'Default' column:\", false_count)\n",
    "\n",
    "true_count = (y_train_df['Default'] == True).sum()\n",
    "print(\"Number of True under 'Default' column:\", true_count)"
   ]
  },
  {
   "cell_type": "code",
   "execution_count": null,
   "metadata": {},
   "outputs": [
    {
     "name": "stdout",
     "output_type": "stream",
     "text": [
      "Number of False under 'Default' column: 36381\n",
      "Number of True under 'Default' column: 156\n"
     ]
    }
   ],
   "source": [
    "false_count = (y_test_df['Default'] == False).sum()\n",
    "print(\"Number of False under 'Default' column:\", false_count)\n",
    "\n",
    "true_count = (y_test_df['Default'] == True).sum()\n",
    "print(\"Number of True under 'Default' column:\", true_count)"
   ]
  }
 ],
 "metadata": {
  "kernelspec": {
   "display_name": "base",
   "language": "python",
   "name": "python3"
  },
  "language_info": {
   "codemirror_mode": {
    "name": "ipython",
    "version": 3
   },
   "file_extension": ".py",
   "mimetype": "text/x-python",
   "name": "python",
   "nbconvert_exporter": "python",
   "pygments_lexer": "ipython3",
   "version": "3.10.7"
  },
  "orig_nbformat": 4
 },
 "nbformat": 4,
 "nbformat_minor": 2
}
