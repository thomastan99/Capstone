{
 "cells": [
  {
   "cell_type": "code",
   "execution_count": 1,
   "id": "f3613817249df26d",
   "metadata": {
    "ExecuteTime": {
     "end_time": "2023-10-08T17:28:52.011999Z",
     "start_time": "2023-10-08T17:28:51.850716Z"
    },
    "collapsed": false
   },
   "outputs": [
    {
     "data": {
      "text/html": [
       "<div>\n",
       "<style scoped>\n",
       "    .dataframe tbody tr th:only-of-type {\n",
       "        vertical-align: middle;\n",
       "    }\n",
       "\n",
       "    .dataframe tbody tr th {\n",
       "        vertical-align: top;\n",
       "    }\n",
       "\n",
       "    .dataframe thead th {\n",
       "        text-align: right;\n",
       "    }\n",
       "</style>\n",
       "<table border=\"1\" class=\"dataframe\">\n",
       "  <thead>\n",
       "    <tr style=\"text-align: right;\">\n",
       "      <th></th>\n",
       "      <th>CompNo</th>\n",
       "      <th>year</th>\n",
       "      <th>month</th>\n",
       "      <th>StkIndx</th>\n",
       "      <th>STInt</th>\n",
       "      <th>dtdlevel</th>\n",
       "      <th>dtdtrend</th>\n",
       "      <th>liqnonfinlevel</th>\n",
       "      <th>liqnonfintrend</th>\n",
       "      <th>ni2talevel</th>\n",
       "      <th>...</th>\n",
       "      <th>gross_margin_ratio</th>\n",
       "      <th>operating_profit_margin</th>\n",
       "      <th>ebitda_margin</th>\n",
       "      <th>debt_service_coverage_ratio</th>\n",
       "      <th>interest_coverage_ratio</th>\n",
       "      <th>Rolling_Sortino</th>\n",
       "      <th>macd</th>\n",
       "      <th>macd_h</th>\n",
       "      <th>macd_s</th>\n",
       "      <th>rsi</th>\n",
       "    </tr>\n",
       "  </thead>\n",
       "  <tbody>\n",
       "    <tr>\n",
       "      <th>26661</th>\n",
       "      <td>34285</td>\n",
       "      <td>2000.0</td>\n",
       "      <td>12</td>\n",
       "      <td>-0.097569</td>\n",
       "      <td>0.011896</td>\n",
       "      <td>-0.146043</td>\n",
       "      <td>0.019790</td>\n",
       "      <td>-0.143775</td>\n",
       "      <td>0.135087</td>\n",
       "      <td>0.002171</td>\n",
       "      <td>...</td>\n",
       "      <td>16.947977</td>\n",
       "      <td>-83.052023</td>\n",
       "      <td>-56.774871</td>\n",
       "      <td>-0.495571</td>\n",
       "      <td>4.743773</td>\n",
       "      <td>-0.105924</td>\n",
       "      <td>-0.124699</td>\n",
       "      <td>-0.070089</td>\n",
       "      <td>-0.054610</td>\n",
       "      <td>39.313984</td>\n",
       "    </tr>\n",
       "    <tr>\n",
       "      <th>28323</th>\n",
       "      <td>27012</td>\n",
       "      <td>2000.0</td>\n",
       "      <td>12</td>\n",
       "      <td>-0.097569</td>\n",
       "      <td>0.011896</td>\n",
       "      <td>4.669174</td>\n",
       "      <td>1.296638</td>\n",
       "      <td>0.049928</td>\n",
       "      <td>-0.061520</td>\n",
       "      <td>0.006169</td>\n",
       "      <td>...</td>\n",
       "      <td>25.322690</td>\n",
       "      <td>-58.501388</td>\n",
       "      <td>-55.157066</td>\n",
       "      <td>-0.460564</td>\n",
       "      <td>5.182841</td>\n",
       "      <td>0.421720</td>\n",
       "      <td>0.746325</td>\n",
       "      <td>0.434003</td>\n",
       "      <td>0.312323</td>\n",
       "      <td>73.233696</td>\n",
       "    </tr>\n",
       "    <tr>\n",
       "      <th>28324</th>\n",
       "      <td>41558</td>\n",
       "      <td>2000.0</td>\n",
       "      <td>12</td>\n",
       "      <td>-0.097569</td>\n",
       "      <td>0.011896</td>\n",
       "      <td>2.619373</td>\n",
       "      <td>0.604174</td>\n",
       "      <td>0.387817</td>\n",
       "      <td>0.336426</td>\n",
       "      <td>0.008513</td>\n",
       "      <td>...</td>\n",
       "      <td>86.464646</td>\n",
       "      <td>-0.570644</td>\n",
       "      <td>3.606774</td>\n",
       "      <td>-0.015032</td>\n",
       "      <td>1.138614</td>\n",
       "      <td>-0.676048</td>\n",
       "      <td>-0.917783</td>\n",
       "      <td>-0.331746</td>\n",
       "      <td>-0.586037</td>\n",
       "      <td>14.925373</td>\n",
       "    </tr>\n",
       "    <tr>\n",
       "      <th>28325</th>\n",
       "      <td>28960</td>\n",
       "      <td>2000.0</td>\n",
       "      <td>12</td>\n",
       "      <td>-0.097569</td>\n",
       "      <td>0.011896</td>\n",
       "      <td>0.169095</td>\n",
       "      <td>-0.026455</td>\n",
       "      <td>0.000000</td>\n",
       "      <td>0.000000</td>\n",
       "      <td>0.000645</td>\n",
       "      <td>...</td>\n",
       "      <td>51.539837</td>\n",
       "      <td>-27.176966</td>\n",
       "      <td>-14.519993</td>\n",
       "      <td>-0.032901</td>\n",
       "      <td>3.242347</td>\n",
       "      <td>0.022830</td>\n",
       "      <td>-0.025289</td>\n",
       "      <td>-0.036679</td>\n",
       "      <td>0.011390</td>\n",
       "      <td>50.000000</td>\n",
       "    </tr>\n",
       "    <tr>\n",
       "      <th>28326</th>\n",
       "      <td>28960</td>\n",
       "      <td>2000.0</td>\n",
       "      <td>12</td>\n",
       "      <td>-0.097569</td>\n",
       "      <td>0.011896</td>\n",
       "      <td>0.169095</td>\n",
       "      <td>-0.026455</td>\n",
       "      <td>0.000000</td>\n",
       "      <td>0.000000</td>\n",
       "      <td>0.000645</td>\n",
       "      <td>...</td>\n",
       "      <td>51.539837</td>\n",
       "      <td>-27.176966</td>\n",
       "      <td>-14.519993</td>\n",
       "      <td>-0.032901</td>\n",
       "      <td>3.242347</td>\n",
       "      <td>0.022830</td>\n",
       "      <td>-0.025289</td>\n",
       "      <td>-0.036679</td>\n",
       "      <td>0.011390</td>\n",
       "      <td>50.000000</td>\n",
       "    </tr>\n",
       "  </tbody>\n",
       "</table>\n",
       "<p>5 rows × 57 columns</p>\n",
       "</div>"
      ],
      "text/plain": [
       "       CompNo    year  month   StkIndx     STInt  dtdlevel  dtdtrend  \\\n",
       "26661   34285  2000.0     12 -0.097569  0.011896 -0.146043  0.019790   \n",
       "28323   27012  2000.0     12 -0.097569  0.011896  4.669174  1.296638   \n",
       "28324   41558  2000.0     12 -0.097569  0.011896  2.619373  0.604174   \n",
       "28325   28960  2000.0     12 -0.097569  0.011896  0.169095 -0.026455   \n",
       "28326   28960  2000.0     12 -0.097569  0.011896  0.169095 -0.026455   \n",
       "\n",
       "       liqnonfinlevel  liqnonfintrend  ni2talevel  ...  gross_margin_ratio  \\\n",
       "26661       -0.143775        0.135087    0.002171  ...           16.947977   \n",
       "28323        0.049928       -0.061520    0.006169  ...           25.322690   \n",
       "28324        0.387817        0.336426    0.008513  ...           86.464646   \n",
       "28325        0.000000        0.000000    0.000645  ...           51.539837   \n",
       "28326        0.000000        0.000000    0.000645  ...           51.539837   \n",
       "\n",
       "       operating_profit_margin  ebitda_margin  debt_service_coverage_ratio  \\\n",
       "26661               -83.052023     -56.774871                    -0.495571   \n",
       "28323               -58.501388     -55.157066                    -0.460564   \n",
       "28324                -0.570644       3.606774                    -0.015032   \n",
       "28325               -27.176966     -14.519993                    -0.032901   \n",
       "28326               -27.176966     -14.519993                    -0.032901   \n",
       "\n",
       "       interest_coverage_ratio  Rolling_Sortino      macd    macd_h    macd_s  \\\n",
       "26661                 4.743773        -0.105924 -0.124699 -0.070089 -0.054610   \n",
       "28323                 5.182841         0.421720  0.746325  0.434003  0.312323   \n",
       "28324                 1.138614        -0.676048 -0.917783 -0.331746 -0.586037   \n",
       "28325                 3.242347         0.022830 -0.025289 -0.036679  0.011390   \n",
       "28326                 3.242347         0.022830 -0.025289 -0.036679  0.011390   \n",
       "\n",
       "             rsi  \n",
       "26661  39.313984  \n",
       "28323  73.233696  \n",
       "28324  14.925373  \n",
       "28325  50.000000  \n",
       "28326  50.000000  \n",
       "\n",
       "[5 rows x 57 columns]"
      ]
     },
     "execution_count": 1,
     "metadata": {},
     "output_type": "execute_result"
    }
   ],
   "source": [
    "import pandas as pd\n",
    "df = pd.read_pickle(\"../cri_compustat_v8_yfinance.pkl\")\n",
    "df.head()"
   ]
  },
  {
   "cell_type": "code",
   "execution_count": 2,
   "metadata": {},
   "outputs": [
    {
     "name": "stdout",
     "output_type": "stream",
     "text": [
      "1.4.4\n"
     ]
    }
   ],
   "source": [
    "print(pd.__version__)"
   ]
  },
  {
   "cell_type": "code",
   "execution_count": 2,
   "metadata": {},
   "outputs": [
    {
     "data": {
      "text/plain": [
       "Index(['CompNo', 'year', 'month', 'StkIndx', 'STInt', 'dtdlevel', 'dtdtrend',\n",
       "       'liqnonfinlevel', 'liqnonfintrend', 'ni2talevel', 'ni2tatrend',\n",
       "       'sizelevel', 'sizetrend', 'm2b', 'sigma', 'liqfinlevel', 'lqfintrend',\n",
       "       'DTDmedianFin', 'DTDmedianNonFin', 'dummy297fin', 'Default', 'day',\n",
       "       'date', 'StartDate', 'EventDate', 'Duration', 'gvkey', 'tic',\n",
       "       'current_ratio', 'quick_ratio', 'cash_ratio', 'net_working_capital',\n",
       "       'debt_ratio', 'debt_to_equity_ratio', 'equity_ratio',\n",
       "       'cashflow_to_debt_ratio', 'net_profit_margin', 'return_on_assets',\n",
       "       'asset_turnover', 'inventory_turnover', 'days_in_inventory',\n",
       "       'receivables_turnover', 'day_sales_outstanding',\n",
       "       'working_capital_turnover', 'price_to_earnings',\n",
       "       'dividend_payout_ratio', 'retention_ratio', 'gross_margin_ratio',\n",
       "       'operating_profit_margin', 'ebitda_margin',\n",
       "       'debt_service_coverage_ratio', 'interest_coverage_ratio',\n",
       "       'Rolling_Sortino', 'macd', 'macd_h', 'macd_s', 'rsi'],\n",
       "      dtype='object')"
      ]
     },
     "execution_count": 2,
     "metadata": {},
     "output_type": "execute_result"
    }
   ],
   "source": [
    "df.columns"
   ]
  },
  {
   "cell_type": "code",
   "execution_count": 3,
   "id": "71bcb43fa9002a07",
   "metadata": {
    "ExecuteTime": {
     "end_time": "2023-10-08T17:28:52.521522Z",
     "start_time": "2023-10-08T17:28:52.486498Z"
    },
    "collapsed": false
   },
   "outputs": [
    {
     "data": {
      "text/html": [
       "<div>\n",
       "<style scoped>\n",
       "    .dataframe tbody tr th:only-of-type {\n",
       "        vertical-align: middle;\n",
       "    }\n",
       "\n",
       "    .dataframe tbody tr th {\n",
       "        vertical-align: top;\n",
       "    }\n",
       "\n",
       "    .dataframe thead th {\n",
       "        text-align: right;\n",
       "    }\n",
       "</style>\n",
       "<table border=\"1\" class=\"dataframe\">\n",
       "  <thead>\n",
       "    <tr style=\"text-align: right;\">\n",
       "      <th></th>\n",
       "      <th>StkIndx</th>\n",
       "      <th>STInt</th>\n",
       "      <th>dtdlevel</th>\n",
       "      <th>dtdtrend</th>\n",
       "      <th>liqnonfinlevel</th>\n",
       "      <th>liqnonfintrend</th>\n",
       "      <th>ni2talevel</th>\n",
       "      <th>ni2tatrend</th>\n",
       "      <th>sizelevel</th>\n",
       "      <th>sizetrend</th>\n",
       "      <th>...</th>\n",
       "      <th>gross_margin_ratio</th>\n",
       "      <th>operating_profit_margin</th>\n",
       "      <th>ebitda_margin</th>\n",
       "      <th>debt_service_coverage_ratio</th>\n",
       "      <th>interest_coverage_ratio</th>\n",
       "      <th>Rolling_Sortino</th>\n",
       "      <th>macd</th>\n",
       "      <th>macd_h</th>\n",
       "      <th>macd_s</th>\n",
       "      <th>rsi</th>\n",
       "    </tr>\n",
       "  </thead>\n",
       "  <tbody>\n",
       "    <tr>\n",
       "      <th>26661</th>\n",
       "      <td>-0.097569</td>\n",
       "      <td>0.011896</td>\n",
       "      <td>-0.146043</td>\n",
       "      <td>0.019790</td>\n",
       "      <td>-0.143775</td>\n",
       "      <td>0.135087</td>\n",
       "      <td>0.002171</td>\n",
       "      <td>0.008310</td>\n",
       "      <td>-2.161520</td>\n",
       "      <td>0.244958</td>\n",
       "      <td>...</td>\n",
       "      <td>16.947977</td>\n",
       "      <td>-83.052023</td>\n",
       "      <td>-56.774871</td>\n",
       "      <td>-0.495571</td>\n",
       "      <td>4.743773</td>\n",
       "      <td>-0.105924</td>\n",
       "      <td>-0.124699</td>\n",
       "      <td>-0.070089</td>\n",
       "      <td>-0.054610</td>\n",
       "      <td>39.313984</td>\n",
       "    </tr>\n",
       "    <tr>\n",
       "      <th>28323</th>\n",
       "      <td>-0.097569</td>\n",
       "      <td>0.011896</td>\n",
       "      <td>4.669174</td>\n",
       "      <td>1.296638</td>\n",
       "      <td>0.049928</td>\n",
       "      <td>-0.061520</td>\n",
       "      <td>0.006169</td>\n",
       "      <td>-0.000124</td>\n",
       "      <td>1.570984</td>\n",
       "      <td>0.300040</td>\n",
       "      <td>...</td>\n",
       "      <td>25.322690</td>\n",
       "      <td>-58.501388</td>\n",
       "      <td>-55.157066</td>\n",
       "      <td>-0.460564</td>\n",
       "      <td>5.182841</td>\n",
       "      <td>0.421720</td>\n",
       "      <td>0.746325</td>\n",
       "      <td>0.434003</td>\n",
       "      <td>0.312323</td>\n",
       "      <td>73.233696</td>\n",
       "    </tr>\n",
       "    <tr>\n",
       "      <th>28324</th>\n",
       "      <td>-0.097569</td>\n",
       "      <td>0.011896</td>\n",
       "      <td>2.619373</td>\n",
       "      <td>0.604174</td>\n",
       "      <td>0.387817</td>\n",
       "      <td>0.336426</td>\n",
       "      <td>0.008513</td>\n",
       "      <td>-0.000050</td>\n",
       "      <td>1.371984</td>\n",
       "      <td>-0.219227</td>\n",
       "      <td>...</td>\n",
       "      <td>86.464646</td>\n",
       "      <td>-0.570644</td>\n",
       "      <td>3.606774</td>\n",
       "      <td>-0.015032</td>\n",
       "      <td>1.138614</td>\n",
       "      <td>-0.676048</td>\n",
       "      <td>-0.917783</td>\n",
       "      <td>-0.331746</td>\n",
       "      <td>-0.586037</td>\n",
       "      <td>14.925373</td>\n",
       "    </tr>\n",
       "    <tr>\n",
       "      <th>28325</th>\n",
       "      <td>-0.097569</td>\n",
       "      <td>0.011896</td>\n",
       "      <td>0.169095</td>\n",
       "      <td>-0.026455</td>\n",
       "      <td>0.000000</td>\n",
       "      <td>0.000000</td>\n",
       "      <td>0.000645</td>\n",
       "      <td>0.000020</td>\n",
       "      <td>-1.820189</td>\n",
       "      <td>-0.000369</td>\n",
       "      <td>...</td>\n",
       "      <td>51.539837</td>\n",
       "      <td>-27.176966</td>\n",
       "      <td>-14.519993</td>\n",
       "      <td>-0.032901</td>\n",
       "      <td>3.242347</td>\n",
       "      <td>0.022830</td>\n",
       "      <td>-0.025289</td>\n",
       "      <td>-0.036679</td>\n",
       "      <td>0.011390</td>\n",
       "      <td>50.000000</td>\n",
       "    </tr>\n",
       "    <tr>\n",
       "      <th>28326</th>\n",
       "      <td>-0.097569</td>\n",
       "      <td>0.011896</td>\n",
       "      <td>0.169095</td>\n",
       "      <td>-0.026455</td>\n",
       "      <td>0.000000</td>\n",
       "      <td>0.000000</td>\n",
       "      <td>0.000645</td>\n",
       "      <td>0.000020</td>\n",
       "      <td>-1.820189</td>\n",
       "      <td>-0.000369</td>\n",
       "      <td>...</td>\n",
       "      <td>51.539837</td>\n",
       "      <td>-27.176966</td>\n",
       "      <td>-14.519993</td>\n",
       "      <td>-0.032901</td>\n",
       "      <td>3.242347</td>\n",
       "      <td>0.022830</td>\n",
       "      <td>-0.025289</td>\n",
       "      <td>-0.036679</td>\n",
       "      <td>0.011390</td>\n",
       "      <td>50.000000</td>\n",
       "    </tr>\n",
       "  </tbody>\n",
       "</table>\n",
       "<p>5 rows × 49 columns</p>\n",
       "</div>"
      ],
      "text/plain": [
       "        StkIndx     STInt  dtdlevel  dtdtrend  liqnonfinlevel  liqnonfintrend  \\\n",
       "26661 -0.097569  0.011896 -0.146043  0.019790       -0.143775        0.135087   \n",
       "28323 -0.097569  0.011896  4.669174  1.296638        0.049928       -0.061520   \n",
       "28324 -0.097569  0.011896  2.619373  0.604174        0.387817        0.336426   \n",
       "28325 -0.097569  0.011896  0.169095 -0.026455        0.000000        0.000000   \n",
       "28326 -0.097569  0.011896  0.169095 -0.026455        0.000000        0.000000   \n",
       "\n",
       "       ni2talevel  ni2tatrend  sizelevel  sizetrend  ...  gross_margin_ratio  \\\n",
       "26661    0.002171    0.008310  -2.161520   0.244958  ...           16.947977   \n",
       "28323    0.006169   -0.000124   1.570984   0.300040  ...           25.322690   \n",
       "28324    0.008513   -0.000050   1.371984  -0.219227  ...           86.464646   \n",
       "28325    0.000645    0.000020  -1.820189  -0.000369  ...           51.539837   \n",
       "28326    0.000645    0.000020  -1.820189  -0.000369  ...           51.539837   \n",
       "\n",
       "       operating_profit_margin  ebitda_margin  debt_service_coverage_ratio  \\\n",
       "26661               -83.052023     -56.774871                    -0.495571   \n",
       "28323               -58.501388     -55.157066                    -0.460564   \n",
       "28324                -0.570644       3.606774                    -0.015032   \n",
       "28325               -27.176966     -14.519993                    -0.032901   \n",
       "28326               -27.176966     -14.519993                    -0.032901   \n",
       "\n",
       "       interest_coverage_ratio  Rolling_Sortino      macd    macd_h    macd_s  \\\n",
       "26661                 4.743773        -0.105924 -0.124699 -0.070089 -0.054610   \n",
       "28323                 5.182841         0.421720  0.746325  0.434003  0.312323   \n",
       "28324                 1.138614        -0.676048 -0.917783 -0.331746 -0.586037   \n",
       "28325                 3.242347         0.022830 -0.025289 -0.036679  0.011390   \n",
       "28326                 3.242347         0.022830 -0.025289 -0.036679  0.011390   \n",
       "\n",
       "             rsi  \n",
       "26661  39.313984  \n",
       "28323  73.233696  \n",
       "28324  14.925373  \n",
       "28325  50.000000  \n",
       "28326  50.000000  \n",
       "\n",
       "[5 rows x 49 columns]"
      ]
     },
     "execution_count": 3,
     "metadata": {},
     "output_type": "execute_result"
    }
   ],
   "source": [
    "# Unnecessary cols\n",
    "labels_to_drop = [\n",
    "    'CompNo',\n",
    "    'year',\n",
    "    'month',\n",
    "    'gvkey',\n",
    "    'tic',\n",
    "    'day',\n",
    "    'date',\n",
    "    'dummy297fin'\n",
    "]\n",
    "df = df.drop(labels_to_drop, axis=1)\n",
    "df.head()"
   ]
  },
  {
   "cell_type": "code",
   "execution_count": 4,
   "id": "79433721",
   "metadata": {},
   "outputs": [
    {
     "data": {
      "text/plain": [
       "Index(['CompNo', 'year', 'month', 'StkIndx', 'STInt', 'dtdlevel', 'dtdtrend',\n",
       "       'liqnonfinlevel', 'liqnonfintrend', 'ni2talevel', 'ni2tatrend',\n",
       "       'sizelevel', 'sizetrend', 'm2b', 'sigma', 'liqfinlevel', 'lqfintrend',\n",
       "       'DTDmedianFin', 'DTDmedianNonFin', 'dummy297fin', 'Default', 'day',\n",
       "       'date', 'StartDate', 'EventDate', 'Duration', 'gvkey', 'curr_ratio',\n",
       "       'quick_ratio', 'cash_ratio', 'net_working_capital', 'debt_ratio',\n",
       "       'debt_equity_ratio', 'equity_ratio', 'financial_leverage_ratio',\n",
       "       'net_profit_margin', 'roa', 'asset_turnover', 'inventory_turnover',\n",
       "       'inventory_days', 'receivables_turnover', 'working_capital_turnover',\n",
       "       'pe_ratio', 'retention_ratio'],\n",
       "      dtype='object')"
      ]
     },
     "execution_count": 4,
     "metadata": {},
     "output_type": "execute_result"
    }
   ],
   "source": [
    "df.columns"
   ]
  },
  {
   "cell_type": "code",
   "execution_count": 4,
   "id": "81df254d2579d497",
   "metadata": {
    "ExecuteTime": {
     "end_time": "2023-10-08T17:28:53.504858Z",
     "start_time": "2023-10-08T17:28:53.174008Z"
    },
    "collapsed": false
   },
   "outputs": [
    {
     "data": {
      "text/plain": [
       "0    578473\n",
       "1      1342\n",
       "Name: Default, dtype: int64"
      ]
     },
     "execution_count": 4,
     "metadata": {},
     "output_type": "execute_result"
    }
   ],
   "source": [
    "# Format Event Type col\n",
    "#df = df[df['EventType'] != 2]\n",
    "df['Default'] = df['Default'].apply(lambda x: '1' if x == 1 else '0')\n",
    "df['Default'].value_counts()"
   ]
  },
  {
   "cell_type": "code",
   "execution_count": 5,
   "id": "317b71c192384fe1",
   "metadata": {
    "ExecuteTime": {
     "end_time": "2023-10-08T17:28:54.543437Z",
     "start_time": "2023-10-08T17:28:53.642412Z"
    },
    "collapsed": false
   },
   "outputs": [],
   "source": [
    "# Format Duration col\n",
    "df['Duration'] = df['Duration'].astype(str)\n",
    "df['Duration'] = df['Duration'].str.replace(r'\\s', '', regex=True)\n",
    "df['Duration'] = df['Duration'].str.split('days').str[0]\n",
    "df['Duration'] = df['Duration'].astype('float32')"
   ]
  },
  {
   "cell_type": "code",
   "execution_count": 6,
   "id": "4801a6bae1f46da5",
   "metadata": {
    "ExecuteTime": {
     "end_time": "2023-10-08T17:29:22.103999Z",
     "start_time": "2023-10-08T17:29:22.092346Z"
    },
    "collapsed": false
   },
   "outputs": [],
   "source": [
    "from pycox.models import DeepHitSingle\n",
    "from pycox.evaluation import EvalSurv\n",
    "import numpy as np\n",
    "import torchtuples as tt"
   ]
  },
  {
   "cell_type": "code",
   "execution_count": 7,
   "id": "c59b22b3ae4bdae8",
   "metadata": {
    "ExecuteTime": {
     "end_time": "2023-10-08T17:29:22.823915Z",
     "start_time": "2023-10-08T17:29:22.446920Z"
    },
    "collapsed": false
   },
   "outputs": [],
   "source": [
    "# Split into train,test, validation\n",
    "df_train = df\n",
    "df_test = df_train.sample(frac=0.2)\n",
    "df_train = df_train.drop(df_test.index)\n",
    "df_val = df_train.sample(frac=0.2)\n",
    "df_train = df_train.drop(df_val.index)"
   ]
  },
  {
   "cell_type": "code",
   "execution_count": 8,
   "id": "7d83eb0d0b6c21b3",
   "metadata": {
    "ExecuteTime": {
     "end_time": "2023-10-08T17:30:05.435952Z",
     "start_time": "2023-10-08T17:30:05.428221Z"
    },
    "collapsed": false
   },
   "outputs": [],
   "source": [
    "from sklearn.preprocessing import StandardScaler\n",
    "from sklearn_pandas import DataFrameMapper \n",
    "og_cols = df_train.columns.tolist()\n",
    "cols_standardize = [i for i in og_cols if i not in ['Duration', 'Default']]\n",
    "cols_leave =[]\n",
    "\n",
    "standardize = [([col], StandardScaler()) for col in cols_standardize]\n",
    "leave = [(col, None) for col in cols_leave]\n",
    "\n",
    "x_mapper = DataFrameMapper(standardize + leave)"
   ]
  },
  {
   "cell_type": "code",
   "execution_count": 9,
   "id": "97c388857cb5535f",
   "metadata": {
    "ExecuteTime": {
     "end_time": "2023-10-08T17:30:06.333443Z",
     "start_time": "2023-10-08T17:30:05.795429Z"
    },
    "collapsed": false
   },
   "outputs": [],
   "source": [
    "x_train = x_mapper.fit_transform(df_train).astype('float32')\n",
    "x_val = x_mapper.transform(df_val).astype('float32')\n",
    "x_test = x_mapper.transform(df_test).astype('float32')"
   ]
  },
  {
   "cell_type": "code",
   "execution_count": 10,
   "id": "b99853f728daf888",
   "metadata": {
    "ExecuteTime": {
     "end_time": "2023-10-08T17:30:06.439497Z",
     "start_time": "2023-10-08T17:30:06.335515Z"
    },
    "collapsed": false
   },
   "outputs": [],
   "source": [
    "# Discretize time column\n",
    "num_durations = 10\n",
    "\n",
    "labtrans = DeepHitSingle.label_transform(num_durations)\n",
    "\n",
    "get_target = lambda df: (df['Duration'].values, df['Default'].values)\n",
    "y_train = labtrans.fit_transform(*get_target(df_train))\n",
    "y_val = labtrans.transform(*get_target(df_val))\n",
    "\n",
    "train = (x_train, y_train)\n",
    "val = (x_val, y_val)\n",
    "\n",
    "# We don't need to transform the test labels\n",
    "durations_test, events_test = get_target(df_test)"
   ]
  },
  {
   "cell_type": "code",
   "execution_count": 11,
   "id": "6a3951d998736aa7",
   "metadata": {
    "ExecuteTime": {
     "end_time": "2023-10-08T17:32:58.297367Z",
     "start_time": "2023-10-08T17:32:58.292058Z"
    },
    "collapsed": false
   },
   "outputs": [],
   "source": [
    "in_features = x_train.shape[1]\n",
    "num_nodes = [32, 32]\n",
    "out_features = labtrans.out_features\n",
    "batch_norm = True\n",
    "dropout = 0.1\n",
    "\n",
    "net = tt.practical.MLPVanilla(in_features, num_nodes, out_features, batch_norm, dropout)\n",
    "model = DeepHitSingle(net, tt.optim.Adam, alpha=0.2, sigma=0.1, duration_index=labtrans.cuts)"
   ]
  },
  {
   "cell_type": "code",
   "execution_count": 12,
   "id": "52a2c6290d621102",
   "metadata": {
    "ExecuteTime": {
     "end_time": "2023-10-08T17:33:08.775816Z",
     "start_time": "2023-10-08T17:33:07.664793Z"
    },
    "collapsed": false
   },
   "outputs": [
    {
     "data": {
      "image/png": "[encoded data removed]",
      "text/plain": [
       "<Figure size 640x480 with 1 Axes>"
      ]
     },
     "metadata": {},
     "output_type": "display_data"
    }
   ],
   "source": [
    "batch_size = 256\n",
    "lr_finder = model.lr_finder(x_train, y_train, batch_size, tolerance=3)\n",
    "_ = lr_finder.plot()"
   ]
  },
  {
   "cell_type": "code",
   "execution_count": 13,
   "id": "b6c614e9eef34251",
   "metadata": {
    "ExecuteTime": {
     "end_time": "2023-10-08T17:33:18.306567Z",
     "start_time": "2023-10-08T17:33:18.296444Z"
    },
    "collapsed": false
   },
   "outputs": [
    {
     "data": {
      "text/plain": [
       "0.12915496650148922"
      ]
     },
     "execution_count": 13,
     "metadata": {},
     "output_type": "execute_result"
    }
   ],
   "source": [
    "lr_finder.get_best_lr()"
   ]
  },
  {
   "cell_type": "code",
   "execution_count": 14,
   "id": "997a3bd0f2e80ca9",
   "metadata": {
    "ExecuteTime": {
     "end_time": "2023-10-08T17:33:50.703519Z",
     "start_time": "2023-10-08T17:33:50.688368Z"
    },
    "collapsed": false
   },
   "outputs": [],
   "source": [
    "model.optimizer.set_lr(0.01)"
   ]
  },
  {
   "cell_type": "code",
   "execution_count": 15,
   "id": "f7778d432578fe16",
   "metadata": {
    "ExecuteTime": {
     "end_time": "2023-10-08T17:40:00.976817Z",
     "start_time": "2023-10-08T17:34:00.332162Z"
    },
    "collapsed": false
   },
   "outputs": [
    {
     "name": "stdout",
     "output_type": "stream",
     "text": [
      "0:\t[22s / 22s],\t\ttrain_loss: 0.1817,\tval_loss: 0.0933\n",
      "1:\t[16s / 38s],\t\ttrain_loss: 0.1063,\tval_loss: 0.0669\n",
      "2:\t[17s / 56s],\t\ttrain_loss: 0.0956,\tval_loss: 0.0582\n",
      "3:\t[19s / 1m:15s],\t\ttrain_loss: 0.0820,\tval_loss: 0.0499\n",
      "4:\t[18s / 1m:33s],\t\ttrain_loss: 0.0916,\tval_loss: 0.1914\n",
      "5:\t[18s / 1m:51s],\t\ttrain_loss: 0.0849,\tval_loss: 0.0502\n",
      "6:\t[18s / 2m:9s],\t\ttrain_loss: 0.0798,\tval_loss: 0.0445\n",
      "7:\t[18s / 2m:28s],\t\ttrain_loss: 0.0774,\tval_loss: 0.0406\n",
      "8:\t[18s / 2m:46s],\t\ttrain_loss: 0.0677,\tval_loss: 0.0381\n",
      "9:\t[17s / 3m:3s],\t\ttrain_loss: 0.0832,\tval_loss: 0.0583\n",
      "10:\t[18s / 3m:22s],\t\ttrain_loss: 0.0647,\tval_loss: 0.0352\n",
      "11:\t[22s / 3m:44s],\t\ttrain_loss: 0.0645,\tval_loss: 0.0336\n",
      "12:\t[18s / 4m:2s],\t\ttrain_loss: 0.0598,\tval_loss: 0.0393\n",
      "13:\t[17s / 4m:19s],\t\ttrain_loss: 0.0607,\tval_loss: 0.0503\n",
      "14:\t[17s / 4m:36s],\t\ttrain_loss: 0.0570,\tval_loss: 0.0621\n",
      "15:\t[18s / 4m:54s],\t\ttrain_loss: 0.0608,\tval_loss: 0.0330\n",
      "16:\t[17s / 5m:12s],\t\ttrain_loss: 0.0611,\tval_loss: 0.0588\n",
      "17:\t[17s / 5m:29s],\t\ttrain_loss: 0.0588,\tval_loss: 0.0426\n",
      "18:\t[18s / 5m:47s],\t\ttrain_loss: 0.0655,\tval_loss: 0.0326\n",
      "19:\t[16s / 6m:4s],\t\ttrain_loss: 0.0514,\tval_loss: 0.0311\n",
      "20:\t[20s / 6m:24s],\t\ttrain_loss: 0.0529,\tval_loss: 0.0289\n",
      "21:\t[18s / 6m:43s],\t\ttrain_loss: 0.0528,\tval_loss: 0.0273\n",
      "22:\t[17s / 7m:1s],\t\ttrain_loss: 0.0491,\tval_loss: 0.0290\n",
      "23:\t[17s / 7m:18s],\t\ttrain_loss: 0.0529,\tval_loss: 0.0402\n",
      "24:\t[17s / 7m:36s],\t\ttrain_loss: 0.0494,\tval_loss: 0.0267\n",
      "25:\t[17s / 7m:54s],\t\ttrain_loss: 0.0588,\tval_loss: 0.1144\n",
      "26:\t[16s / 8m:10s],\t\ttrain_loss: 0.0498,\tval_loss: 0.0534\n",
      "27:\t[17s / 8m:27s],\t\ttrain_loss: 0.0473,\tval_loss: 0.0282\n",
      "28:\t[17s / 8m:45s],\t\ttrain_loss: 0.0477,\tval_loss: 0.0297\n",
      "29:\t[17s / 9m:2s],\t\ttrain_loss: 0.0492,\tval_loss: 0.0317\n",
      "30:\t[17s / 9m:19s],\t\ttrain_loss: 0.0507,\tval_loss: 0.0289\n",
      "31:\t[18s / 9m:38s],\t\ttrain_loss: 0.0454,\tval_loss: 0.0280\n",
      "32:\t[17s / 9m:55s],\t\ttrain_loss: 0.0546,\tval_loss: 0.0286\n",
      "33:\t[16s / 10m:11s],\t\ttrain_loss: 0.0545,\tval_loss: 0.0283\n",
      "34:\t[16s / 10m:27s],\t\ttrain_loss: 0.0482,\tval_loss: 0.0268\n"
     ]
    }
   ],
   "source": [
    "epochs = 100\n",
    "callbacks = [tt.callbacks.EarlyStopping()]\n",
    "log = model.fit(x_train, y_train, batch_size, epochs, callbacks, val_data=val)"
   ]
  },
  {
   "cell_type": "code",
   "execution_count": 24,
   "id": "d3c583423f3c0c5b",
   "metadata": {
    "ExecuteTime": {
     "end_time": "2023-10-08T17:40:06.480715Z",
     "start_time": "2023-10-08T17:40:06.396432Z"
    },
    "collapsed": false
   },
   "outputs": [
    {
     "data": {
      "image/png": "[encoded data removed]",
      "text/plain": [
       "<Figure size 640x480 with 1 Axes>"
      ]
     },
     "metadata": {},
     "output_type": "display_data"
    }
   ],
   "source": [
    "_ = log.plot()"
   ]
  },
  {
   "cell_type": "code",
   "execution_count": 24,
   "id": "8c5169ab134a0520",
   "metadata": {
    "ExecuteTime": {
     "end_time": "2023-10-08T17:40:18.728797Z",
     "start_time": "2023-10-08T17:40:18.595632Z"
    },
    "collapsed": false
   },
   "outputs": [
    {
     "data": {
      "image/png": "[encoded data removed]",
      "text/plain": [
       "<Figure size 640x480 with 1 Axes>"
      ]
     },
     "metadata": {},
     "output_type": "display_data"
    }
   ],
   "source": [
    "import matplotlib.pyplot as plt\n",
    "surv = model.predict_surv_df(x_test)\n",
    "surv.iloc[:, :5].plot(drawstyle='steps-post')\n",
    "plt.ylabel('S(t | x)')\n",
    "_ = plt.xlabel('Time')"
   ]
  },
  {
   "cell_type": "code",
   "execution_count": 22,
   "id": "5c7a99e3bf403b3",
   "metadata": {
    "ExecuteTime": {
     "end_time": "2023-10-08T17:40:28.758499Z",
     "start_time": "2023-10-08T17:40:28.702106Z"
    },
    "collapsed": false
   },
   "outputs": [],
   "source": [
    "surv = model.interpolate(10).predict_surv_df(x_test)"
   ]
  },
  {
   "cell_type": "code",
   "execution_count": 25,
   "id": "6357a04b51ad92e",
   "metadata": {
    "ExecuteTime": {
     "end_time": "2023-10-08T17:40:28.949909Z",
     "start_time": "2023-10-08T17:40:28.873241Z"
    },
    "collapsed": false
   },
   "outputs": [
    {
     "data": {
      "image/png": "[encoded data removed]",
      "text/plain": [
       "<Figure size 640x480 with 1 Axes>"
      ]
     },
     "metadata": {},
     "output_type": "display_data"
    }
   ],
   "source": [
    "surv.iloc[:, :5].plot(drawstyle='steps-post')\n",
    "plt.ylabel('S(t | x)')\n",
    "_ = plt.xlabel('Time')"
   ]
  },
  {
   "cell_type": "markdown",
   "id": "abe118cc",
   "metadata": {},
   "source": [
    "ROC AUC"
   ]
  },
  {
   "cell_type": "markdown",
   "id": "ee57eeeb",
   "metadata": {},
   "source": [
    "check the test_pred df to see if it has good results"
   ]
  },
  {
   "cell_type": "code",
   "execution_count": 16,
   "id": "496f0377",
   "metadata": {},
   "outputs": [
    {
     "data": {
      "text/plain": [
       "(10, 115963)"
      ]
     },
     "execution_count": 16,
     "metadata": {},
     "output_type": "execute_result"
    }
   ],
   "source": [
    "from sklearn.metrics import roc_auc_score, accuracy_score, recall_score, precision_score, f1_score, confusion_matrix\n",
    "surv = model.predict_surv_df(x_test)\n",
    "surv.shape"
   ]
  },
  {
   "cell_type": "code",
   "execution_count": 17,
   "metadata": {},
   "outputs": [],
   "source": [
    "test_pred = np.array(surv.iloc[9])\n",
    "test_pred_binary = np.round(test_pred).astype(int)\n",
    "test_true = df_test['Default'].to_numpy().astype(int)\n"
   ]
  },
  {
   "cell_type": "code",
   "execution_count": 19,
   "id": "684c9117",
   "metadata": {},
   "outputs": [
    {
     "name": "stderr",
     "output_type": "stream",
     "text": [
      "/Library/Frameworks/Python.framework/Versions/3.8/lib/python3.8/site-packages/sklearn/metrics/_classification.py:1469: UndefinedMetricWarning: Precision is ill-defined and being set to 0.0 due to no predicted samples. Use `zero_division` parameter to control this behavior.\n",
      "  _warn_prf(average, modifier, msg_start, len(result))\n"
     ]
    },
    {
     "name": "stdout",
     "output_type": "stream",
     "text": [
      "Accuracy: 0.9976371773755423\n",
      "Recall: 0.0\n",
      "Precision: 0.0\n",
      "F1 Score: 0.0\n",
      "AUC: 0.5715455317437078\n"
     ]
    }
   ],
   "source": [
    "accuracy = accuracy_score(test_true, test_pred_binary)\n",
    "recall = recall_score(test_true, test_pred_binary)\n",
    "precision = precision_score(test_true, test_pred_binary)\n",
    "f1 = f1_score(test_true, test_pred_binary)\n",
    "auc = roc_auc_score(df_test['Default'], test_pred)\n",
    "confusion = confusion_matrix(test_true, test_pred_binary)\n",
    "\n",
    "print('Accuracy:', accuracy)\n",
    "print('Recall:', recall)\n",
    "print('Precision:', precision)\n",
    "print('F1 Score:', f1)\n",
    "print('AUC:', auc)"
   ]
  },
  {
   "cell_type": "markdown",
   "id": "55a74390",
   "metadata": {},
   "source": [
    "Older Metrics"
   ]
  },
  {
   "cell_type": "code",
   "execution_count": 20,
   "id": "9fdeba41fa93267e",
   "metadata": {
    "ExecuteTime": {
     "end_time": "2023-10-08T17:40:40.469337Z",
     "start_time": "2023-10-08T17:40:36.441416Z"
    },
    "collapsed": false
   },
   "outputs": [],
   "source": [
    "ev = EvalSurv(surv, durations_test, events_test.astype(int), censor_surv='km')"
   ]
  },
  {
   "cell_type": "code",
   "execution_count": 21,
   "id": "342c928065f3be58",
   "metadata": {
    "ExecuteTime": {
     "end_time": "2023-10-08T17:40:47.140884Z",
     "start_time": "2023-10-08T17:40:40.471797Z"
    },
    "collapsed": false
   },
   "outputs": [
    {
     "data": {
      "text/plain": [
       "0.888774507476888"
      ]
     },
     "execution_count": 21,
     "metadata": {},
     "output_type": "execute_result"
    }
   ],
   "source": [
    "ev.concordance_td('antolini')"
   ]
  },
  {
   "cell_type": "code",
   "execution_count": 28,
   "id": "91178d16cf466292",
   "metadata": {
    "ExecuteTime": {
     "end_time": "2023-10-08T17:40:48.127643Z",
     "start_time": "2023-10-08T17:40:47.139520Z"
    },
    "collapsed": false
   },
   "outputs": [
    {
     "data": {
      "image/png": "[encoded data removed]",
      "text/plain": [
       "<Figure size 640x480 with 1 Axes>"
      ]
     },
     "metadata": {},
     "output_type": "display_data"
    }
   ],
   "source": [
    "time_grid = np.linspace(durations_test.min(), durations_test.max(), 100)\n",
    "ev.brier_score(time_grid).plot()\n",
    "plt.ylabel('Brier score')\n",
    "_ = plt.xlabel('Time')"
   ]
  },
  {
   "cell_type": "code",
   "execution_count": 29,
   "id": "191cbd1b1d3cbe8c",
   "metadata": {
    "ExecuteTime": {
     "end_time": "2023-10-08T17:40:59.187744Z",
     "start_time": "2023-10-08T17:40:58.518952Z"
    },
    "collapsed": false
   },
   "outputs": [
    {
     "data": {
      "text/plain": [
       "0.3276582120912859"
      ]
     },
     "execution_count": 29,
     "metadata": {},
     "output_type": "execute_result"
    }
   ],
   "source": [
    "ev.integrated_brier_score(time_grid) "
   ]
  },
  {
   "cell_type": "code",
   "execution_count": 34,
   "id": "11478dbf8974f465",
   "metadata": {
    "ExecuteTime": {
     "end_time": "2023-10-09T09:26:01.769737Z",
     "start_time": "2023-10-09T09:26:00.305796Z"
    },
    "collapsed": false
   },
   "outputs": [
    {
     "data": {
      "text/plain": [
       "0.9629183060663509"
      ]
     },
     "execution_count": 34,
     "metadata": {},
     "output_type": "execute_result"
    }
   ],
   "source": [
    "ev.integrated_nbll(time_grid) "
   ]
  }
 ],
 "metadata": {
  "kernelspec": {
   "display_name": "Python 3",
   "language": "python",
   "name": "python3"
  },
  "language_info": {
   "codemirror_mode": {
    "name": "ipython",
    "version": 3
   },
   "file_extension": ".py",
   "mimetype": "text/x-python",
   "name": "python",
   "nbconvert_exporter": "python",
   "pygments_lexer": "ipython3",
   "version": "3.8.10"
  }
 },
 "nbformat": 4,
 "nbformat_minor": 5
}
