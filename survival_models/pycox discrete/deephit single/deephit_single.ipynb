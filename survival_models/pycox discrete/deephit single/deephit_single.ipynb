{
 "cells": [
  {
   "cell_type": "code",
   "execution_count": 51,
   "id": "f3613817249df26d",
   "metadata": {
    "ExecuteTime": {
     "end_time": "2023-10-08T17:28:52.011999Z",
     "start_time": "2023-10-08T17:28:51.850716Z"
    },
    "collapsed": false
   },
   "outputs": [],
   "source": [
    "import pandas as pd\n",
    "#df = pd.read_pickle(\"../cri_compustat_merged_v8.pkl\")\n",
    "#df.head()"
   ]
  },
  {
   "cell_type": "code",
   "execution_count": 2,
   "metadata": {},
   "outputs": [],
   "source": [
    "from google.oauth2 import service_account\n",
    "import pandas_gbq as gbq \n",
    "import json\n",
    "from pandas_gbq import to_gbq, read_gbq\n",
    "\n",
    "credentials_path = '../../token.json'\n",
    "\n",
    "# Authenticate with your credentials\n",
    "credentials = service_account.Credentials.from_service_account_file(\n",
    "    credentials_path, scopes=['https://www.googleapis.com/auth/bigquery'])\n",
    "\n",
    "# Set the credentials for pandas_gbq\n",
    "gbq.context.credentials = credentials"
   ]
  },
  {
   "cell_type": "code",
   "execution_count": 3,
   "metadata": {},
   "outputs": [
    {
     "name": "stderr",
     "output_type": "stream",
     "text": [
      "/Library/Frameworks/Python.framework/Versions/3.8/lib/python3.8/site-packages/google/cloud/bigquery/table.py:2155: UserWarning: A progress bar was requested, but there was an error loading the tqdm library. Please install tqdm to use the progress bar functionality.\n",
      "  record_batch = self.to_arrow(\n"
     ]
    }
   ],
   "source": [
    "df_full = read_gbq(f\"\"\"\n",
    "\n",
    "SELECT *\n",
    "FROM capstone-402105.capstone.cri_compustat_data\n",
    "\n",
    "\"\"\",project_id='capstone-402105', dialect='standard')"
   ]
  },
  {
   "cell_type": "code",
   "execution_count": 37,
   "id": "71bcb43fa9002a07",
   "metadata": {
    "ExecuteTime": {
     "end_time": "2023-10-08T17:28:52.521522Z",
     "start_time": "2023-10-08T17:28:52.486498Z"
    },
    "collapsed": false
   },
   "outputs": [
    {
     "data": {
      "text/html": [
       "<div>\n",
       "<style scoped>\n",
       "    .dataframe tbody tr th:only-of-type {\n",
       "        vertical-align: middle;\n",
       "    }\n",
       "\n",
       "    .dataframe tbody tr th {\n",
       "        vertical-align: top;\n",
       "    }\n",
       "\n",
       "    .dataframe thead th {\n",
       "        text-align: right;\n",
       "    }\n",
       "</style>\n",
       "<table border=\"1\" class=\"dataframe\">\n",
       "  <thead>\n",
       "    <tr style=\"text-align: right;\">\n",
       "      <th></th>\n",
       "      <th>StkIndx</th>\n",
       "      <th>STInt</th>\n",
       "      <th>dtdlevel</th>\n",
       "      <th>dtdtrend</th>\n",
       "      <th>liqnonfinlevel</th>\n",
       "      <th>liqnonfintrend</th>\n",
       "      <th>ni2talevel</th>\n",
       "      <th>ni2tatrend</th>\n",
       "      <th>sizelevel</th>\n",
       "      <th>sizetrend</th>\n",
       "      <th>...</th>\n",
       "      <th>day_sales_outstanding</th>\n",
       "      <th>working_capital_turnover</th>\n",
       "      <th>price_to_earnings</th>\n",
       "      <th>dividend_payout_ratio</th>\n",
       "      <th>retention_ratio</th>\n",
       "      <th>gross_margin_ratio</th>\n",
       "      <th>operating_profit_margin</th>\n",
       "      <th>ebitda_margin</th>\n",
       "      <th>debt_service_coverage_ratio</th>\n",
       "      <th>interest_coverage_ratio</th>\n",
       "    </tr>\n",
       "  </thead>\n",
       "  <tbody>\n",
       "    <tr>\n",
       "      <th>0</th>\n",
       "      <td>0.121681</td>\n",
       "      <td>-0.004016</td>\n",
       "      <td>10.636655</td>\n",
       "      <td>-0.719606</td>\n",
       "      <td>0.758769</td>\n",
       "      <td>0.157200</td>\n",
       "      <td>0.005983</td>\n",
       "      <td>-0.001407</td>\n",
       "      <td>1.900089</td>\n",
       "      <td>0.033246</td>\n",
       "      <td>...</td>\n",
       "      <td>255.207412</td>\n",
       "      <td>0.674972</td>\n",
       "      <td>137.826531</td>\n",
       "      <td>0.000000</td>\n",
       "      <td>1.000000</td>\n",
       "      <td>37.586070</td>\n",
       "      <td>-46.140794</td>\n",
       "      <td>-41.647642</td>\n",
       "      <td>-0.310145</td>\n",
       "      <td>10.860434</td>\n",
       "    </tr>\n",
       "    <tr>\n",
       "      <th>1</th>\n",
       "      <td>0.121681</td>\n",
       "      <td>-0.004016</td>\n",
       "      <td>4.596013</td>\n",
       "      <td>0.547466</td>\n",
       "      <td>0.280534</td>\n",
       "      <td>-0.039203</td>\n",
       "      <td>0.005733</td>\n",
       "      <td>-0.002453</td>\n",
       "      <td>0.650717</td>\n",
       "      <td>0.095478</td>\n",
       "      <td>...</td>\n",
       "      <td>0.000000</td>\n",
       "      <td>6.179372</td>\n",
       "      <td>126.818182</td>\n",
       "      <td>0.000000</td>\n",
       "      <td>1.000000</td>\n",
       "      <td>12.644176</td>\n",
       "      <td>-83.159927</td>\n",
       "      <td>-80.938732</td>\n",
       "      <td>-2.448988</td>\n",
       "      <td>16.706610</td>\n",
       "    </tr>\n",
       "    <tr>\n",
       "      <th>2</th>\n",
       "      <td>0.121681</td>\n",
       "      <td>-0.004016</td>\n",
       "      <td>9.608941</td>\n",
       "      <td>1.192495</td>\n",
       "      <td>3.512448</td>\n",
       "      <td>0.632913</td>\n",
       "      <td>0.004540</td>\n",
       "      <td>-0.002605</td>\n",
       "      <td>0.273628</td>\n",
       "      <td>0.085237</td>\n",
       "      <td>...</td>\n",
       "      <td>3119.717134</td>\n",
       "      <td>0.000000</td>\n",
       "      <td>192.272727</td>\n",
       "      <td>0.000000</td>\n",
       "      <td>1.000000</td>\n",
       "      <td>25.983451</td>\n",
       "      <td>-64.498429</td>\n",
       "      <td>-58.763662</td>\n",
       "      <td>-0.132720</td>\n",
       "      <td>1.007022</td>\n",
       "    </tr>\n",
       "    <tr>\n",
       "      <th>3</th>\n",
       "      <td>0.121681</td>\n",
       "      <td>-0.004016</td>\n",
       "      <td>9.269236</td>\n",
       "      <td>-6.134049</td>\n",
       "      <td>1.122227</td>\n",
       "      <td>-0.077907</td>\n",
       "      <td>0.008095</td>\n",
       "      <td>-0.002728</td>\n",
       "      <td>1.190292</td>\n",
       "      <td>0.008570</td>\n",
       "      <td>...</td>\n",
       "      <td>180.675805</td>\n",
       "      <td>1.260570</td>\n",
       "      <td>78.387097</td>\n",
       "      <td>0.322581</td>\n",
       "      <td>0.677419</td>\n",
       "      <td>28.939728</td>\n",
       "      <td>-61.798433</td>\n",
       "      <td>-60.044946</td>\n",
       "      <td>-0.493468</td>\n",
       "      <td>9.330209</td>\n",
       "    </tr>\n",
       "    <tr>\n",
       "      <th>4</th>\n",
       "      <td>0.121681</td>\n",
       "      <td>-0.004016</td>\n",
       "      <td>7.476566</td>\n",
       "      <td>0.400249</td>\n",
       "      <td>0.851392</td>\n",
       "      <td>-0.052482</td>\n",
       "      <td>0.005873</td>\n",
       "      <td>-0.000184</td>\n",
       "      <td>0.952575</td>\n",
       "      <td>0.019517</td>\n",
       "      <td>...</td>\n",
       "      <td>404.744047</td>\n",
       "      <td>0.849067</td>\n",
       "      <td>90.555556</td>\n",
       "      <td>0.238889</td>\n",
       "      <td>0.761111</td>\n",
       "      <td>36.829145</td>\n",
       "      <td>-52.108717</td>\n",
       "      <td>-48.761289</td>\n",
       "      <td>-0.554091</td>\n",
       "      <td>13.469110</td>\n",
       "    </tr>\n",
       "  </tbody>\n",
       "</table>\n",
       "<p>5 rows × 49 columns</p>\n",
       "</div>"
      ],
      "text/plain": [
       "    StkIndx     STInt   dtdlevel  dtdtrend  liqnonfinlevel  liqnonfintrend  \\\n",
       "0  0.121681 -0.004016  10.636655 -0.719606        0.758769        0.157200   \n",
       "1  0.121681 -0.004016   4.596013  0.547466        0.280534       -0.039203   \n",
       "2  0.121681 -0.004016   9.608941  1.192495        3.512448        0.632913   \n",
       "3  0.121681 -0.004016   9.269236 -6.134049        1.122227       -0.077907   \n",
       "4  0.121681 -0.004016   7.476566  0.400249        0.851392       -0.052482   \n",
       "\n",
       "   ni2talevel  ni2tatrend  sizelevel  sizetrend  ...  day_sales_outstanding  \\\n",
       "0    0.005983   -0.001407   1.900089   0.033246  ...             255.207412   \n",
       "1    0.005733   -0.002453   0.650717   0.095478  ...               0.000000   \n",
       "2    0.004540   -0.002605   0.273628   0.085237  ...            3119.717134   \n",
       "3    0.008095   -0.002728   1.190292   0.008570  ...             180.675805   \n",
       "4    0.005873   -0.000184   0.952575   0.019517  ...             404.744047   \n",
       "\n",
       "   working_capital_turnover  price_to_earnings  dividend_payout_ratio  \\\n",
       "0                  0.674972         137.826531               0.000000   \n",
       "1                  6.179372         126.818182               0.000000   \n",
       "2                  0.000000         192.272727               0.000000   \n",
       "3                  1.260570          78.387097               0.322581   \n",
       "4                  0.849067          90.555556               0.238889   \n",
       "\n",
       "   retention_ratio  gross_margin_ratio operating_profit_margin  ebitda_margin  \\\n",
       "0         1.000000           37.586070              -46.140794     -41.647642   \n",
       "1         1.000000           12.644176              -83.159927     -80.938732   \n",
       "2         1.000000           25.983451              -64.498429     -58.763662   \n",
       "3         0.677419           28.939728              -61.798433     -60.044946   \n",
       "4         0.761111           36.829145              -52.108717     -48.761289   \n",
       "\n",
       "   debt_service_coverage_ratio  interest_coverage_ratio  \n",
       "0                    -0.310145                10.860434  \n",
       "1                    -2.448988                16.706610  \n",
       "2                    -0.132720                 1.007022  \n",
       "3                    -0.493468                 9.330209  \n",
       "4                    -0.554091                13.469110  \n",
       "\n",
       "[5 rows x 49 columns]"
      ]
     },
     "execution_count": 37,
     "metadata": {},
     "output_type": "execute_result"
    }
   ],
   "source": [
    "# Unnecessary cols\n",
    "labels_to_drop = [\n",
    "    'CompNo',\n",
    "    'year',\n",
    "    'month',\n",
    "    'gvkey',\n",
    "    'tic',\n",
    "    'dummy297fin',\n",
    "    'StartDate'\n",
    "]\n",
    "df = df_full.drop(labels_to_drop, axis=1)\n",
    "df.head()"
   ]
  },
  {
   "cell_type": "code",
   "execution_count": 38,
   "metadata": {},
   "outputs": [
    {
     "data": {
      "text/plain": [
       "StkIndx                                    float64\n",
       "STInt                                      float64\n",
       "dtdlevel                                   float64\n",
       "dtdtrend                                   float64\n",
       "liqnonfinlevel                             float64\n",
       "liqnonfintrend                             float64\n",
       "ni2talevel                                 float64\n",
       "ni2tatrend                                 float64\n",
       "sizelevel                                  float64\n",
       "sizetrend                                  float64\n",
       "m2b                                        float64\n",
       "sigma                                      float64\n",
       "liqfinlevel                                float64\n",
       "lqfintrend                                 float64\n",
       "DTDmedianFin                               float64\n",
       "DTDmedianNonFin                            float64\n",
       "EventDate                      datetime64[ns, UTC]\n",
       "Default_1                                    Int64\n",
       "Default_3                                    Int64\n",
       "Default_6                                    Int64\n",
       "Default_12                                   Int64\n",
       "Default_24                                   Int64\n",
       "Default_36                                   Int64\n",
       "Default_60                                   Int64\n",
       "Duration                                     Int64\n",
       "current_ratio                              float64\n",
       "quick_ratio                                float64\n",
       "cash_ratio                                 float64\n",
       "net_working_capital                        float64\n",
       "debt_ratio                                 float64\n",
       "debt_to_equity_ratio                       float64\n",
       "equity_ratio                               float64\n",
       "cashflow_to_debt_ratio                     float64\n",
       "net_profit_margin                          float64\n",
       "return_on_assets                           float64\n",
       "asset_turnover                             float64\n",
       "inventory_turnover                         float64\n",
       "days_in_inventory                          float64\n",
       "receivables_turnover                       float64\n",
       "day_sales_outstanding                      float64\n",
       "working_capital_turnover                   float64\n",
       "price_to_earnings                          float64\n",
       "dividend_payout_ratio                      float64\n",
       "retention_ratio                            float64\n",
       "gross_margin_ratio                         float64\n",
       "operating_profit_margin                    float64\n",
       "ebitda_margin                              float64\n",
       "debt_service_coverage_ratio                float64\n",
       "interest_coverage_ratio                    float64\n",
       "dtype: object"
      ]
     },
     "execution_count": 38,
     "metadata": {},
     "output_type": "execute_result"
    }
   ],
   "source": [
    "df.dtypes"
   ]
  },
  {
   "cell_type": "code",
   "execution_count": 39,
   "id": "81df254d2579d497",
   "metadata": {
    "ExecuteTime": {
     "end_time": "2023-10-08T17:28:53.504858Z",
     "start_time": "2023-10-08T17:28:53.174008Z"
    },
    "collapsed": false
   },
   "outputs": [
    {
     "data": {
      "text/plain": [
       "0    1170064\n",
       "1       9350\n",
       "Name: Default, dtype: int64"
      ]
     },
     "execution_count": 39,
     "metadata": {},
     "output_type": "execute_result"
    }
   ],
   "source": [
    "# Format Event Type col\n",
    "#df = df[df['EventType'] != 2]\n",
    "df['Default'] = df['Default_12'].apply(lambda x: '1' if x == 1 else '0')\n",
    "df['Default'].value_counts()"
   ]
  },
  {
   "cell_type": "code",
   "execution_count": 40,
   "metadata": {},
   "outputs": [
    {
     "data": {
      "text/html": [
       "<div>\n",
       "<style scoped>\n",
       "    .dataframe tbody tr th:only-of-type {\n",
       "        vertical-align: middle;\n",
       "    }\n",
       "\n",
       "    .dataframe tbody tr th {\n",
       "        vertical-align: top;\n",
       "    }\n",
       "\n",
       "    .dataframe thead th {\n",
       "        text-align: right;\n",
       "    }\n",
       "</style>\n",
       "<table border=\"1\" class=\"dataframe\">\n",
       "  <thead>\n",
       "    <tr style=\"text-align: right;\">\n",
       "      <th></th>\n",
       "      <th>StkIndx</th>\n",
       "      <th>STInt</th>\n",
       "      <th>dtdlevel</th>\n",
       "      <th>dtdtrend</th>\n",
       "      <th>liqnonfinlevel</th>\n",
       "      <th>liqnonfintrend</th>\n",
       "      <th>ni2talevel</th>\n",
       "      <th>ni2tatrend</th>\n",
       "      <th>sizelevel</th>\n",
       "      <th>sizetrend</th>\n",
       "      <th>...</th>\n",
       "      <th>working_capital_turnover</th>\n",
       "      <th>price_to_earnings</th>\n",
       "      <th>dividend_payout_ratio</th>\n",
       "      <th>retention_ratio</th>\n",
       "      <th>gross_margin_ratio</th>\n",
       "      <th>operating_profit_margin</th>\n",
       "      <th>ebitda_margin</th>\n",
       "      <th>debt_service_coverage_ratio</th>\n",
       "      <th>interest_coverage_ratio</th>\n",
       "      <th>Default</th>\n",
       "    </tr>\n",
       "  </thead>\n",
       "  <tbody>\n",
       "    <tr>\n",
       "      <th>0</th>\n",
       "      <td>0.121681</td>\n",
       "      <td>-0.004016</td>\n",
       "      <td>10.636655</td>\n",
       "      <td>-0.719606</td>\n",
       "      <td>0.758769</td>\n",
       "      <td>0.157200</td>\n",
       "      <td>0.005983</td>\n",
       "      <td>-0.001407</td>\n",
       "      <td>1.900089</td>\n",
       "      <td>0.033246</td>\n",
       "      <td>...</td>\n",
       "      <td>0.674972</td>\n",
       "      <td>137.826531</td>\n",
       "      <td>0.000000</td>\n",
       "      <td>1.000000</td>\n",
       "      <td>37.586070</td>\n",
       "      <td>-46.140794</td>\n",
       "      <td>-41.647642</td>\n",
       "      <td>-0.310145</td>\n",
       "      <td>10.860434</td>\n",
       "      <td>0</td>\n",
       "    </tr>\n",
       "    <tr>\n",
       "      <th>1</th>\n",
       "      <td>0.121681</td>\n",
       "      <td>-0.004016</td>\n",
       "      <td>4.596013</td>\n",
       "      <td>0.547466</td>\n",
       "      <td>0.280534</td>\n",
       "      <td>-0.039203</td>\n",
       "      <td>0.005733</td>\n",
       "      <td>-0.002453</td>\n",
       "      <td>0.650717</td>\n",
       "      <td>0.095478</td>\n",
       "      <td>...</td>\n",
       "      <td>6.179372</td>\n",
       "      <td>126.818182</td>\n",
       "      <td>0.000000</td>\n",
       "      <td>1.000000</td>\n",
       "      <td>12.644176</td>\n",
       "      <td>-83.159927</td>\n",
       "      <td>-80.938732</td>\n",
       "      <td>-2.448988</td>\n",
       "      <td>16.706610</td>\n",
       "      <td>0</td>\n",
       "    </tr>\n",
       "    <tr>\n",
       "      <th>2</th>\n",
       "      <td>0.121681</td>\n",
       "      <td>-0.004016</td>\n",
       "      <td>9.608941</td>\n",
       "      <td>1.192495</td>\n",
       "      <td>3.512448</td>\n",
       "      <td>0.632913</td>\n",
       "      <td>0.004540</td>\n",
       "      <td>-0.002605</td>\n",
       "      <td>0.273628</td>\n",
       "      <td>0.085237</td>\n",
       "      <td>...</td>\n",
       "      <td>0.000000</td>\n",
       "      <td>192.272727</td>\n",
       "      <td>0.000000</td>\n",
       "      <td>1.000000</td>\n",
       "      <td>25.983451</td>\n",
       "      <td>-64.498429</td>\n",
       "      <td>-58.763662</td>\n",
       "      <td>-0.132720</td>\n",
       "      <td>1.007022</td>\n",
       "      <td>0</td>\n",
       "    </tr>\n",
       "    <tr>\n",
       "      <th>3</th>\n",
       "      <td>0.121681</td>\n",
       "      <td>-0.004016</td>\n",
       "      <td>9.269236</td>\n",
       "      <td>-6.134049</td>\n",
       "      <td>1.122227</td>\n",
       "      <td>-0.077907</td>\n",
       "      <td>0.008095</td>\n",
       "      <td>-0.002728</td>\n",
       "      <td>1.190292</td>\n",
       "      <td>0.008570</td>\n",
       "      <td>...</td>\n",
       "      <td>1.260570</td>\n",
       "      <td>78.387097</td>\n",
       "      <td>0.322581</td>\n",
       "      <td>0.677419</td>\n",
       "      <td>28.939728</td>\n",
       "      <td>-61.798433</td>\n",
       "      <td>-60.044946</td>\n",
       "      <td>-0.493468</td>\n",
       "      <td>9.330209</td>\n",
       "      <td>0</td>\n",
       "    </tr>\n",
       "    <tr>\n",
       "      <th>4</th>\n",
       "      <td>0.121681</td>\n",
       "      <td>-0.004016</td>\n",
       "      <td>7.476566</td>\n",
       "      <td>0.400249</td>\n",
       "      <td>0.851392</td>\n",
       "      <td>-0.052482</td>\n",
       "      <td>0.005873</td>\n",
       "      <td>-0.000184</td>\n",
       "      <td>0.952575</td>\n",
       "      <td>0.019517</td>\n",
       "      <td>...</td>\n",
       "      <td>0.849067</td>\n",
       "      <td>90.555556</td>\n",
       "      <td>0.238889</td>\n",
       "      <td>0.761111</td>\n",
       "      <td>36.829145</td>\n",
       "      <td>-52.108717</td>\n",
       "      <td>-48.761289</td>\n",
       "      <td>-0.554091</td>\n",
       "      <td>13.469110</td>\n",
       "      <td>0</td>\n",
       "    </tr>\n",
       "  </tbody>\n",
       "</table>\n",
       "<p>5 rows × 44 columns</p>\n",
       "</div>"
      ],
      "text/plain": [
       "    StkIndx     STInt   dtdlevel  dtdtrend  liqnonfinlevel  liqnonfintrend  \\\n",
       "0  0.121681 -0.004016  10.636655 -0.719606        0.758769        0.157200   \n",
       "1  0.121681 -0.004016   4.596013  0.547466        0.280534       -0.039203   \n",
       "2  0.121681 -0.004016   9.608941  1.192495        3.512448        0.632913   \n",
       "3  0.121681 -0.004016   9.269236 -6.134049        1.122227       -0.077907   \n",
       "4  0.121681 -0.004016   7.476566  0.400249        0.851392       -0.052482   \n",
       "\n",
       "   ni2talevel  ni2tatrend  sizelevel  sizetrend  ...  \\\n",
       "0    0.005983   -0.001407   1.900089   0.033246  ...   \n",
       "1    0.005733   -0.002453   0.650717   0.095478  ...   \n",
       "2    0.004540   -0.002605   0.273628   0.085237  ...   \n",
       "3    0.008095   -0.002728   1.190292   0.008570  ...   \n",
       "4    0.005873   -0.000184   0.952575   0.019517  ...   \n",
       "\n",
       "   working_capital_turnover  price_to_earnings  dividend_payout_ratio  \\\n",
       "0                  0.674972         137.826531               0.000000   \n",
       "1                  6.179372         126.818182               0.000000   \n",
       "2                  0.000000         192.272727               0.000000   \n",
       "3                  1.260570          78.387097               0.322581   \n",
       "4                  0.849067          90.555556               0.238889   \n",
       "\n",
       "   retention_ratio  gross_margin_ratio  operating_profit_margin ebitda_margin  \\\n",
       "0         1.000000           37.586070               -46.140794    -41.647642   \n",
       "1         1.000000           12.644176               -83.159927    -80.938732   \n",
       "2         1.000000           25.983451               -64.498429    -58.763662   \n",
       "3         0.677419           28.939728               -61.798433    -60.044946   \n",
       "4         0.761111           36.829145               -52.108717    -48.761289   \n",
       "\n",
       "   debt_service_coverage_ratio  interest_coverage_ratio  Default  \n",
       "0                    -0.310145                10.860434        0  \n",
       "1                    -2.448988                16.706610        0  \n",
       "2                    -0.132720                 1.007022        0  \n",
       "3                    -0.493468                 9.330209        0  \n",
       "4                    -0.554091                13.469110        0  \n",
       "\n",
       "[5 rows x 44 columns]"
      ]
     },
     "execution_count": 40,
     "metadata": {},
     "output_type": "execute_result"
    }
   ],
   "source": [
    "labels_to_drop = [\n",
    "    'Default_1', \n",
    "    'Default_3',\n",
    "    'Default_6',\n",
    "    'Default_24',\n",
    "    'Default_36',\n",
    "    'Default_60'\n",
    "]\n",
    "df = df.drop(labels_to_drop, axis=1)\n",
    "df.head()"
   ]
  },
  {
   "cell_type": "code",
   "execution_count": 56,
   "id": "317b71c192384fe1",
   "metadata": {
    "ExecuteTime": {
     "end_time": "2023-10-08T17:28:54.543437Z",
     "start_time": "2023-10-08T17:28:53.642412Z"
    },
    "collapsed": false
   },
   "outputs": [],
   "source": [
    "# Format Duration col\n",
    "df['Duration'] = df['Duration'].astype(str)\n",
    "df['Duration'] = df['Duration'].str.replace(r'\\s', '', regex=True)\n",
    "df['Duration'] = df['Duration'].str.split('days').str[0]\n",
    "df['Duration'] = df['Duration'].astype('float32')\n",
    "\n",
    "#Format Eventdate col\n",
    "df['EventDate'] = pd.to_datetime(df['EventDate'])\n",
    "df['EventDate'] = df['EventDate'].astype(int)"
   ]
  },
  {
   "cell_type": "code",
   "execution_count": 28,
   "id": "4801a6bae1f46da5",
   "metadata": {
    "ExecuteTime": {
     "end_time": "2023-10-08T17:29:22.103999Z",
     "start_time": "2023-10-08T17:29:22.092346Z"
    },
    "collapsed": false
   },
   "outputs": [],
   "source": [
    "from pycox.models import DeepHitSingle\n",
    "from pycox.evaluation import EvalSurv\n",
    "import numpy as np\n",
    "import torchtuples as tt"
   ]
  },
  {
   "cell_type": "code",
   "execution_count": 57,
   "id": "c59b22b3ae4bdae8",
   "metadata": {
    "ExecuteTime": {
     "end_time": "2023-10-08T17:29:22.823915Z",
     "start_time": "2023-10-08T17:29:22.446920Z"
    },
    "collapsed": false
   },
   "outputs": [],
   "source": [
    "# Split into train,test, validation\n",
    "df_train = df\n",
    "df_test = df_train.sample(frac=0.2)\n",
    "df_train = df_train.drop(df_test.index)\n",
    "df_val = df_train.sample(frac=0.2)\n",
    "df_train = df_train.drop(df_val.index)"
   ]
  },
  {
   "cell_type": "code",
   "execution_count": 54,
   "id": "7d83eb0d0b6c21b3",
   "metadata": {
    "ExecuteTime": {
     "end_time": "2023-10-08T17:30:05.435952Z",
     "start_time": "2023-10-08T17:30:05.428221Z"
    },
    "collapsed": false
   },
   "outputs": [],
   "source": [
    "from sklearn.preprocessing import StandardScaler\n",
    "from sklearn_pandas import DataFrameMapper \n",
    "og_cols = df_train.columns.tolist()\n",
    "cols_standardize = [i for i in og_cols if i not in ['Duration', 'Default']]\n",
    "cols_leave =[]\n",
    "\n",
    "standardize = [([col], StandardScaler()) for col in cols_standardize]\n",
    "leave = [(col, None) for col in cols_leave]\n",
    "\n",
    "x_mapper = DataFrameMapper(standardize + leave)"
   ]
  },
  {
   "cell_type": "code",
   "execution_count": 58,
   "id": "97c388857cb5535f",
   "metadata": {
    "ExecuteTime": {
     "end_time": "2023-10-08T17:30:06.333443Z",
     "start_time": "2023-10-08T17:30:05.795429Z"
    },
    "collapsed": false
   },
   "outputs": [],
   "source": [
    "x_train = x_mapper.fit_transform(df_train).astype('float32')\n",
    "x_val = x_mapper.transform(df_val).astype('float32')\n",
    "x_test = x_mapper.transform(df_test).astype('float32')"
   ]
  },
  {
   "cell_type": "code",
   "execution_count": 59,
   "id": "b99853f728daf888",
   "metadata": {
    "ExecuteTime": {
     "end_time": "2023-10-08T17:30:06.439497Z",
     "start_time": "2023-10-08T17:30:06.335515Z"
    },
    "collapsed": false
   },
   "outputs": [],
   "source": [
    "# Discretize time column\n",
    "num_durations = 10\n",
    "\n",
    "labtrans = DeepHitSingle.label_transform(num_durations)\n",
    "\n",
    "get_target = lambda df: (df['Duration'].values, df['Default'].values)\n",
    "y_train = labtrans.fit_transform(*get_target(df_train))\n",
    "y_val = labtrans.transform(*get_target(df_val))\n",
    "\n",
    "train = (x_train, y_train)\n",
    "val = (x_val, y_val)\n",
    "\n",
    "# We don't need to transform the test labels\n",
    "durations_test, events_test = get_target(df_test)"
   ]
  },
  {
   "cell_type": "code",
   "execution_count": 60,
   "id": "6a3951d998736aa7",
   "metadata": {
    "ExecuteTime": {
     "end_time": "2023-10-08T17:32:58.297367Z",
     "start_time": "2023-10-08T17:32:58.292058Z"
    },
    "collapsed": false
   },
   "outputs": [],
   "source": [
    "in_features = x_train.shape[1]\n",
    "num_nodes = [32, 32]\n",
    "out_features = labtrans.out_features\n",
    "batch_norm = True\n",
    "dropout = 0.1\n",
    "\n",
    "net = tt.practical.MLPVanilla(in_features, num_nodes, out_features, batch_norm, dropout)\n",
    "model = DeepHitSingle(net, tt.optim.Adam, alpha=0.2, sigma=0.1, duration_index=labtrans.cuts)"
   ]
  },
  {
   "cell_type": "code",
   "execution_count": 61,
   "id": "52a2c6290d621102",
   "metadata": {
    "ExecuteTime": {
     "end_time": "2023-10-08T17:33:08.775816Z",
     "start_time": "2023-10-08T17:33:07.664793Z"
    },
    "collapsed": false
   },
   "outputs": [
    {
     "data": {
      "image/png": "[encoded data removed]",
      "text/plain": [
       "<Figure size 640x480 with 1 Axes>"
      ]
     },
     "metadata": {},
     "output_type": "display_data"
    }
   ],
   "source": [
    "batch_size = 256\n",
    "lr_finder = model.lr_finder(x_train, y_train, batch_size, tolerance=3)\n",
    "_ = lr_finder.plot()"
   ]
  },
  {
   "cell_type": "code",
   "execution_count": 62,
   "id": "b6c614e9eef34251",
   "metadata": {
    "ExecuteTime": {
     "end_time": "2023-10-08T17:33:18.306567Z",
     "start_time": "2023-10-08T17:33:18.296444Z"
    },
    "collapsed": false
   },
   "outputs": [
    {
     "data": {
      "text/plain": [
       "0.020092330025650584"
      ]
     },
     "execution_count": 62,
     "metadata": {},
     "output_type": "execute_result"
    }
   ],
   "source": [
    "lr_finder.get_best_lr()"
   ]
  },
  {
   "cell_type": "code",
   "execution_count": 63,
   "id": "997a3bd0f2e80ca9",
   "metadata": {
    "ExecuteTime": {
     "end_time": "2023-10-08T17:33:50.703519Z",
     "start_time": "2023-10-08T17:33:50.688368Z"
    },
    "collapsed": false
   },
   "outputs": [],
   "source": [
    "model.optimizer.set_lr(0.01)"
   ]
  },
  {
   "cell_type": "code",
   "execution_count": 64,
   "id": "f7778d432578fe16",
   "metadata": {
    "ExecuteTime": {
     "end_time": "2023-10-08T17:40:00.976817Z",
     "start_time": "2023-10-08T17:34:00.332162Z"
    },
    "collapsed": false
   },
   "outputs": [
    {
     "name": "stdout",
     "output_type": "stream",
     "text": [
      "0:\t[45s / 45s],\t\ttrain_loss: 0.6181,\tval_loss: 0.5872\n",
      "1:\t[42s / 1m:28s],\t\ttrain_loss: 0.5915,\tval_loss: 0.5857\n",
      "2:\t[46s / 2m:14s],\t\ttrain_loss: 0.5863,\tval_loss: 0.5799\n",
      "3:\t[44s / 2m:59s],\t\ttrain_loss: 0.5837,\tval_loss: 0.5786\n",
      "4:\t[42s / 3m:41s],\t\ttrain_loss: 0.5816,\tval_loss: 0.5775\n",
      "5:\t[40s / 4m:21s],\t\ttrain_loss: 0.5801,\tval_loss: 0.5732\n",
      "6:\t[40s / 5m:2s],\t\ttrain_loss: 0.5791,\tval_loss: 0.5775\n",
      "7:\t[40s / 5m:43s],\t\ttrain_loss: 0.5786,\tval_loss: 0.5731\n",
      "8:\t[40s / 6m:23s],\t\ttrain_loss: 0.5783,\tval_loss: 0.5721\n",
      "9:\t[40s / 7m:4s],\t\ttrain_loss: 0.5776,\tval_loss: 0.5684\n",
      "10:\t[40s / 7m:44s],\t\ttrain_loss: 0.5770,\tval_loss: 0.5723\n",
      "11:\t[41s / 8m:25s],\t\ttrain_loss: 0.5765,\tval_loss: 0.5704\n",
      "12:\t[41s / 9m:7s],\t\ttrain_loss: 0.5763,\tval_loss: 0.5674\n",
      "13:\t[41s / 9m:48s],\t\ttrain_loss: 0.5759,\tval_loss: 0.5713\n",
      "14:\t[41s / 10m:29s],\t\ttrain_loss: 0.5757,\tval_loss: 0.5647\n",
      "15:\t[40s / 11m:10s],\t\ttrain_loss: 0.5756,\tval_loss: 0.5687\n",
      "16:\t[41s / 11m:51s],\t\ttrain_loss: 0.5753,\tval_loss: 0.5754\n",
      "17:\t[42s / 12m:33s],\t\ttrain_loss: 0.5751,\tval_loss: 0.5753\n",
      "18:\t[44s / 13m:18s],\t\ttrain_loss: 0.5748,\tval_loss: 0.5696\n",
      "19:\t[41s / 14m:0s],\t\ttrain_loss: 0.5748,\tval_loss: 0.5682\n",
      "20:\t[47s / 14m:47s],\t\ttrain_loss: 0.5747,\tval_loss: 0.5729\n",
      "21:\t[55s / 15m:42s],\t\ttrain_loss: 0.5747,\tval_loss: 0.5633\n",
      "22:\t[54s / 16m:37s],\t\ttrain_loss: 0.5747,\tval_loss: 0.5745\n",
      "23:\t[42s / 17m:20s],\t\ttrain_loss: 0.5746,\tval_loss: 0.5668\n",
      "24:\t[46s / 18m:6s],\t\ttrain_loss: 0.5745,\tval_loss: 0.5739\n",
      "25:\t[44s / 18m:51s],\t\ttrain_loss: 0.5739,\tval_loss: 0.5671\n",
      "26:\t[46s / 19m:37s],\t\ttrain_loss: 0.5740,\tval_loss: 0.5649\n",
      "27:\t[43s / 20m:20s],\t\ttrain_loss: 0.5738,\tval_loss: 0.5627\n",
      "28:\t[42s / 21m:2s],\t\ttrain_loss: 0.5738,\tval_loss: 0.5626\n",
      "29:\t[42s / 21m:45s],\t\ttrain_loss: 0.5733,\tval_loss: 0.5615\n",
      "30:\t[40s / 22m:26s],\t\ttrain_loss: 0.5731,\tval_loss: 0.5600\n",
      "31:\t[40s / 23m:6s],\t\ttrain_loss: 0.5729,\tval_loss: 0.5678\n",
      "32:\t[40s / 23m:47s],\t\ttrain_loss: 0.5727,\tval_loss: 0.5642\n",
      "33:\t[40s / 24m:28s],\t\ttrain_loss: 0.5729,\tval_loss: 0.5697\n",
      "34:\t[40s / 25m:8s],\t\ttrain_loss: 0.5725,\tval_loss: 0.5678\n",
      "35:\t[42s / 25m:51s],\t\ttrain_loss: 0.5726,\tval_loss: 0.5734\n",
      "36:\t[41s / 26m:33s],\t\ttrain_loss: 0.5726,\tval_loss: 0.5724\n",
      "37:\t[40s / 27m:14s],\t\ttrain_loss: 0.5724,\tval_loss: 0.5713\n",
      "38:\t[40s / 27m:55s],\t\ttrain_loss: 0.5723,\tval_loss: 0.5671\n",
      "39:\t[40s / 28m:35s],\t\ttrain_loss: 0.5723,\tval_loss: 0.5653\n",
      "40:\t[39s / 29m:14s],\t\ttrain_loss: 0.5724,\tval_loss: 0.5630\n"
     ]
    }
   ],
   "source": [
    "epochs = 100\n",
    "callbacks = [tt.callbacks.EarlyStopping()]\n",
    "log = model.fit(x_train, y_train, batch_size, epochs, callbacks, val_data=val)"
   ]
  },
  {
   "cell_type": "code",
   "execution_count": 17,
   "id": "d3c583423f3c0c5b",
   "metadata": {
    "ExecuteTime": {
     "end_time": "2023-10-08T17:40:06.480715Z",
     "start_time": "2023-10-08T17:40:06.396432Z"
    },
    "collapsed": false
   },
   "outputs": [
    {
     "data": {
      "image/png": "[encoded data removed]",
      "text/plain": [
       "<Figure size 640x480 with 1 Axes>"
      ]
     },
     "metadata": {},
     "output_type": "display_data"
    }
   ],
   "source": [
    "_ = log.plot()"
   ]
  },
  {
   "cell_type": "code",
   "execution_count": 23,
   "id": "8c5169ab134a0520",
   "metadata": {
    "ExecuteTime": {
     "end_time": "2023-10-08T17:40:18.728797Z",
     "start_time": "2023-10-08T17:40:18.595632Z"
    },
    "collapsed": false
   },
   "outputs": [
    {
     "data": {
      "image/png": "[encoded data removed]",
      "text/plain": [
       "<Figure size 640x480 with 1 Axes>"
      ]
     },
     "metadata": {},
     "output_type": "display_data"
    }
   ],
   "source": [
    "import matplotlib.pyplot as plt\n",
    "surv = model.predict_surv_df(x_test)\n",
    "surv.iloc[:, :5].plot(drawstyle='steps-post')\n",
    "plt.ylabel('S(t | x)')\n",
    "_ = plt.xlabel('Time')"
   ]
  },
  {
   "cell_type": "code",
   "execution_count": 24,
   "id": "5c7a99e3bf403b3",
   "metadata": {
    "ExecuteTime": {
     "end_time": "2023-10-08T17:40:28.758499Z",
     "start_time": "2023-10-08T17:40:28.702106Z"
    },
    "collapsed": false
   },
   "outputs": [],
   "source": [
    "surv = model.interpolate(10).predict_surv_df(x_test)"
   ]
  },
  {
   "cell_type": "code",
   "execution_count": 25,
   "id": "6357a04b51ad92e",
   "metadata": {
    "ExecuteTime": {
     "end_time": "2023-10-08T17:40:28.949909Z",
     "start_time": "2023-10-08T17:40:28.873241Z"
    },
    "collapsed": false
   },
   "outputs": [
    {
     "data": {
      "image/png": "[encoded data removed]",
      "text/plain": [
       "<Figure size 640x480 with 1 Axes>"
      ]
     },
     "metadata": {},
     "output_type": "display_data"
    }
   ],
   "source": [
    "surv.iloc[:, :5].plot(drawstyle='steps-post')\n",
    "plt.ylabel('S(t | x)')\n",
    "_ = plt.xlabel('Time')"
   ]
  },
  {
   "cell_type": "markdown",
   "id": "abe118cc",
   "metadata": {},
   "source": [
    "ROC AUC"
   ]
  },
  {
   "cell_type": "code",
   "execution_count": 65,
   "id": "496f0377",
   "metadata": {},
   "outputs": [
    {
     "data": {
      "text/plain": [
       "(10, 235883)"
      ]
     },
     "execution_count": 65,
     "metadata": {},
     "output_type": "execute_result"
    }
   ],
   "source": [
    "from sklearn.metrics import roc_auc_score, accuracy_score, recall_score, precision_score, f1_score, confusion_matrix\n",
    "surv = model.predict_surv_df(x_test)\n",
    "surv.shape"
   ]
  },
  {
   "cell_type": "code",
   "execution_count": 66,
   "metadata": {},
   "outputs": [],
   "source": [
    "test_pred = np.array(surv.iloc[9])\n",
    "test_pred_binary = np.round(test_pred).astype(int)\n",
    "test_true = df_test['Default'].to_numpy().astype(int)"
   ]
  },
  {
   "cell_type": "code",
   "execution_count": 67,
   "id": "684c9117",
   "metadata": {},
   "outputs": [
    {
     "name": "stderr",
     "output_type": "stream",
     "text": [
      "/Library/Frameworks/Python.framework/Versions/3.8/lib/python3.8/site-packages/sklearn/metrics/_classification.py:1469: UndefinedMetricWarning: Precision is ill-defined and being set to 0.0 due to no predicted samples. Use `zero_division` parameter to control this behavior.\n",
      "  _warn_prf(average, modifier, msg_start, len(result))\n"
     ]
    },
    {
     "name": "stdout",
     "output_type": "stream",
     "text": [
      "Accuracy: 0.992212240814302\n",
      "Recall: 0.0\n",
      "Precision: 0.0\n",
      "F1 Score: 0.0\n",
      "AUC: 0.6764333315434816\n"
     ]
    }
   ],
   "source": [
    "accuracy = accuracy_score(test_true, test_pred_binary)\n",
    "recall = recall_score(test_true, test_pred_binary)\n",
    "precision = precision_score(test_true, test_pred_binary)\n",
    "f1 = f1_score(test_true, test_pred_binary)\n",
    "auc = roc_auc_score(df_test['Default'], test_pred)\n",
    "confusion = confusion_matrix(test_true, test_pred_binary)\n",
    "\n",
    "print('Accuracy:', accuracy)\n",
    "print('Recall:', recall)\n",
    "print('Precision:', precision)\n",
    "print('F1 Score:', f1)\n",
    "print('AUC:', auc)"
   ]
  },
  {
   "cell_type": "markdown",
   "id": "55a74390",
   "metadata": {},
   "source": [
    "Concordance Index"
   ]
  },
  {
   "cell_type": "code",
   "execution_count": 68,
   "id": "9fdeba41fa93267e",
   "metadata": {
    "ExecuteTime": {
     "end_time": "2023-10-08T17:40:40.469337Z",
     "start_time": "2023-10-08T17:40:36.441416Z"
    },
    "collapsed": false
   },
   "outputs": [],
   "source": [
    "ev = EvalSurv(surv, durations_test, events_test.astype(int), censor_surv='km')"
   ]
  },
  {
   "cell_type": "code",
   "execution_count": null,
   "id": "342c928065f3be58",
   "metadata": {
    "ExecuteTime": {
     "end_time": "2023-10-08T17:40:47.140884Z",
     "start_time": "2023-10-08T17:40:40.471797Z"
    },
    "collapsed": false
   },
   "outputs": [],
   "source": [
    "ev.concordance_td('antolini')"
   ]
  },
  {
   "cell_type": "code",
   "execution_count": null,
   "metadata": {},
   "outputs": [],
   "source": []
  }
 ],
 "metadata": {
  "kernelspec": {
   "display_name": "Python 3",
   "language": "python",
   "name": "python3"
  },
  "language_info": {
   "codemirror_mode": {
    "name": "ipython",
    "version": 3
   },
   "file_extension": ".py",
   "mimetype": "text/x-python",
   "name": "python",
   "nbconvert_exporter": "python",
   "pygments_lexer": "ipython3",
   "version": "3.8.10"
  }
 },
 "nbformat": 4,
 "nbformat_minor": 5
}
