{
 "cells": [
  {
   "cell_type": "code",
   "execution_count": 2,
   "id": "f3613817249df26d",
   "metadata": {
    "ExecuteTime": {
     "end_time": "2023-10-08T17:28:52.011999Z",
     "start_time": "2023-10-08T17:28:51.850716Z"
    },
    "collapsed": false
   },
   "outputs": [
    {
     "data": {
      "text/html": [
       "<div>\n",
       "<style scoped>\n",
       "    .dataframe tbody tr th:only-of-type {\n",
       "        vertical-align: middle;\n",
       "    }\n",
       "\n",
       "    .dataframe tbody tr th {\n",
       "        vertical-align: top;\n",
       "    }\n",
       "\n",
       "    .dataframe thead th {\n",
       "        text-align: right;\n",
       "    }\n",
       "</style>\n",
       "<table border=\"1\" class=\"dataframe\">\n",
       "  <thead>\n",
       "    <tr style=\"text-align: right;\">\n",
       "      <th></th>\n",
       "      <th>CompNo</th>\n",
       "      <th>year</th>\n",
       "      <th>month</th>\n",
       "      <th>StkIndx</th>\n",
       "      <th>STInt</th>\n",
       "      <th>dtdlevel</th>\n",
       "      <th>dtdtrend</th>\n",
       "      <th>liqnonfinlevel</th>\n",
       "      <th>liqnonfintrend</th>\n",
       "      <th>ni2talevel</th>\n",
       "      <th>...</th>\n",
       "      <th>day_sales_outstanding</th>\n",
       "      <th>working_capital_turnover</th>\n",
       "      <th>price_to_earnings</th>\n",
       "      <th>dividend_payout_ratio</th>\n",
       "      <th>retention_ratio</th>\n",
       "      <th>gross_margin_ratio</th>\n",
       "      <th>operating_profit_margin</th>\n",
       "      <th>ebitda_margin</th>\n",
       "      <th>debt_service_coverage_ratio</th>\n",
       "      <th>interest_coverage_ratio</th>\n",
       "    </tr>\n",
       "  </thead>\n",
       "  <tbody>\n",
       "    <tr>\n",
       "      <th>0</th>\n",
       "      <td>42404</td>\n",
       "      <td>2000.0</td>\n",
       "      <td>1</td>\n",
       "      <td>0.089239</td>\n",
       "      <td>0.011089</td>\n",
       "      <td>0.677551</td>\n",
       "      <td>0.332808</td>\n",
       "      <td>1.411466</td>\n",
       "      <td>0.027249</td>\n",
       "      <td>-0.148249</td>\n",
       "      <td>...</td>\n",
       "      <td>197946.597222</td>\n",
       "      <td>0.000000</td>\n",
       "      <td>-5.000000</td>\n",
       "      <td>-0.0</td>\n",
       "      <td>1.0</td>\n",
       "      <td>-5.251700e+06</td>\n",
       "      <td>-2.189250e+07</td>\n",
       "      <td>-2.185540e+07</td>\n",
       "      <td>-149041.103448</td>\n",
       "      <td>-297211.000000</td>\n",
       "    </tr>\n",
       "    <tr>\n",
       "      <th>1</th>\n",
       "      <td>37610</td>\n",
       "      <td>2000.0</td>\n",
       "      <td>1</td>\n",
       "      <td>0.089239</td>\n",
       "      <td>0.011089</td>\n",
       "      <td>0.087376</td>\n",
       "      <td>-0.524732</td>\n",
       "      <td>0.906364</td>\n",
       "      <td>-0.071829</td>\n",
       "      <td>0.000292</td>\n",
       "      <td>...</td>\n",
       "      <td>190.722132</td>\n",
       "      <td>2.177571</td>\n",
       "      <td>-1.220833</td>\n",
       "      <td>0.0</td>\n",
       "      <td>1.0</td>\n",
       "      <td>2.498284e+01</td>\n",
       "      <td>-7.402171e+01</td>\n",
       "      <td>-6.856532e+01</td>\n",
       "      <td>-0.904380</td>\n",
       "      <td>1.490291</td>\n",
       "    </tr>\n",
       "    <tr>\n",
       "      <th>2</th>\n",
       "      <td>49536</td>\n",
       "      <td>2000.0</td>\n",
       "      <td>1</td>\n",
       "      <td>0.313050</td>\n",
       "      <td>0.007314</td>\n",
       "      <td>3.693176</td>\n",
       "      <td>0.625516</td>\n",
       "      <td>1.872712</td>\n",
       "      <td>1.010148</td>\n",
       "      <td>-0.069998</td>\n",
       "      <td>...</td>\n",
       "      <td>0.000000</td>\n",
       "      <td>0.036899</td>\n",
       "      <td>-78.333333</td>\n",
       "      <td>-0.0</td>\n",
       "      <td>1.0</td>\n",
       "      <td>7.542644e+01</td>\n",
       "      <td>-2.309701e+02</td>\n",
       "      <td>-1.503731e+02</td>\n",
       "      <td>-11.081841</td>\n",
       "      <td>-430.222222</td>\n",
       "    </tr>\n",
       "    <tr>\n",
       "      <th>3</th>\n",
       "      <td>32417</td>\n",
       "      <td>2000.0</td>\n",
       "      <td>1</td>\n",
       "      <td>0.089239</td>\n",
       "      <td>0.011089</td>\n",
       "      <td>6.165654</td>\n",
       "      <td>0.863910</td>\n",
       "      <td>1.275166</td>\n",
       "      <td>0.184606</td>\n",
       "      <td>0.013360</td>\n",
       "      <td>...</td>\n",
       "      <td>269.176235</td>\n",
       "      <td>0.551135</td>\n",
       "      <td>66.510333</td>\n",
       "      <td>0.0</td>\n",
       "      <td>1.0</td>\n",
       "      <td>5.234158e+01</td>\n",
       "      <td>-2.327468e+01</td>\n",
       "      <td>-1.952816e+01</td>\n",
       "      <td>-395.933333</td>\n",
       "      <td>777.750000</td>\n",
       "    </tr>\n",
       "    <tr>\n",
       "      <th>4</th>\n",
       "      <td>44933</td>\n",
       "      <td>2000.0</td>\n",
       "      <td>1</td>\n",
       "      <td>0.089239</td>\n",
       "      <td>0.011089</td>\n",
       "      <td>0.629410</td>\n",
       "      <td>-0.874122</td>\n",
       "      <td>0.000000</td>\n",
       "      <td>0.000000</td>\n",
       "      <td>0.004436</td>\n",
       "      <td>...</td>\n",
       "      <td>0.000000</td>\n",
       "      <td>-2.766467</td>\n",
       "      <td>19.196429</td>\n",
       "      <td>0.0</td>\n",
       "      <td>1.0</td>\n",
       "      <td>7.495250e+01</td>\n",
       "      <td>3.133312e+01</td>\n",
       "      <td>4.316023e+01</td>\n",
       "      <td>0.020216</td>\n",
       "      <td>2.013002</td>\n",
       "    </tr>\n",
       "  </tbody>\n",
       "</table>\n",
       "<p>5 rows × 52 columns</p>\n",
       "</div>"
      ],
      "text/plain": [
       "   CompNo    year  month   StkIndx     STInt  dtdlevel  dtdtrend  \\\n",
       "0   42404  2000.0      1  0.089239  0.011089  0.677551  0.332808   \n",
       "1   37610  2000.0      1  0.089239  0.011089  0.087376 -0.524732   \n",
       "2   49536  2000.0      1  0.313050  0.007314  3.693176  0.625516   \n",
       "3   32417  2000.0      1  0.089239  0.011089  6.165654  0.863910   \n",
       "4   44933  2000.0      1  0.089239  0.011089  0.629410 -0.874122   \n",
       "\n",
       "   liqnonfinlevel  liqnonfintrend  ni2talevel  ...  day_sales_outstanding  \\\n",
       "0        1.411466        0.027249   -0.148249  ...          197946.597222   \n",
       "1        0.906364       -0.071829    0.000292  ...             190.722132   \n",
       "2        1.872712        1.010148   -0.069998  ...               0.000000   \n",
       "3        1.275166        0.184606    0.013360  ...             269.176235   \n",
       "4        0.000000        0.000000    0.004436  ...               0.000000   \n",
       "\n",
       "   working_capital_turnover  price_to_earnings  dividend_payout_ratio  \\\n",
       "0                  0.000000          -5.000000                   -0.0   \n",
       "1                  2.177571          -1.220833                    0.0   \n",
       "2                  0.036899         -78.333333                   -0.0   \n",
       "3                  0.551135          66.510333                    0.0   \n",
       "4                 -2.766467          19.196429                    0.0   \n",
       "\n",
       "   retention_ratio  gross_margin_ratio  operating_profit_margin  \\\n",
       "0              1.0       -5.251700e+06            -2.189250e+07   \n",
       "1              1.0        2.498284e+01            -7.402171e+01   \n",
       "2              1.0        7.542644e+01            -2.309701e+02   \n",
       "3              1.0        5.234158e+01            -2.327468e+01   \n",
       "4              1.0        7.495250e+01             3.133312e+01   \n",
       "\n",
       "   ebitda_margin  debt_service_coverage_ratio  interest_coverage_ratio  \n",
       "0  -2.185540e+07               -149041.103448           -297211.000000  \n",
       "1  -6.856532e+01                    -0.904380                 1.490291  \n",
       "2  -1.503731e+02                   -11.081841              -430.222222  \n",
       "3  -1.952816e+01                  -395.933333               777.750000  \n",
       "4   4.316023e+01                     0.020216                 2.013002  \n",
       "\n",
       "[5 rows x 52 columns]"
      ]
     },
     "execution_count": 2,
     "metadata": {},
     "output_type": "execute_result"
    }
   ],
   "source": [
    "import pandas as pd\n",
    "df = pd.read_pickle(\"../cri_compustat_merged_v8.pkl\")\n",
    "df.head()"
   ]
  },
  {
   "cell_type": "code",
   "execution_count": 3,
   "id": "71bcb43fa9002a07",
   "metadata": {
    "ExecuteTime": {
     "end_time": "2023-10-08T17:28:52.521522Z",
     "start_time": "2023-10-08T17:28:52.486498Z"
    },
    "collapsed": false
   },
   "outputs": [
    {
     "data": {
      "text/html": [
       "<div>\n",
       "<style scoped>\n",
       "    .dataframe tbody tr th:only-of-type {\n",
       "        vertical-align: middle;\n",
       "    }\n",
       "\n",
       "    .dataframe tbody tr th {\n",
       "        vertical-align: top;\n",
       "    }\n",
       "\n",
       "    .dataframe thead th {\n",
       "        text-align: right;\n",
       "    }\n",
       "</style>\n",
       "<table border=\"1\" class=\"dataframe\">\n",
       "  <thead>\n",
       "    <tr style=\"text-align: right;\">\n",
       "      <th></th>\n",
       "      <th>StkIndx</th>\n",
       "      <th>STInt</th>\n",
       "      <th>dtdlevel</th>\n",
       "      <th>dtdtrend</th>\n",
       "      <th>liqnonfinlevel</th>\n",
       "      <th>liqnonfintrend</th>\n",
       "      <th>ni2talevel</th>\n",
       "      <th>ni2tatrend</th>\n",
       "      <th>sizelevel</th>\n",
       "      <th>sizetrend</th>\n",
       "      <th>...</th>\n",
       "      <th>day_sales_outstanding</th>\n",
       "      <th>working_capital_turnover</th>\n",
       "      <th>price_to_earnings</th>\n",
       "      <th>dividend_payout_ratio</th>\n",
       "      <th>retention_ratio</th>\n",
       "      <th>gross_margin_ratio</th>\n",
       "      <th>operating_profit_margin</th>\n",
       "      <th>ebitda_margin</th>\n",
       "      <th>debt_service_coverage_ratio</th>\n",
       "      <th>interest_coverage_ratio</th>\n",
       "    </tr>\n",
       "  </thead>\n",
       "  <tbody>\n",
       "    <tr>\n",
       "      <th>0</th>\n",
       "      <td>0.089239</td>\n",
       "      <td>0.011089</td>\n",
       "      <td>0.677551</td>\n",
       "      <td>0.332808</td>\n",
       "      <td>1.411466</td>\n",
       "      <td>0.027249</td>\n",
       "      <td>-0.148249</td>\n",
       "      <td>0.079108</td>\n",
       "      <td>-5.559146</td>\n",
       "      <td>1.222586</td>\n",
       "      <td>...</td>\n",
       "      <td>197946.597222</td>\n",
       "      <td>0.000000</td>\n",
       "      <td>-5.000000</td>\n",
       "      <td>-0.0</td>\n",
       "      <td>1.0</td>\n",
       "      <td>-5.251700e+06</td>\n",
       "      <td>-2.189250e+07</td>\n",
       "      <td>-2.185540e+07</td>\n",
       "      <td>-149041.103448</td>\n",
       "      <td>-297211.000000</td>\n",
       "    </tr>\n",
       "    <tr>\n",
       "      <th>1</th>\n",
       "      <td>0.089239</td>\n",
       "      <td>0.011089</td>\n",
       "      <td>0.087376</td>\n",
       "      <td>-0.524732</td>\n",
       "      <td>0.906364</td>\n",
       "      <td>-0.071829</td>\n",
       "      <td>0.000292</td>\n",
       "      <td>0.000139</td>\n",
       "      <td>-2.027446</td>\n",
       "      <td>-0.648054</td>\n",
       "      <td>...</td>\n",
       "      <td>190.722132</td>\n",
       "      <td>2.177571</td>\n",
       "      <td>-1.220833</td>\n",
       "      <td>0.0</td>\n",
       "      <td>1.0</td>\n",
       "      <td>2.498284e+01</td>\n",
       "      <td>-7.402171e+01</td>\n",
       "      <td>-6.856532e+01</td>\n",
       "      <td>-0.904380</td>\n",
       "      <td>1.490291</td>\n",
       "    </tr>\n",
       "    <tr>\n",
       "      <th>2</th>\n",
       "      <td>0.313050</td>\n",
       "      <td>0.007314</td>\n",
       "      <td>3.693176</td>\n",
       "      <td>0.625516</td>\n",
       "      <td>1.872712</td>\n",
       "      <td>1.010148</td>\n",
       "      <td>-0.069998</td>\n",
       "      <td>0.038957</td>\n",
       "      <td>1.492078</td>\n",
       "      <td>1.699079</td>\n",
       "      <td>...</td>\n",
       "      <td>0.000000</td>\n",
       "      <td>0.036899</td>\n",
       "      <td>-78.333333</td>\n",
       "      <td>-0.0</td>\n",
       "      <td>1.0</td>\n",
       "      <td>7.542644e+01</td>\n",
       "      <td>-2.309701e+02</td>\n",
       "      <td>-1.503731e+02</td>\n",
       "      <td>-11.081841</td>\n",
       "      <td>-430.222222</td>\n",
       "    </tr>\n",
       "    <tr>\n",
       "      <th>3</th>\n",
       "      <td>0.089239</td>\n",
       "      <td>0.011089</td>\n",
       "      <td>6.165654</td>\n",
       "      <td>0.863910</td>\n",
       "      <td>1.275166</td>\n",
       "      <td>0.184606</td>\n",
       "      <td>0.013360</td>\n",
       "      <td>0.000300</td>\n",
       "      <td>0.249383</td>\n",
       "      <td>0.328536</td>\n",
       "      <td>...</td>\n",
       "      <td>269.176235</td>\n",
       "      <td>0.551135</td>\n",
       "      <td>66.510333</td>\n",
       "      <td>0.0</td>\n",
       "      <td>1.0</td>\n",
       "      <td>5.234158e+01</td>\n",
       "      <td>-2.327468e+01</td>\n",
       "      <td>-1.952816e+01</td>\n",
       "      <td>-395.933333</td>\n",
       "      <td>777.750000</td>\n",
       "    </tr>\n",
       "    <tr>\n",
       "      <th>4</th>\n",
       "      <td>0.089239</td>\n",
       "      <td>0.011089</td>\n",
       "      <td>0.629410</td>\n",
       "      <td>-0.874122</td>\n",
       "      <td>0.000000</td>\n",
       "      <td>0.000000</td>\n",
       "      <td>0.004436</td>\n",
       "      <td>-0.007812</td>\n",
       "      <td>-2.133248</td>\n",
       "      <td>-0.210920</td>\n",
       "      <td>...</td>\n",
       "      <td>0.000000</td>\n",
       "      <td>-2.766467</td>\n",
       "      <td>19.196429</td>\n",
       "      <td>0.0</td>\n",
       "      <td>1.0</td>\n",
       "      <td>7.495250e+01</td>\n",
       "      <td>3.133312e+01</td>\n",
       "      <td>4.316023e+01</td>\n",
       "      <td>0.020216</td>\n",
       "      <td>2.013002</td>\n",
       "    </tr>\n",
       "  </tbody>\n",
       "</table>\n",
       "<p>5 rows × 44 columns</p>\n",
       "</div>"
      ],
      "text/plain": [
       "    StkIndx     STInt  dtdlevel  dtdtrend  liqnonfinlevel  liqnonfintrend  \\\n",
       "0  0.089239  0.011089  0.677551  0.332808        1.411466        0.027249   \n",
       "1  0.089239  0.011089  0.087376 -0.524732        0.906364       -0.071829   \n",
       "2  0.313050  0.007314  3.693176  0.625516        1.872712        1.010148   \n",
       "3  0.089239  0.011089  6.165654  0.863910        1.275166        0.184606   \n",
       "4  0.089239  0.011089  0.629410 -0.874122        0.000000        0.000000   \n",
       "\n",
       "   ni2talevel  ni2tatrend  sizelevel  sizetrend  ...  day_sales_outstanding  \\\n",
       "0   -0.148249    0.079108  -5.559146   1.222586  ...          197946.597222   \n",
       "1    0.000292    0.000139  -2.027446  -0.648054  ...             190.722132   \n",
       "2   -0.069998    0.038957   1.492078   1.699079  ...               0.000000   \n",
       "3    0.013360    0.000300   0.249383   0.328536  ...             269.176235   \n",
       "4    0.004436   -0.007812  -2.133248  -0.210920  ...               0.000000   \n",
       "\n",
       "   working_capital_turnover  price_to_earnings  dividend_payout_ratio  \\\n",
       "0                  0.000000          -5.000000                   -0.0   \n",
       "1                  2.177571          -1.220833                    0.0   \n",
       "2                  0.036899         -78.333333                   -0.0   \n",
       "3                  0.551135          66.510333                    0.0   \n",
       "4                 -2.766467          19.196429                    0.0   \n",
       "\n",
       "   retention_ratio  gross_margin_ratio  operating_profit_margin ebitda_margin  \\\n",
       "0              1.0       -5.251700e+06            -2.189250e+07 -2.185540e+07   \n",
       "1              1.0        2.498284e+01            -7.402171e+01 -6.856532e+01   \n",
       "2              1.0        7.542644e+01            -2.309701e+02 -1.503731e+02   \n",
       "3              1.0        5.234158e+01            -2.327468e+01 -1.952816e+01   \n",
       "4              1.0        7.495250e+01             3.133312e+01  4.316023e+01   \n",
       "\n",
       "  debt_service_coverage_ratio interest_coverage_ratio  \n",
       "0              -149041.103448          -297211.000000  \n",
       "1                   -0.904380                1.490291  \n",
       "2                  -11.081841             -430.222222  \n",
       "3                 -395.933333              777.750000  \n",
       "4                    0.020216                2.013002  \n",
       "\n",
       "[5 rows x 44 columns]"
      ]
     },
     "execution_count": 3,
     "metadata": {},
     "output_type": "execute_result"
    }
   ],
   "source": [
    "# Unnecessary cols\n",
    "labels_to_drop = [\n",
    "    'CompNo',\n",
    "    'year',\n",
    "    'month',\n",
    "    'gvkey',\n",
    "    'tic',\n",
    "    'day',\n",
    "    'date',\n",
    "    'dummy297fin'\n",
    "]\n",
    "df = df.drop(labels_to_drop, axis=1)\n",
    "df.head()"
   ]
  },
  {
   "cell_type": "code",
   "execution_count": 4,
   "id": "79433721",
   "metadata": {},
   "outputs": [
    {
     "name": "stdout",
     "output_type": "stream",
     "text": [
      "1.4.4\n"
     ]
    }
   ],
   "source": [
    "print(pd.__version__)"
   ]
  },
  {
   "cell_type": "code",
   "execution_count": 5,
   "id": "81df254d2579d497",
   "metadata": {
    "ExecuteTime": {
     "end_time": "2023-10-08T17:28:53.504858Z",
     "start_time": "2023-10-08T17:28:53.174008Z"
    },
    "collapsed": false
   },
   "outputs": [
    {
     "data": {
      "text/plain": [
       "0    1170092\n",
       "1       9322\n",
       "Name: Default, dtype: int64"
      ]
     },
     "execution_count": 5,
     "metadata": {},
     "output_type": "execute_result"
    }
   ],
   "source": [
    "# Format Event Type col\n",
    "#df = df[df['EventType'] != 2]\n",
    "df['Default'] = df['Default'].apply(lambda x: '1' if x == 1 else '0')\n",
    "df['Default'].value_counts()"
   ]
  },
  {
   "cell_type": "code",
   "execution_count": 6,
   "id": "317b71c192384fe1",
   "metadata": {
    "ExecuteTime": {
     "end_time": "2023-10-08T17:28:54.543437Z",
     "start_time": "2023-10-08T17:28:53.642412Z"
    },
    "collapsed": false
   },
   "outputs": [],
   "source": [
    "# Format Duration col\n",
    "df['Duration'] = df['Duration'].astype(str)\n",
    "df['Duration'] = df['Duration'].str.replace(r'\\s', '', regex=True)\n",
    "df['Duration'] = df['Duration'].str.split('days').str[0]\n",
    "df['Duration'] = df['Duration'].astype('float32')"
   ]
  },
  {
   "cell_type": "code",
   "execution_count": 7,
   "id": "4801a6bae1f46da5",
   "metadata": {
    "ExecuteTime": {
     "end_time": "2023-10-08T17:29:22.103999Z",
     "start_time": "2023-10-08T17:29:22.092346Z"
    },
    "collapsed": false
   },
   "outputs": [],
   "source": [
    "from pycox.models import DeepHitSingle\n",
    "from pycox.evaluation import EvalSurv\n",
    "import numpy as np\n",
    "import torchtuples as tt"
   ]
  },
  {
   "cell_type": "code",
   "execution_count": 8,
   "id": "c59b22b3ae4bdae8",
   "metadata": {
    "ExecuteTime": {
     "end_time": "2023-10-08T17:29:22.823915Z",
     "start_time": "2023-10-08T17:29:22.446920Z"
    },
    "collapsed": false
   },
   "outputs": [],
   "source": [
    "# Split into train,test, validation\n",
    "df_train = df\n",
    "df_test = df_train.sample(frac=0.2)\n",
    "df_train = df_train.drop(df_test.index)\n",
    "df_val = df_train.sample(frac=0.2)\n",
    "df_train = df_train.drop(df_val.index)"
   ]
  },
  {
   "cell_type": "code",
   "execution_count": 9,
   "id": "7d83eb0d0b6c21b3",
   "metadata": {
    "ExecuteTime": {
     "end_time": "2023-10-08T17:30:05.435952Z",
     "start_time": "2023-10-08T17:30:05.428221Z"
    },
    "collapsed": false
   },
   "outputs": [],
   "source": [
    "from sklearn.preprocessing import StandardScaler\n",
    "from sklearn_pandas import DataFrameMapper \n",
    "og_cols = df_train.columns.tolist()\n",
    "cols_standardize = [i for i in og_cols if i not in ['Duration', 'Default']]\n",
    "cols_leave =[]\n",
    "\n",
    "standardize = [([col], StandardScaler()) for col in cols_standardize]\n",
    "leave = [(col, None) for col in cols_leave]\n",
    "\n",
    "x_mapper = DataFrameMapper(standardize + leave)"
   ]
  },
  {
   "cell_type": "code",
   "execution_count": 10,
   "id": "97c388857cb5535f",
   "metadata": {
    "ExecuteTime": {
     "end_time": "2023-10-08T17:30:06.333443Z",
     "start_time": "2023-10-08T17:30:05.795429Z"
    },
    "collapsed": false
   },
   "outputs": [],
   "source": [
    "x_train = x_mapper.fit_transform(df_train).astype('float32')\n",
    "x_val = x_mapper.transform(df_val).astype('float32')\n",
    "x_test = x_mapper.transform(df_test).astype('float32')"
   ]
  },
  {
   "cell_type": "code",
   "execution_count": 11,
   "id": "b99853f728daf888",
   "metadata": {
    "ExecuteTime": {
     "end_time": "2023-10-08T17:30:06.439497Z",
     "start_time": "2023-10-08T17:30:06.335515Z"
    },
    "collapsed": false
   },
   "outputs": [],
   "source": [
    "# Discretize time column\n",
    "num_durations = 10\n",
    "\n",
    "labtrans = DeepHitSingle.label_transform(num_durations)\n",
    "\n",
    "get_target = lambda df: (df['Duration'].values, df['Default'].values)\n",
    "y_train = labtrans.fit_transform(*get_target(df_train))\n",
    "y_val = labtrans.transform(*get_target(df_val))\n",
    "\n",
    "train = (x_train, y_train)\n",
    "val = (x_val, y_val)\n",
    "\n",
    "# We don't need to transform the test labels\n",
    "durations_test, events_test = get_target(df_test)"
   ]
  },
  {
   "cell_type": "code",
   "execution_count": 12,
   "id": "6a3951d998736aa7",
   "metadata": {
    "ExecuteTime": {
     "end_time": "2023-10-08T17:32:58.297367Z",
     "start_time": "2023-10-08T17:32:58.292058Z"
    },
    "collapsed": false
   },
   "outputs": [],
   "source": [
    "in_features = x_train.shape[1]\n",
    "num_nodes = [32, 32]\n",
    "out_features = labtrans.out_features\n",
    "batch_norm = True\n",
    "dropout = 0.1\n",
    "\n",
    "net = tt.practical.MLPVanilla(in_features, num_nodes, out_features, batch_norm, dropout)\n",
    "model = DeepHitSingle(net, tt.optim.Adam, alpha=0.2, sigma=0.1, duration_index=labtrans.cuts)"
   ]
  },
  {
   "cell_type": "code",
   "execution_count": 13,
   "id": "52a2c6290d621102",
   "metadata": {
    "ExecuteTime": {
     "end_time": "2023-10-08T17:33:08.775816Z",
     "start_time": "2023-10-08T17:33:07.664793Z"
    },
    "collapsed": false
   },
   "outputs": [
    {
     "data": {
      "image/png": "[encoded data removed]",
      "text/plain": [
       "<Figure size 640x480 with 1 Axes>"
      ]
     },
     "metadata": {},
     "output_type": "display_data"
    }
   ],
   "source": [
    "batch_size = 256\n",
    "lr_finder = model.lr_finder(x_train, y_train, batch_size, tolerance=3)\n",
    "_ = lr_finder.plot()"
   ]
  },
  {
   "cell_type": "code",
   "execution_count": 14,
   "id": "b6c614e9eef34251",
   "metadata": {
    "ExecuteTime": {
     "end_time": "2023-10-08T17:33:18.306567Z",
     "start_time": "2023-10-08T17:33:18.296444Z"
    },
    "collapsed": false
   },
   "outputs": [
    {
     "data": {
      "text/plain": [
       "0.035111917342151515"
      ]
     },
     "execution_count": 14,
     "metadata": {},
     "output_type": "execute_result"
    }
   ],
   "source": [
    "lr_finder.get_best_lr()"
   ]
  },
  {
   "cell_type": "code",
   "execution_count": 15,
   "id": "997a3bd0f2e80ca9",
   "metadata": {
    "ExecuteTime": {
     "end_time": "2023-10-08T17:33:50.703519Z",
     "start_time": "2023-10-08T17:33:50.688368Z"
    },
    "collapsed": false
   },
   "outputs": [],
   "source": [
    "model.optimizer.set_lr(0.01)"
   ]
  },
  {
   "cell_type": "code",
   "execution_count": 16,
   "id": "f7778d432578fe16",
   "metadata": {
    "ExecuteTime": {
     "end_time": "2023-10-08T17:40:00.976817Z",
     "start_time": "2023-10-08T17:34:00.332162Z"
    },
    "collapsed": false
   },
   "outputs": [
    {
     "name": "stdout",
     "output_type": "stream",
     "text": [
      "0:\t[38s / 38s],\t\ttrain_loss: 0.1307,\tval_loss: 0.0639\n",
      "1:\t[38s / 1m:16s],\t\ttrain_loss: 0.0917,\tval_loss: 0.0487\n",
      "2:\t[35s / 1m:52s],\t\ttrain_loss: 0.0748,\tval_loss: 0.1094\n",
      "3:\t[35s / 2m:27s],\t\ttrain_loss: 0.0703,\tval_loss: 0.0375\n",
      "4:\t[34s / 3m:2s],\t\ttrain_loss: 0.0717,\tval_loss: 0.0431\n",
      "5:\t[34s / 3m:37s],\t\ttrain_loss: 0.0649,\tval_loss: 0.0274\n",
      "6:\t[34s / 4m:11s],\t\ttrain_loss: 0.0574,\tval_loss: 0.0525\n",
      "7:\t[34s / 4m:46s],\t\ttrain_loss: 0.0540,\tval_loss: 0.0394\n",
      "8:\t[34s / 5m:20s],\t\ttrain_loss: 0.0620,\tval_loss: 0.0417\n",
      "9:\t[34s / 5m:54s],\t\ttrain_loss: 0.0598,\tval_loss: 0.0296\n",
      "10:\t[34s / 6m:29s],\t\ttrain_loss: 0.0511,\tval_loss: 0.0285\n",
      "11:\t[34s / 7m:3s],\t\ttrain_loss: 0.0485,\tval_loss: 0.0215\n",
      "12:\t[34s / 7m:37s],\t\ttrain_loss: 0.0482,\tval_loss: 0.0347\n",
      "13:\t[34s / 8m:12s],\t\ttrain_loss: 0.0448,\tval_loss: 0.0257\n",
      "14:\t[34s / 8m:46s],\t\ttrain_loss: 0.0447,\tval_loss: 0.0326\n",
      "15:\t[34s / 9m:21s],\t\ttrain_loss: 0.0463,\tval_loss: 0.0263\n",
      "16:\t[34s / 9m:55s],\t\ttrain_loss: 0.0406,\tval_loss: 0.0309\n",
      "17:\t[34s / 10m:29s],\t\ttrain_loss: 0.0404,\tval_loss: 0.0201\n",
      "18:\t[32s / 11m:1s],\t\ttrain_loss: 0.0398,\tval_loss: 0.0189\n",
      "19:\t[32s / 11m:34s],\t\ttrain_loss: 0.0395,\tval_loss: 0.0203\n",
      "20:\t[32s / 12m:6s],\t\ttrain_loss: 0.0389,\tval_loss: 0.0244\n",
      "21:\t[32s / 12m:39s],\t\ttrain_loss: 0.0401,\tval_loss: 0.0188\n",
      "22:\t[32s / 13m:11s],\t\ttrain_loss: 0.0402,\tval_loss: 0.0190\n",
      "23:\t[32s / 13m:44s],\t\ttrain_loss: 0.0351,\tval_loss: 0.0223\n",
      "24:\t[32s / 14m:16s],\t\ttrain_loss: 0.0373,\tval_loss: 0.0160\n",
      "25:\t[32s / 14m:48s],\t\ttrain_loss: 0.0374,\tval_loss: 0.0196\n",
      "26:\t[32s / 15m:21s],\t\ttrain_loss: 0.0348,\tval_loss: 0.0212\n",
      "27:\t[53s / 16m:14s],\t\ttrain_loss: 0.0372,\tval_loss: 0.0194\n",
      "28:\t[2m:47s / 19m:1s],\t\ttrain_loss: 0.0355,\tval_loss: 0.0192\n",
      "29:\t[34s / 19m:36s],\t\ttrain_loss: 0.0390,\tval_loss: 0.0228\n",
      "30:\t[33s / 20m:9s],\t\ttrain_loss: 0.0339,\tval_loss: 0.0185\n",
      "31:\t[33s / 20m:43s],\t\ttrain_loss: 0.0381,\tval_loss: 0.0302\n",
      "32:\t[33s / 21m:16s],\t\ttrain_loss: 0.0340,\tval_loss: 0.0179\n",
      "33:\t[36s / 21m:53s],\t\ttrain_loss: 0.0337,\tval_loss: 0.0185\n",
      "34:\t[35s / 22m:28s],\t\ttrain_loss: 0.0319,\tval_loss: 0.0154\n",
      "35:\t[33s / 23m:2s],\t\ttrain_loss: 0.0341,\tval_loss: 0.0141\n",
      "36:\t[39s / 23m:41s],\t\ttrain_loss: 0.0351,\tval_loss: 0.0177\n",
      "37:\t[37s / 24m:19s],\t\ttrain_loss: 0.0344,\tval_loss: 0.0175\n",
      "38:\t[36s / 24m:56s],\t\ttrain_loss: 0.0342,\tval_loss: 0.0299\n",
      "39:\t[35s / 25m:31s],\t\ttrain_loss: 0.0310,\tval_loss: 0.0316\n",
      "40:\t[35s / 26m:6s],\t\ttrain_loss: 0.0306,\tval_loss: 0.0249\n",
      "41:\t[37s / 26m:44s],\t\ttrain_loss: 0.0301,\tval_loss: 0.0199\n",
      "42:\t[35s / 27m:20s],\t\ttrain_loss: 0.0318,\tval_loss: 0.0171\n",
      "43:\t[38s / 27m:59s],\t\ttrain_loss: 0.0308,\tval_loss: 0.0244\n",
      "44:\t[35s / 28m:34s],\t\ttrain_loss: 0.0308,\tval_loss: 0.0177\n",
      "45:\t[33s / 29m:8s],\t\ttrain_loss: 0.0312,\tval_loss: 0.0171\n"
     ]
    }
   ],
   "source": [
    "epochs = 100\n",
    "callbacks = [tt.callbacks.EarlyStopping()]\n",
    "log = model.fit(x_train, y_train, batch_size, epochs, callbacks, val_data=val)"
   ]
  },
  {
   "cell_type": "code",
   "execution_count": 17,
   "id": "d3c583423f3c0c5b",
   "metadata": {
    "ExecuteTime": {
     "end_time": "2023-10-08T17:40:06.480715Z",
     "start_time": "2023-10-08T17:40:06.396432Z"
    },
    "collapsed": false
   },
   "outputs": [
    {
     "data": {
      "image/png": "[encoded data removed]",
      "text/plain": [
       "<Figure size 640x480 with 1 Axes>"
      ]
     },
     "metadata": {},
     "output_type": "display_data"
    }
   ],
   "source": [
    "_ = log.plot()"
   ]
  },
  {
   "cell_type": "code",
   "execution_count": 23,
   "id": "8c5169ab134a0520",
   "metadata": {
    "ExecuteTime": {
     "end_time": "2023-10-08T17:40:18.728797Z",
     "start_time": "2023-10-08T17:40:18.595632Z"
    },
    "collapsed": false
   },
   "outputs": [
    {
     "data": {
      "image/png": "[encoded data removed]",
      "text/plain": [
       "<Figure size 640x480 with 1 Axes>"
      ]
     },
     "metadata": {},
     "output_type": "display_data"
    }
   ],
   "source": [
    "import matplotlib.pyplot as plt\n",
    "surv = model.predict_surv_df(x_test)\n",
    "surv.iloc[:, :5].plot(drawstyle='steps-post')\n",
    "plt.ylabel('S(t | x)')\n",
    "_ = plt.xlabel('Time')"
   ]
  },
  {
   "cell_type": "code",
   "execution_count": 24,
   "id": "5c7a99e3bf403b3",
   "metadata": {
    "ExecuteTime": {
     "end_time": "2023-10-08T17:40:28.758499Z",
     "start_time": "2023-10-08T17:40:28.702106Z"
    },
    "collapsed": false
   },
   "outputs": [],
   "source": [
    "surv = model.interpolate(10).predict_surv_df(x_test)"
   ]
  },
  {
   "cell_type": "code",
   "execution_count": 25,
   "id": "6357a04b51ad92e",
   "metadata": {
    "ExecuteTime": {
     "end_time": "2023-10-08T17:40:28.949909Z",
     "start_time": "2023-10-08T17:40:28.873241Z"
    },
    "collapsed": false
   },
   "outputs": [
    {
     "data": {
      "image/png": "[encoded data removed]",
      "text/plain": [
       "<Figure size 640x480 with 1 Axes>"
      ]
     },
     "metadata": {},
     "output_type": "display_data"
    }
   ],
   "source": [
    "surv.iloc[:, :5].plot(drawstyle='steps-post')\n",
    "plt.ylabel('S(t | x)')\n",
    "_ = plt.xlabel('Time')"
   ]
  },
  {
   "cell_type": "markdown",
   "id": "abe118cc",
   "metadata": {},
   "source": [
    "ROC AUC"
   ]
  },
  {
   "cell_type": "markdown",
   "id": "ee57eeeb",
   "metadata": {},
   "source": [
    "check the test_pred df to see if it has good results"
   ]
  },
  {
   "cell_type": "code",
   "execution_count": 17,
   "id": "496f0377",
   "metadata": {},
   "outputs": [
    {
     "data": {
      "text/plain": [
       "(10, 235883)"
      ]
     },
     "execution_count": 17,
     "metadata": {},
     "output_type": "execute_result"
    }
   ],
   "source": [
    "from sklearn.metrics import roc_auc_score, accuracy_score, recall_score, precision_score, f1_score, confusion_matrix\n",
    "surv = model.predict_surv_df(x_test)\n",
    "surv.shape"
   ]
  },
  {
   "cell_type": "code",
   "execution_count": 18,
   "metadata": {},
   "outputs": [],
   "source": [
    "test_pred = np.array(surv.iloc[9])\n",
    "test_pred_binary = np.round(test_pred).astype(int)\n",
    "test_true = df_test['Default'].to_numpy().astype(int)"
   ]
  },
  {
   "cell_type": "code",
   "execution_count": 19,
   "id": "684c9117",
   "metadata": {},
   "outputs": [
    {
     "name": "stderr",
     "output_type": "stream",
     "text": [
      "/Library/Frameworks/Python.framework/Versions/3.8/lib/python3.8/site-packages/sklearn/metrics/_classification.py:1469: UndefinedMetricWarning: Precision is ill-defined and being set to 0.0 due to no predicted samples. Use `zero_division` parameter to control this behavior.\n",
      "  _warn_prf(average, modifier, msg_start, len(result))\n"
     ]
    },
    {
     "name": "stdout",
     "output_type": "stream",
     "text": [
      "Accuracy: 0.9921401711865628\n",
      "Recall: 0.0\n",
      "Precision: 0.0\n",
      "F1 Score: 0.0\n",
      "AUC: 0.45920244175567865\n"
     ]
    }
   ],
   "source": [
    "accuracy = accuracy_score(test_true, test_pred_binary)\n",
    "recall = recall_score(test_true, test_pred_binary)\n",
    "precision = precision_score(test_true, test_pred_binary)\n",
    "f1 = f1_score(test_true, test_pred_binary)\n",
    "auc = roc_auc_score(df_test['Default'], test_pred)\n",
    "confusion = confusion_matrix(test_true, test_pred_binary)\n",
    "\n",
    "print('Accuracy:', accuracy)\n",
    "print('Recall:', recall)\n",
    "print('Precision:', precision)\n",
    "print('F1 Score:', f1)\n",
    "print('AUC:', auc)"
   ]
  },
  {
   "cell_type": "markdown",
   "id": "55a74390",
   "metadata": {},
   "source": [
    "Older Metrics"
   ]
  },
  {
   "cell_type": "code",
   "execution_count": 20,
   "id": "9fdeba41fa93267e",
   "metadata": {
    "ExecuteTime": {
     "end_time": "2023-10-08T17:40:40.469337Z",
     "start_time": "2023-10-08T17:40:36.441416Z"
    },
    "collapsed": false
   },
   "outputs": [],
   "source": [
    "ev = EvalSurv(surv, durations_test, events_test.astype(int), censor_surv='km')"
   ]
  },
  {
   "cell_type": "code",
   "execution_count": 21,
   "id": "342c928065f3be58",
   "metadata": {
    "ExecuteTime": {
     "end_time": "2023-10-08T17:40:47.140884Z",
     "start_time": "2023-10-08T17:40:40.471797Z"
    },
    "collapsed": false
   },
   "outputs": [
    {
     "ename": "",
     "evalue": "",
     "output_type": "error",
     "traceback": [
      "\u001b[1;31mThe Kernel crashed while executing code in the the current cell or a previous cell. Please review the code in the cell(s) to identify a possible cause of the failure. Click <a href='https://aka.ms/vscodeJupyterKernelCrash'>here</a> for more info. View Jupyter <a href='command:jupyter.viewOutput'>log</a> for further details."
     ]
    }
   ],
   "source": [
    "ev.concordance_td('antolini')"
   ]
  },
  {
   "cell_type": "code",
   "execution_count": 28,
   "id": "91178d16cf466292",
   "metadata": {
    "ExecuteTime": {
     "end_time": "2023-10-08T17:40:48.127643Z",
     "start_time": "2023-10-08T17:40:47.139520Z"
    },
    "collapsed": false
   },
   "outputs": [
    {
     "data": {
      "image/png": "[encoded data removed]",
      "text/plain": [
       "<Figure size 640x480 with 1 Axes>"
      ]
     },
     "metadata": {},
     "output_type": "display_data"
    }
   ],
   "source": [
    "time_grid = np.linspace(durations_test.min(), durations_test.max(), 100)\n",
    "ev.brier_score(time_grid).plot()\n",
    "plt.ylabel('Brier score')\n",
    "_ = plt.xlabel('Time')"
   ]
  },
  {
   "cell_type": "code",
   "execution_count": 29,
   "id": "191cbd1b1d3cbe8c",
   "metadata": {
    "ExecuteTime": {
     "end_time": "2023-10-08T17:40:59.187744Z",
     "start_time": "2023-10-08T17:40:58.518952Z"
    },
    "collapsed": false
   },
   "outputs": [
    {
     "data": {
      "text/plain": [
       "0.3276582120912859"
      ]
     },
     "execution_count": 29,
     "metadata": {},
     "output_type": "execute_result"
    }
   ],
   "source": [
    "ev.integrated_brier_score(time_grid) "
   ]
  },
  {
   "cell_type": "code",
   "execution_count": 34,
   "id": "11478dbf8974f465",
   "metadata": {
    "ExecuteTime": {
     "end_time": "2023-10-09T09:26:01.769737Z",
     "start_time": "2023-10-09T09:26:00.305796Z"
    },
    "collapsed": false
   },
   "outputs": [
    {
     "data": {
      "text/plain": [
       "0.9629183060663509"
      ]
     },
     "execution_count": 34,
     "metadata": {},
     "output_type": "execute_result"
    }
   ],
   "source": [
    "ev.integrated_nbll(time_grid) "
   ]
  }
 ],
 "metadata": {
  "kernelspec": {
   "display_name": "Python 3",
   "language": "python",
   "name": "python3"
  },
  "language_info": {
   "codemirror_mode": {
    "name": "ipython",
    "version": 3
   },
   "file_extension": ".py",
   "mimetype": "text/x-python",
   "name": "python",
   "nbconvert_exporter": "python",
   "pygments_lexer": "ipython3",
   "version": "3.8.10"
  }
 },
 "nbformat": 4,
 "nbformat_minor": 5
}
