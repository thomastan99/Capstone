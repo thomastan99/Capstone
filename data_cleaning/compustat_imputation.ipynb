{
 "cells": [
  {
   "cell_type": "code",
   "execution_count": 1,
   "id": "initial_id",
   "metadata": {
    "collapsed": true,
    "ExecuteTime": {
     "end_time": "2023-10-14T12:21:54.192047Z",
     "start_time": "2023-10-14T12:21:20.694398Z"
    }
   },
   "outputs": [
    {
     "name": "stderr",
     "output_type": "stream",
     "text": [
      "/var/folders/kp/rt42wzwx7sz9plr9l175fkv40000gn/T/ipykernel_25287/313954475.py:2: DtypeWarning: Columns (10,12,13,17,18,20,25,26,30,32,33,34,35,647,648,649,650,654,656,664,668,669,674,675,678,679) have mixed types. Specify dtype option on import or set low_memory=False.\n",
      "  df = pd.read_csv('compustat.csv')\n"
     ]
    },
    {
     "data": {
      "text/plain": "   gvkey    datadate  fyearq  fqtr  fyr indfmt consol popsrc datafmt  tic  \\\n0   1004  2000-02-29    1999   3.0    5   INDL      C      D     STD  AIR   \n1   1004  2000-05-31    1999   4.0    5   INDL      C      D     STD  AIR   \n2   1004  2000-08-31    2000   1.0    5   INDL      C      D     STD  AIR   \n3   1004  2000-11-30    2000   2.0    5   INDL      C      D     STD  AIR   \n4   1004  2001-02-28    2000   3.0    5   INDL      C      D     STD  AIR   \n\n   ... priusa   sic spcindcd spcseccd  spcsrc  state  stko           weburl  \\\n0  ...    1.0  5080    110.0    925.0       B     IL   0.0  www.aarcorp.com   \n1  ...    1.0  5080    110.0    925.0       B     IL   0.0  www.aarcorp.com   \n2  ...    1.0  5080    110.0    925.0       B     IL   0.0  www.aarcorp.com   \n3  ...    1.0  5080    110.0    925.0       B     IL   0.0  www.aarcorp.com   \n4  ...    1.0  5080    110.0    925.0       B     IL   0.0  www.aarcorp.com   \n\n  dldte     ipodate  \n0   NaN  1988-01-01  \n1   NaN  1988-01-01  \n2   NaN  1988-01-01  \n3   NaN  1988-01-01  \n4   NaN  1988-01-01  \n\n[5 rows x 680 columns]",
      "text/html": "<div>\n<style scoped>\n    .dataframe tbody tr th:only-of-type {\n        vertical-align: middle;\n    }\n\n    .dataframe tbody tr th {\n        vertical-align: top;\n    }\n\n    .dataframe thead th {\n        text-align: right;\n    }\n</style>\n<table border=\"1\" class=\"dataframe\">\n  <thead>\n    <tr style=\"text-align: right;\">\n      <th></th>\n      <th>gvkey</th>\n      <th>datadate</th>\n      <th>fyearq</th>\n      <th>fqtr</th>\n      <th>fyr</th>\n      <th>indfmt</th>\n      <th>consol</th>\n      <th>popsrc</th>\n      <th>datafmt</th>\n      <th>tic</th>\n      <th>...</th>\n      <th>priusa</th>\n      <th>sic</th>\n      <th>spcindcd</th>\n      <th>spcseccd</th>\n      <th>spcsrc</th>\n      <th>state</th>\n      <th>stko</th>\n      <th>weburl</th>\n      <th>dldte</th>\n      <th>ipodate</th>\n    </tr>\n  </thead>\n  <tbody>\n    <tr>\n      <th>0</th>\n      <td>1004</td>\n      <td>2000-02-29</td>\n      <td>1999</td>\n      <td>3.0</td>\n      <td>5</td>\n      <td>INDL</td>\n      <td>C</td>\n      <td>D</td>\n      <td>STD</td>\n      <td>AIR</td>\n      <td>...</td>\n      <td>1.0</td>\n      <td>5080</td>\n      <td>110.0</td>\n      <td>925.0</td>\n      <td>B</td>\n      <td>IL</td>\n      <td>0.0</td>\n      <td>www.aarcorp.com</td>\n      <td>NaN</td>\n      <td>1988-01-01</td>\n    </tr>\n    <tr>\n      <th>1</th>\n      <td>1004</td>\n      <td>2000-05-31</td>\n      <td>1999</td>\n      <td>4.0</td>\n      <td>5</td>\n      <td>INDL</td>\n      <td>C</td>\n      <td>D</td>\n      <td>STD</td>\n      <td>AIR</td>\n      <td>...</td>\n      <td>1.0</td>\n      <td>5080</td>\n      <td>110.0</td>\n      <td>925.0</td>\n      <td>B</td>\n      <td>IL</td>\n      <td>0.0</td>\n      <td>www.aarcorp.com</td>\n      <td>NaN</td>\n      <td>1988-01-01</td>\n    </tr>\n    <tr>\n      <th>2</th>\n      <td>1004</td>\n      <td>2000-08-31</td>\n      <td>2000</td>\n      <td>1.0</td>\n      <td>5</td>\n      <td>INDL</td>\n      <td>C</td>\n      <td>D</td>\n      <td>STD</td>\n      <td>AIR</td>\n      <td>...</td>\n      <td>1.0</td>\n      <td>5080</td>\n      <td>110.0</td>\n      <td>925.0</td>\n      <td>B</td>\n      <td>IL</td>\n      <td>0.0</td>\n      <td>www.aarcorp.com</td>\n      <td>NaN</td>\n      <td>1988-01-01</td>\n    </tr>\n    <tr>\n      <th>3</th>\n      <td>1004</td>\n      <td>2000-11-30</td>\n      <td>2000</td>\n      <td>2.0</td>\n      <td>5</td>\n      <td>INDL</td>\n      <td>C</td>\n      <td>D</td>\n      <td>STD</td>\n      <td>AIR</td>\n      <td>...</td>\n      <td>1.0</td>\n      <td>5080</td>\n      <td>110.0</td>\n      <td>925.0</td>\n      <td>B</td>\n      <td>IL</td>\n      <td>0.0</td>\n      <td>www.aarcorp.com</td>\n      <td>NaN</td>\n      <td>1988-01-01</td>\n    </tr>\n    <tr>\n      <th>4</th>\n      <td>1004</td>\n      <td>2001-02-28</td>\n      <td>2000</td>\n      <td>3.0</td>\n      <td>5</td>\n      <td>INDL</td>\n      <td>C</td>\n      <td>D</td>\n      <td>STD</td>\n      <td>AIR</td>\n      <td>...</td>\n      <td>1.0</td>\n      <td>5080</td>\n      <td>110.0</td>\n      <td>925.0</td>\n      <td>B</td>\n      <td>IL</td>\n      <td>0.0</td>\n      <td>www.aarcorp.com</td>\n      <td>NaN</td>\n      <td>1988-01-01</td>\n    </tr>\n  </tbody>\n</table>\n<p>5 rows × 680 columns</p>\n</div>"
     },
     "execution_count": 1,
     "metadata": {},
     "output_type": "execute_result"
    }
   ],
   "source": [
    "import pandas as pd\n",
    "df = pd.read_csv('compustat.csv')\n",
    "df.head()"
   ]
  },
  {
   "cell_type": "code",
   "execution_count": 2,
   "outputs": [
    {
     "data": {
      "text/plain": "datadate      0\ngvkey         0\nfqtr        346\nfyr           0\ntic         694\nsic           0\ndtype: int64"
     },
     "execution_count": 2,
     "metadata": {},
     "output_type": "execute_result"
    }
   ],
   "source": [
    "df_with_ratios = pd.DataFrame(df[['datadate', 'gvkey', 'fqtr', 'fyr', 'tic', 'sic']])\n",
    "df_with_ratios.isna().sum()"
   ],
   "metadata": {
    "collapsed": false,
    "ExecuteTime": {
     "end_time": "2023-10-14T12:22:46.036052Z",
     "start_time": "2023-10-14T12:22:45.870697Z"
    }
   },
   "id": "61407de953a3c370"
  },
  {
   "cell_type": "markdown",
   "source": [
    "Looks like gvkey would be a better primary key than ticker since it has no nans in this dataset. We also need to inspect financial quarter"
   ],
   "metadata": {
    "collapsed": false
   },
   "id": "d40928e6df226e1d"
  },
  {
   "cell_type": "code",
   "execution_count": 3,
   "outputs": [
    {
     "data": {
      "text/plain": "           datadate   gvkey  fqtr  fyr    tic   sic\n2746     2014-03-31    1224   NaN   12   EGN1  4924\n2747     2014-06-30    1224   NaN   12   EGN1  4924\n12300    2014-11-30    1951   NaN    8  PRSNQ  3845\n31199    2014-12-31    3424   NaN    9     BH  5812\n35114    2014-12-31    3806   NaN    9   DWSN  1382\n...             ...     ...   ...  ...    ...   ...\n1050126  2013-06-30  196766   NaN    3  ALGDF  1040\n1050128  2013-09-30  196766   NaN    3  ALGDF  1040\n1074260  2015-06-30  317427   NaN    3   NOMD  2030\n1074262  2015-09-30  317427   NaN    3   NOMD  2030\n1074264  2015-12-31  317427   NaN    3   NOMD  2030\n\n[346 rows x 6 columns]",
      "text/html": "<div>\n<style scoped>\n    .dataframe tbody tr th:only-of-type {\n        vertical-align: middle;\n    }\n\n    .dataframe tbody tr th {\n        vertical-align: top;\n    }\n\n    .dataframe thead th {\n        text-align: right;\n    }\n</style>\n<table border=\"1\" class=\"dataframe\">\n  <thead>\n    <tr style=\"text-align: right;\">\n      <th></th>\n      <th>datadate</th>\n      <th>gvkey</th>\n      <th>fqtr</th>\n      <th>fyr</th>\n      <th>tic</th>\n      <th>sic</th>\n    </tr>\n  </thead>\n  <tbody>\n    <tr>\n      <th>2746</th>\n      <td>2014-03-31</td>\n      <td>1224</td>\n      <td>NaN</td>\n      <td>12</td>\n      <td>EGN1</td>\n      <td>4924</td>\n    </tr>\n    <tr>\n      <th>2747</th>\n      <td>2014-06-30</td>\n      <td>1224</td>\n      <td>NaN</td>\n      <td>12</td>\n      <td>EGN1</td>\n      <td>4924</td>\n    </tr>\n    <tr>\n      <th>12300</th>\n      <td>2014-11-30</td>\n      <td>1951</td>\n      <td>NaN</td>\n      <td>8</td>\n      <td>PRSNQ</td>\n      <td>3845</td>\n    </tr>\n    <tr>\n      <th>31199</th>\n      <td>2014-12-31</td>\n      <td>3424</td>\n      <td>NaN</td>\n      <td>9</td>\n      <td>BH</td>\n      <td>5812</td>\n    </tr>\n    <tr>\n      <th>35114</th>\n      <td>2014-12-31</td>\n      <td>3806</td>\n      <td>NaN</td>\n      <td>9</td>\n      <td>DWSN</td>\n      <td>1382</td>\n    </tr>\n    <tr>\n      <th>...</th>\n      <td>...</td>\n      <td>...</td>\n      <td>...</td>\n      <td>...</td>\n      <td>...</td>\n      <td>...</td>\n    </tr>\n    <tr>\n      <th>1050126</th>\n      <td>2013-06-30</td>\n      <td>196766</td>\n      <td>NaN</td>\n      <td>3</td>\n      <td>ALGDF</td>\n      <td>1040</td>\n    </tr>\n    <tr>\n      <th>1050128</th>\n      <td>2013-09-30</td>\n      <td>196766</td>\n      <td>NaN</td>\n      <td>3</td>\n      <td>ALGDF</td>\n      <td>1040</td>\n    </tr>\n    <tr>\n      <th>1074260</th>\n      <td>2015-06-30</td>\n      <td>317427</td>\n      <td>NaN</td>\n      <td>3</td>\n      <td>NOMD</td>\n      <td>2030</td>\n    </tr>\n    <tr>\n      <th>1074262</th>\n      <td>2015-09-30</td>\n      <td>317427</td>\n      <td>NaN</td>\n      <td>3</td>\n      <td>NOMD</td>\n      <td>2030</td>\n    </tr>\n    <tr>\n      <th>1074264</th>\n      <td>2015-12-31</td>\n      <td>317427</td>\n      <td>NaN</td>\n      <td>3</td>\n      <td>NOMD</td>\n      <td>2030</td>\n    </tr>\n  </tbody>\n</table>\n<p>346 rows × 6 columns</p>\n</div>"
     },
     "execution_count": 3,
     "metadata": {},
     "output_type": "execute_result"
    }
   ],
   "source": [
    "df_with_ratios[df['fqtr'].isna()]"
   ],
   "metadata": {
    "collapsed": false,
    "ExecuteTime": {
     "end_time": "2023-10-14T12:22:47.039710Z",
     "start_time": "2023-10-14T12:22:47.007749Z"
    }
   },
   "id": "1d051243cd48ce27"
  },
  {
   "cell_type": "markdown",
   "source": [
    "No clear pattern in financial quarters with nan values. Just use date value since there is no nans there"
   ],
   "metadata": {
    "collapsed": false
   },
   "id": "bb5bfc7fef3da35b"
  },
  {
   "cell_type": "code",
   "execution_count": 4,
   "outputs": [
    {
     "data": {
      "text/plain": "     datadate  gvkey  tic   sic\n0  2000-02-29   1004  AIR  5080\n1  2000-05-31   1004  AIR  5080\n2  2000-08-31   1004  AIR  5080\n3  2000-11-30   1004  AIR  5080\n4  2001-02-28   1004  AIR  5080",
      "text/html": "<div>\n<style scoped>\n    .dataframe tbody tr th:only-of-type {\n        vertical-align: middle;\n    }\n\n    .dataframe tbody tr th {\n        vertical-align: top;\n    }\n\n    .dataframe thead th {\n        text-align: right;\n    }\n</style>\n<table border=\"1\" class=\"dataframe\">\n  <thead>\n    <tr style=\"text-align: right;\">\n      <th></th>\n      <th>datadate</th>\n      <th>gvkey</th>\n      <th>tic</th>\n      <th>sic</th>\n    </tr>\n  </thead>\n  <tbody>\n    <tr>\n      <th>0</th>\n      <td>2000-02-29</td>\n      <td>1004</td>\n      <td>AIR</td>\n      <td>5080</td>\n    </tr>\n    <tr>\n      <th>1</th>\n      <td>2000-05-31</td>\n      <td>1004</td>\n      <td>AIR</td>\n      <td>5080</td>\n    </tr>\n    <tr>\n      <th>2</th>\n      <td>2000-08-31</td>\n      <td>1004</td>\n      <td>AIR</td>\n      <td>5080</td>\n    </tr>\n    <tr>\n      <th>3</th>\n      <td>2000-11-30</td>\n      <td>1004</td>\n      <td>AIR</td>\n      <td>5080</td>\n    </tr>\n    <tr>\n      <th>4</th>\n      <td>2001-02-28</td>\n      <td>1004</td>\n      <td>AIR</td>\n      <td>5080</td>\n    </tr>\n  </tbody>\n</table>\n</div>"
     },
     "execution_count": 4,
     "metadata": {},
     "output_type": "execute_result"
    }
   ],
   "source": [
    "df_with_ratios.drop(['fqtr', 'fyr'], axis=1, inplace=True)\n",
    "df_with_ratios.head()"
   ],
   "metadata": {
    "collapsed": false,
    "ExecuteTime": {
     "end_time": "2023-10-14T12:22:47.910584Z",
     "start_time": "2023-10-14T12:22:47.885622Z"
    }
   },
   "id": "4f2ead5a6d60d71e"
  },
  {
   "cell_type": "code",
   "execution_count": 5,
   "outputs": [],
   "source": [
    "# Feature engineering\n",
    "df_with_ratios['ta'] = df['atq']\n",
    "df_with_ratios['lt'] = df['ltq']\n",
    "df_with_ratios['dlc'] = df['dlcq']\n",
    "df_with_ratios['dtp'] = df['txditcq']\n",
    "df_with_ratios['che'] = df['cheq']\n",
    "df_with_ratios['lct'] = df['lctq']\n",
    "df_with_ratios['act'] = df['atq']\n",
    "df_with_ratios['invtq'] = df['invtq']\n",
    "df_with_ratios['intanq'] = df['intanq']\n",
    "df_with_ratios['oiadp'] = df['oibdpq'] / df['oibdpy']\n",
    "df_with_ratios['txp'] = df['txpq']\n",
    "# df_with_ratios['xint'] = df['tieq'] / df['tiey']"
   ],
   "metadata": {
    "collapsed": false,
    "ExecuteTime": {
     "end_time": "2023-10-14T12:22:48.236416Z",
     "start_time": "2023-10-14T12:22:48.210396Z"
    }
   },
   "id": "c53f7aeb8deff150"
  },
  {
   "cell_type": "code",
   "execution_count": 6,
   "outputs": [],
   "source": [
    "df_with_ratios['pi'] = df['piq'] / df['piy']\n",
    "df_with_ratios['ni'] = df['niq'] / df['niy']\n",
    "df_with_ratios['rev'] = df['revtq'] / df['revty']\n",
    "df_with_ratios['cogs'] = df['cogsq'] / df['cogsy']\n",
    "df_with_ratios['oancf'] = df['oancfy']\n",
    "df_with_ratios['ivncf'] = df['ivncfy']\n",
    "df_with_ratios['fncfa'] = df['fincfy']\n",
    "df_with_ratios['curr_ratio'] = df['actq'] / df['lctq']\n",
    "df_with_ratios['quick_ratio'] = (df['actq'] - df['invtq']) / df['lctq']\n",
    "df_with_ratios['cash_ratio'] = df['chechy'] / df['lctq']"
   ],
   "metadata": {
    "collapsed": false,
    "ExecuteTime": {
     "end_time": "2023-10-14T12:22:48.274006Z",
     "start_time": "2023-10-14T12:22:48.238213Z"
    }
   },
   "id": "2999313ffedc3020"
  },
  {
   "cell_type": "code",
   "execution_count": 7,
   "outputs": [],
   "source": [
    "df_with_ratios['net_working_capital'] = df['actq'] - df['lctq']\n",
    "df_with_ratios['debt_ratio'] = df['dlttq'] / df['actq']\n",
    "df_with_ratios['debt_equity_ratio'] = df['dlttq'] / df['ceqq']\n",
    "df_with_ratios['equity_ratio'] = df['ceqq'] / df['actq']\n",
    "df_with_ratios['financial_leverage_ratio'] = df['actq'] / df['ceqq']\n",
    "# df_with_ratios['interest_coverage_ratio'] = (df['uopiq'] + df['dpq']) / df['tiey']\n",
    "df_with_ratios['cashflow_debt_ratio'] = df['oancfy'] / df['dlttq']\n",
    "df_with_ratios['net_profit_margin'] = 100 * (df['revtq'] - df['cogsq']) / df['revtq']\n",
    "df_with_ratios['roa'] = (df['niq'] / df['atq']) * 100"
   ],
   "metadata": {
    "collapsed": false,
    "ExecuteTime": {
     "end_time": "2023-10-14T12:22:48.605548Z",
     "start_time": "2023-10-14T12:22:48.588089Z"
    }
   },
   "id": "5892de2b16998b88"
  },
  {
   "cell_type": "code",
   "execution_count": 8,
   "outputs": [],
   "source": [
    "df_with_ratios['asset_turnover'] = df['saleq'] / df['saley']\n",
    "df_with_ratios['inventory_turnover'] = df['invchy']\n",
    "df_with_ratios['inventory_days'] = df_with_ratios['inventory_turnover']\n",
    "df_with_ratios['receivables_turnover'] = df['saleq'] / df['rectq']\n",
    "df_with_ratios['dso'] = 365 / df_with_ratios['receivables_turnover']\n",
    "df_with_ratios['working_capital_turnover'] = df['saleq'] / df['wcapq']\n",
    "# df_with_ratios['debt_service_coverage_ratio'] = df['uopiq'] / df['dlttq']\n",
    "# df_with_ratios['cash_coverage_ratio'] = df['oibdpq'] / df['tieq']\n",
    "df_with_ratios['pe_ratio'] = df['prccq'] / df['epsf12']\n",
    "# df_with_ratios['pb_ratio'] = df['prccq'] / (df['uceqq'] / df['cshoq'])\n",
    "# df_with_ratios['div_payout_ratio'] = df['dvy'] / ((df['uniamiq'] * 100) / df['saley'])\n",
    "df_with_ratios['retention_ratio'] = df['req'] / df_with_ratios['ni']\n",
    "# df_with_ratios['ebitda'] = (df['uopiq'] + df['dpq'] * 100) / df['revtq']"
   ],
   "metadata": {
    "collapsed": false,
    "ExecuteTime": {
     "end_time": "2023-10-14T12:22:48.630344Z",
     "start_time": "2023-10-14T12:22:48.607103Z"
    }
   },
   "id": "3e3ca34d539cc343"
  },
  {
   "cell_type": "code",
   "execution_count": 9,
   "outputs": [
    {
     "data": {
      "text/plain": "     datadate  gvkey  tic   sic       ta       lt     dlc     dtp    che  \\\n0  2000-02-29   1004  AIR  5080  753.755  411.273  25.353  52.701  4.431   \n1  2000-05-31   1004  AIR  5080  740.998  401.483  26.314  56.020  1.241   \n2  2000-08-31   1004  AIR  5080  747.543  408.290  48.151  58.441  0.669   \n3  2000-11-30   1004  AIR  5080  772.941  431.677  50.437  60.937  3.069   \n4  2001-02-28   1004  AIR  5080  754.718  409.853  49.665  60.695  0.767   \n\n       lct  ...  net_profit_margin       roa  asset_turnover  \\\n0  176.733  ...          18.234795  1.453390        0.340731   \n1  163.816  ...          18.944015  0.333469        0.219732   \n2  168.282  ...          16.176118  0.422584        1.000000   \n3  189.367  ...          18.857738  0.553470        0.466415   \n4  167.852  ...          20.259808  0.713909        0.306305   \n\n   inventory_turnover  inventory_days  receivables_turnover         dso  \\\n0             -15.536         -15.536              1.606568  227.192332   \n1             -33.237         -33.237              1.753662  208.135899   \n2              -8.260          -8.260              1.915678  190.533110   \n3              15.085          15.085              1.656685  220.319516   \n4             -13.415         -13.415              1.506264  242.321426   \n\n   working_capital_turnover   pe_ratio  retention_ratio  \n0                  0.777640  14.751553       603.096525  \n1                  0.647801  10.839844      2860.654487  \n2                  0.706938  11.138614       200.908000  \n3                  0.649498  13.474026       351.312198  \n4                  0.557790  23.859649       490.594335  \n\n[5 rows x 41 columns]",
      "text/html": "<div>\n<style scoped>\n    .dataframe tbody tr th:only-of-type {\n        vertical-align: middle;\n    }\n\n    .dataframe tbody tr th {\n        vertical-align: top;\n    }\n\n    .dataframe thead th {\n        text-align: right;\n    }\n</style>\n<table border=\"1\" class=\"dataframe\">\n  <thead>\n    <tr style=\"text-align: right;\">\n      <th></th>\n      <th>datadate</th>\n      <th>gvkey</th>\n      <th>tic</th>\n      <th>sic</th>\n      <th>ta</th>\n      <th>lt</th>\n      <th>dlc</th>\n      <th>dtp</th>\n      <th>che</th>\n      <th>lct</th>\n      <th>...</th>\n      <th>net_profit_margin</th>\n      <th>roa</th>\n      <th>asset_turnover</th>\n      <th>inventory_turnover</th>\n      <th>inventory_days</th>\n      <th>receivables_turnover</th>\n      <th>dso</th>\n      <th>working_capital_turnover</th>\n      <th>pe_ratio</th>\n      <th>retention_ratio</th>\n    </tr>\n  </thead>\n  <tbody>\n    <tr>\n      <th>0</th>\n      <td>2000-02-29</td>\n      <td>1004</td>\n      <td>AIR</td>\n      <td>5080</td>\n      <td>753.755</td>\n      <td>411.273</td>\n      <td>25.353</td>\n      <td>52.701</td>\n      <td>4.431</td>\n      <td>176.733</td>\n      <td>...</td>\n      <td>18.234795</td>\n      <td>1.453390</td>\n      <td>0.340731</td>\n      <td>-15.536</td>\n      <td>-15.536</td>\n      <td>1.606568</td>\n      <td>227.192332</td>\n      <td>0.777640</td>\n      <td>14.751553</td>\n      <td>603.096525</td>\n    </tr>\n    <tr>\n      <th>1</th>\n      <td>2000-05-31</td>\n      <td>1004</td>\n      <td>AIR</td>\n      <td>5080</td>\n      <td>740.998</td>\n      <td>401.483</td>\n      <td>26.314</td>\n      <td>56.020</td>\n      <td>1.241</td>\n      <td>163.816</td>\n      <td>...</td>\n      <td>18.944015</td>\n      <td>0.333469</td>\n      <td>0.219732</td>\n      <td>-33.237</td>\n      <td>-33.237</td>\n      <td>1.753662</td>\n      <td>208.135899</td>\n      <td>0.647801</td>\n      <td>10.839844</td>\n      <td>2860.654487</td>\n    </tr>\n    <tr>\n      <th>2</th>\n      <td>2000-08-31</td>\n      <td>1004</td>\n      <td>AIR</td>\n      <td>5080</td>\n      <td>747.543</td>\n      <td>408.290</td>\n      <td>48.151</td>\n      <td>58.441</td>\n      <td>0.669</td>\n      <td>168.282</td>\n      <td>...</td>\n      <td>16.176118</td>\n      <td>0.422584</td>\n      <td>1.000000</td>\n      <td>-8.260</td>\n      <td>-8.260</td>\n      <td>1.915678</td>\n      <td>190.533110</td>\n      <td>0.706938</td>\n      <td>11.138614</td>\n      <td>200.908000</td>\n    </tr>\n    <tr>\n      <th>3</th>\n      <td>2000-11-30</td>\n      <td>1004</td>\n      <td>AIR</td>\n      <td>5080</td>\n      <td>772.941</td>\n      <td>431.677</td>\n      <td>50.437</td>\n      <td>60.937</td>\n      <td>3.069</td>\n      <td>189.367</td>\n      <td>...</td>\n      <td>18.857738</td>\n      <td>0.553470</td>\n      <td>0.466415</td>\n      <td>15.085</td>\n      <td>15.085</td>\n      <td>1.656685</td>\n      <td>220.319516</td>\n      <td>0.649498</td>\n      <td>13.474026</td>\n      <td>351.312198</td>\n    </tr>\n    <tr>\n      <th>4</th>\n      <td>2001-02-28</td>\n      <td>1004</td>\n      <td>AIR</td>\n      <td>5080</td>\n      <td>754.718</td>\n      <td>409.853</td>\n      <td>49.665</td>\n      <td>60.695</td>\n      <td>0.767</td>\n      <td>167.852</td>\n      <td>...</td>\n      <td>20.259808</td>\n      <td>0.713909</td>\n      <td>0.306305</td>\n      <td>-13.415</td>\n      <td>-13.415</td>\n      <td>1.506264</td>\n      <td>242.321426</td>\n      <td>0.557790</td>\n      <td>23.859649</td>\n      <td>490.594335</td>\n    </tr>\n  </tbody>\n</table>\n<p>5 rows × 41 columns</p>\n</div>"
     },
     "execution_count": 9,
     "metadata": {},
     "output_type": "execute_result"
    }
   ],
   "source": [
    "df_with_ratios.head(5)"
   ],
   "metadata": {
    "collapsed": false,
    "ExecuteTime": {
     "end_time": "2023-10-14T12:22:48.637839Z",
     "start_time": "2023-10-14T12:22:48.634882Z"
    }
   },
   "id": "7474976106c6e01b"
  },
  {
   "cell_type": "code",
   "execution_count": 10,
   "outputs": [
    {
     "name": "stdout",
     "output_type": "stream",
     "text": [
      "length of dataset: 1075571\n",
      "shape of dataset: (1075571, 41)\n"
     ]
    }
   ],
   "source": [
    "print(f\"length of dataset: {len(df_with_ratios)}\")\n",
    "print(f\"shape of dataset: {df_with_ratios.shape}\")"
   ],
   "metadata": {
    "collapsed": false,
    "ExecuteTime": {
     "end_time": "2023-10-14T12:22:48.737821Z",
     "start_time": "2023-10-14T12:22:48.716272Z"
    }
   },
   "id": "365f07b9101d2915"
  },
  {
   "cell_type": "code",
   "execution_count": 11,
   "outputs": [
    {
     "data": {
      "text/plain": "                            pct_nan\ndatadate                   0.000000\ngvkey                      0.000000\ntic                        0.064524\nsic                        0.000000\nta                        24.081441\nlt                        24.209559\ndlc                       28.118739\ndtp                       34.326511\nche                       24.327729\nlct                       36.964087\nact                       24.081441\ninvtq                     25.892479\nintanq                    31.053180\noiadp                     28.943324\ntxp                       35.320123\npi                        22.380020\nni                        22.003661\nrev                       36.962785\ncogs                      31.024451\noancf                     27.446352\nivncf                     27.468944\nfncfa                     27.470618\ncurr_ratio                37.248122\nquick_ratio               38.371990\ncash_ratio                38.470171\nnet_working_capital       37.207679\ndebt_ratio                38.042491\ndebt_equity_ratio         25.067522\nequity_ratio              37.424773\nfinancial_leverage_ratio  37.424773\ncashflow_debt_ratio       28.166434\nnet_profit_margin         36.340418\nroa                       24.576527\nasset_turnover            30.981311\ninventory_turnover        37.415289\ninventory_days            37.415289\nreceivables_turnover      29.949859\ndso                       29.949859\nworking_capital_turnover  37.689748\npe_ratio                  32.187182\nretention_ratio           28.299480",
      "text/html": "<div>\n<style scoped>\n    .dataframe tbody tr th:only-of-type {\n        vertical-align: middle;\n    }\n\n    .dataframe tbody tr th {\n        vertical-align: top;\n    }\n\n    .dataframe thead th {\n        text-align: right;\n    }\n</style>\n<table border=\"1\" class=\"dataframe\">\n  <thead>\n    <tr style=\"text-align: right;\">\n      <th></th>\n      <th>pct_nan</th>\n    </tr>\n  </thead>\n  <tbody>\n    <tr>\n      <th>datadate</th>\n      <td>0.000000</td>\n    </tr>\n    <tr>\n      <th>gvkey</th>\n      <td>0.000000</td>\n    </tr>\n    <tr>\n      <th>tic</th>\n      <td>0.064524</td>\n    </tr>\n    <tr>\n      <th>sic</th>\n      <td>0.000000</td>\n    </tr>\n    <tr>\n      <th>ta</th>\n      <td>24.081441</td>\n    </tr>\n    <tr>\n      <th>lt</th>\n      <td>24.209559</td>\n    </tr>\n    <tr>\n      <th>dlc</th>\n      <td>28.118739</td>\n    </tr>\n    <tr>\n      <th>dtp</th>\n      <td>34.326511</td>\n    </tr>\n    <tr>\n      <th>che</th>\n      <td>24.327729</td>\n    </tr>\n    <tr>\n      <th>lct</th>\n      <td>36.964087</td>\n    </tr>\n    <tr>\n      <th>act</th>\n      <td>24.081441</td>\n    </tr>\n    <tr>\n      <th>invtq</th>\n      <td>25.892479</td>\n    </tr>\n    <tr>\n      <th>intanq</th>\n      <td>31.053180</td>\n    </tr>\n    <tr>\n      <th>oiadp</th>\n      <td>28.943324</td>\n    </tr>\n    <tr>\n      <th>txp</th>\n      <td>35.320123</td>\n    </tr>\n    <tr>\n      <th>pi</th>\n      <td>22.380020</td>\n    </tr>\n    <tr>\n      <th>ni</th>\n      <td>22.003661</td>\n    </tr>\n    <tr>\n      <th>rev</th>\n      <td>36.962785</td>\n    </tr>\n    <tr>\n      <th>cogs</th>\n      <td>31.024451</td>\n    </tr>\n    <tr>\n      <th>oancf</th>\n      <td>27.446352</td>\n    </tr>\n    <tr>\n      <th>ivncf</th>\n      <td>27.468944</td>\n    </tr>\n    <tr>\n      <th>fncfa</th>\n      <td>27.470618</td>\n    </tr>\n    <tr>\n      <th>curr_ratio</th>\n      <td>37.248122</td>\n    </tr>\n    <tr>\n      <th>quick_ratio</th>\n      <td>38.371990</td>\n    </tr>\n    <tr>\n      <th>cash_ratio</th>\n      <td>38.470171</td>\n    </tr>\n    <tr>\n      <th>net_working_capital</th>\n      <td>37.207679</td>\n    </tr>\n    <tr>\n      <th>debt_ratio</th>\n      <td>38.042491</td>\n    </tr>\n    <tr>\n      <th>debt_equity_ratio</th>\n      <td>25.067522</td>\n    </tr>\n    <tr>\n      <th>equity_ratio</th>\n      <td>37.424773</td>\n    </tr>\n    <tr>\n      <th>financial_leverage_ratio</th>\n      <td>37.424773</td>\n    </tr>\n    <tr>\n      <th>cashflow_debt_ratio</th>\n      <td>28.166434</td>\n    </tr>\n    <tr>\n      <th>net_profit_margin</th>\n      <td>36.340418</td>\n    </tr>\n    <tr>\n      <th>roa</th>\n      <td>24.576527</td>\n    </tr>\n    <tr>\n      <th>asset_turnover</th>\n      <td>30.981311</td>\n    </tr>\n    <tr>\n      <th>inventory_turnover</th>\n      <td>37.415289</td>\n    </tr>\n    <tr>\n      <th>inventory_days</th>\n      <td>37.415289</td>\n    </tr>\n    <tr>\n      <th>receivables_turnover</th>\n      <td>29.949859</td>\n    </tr>\n    <tr>\n      <th>dso</th>\n      <td>29.949859</td>\n    </tr>\n    <tr>\n      <th>working_capital_turnover</th>\n      <td>37.689748</td>\n    </tr>\n    <tr>\n      <th>pe_ratio</th>\n      <td>32.187182</td>\n    </tr>\n    <tr>\n      <th>retention_ratio</th>\n      <td>28.299480</td>\n    </tr>\n  </tbody>\n</table>\n</div>"
     },
     "execution_count": 11,
     "metadata": {},
     "output_type": "execute_result"
    }
   ],
   "source": [
    "nan_breakdown = pd.DataFrame()\n",
    "nan_breakdown['pct_nan'] = (df_with_ratios.isna().sum() / len(df_with_ratios)) * 100\n",
    "nan_breakdown"
   ],
   "metadata": {
    "collapsed": false,
    "ExecuteTime": {
     "end_time": "2023-10-14T12:22:49.696338Z",
     "start_time": "2023-10-14T12:22:49.512387Z"
    }
   },
   "id": "99c04e0303a63594"
  },
  {
   "cell_type": "code",
   "execution_count": 12,
   "outputs": [],
   "source": [
    "\n",
    "# df_with_ratios['debt_service_coverage_ratio'] = df['uopiq'] / df['dlttq']\n",
    "# df_with_ratios['xint'] = df['tieq'] / df['tiey']\n",
    "# df_with_ratios['interest_coverage_ratio'] = (df['uopiq'] + df['dpq']) / df['tiey']\n",
    "# df_with_ratios['cash_coverage_ratio'] = df['oibdpq'] / df['tieq']\n",
    "# df_with_ratios['pb_ratio'] = df['prccq'] / (df['uceqq'] / df['cshoq'])\n",
    "# df_with_ratios['div_payout_ratio'] = df['dvy'] / ((df['uniamiq'] * 100) / df['saley'])\n",
    "# df_with_ratios['ebitda'] = (df['uopiq'] + df['dpq'] * 100) / df['revtq']"
   ],
   "metadata": {
    "collapsed": false,
    "ExecuteTime": {
     "end_time": "2023-10-14T12:22:49.701657Z",
     "start_time": "2023-10-14T12:22:49.696640Z"
    }
   },
   "id": "1911a4ac03f4029"
  },
  {
   "cell_type": "code",
   "execution_count": 13,
   "outputs": [],
   "source": [
    "# Run this code to check the percentage of nan valus in the original compustat dataset for a column\n",
    "# (len(df[df['dlttq'].isna() == True]) / len(df)) * 100"
   ],
   "metadata": {
    "collapsed": false,
    "ExecuteTime": {
     "end_time": "2023-10-14T12:22:50.087250Z",
     "start_time": "2023-10-14T12:22:50.085568Z"
    }
   },
   "id": "7bc947fe8c7ed722"
  },
  {
   "cell_type": "markdown",
   "source": [
    "At this point our dataset should have columns with at most 20-30% nan values. we shall now inpute them using sector median. \n",
    "Let us first try Methodology 1: \n",
    "1. map gvkey to sector\n",
    "2. Eg. if company X in sector A on date 2000-01-01 has a missing value for total income, we inpute it using the median of sector A in 2000-01-01. \n",
    "\n",
    "This assumes that on a particular date, a companies fundamentals can be represented by its sector median on that date. \n",
    "Sector will be represented by SIC code. (I used all 4 digits for now)"
   ],
   "metadata": {
    "collapsed": false
   },
   "id": "684d7f68b48f5cf0"
  },
  {
   "cell_type": "code",
   "execution_count": 14,
   "outputs": [
    {
     "data": {
      "text/plain": "     datadate  gvkey  tic   sic       ta       lt     dlc     dtp    che  \\\n0  2000-02-29   1004  AIR  5080  753.755  411.273  25.353  52.701  4.431   \n1  2000-05-31   1004  AIR  5080  740.998  401.483  26.314  56.020  1.241   \n2  2000-08-31   1004  AIR  5080  747.543  408.290  48.151  58.441  0.669   \n3  2000-11-30   1004  AIR  5080  772.941  431.677  50.437  60.937  3.069   \n4  2001-02-28   1004  AIR  5080  754.718  409.853  49.665  60.695  0.767   \n\n       lct  ...  net_profit_margin       roa  asset_turnover  \\\n0  176.733  ...          18.234795  1.453390        0.340731   \n1  163.816  ...          18.944015  0.333469        0.219732   \n2  168.282  ...          16.176118  0.422584        1.000000   \n3  189.367  ...          18.857738  0.553470        0.466415   \n4  167.852  ...          20.259808  0.713909        0.306305   \n\n   inventory_turnover  inventory_days  receivables_turnover         dso  \\\n0             -15.536         -15.536              1.606568  227.192332   \n1             -33.237         -33.237              1.753662  208.135899   \n2              -8.260          -8.260              1.915678  190.533110   \n3              15.085          15.085              1.656685  220.319516   \n4             -13.415         -13.415              1.506264  242.321426   \n\n   working_capital_turnover   pe_ratio  retention_ratio  \n0                  0.777640  14.751553       603.096525  \n1                  0.647801  10.839844      2860.654487  \n2                  0.706938  11.138614       200.908000  \n3                  0.649498  13.474026       351.312198  \n4                  0.557790  23.859649       490.594335  \n\n[5 rows x 41 columns]",
      "text/html": "<div>\n<style scoped>\n    .dataframe tbody tr th:only-of-type {\n        vertical-align: middle;\n    }\n\n    .dataframe tbody tr th {\n        vertical-align: top;\n    }\n\n    .dataframe thead th {\n        text-align: right;\n    }\n</style>\n<table border=\"1\" class=\"dataframe\">\n  <thead>\n    <tr style=\"text-align: right;\">\n      <th></th>\n      <th>datadate</th>\n      <th>gvkey</th>\n      <th>tic</th>\n      <th>sic</th>\n      <th>ta</th>\n      <th>lt</th>\n      <th>dlc</th>\n      <th>dtp</th>\n      <th>che</th>\n      <th>lct</th>\n      <th>...</th>\n      <th>net_profit_margin</th>\n      <th>roa</th>\n      <th>asset_turnover</th>\n      <th>inventory_turnover</th>\n      <th>inventory_days</th>\n      <th>receivables_turnover</th>\n      <th>dso</th>\n      <th>working_capital_turnover</th>\n      <th>pe_ratio</th>\n      <th>retention_ratio</th>\n    </tr>\n  </thead>\n  <tbody>\n    <tr>\n      <th>0</th>\n      <td>2000-02-29</td>\n      <td>1004</td>\n      <td>AIR</td>\n      <td>5080</td>\n      <td>753.755</td>\n      <td>411.273</td>\n      <td>25.353</td>\n      <td>52.701</td>\n      <td>4.431</td>\n      <td>176.733</td>\n      <td>...</td>\n      <td>18.234795</td>\n      <td>1.453390</td>\n      <td>0.340731</td>\n      <td>-15.536</td>\n      <td>-15.536</td>\n      <td>1.606568</td>\n      <td>227.192332</td>\n      <td>0.777640</td>\n      <td>14.751553</td>\n      <td>603.096525</td>\n    </tr>\n    <tr>\n      <th>1</th>\n      <td>2000-05-31</td>\n      <td>1004</td>\n      <td>AIR</td>\n      <td>5080</td>\n      <td>740.998</td>\n      <td>401.483</td>\n      <td>26.314</td>\n      <td>56.020</td>\n      <td>1.241</td>\n      <td>163.816</td>\n      <td>...</td>\n      <td>18.944015</td>\n      <td>0.333469</td>\n      <td>0.219732</td>\n      <td>-33.237</td>\n      <td>-33.237</td>\n      <td>1.753662</td>\n      <td>208.135899</td>\n      <td>0.647801</td>\n      <td>10.839844</td>\n      <td>2860.654487</td>\n    </tr>\n    <tr>\n      <th>2</th>\n      <td>2000-08-31</td>\n      <td>1004</td>\n      <td>AIR</td>\n      <td>5080</td>\n      <td>747.543</td>\n      <td>408.290</td>\n      <td>48.151</td>\n      <td>58.441</td>\n      <td>0.669</td>\n      <td>168.282</td>\n      <td>...</td>\n      <td>16.176118</td>\n      <td>0.422584</td>\n      <td>1.000000</td>\n      <td>-8.260</td>\n      <td>-8.260</td>\n      <td>1.915678</td>\n      <td>190.533110</td>\n      <td>0.706938</td>\n      <td>11.138614</td>\n      <td>200.908000</td>\n    </tr>\n    <tr>\n      <th>3</th>\n      <td>2000-11-30</td>\n      <td>1004</td>\n      <td>AIR</td>\n      <td>5080</td>\n      <td>772.941</td>\n      <td>431.677</td>\n      <td>50.437</td>\n      <td>60.937</td>\n      <td>3.069</td>\n      <td>189.367</td>\n      <td>...</td>\n      <td>18.857738</td>\n      <td>0.553470</td>\n      <td>0.466415</td>\n      <td>15.085</td>\n      <td>15.085</td>\n      <td>1.656685</td>\n      <td>220.319516</td>\n      <td>0.649498</td>\n      <td>13.474026</td>\n      <td>351.312198</td>\n    </tr>\n    <tr>\n      <th>4</th>\n      <td>2001-02-28</td>\n      <td>1004</td>\n      <td>AIR</td>\n      <td>5080</td>\n      <td>754.718</td>\n      <td>409.853</td>\n      <td>49.665</td>\n      <td>60.695</td>\n      <td>0.767</td>\n      <td>167.852</td>\n      <td>...</td>\n      <td>20.259808</td>\n      <td>0.713909</td>\n      <td>0.306305</td>\n      <td>-13.415</td>\n      <td>-13.415</td>\n      <td>1.506264</td>\n      <td>242.321426</td>\n      <td>0.557790</td>\n      <td>23.859649</td>\n      <td>490.594335</td>\n    </tr>\n  </tbody>\n</table>\n<p>5 rows × 41 columns</p>\n</div>"
     },
     "execution_count": 14,
     "metadata": {},
     "output_type": "execute_result"
    }
   ],
   "source": [
    "df_with_ratios.head()"
   ],
   "metadata": {
    "collapsed": false,
    "ExecuteTime": {
     "end_time": "2023-10-14T12:22:50.097980Z",
     "start_time": "2023-10-14T12:22:50.094864Z"
    }
   },
   "id": "a1b43b2a28ba8671"
  },
  {
   "cell_type": "markdown",
   "source": [
    "First let us convert datadate to year and quarter representation"
   ],
   "metadata": {
    "collapsed": false
   },
   "id": "4d48aa8938b7b102"
  },
  {
   "cell_type": "code",
   "execution_count": 15,
   "outputs": [
    {
     "data": {
      "text/plain": "    datadate  gvkey  tic   sic       ta       lt     dlc     dtp    che  \\\n0 2000-02-29   1004  AIR  5080  753.755  411.273  25.353  52.701  4.431   \n1 2000-05-31   1004  AIR  5080  740.998  401.483  26.314  56.020  1.241   \n2 2000-08-31   1004  AIR  5080  747.543  408.290  48.151  58.441  0.669   \n3 2000-11-30   1004  AIR  5080  772.941  431.677  50.437  60.937  3.069   \n4 2001-02-28   1004  AIR  5080  754.718  409.853  49.665  60.695  0.767   \n\n       lct  ...  asset_turnover  inventory_turnover  inventory_days  \\\n0  176.733  ...        0.340731             -15.536         -15.536   \n1  163.816  ...        0.219732             -33.237         -33.237   \n2  168.282  ...        1.000000              -8.260          -8.260   \n3  189.367  ...        0.466415              15.085          15.085   \n4  167.852  ...        0.306305             -13.415         -13.415   \n\n   receivables_turnover         dso  working_capital_turnover   pe_ratio  \\\n0              1.606568  227.192332                  0.777640  14.751553   \n1              1.753662  208.135899                  0.647801  10.839844   \n2              1.915678  190.533110                  0.706938  11.138614   \n3              1.656685  220.319516                  0.649498  13.474026   \n4              1.506264  242.321426                  0.557790  23.859649   \n\n   retention_ratio  year  quarter  \n0       603.096525  2000        1  \n1      2860.654487  2000        2  \n2       200.908000  2000        3  \n3       351.312198  2000        4  \n4       490.594335  2001        1  \n\n[5 rows x 43 columns]",
      "text/html": "<div>\n<style scoped>\n    .dataframe tbody tr th:only-of-type {\n        vertical-align: middle;\n    }\n\n    .dataframe tbody tr th {\n        vertical-align: top;\n    }\n\n    .dataframe thead th {\n        text-align: right;\n    }\n</style>\n<table border=\"1\" class=\"dataframe\">\n  <thead>\n    <tr style=\"text-align: right;\">\n      <th></th>\n      <th>datadate</th>\n      <th>gvkey</th>\n      <th>tic</th>\n      <th>sic</th>\n      <th>ta</th>\n      <th>lt</th>\n      <th>dlc</th>\n      <th>dtp</th>\n      <th>che</th>\n      <th>lct</th>\n      <th>...</th>\n      <th>asset_turnover</th>\n      <th>inventory_turnover</th>\n      <th>inventory_days</th>\n      <th>receivables_turnover</th>\n      <th>dso</th>\n      <th>working_capital_turnover</th>\n      <th>pe_ratio</th>\n      <th>retention_ratio</th>\n      <th>year</th>\n      <th>quarter</th>\n    </tr>\n  </thead>\n  <tbody>\n    <tr>\n      <th>0</th>\n      <td>2000-02-29</td>\n      <td>1004</td>\n      <td>AIR</td>\n      <td>5080</td>\n      <td>753.755</td>\n      <td>411.273</td>\n      <td>25.353</td>\n      <td>52.701</td>\n      <td>4.431</td>\n      <td>176.733</td>\n      <td>...</td>\n      <td>0.340731</td>\n      <td>-15.536</td>\n      <td>-15.536</td>\n      <td>1.606568</td>\n      <td>227.192332</td>\n      <td>0.777640</td>\n      <td>14.751553</td>\n      <td>603.096525</td>\n      <td>2000</td>\n      <td>1</td>\n    </tr>\n    <tr>\n      <th>1</th>\n      <td>2000-05-31</td>\n      <td>1004</td>\n      <td>AIR</td>\n      <td>5080</td>\n      <td>740.998</td>\n      <td>401.483</td>\n      <td>26.314</td>\n      <td>56.020</td>\n      <td>1.241</td>\n      <td>163.816</td>\n      <td>...</td>\n      <td>0.219732</td>\n      <td>-33.237</td>\n      <td>-33.237</td>\n      <td>1.753662</td>\n      <td>208.135899</td>\n      <td>0.647801</td>\n      <td>10.839844</td>\n      <td>2860.654487</td>\n      <td>2000</td>\n      <td>2</td>\n    </tr>\n    <tr>\n      <th>2</th>\n      <td>2000-08-31</td>\n      <td>1004</td>\n      <td>AIR</td>\n      <td>5080</td>\n      <td>747.543</td>\n      <td>408.290</td>\n      <td>48.151</td>\n      <td>58.441</td>\n      <td>0.669</td>\n      <td>168.282</td>\n      <td>...</td>\n      <td>1.000000</td>\n      <td>-8.260</td>\n      <td>-8.260</td>\n      <td>1.915678</td>\n      <td>190.533110</td>\n      <td>0.706938</td>\n      <td>11.138614</td>\n      <td>200.908000</td>\n      <td>2000</td>\n      <td>3</td>\n    </tr>\n    <tr>\n      <th>3</th>\n      <td>2000-11-30</td>\n      <td>1004</td>\n      <td>AIR</td>\n      <td>5080</td>\n      <td>772.941</td>\n      <td>431.677</td>\n      <td>50.437</td>\n      <td>60.937</td>\n      <td>3.069</td>\n      <td>189.367</td>\n      <td>...</td>\n      <td>0.466415</td>\n      <td>15.085</td>\n      <td>15.085</td>\n      <td>1.656685</td>\n      <td>220.319516</td>\n      <td>0.649498</td>\n      <td>13.474026</td>\n      <td>351.312198</td>\n      <td>2000</td>\n      <td>4</td>\n    </tr>\n    <tr>\n      <th>4</th>\n      <td>2001-02-28</td>\n      <td>1004</td>\n      <td>AIR</td>\n      <td>5080</td>\n      <td>754.718</td>\n      <td>409.853</td>\n      <td>49.665</td>\n      <td>60.695</td>\n      <td>0.767</td>\n      <td>167.852</td>\n      <td>...</td>\n      <td>0.306305</td>\n      <td>-13.415</td>\n      <td>-13.415</td>\n      <td>1.506264</td>\n      <td>242.321426</td>\n      <td>0.557790</td>\n      <td>23.859649</td>\n      <td>490.594335</td>\n      <td>2001</td>\n      <td>1</td>\n    </tr>\n  </tbody>\n</table>\n<p>5 rows × 43 columns</p>\n</div>"
     },
     "execution_count": 15,
     "metadata": {},
     "output_type": "execute_result"
    }
   ],
   "source": [
    "df_with_ratios['datadate'] = pd.to_datetime(df_with_ratios['datadate'])\n",
    "df_with_ratios['year'] = df_with_ratios['datadate'].dt.year\n",
    "df_with_ratios['quarter'] = df_with_ratios['datadate'].dt.quarter\n",
    "df_with_ratios.head()"
   ],
   "metadata": {
    "collapsed": false,
    "ExecuteTime": {
     "end_time": "2023-10-14T12:22:50.961366Z",
     "start_time": "2023-10-14T12:22:50.857112Z"
    }
   },
   "id": "c2bc99e8b9bdbe5b"
  },
  {
   "cell_type": "code",
   "execution_count": 16,
   "outputs": [
    {
     "data": {
      "text/plain": "1402"
     },
     "execution_count": 16,
     "metadata": {},
     "output_type": "execute_result"
    }
   ],
   "source": [
    "df_drop_duplicates = df_with_ratios.drop_duplicates(subset=['gvkey', 'year', 'quarter'])\n",
    "len(df_with_ratios) - len(df_drop_duplicates)"
   ],
   "metadata": {
    "collapsed": false,
    "ExecuteTime": {
     "end_time": "2023-10-14T12:22:51.163771Z",
     "start_time": "2023-10-14T12:22:50.979491Z"
    }
   },
   "id": "a4af01747ab0cb14"
  },
  {
   "cell_type": "markdown",
   "source": [
    "We then drop rows where there are duplicate year, quarters and gvkey, since the original dataset is monthly data. We only drop 1402 rows, so not significant. "
   ],
   "metadata": {
    "collapsed": false
   },
   "id": "a9e34480cfa5749b"
  },
  {
   "cell_type": "code",
   "execution_count": 17,
   "outputs": [],
   "source": [
    "df_with_ratios = df_drop_duplicates"
   ],
   "metadata": {
    "collapsed": false,
    "ExecuteTime": {
     "end_time": "2023-10-14T12:22:51.610328Z",
     "start_time": "2023-10-14T12:22:51.606313Z"
    }
   },
   "id": "7a27562471a30f"
  },
  {
   "cell_type": "markdown",
   "source": [
    "Now we find all the gvkeys where there is no data at all and drop them from our dataframe. From this operation we remove 6813 gvkeys from a total of "
   ],
   "metadata": {
    "collapsed": false
   },
   "id": "70c4ae63b5670604"
  },
  {
   "cell_type": "code",
   "execution_count": 18,
   "outputs": [],
   "source": [
    "df_drop_gvkey = df_with_ratios.drop(['sic',  'tic', 'year', 'quarter', 'datadate'], axis=1)\n",
    "df_drop_gvkey = df_drop_gvkey.groupby('gvkey').apply(lambda group: group.iloc[:, 1:].isna().all().all())\n",
    "to_drop = df_drop_gvkey[df_drop_gvkey == True]\n",
    "gvkeys_to_drop = list(to_drop.index)"
   ],
   "metadata": {
    "collapsed": false,
    "ExecuteTime": {
     "end_time": "2023-10-14T12:22:57.738812Z",
     "start_time": "2023-10-14T12:22:52.482043Z"
    }
   },
   "id": "75eb5948a8ba4adc"
  },
  {
   "cell_type": "code",
   "execution_count": 19,
   "outputs": [
    {
     "name": "stdout",
     "output_type": "stream",
     "text": [
      "Dropped 22.53381394887397% of stocks\n"
     ]
    }
   ],
   "source": [
    "original_number_of_gvkeys = len(df_with_ratios['gvkey'].unique())\n",
    "print(f\"Dropped {len(gvkeys_to_drop) * 100 / original_number_of_gvkeys}% of stocks\")"
   ],
   "metadata": {
    "collapsed": false,
    "ExecuteTime": {
     "end_time": "2023-10-14T12:22:57.743551Z",
     "start_time": "2023-10-14T12:22:57.739629Z"
    }
   },
   "id": "2a34e00a8f2355d1"
  },
  {
   "cell_type": "code",
   "execution_count": 20,
   "outputs": [
    {
     "name": "stdout",
     "output_type": "stream",
     "text": [
      "number of unique gvkeys now: 23425\n"
     ]
    }
   ],
   "source": [
    "df_with_ratios_dropped_gvkey = df_with_ratios[~df_with_ratios['gvkey'].isin(gvkeys_to_drop)]\n",
    "print(f\"number of unique gvkeys now: {len(df_with_ratios_dropped_gvkey['gvkey'].unique())}\")"
   ],
   "metadata": {
    "collapsed": false,
    "ExecuteTime": {
     "end_time": "2023-10-14T12:22:57.805665Z",
     "start_time": "2023-10-14T12:22:57.742921Z"
    }
   },
   "id": "3af94cb278776090"
  },
  {
   "cell_type": "code",
   "execution_count": 21,
   "outputs": [
    {
     "name": "stdout",
     "output_type": "stream",
     "text": [
      "% of total rows lost: 17.750651899282143%\n"
     ]
    }
   ],
   "source": [
    "print(f\"% of total rows lost: {(len(df_with_ratios) - len(df_with_ratios_dropped_gvkey)) * 100 / len(df_with_ratios)  }%\")"
   ],
   "metadata": {
    "collapsed": false,
    "ExecuteTime": {
     "end_time": "2023-10-14T12:22:57.814211Z",
     "start_time": "2023-10-14T12:22:57.812121Z"
    }
   },
   "id": "cd0bf8e69e9b5352"
  },
  {
   "cell_type": "code",
   "execution_count": 22,
   "outputs": [
    {
     "data": {
      "text/plain": "                            pct_nan\ndatadate                   0.000000\ngvkey                      0.000000\ntic                        0.027957\nsic                        0.000000\nta                         7.687519\nlt                         7.828550\ndlc                       12.597439\ndtp                       20.155247\nche                        7.986445\nlct                       23.362954\nact                        7.687519\ninvtq                      9.890809\nintanq                    16.148781\noiadp                     13.601744\ntxp                       21.363174\npi                         5.624467\nni                         5.153385\nrev                       23.349825\ncogs                      16.122749\noancf                     11.752615\nivncf                     11.780346\nfncfa                     11.782383\ncurr_ratio                23.707834\nquick_ratio               25.075580\ncash_ratio                25.167941\nnet_working_capital       23.658937\ndebt_ratio                24.672297\ndebt_equity_ratio          8.885712\nequity_ratio              23.922549\nfinancial_leverage_ratio  23.922549\ncashflow_debt_ratio       12.627094\nnet_profit_margin         22.593399\nroa                        8.272354\nasset_turnover            16.069777\ninventory_turnover        23.880104\ninventory_days            23.880104\nreceivables_turnover      14.815670\ndso                       14.815670\nworking_capital_turnover  24.229397\npe_ratio                  17.486534\nretention_ratio           12.799704\nyear                       0.000000\nquarter                    0.000000",
      "text/html": "<div>\n<style scoped>\n    .dataframe tbody tr th:only-of-type {\n        vertical-align: middle;\n    }\n\n    .dataframe tbody tr th {\n        vertical-align: top;\n    }\n\n    .dataframe thead th {\n        text-align: right;\n    }\n</style>\n<table border=\"1\" class=\"dataframe\">\n  <thead>\n    <tr style=\"text-align: right;\">\n      <th></th>\n      <th>pct_nan</th>\n    </tr>\n  </thead>\n  <tbody>\n    <tr>\n      <th>datadate</th>\n      <td>0.000000</td>\n    </tr>\n    <tr>\n      <th>gvkey</th>\n      <td>0.000000</td>\n    </tr>\n    <tr>\n      <th>tic</th>\n      <td>0.027957</td>\n    </tr>\n    <tr>\n      <th>sic</th>\n      <td>0.000000</td>\n    </tr>\n    <tr>\n      <th>ta</th>\n      <td>7.687519</td>\n    </tr>\n    <tr>\n      <th>lt</th>\n      <td>7.828550</td>\n    </tr>\n    <tr>\n      <th>dlc</th>\n      <td>12.597439</td>\n    </tr>\n    <tr>\n      <th>dtp</th>\n      <td>20.155247</td>\n    </tr>\n    <tr>\n      <th>che</th>\n      <td>7.986445</td>\n    </tr>\n    <tr>\n      <th>lct</th>\n      <td>23.362954</td>\n    </tr>\n    <tr>\n      <th>act</th>\n      <td>7.687519</td>\n    </tr>\n    <tr>\n      <th>invtq</th>\n      <td>9.890809</td>\n    </tr>\n    <tr>\n      <th>intanq</th>\n      <td>16.148781</td>\n    </tr>\n    <tr>\n      <th>oiadp</th>\n      <td>13.601744</td>\n    </tr>\n    <tr>\n      <th>txp</th>\n      <td>21.363174</td>\n    </tr>\n    <tr>\n      <th>pi</th>\n      <td>5.624467</td>\n    </tr>\n    <tr>\n      <th>ni</th>\n      <td>5.153385</td>\n    </tr>\n    <tr>\n      <th>rev</th>\n      <td>23.349825</td>\n    </tr>\n    <tr>\n      <th>cogs</th>\n      <td>16.122749</td>\n    </tr>\n    <tr>\n      <th>oancf</th>\n      <td>11.752615</td>\n    </tr>\n    <tr>\n      <th>ivncf</th>\n      <td>11.780346</td>\n    </tr>\n    <tr>\n      <th>fncfa</th>\n      <td>11.782383</td>\n    </tr>\n    <tr>\n      <th>curr_ratio</th>\n      <td>23.707834</td>\n    </tr>\n    <tr>\n      <th>quick_ratio</th>\n      <td>25.075580</td>\n    </tr>\n    <tr>\n      <th>cash_ratio</th>\n      <td>25.167941</td>\n    </tr>\n    <tr>\n      <th>net_working_capital</th>\n      <td>23.658937</td>\n    </tr>\n    <tr>\n      <th>debt_ratio</th>\n      <td>24.672297</td>\n    </tr>\n    <tr>\n      <th>debt_equity_ratio</th>\n      <td>8.885712</td>\n    </tr>\n    <tr>\n      <th>equity_ratio</th>\n      <td>23.922549</td>\n    </tr>\n    <tr>\n      <th>financial_leverage_ratio</th>\n      <td>23.922549</td>\n    </tr>\n    <tr>\n      <th>cashflow_debt_ratio</th>\n      <td>12.627094</td>\n    </tr>\n    <tr>\n      <th>net_profit_margin</th>\n      <td>22.593399</td>\n    </tr>\n    <tr>\n      <th>roa</th>\n      <td>8.272354</td>\n    </tr>\n    <tr>\n      <th>asset_turnover</th>\n      <td>16.069777</td>\n    </tr>\n    <tr>\n      <th>inventory_turnover</th>\n      <td>23.880104</td>\n    </tr>\n    <tr>\n      <th>inventory_days</th>\n      <td>23.880104</td>\n    </tr>\n    <tr>\n      <th>receivables_turnover</th>\n      <td>14.815670</td>\n    </tr>\n    <tr>\n      <th>dso</th>\n      <td>14.815670</td>\n    </tr>\n    <tr>\n      <th>working_capital_turnover</th>\n      <td>24.229397</td>\n    </tr>\n    <tr>\n      <th>pe_ratio</th>\n      <td>17.486534</td>\n    </tr>\n    <tr>\n      <th>retention_ratio</th>\n      <td>12.799704</td>\n    </tr>\n    <tr>\n      <th>year</th>\n      <td>0.000000</td>\n    </tr>\n    <tr>\n      <th>quarter</th>\n      <td>0.000000</td>\n    </tr>\n  </tbody>\n</table>\n</div>"
     },
     "execution_count": 22,
     "metadata": {},
     "output_type": "execute_result"
    }
   ],
   "source": [
    "nan_breakdown = pd.DataFrame()\n",
    "nan_breakdown['pct_nan'] = (df_with_ratios_dropped_gvkey.isna().sum() / len(df_with_ratios_dropped_gvkey)) * 100\n",
    "nan_breakdown"
   ],
   "metadata": {
    "collapsed": false,
    "ExecuteTime": {
     "end_time": "2023-10-14T12:22:57.914701Z",
     "start_time": "2023-10-14T12:22:57.815695Z"
    }
   },
   "id": "a33b6449eccab27"
  },
  {
   "cell_type": "markdown",
   "source": [
    "We can also see that the % of nans has decreased significantly across columns after dropping these gvkeys"
   ],
   "metadata": {
    "collapsed": false
   },
   "id": "881427e58132ef4"
  },
  {
   "cell_type": "code",
   "execution_count": 23,
   "outputs": [
    {
     "data": {
      "text/plain": "      datadate  gvkey   tic   sic      ta      lt    dlc    dtp    che  \\\n156 2000-03-31   1019  AFAP  7380     NaN     NaN    NaN    NaN    NaN   \n157 2000-06-30   1019  AFAP  7380     NaN     NaN    NaN    NaN    NaN   \n158 2000-09-30   1019  AFAP  7380     NaN     NaN    NaN    NaN    NaN   \n159 2000-12-31   1019  AFAP  7380  28.638  15.454  0.666  0.543  1.818   \n160 2001-03-31   1019  AFAP  7380     NaN     NaN    NaN    NaN    NaN   \n..         ...    ...   ...   ...     ...     ...    ...    ...    ...   \n235 2019-12-31   1019  AFAP  7380  33.355  21.722  1.833  0.532  1.865   \n236 2020-03-31   1019  AFAP  7380     NaN     NaN    NaN    NaN    NaN   \n237 2020-06-30   1019  AFAP  7380     NaN     NaN    NaN    NaN    NaN   \n238 2020-09-30   1019  AFAP  7380     NaN     NaN    NaN    NaN    NaN   \n239 2020-12-31   1019  AFAP  7380  40.570  27.091  2.000  0.361  6.053   \n\n        lct  ...  asset_turnover  inventory_turnover  inventory_days  \\\n156     NaN  ...        1.000000                 NaN             NaN   \n157     NaN  ...        0.509702                 NaN             NaN   \n158     NaN  ...             NaN                 NaN             NaN   \n159   5.390  ...        0.490777                 NaN             NaN   \n160     NaN  ...        1.000000                 NaN             NaN   \n..      ...  ...             ...                 ...             ...   \n235  16.881  ...        1.000000              -0.612          -0.612   \n236     NaN  ...             NaN                 NaN             NaN   \n237     NaN  ...             NaN                 NaN             NaN   \n238     NaN  ...             NaN                 NaN             NaN   \n239  15.573  ...        1.000000               0.198           0.198   \n\n     receivables_turnover         dso  working_capital_turnover   pe_ratio  \\\n156                   NaN         NaN                       NaN  24.154589   \n157                   NaN         NaN                       NaN  21.290323   \n158                   NaN         NaN                       NaN        NaN   \n159              3.228103  113.069511                  6.046377  17.395437   \n160                   NaN         NaN                       NaN  16.726297   \n..                    ...         ...                       ...        ...   \n235              5.154342   70.814077                 12.136722  13.225569   \n236                   NaN         NaN                       NaN        NaN   \n237                   NaN         NaN                       NaN        NaN   \n238                   NaN         NaN                       NaN        NaN   \n239              4.617391   79.048973                  5.325539  10.814170   \n\n     retention_ratio  year  quarter  \n156              NaN  2000        1  \n157              NaN  2000        2  \n158              NaN  2000        3  \n159        24.544079  2000        4  \n160              NaN  2001        1  \n..               ...   ...      ...  \n235         8.416000  2019        4  \n236              NaN  2020        1  \n237              NaN  2020        2  \n238              NaN  2020        3  \n239        10.262000  2020        4  \n\n[75 rows x 43 columns]",
      "text/html": "<div>\n<style scoped>\n    .dataframe tbody tr th:only-of-type {\n        vertical-align: middle;\n    }\n\n    .dataframe tbody tr th {\n        vertical-align: top;\n    }\n\n    .dataframe thead th {\n        text-align: right;\n    }\n</style>\n<table border=\"1\" class=\"dataframe\">\n  <thead>\n    <tr style=\"text-align: right;\">\n      <th></th>\n      <th>datadate</th>\n      <th>gvkey</th>\n      <th>tic</th>\n      <th>sic</th>\n      <th>ta</th>\n      <th>lt</th>\n      <th>dlc</th>\n      <th>dtp</th>\n      <th>che</th>\n      <th>lct</th>\n      <th>...</th>\n      <th>asset_turnover</th>\n      <th>inventory_turnover</th>\n      <th>inventory_days</th>\n      <th>receivables_turnover</th>\n      <th>dso</th>\n      <th>working_capital_turnover</th>\n      <th>pe_ratio</th>\n      <th>retention_ratio</th>\n      <th>year</th>\n      <th>quarter</th>\n    </tr>\n  </thead>\n  <tbody>\n    <tr>\n      <th>156</th>\n      <td>2000-03-31</td>\n      <td>1019</td>\n      <td>AFAP</td>\n      <td>7380</td>\n      <td>NaN</td>\n      <td>NaN</td>\n      <td>NaN</td>\n      <td>NaN</td>\n      <td>NaN</td>\n      <td>NaN</td>\n      <td>...</td>\n      <td>1.000000</td>\n      <td>NaN</td>\n      <td>NaN</td>\n      <td>NaN</td>\n      <td>NaN</td>\n      <td>NaN</td>\n      <td>24.154589</td>\n      <td>NaN</td>\n      <td>2000</td>\n      <td>1</td>\n    </tr>\n    <tr>\n      <th>157</th>\n      <td>2000-06-30</td>\n      <td>1019</td>\n      <td>AFAP</td>\n      <td>7380</td>\n      <td>NaN</td>\n      <td>NaN</td>\n      <td>NaN</td>\n      <td>NaN</td>\n      <td>NaN</td>\n      <td>NaN</td>\n      <td>...</td>\n      <td>0.509702</td>\n      <td>NaN</td>\n      <td>NaN</td>\n      <td>NaN</td>\n      <td>NaN</td>\n      <td>NaN</td>\n      <td>21.290323</td>\n      <td>NaN</td>\n      <td>2000</td>\n      <td>2</td>\n    </tr>\n    <tr>\n      <th>158</th>\n      <td>2000-09-30</td>\n      <td>1019</td>\n      <td>AFAP</td>\n      <td>7380</td>\n      <td>NaN</td>\n      <td>NaN</td>\n      <td>NaN</td>\n      <td>NaN</td>\n      <td>NaN</td>\n      <td>NaN</td>\n      <td>...</td>\n      <td>NaN</td>\n      <td>NaN</td>\n      <td>NaN</td>\n      <td>NaN</td>\n      <td>NaN</td>\n      <td>NaN</td>\n      <td>NaN</td>\n      <td>NaN</td>\n      <td>2000</td>\n      <td>3</td>\n    </tr>\n    <tr>\n      <th>159</th>\n      <td>2000-12-31</td>\n      <td>1019</td>\n      <td>AFAP</td>\n      <td>7380</td>\n      <td>28.638</td>\n      <td>15.454</td>\n      <td>0.666</td>\n      <td>0.543</td>\n      <td>1.818</td>\n      <td>5.390</td>\n      <td>...</td>\n      <td>0.490777</td>\n      <td>NaN</td>\n      <td>NaN</td>\n      <td>3.228103</td>\n      <td>113.069511</td>\n      <td>6.046377</td>\n      <td>17.395437</td>\n      <td>24.544079</td>\n      <td>2000</td>\n      <td>4</td>\n    </tr>\n    <tr>\n      <th>160</th>\n      <td>2001-03-31</td>\n      <td>1019</td>\n      <td>AFAP</td>\n      <td>7380</td>\n      <td>NaN</td>\n      <td>NaN</td>\n      <td>NaN</td>\n      <td>NaN</td>\n      <td>NaN</td>\n      <td>NaN</td>\n      <td>...</td>\n      <td>1.000000</td>\n      <td>NaN</td>\n      <td>NaN</td>\n      <td>NaN</td>\n      <td>NaN</td>\n      <td>NaN</td>\n      <td>16.726297</td>\n      <td>NaN</td>\n      <td>2001</td>\n      <td>1</td>\n    </tr>\n    <tr>\n      <th>...</th>\n      <td>...</td>\n      <td>...</td>\n      <td>...</td>\n      <td>...</td>\n      <td>...</td>\n      <td>...</td>\n      <td>...</td>\n      <td>...</td>\n      <td>...</td>\n      <td>...</td>\n      <td>...</td>\n      <td>...</td>\n      <td>...</td>\n      <td>...</td>\n      <td>...</td>\n      <td>...</td>\n      <td>...</td>\n      <td>...</td>\n      <td>...</td>\n      <td>...</td>\n      <td>...</td>\n    </tr>\n    <tr>\n      <th>235</th>\n      <td>2019-12-31</td>\n      <td>1019</td>\n      <td>AFAP</td>\n      <td>7380</td>\n      <td>33.355</td>\n      <td>21.722</td>\n      <td>1.833</td>\n      <td>0.532</td>\n      <td>1.865</td>\n      <td>16.881</td>\n      <td>...</td>\n      <td>1.000000</td>\n      <td>-0.612</td>\n      <td>-0.612</td>\n      <td>5.154342</td>\n      <td>70.814077</td>\n      <td>12.136722</td>\n      <td>13.225569</td>\n      <td>8.416000</td>\n      <td>2019</td>\n      <td>4</td>\n    </tr>\n    <tr>\n      <th>236</th>\n      <td>2020-03-31</td>\n      <td>1019</td>\n      <td>AFAP</td>\n      <td>7380</td>\n      <td>NaN</td>\n      <td>NaN</td>\n      <td>NaN</td>\n      <td>NaN</td>\n      <td>NaN</td>\n      <td>NaN</td>\n      <td>...</td>\n      <td>NaN</td>\n      <td>NaN</td>\n      <td>NaN</td>\n      <td>NaN</td>\n      <td>NaN</td>\n      <td>NaN</td>\n      <td>NaN</td>\n      <td>NaN</td>\n      <td>2020</td>\n      <td>1</td>\n    </tr>\n    <tr>\n      <th>237</th>\n      <td>2020-06-30</td>\n      <td>1019</td>\n      <td>AFAP</td>\n      <td>7380</td>\n      <td>NaN</td>\n      <td>NaN</td>\n      <td>NaN</td>\n      <td>NaN</td>\n      <td>NaN</td>\n      <td>NaN</td>\n      <td>...</td>\n      <td>NaN</td>\n      <td>NaN</td>\n      <td>NaN</td>\n      <td>NaN</td>\n      <td>NaN</td>\n      <td>NaN</td>\n      <td>NaN</td>\n      <td>NaN</td>\n      <td>2020</td>\n      <td>2</td>\n    </tr>\n    <tr>\n      <th>238</th>\n      <td>2020-09-30</td>\n      <td>1019</td>\n      <td>AFAP</td>\n      <td>7380</td>\n      <td>NaN</td>\n      <td>NaN</td>\n      <td>NaN</td>\n      <td>NaN</td>\n      <td>NaN</td>\n      <td>NaN</td>\n      <td>...</td>\n      <td>NaN</td>\n      <td>NaN</td>\n      <td>NaN</td>\n      <td>NaN</td>\n      <td>NaN</td>\n      <td>NaN</td>\n      <td>NaN</td>\n      <td>NaN</td>\n      <td>2020</td>\n      <td>3</td>\n    </tr>\n    <tr>\n      <th>239</th>\n      <td>2020-12-31</td>\n      <td>1019</td>\n      <td>AFAP</td>\n      <td>7380</td>\n      <td>40.570</td>\n      <td>27.091</td>\n      <td>2.000</td>\n      <td>0.361</td>\n      <td>6.053</td>\n      <td>15.573</td>\n      <td>...</td>\n      <td>1.000000</td>\n      <td>0.198</td>\n      <td>0.198</td>\n      <td>4.617391</td>\n      <td>79.048973</td>\n      <td>5.325539</td>\n      <td>10.814170</td>\n      <td>10.262000</td>\n      <td>2020</td>\n      <td>4</td>\n    </tr>\n  </tbody>\n</table>\n<p>75 rows × 43 columns</p>\n</div>"
     },
     "execution_count": 23,
     "metadata": {},
     "output_type": "execute_result"
    }
   ],
   "source": [
    "test = df_with_ratios_dropped_gvkey\n",
    "test = test[test.isna().any(axis=1)]\n",
    "test[test['tic'] == 'AFAP']"
   ],
   "metadata": {
    "collapsed": false,
    "ExecuteTime": {
     "end_time": "2023-10-14T12:22:58.075464Z",
     "start_time": "2023-10-14T12:22:57.915265Z"
    }
   },
   "id": "c8aeffe5a75e257e"
  },
  {
   "cell_type": "markdown",
   "source": [
    "Here we can see that there are still certain stocks where there is data, but many missing values. for example for ticker AFAP, we have data missing from 2003-2016. Such tickers should be dropped as well"
   ],
   "metadata": {
    "collapsed": false
   },
   "id": "5ca1578e1294e6da"
  },
  {
   "cell_type": "code",
   "execution_count": 24,
   "outputs": [],
   "source": [
    "cols_df = df_with_ratios_dropped_gvkey.drop(['gvkey', 'sic',  'tic', 'year', 'quarter', 'datadate'], axis=1)\n",
    "all_na_rows = cols_df[cols_df.isna().all(axis=1)]\n",
    "df_with_nans = df_with_ratios_dropped_gvkey.loc[all_na_rows.index]\n",
    "df_with_nans_counts = df_with_nans.groupby('gvkey').size()\n",
    "gvkey_with_bad_data = df_with_nans_counts[df_with_nans_counts > 10]"
   ],
   "metadata": {
    "collapsed": false,
    "ExecuteTime": {
     "end_time": "2023-10-14T12:22:58.168357Z",
     "start_time": "2023-10-14T12:22:58.099493Z"
    }
   },
   "id": "bdda00a640318e15"
  },
  {
   "cell_type": "code",
   "execution_count": 25,
   "outputs": [
    {
     "name": "stdout",
     "output_type": "stream",
     "text": [
      "23425\n",
      "2.864461045891142\n"
     ]
    }
   ],
   "source": [
    "print(len(df_with_ratios_dropped_gvkey['gvkey'].unique()))\n",
    "print(100*len(gvkey_with_bad_data) / len(df_with_ratios_dropped_gvkey['gvkey'].unique()))"
   ],
   "metadata": {
    "collapsed": false,
    "ExecuteTime": {
     "end_time": "2023-10-14T12:23:00.063700Z",
     "start_time": "2023-10-14T12:23:00.036689Z"
    }
   },
   "id": "ea4aaa1ffcc6feb5"
  },
  {
   "cell_type": "markdown",
   "source": [
    "We can decide here the threshold for which we want to drop our gvkeys. How many nan rows can we allow a gvkey to have? For now i set the value at less than 10. This causes us to drop 671 gvkeys, or 2.86% of gvkeys. "
   ],
   "metadata": {
    "collapsed": false
   },
   "id": "8a765a57c64abf89"
  },
  {
   "cell_type": "code",
   "execution_count": 26,
   "outputs": [
    {
     "data": {
      "text/plain": "844831"
     },
     "execution_count": 26,
     "metadata": {},
     "output_type": "execute_result"
    }
   ],
   "source": [
    "df_with_ratios_dropped_gvkey_v2 = df_with_ratios_dropped_gvkey[~df_with_ratios_dropped_gvkey['gvkey'].isin(gvkey_with_bad_data.index)]\n",
    "len(df_with_ratios_dropped_gvkey_v2)"
   ],
   "metadata": {
    "collapsed": false,
    "ExecuteTime": {
     "end_time": "2023-10-14T12:23:00.540425Z",
     "start_time": "2023-10-14T12:23:00.483914Z"
    }
   },
   "id": "30c1a593eec8c4bb"
  },
  {
   "cell_type": "code",
   "execution_count": 27,
   "outputs": [
    {
     "name": "stdout",
     "output_type": "stream",
     "text": [
      "% of total rows lost: 21.350271698401276%\n"
     ]
    }
   ],
   "source": [
    "print(f\"% of total rows lost: {(len(df_with_ratios) - len(df_with_ratios_dropped_gvkey_v2)) * 100 / len(df_with_ratios)  }%\")"
   ],
   "metadata": {
    "collapsed": false,
    "ExecuteTime": {
     "end_time": "2023-10-14T12:23:01.153874Z",
     "start_time": "2023-10-14T12:23:01.149884Z"
    }
   },
   "id": "63884745d1714c8f"
  },
  {
   "cell_type": "code",
   "execution_count": 28,
   "outputs": [
    {
     "data": {
      "text/plain": "                            pct_nan\ndatadate                   0.000000\ngvkey                      0.000000\ntic                        0.022995\nsic                        0.000000\nta                         4.754466\nlt                         4.860222\ndlc                        8.674613\ndtp                       14.755406\nche                        4.981339\nlct                       17.225129\nact                        4.754466\ninvtq                      6.486037\nintanq                    11.583559\noiadp                      9.387257\ntxp                       15.707863\npi                         3.126044\nni                         2.766976\nrev                       17.352670\ncogs                      11.518951\noancf                      7.920076\nivncf                      7.942326\nfncfa                      7.943815\ncurr_ratio                17.477138\nquick_ratio               18.576034\ncash_ratio                18.613458\nnet_working_capital       17.439993\ndebt_ratio                18.230651\ndebt_equity_ratio          5.687187\nequity_ratio              17.639403\nfinancial_leverage_ratio  17.639403\ncashflow_debt_ratio        8.608143\nnet_profit_margin         16.705751\nroa                        5.203557\nasset_turnover            11.505731\ninventory_turnover        17.576098\ninventory_days            17.576098\nreceivables_turnover      10.332080\ndso                       10.332080\nworking_capital_turnover  17.883685\npe_ratio                  12.563386\nretention_ratio            8.709430\nyear                       0.000000\nquarter                    0.000000",
      "text/html": "<div>\n<style scoped>\n    .dataframe tbody tr th:only-of-type {\n        vertical-align: middle;\n    }\n\n    .dataframe tbody tr th {\n        vertical-align: top;\n    }\n\n    .dataframe thead th {\n        text-align: right;\n    }\n</style>\n<table border=\"1\" class=\"dataframe\">\n  <thead>\n    <tr style=\"text-align: right;\">\n      <th></th>\n      <th>pct_nan</th>\n    </tr>\n  </thead>\n  <tbody>\n    <tr>\n      <th>datadate</th>\n      <td>0.000000</td>\n    </tr>\n    <tr>\n      <th>gvkey</th>\n      <td>0.000000</td>\n    </tr>\n    <tr>\n      <th>tic</th>\n      <td>0.022995</td>\n    </tr>\n    <tr>\n      <th>sic</th>\n      <td>0.000000</td>\n    </tr>\n    <tr>\n      <th>ta</th>\n      <td>4.754466</td>\n    </tr>\n    <tr>\n      <th>lt</th>\n      <td>4.860222</td>\n    </tr>\n    <tr>\n      <th>dlc</th>\n      <td>8.674613</td>\n    </tr>\n    <tr>\n      <th>dtp</th>\n      <td>14.755406</td>\n    </tr>\n    <tr>\n      <th>che</th>\n      <td>4.981339</td>\n    </tr>\n    <tr>\n      <th>lct</th>\n      <td>17.225129</td>\n    </tr>\n    <tr>\n      <th>act</th>\n      <td>4.754466</td>\n    </tr>\n    <tr>\n      <th>invtq</th>\n      <td>6.486037</td>\n    </tr>\n    <tr>\n      <th>intanq</th>\n      <td>11.583559</td>\n    </tr>\n    <tr>\n      <th>oiadp</th>\n      <td>9.387257</td>\n    </tr>\n    <tr>\n      <th>txp</th>\n      <td>15.707863</td>\n    </tr>\n    <tr>\n      <th>pi</th>\n      <td>3.126044</td>\n    </tr>\n    <tr>\n      <th>ni</th>\n      <td>2.766976</td>\n    </tr>\n    <tr>\n      <th>rev</th>\n      <td>17.352670</td>\n    </tr>\n    <tr>\n      <th>cogs</th>\n      <td>11.518951</td>\n    </tr>\n    <tr>\n      <th>oancf</th>\n      <td>7.920076</td>\n    </tr>\n    <tr>\n      <th>ivncf</th>\n      <td>7.942326</td>\n    </tr>\n    <tr>\n      <th>fncfa</th>\n      <td>7.943815</td>\n    </tr>\n    <tr>\n      <th>curr_ratio</th>\n      <td>17.477138</td>\n    </tr>\n    <tr>\n      <th>quick_ratio</th>\n      <td>18.576034</td>\n    </tr>\n    <tr>\n      <th>cash_ratio</th>\n      <td>18.613458</td>\n    </tr>\n    <tr>\n      <th>net_working_capital</th>\n      <td>17.439993</td>\n    </tr>\n    <tr>\n      <th>debt_ratio</th>\n      <td>18.230651</td>\n    </tr>\n    <tr>\n      <th>debt_equity_ratio</th>\n      <td>5.687187</td>\n    </tr>\n    <tr>\n      <th>equity_ratio</th>\n      <td>17.639403</td>\n    </tr>\n    <tr>\n      <th>financial_leverage_ratio</th>\n      <td>17.639403</td>\n    </tr>\n    <tr>\n      <th>cashflow_debt_ratio</th>\n      <td>8.608143</td>\n    </tr>\n    <tr>\n      <th>net_profit_margin</th>\n      <td>16.705751</td>\n    </tr>\n    <tr>\n      <th>roa</th>\n      <td>5.203557</td>\n    </tr>\n    <tr>\n      <th>asset_turnover</th>\n      <td>11.505731</td>\n    </tr>\n    <tr>\n      <th>inventory_turnover</th>\n      <td>17.576098</td>\n    </tr>\n    <tr>\n      <th>inventory_days</th>\n      <td>17.576098</td>\n    </tr>\n    <tr>\n      <th>receivables_turnover</th>\n      <td>10.332080</td>\n    </tr>\n    <tr>\n      <th>dso</th>\n      <td>10.332080</td>\n    </tr>\n    <tr>\n      <th>working_capital_turnover</th>\n      <td>17.883685</td>\n    </tr>\n    <tr>\n      <th>pe_ratio</th>\n      <td>12.563386</td>\n    </tr>\n    <tr>\n      <th>retention_ratio</th>\n      <td>8.709430</td>\n    </tr>\n    <tr>\n      <th>year</th>\n      <td>0.000000</td>\n    </tr>\n    <tr>\n      <th>quarter</th>\n      <td>0.000000</td>\n    </tr>\n  </tbody>\n</table>\n</div>"
     },
     "execution_count": 28,
     "metadata": {},
     "output_type": "execute_result"
    }
   ],
   "source": [
    "nan_breakdown = pd.DataFrame()\n",
    "nan_breakdown['pct_nan'] = (df_with_ratios_dropped_gvkey_v2.isna().sum() / len(df_with_ratios)) * 100\n",
    "nan_breakdown"
   ],
   "metadata": {
    "collapsed": false,
    "ExecuteTime": {
     "end_time": "2023-10-14T12:23:01.698212Z",
     "start_time": "2023-10-14T12:23:01.605412Z"
    }
   },
   "id": "f206955cbff215cc"
  },
  {
   "cell_type": "code",
   "execution_count": 29,
   "outputs": [
    {
     "data": {
      "text/plain": "10.00147718300011"
     },
     "execution_count": 29,
     "metadata": {},
     "output_type": "execute_result"
    }
   ],
   "source": [
    "nan_breakdown['pct_nan'].mean()"
   ],
   "metadata": {
    "collapsed": false,
    "ExecuteTime": {
     "end_time": "2023-10-14T12:23:01.701422Z",
     "start_time": "2023-10-14T12:23:01.698709Z"
    }
   },
   "id": "e73f072294ac1ac6"
  },
  {
   "cell_type": "markdown",
   "source": [
    "Our % of rows dropped increased from 17% to 21%. We can reduce this perentage by increasing the tolerance of how many nan rows a stock can have. This is balancing data quantity vs quality. "
   ],
   "metadata": {
    "collapsed": false
   },
   "id": "21561e5f9e734a26"
  },
  {
   "cell_type": "code",
   "execution_count": 30,
   "outputs": [
    {
     "data": {
      "text/plain": "                     gvkey        ta       lt      dlc     dtp      che  \\\nsic  year quarter                                                         \n100  2000 1        26100.5  135.9875  63.1280   3.1075  0.0000   3.8000   \n          2        26100.5  170.3230  70.1710   2.5400  0.0000   6.2990   \n          3        24900.0  183.2935  91.3005  13.8835  0.0000   6.5265   \n          4        25190.5  261.4290  99.8750  22.8430  0.5995  10.6000   \n     2001 1        27301.0  188.9755  64.1785   5.0435  0.0000   7.5840   \n...                    ...       ...      ...      ...     ...      ...   \n9998 2010 4        22707.0   23.6580   0.3280   0.0000  0.0000   4.4090   \n     2011 1        22707.0   23.5840   0.3310   0.0000  0.0000   5.2070   \n          2        22707.0   24.8190   0.3450   0.0000  0.0000   5.3220   \n          3        22707.0   25.9010   0.3210   0.0000  0.0000   5.5430   \n          4        22707.0   26.2730   0.2900   0.0000  0.0000   5.8310   \n\n                       lct       act    invtq  intanq  ...  net_profit_margin  \\\nsic  year quarter                                      ...                      \n100  2000 1        25.2875  135.9875  13.0340     NaN  ...          27.073591   \n          2        23.3750  170.3230  16.6470     NaN  ...          31.971606   \n          3        58.4605  183.2935  24.2520     NaN  ...          34.283935   \n          4        60.8015  261.4290  48.3020     NaN  ...          29.187245   \n     2001 1        20.8235  188.9755  18.4565     NaN  ...          31.844447   \n...                    ...       ...      ...     ...  ...                ...   \n9998 2010 4         0.3280   23.6580   0.0000     0.0  ...                NaN   \n     2011 1         0.3310   23.5840   0.0000     0.0  ...                NaN   \n          2         0.3450   24.8190   0.0000     0.0  ...                NaN   \n          3         0.3210   25.9010   0.0000     0.0  ...                NaN   \n          4         0.2900   26.2730   0.0000     0.0  ...                NaN   \n\n                        roa  asset_turnover  inventory_turnover  \\\nsic  year quarter                                                 \n100  2000 1        0.387070        1.000000             -1.4150   \n          2        0.306799        0.490545              0.0480   \n          3       -0.895477        0.268579              0.0265   \n          4       -0.695809        0.368586             -0.5985   \n     2001 1        0.459175        1.000000             -0.1840   \n...                     ...             ...                 ...   \n9998 2010 4        1.327247             NaN              0.0000   \n     2011 1       -0.326493             NaN              0.0000   \n          2        4.919618             NaN              0.0000   \n          3        4.270105             NaN              0.0000   \n          4        1.533894             NaN              0.0000   \n\n                   inventory_days  receivables_turnover         dso  \\\nsic  year quarter                                                     \n100  2000 1               -1.4150              1.256291  290.537691   \n          2                0.0480              1.865352  195.674495   \n          3                0.0265              1.167319  312.682355   \n          4               -0.5985              1.708163  213.679809   \n     2001 1               -0.1840              1.414857  257.976672   \n...                           ...                   ...         ...   \n9998 2010 4                0.0000                   NaN         NaN   \n     2011 1                0.0000                   NaN         NaN   \n          2                0.0000                   NaN         NaN   \n          3                0.0000                   NaN         NaN   \n          4                0.0000                   NaN         NaN   \n\n                   working_capital_turnover  pe_ratio  retention_ratio  \nsic  year quarter                                                       \n100  2000 1                        0.715197  2.622581         6.317000  \n          2                        0.787421  7.569444        -2.053154  \n          3                        0.978917  3.058333       -37.735064  \n          4                        1.111724  2.433333        15.754666  \n     2001 1                        0.742822 -0.138249        24.023000  \n...                                     ...       ...              ...  \n9998 2010 4                        0.000000  7.056338       132.063783  \n     2011 1                        0.000000  8.709677        16.946000  \n          2                        0.000000  8.450704        17.021333  \n          3                        0.000000  7.800000        39.208183  \n          4                        0.000000  7.594937       129.529598  \n\n[39285 rows x 38 columns]",
      "text/html": "<div>\n<style scoped>\n    .dataframe tbody tr th:only-of-type {\n        vertical-align: middle;\n    }\n\n    .dataframe tbody tr th {\n        vertical-align: top;\n    }\n\n    .dataframe thead th {\n        text-align: right;\n    }\n</style>\n<table border=\"1\" class=\"dataframe\">\n  <thead>\n    <tr style=\"text-align: right;\">\n      <th></th>\n      <th></th>\n      <th></th>\n      <th>gvkey</th>\n      <th>ta</th>\n      <th>lt</th>\n      <th>dlc</th>\n      <th>dtp</th>\n      <th>che</th>\n      <th>lct</th>\n      <th>act</th>\n      <th>invtq</th>\n      <th>intanq</th>\n      <th>...</th>\n      <th>net_profit_margin</th>\n      <th>roa</th>\n      <th>asset_turnover</th>\n      <th>inventory_turnover</th>\n      <th>inventory_days</th>\n      <th>receivables_turnover</th>\n      <th>dso</th>\n      <th>working_capital_turnover</th>\n      <th>pe_ratio</th>\n      <th>retention_ratio</th>\n    </tr>\n    <tr>\n      <th>sic</th>\n      <th>year</th>\n      <th>quarter</th>\n      <th></th>\n      <th></th>\n      <th></th>\n      <th></th>\n      <th></th>\n      <th></th>\n      <th></th>\n      <th></th>\n      <th></th>\n      <th></th>\n      <th></th>\n      <th></th>\n      <th></th>\n      <th></th>\n      <th></th>\n      <th></th>\n      <th></th>\n      <th></th>\n      <th></th>\n      <th></th>\n      <th></th>\n    </tr>\n  </thead>\n  <tbody>\n    <tr>\n      <th rowspan=\"5\" valign=\"top\">100</th>\n      <th rowspan=\"4\" valign=\"top\">2000</th>\n      <th>1</th>\n      <td>26100.5</td>\n      <td>135.9875</td>\n      <td>63.1280</td>\n      <td>3.1075</td>\n      <td>0.0000</td>\n      <td>3.8000</td>\n      <td>25.2875</td>\n      <td>135.9875</td>\n      <td>13.0340</td>\n      <td>NaN</td>\n      <td>...</td>\n      <td>27.073591</td>\n      <td>0.387070</td>\n      <td>1.000000</td>\n      <td>-1.4150</td>\n      <td>-1.4150</td>\n      <td>1.256291</td>\n      <td>290.537691</td>\n      <td>0.715197</td>\n      <td>2.622581</td>\n      <td>6.317000</td>\n    </tr>\n    <tr>\n      <th>2</th>\n      <td>26100.5</td>\n      <td>170.3230</td>\n      <td>70.1710</td>\n      <td>2.5400</td>\n      <td>0.0000</td>\n      <td>6.2990</td>\n      <td>23.3750</td>\n      <td>170.3230</td>\n      <td>16.6470</td>\n      <td>NaN</td>\n      <td>...</td>\n      <td>31.971606</td>\n      <td>0.306799</td>\n      <td>0.490545</td>\n      <td>0.0480</td>\n      <td>0.0480</td>\n      <td>1.865352</td>\n      <td>195.674495</td>\n      <td>0.787421</td>\n      <td>7.569444</td>\n      <td>-2.053154</td>\n    </tr>\n    <tr>\n      <th>3</th>\n      <td>24900.0</td>\n      <td>183.2935</td>\n      <td>91.3005</td>\n      <td>13.8835</td>\n      <td>0.0000</td>\n      <td>6.5265</td>\n      <td>58.4605</td>\n      <td>183.2935</td>\n      <td>24.2520</td>\n      <td>NaN</td>\n      <td>...</td>\n      <td>34.283935</td>\n      <td>-0.895477</td>\n      <td>0.268579</td>\n      <td>0.0265</td>\n      <td>0.0265</td>\n      <td>1.167319</td>\n      <td>312.682355</td>\n      <td>0.978917</td>\n      <td>3.058333</td>\n      <td>-37.735064</td>\n    </tr>\n    <tr>\n      <th>4</th>\n      <td>25190.5</td>\n      <td>261.4290</td>\n      <td>99.8750</td>\n      <td>22.8430</td>\n      <td>0.5995</td>\n      <td>10.6000</td>\n      <td>60.8015</td>\n      <td>261.4290</td>\n      <td>48.3020</td>\n      <td>NaN</td>\n      <td>...</td>\n      <td>29.187245</td>\n      <td>-0.695809</td>\n      <td>0.368586</td>\n      <td>-0.5985</td>\n      <td>-0.5985</td>\n      <td>1.708163</td>\n      <td>213.679809</td>\n      <td>1.111724</td>\n      <td>2.433333</td>\n      <td>15.754666</td>\n    </tr>\n    <tr>\n      <th>2001</th>\n      <th>1</th>\n      <td>27301.0</td>\n      <td>188.9755</td>\n      <td>64.1785</td>\n      <td>5.0435</td>\n      <td>0.0000</td>\n      <td>7.5840</td>\n      <td>20.8235</td>\n      <td>188.9755</td>\n      <td>18.4565</td>\n      <td>NaN</td>\n      <td>...</td>\n      <td>31.844447</td>\n      <td>0.459175</td>\n      <td>1.000000</td>\n      <td>-0.1840</td>\n      <td>-0.1840</td>\n      <td>1.414857</td>\n      <td>257.976672</td>\n      <td>0.742822</td>\n      <td>-0.138249</td>\n      <td>24.023000</td>\n    </tr>\n    <tr>\n      <th>...</th>\n      <th>...</th>\n      <th>...</th>\n      <td>...</td>\n      <td>...</td>\n      <td>...</td>\n      <td>...</td>\n      <td>...</td>\n      <td>...</td>\n      <td>...</td>\n      <td>...</td>\n      <td>...</td>\n      <td>...</td>\n      <td>...</td>\n      <td>...</td>\n      <td>...</td>\n      <td>...</td>\n      <td>...</td>\n      <td>...</td>\n      <td>...</td>\n      <td>...</td>\n      <td>...</td>\n      <td>...</td>\n      <td>...</td>\n    </tr>\n    <tr>\n      <th rowspan=\"5\" valign=\"top\">9998</th>\n      <th>2010</th>\n      <th>4</th>\n      <td>22707.0</td>\n      <td>23.6580</td>\n      <td>0.3280</td>\n      <td>0.0000</td>\n      <td>0.0000</td>\n      <td>4.4090</td>\n      <td>0.3280</td>\n      <td>23.6580</td>\n      <td>0.0000</td>\n      <td>0.0</td>\n      <td>...</td>\n      <td>NaN</td>\n      <td>1.327247</td>\n      <td>NaN</td>\n      <td>0.0000</td>\n      <td>0.0000</td>\n      <td>NaN</td>\n      <td>NaN</td>\n      <td>0.000000</td>\n      <td>7.056338</td>\n      <td>132.063783</td>\n    </tr>\n    <tr>\n      <th rowspan=\"4\" valign=\"top\">2011</th>\n      <th>1</th>\n      <td>22707.0</td>\n      <td>23.5840</td>\n      <td>0.3310</td>\n      <td>0.0000</td>\n      <td>0.0000</td>\n      <td>5.2070</td>\n      <td>0.3310</td>\n      <td>23.5840</td>\n      <td>0.0000</td>\n      <td>0.0</td>\n      <td>...</td>\n      <td>NaN</td>\n      <td>-0.326493</td>\n      <td>NaN</td>\n      <td>0.0000</td>\n      <td>0.0000</td>\n      <td>NaN</td>\n      <td>NaN</td>\n      <td>0.000000</td>\n      <td>8.709677</td>\n      <td>16.946000</td>\n    </tr>\n    <tr>\n      <th>2</th>\n      <td>22707.0</td>\n      <td>24.8190</td>\n      <td>0.3450</td>\n      <td>0.0000</td>\n      <td>0.0000</td>\n      <td>5.3220</td>\n      <td>0.3450</td>\n      <td>24.8190</td>\n      <td>0.0000</td>\n      <td>0.0</td>\n      <td>...</td>\n      <td>NaN</td>\n      <td>4.919618</td>\n      <td>NaN</td>\n      <td>0.0000</td>\n      <td>0.0000</td>\n      <td>NaN</td>\n      <td>NaN</td>\n      <td>0.000000</td>\n      <td>8.450704</td>\n      <td>17.021333</td>\n    </tr>\n    <tr>\n      <th>3</th>\n      <td>22707.0</td>\n      <td>25.9010</td>\n      <td>0.3210</td>\n      <td>0.0000</td>\n      <td>0.0000</td>\n      <td>5.5430</td>\n      <td>0.3210</td>\n      <td>25.9010</td>\n      <td>0.0000</td>\n      <td>0.0</td>\n      <td>...</td>\n      <td>NaN</td>\n      <td>4.270105</td>\n      <td>NaN</td>\n      <td>0.0000</td>\n      <td>0.0000</td>\n      <td>NaN</td>\n      <td>NaN</td>\n      <td>0.000000</td>\n      <td>7.800000</td>\n      <td>39.208183</td>\n    </tr>\n    <tr>\n      <th>4</th>\n      <td>22707.0</td>\n      <td>26.2730</td>\n      <td>0.2900</td>\n      <td>0.0000</td>\n      <td>0.0000</td>\n      <td>5.8310</td>\n      <td>0.2900</td>\n      <td>26.2730</td>\n      <td>0.0000</td>\n      <td>0.0</td>\n      <td>...</td>\n      <td>NaN</td>\n      <td>1.533894</td>\n      <td>NaN</td>\n      <td>0.0000</td>\n      <td>0.0000</td>\n      <td>NaN</td>\n      <td>NaN</td>\n      <td>0.000000</td>\n      <td>7.594937</td>\n      <td>129.529598</td>\n    </tr>\n  </tbody>\n</table>\n<p>39285 rows × 38 columns</p>\n</div>"
     },
     "execution_count": 30,
     "metadata": {},
     "output_type": "execute_result"
    }
   ],
   "source": [
    "sector_date_median = df_with_ratios_dropped_gvkey_v2.groupby(['sic', 'year', 'quarter']).median()\n",
    "sector_date_median"
   ],
   "metadata": {
    "collapsed": false,
    "ExecuteTime": {
     "end_time": "2023-10-14T12:23:03.759800Z",
     "start_time": "2023-10-14T12:23:03.296239Z"
    }
   },
   "id": "60e9cfeb22f9a10b"
  },
  {
   "cell_type": "code",
   "execution_count": 31,
   "outputs": [
    {
     "data": {
      "text/plain": "3.8"
     },
     "execution_count": 31,
     "metadata": {},
     "output_type": "execute_result"
    }
   ],
   "source": [
    "sector_date_median[sector_date_median.index == (100,2000,1)]['che'].iloc[0]"
   ],
   "metadata": {
    "collapsed": false,
    "ExecuteTime": {
     "end_time": "2023-10-14T12:23:07.485250Z",
     "start_time": "2023-10-14T12:23:07.432684Z"
    }
   },
   "id": "337f572f3f1bf264"
  },
  {
   "cell_type": "code",
   "execution_count": 32,
   "outputs": [
    {
     "data": {
      "text/plain": "['ta',\n 'lt',\n 'dlc',\n 'dtp',\n 'che',\n 'lct',\n 'act',\n 'invtq',\n 'intanq',\n 'oiadp',\n 'txp',\n 'pi',\n 'ni',\n 'rev',\n 'cogs',\n 'oancf',\n 'ivncf',\n 'fncfa',\n 'curr_ratio',\n 'quick_ratio',\n 'cash_ratio',\n 'net_working_capital',\n 'debt_ratio',\n 'debt_equity_ratio',\n 'equity_ratio',\n 'financial_leverage_ratio',\n 'cashflow_debt_ratio',\n 'net_profit_margin',\n 'roa',\n 'asset_turnover',\n 'inventory_turnover',\n 'inventory_days',\n 'receivables_turnover',\n 'dso',\n 'working_capital_turnover',\n 'pe_ratio',\n 'retention_ratio']"
     },
     "execution_count": 32,
     "metadata": {},
     "output_type": "execute_result"
    }
   ],
   "source": [
    "cols_to_check = [col for col in df_with_ratios_dropped_gvkey_v2.columns if col not in ['datadate', 'year', 'quarter', 'sic', 'gvkey', 'tic']]\n",
    "cols_to_check"
   ],
   "metadata": {
    "collapsed": false,
    "ExecuteTime": {
     "end_time": "2023-10-14T12:23:08.726508Z",
     "start_time": "2023-10-14T12:23:08.716568Z"
    }
   },
   "id": "1b8254cad68aa301"
  },
  {
   "cell_type": "code",
   "execution_count": 34,
   "outputs": [],
   "source": [
    "# %%time\n",
    "import numpy as np\n",
    "def fill_with_median(x):\n",
    "    sic = x['sic']\n",
    "    year = x['year']\n",
    "    quarter = x['quarter']\n",
    "    for col in cols_to_check: \n",
    "        if np.isnan(x[col]): \n",
    "            median = sector_date_median[sector_date_median.index == (sic,year,quarter)][col].iloc[0]\n",
    "            x[col] = median\n",
    "    return x\n",
    "\n",
    "cols_median = ['sic', 'year', 'quarter']\n",
    "\n",
    "df_inputed1 = df_with_ratios_dropped_gvkey_v2[:50000].apply(fill_with_median, axis=1)"
   ],
   "metadata": {
    "collapsed": false,
    "ExecuteTime": {
     "end_time": "2023-10-14T12:30:38.296892Z",
     "start_time": "2023-10-14T12:27:16.943182Z"
    }
   },
   "id": "fb6659f626cdd823"
  },
  {
   "cell_type": "code",
   "execution_count": 36,
   "outputs": [],
   "source": [
    "df_inputed2 = df_with_ratios_dropped_gvkey_v2[50000:100000].apply(fill_with_median, axis=1)\n",
    "df_inputed3 = df_with_ratios_dropped_gvkey_v2[100000:150000].apply(fill_with_median, axis=1)\n",
    "df_inputed4 = df_with_ratios_dropped_gvkey_v2[150000:200000].apply(fill_with_median, axis=1)\n"
   ],
   "metadata": {
    "collapsed": false,
    "ExecuteTime": {
     "end_time": "2023-10-14T12:51:39.749613Z",
     "start_time": "2023-10-14T12:38:45.704782Z"
    }
   },
   "id": "2f05fe6bade5f41e"
  },
  {
   "cell_type": "code",
   "execution_count": 37,
   "outputs": [],
   "source": [
    "df_inputed5 = df_with_ratios_dropped_gvkey_v2[200000:250000].apply(fill_with_median, axis=1)\n",
    "df_inputed6 = df_with_ratios_dropped_gvkey_v2[250000:300000].apply(fill_with_median, axis=1)"
   ],
   "metadata": {
    "collapsed": false,
    "ExecuteTime": {
     "end_time": "2023-10-14T13:06:22.308307Z",
     "start_time": "2023-10-14T12:52:42.489911Z"
    }
   },
   "id": "169334a0d2b57774"
  },
  {
   "cell_type": "code",
   "execution_count": 46,
   "outputs": [],
   "source": [
    "df_inputed7 = df_with_ratios_dropped_gvkey_v2[300000:350000].apply(fill_with_median, axis=1)\n",
    "df_inputed8 = df_with_ratios_dropped_gvkey_v2[350000:400000].apply(fill_with_median, axis=1)\n",
    "df_inputed9 = df_with_ratios_dropped_gvkey_v2[400000:450000].apply(fill_with_median, axis=1)"
   ],
   "metadata": {
    "collapsed": false,
    "ExecuteTime": {
     "end_time": "2023-10-14T13:35:09.884377Z",
     "start_time": "2023-10-14T13:12:01.621426Z"
    }
   },
   "id": "1ea8a9139f051fc5"
  },
  {
   "cell_type": "code",
   "execution_count": 48,
   "outputs": [],
   "source": [
    "combined = pd.DataFrame()\n",
    "for df in [\n",
    "    df_inputed1,\n",
    "    df_inputed2,\n",
    "        df_inputed3,\n",
    "    df_inputed4,\n",
    "        df_inputed5,\n",
    "    df_inputed6,\n",
    "        df_inputed7,\n",
    "    df_inputed8,\n",
    "    df_inputed9,\n",
    "]:\n",
    "    combined = pd.concat([combined, df])\n",
    "    \n",
    "    "
   ],
   "metadata": {
    "collapsed": false,
    "ExecuteTime": {
     "end_time": "2023-10-14T13:40:16.846496Z",
     "start_time": "2023-10-14T13:40:16.656576Z"
    }
   },
   "id": "8606843416ad188e"
  },
  {
   "cell_type": "code",
   "execution_count": 53,
   "outputs": [],
   "source": [
    "df_inputed10 = df_with_ratios_dropped_gvkey_v2[450000:500000].apply(fill_with_median, axis=1)\n",
    "df_inputed11 = df_with_ratios_dropped_gvkey_v2[500000:550000].apply(fill_with_median, axis=1)\n",
    "df_inputed12 = df_with_ratios_dropped_gvkey_v2[550000:600000].apply(fill_with_median, axis=1)"
   ],
   "metadata": {
    "collapsed": false,
    "ExecuteTime": {
     "end_time": "2023-10-14T13:58:10.374641Z",
     "start_time": "2023-10-14T13:44:01.958194Z"
    }
   },
   "id": "11815fb08c031251"
  },
  {
   "cell_type": "code",
   "execution_count": 54,
   "outputs": [],
   "source": [
    "df_inputed13 = df_with_ratios_dropped_gvkey_v2[600000:650000].apply(fill_with_median, axis=1)\n",
    "df_inputed14 = df_with_ratios_dropped_gvkey_v2[650000:700000].apply(fill_with_median, axis=1)\n",
    "df_inputed15 = df_with_ratios_dropped_gvkey_v2[700000:750000].apply(fill_with_median, axis=1)"
   ],
   "metadata": {
    "collapsed": false,
    "ExecuteTime": {
     "end_time": "2023-10-14T14:17:37.849931Z",
     "start_time": "2023-10-14T13:58:34.227164Z"
    }
   },
   "id": "47f5adf2daeff8de"
  },
  {
   "cell_type": "code",
   "execution_count": 55,
   "outputs": [],
   "source": [
    "\n",
    "df_inputed16 = df_with_ratios_dropped_gvkey_v2[750000:800000].apply(fill_with_median, axis=1)\n",
    "df_inputed17 = df_with_ratios_dropped_gvkey_v2[800000:850000].apply(fill_with_median, axis=1)\n",
    "df_inputed18 = df_with_ratios_dropped_gvkey_v2[850000:].apply(fill_with_median, axis=1)"
   ],
   "metadata": {
    "collapsed": false,
    "ExecuteTime": {
     "end_time": "2023-10-14T14:32:50.622599Z",
     "start_time": "2023-10-14T14:18:05.275695Z"
    }
   },
   "id": "5fccc973a879d115"
  },
  {
   "cell_type": "code",
   "execution_count": 56,
   "outputs": [],
   "source": [
    "for df in [\n",
    "    df_inputed10,\n",
    "    df_inputed11,\n",
    "        df_inputed12,\n",
    "    df_inputed13,\n",
    "        df_inputed14,\n",
    "    df_inputed15,\n",
    "        df_inputed16,\n",
    "    df_inputed17,\n",
    "    df_inputed18,\n",
    "]:\n",
    "    combined = pd.concat([combined, df])"
   ],
   "metadata": {
    "collapsed": false,
    "ExecuteTime": {
     "end_time": "2023-10-14T14:33:58.115631Z",
     "start_time": "2023-10-14T14:33:57.505408Z"
    }
   },
   "id": "bcaf60a5f63d7afc"
  },
  {
   "cell_type": "code",
   "execution_count": 57,
   "outputs": [],
   "source": [
    "combined.to_pickle('./combined_final.pkl')"
   ],
   "metadata": {
    "collapsed": false,
    "ExecuteTime": {
     "end_time": "2023-10-14T14:34:40.962504Z",
     "start_time": "2023-10-14T14:34:40.772906Z"
    }
   },
   "id": "e19d0798ac658575"
  },
  {
   "cell_type": "code",
   "execution_count": 61,
   "outputs": [
    {
     "data": {
      "text/plain": "                          pct_nan_before_sector_inpute  \\\ndatadate                                      0.000000   \ngvkey                                         0.000000   \ntic                                           0.022995   \nsic                                           0.000000   \nta                                            4.754466   \nlt                                            4.860222   \ndlc                                           8.674613   \ndtp                                          14.755406   \nche                                           4.981339   \nlct                                          17.225129   \nact                                           4.754466   \ninvtq                                         6.486037   \nintanq                                       11.583559   \noiadp                                         9.387257   \ntxp                                          15.707863   \npi                                            3.126044   \nni                                            2.766976   \nrev                                          17.352670   \ncogs                                         11.518951   \noancf                                         7.920076   \nivncf                                         7.942326   \nfncfa                                         7.943815   \ncurr_ratio                                   17.477138   \nquick_ratio                                  18.576034   \ncash_ratio                                   18.613458   \nnet_working_capital                          17.439993   \ndebt_ratio                                   18.230651   \ndebt_equity_ratio                             5.687187   \nequity_ratio                                 17.639403   \nfinancial_leverage_ratio                     17.639403   \ncashflow_debt_ratio                           8.608143   \nnet_profit_margin                            16.705751   \nroa                                           5.203557   \nasset_turnover                               11.505731   \ninventory_turnover                           17.576098   \ninventory_days                               17.576098   \nreceivables_turnover                         10.332080   \ndso                                          10.332080   \nworking_capital_turnover                     17.883685   \npe_ratio                                     12.563386   \nretention_ratio                               8.709430   \nyear                                          0.000000   \nquarter                                       0.000000   \n\n                          pct_nan_after_sector_inpute  \ndatadate                                     0.000000  \ngvkey                                        0.000000  \ntic                                          0.022995  \nsic                                          0.000000  \nta                                           0.018340  \nlt                                           0.018712  \ndlc                                          0.036866  \ndtp                                          0.457098  \nche                                          0.018433  \nlct                                          5.692680  \nact                                          0.018340  \ninvtq                                        0.022808  \nintanq                                       1.306312  \noiadp                                        0.023646  \ntxp                                          0.477206  \npi                                           0.009216  \nni                                           0.010147  \nrev                                          0.409898  \ncogs                                         0.015919  \noancf                                        0.125213  \nivncf                                        0.125213  \nfncfa                                        0.125213  \ncurr_ratio                                   6.030895  \nquick_ratio                                  6.067760  \ncash_ratio                                   6.136465  \nnet_working_capital                          6.019630  \ndebt_ratio                                   6.113377  \ndebt_equity_ratio                            0.019643  \nequity_ratio                                 6.018420  \nfinancial_leverage_ratio                     6.018420  \ncashflow_debt_ratio                          0.128844  \nnet_profit_margin                            0.408967  \nroa                                          0.019550  \nasset_turnover                               0.016292  \ninventory_turnover                           0.351807  \ninventory_days                               0.351807  \nreceivables_turnover                         0.022995  \ndso                                          0.022995  \nworking_capital_turnover                     6.037132  \npe_ratio                                     0.051109  \nretention_ratio                              0.030628  \nyear                                         0.000000  \nquarter                                      0.000000  ",
      "text/html": "<div>\n<style scoped>\n    .dataframe tbody tr th:only-of-type {\n        vertical-align: middle;\n    }\n\n    .dataframe tbody tr th {\n        vertical-align: top;\n    }\n\n    .dataframe thead th {\n        text-align: right;\n    }\n</style>\n<table border=\"1\" class=\"dataframe\">\n  <thead>\n    <tr style=\"text-align: right;\">\n      <th></th>\n      <th>pct_nan_before_sector_inpute</th>\n      <th>pct_nan_after_sector_inpute</th>\n    </tr>\n  </thead>\n  <tbody>\n    <tr>\n      <th>datadate</th>\n      <td>0.000000</td>\n      <td>0.000000</td>\n    </tr>\n    <tr>\n      <th>gvkey</th>\n      <td>0.000000</td>\n      <td>0.000000</td>\n    </tr>\n    <tr>\n      <th>tic</th>\n      <td>0.022995</td>\n      <td>0.022995</td>\n    </tr>\n    <tr>\n      <th>sic</th>\n      <td>0.000000</td>\n      <td>0.000000</td>\n    </tr>\n    <tr>\n      <th>ta</th>\n      <td>4.754466</td>\n      <td>0.018340</td>\n    </tr>\n    <tr>\n      <th>lt</th>\n      <td>4.860222</td>\n      <td>0.018712</td>\n    </tr>\n    <tr>\n      <th>dlc</th>\n      <td>8.674613</td>\n      <td>0.036866</td>\n    </tr>\n    <tr>\n      <th>dtp</th>\n      <td>14.755406</td>\n      <td>0.457098</td>\n    </tr>\n    <tr>\n      <th>che</th>\n      <td>4.981339</td>\n      <td>0.018433</td>\n    </tr>\n    <tr>\n      <th>lct</th>\n      <td>17.225129</td>\n      <td>5.692680</td>\n    </tr>\n    <tr>\n      <th>act</th>\n      <td>4.754466</td>\n      <td>0.018340</td>\n    </tr>\n    <tr>\n      <th>invtq</th>\n      <td>6.486037</td>\n      <td>0.022808</td>\n    </tr>\n    <tr>\n      <th>intanq</th>\n      <td>11.583559</td>\n      <td>1.306312</td>\n    </tr>\n    <tr>\n      <th>oiadp</th>\n      <td>9.387257</td>\n      <td>0.023646</td>\n    </tr>\n    <tr>\n      <th>txp</th>\n      <td>15.707863</td>\n      <td>0.477206</td>\n    </tr>\n    <tr>\n      <th>pi</th>\n      <td>3.126044</td>\n      <td>0.009216</td>\n    </tr>\n    <tr>\n      <th>ni</th>\n      <td>2.766976</td>\n      <td>0.010147</td>\n    </tr>\n    <tr>\n      <th>rev</th>\n      <td>17.352670</td>\n      <td>0.409898</td>\n    </tr>\n    <tr>\n      <th>cogs</th>\n      <td>11.518951</td>\n      <td>0.015919</td>\n    </tr>\n    <tr>\n      <th>oancf</th>\n      <td>7.920076</td>\n      <td>0.125213</td>\n    </tr>\n    <tr>\n      <th>ivncf</th>\n      <td>7.942326</td>\n      <td>0.125213</td>\n    </tr>\n    <tr>\n      <th>fncfa</th>\n      <td>7.943815</td>\n      <td>0.125213</td>\n    </tr>\n    <tr>\n      <th>curr_ratio</th>\n      <td>17.477138</td>\n      <td>6.030895</td>\n    </tr>\n    <tr>\n      <th>quick_ratio</th>\n      <td>18.576034</td>\n      <td>6.067760</td>\n    </tr>\n    <tr>\n      <th>cash_ratio</th>\n      <td>18.613458</td>\n      <td>6.136465</td>\n    </tr>\n    <tr>\n      <th>net_working_capital</th>\n      <td>17.439993</td>\n      <td>6.019630</td>\n    </tr>\n    <tr>\n      <th>debt_ratio</th>\n      <td>18.230651</td>\n      <td>6.113377</td>\n    </tr>\n    <tr>\n      <th>debt_equity_ratio</th>\n      <td>5.687187</td>\n      <td>0.019643</td>\n    </tr>\n    <tr>\n      <th>equity_ratio</th>\n      <td>17.639403</td>\n      <td>6.018420</td>\n    </tr>\n    <tr>\n      <th>financial_leverage_ratio</th>\n      <td>17.639403</td>\n      <td>6.018420</td>\n    </tr>\n    <tr>\n      <th>cashflow_debt_ratio</th>\n      <td>8.608143</td>\n      <td>0.128844</td>\n    </tr>\n    <tr>\n      <th>net_profit_margin</th>\n      <td>16.705751</td>\n      <td>0.408967</td>\n    </tr>\n    <tr>\n      <th>roa</th>\n      <td>5.203557</td>\n      <td>0.019550</td>\n    </tr>\n    <tr>\n      <th>asset_turnover</th>\n      <td>11.505731</td>\n      <td>0.016292</td>\n    </tr>\n    <tr>\n      <th>inventory_turnover</th>\n      <td>17.576098</td>\n      <td>0.351807</td>\n    </tr>\n    <tr>\n      <th>inventory_days</th>\n      <td>17.576098</td>\n      <td>0.351807</td>\n    </tr>\n    <tr>\n      <th>receivables_turnover</th>\n      <td>10.332080</td>\n      <td>0.022995</td>\n    </tr>\n    <tr>\n      <th>dso</th>\n      <td>10.332080</td>\n      <td>0.022995</td>\n    </tr>\n    <tr>\n      <th>working_capital_turnover</th>\n      <td>17.883685</td>\n      <td>6.037132</td>\n    </tr>\n    <tr>\n      <th>pe_ratio</th>\n      <td>12.563386</td>\n      <td>0.051109</td>\n    </tr>\n    <tr>\n      <th>retention_ratio</th>\n      <td>8.709430</td>\n      <td>0.030628</td>\n    </tr>\n    <tr>\n      <th>year</th>\n      <td>0.000000</td>\n      <td>0.000000</td>\n    </tr>\n    <tr>\n      <th>quarter</th>\n      <td>0.000000</td>\n      <td>0.000000</td>\n    </tr>\n  </tbody>\n</table>\n</div>"
     },
     "execution_count": 61,
     "metadata": {},
     "output_type": "execute_result"
    }
   ],
   "source": [
    "nan_breakdown = pd.DataFrame()\n",
    "nan_breakdown['pct_nan_before_sector_inpute'] = (df_with_ratios_dropped_gvkey_v2.isna().sum() / len(df_with_ratios)) * 100\n",
    "nan_breakdown['pct_nan_after_sector_inpute'] = (combined.isna().sum() / len(df_with_ratios)) * 100\n",
    "nan_breakdown"
   ],
   "metadata": {
    "collapsed": false,
    "ExecuteTime": {
     "end_time": "2023-10-14T14:44:08.189729Z",
     "start_time": "2023-10-14T14:44:07.926358Z"
    }
   },
   "id": "8fd6b7446589c93d"
  },
  {
   "cell_type": "code",
   "execution_count": 63,
   "outputs": [],
   "source": [
    "inputed_data_ffill = combined.ffill(limit=4)"
   ],
   "metadata": {
    "collapsed": false,
    "ExecuteTime": {
     "end_time": "2023-10-14T14:45:00.673750Z",
     "start_time": "2023-10-14T14:45:00.363842Z"
    }
   },
   "id": "ff6bbcc584663042"
  },
  {
   "cell_type": "code",
   "execution_count": 66,
   "outputs": [
    {
     "data": {
      "text/plain": "                          pct_nan_before_sector_inpute  \\\ndatadate                                      0.000000   \ngvkey                                         0.000000   \ntic                                           0.022995   \nsic                                           0.000000   \nta                                            4.754466   \nlt                                            4.860222   \ndlc                                           8.674613   \ndtp                                          14.755406   \nche                                           4.981339   \nlct                                          17.225129   \nact                                           4.754466   \ninvtq                                         6.486037   \nintanq                                       11.583559   \noiadp                                         9.387257   \ntxp                                          15.707863   \npi                                            3.126044   \nni                                            2.766976   \nrev                                          17.352670   \ncogs                                         11.518951   \noancf                                         7.920076   \nivncf                                         7.942326   \nfncfa                                         7.943815   \ncurr_ratio                                   17.477138   \nquick_ratio                                  18.576034   \ncash_ratio                                   18.613458   \nnet_working_capital                          17.439993   \ndebt_ratio                                   18.230651   \ndebt_equity_ratio                             5.687187   \nequity_ratio                                 17.639403   \nfinancial_leverage_ratio                     17.639403   \ncashflow_debt_ratio                           8.608143   \nnet_profit_margin                            16.705751   \nroa                                           5.203557   \nasset_turnover                               11.505731   \ninventory_turnover                           17.576098   \ninventory_days                               17.576098   \nreceivables_turnover                         10.332080   \ndso                                          10.332080   \nworking_capital_turnover                     17.883685   \npe_ratio                                     12.563386   \nretention_ratio                               8.709430   \nyear                                          0.000000   \nquarter                                       0.000000   \n\n                          pct_nan_after_sector_inpute  \\\ndatadate                                     0.000000   \ngvkey                                        0.000000   \ntic                                          0.022995   \nsic                                          0.000000   \nta                                           0.018340   \nlt                                           0.018712   \ndlc                                          0.036866   \ndtp                                          0.457098   \nche                                          0.018433   \nlct                                          5.692680   \nact                                          0.018340   \ninvtq                                        0.022808   \nintanq                                       1.306312   \noiadp                                        0.023646   \ntxp                                          0.477206   \npi                                           0.009216   \nni                                           0.010147   \nrev                                          0.409898   \ncogs                                         0.015919   \noancf                                        0.125213   \nivncf                                        0.125213   \nfncfa                                        0.125213   \ncurr_ratio                                   6.030895   \nquick_ratio                                  6.067760   \ncash_ratio                                   6.136465   \nnet_working_capital                          6.019630   \ndebt_ratio                                   6.113377   \ndebt_equity_ratio                            0.019643   \nequity_ratio                                 6.018420   \nfinancial_leverage_ratio                     6.018420   \ncashflow_debt_ratio                          0.128844   \nnet_profit_margin                            0.408967   \nroa                                          0.019550   \nasset_turnover                               0.016292   \ninventory_turnover                           0.351807   \ninventory_days                               0.351807   \nreceivables_turnover                         0.022995   \ndso                                          0.022995   \nworking_capital_turnover                     6.037132   \npe_ratio                                     0.051109   \nretention_ratio                              0.030628   \nyear                                         0.000000   \nquarter                                      0.000000   \n\n                          pct_nan_after_sector_inpute_and_ffill  \ndatadate                                               0.000000  \ngvkey                                                  0.000000  \ntic                                                    0.020388  \nsic                                                    0.000000  \nta                                                     0.000000  \nlt                                                     0.000652  \ndlc                                                    0.001490  \ndtp                                                    0.282823  \nche                                                    0.000000  \nlct                                                    4.342054  \nact                                                    0.000000  \ninvtq                                                  0.001117  \nintanq                                                 0.259084  \noiadp                                                  0.004841  \ntxp                                                    0.279379  \npi                                                     0.000186  \nni                                                     0.000559  \nrev                                                    0.278913  \ncogs                                                   0.004003  \noancf                                                  0.002420  \nivncf                                                  0.002420  \nfncfa                                                  0.002420  \ncurr_ratio                                             4.752697  \nquick_ratio                                            4.754652  \ncash_ratio                                             4.615847  \nnet_working_capital                                    4.752604  \ndebt_ratio                                             4.755583  \ndebt_equity_ratio                                      0.000000  \nequity_ratio                                           4.719648  \nfinancial_leverage_ratio                               4.719648  \ncashflow_debt_ratio                                    0.002514  \nnet_profit_margin                                      0.277889  \nroa                                                    0.000838  \nasset_turnover                                         0.005027  \ninventory_turnover                                     0.173343  \ninventory_days                                         0.173343  \nreceivables_turnover                                   0.002420  \ndso                                                    0.002420  \nworking_capital_turnover                               4.756886  \npe_ratio                                               0.027742  \nretention_ratio                                        0.003817  \nyear                                                   0.000000  \nquarter                                                0.000000  ",
      "text/html": "<div>\n<style scoped>\n    .dataframe tbody tr th:only-of-type {\n        vertical-align: middle;\n    }\n\n    .dataframe tbody tr th {\n        vertical-align: top;\n    }\n\n    .dataframe thead th {\n        text-align: right;\n    }\n</style>\n<table border=\"1\" class=\"dataframe\">\n  <thead>\n    <tr style=\"text-align: right;\">\n      <th></th>\n      <th>pct_nan_before_sector_inpute</th>\n      <th>pct_nan_after_sector_inpute</th>\n      <th>pct_nan_after_sector_inpute_and_ffill</th>\n    </tr>\n  </thead>\n  <tbody>\n    <tr>\n      <th>datadate</th>\n      <td>0.000000</td>\n      <td>0.000000</td>\n      <td>0.000000</td>\n    </tr>\n    <tr>\n      <th>gvkey</th>\n      <td>0.000000</td>\n      <td>0.000000</td>\n      <td>0.000000</td>\n    </tr>\n    <tr>\n      <th>tic</th>\n      <td>0.022995</td>\n      <td>0.022995</td>\n      <td>0.020388</td>\n    </tr>\n    <tr>\n      <th>sic</th>\n      <td>0.000000</td>\n      <td>0.000000</td>\n      <td>0.000000</td>\n    </tr>\n    <tr>\n      <th>ta</th>\n      <td>4.754466</td>\n      <td>0.018340</td>\n      <td>0.000000</td>\n    </tr>\n    <tr>\n      <th>lt</th>\n      <td>4.860222</td>\n      <td>0.018712</td>\n      <td>0.000652</td>\n    </tr>\n    <tr>\n      <th>dlc</th>\n      <td>8.674613</td>\n      <td>0.036866</td>\n      <td>0.001490</td>\n    </tr>\n    <tr>\n      <th>dtp</th>\n      <td>14.755406</td>\n      <td>0.457098</td>\n      <td>0.282823</td>\n    </tr>\n    <tr>\n      <th>che</th>\n      <td>4.981339</td>\n      <td>0.018433</td>\n      <td>0.000000</td>\n    </tr>\n    <tr>\n      <th>lct</th>\n      <td>17.225129</td>\n      <td>5.692680</td>\n      <td>4.342054</td>\n    </tr>\n    <tr>\n      <th>act</th>\n      <td>4.754466</td>\n      <td>0.018340</td>\n      <td>0.000000</td>\n    </tr>\n    <tr>\n      <th>invtq</th>\n      <td>6.486037</td>\n      <td>0.022808</td>\n      <td>0.001117</td>\n    </tr>\n    <tr>\n      <th>intanq</th>\n      <td>11.583559</td>\n      <td>1.306312</td>\n      <td>0.259084</td>\n    </tr>\n    <tr>\n      <th>oiadp</th>\n      <td>9.387257</td>\n      <td>0.023646</td>\n      <td>0.004841</td>\n    </tr>\n    <tr>\n      <th>txp</th>\n      <td>15.707863</td>\n      <td>0.477206</td>\n      <td>0.279379</td>\n    </tr>\n    <tr>\n      <th>pi</th>\n      <td>3.126044</td>\n      <td>0.009216</td>\n      <td>0.000186</td>\n    </tr>\n    <tr>\n      <th>ni</th>\n      <td>2.766976</td>\n      <td>0.010147</td>\n      <td>0.000559</td>\n    </tr>\n    <tr>\n      <th>rev</th>\n      <td>17.352670</td>\n      <td>0.409898</td>\n      <td>0.278913</td>\n    </tr>\n    <tr>\n      <th>cogs</th>\n      <td>11.518951</td>\n      <td>0.015919</td>\n      <td>0.004003</td>\n    </tr>\n    <tr>\n      <th>oancf</th>\n      <td>7.920076</td>\n      <td>0.125213</td>\n      <td>0.002420</td>\n    </tr>\n    <tr>\n      <th>ivncf</th>\n      <td>7.942326</td>\n      <td>0.125213</td>\n      <td>0.002420</td>\n    </tr>\n    <tr>\n      <th>fncfa</th>\n      <td>7.943815</td>\n      <td>0.125213</td>\n      <td>0.002420</td>\n    </tr>\n    <tr>\n      <th>curr_ratio</th>\n      <td>17.477138</td>\n      <td>6.030895</td>\n      <td>4.752697</td>\n    </tr>\n    <tr>\n      <th>quick_ratio</th>\n      <td>18.576034</td>\n      <td>6.067760</td>\n      <td>4.754652</td>\n    </tr>\n    <tr>\n      <th>cash_ratio</th>\n      <td>18.613458</td>\n      <td>6.136465</td>\n      <td>4.615847</td>\n    </tr>\n    <tr>\n      <th>net_working_capital</th>\n      <td>17.439993</td>\n      <td>6.019630</td>\n      <td>4.752604</td>\n    </tr>\n    <tr>\n      <th>debt_ratio</th>\n      <td>18.230651</td>\n      <td>6.113377</td>\n      <td>4.755583</td>\n    </tr>\n    <tr>\n      <th>debt_equity_ratio</th>\n      <td>5.687187</td>\n      <td>0.019643</td>\n      <td>0.000000</td>\n    </tr>\n    <tr>\n      <th>equity_ratio</th>\n      <td>17.639403</td>\n      <td>6.018420</td>\n      <td>4.719648</td>\n    </tr>\n    <tr>\n      <th>financial_leverage_ratio</th>\n      <td>17.639403</td>\n      <td>6.018420</td>\n      <td>4.719648</td>\n    </tr>\n    <tr>\n      <th>cashflow_debt_ratio</th>\n      <td>8.608143</td>\n      <td>0.128844</td>\n      <td>0.002514</td>\n    </tr>\n    <tr>\n      <th>net_profit_margin</th>\n      <td>16.705751</td>\n      <td>0.408967</td>\n      <td>0.277889</td>\n    </tr>\n    <tr>\n      <th>roa</th>\n      <td>5.203557</td>\n      <td>0.019550</td>\n      <td>0.000838</td>\n    </tr>\n    <tr>\n      <th>asset_turnover</th>\n      <td>11.505731</td>\n      <td>0.016292</td>\n      <td>0.005027</td>\n    </tr>\n    <tr>\n      <th>inventory_turnover</th>\n      <td>17.576098</td>\n      <td>0.351807</td>\n      <td>0.173343</td>\n    </tr>\n    <tr>\n      <th>inventory_days</th>\n      <td>17.576098</td>\n      <td>0.351807</td>\n      <td>0.173343</td>\n    </tr>\n    <tr>\n      <th>receivables_turnover</th>\n      <td>10.332080</td>\n      <td>0.022995</td>\n      <td>0.002420</td>\n    </tr>\n    <tr>\n      <th>dso</th>\n      <td>10.332080</td>\n      <td>0.022995</td>\n      <td>0.002420</td>\n    </tr>\n    <tr>\n      <th>working_capital_turnover</th>\n      <td>17.883685</td>\n      <td>6.037132</td>\n      <td>4.756886</td>\n    </tr>\n    <tr>\n      <th>pe_ratio</th>\n      <td>12.563386</td>\n      <td>0.051109</td>\n      <td>0.027742</td>\n    </tr>\n    <tr>\n      <th>retention_ratio</th>\n      <td>8.709430</td>\n      <td>0.030628</td>\n      <td>0.003817</td>\n    </tr>\n    <tr>\n      <th>year</th>\n      <td>0.000000</td>\n      <td>0.000000</td>\n      <td>0.000000</td>\n    </tr>\n    <tr>\n      <th>quarter</th>\n      <td>0.000000</td>\n      <td>0.000000</td>\n      <td>0.000000</td>\n    </tr>\n  </tbody>\n</table>\n</div>"
     },
     "execution_count": 66,
     "metadata": {},
     "output_type": "execute_result"
    }
   ],
   "source": [
    "nan_breakdown = pd.DataFrame()\n",
    "nan_breakdown['pct_nan_before_sector_inpute'] = (df_with_ratios_dropped_gvkey_v2.isna().sum() / len(df_with_ratios)) * 100\n",
    "nan_breakdown['pct_nan_after_sector_inpute'] = (combined.isna().sum() / len(df_with_ratios)) * 100\n",
    "nan_breakdown['pct_nan_after_sector_inpute_and_ffill'] = (inputed_data_ffill.isna().sum() / len(df_with_ratios)) * 100\n",
    "nan_breakdown"
   ],
   "metadata": {
    "collapsed": false,
    "ExecuteTime": {
     "end_time": "2023-10-14T14:48:02.108815Z",
     "start_time": "2023-10-14T14:48:01.735457Z"
    }
   },
   "id": "75312ad3242ee1c3"
  },
  {
   "cell_type": "code",
   "execution_count": 67,
   "outputs": [
    {
     "name": "stdout",
     "output_type": "stream",
     "text": [
      "1074169\n",
      "844831\n"
     ]
    }
   ],
   "source": [
    "print(len(df_with_ratios))\n",
    "print(len(inputed_data_ffill))"
   ],
   "metadata": {
    "collapsed": false,
    "ExecuteTime": {
     "end_time": "2023-10-14T14:48:46.765785Z",
     "start_time": "2023-10-14T14:48:46.744420Z"
    }
   },
   "id": "b5f163327d7af45d"
  },
  {
   "cell_type": "code",
   "execution_count": 68,
   "outputs": [],
   "source": [
    "inputed_data_ffill_dropna = inputed_data_ffill.dropna()"
   ],
   "metadata": {
    "collapsed": false,
    "ExecuteTime": {
     "end_time": "2023-10-14T14:49:59.831Z",
     "start_time": "2023-10-14T14:49:59.537156Z"
    }
   },
   "id": "ee7d1d609dbd234b"
  },
  {
   "cell_type": "code",
   "execution_count": 69,
   "outputs": [
    {
     "data": {
      "text/plain": "787972"
     },
     "execution_count": 69,
     "metadata": {},
     "output_type": "execute_result"
    }
   ],
   "source": [
    "len(inputed_data_ffill_dropna)"
   ],
   "metadata": {
    "collapsed": false,
    "ExecuteTime": {
     "end_time": "2023-10-14T14:50:07.073829Z",
     "start_time": "2023-10-14T14:50:07.031655Z"
    }
   },
   "id": "1681456057303885"
  },
  {
   "cell_type": "code",
   "execution_count": 70,
   "outputs": [
    {
     "name": "stdout",
     "output_type": "stream",
     "text": [
      "30239\n",
      "22672\n"
     ]
    }
   ],
   "source": [
    "print(len(df_with_ratios['gvkey'].unique()))\n",
    "print(len(inputed_data_ffill_dropna['gvkey'].unique()))"
   ],
   "metadata": {
    "collapsed": false,
    "ExecuteTime": {
     "end_time": "2023-10-14T14:52:23.478829Z",
     "start_time": "2023-10-14T14:52:23.449961Z"
    }
   },
   "id": "6f475a92cff14235"
  },
  {
   "cell_type": "code",
   "execution_count": 71,
   "outputs": [],
   "source": [
    "inputed_data_ffill_dropna.to_pickle('./compustat_inputed.pkl')"
   ],
   "metadata": {
    "collapsed": false,
    "ExecuteTime": {
     "end_time": "2023-10-14T14:53:05.430555Z",
     "start_time": "2023-10-14T14:53:05.272039Z"
    }
   },
   "id": "2565212e012ae2db"
  },
  {
   "cell_type": "code",
   "execution_count": 72,
   "outputs": [
    {
     "data": {
      "text/plain": "          datadate   gvkey    tic   sic        ta        lt      dlc      dtp  \\\n7       2001-11-30    1004    AIR  5080  714.2080  429.8640   71.162  55.1340   \n8       2002-02-28    1004    AIR  5080  690.6810  375.8490   20.890  55.3140   \n9       2002-05-31    1004    AIR  5080  710.1990  399.9640   42.525  30.6010   \n10      2002-08-31    1004    AIR  5080  722.9440  416.3840   41.989  25.7170   \n11      2002-11-30    1004    AIR  5080  727.7760  421.5420   91.772  28.1160   \n...            ...     ...    ...   ...       ...       ...      ...      ...   \n1075564 2021-12-31  353945  ACLLY  3621  686.0850  379.0350  102.676  16.3000   \n1075565 2022-03-31  353945  ACLLY  3621  494.4620  300.7910   17.676   3.0390   \n1075566 2022-06-30  353945  ACLLY  3621  407.2310   75.4930    6.954   0.1485   \n1075567 2022-09-30  353945  ACLLY  3621  488.3815  228.0905    8.396   0.2030   \n1075568 2022-12-31  353945  ACLLY  3621  981.5510  685.0450    7.130  32.8110   \n\n             che      lct  ...  asset_turnover  inventory_turnover  \\\n7         53.129  183.797  ...        0.416489             -8.6610   \n8         34.454  129.670  ...        0.291972            -16.7510   \n9         34.522  150.464  ...        0.230746            -19.5200   \n10        35.553  142.645  ...        1.000000             12.3600   \n11        39.310  197.359  ...        0.503100              1.7800   \n...          ...      ...  ...             ...                 ...   \n1075564   73.183  326.123  ...        1.000000              4.1540   \n1075565   38.581   78.767  ...        1.000000             -6.0100   \n1075566   33.225   64.711  ...        0.532039             -6.3005   \n1075567   35.454   77.485  ...        0.358163            -13.7490   \n1075568  189.357  286.396  ...        1.000000            -33.6320   \n\n         inventory_days  receivables_turnover         dso  \\\n7               -8.6610              1.828483  199.619019   \n8              -16.7510              2.005354  182.012763   \n9              -19.5200              1.901016  192.002551   \n10              12.3600              2.096486  174.100883   \n11               1.7800              2.033927  179.455770   \n...                 ...                   ...         ...   \n1075564          4.1540              3.672771   99.379999   \n1075565         -6.0100              1.449870  251.746676   \n1075566         -6.3005              1.578615  231.215355   \n1075567        -13.7490              1.490826  246.804261   \n1075568        -33.6320              3.380577  107.969740   \n\n         working_capital_turnover   pe_ratio  retention_ratio  year  quarter  \n7                        0.502881  -5.093750       146.623341  2001        4  \n8                        0.447152  -3.957219      3546.832238  2002        1  \n9                        0.514976  -5.500000      3103.757532  2002        2  \n10                       0.548749  -2.649573       135.885000  2002        3  \n11                       0.648304 -16.666667      1132.941949  2002        4  \n...                           ...        ...              ...   ...      ...  \n1075564                  6.831010   8.210526       -47.818582  2021        4  \n1075565                  0.677785  20.625000        22.297000  2022        1  \n1075566                  0.677005  16.630451         5.297990  2022        2  \n1075567                  0.588082  -4.336634        11.068578  2022        3  \n1075568                  2.376009  15.796183       186.322000  2022        4  \n\n[787972 rows x 43 columns]",
      "text/html": "<div>\n<style scoped>\n    .dataframe tbody tr th:only-of-type {\n        vertical-align: middle;\n    }\n\n    .dataframe tbody tr th {\n        vertical-align: top;\n    }\n\n    .dataframe thead th {\n        text-align: right;\n    }\n</style>\n<table border=\"1\" class=\"dataframe\">\n  <thead>\n    <tr style=\"text-align: right;\">\n      <th></th>\n      <th>datadate</th>\n      <th>gvkey</th>\n      <th>tic</th>\n      <th>sic</th>\n      <th>ta</th>\n      <th>lt</th>\n      <th>dlc</th>\n      <th>dtp</th>\n      <th>che</th>\n      <th>lct</th>\n      <th>...</th>\n      <th>asset_turnover</th>\n      <th>inventory_turnover</th>\n      <th>inventory_days</th>\n      <th>receivables_turnover</th>\n      <th>dso</th>\n      <th>working_capital_turnover</th>\n      <th>pe_ratio</th>\n      <th>retention_ratio</th>\n      <th>year</th>\n      <th>quarter</th>\n    </tr>\n  </thead>\n  <tbody>\n    <tr>\n      <th>7</th>\n      <td>2001-11-30</td>\n      <td>1004</td>\n      <td>AIR</td>\n      <td>5080</td>\n      <td>714.2080</td>\n      <td>429.8640</td>\n      <td>71.162</td>\n      <td>55.1340</td>\n      <td>53.129</td>\n      <td>183.797</td>\n      <td>...</td>\n      <td>0.416489</td>\n      <td>-8.6610</td>\n      <td>-8.6610</td>\n      <td>1.828483</td>\n      <td>199.619019</td>\n      <td>0.502881</td>\n      <td>-5.093750</td>\n      <td>146.623341</td>\n      <td>2001</td>\n      <td>4</td>\n    </tr>\n    <tr>\n      <th>8</th>\n      <td>2002-02-28</td>\n      <td>1004</td>\n      <td>AIR</td>\n      <td>5080</td>\n      <td>690.6810</td>\n      <td>375.8490</td>\n      <td>20.890</td>\n      <td>55.3140</td>\n      <td>34.454</td>\n      <td>129.670</td>\n      <td>...</td>\n      <td>0.291972</td>\n      <td>-16.7510</td>\n      <td>-16.7510</td>\n      <td>2.005354</td>\n      <td>182.012763</td>\n      <td>0.447152</td>\n      <td>-3.957219</td>\n      <td>3546.832238</td>\n      <td>2002</td>\n      <td>1</td>\n    </tr>\n    <tr>\n      <th>9</th>\n      <td>2002-05-31</td>\n      <td>1004</td>\n      <td>AIR</td>\n      <td>5080</td>\n      <td>710.1990</td>\n      <td>399.9640</td>\n      <td>42.525</td>\n      <td>30.6010</td>\n      <td>34.522</td>\n      <td>150.464</td>\n      <td>...</td>\n      <td>0.230746</td>\n      <td>-19.5200</td>\n      <td>-19.5200</td>\n      <td>1.901016</td>\n      <td>192.002551</td>\n      <td>0.514976</td>\n      <td>-5.500000</td>\n      <td>3103.757532</td>\n      <td>2002</td>\n      <td>2</td>\n    </tr>\n    <tr>\n      <th>10</th>\n      <td>2002-08-31</td>\n      <td>1004</td>\n      <td>AIR</td>\n      <td>5080</td>\n      <td>722.9440</td>\n      <td>416.3840</td>\n      <td>41.989</td>\n      <td>25.7170</td>\n      <td>35.553</td>\n      <td>142.645</td>\n      <td>...</td>\n      <td>1.000000</td>\n      <td>12.3600</td>\n      <td>12.3600</td>\n      <td>2.096486</td>\n      <td>174.100883</td>\n      <td>0.548749</td>\n      <td>-2.649573</td>\n      <td>135.885000</td>\n      <td>2002</td>\n      <td>3</td>\n    </tr>\n    <tr>\n      <th>11</th>\n      <td>2002-11-30</td>\n      <td>1004</td>\n      <td>AIR</td>\n      <td>5080</td>\n      <td>727.7760</td>\n      <td>421.5420</td>\n      <td>91.772</td>\n      <td>28.1160</td>\n      <td>39.310</td>\n      <td>197.359</td>\n      <td>...</td>\n      <td>0.503100</td>\n      <td>1.7800</td>\n      <td>1.7800</td>\n      <td>2.033927</td>\n      <td>179.455770</td>\n      <td>0.648304</td>\n      <td>-16.666667</td>\n      <td>1132.941949</td>\n      <td>2002</td>\n      <td>4</td>\n    </tr>\n    <tr>\n      <th>...</th>\n      <td>...</td>\n      <td>...</td>\n      <td>...</td>\n      <td>...</td>\n      <td>...</td>\n      <td>...</td>\n      <td>...</td>\n      <td>...</td>\n      <td>...</td>\n      <td>...</td>\n      <td>...</td>\n      <td>...</td>\n      <td>...</td>\n      <td>...</td>\n      <td>...</td>\n      <td>...</td>\n      <td>...</td>\n      <td>...</td>\n      <td>...</td>\n      <td>...</td>\n      <td>...</td>\n    </tr>\n    <tr>\n      <th>1075564</th>\n      <td>2021-12-31</td>\n      <td>353945</td>\n      <td>ACLLY</td>\n      <td>3621</td>\n      <td>686.0850</td>\n      <td>379.0350</td>\n      <td>102.676</td>\n      <td>16.3000</td>\n      <td>73.183</td>\n      <td>326.123</td>\n      <td>...</td>\n      <td>1.000000</td>\n      <td>4.1540</td>\n      <td>4.1540</td>\n      <td>3.672771</td>\n      <td>99.379999</td>\n      <td>6.831010</td>\n      <td>8.210526</td>\n      <td>-47.818582</td>\n      <td>2021</td>\n      <td>4</td>\n    </tr>\n    <tr>\n      <th>1075565</th>\n      <td>2022-03-31</td>\n      <td>353945</td>\n      <td>ACLLY</td>\n      <td>3621</td>\n      <td>494.4620</td>\n      <td>300.7910</td>\n      <td>17.676</td>\n      <td>3.0390</td>\n      <td>38.581</td>\n      <td>78.767</td>\n      <td>...</td>\n      <td>1.000000</td>\n      <td>-6.0100</td>\n      <td>-6.0100</td>\n      <td>1.449870</td>\n      <td>251.746676</td>\n      <td>0.677785</td>\n      <td>20.625000</td>\n      <td>22.297000</td>\n      <td>2022</td>\n      <td>1</td>\n    </tr>\n    <tr>\n      <th>1075566</th>\n      <td>2022-06-30</td>\n      <td>353945</td>\n      <td>ACLLY</td>\n      <td>3621</td>\n      <td>407.2310</td>\n      <td>75.4930</td>\n      <td>6.954</td>\n      <td>0.1485</td>\n      <td>33.225</td>\n      <td>64.711</td>\n      <td>...</td>\n      <td>0.532039</td>\n      <td>-6.3005</td>\n      <td>-6.3005</td>\n      <td>1.578615</td>\n      <td>231.215355</td>\n      <td>0.677005</td>\n      <td>16.630451</td>\n      <td>5.297990</td>\n      <td>2022</td>\n      <td>2</td>\n    </tr>\n    <tr>\n      <th>1075567</th>\n      <td>2022-09-30</td>\n      <td>353945</td>\n      <td>ACLLY</td>\n      <td>3621</td>\n      <td>488.3815</td>\n      <td>228.0905</td>\n      <td>8.396</td>\n      <td>0.2030</td>\n      <td>35.454</td>\n      <td>77.485</td>\n      <td>...</td>\n      <td>0.358163</td>\n      <td>-13.7490</td>\n      <td>-13.7490</td>\n      <td>1.490826</td>\n      <td>246.804261</td>\n      <td>0.588082</td>\n      <td>-4.336634</td>\n      <td>11.068578</td>\n      <td>2022</td>\n      <td>3</td>\n    </tr>\n    <tr>\n      <th>1075568</th>\n      <td>2022-12-31</td>\n      <td>353945</td>\n      <td>ACLLY</td>\n      <td>3621</td>\n      <td>981.5510</td>\n      <td>685.0450</td>\n      <td>7.130</td>\n      <td>32.8110</td>\n      <td>189.357</td>\n      <td>286.396</td>\n      <td>...</td>\n      <td>1.000000</td>\n      <td>-33.6320</td>\n      <td>-33.6320</td>\n      <td>3.380577</td>\n      <td>107.969740</td>\n      <td>2.376009</td>\n      <td>15.796183</td>\n      <td>186.322000</td>\n      <td>2022</td>\n      <td>4</td>\n    </tr>\n  </tbody>\n</table>\n<p>787972 rows × 43 columns</p>\n</div>"
     },
     "execution_count": 72,
     "metadata": {},
     "output_type": "execute_result"
    }
   ],
   "source": [
    "inputed_data_ffill_dropna"
   ],
   "metadata": {
    "collapsed": false,
    "ExecuteTime": {
     "end_time": "2023-10-14T14:54:33.904780Z",
     "start_time": "2023-10-14T14:54:33.722821Z"
    }
   },
   "id": "bff71db9ad7cf70b"
  },
  {
   "cell_type": "code",
   "execution_count": null,
   "outputs": [],
   "source": [],
   "metadata": {
    "collapsed": false
   },
   "id": "e2a01855971f9374"
  }
 ],
 "metadata": {
  "kernelspec": {
   "display_name": "Python 3",
   "language": "python",
   "name": "python3"
  },
  "language_info": {
   "codemirror_mode": {
    "name": "ipython",
    "version": 2
   },
   "file_extension": ".py",
   "mimetype": "text/x-python",
   "name": "python",
   "nbconvert_exporter": "python",
   "pygments_lexer": "ipython2",
   "version": "2.7.6"
  }
 },
 "nbformat": 4,
 "nbformat_minor": 5
}
