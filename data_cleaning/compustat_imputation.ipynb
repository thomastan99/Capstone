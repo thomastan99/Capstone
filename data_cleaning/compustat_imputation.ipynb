{
 "cells": [
  {
   "cell_type": "code",
   "execution_count": 141,
   "id": "initial_id",
   "metadata": {
    "collapsed": true,
    "ExecuteTime": {
     "end_time": "2023-10-14T03:13:47.829985Z",
     "start_time": "2023-10-14T03:13:16.105977Z"
    }
   },
   "outputs": [
    {
     "name": "stderr",
     "output_type": "stream",
     "text": [
      "/var/folders/kp/rt42wzwx7sz9plr9l175fkv40000gn/T/ipykernel_96894/313954475.py:2: DtypeWarning: Columns (10,12,13,17,18,20,25,26,30,32,33,34,35,647,648,649,650,654,656,664,668,669,674,675,678,679) have mixed types. Specify dtype option on import or set low_memory=False.\n",
      "  df = pd.read_csv('compustat.csv')\n"
     ]
    },
    {
     "data": {
      "text/plain": "   gvkey    datadate  fyearq  fqtr  fyr indfmt consol popsrc datafmt  tic  \\\n0   1004  2000-02-29    1999   3.0    5   INDL      C      D     STD  AIR   \n1   1004  2000-05-31    1999   4.0    5   INDL      C      D     STD  AIR   \n2   1004  2000-08-31    2000   1.0    5   INDL      C      D     STD  AIR   \n3   1004  2000-11-30    2000   2.0    5   INDL      C      D     STD  AIR   \n4   1004  2001-02-28    2000   3.0    5   INDL      C      D     STD  AIR   \n\n   ... priusa   sic spcindcd spcseccd  spcsrc  state  stko           weburl  \\\n0  ...    1.0  5080    110.0    925.0       B     IL   0.0  www.aarcorp.com   \n1  ...    1.0  5080    110.0    925.0       B     IL   0.0  www.aarcorp.com   \n2  ...    1.0  5080    110.0    925.0       B     IL   0.0  www.aarcorp.com   \n3  ...    1.0  5080    110.0    925.0       B     IL   0.0  www.aarcorp.com   \n4  ...    1.0  5080    110.0    925.0       B     IL   0.0  www.aarcorp.com   \n\n  dldte     ipodate  \n0   NaN  1988-01-01  \n1   NaN  1988-01-01  \n2   NaN  1988-01-01  \n3   NaN  1988-01-01  \n4   NaN  1988-01-01  \n\n[5 rows x 680 columns]",
      "text/html": "<div>\n<style scoped>\n    .dataframe tbody tr th:only-of-type {\n        vertical-align: middle;\n    }\n\n    .dataframe tbody tr th {\n        vertical-align: top;\n    }\n\n    .dataframe thead th {\n        text-align: right;\n    }\n</style>\n<table border=\"1\" class=\"dataframe\">\n  <thead>\n    <tr style=\"text-align: right;\">\n      <th></th>\n      <th>gvkey</th>\n      <th>datadate</th>\n      <th>fyearq</th>\n      <th>fqtr</th>\n      <th>fyr</th>\n      <th>indfmt</th>\n      <th>consol</th>\n      <th>popsrc</th>\n      <th>datafmt</th>\n      <th>tic</th>\n      <th>...</th>\n      <th>priusa</th>\n      <th>sic</th>\n      <th>spcindcd</th>\n      <th>spcseccd</th>\n      <th>spcsrc</th>\n      <th>state</th>\n      <th>stko</th>\n      <th>weburl</th>\n      <th>dldte</th>\n      <th>ipodate</th>\n    </tr>\n  </thead>\n  <tbody>\n    <tr>\n      <th>0</th>\n      <td>1004</td>\n      <td>2000-02-29</td>\n      <td>1999</td>\n      <td>3.0</td>\n      <td>5</td>\n      <td>INDL</td>\n      <td>C</td>\n      <td>D</td>\n      <td>STD</td>\n      <td>AIR</td>\n      <td>...</td>\n      <td>1.0</td>\n      <td>5080</td>\n      <td>110.0</td>\n      <td>925.0</td>\n      <td>B</td>\n      <td>IL</td>\n      <td>0.0</td>\n      <td>www.aarcorp.com</td>\n      <td>NaN</td>\n      <td>1988-01-01</td>\n    </tr>\n    <tr>\n      <th>1</th>\n      <td>1004</td>\n      <td>2000-05-31</td>\n      <td>1999</td>\n      <td>4.0</td>\n      <td>5</td>\n      <td>INDL</td>\n      <td>C</td>\n      <td>D</td>\n      <td>STD</td>\n      <td>AIR</td>\n      <td>...</td>\n      <td>1.0</td>\n      <td>5080</td>\n      <td>110.0</td>\n      <td>925.0</td>\n      <td>B</td>\n      <td>IL</td>\n      <td>0.0</td>\n      <td>www.aarcorp.com</td>\n      <td>NaN</td>\n      <td>1988-01-01</td>\n    </tr>\n    <tr>\n      <th>2</th>\n      <td>1004</td>\n      <td>2000-08-31</td>\n      <td>2000</td>\n      <td>1.0</td>\n      <td>5</td>\n      <td>INDL</td>\n      <td>C</td>\n      <td>D</td>\n      <td>STD</td>\n      <td>AIR</td>\n      <td>...</td>\n      <td>1.0</td>\n      <td>5080</td>\n      <td>110.0</td>\n      <td>925.0</td>\n      <td>B</td>\n      <td>IL</td>\n      <td>0.0</td>\n      <td>www.aarcorp.com</td>\n      <td>NaN</td>\n      <td>1988-01-01</td>\n    </tr>\n    <tr>\n      <th>3</th>\n      <td>1004</td>\n      <td>2000-11-30</td>\n      <td>2000</td>\n      <td>2.0</td>\n      <td>5</td>\n      <td>INDL</td>\n      <td>C</td>\n      <td>D</td>\n      <td>STD</td>\n      <td>AIR</td>\n      <td>...</td>\n      <td>1.0</td>\n      <td>5080</td>\n      <td>110.0</td>\n      <td>925.0</td>\n      <td>B</td>\n      <td>IL</td>\n      <td>0.0</td>\n      <td>www.aarcorp.com</td>\n      <td>NaN</td>\n      <td>1988-01-01</td>\n    </tr>\n    <tr>\n      <th>4</th>\n      <td>1004</td>\n      <td>2001-02-28</td>\n      <td>2000</td>\n      <td>3.0</td>\n      <td>5</td>\n      <td>INDL</td>\n      <td>C</td>\n      <td>D</td>\n      <td>STD</td>\n      <td>AIR</td>\n      <td>...</td>\n      <td>1.0</td>\n      <td>5080</td>\n      <td>110.0</td>\n      <td>925.0</td>\n      <td>B</td>\n      <td>IL</td>\n      <td>0.0</td>\n      <td>www.aarcorp.com</td>\n      <td>NaN</td>\n      <td>1988-01-01</td>\n    </tr>\n  </tbody>\n</table>\n<p>5 rows × 680 columns</p>\n</div>"
     },
     "execution_count": 141,
     "metadata": {},
     "output_type": "execute_result"
    }
   ],
   "source": [
    "import pandas as pd\n",
    "df = pd.read_csv('compustat.csv')\n",
    "df.head()"
   ]
  },
  {
   "cell_type": "code",
   "execution_count": 142,
   "outputs": [
    {
     "data": {
      "text/plain": "datadate      0\ngvkey         0\nfqtr        346\nfyr           0\ntic         694\ndtype: int64"
     },
     "execution_count": 142,
     "metadata": {},
     "output_type": "execute_result"
    }
   ],
   "source": [
    "df_with_ratios = pd.DataFrame(df[['datadate', 'gvkey', 'fqtr', 'fyr', 'tic']])\n",
    "df_with_ratios.isna().sum()"
   ],
   "metadata": {
    "collapsed": false,
    "ExecuteTime": {
     "end_time": "2023-10-14T03:13:51.483167Z",
     "start_time": "2023-10-14T03:13:51.304945Z"
    }
   },
   "id": "61407de953a3c370"
  },
  {
   "cell_type": "markdown",
   "source": [
    "Looks like gvkey would be a better primary key than ticker since it has no nans in this dataset. We also need to inspect financial quarter"
   ],
   "metadata": {
    "collapsed": false
   },
   "id": "d40928e6df226e1d"
  },
  {
   "cell_type": "code",
   "execution_count": 143,
   "outputs": [
    {
     "data": {
      "text/plain": "           datadate   gvkey  fqtr  fyr    tic\n2746     2014-03-31    1224   NaN   12   EGN1\n2747     2014-06-30    1224   NaN   12   EGN1\n12300    2014-11-30    1951   NaN    8  PRSNQ\n31199    2014-12-31    3424   NaN    9     BH\n35114    2014-12-31    3806   NaN    9   DWSN\n...             ...     ...   ...  ...    ...\n1050126  2013-06-30  196766   NaN    3  ALGDF\n1050128  2013-09-30  196766   NaN    3  ALGDF\n1074260  2015-06-30  317427   NaN    3   NOMD\n1074262  2015-09-30  317427   NaN    3   NOMD\n1074264  2015-12-31  317427   NaN    3   NOMD\n\n[346 rows x 5 columns]",
      "text/html": "<div>\n<style scoped>\n    .dataframe tbody tr th:only-of-type {\n        vertical-align: middle;\n    }\n\n    .dataframe tbody tr th {\n        vertical-align: top;\n    }\n\n    .dataframe thead th {\n        text-align: right;\n    }\n</style>\n<table border=\"1\" class=\"dataframe\">\n  <thead>\n    <tr style=\"text-align: right;\">\n      <th></th>\n      <th>datadate</th>\n      <th>gvkey</th>\n      <th>fqtr</th>\n      <th>fyr</th>\n      <th>tic</th>\n    </tr>\n  </thead>\n  <tbody>\n    <tr>\n      <th>2746</th>\n      <td>2014-03-31</td>\n      <td>1224</td>\n      <td>NaN</td>\n      <td>12</td>\n      <td>EGN1</td>\n    </tr>\n    <tr>\n      <th>2747</th>\n      <td>2014-06-30</td>\n      <td>1224</td>\n      <td>NaN</td>\n      <td>12</td>\n      <td>EGN1</td>\n    </tr>\n    <tr>\n      <th>12300</th>\n      <td>2014-11-30</td>\n      <td>1951</td>\n      <td>NaN</td>\n      <td>8</td>\n      <td>PRSNQ</td>\n    </tr>\n    <tr>\n      <th>31199</th>\n      <td>2014-12-31</td>\n      <td>3424</td>\n      <td>NaN</td>\n      <td>9</td>\n      <td>BH</td>\n    </tr>\n    <tr>\n      <th>35114</th>\n      <td>2014-12-31</td>\n      <td>3806</td>\n      <td>NaN</td>\n      <td>9</td>\n      <td>DWSN</td>\n    </tr>\n    <tr>\n      <th>...</th>\n      <td>...</td>\n      <td>...</td>\n      <td>...</td>\n      <td>...</td>\n      <td>...</td>\n    </tr>\n    <tr>\n      <th>1050126</th>\n      <td>2013-06-30</td>\n      <td>196766</td>\n      <td>NaN</td>\n      <td>3</td>\n      <td>ALGDF</td>\n    </tr>\n    <tr>\n      <th>1050128</th>\n      <td>2013-09-30</td>\n      <td>196766</td>\n      <td>NaN</td>\n      <td>3</td>\n      <td>ALGDF</td>\n    </tr>\n    <tr>\n      <th>1074260</th>\n      <td>2015-06-30</td>\n      <td>317427</td>\n      <td>NaN</td>\n      <td>3</td>\n      <td>NOMD</td>\n    </tr>\n    <tr>\n      <th>1074262</th>\n      <td>2015-09-30</td>\n      <td>317427</td>\n      <td>NaN</td>\n      <td>3</td>\n      <td>NOMD</td>\n    </tr>\n    <tr>\n      <th>1074264</th>\n      <td>2015-12-31</td>\n      <td>317427</td>\n      <td>NaN</td>\n      <td>3</td>\n      <td>NOMD</td>\n    </tr>\n  </tbody>\n</table>\n<p>346 rows × 5 columns</p>\n</div>"
     },
     "execution_count": 143,
     "metadata": {},
     "output_type": "execute_result"
    }
   ],
   "source": [
    "df_with_ratios[df['fqtr'].isna()]"
   ],
   "metadata": {
    "collapsed": false,
    "ExecuteTime": {
     "end_time": "2023-10-14T03:13:53.981542Z",
     "start_time": "2023-10-14T03:13:53.966385Z"
    }
   },
   "id": "1d051243cd48ce27"
  },
  {
   "cell_type": "markdown",
   "source": [
    "No clear pattern in financial quarters with nan values. Just use date value since there is no nans there"
   ],
   "metadata": {
    "collapsed": false
   },
   "id": "bb5bfc7fef3da35b"
  },
  {
   "cell_type": "code",
   "execution_count": 144,
   "outputs": [
    {
     "data": {
      "text/plain": "     datadate  gvkey  tic\n0  2000-02-29   1004  AIR\n1  2000-05-31   1004  AIR\n2  2000-08-31   1004  AIR\n3  2000-11-30   1004  AIR\n4  2001-02-28   1004  AIR",
      "text/html": "<div>\n<style scoped>\n    .dataframe tbody tr th:only-of-type {\n        vertical-align: middle;\n    }\n\n    .dataframe tbody tr th {\n        vertical-align: top;\n    }\n\n    .dataframe thead th {\n        text-align: right;\n    }\n</style>\n<table border=\"1\" class=\"dataframe\">\n  <thead>\n    <tr style=\"text-align: right;\">\n      <th></th>\n      <th>datadate</th>\n      <th>gvkey</th>\n      <th>tic</th>\n    </tr>\n  </thead>\n  <tbody>\n    <tr>\n      <th>0</th>\n      <td>2000-02-29</td>\n      <td>1004</td>\n      <td>AIR</td>\n    </tr>\n    <tr>\n      <th>1</th>\n      <td>2000-05-31</td>\n      <td>1004</td>\n      <td>AIR</td>\n    </tr>\n    <tr>\n      <th>2</th>\n      <td>2000-08-31</td>\n      <td>1004</td>\n      <td>AIR</td>\n    </tr>\n    <tr>\n      <th>3</th>\n      <td>2000-11-30</td>\n      <td>1004</td>\n      <td>AIR</td>\n    </tr>\n    <tr>\n      <th>4</th>\n      <td>2001-02-28</td>\n      <td>1004</td>\n      <td>AIR</td>\n    </tr>\n  </tbody>\n</table>\n</div>"
     },
     "execution_count": 144,
     "metadata": {},
     "output_type": "execute_result"
    }
   ],
   "source": [
    "df_with_ratios.drop(['fqtr', 'fyr'], axis=1, inplace=True)\n",
    "df_with_ratios.head()"
   ],
   "metadata": {
    "collapsed": false,
    "ExecuteTime": {
     "end_time": "2023-10-14T03:13:55.683179Z",
     "start_time": "2023-10-14T03:13:55.654459Z"
    }
   },
   "id": "4f2ead5a6d60d71e"
  },
  {
   "cell_type": "code",
   "execution_count": 145,
   "outputs": [],
   "source": [
    "# Feature engineering\n",
    "df_with_ratios['ta'] = df['atq']\n",
    "df_with_ratios['lt'] = df['ltq']\n",
    "df_with_ratios['dlc'] = df['dlcq']\n",
    "df_with_ratios['dtp'] = df['txditcq']\n",
    "df_with_ratios['che'] = df['cheq']\n",
    "df_with_ratios['lct'] = df['lctq']\n",
    "df_with_ratios['act'] = df['atq']\n",
    "df_with_ratios['invtq'] = df['invtq']\n",
    "df_with_ratios['intanq'] = df['intanq']\n",
    "df_with_ratios['oiadp'] = df['oibdpq'] / df['oibdpy']\n",
    "df_with_ratios['txp'] = df['txpq']\n",
    "# df_with_ratios['xint'] = df['tieq'] / df['tiey']"
   ],
   "metadata": {
    "collapsed": false,
    "ExecuteTime": {
     "end_time": "2023-10-14T03:13:57.403304Z",
     "start_time": "2023-10-14T03:13:57.365236Z"
    }
   },
   "id": "c53f7aeb8deff150"
  },
  {
   "cell_type": "code",
   "execution_count": 146,
   "outputs": [],
   "source": [
    "df_with_ratios['pi'] = df['piq'] / df['piy']\n",
    "df_with_ratios['ni'] = df['niq'] / df['niy']\n",
    "df_with_ratios['rev'] = df['revtq'] / df['revty']\n",
    "df_with_ratios['cogs'] = df['cogsq'] / df['cogsy']\n",
    "df_with_ratios['oancf'] = df['oancfy']\n",
    "df_with_ratios['ivncf'] = df['ivncfy']\n",
    "df_with_ratios['fncfa'] = df['fincfy']\n",
    "df_with_ratios['curr_ratio'] = df['actq'] / df['lctq']\n",
    "df_with_ratios['quick_ratio'] = (df['actq'] - df['invtq']) / df['lctq']\n",
    "df_with_ratios['cash_ratio'] = df['chechy'] / df['lctq']"
   ],
   "metadata": {
    "collapsed": false,
    "ExecuteTime": {
     "end_time": "2023-10-14T03:13:58.305536Z",
     "start_time": "2023-10-14T03:13:58.262601Z"
    }
   },
   "id": "2999313ffedc3020"
  },
  {
   "cell_type": "code",
   "execution_count": 147,
   "outputs": [],
   "source": [
    "df_with_ratios['net_working_capital'] = df['actq'] - df['lctq']\n",
    "df_with_ratios['debt_ratio'] = df['dlttq'] / df['actq']\n",
    "df_with_ratios['debt_equity_ratio'] = df['dlttq'] / df['ceqq']\n",
    "df_with_ratios['equity_ratio'] = df['ceqq'] / df['actq']\n",
    "df_with_ratios['financial_leverage_ratio'] = df['actq'] / df['ceqq']\n",
    "# df_with_ratios['interest_coverage_ratio'] = (df['uopiq'] + df['dpq']) / df['tiey']\n",
    "df_with_ratios['cashflow_debt_ratio'] = df['oancfy'] / df['dlttq']\n",
    "df_with_ratios['net_profit_margin'] = 100 * (df['revtq'] - df['cogsq']) / df['revtq']\n",
    "df_with_ratios['roa'] = (df['niq'] / df['atq']) * 100"
   ],
   "metadata": {
    "collapsed": false,
    "ExecuteTime": {
     "end_time": "2023-10-14T03:13:59.202802Z",
     "start_time": "2023-10-14T03:13:59.151764Z"
    }
   },
   "id": "5892de2b16998b88"
  },
  {
   "cell_type": "code",
   "execution_count": 148,
   "outputs": [],
   "source": [
    "df_with_ratios['asset_turnover'] = df['saleq'] / df['saley']\n",
    "df_with_ratios['inventory_turnover'] = df['invchy']\n",
    "df_with_ratios['inventory_days'] = df_with_ratios['inventory_turnover']\n",
    "df_with_ratios['receivables_turnover'] = df['saleq'] / df['rectq']\n",
    "df_with_ratios['dso'] = 365 / df_with_ratios['receivables_turnover']\n",
    "df_with_ratios['working_capital_turnover'] = df['saleq'] / df['wcapq']\n",
    "# df_with_ratios['debt_service_coverage_ratio'] = df['uopiq'] / df['dlttq']\n",
    "# df_with_ratios['cash_coverage_ratio'] = df['oibdpq'] / df['tieq']\n",
    "df_with_ratios['pe_ratio'] = df['prccq'] / df['epsf12']\n",
    "# df_with_ratios['pb_ratio'] = df['prccq'] / (df['uceqq'] / df['cshoq'])\n",
    "# df_with_ratios['div_payout_ratio'] = df['dvy'] / ((df['uniamiq'] * 100) / df['saley'])\n",
    "df_with_ratios['retention_ratio'] = df['req'] / df_with_ratios['ni']\n",
    "# df_with_ratios['ebitda'] = (df['uopiq'] + df['dpq'] * 100) / df['revtq']"
   ],
   "metadata": {
    "collapsed": false,
    "ExecuteTime": {
     "end_time": "2023-10-14T03:14:00.064279Z",
     "start_time": "2023-10-14T03:14:00.041166Z"
    }
   },
   "id": "3e3ca34d539cc343"
  },
  {
   "cell_type": "code",
   "execution_count": 149,
   "outputs": [
    {
     "data": {
      "text/plain": "     datadate  gvkey  tic       ta       lt     dlc     dtp    che      lct  \\\n0  2000-02-29   1004  AIR  753.755  411.273  25.353  52.701  4.431  176.733   \n1  2000-05-31   1004  AIR  740.998  401.483  26.314  56.020  1.241  163.816   \n2  2000-08-31   1004  AIR  747.543  408.290  48.151  58.441  0.669  168.282   \n3  2000-11-30   1004  AIR  772.941  431.677  50.437  60.937  3.069  189.367   \n4  2001-02-28   1004  AIR  754.718  409.853  49.665  60.695  0.767  167.852   \n\n       act  ...  net_profit_margin       roa  asset_turnover  \\\n0  753.755  ...          18.234795  1.453390        0.340731   \n1  740.998  ...          18.944015  0.333469        0.219732   \n2  747.543  ...          16.176118  0.422584        1.000000   \n3  772.941  ...          18.857738  0.553470        0.466415   \n4  754.718  ...          20.259808  0.713909        0.306305   \n\n   inventory_turnover  inventory_days  receivables_turnover         dso  \\\n0             -15.536         -15.536              1.606568  227.192332   \n1             -33.237         -33.237              1.753662  208.135899   \n2              -8.260          -8.260              1.915678  190.533110   \n3              15.085          15.085              1.656685  220.319516   \n4             -13.415         -13.415              1.506264  242.321426   \n\n   working_capital_turnover   pe_ratio  retention_ratio  \n0                  0.777640  14.751553       603.096525  \n1                  0.647801  10.839844      2860.654487  \n2                  0.706938  11.138614       200.908000  \n3                  0.649498  13.474026       351.312198  \n4                  0.557790  23.859649       490.594335  \n\n[5 rows x 40 columns]",
      "text/html": "<div>\n<style scoped>\n    .dataframe tbody tr th:only-of-type {\n        vertical-align: middle;\n    }\n\n    .dataframe tbody tr th {\n        vertical-align: top;\n    }\n\n    .dataframe thead th {\n        text-align: right;\n    }\n</style>\n<table border=\"1\" class=\"dataframe\">\n  <thead>\n    <tr style=\"text-align: right;\">\n      <th></th>\n      <th>datadate</th>\n      <th>gvkey</th>\n      <th>tic</th>\n      <th>ta</th>\n      <th>lt</th>\n      <th>dlc</th>\n      <th>dtp</th>\n      <th>che</th>\n      <th>lct</th>\n      <th>act</th>\n      <th>...</th>\n      <th>net_profit_margin</th>\n      <th>roa</th>\n      <th>asset_turnover</th>\n      <th>inventory_turnover</th>\n      <th>inventory_days</th>\n      <th>receivables_turnover</th>\n      <th>dso</th>\n      <th>working_capital_turnover</th>\n      <th>pe_ratio</th>\n      <th>retention_ratio</th>\n    </tr>\n  </thead>\n  <tbody>\n    <tr>\n      <th>0</th>\n      <td>2000-02-29</td>\n      <td>1004</td>\n      <td>AIR</td>\n      <td>753.755</td>\n      <td>411.273</td>\n      <td>25.353</td>\n      <td>52.701</td>\n      <td>4.431</td>\n      <td>176.733</td>\n      <td>753.755</td>\n      <td>...</td>\n      <td>18.234795</td>\n      <td>1.453390</td>\n      <td>0.340731</td>\n      <td>-15.536</td>\n      <td>-15.536</td>\n      <td>1.606568</td>\n      <td>227.192332</td>\n      <td>0.777640</td>\n      <td>14.751553</td>\n      <td>603.096525</td>\n    </tr>\n    <tr>\n      <th>1</th>\n      <td>2000-05-31</td>\n      <td>1004</td>\n      <td>AIR</td>\n      <td>740.998</td>\n      <td>401.483</td>\n      <td>26.314</td>\n      <td>56.020</td>\n      <td>1.241</td>\n      <td>163.816</td>\n      <td>740.998</td>\n      <td>...</td>\n      <td>18.944015</td>\n      <td>0.333469</td>\n      <td>0.219732</td>\n      <td>-33.237</td>\n      <td>-33.237</td>\n      <td>1.753662</td>\n      <td>208.135899</td>\n      <td>0.647801</td>\n      <td>10.839844</td>\n      <td>2860.654487</td>\n    </tr>\n    <tr>\n      <th>2</th>\n      <td>2000-08-31</td>\n      <td>1004</td>\n      <td>AIR</td>\n      <td>747.543</td>\n      <td>408.290</td>\n      <td>48.151</td>\n      <td>58.441</td>\n      <td>0.669</td>\n      <td>168.282</td>\n      <td>747.543</td>\n      <td>...</td>\n      <td>16.176118</td>\n      <td>0.422584</td>\n      <td>1.000000</td>\n      <td>-8.260</td>\n      <td>-8.260</td>\n      <td>1.915678</td>\n      <td>190.533110</td>\n      <td>0.706938</td>\n      <td>11.138614</td>\n      <td>200.908000</td>\n    </tr>\n    <tr>\n      <th>3</th>\n      <td>2000-11-30</td>\n      <td>1004</td>\n      <td>AIR</td>\n      <td>772.941</td>\n      <td>431.677</td>\n      <td>50.437</td>\n      <td>60.937</td>\n      <td>3.069</td>\n      <td>189.367</td>\n      <td>772.941</td>\n      <td>...</td>\n      <td>18.857738</td>\n      <td>0.553470</td>\n      <td>0.466415</td>\n      <td>15.085</td>\n      <td>15.085</td>\n      <td>1.656685</td>\n      <td>220.319516</td>\n      <td>0.649498</td>\n      <td>13.474026</td>\n      <td>351.312198</td>\n    </tr>\n    <tr>\n      <th>4</th>\n      <td>2001-02-28</td>\n      <td>1004</td>\n      <td>AIR</td>\n      <td>754.718</td>\n      <td>409.853</td>\n      <td>49.665</td>\n      <td>60.695</td>\n      <td>0.767</td>\n      <td>167.852</td>\n      <td>754.718</td>\n      <td>...</td>\n      <td>20.259808</td>\n      <td>0.713909</td>\n      <td>0.306305</td>\n      <td>-13.415</td>\n      <td>-13.415</td>\n      <td>1.506264</td>\n      <td>242.321426</td>\n      <td>0.557790</td>\n      <td>23.859649</td>\n      <td>490.594335</td>\n    </tr>\n  </tbody>\n</table>\n<p>5 rows × 40 columns</p>\n</div>"
     },
     "execution_count": 149,
     "metadata": {},
     "output_type": "execute_result"
    }
   ],
   "source": [
    "df_with_ratios.head(5)"
   ],
   "metadata": {
    "collapsed": false,
    "ExecuteTime": {
     "end_time": "2023-10-14T03:14:01.507047Z",
     "start_time": "2023-10-14T03:14:01.501883Z"
    }
   },
   "id": "7474976106c6e01b"
  },
  {
   "cell_type": "code",
   "execution_count": 150,
   "outputs": [
    {
     "name": "stdout",
     "output_type": "stream",
     "text": [
      "length of dataset: 1075571\n",
      "shape of dataset: (1075571, 40)\n"
     ]
    }
   ],
   "source": [
    "print(f\"length of dataset: {len(df_with_ratios)}\")\n",
    "print(f\"shape of dataset: {df_with_ratios.shape}\")"
   ],
   "metadata": {
    "collapsed": false,
    "ExecuteTime": {
     "end_time": "2023-10-14T03:14:03.368490Z",
     "start_time": "2023-10-14T03:14:03.360893Z"
    }
   },
   "id": "365f07b9101d2915"
  },
  {
   "cell_type": "code",
   "execution_count": 151,
   "outputs": [
    {
     "data": {
      "text/plain": "                            pct_nan\ndatadate                   0.000000\ngvkey                      0.000000\ntic                        0.064524\nta                        24.081441\nlt                        24.209559\ndlc                       28.118739\ndtp                       34.326511\nche                       24.327729\nlct                       36.964087\nact                       24.081441\ninvtq                     25.892479\nintanq                    31.053180\noiadp                     28.943324\ntxp                       35.320123\npi                        22.380020\nni                        22.003661\nrev                       36.962785\ncogs                      31.024451\noancf                     27.446352\nivncf                     27.468944\nfncfa                     27.470618\ncurr_ratio                37.248122\nquick_ratio               38.371990\ncash_ratio                38.470171\nnet_working_capital       37.207679\ndebt_ratio                38.042491\ndebt_equity_ratio         25.067522\nequity_ratio              37.424773\nfinancial_leverage_ratio  37.424773\ncashflow_debt_ratio       28.166434\nnet_profit_margin         36.340418\nroa                       24.576527\nasset_turnover            30.981311\ninventory_turnover        37.415289\ninventory_days            37.415289\nreceivables_turnover      29.949859\ndso                       29.949859\nworking_capital_turnover  37.689748\npe_ratio                  32.187182\nretention_ratio           28.299480",
      "text/html": "<div>\n<style scoped>\n    .dataframe tbody tr th:only-of-type {\n        vertical-align: middle;\n    }\n\n    .dataframe tbody tr th {\n        vertical-align: top;\n    }\n\n    .dataframe thead th {\n        text-align: right;\n    }\n</style>\n<table border=\"1\" class=\"dataframe\">\n  <thead>\n    <tr style=\"text-align: right;\">\n      <th></th>\n      <th>pct_nan</th>\n    </tr>\n  </thead>\n  <tbody>\n    <tr>\n      <th>datadate</th>\n      <td>0.000000</td>\n    </tr>\n    <tr>\n      <th>gvkey</th>\n      <td>0.000000</td>\n    </tr>\n    <tr>\n      <th>tic</th>\n      <td>0.064524</td>\n    </tr>\n    <tr>\n      <th>ta</th>\n      <td>24.081441</td>\n    </tr>\n    <tr>\n      <th>lt</th>\n      <td>24.209559</td>\n    </tr>\n    <tr>\n      <th>dlc</th>\n      <td>28.118739</td>\n    </tr>\n    <tr>\n      <th>dtp</th>\n      <td>34.326511</td>\n    </tr>\n    <tr>\n      <th>che</th>\n      <td>24.327729</td>\n    </tr>\n    <tr>\n      <th>lct</th>\n      <td>36.964087</td>\n    </tr>\n    <tr>\n      <th>act</th>\n      <td>24.081441</td>\n    </tr>\n    <tr>\n      <th>invtq</th>\n      <td>25.892479</td>\n    </tr>\n    <tr>\n      <th>intanq</th>\n      <td>31.053180</td>\n    </tr>\n    <tr>\n      <th>oiadp</th>\n      <td>28.943324</td>\n    </tr>\n    <tr>\n      <th>txp</th>\n      <td>35.320123</td>\n    </tr>\n    <tr>\n      <th>pi</th>\n      <td>22.380020</td>\n    </tr>\n    <tr>\n      <th>ni</th>\n      <td>22.003661</td>\n    </tr>\n    <tr>\n      <th>rev</th>\n      <td>36.962785</td>\n    </tr>\n    <tr>\n      <th>cogs</th>\n      <td>31.024451</td>\n    </tr>\n    <tr>\n      <th>oancf</th>\n      <td>27.446352</td>\n    </tr>\n    <tr>\n      <th>ivncf</th>\n      <td>27.468944</td>\n    </tr>\n    <tr>\n      <th>fncfa</th>\n      <td>27.470618</td>\n    </tr>\n    <tr>\n      <th>curr_ratio</th>\n      <td>37.248122</td>\n    </tr>\n    <tr>\n      <th>quick_ratio</th>\n      <td>38.371990</td>\n    </tr>\n    <tr>\n      <th>cash_ratio</th>\n      <td>38.470171</td>\n    </tr>\n    <tr>\n      <th>net_working_capital</th>\n      <td>37.207679</td>\n    </tr>\n    <tr>\n      <th>debt_ratio</th>\n      <td>38.042491</td>\n    </tr>\n    <tr>\n      <th>debt_equity_ratio</th>\n      <td>25.067522</td>\n    </tr>\n    <tr>\n      <th>equity_ratio</th>\n      <td>37.424773</td>\n    </tr>\n    <tr>\n      <th>financial_leverage_ratio</th>\n      <td>37.424773</td>\n    </tr>\n    <tr>\n      <th>cashflow_debt_ratio</th>\n      <td>28.166434</td>\n    </tr>\n    <tr>\n      <th>net_profit_margin</th>\n      <td>36.340418</td>\n    </tr>\n    <tr>\n      <th>roa</th>\n      <td>24.576527</td>\n    </tr>\n    <tr>\n      <th>asset_turnover</th>\n      <td>30.981311</td>\n    </tr>\n    <tr>\n      <th>inventory_turnover</th>\n      <td>37.415289</td>\n    </tr>\n    <tr>\n      <th>inventory_days</th>\n      <td>37.415289</td>\n    </tr>\n    <tr>\n      <th>receivables_turnover</th>\n      <td>29.949859</td>\n    </tr>\n    <tr>\n      <th>dso</th>\n      <td>29.949859</td>\n    </tr>\n    <tr>\n      <th>working_capital_turnover</th>\n      <td>37.689748</td>\n    </tr>\n    <tr>\n      <th>pe_ratio</th>\n      <td>32.187182</td>\n    </tr>\n    <tr>\n      <th>retention_ratio</th>\n      <td>28.299480</td>\n    </tr>\n  </tbody>\n</table>\n</div>"
     },
     "execution_count": 151,
     "metadata": {},
     "output_type": "execute_result"
    }
   ],
   "source": [
    "nan_breakdown = pd.DataFrame()\n",
    "nan_breakdown['pct_nan'] = (df_with_ratios.isna().sum() / len(df_with_ratios)) * 100\n",
    "nan_breakdown"
   ],
   "metadata": {
    "collapsed": false,
    "ExecuteTime": {
     "end_time": "2023-10-14T03:14:07.299215Z",
     "start_time": "2023-10-14T03:14:07.100165Z"
    }
   },
   "id": "99c04e0303a63594"
  },
  {
   "cell_type": "code",
   "execution_count": 139,
   "outputs": [],
   "source": [
    "\n",
    "# df_with_ratios['debt_service_coverage_ratio'] = df['uopiq'] / df['dlttq']\n",
    "# df_with_ratios['xint'] = df['tieq'] / df['tiey']\n",
    "# df_with_ratios['interest_coverage_ratio'] = (df['uopiq'] + df['dpq']) / df['tiey']\n",
    "# df_with_ratios['cash_coverage_ratio'] = df['oibdpq'] / df['tieq']\n",
    "# df_with_ratios['pb_ratio'] = df['prccq'] / (df['uceqq'] / df['cshoq'])\n",
    "# df_with_ratios['div_payout_ratio'] = df['dvy'] / ((df['uniamiq'] * 100) / df['saley'])\n",
    "# df_with_ratios['ebitda'] = (df['uopiq'] + df['dpq'] * 100) / df['revtq']"
   ],
   "metadata": {
    "collapsed": false,
    "ExecuteTime": {
     "end_time": "2023-10-14T03:11:18.764558Z",
     "start_time": "2023-10-14T03:11:18.703152Z"
    }
   },
   "id": "1911a4ac03f4029"
  },
  {
   "cell_type": "code",
   "execution_count": 117,
   "outputs": [
    {
     "data": {
      "text/plain": "24.690048355710594"
     },
     "execution_count": 117,
     "metadata": {},
     "output_type": "execute_result"
    }
   ],
   "source": [
    "# Run this code to check the percentage of nan valus in the original compustat dataset for a column\n",
    "# (len(df[df['dlttq'].isna() == True]) / len(df)) * 100"
   ],
   "metadata": {
    "collapsed": false,
    "ExecuteTime": {
     "end_time": "2023-10-14T02:58:04.237048Z",
     "start_time": "2023-10-14T02:58:02.087868Z"
    }
   },
   "id": "7bc947fe8c7ed722"
  },
  {
   "cell_type": "markdown",
   "source": [
    "At this point our dataset should have columns with at most 20-30% nan values. we shall now inpute them using sector median. \n",
    "lets first try Methodology 1: \n",
    "1. map gvkey to sector\n",
    "2. eg. if company X in sector A on date 2000-01-01 has a missing value for total income, we inpute it using the median of sector A in 2000-01-01. \n",
    "\n",
    "This assumes that on a particular date, a companies fundamentals can be represented by its sector median on that date"
   ],
   "metadata": {
    "collapsed": false
   },
   "id": "684d7f68b48f5cf0"
  }
 ],
 "metadata": {
  "kernelspec": {
   "display_name": "Python 3",
   "language": "python",
   "name": "python3"
  },
  "language_info": {
   "codemirror_mode": {
    "name": "ipython",
    "version": 2
   },
   "file_extension": ".py",
   "mimetype": "text/x-python",
   "name": "python",
   "nbconvert_exporter": "python",
   "pygments_lexer": "ipython2",
   "version": "2.7.6"
  }
 },
 "nbformat": 4,
 "nbformat_minor": 5
}
