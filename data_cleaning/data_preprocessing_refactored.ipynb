{
 "cells": [
  {
   "cell_type": "code",
   "execution_count": 2,
   "metadata": {},
   "outputs": [
    {
     "name": "stdout",
     "output_type": "stream",
     "text": [
      "Requirement already satisfied: pandas in /Users/thomastan/opt/anaconda3/lib/python3.9/site-packages (1.5.3)\n",
      "Requirement already satisfied: google-cloud-bigquery in /Users/thomastan/opt/anaconda3/lib/python3.9/site-packages (3.11.4)\n",
      "Requirement already satisfied: numpy>=1.20.3 in /Users/thomastan/opt/anaconda3/lib/python3.9/site-packages (from pandas) (1.23.4)\n",
      "Requirement already satisfied: pytz>=2020.1 in /Users/thomastan/opt/anaconda3/lib/python3.9/site-packages (from pandas) (2023.3)\n",
      "Requirement already satisfied: python-dateutil>=2.8.1 in /Users/thomastan/opt/anaconda3/lib/python3.9/site-packages (from pandas) (2.8.2)\n",
      "Requirement already satisfied: google-api-core[grpc]!=2.0.*,!=2.1.*,!=2.2.*,!=2.3.0,<3.0.0dev,>=1.31.5 in /Users/thomastan/opt/anaconda3/lib/python3.9/site-packages (from google-cloud-bigquery) (2.11.1)\n",
      "Requirement already satisfied: packaging>=20.0.0 in /Users/thomastan/opt/anaconda3/lib/python3.9/site-packages (from google-cloud-bigquery) (23.1)\n",
      "Requirement already satisfied: requests<3.0.0dev,>=2.21.0 in /Users/thomastan/opt/anaconda3/lib/python3.9/site-packages (from google-cloud-bigquery) (2.31.0)\n",
      "Requirement already satisfied: proto-plus<2.0.0dev,>=1.15.0 in /Users/thomastan/opt/anaconda3/lib/python3.9/site-packages (from google-cloud-bigquery) (1.22.3)\n",
      "Requirement already satisfied: grpcio<2.0dev,>=1.47.0 in /Users/thomastan/opt/anaconda3/lib/python3.9/site-packages (from google-cloud-bigquery) (1.57.0)\n",
      "Requirement already satisfied: protobuf!=3.20.0,!=3.20.1,!=4.21.0,!=4.21.1,!=4.21.2,!=4.21.3,!=4.21.4,!=4.21.5,<5.0.0dev,>=3.19.5 in /Users/thomastan/opt/anaconda3/lib/python3.9/site-packages (from google-cloud-bigquery) (4.24.1)\n",
      "Requirement already satisfied: google-cloud-core<3.0.0dev,>=1.6.0 in /Users/thomastan/opt/anaconda3/lib/python3.9/site-packages (from google-cloud-bigquery) (2.3.3)\n",
      "Requirement already satisfied: google-resumable-media<3.0dev,>=0.6.0 in /Users/thomastan/opt/anaconda3/lib/python3.9/site-packages (from google-cloud-bigquery) (1.3.1)\n",
      "Requirement already satisfied: google-auth<3.0.dev0,>=2.14.1 in /Users/thomastan/opt/anaconda3/lib/python3.9/site-packages (from google-api-core[grpc]!=2.0.*,!=2.1.*,!=2.2.*,!=2.3.0,<3.0.0dev,>=1.31.5->google-cloud-bigquery) (2.22.0)\n",
      "Requirement already satisfied: googleapis-common-protos<2.0.dev0,>=1.56.2 in /Users/thomastan/opt/anaconda3/lib/python3.9/site-packages (from google-api-core[grpc]!=2.0.*,!=2.1.*,!=2.2.*,!=2.3.0,<3.0.0dev,>=1.31.5->google-cloud-bigquery) (1.60.0)\n",
      "Requirement already satisfied: grpcio-status<2.0.dev0,>=1.33.2 in /Users/thomastan/opt/anaconda3/lib/python3.9/site-packages (from google-api-core[grpc]!=2.0.*,!=2.1.*,!=2.2.*,!=2.3.0,<3.0.0dev,>=1.31.5->google-cloud-bigquery) (1.57.0)\n",
      "Requirement already satisfied: rsa<5,>=3.1.4 in /Users/thomastan/opt/anaconda3/lib/python3.9/site-packages (from google-auth<3.0.dev0,>=2.14.1->google-api-core[grpc]!=2.0.*,!=2.1.*,!=2.2.*,!=2.3.0,<3.0.0dev,>=1.31.5->google-cloud-bigquery) (4.9)\n",
      "Requirement already satisfied: six>=1.9.0 in /Users/thomastan/opt/anaconda3/lib/python3.9/site-packages (from google-auth<3.0.dev0,>=2.14.1->google-api-core[grpc]!=2.0.*,!=2.1.*,!=2.2.*,!=2.3.0,<3.0.0dev,>=1.31.5->google-cloud-bigquery) (1.16.0)\n",
      "Requirement already satisfied: pyasn1-modules>=0.2.1 in /Users/thomastan/opt/anaconda3/lib/python3.9/site-packages (from google-auth<3.0.dev0,>=2.14.1->google-api-core[grpc]!=2.0.*,!=2.1.*,!=2.2.*,!=2.3.0,<3.0.0dev,>=1.31.5->google-cloud-bigquery) (0.2.8)\n",
      "Requirement already satisfied: urllib3<2.0 in /Users/thomastan/opt/anaconda3/lib/python3.9/site-packages (from google-auth<3.0.dev0,>=2.14.1->google-api-core[grpc]!=2.0.*,!=2.1.*,!=2.2.*,!=2.3.0,<3.0.0dev,>=1.31.5->google-cloud-bigquery) (1.26.16)\n",
      "Requirement already satisfied: cachetools<6.0,>=2.0.0 in /Users/thomastan/opt/anaconda3/lib/python3.9/site-packages (from google-auth<3.0.dev0,>=2.14.1->google-api-core[grpc]!=2.0.*,!=2.1.*,!=2.2.*,!=2.3.0,<3.0.0dev,>=1.31.5->google-cloud-bigquery) (5.3.1)\n",
      "Requirement already satisfied: google-crc32c<2.0dev,>=1.0 in /Users/thomastan/opt/anaconda3/lib/python3.9/site-packages (from google-resumable-media<3.0dev,>=0.6.0->google-cloud-bigquery) (1.1.2)\n",
      "Requirement already satisfied: cffi>=1.0.0 in /Users/thomastan/opt/anaconda3/lib/python3.9/site-packages (from google-crc32c<2.0dev,>=1.0->google-resumable-media<3.0dev,>=0.6.0->google-cloud-bigquery) (1.15.1)\n",
      "Requirement already satisfied: pycparser in /Users/thomastan/opt/anaconda3/lib/python3.9/site-packages (from cffi>=1.0.0->google-crc32c<2.0dev,>=1.0->google-resumable-media<3.0dev,>=0.6.0->google-cloud-bigquery) (2.21)\n",
      "Requirement already satisfied: pyasn1<0.5.0,>=0.4.6 in /Users/thomastan/opt/anaconda3/lib/python3.9/site-packages (from pyasn1-modules>=0.2.1->google-auth<3.0.dev0,>=2.14.1->google-api-core[grpc]!=2.0.*,!=2.1.*,!=2.2.*,!=2.3.0,<3.0.0dev,>=1.31.5->google-cloud-bigquery) (0.4.8)\n",
      "Requirement already satisfied: idna<4,>=2.5 in /Users/thomastan/opt/anaconda3/lib/python3.9/site-packages (from requests<3.0.0dev,>=2.21.0->google-cloud-bigquery) (3.4)\n",
      "Requirement already satisfied: certifi>=2017.4.17 in /Users/thomastan/opt/anaconda3/lib/python3.9/site-packages (from requests<3.0.0dev,>=2.21.0->google-cloud-bigquery) (2023.7.22)\n",
      "Requirement already satisfied: charset-normalizer<4,>=2 in /Users/thomastan/opt/anaconda3/lib/python3.9/site-packages (from requests<3.0.0dev,>=2.21.0->google-cloud-bigquery) (3.2.0)\n",
      "Requirement already satisfied: pandas-gbq in /Users/thomastan/opt/anaconda3/lib/python3.9/site-packages (0.19.2)\n",
      "Requirement already satisfied: google-auth-oauthlib>=0.7.0 in /Users/thomastan/opt/anaconda3/lib/python3.9/site-packages (from pandas-gbq) (1.0.0)\n",
      "Requirement already satisfied: pyarrow>=3.0.0 in /Users/thomastan/opt/anaconda3/lib/python3.9/site-packages (from pandas-gbq) (12.0.1)\n",
      "Requirement already satisfied: google-cloud-bigquery!=2.4.*,<4.0.0dev,>=3.3.5 in /Users/thomastan/opt/anaconda3/lib/python3.9/site-packages (from pandas-gbq) (3.11.4)\n",
      "Requirement already satisfied: pydata-google-auth>=1.5.0 in /Users/thomastan/opt/anaconda3/lib/python3.9/site-packages (from pandas-gbq) (1.8.2)\n",
      "Requirement already satisfied: google-cloud-bigquery-storage<3.0.0dev,>=2.16.2 in /Users/thomastan/opt/anaconda3/lib/python3.9/site-packages (from pandas-gbq) (2.22.0)\n",
      "Requirement already satisfied: google-auth>=2.13.0 in /Users/thomastan/opt/anaconda3/lib/python3.9/site-packages (from pandas-gbq) (2.22.0)\n",
      "Requirement already satisfied: db-dtypes<2.0.0,>=1.0.4 in /Users/thomastan/opt/anaconda3/lib/python3.9/site-packages (from pandas-gbq) (1.1.1)\n",
      "Requirement already satisfied: numpy>=1.16.6 in /Users/thomastan/opt/anaconda3/lib/python3.9/site-packages (from pandas-gbq) (1.23.4)\n",
      "Requirement already satisfied: setuptools in /Users/thomastan/opt/anaconda3/lib/python3.9/site-packages (from pandas-gbq) (65.4.1)\n",
      "Requirement already satisfied: google-api-core<3.0.0dev,>=2.10.2 in /Users/thomastan/opt/anaconda3/lib/python3.9/site-packages (from pandas-gbq) (2.11.1)\n",
      "Requirement already satisfied: pandas>=1.1.4 in /Users/thomastan/opt/anaconda3/lib/python3.9/site-packages (from pandas-gbq) (1.5.3)\n",
      "Requirement already satisfied: packaging>=17.0 in /Users/thomastan/opt/anaconda3/lib/python3.9/site-packages (from db-dtypes<2.0.0,>=1.0.4->pandas-gbq) (23.1)\n",
      "Requirement already satisfied: protobuf!=3.20.0,!=3.20.1,!=4.21.0,!=4.21.1,!=4.21.2,!=4.21.3,!=4.21.4,!=4.21.5,<5.0.0.dev0,>=3.19.5 in /Users/thomastan/opt/anaconda3/lib/python3.9/site-packages (from google-api-core<3.0.0dev,>=2.10.2->pandas-gbq) (4.24.1)\n",
      "Requirement already satisfied: requests<3.0.0.dev0,>=2.18.0 in /Users/thomastan/opt/anaconda3/lib/python3.9/site-packages (from google-api-core<3.0.0dev,>=2.10.2->pandas-gbq) (2.31.0)\n",
      "Requirement already satisfied: googleapis-common-protos<2.0.dev0,>=1.56.2 in /Users/thomastan/opt/anaconda3/lib/python3.9/site-packages (from google-api-core<3.0.0dev,>=2.10.2->pandas-gbq) (1.60.0)\n",
      "Requirement already satisfied: urllib3<2.0 in /Users/thomastan/opt/anaconda3/lib/python3.9/site-packages (from google-auth>=2.13.0->pandas-gbq) (1.26.16)\n",
      "Requirement already satisfied: six>=1.9.0 in /Users/thomastan/opt/anaconda3/lib/python3.9/site-packages (from google-auth>=2.13.0->pandas-gbq) (1.16.0)\n",
      "Requirement already satisfied: rsa<5,>=3.1.4 in /Users/thomastan/opt/anaconda3/lib/python3.9/site-packages (from google-auth>=2.13.0->pandas-gbq) (4.9)\n",
      "Requirement already satisfied: pyasn1-modules>=0.2.1 in /Users/thomastan/opt/anaconda3/lib/python3.9/site-packages (from google-auth>=2.13.0->pandas-gbq) (0.2.8)\n",
      "Requirement already satisfied: cachetools<6.0,>=2.0.0 in /Users/thomastan/opt/anaconda3/lib/python3.9/site-packages (from google-auth>=2.13.0->pandas-gbq) (5.3.1)\n",
      "Requirement already satisfied: requests-oauthlib>=0.7.0 in /Users/thomastan/opt/anaconda3/lib/python3.9/site-packages (from google-auth-oauthlib>=0.7.0->pandas-gbq) (1.3.1)\n",
      "Requirement already satisfied: proto-plus<2.0.0dev,>=1.15.0 in /Users/thomastan/opt/anaconda3/lib/python3.9/site-packages (from google-cloud-bigquery!=2.4.*,<4.0.0dev,>=3.3.5->pandas-gbq) (1.22.3)\n",
      "Requirement already satisfied: grpcio<2.0dev,>=1.47.0 in /Users/thomastan/opt/anaconda3/lib/python3.9/site-packages (from google-cloud-bigquery!=2.4.*,<4.0.0dev,>=3.3.5->pandas-gbq) (1.57.0)\n",
      "Requirement already satisfied: python-dateutil<3.0dev,>=2.7.2 in /Users/thomastan/opt/anaconda3/lib/python3.9/site-packages (from google-cloud-bigquery!=2.4.*,<4.0.0dev,>=3.3.5->pandas-gbq) (2.8.2)\n",
      "Requirement already satisfied: google-resumable-media<3.0dev,>=0.6.0 in /Users/thomastan/opt/anaconda3/lib/python3.9/site-packages (from google-cloud-bigquery!=2.4.*,<4.0.0dev,>=3.3.5->pandas-gbq) (1.3.1)\n",
      "Requirement already satisfied: google-cloud-core<3.0.0dev,>=1.6.0 in /Users/thomastan/opt/anaconda3/lib/python3.9/site-packages (from google-cloud-bigquery!=2.4.*,<4.0.0dev,>=3.3.5->pandas-gbq) (2.3.3)\n",
      "Requirement already satisfied: grpcio-status<2.0.dev0,>=1.33.2 in /Users/thomastan/opt/anaconda3/lib/python3.9/site-packages (from google-api-core<3.0.0dev,>=2.10.2->pandas-gbq) (1.57.0)\n",
      "Requirement already satisfied: google-crc32c<2.0dev,>=1.0 in /Users/thomastan/opt/anaconda3/lib/python3.9/site-packages (from google-resumable-media<3.0dev,>=0.6.0->google-cloud-bigquery!=2.4.*,<4.0.0dev,>=3.3.5->pandas-gbq) (1.1.2)\n",
      "Requirement already satisfied: cffi>=1.0.0 in /Users/thomastan/opt/anaconda3/lib/python3.9/site-packages (from google-crc32c<2.0dev,>=1.0->google-resumable-media<3.0dev,>=0.6.0->google-cloud-bigquery!=2.4.*,<4.0.0dev,>=3.3.5->pandas-gbq) (1.15.1)\n",
      "Requirement already satisfied: pycparser in /Users/thomastan/opt/anaconda3/lib/python3.9/site-packages (from cffi>=1.0.0->google-crc32c<2.0dev,>=1.0->google-resumable-media<3.0dev,>=0.6.0->google-cloud-bigquery!=2.4.*,<4.0.0dev,>=3.3.5->pandas-gbq) (2.21)\n",
      "Requirement already satisfied: pytz>=2020.1 in /Users/thomastan/opt/anaconda3/lib/python3.9/site-packages (from pandas>=1.1.4->pandas-gbq) (2023.3)\n",
      "Requirement already satisfied: pyasn1<0.5.0,>=0.4.6 in /Users/thomastan/opt/anaconda3/lib/python3.9/site-packages (from pyasn1-modules>=0.2.1->google-auth>=2.13.0->pandas-gbq) (0.4.8)\n",
      "Requirement already satisfied: charset-normalizer<4,>=2 in /Users/thomastan/opt/anaconda3/lib/python3.9/site-packages (from requests<3.0.0.dev0,>=2.18.0->google-api-core<3.0.0dev,>=2.10.2->pandas-gbq) (3.2.0)\n",
      "Requirement already satisfied: idna<4,>=2.5 in /Users/thomastan/opt/anaconda3/lib/python3.9/site-packages (from requests<3.0.0.dev0,>=2.18.0->google-api-core<3.0.0dev,>=2.10.2->pandas-gbq) (3.4)\n",
      "Requirement already satisfied: certifi>=2017.4.17 in /Users/thomastan/opt/anaconda3/lib/python3.9/site-packages (from requests<3.0.0.dev0,>=2.18.0->google-api-core<3.0.0dev,>=2.10.2->pandas-gbq) (2023.7.22)\n",
      "Requirement already satisfied: oauthlib>=3.0.0 in /Users/thomastan/opt/anaconda3/lib/python3.9/site-packages (from requests-oauthlib>=0.7.0->google-auth-oauthlib>=0.7.0->pandas-gbq) (3.2.2)\n"
     ]
    }
   ],
   "source": [
    "!pip install pandas google-cloud-bigquery\n",
    "!pip install pandas-gbq\n",
    "import pandas as pd\n",
    "from google.oauth2 import service_account\n",
    "import pandas as pd\n",
    "import pandas_gbq as gbq\n",
    "credentials_path = '../token.json'\n",
    "\n",
    "# Authenticate with your credentials\n",
    "credentials = service_account.Credentials.from_service_account_file(\n",
    "    credentials_path, scopes=['https://www.googleapis.com/auth/bigquery'])\n",
    "\n",
    "# Set the credentials for pandas_gbq\n",
    "gbq.context.credentials = credentials"
   ]
  },
  {
   "cell_type": "code",
   "execution_count": 155,
   "metadata": {},
   "outputs": [
    {
     "name": "stdout",
     "output_type": "stream",
     "text": [
      "Downloading: 100%|\u001b[32m██████████████████████████████████████████████████████████████████████████████████████████████████████████████████████████████████████████████████████████████████████████████████████████████████████████████████████████████████████████████████████████████████████████████████████████████████████████████████████████████████\u001b[0m|\u001b[0m\n"
     ]
    }
   ],
   "source": [
    "from pandas_gbq import read_gbq\n",
    "merged_data = read_gbq(f\"\"\"\n",
    "SELECT *\n",
    "FROM `capstone-398012.capstone.filled_table`\n",
    "\n",
    "\"\"\",project_id='capstone-398012', dialect='standard')"
   ]
  },
  {
   "cell_type": "code",
   "execution_count": 165,
   "metadata": {},
   "outputs": [
    {
     "name": "stdout",
     "output_type": "stream",
     "text": [
      "75\n",
      "75\n"
     ]
    }
   ],
   "source": [
    "#list of columns that contain NA \n",
    "na_cols = ['liqnonfinlevel', 'liqnonfintrend', 'dtdlevel', 'dtdtrend', 'DTDmedianNonFin', 'Sector_Number', 'DTDmedianFin', 'sigma', 'StkIndx']\n",
    "\n",
    "new_df = merged_data.copy()\n",
    "new_df['Event_type'] = new_df['Event_type'].map(lambda x : 0 if x ==2  else x)\n",
    "#create new columns (_notNA) for each column that contains na values where 1 if original column is not na and 0 otherwise\n",
    "for col in na_cols:\n",
    "    new_col = col + '_notNA'\n",
    "    new_df[new_col] = new_df[col].notna().astype(int)\n",
    "\n",
    "grouped_df = new_df.groupby('CompNo')\n",
    "grouped_df[na_cols].mean()\n",
    "mean_values = grouped_df[na_cols].transform('mean')\n",
    "\n",
    "new_df[na_cols] = new_df[na_cols].fillna(mean_values)\n",
    "print(new_df['Event_type'].sum())\n",
    "new_df.isna().sum().sort_values(ascending=False)\n",
    "print(new_df['Event_type'].sum())\n",
    "\n"
   ]
  },
  {
   "cell_type": "code",
   "execution_count": 166,
   "metadata": {},
   "outputs": [],
   "source": [
    "import numpy as np\n",
    "from sklearn.model_selection import train_test_split\n",
    "from sklearn.preprocessing import StandardScaler\n",
    "numerical = ['StkIndx', 'STInt', 'dtdlevel', 'dtdtrend', 'liqnonfinlevel', 'liqnonfintrend', 'ni2talevel', 'ni2tatrend', 'sizelevel', 'sizetrend', 'm2b', 'sigma', 'liqfinlevel', 'lqfintrend', 'DTDmedianFin', 'DTDmedianNonFin', 'dummy297fin']\n",
    "categorical= [\n",
    " 'Sector_Number',\n",
    " 'Exchange',\n",
    " 'liqnonfinlevel_notNA',\n",
    " 'liqnonfintrend_notNA',\n",
    " 'dtdlevel_notNA',\n",
    " 'dtdtrend_notNA',\n",
    " 'DTDmedianNonFin_notNA',\n",
    " 'Sector_Number_notNA',\n",
    " 'DTDmedianFin_notNA',\n",
    " 'sigma_notNA',\n",
    " 'StkIndx_notNA']\n",
    "y = new_df['Event_type']\n",
    "X = new_df.drop(['Event_type', 'CompNo', 'yyyy', 'mm'], axis=1)\n",
    "\n",
    "\n",
    "X_train, X_test, y_train, y_test = train_test_split(X, y, test_size=0.2, random_state=42)\n",
    "scaler = StandardScaler()\n",
    "X_train_scaled = pd.DataFrame(scaler.fit_transform(X_train[numerical]), columns=numerical)\n",
    "X_train_scaled.index = X_train.index\n",
    "X_train_scaled = pd.concat([X_train_scaled, X_train[categorical]] ,axis=1)\n",
    "X_test_scaled = pd.DataFrame(scaler.transform(X_test[numerical]), columns=numerical)\n",
    "X_test_scaled.index = X_test.index\n",
    "X_test_scaled = pd.concat([X_test_scaled, X_test[categorical]], axis=1)\n"
   ]
  },
  {
   "cell_type": "markdown",
   "metadata": {},
   "source": [
    "## Logistic Regression"
   ]
  },
  {
   "cell_type": "code",
   "execution_count": 168,
   "metadata": {},
   "outputs": [
    {
     "name": "stdout",
     "output_type": "stream",
     "text": [
      "Mean Squared Error: 0.02247191011235955\n",
      "R-squared: -1.5226757369614514\n",
      "Confusion Matrix:\n",
      "[[1297   26]\n",
      " [   4    8]]\n",
      "\n",
      "Classification Report:\n",
      "              precision    recall  f1-score   support\n",
      "\n",
      "           0       1.00      0.98      0.99      1323\n",
      "           1       0.24      0.67      0.35        12\n",
      "\n",
      "    accuracy                           0.98      1335\n",
      "   macro avg       0.62      0.82      0.67      1335\n",
      "weighted avg       0.99      0.98      0.98      1335\n",
      "\n"
     ]
    },
    {
     "name": "stderr",
     "output_type": "stream",
     "text": [
      "/Users/thomastan/opt/anaconda3/lib/python3.9/site-packages/sklearn/linear_model/_logistic.py:460: ConvergenceWarning: lbfgs failed to converge (status=1):\n",
      "STOP: TOTAL NO. of ITERATIONS REACHED LIMIT.\n",
      "\n",
      "Increase the number of iterations (max_iter) or scale the data as shown in:\n",
      "    https://scikit-learn.org/stable/modules/preprocessing.html\n",
      "Please also refer to the documentation for alternative solver options:\n",
      "    https://scikit-learn.org/stable/modules/linear_model.html#logistic-regression\n",
      "  n_iter_i = _check_optimize_result(\n"
     ]
    }
   ],
   "source": [
    "from sklearn.linear_model import LogisticRegression\n",
    "from sklearn.model_selection import train_test_split\n",
    "from sklearn.metrics import mean_squared_error, r2_score\n",
    "from sklearn.metrics import confusion_matrix, classification_report\n",
    "class_weights = {0:1, 1:10}\n",
    "model = LogisticRegression(class_weight = class_weights)\n",
    "model.fit(X_train_scaled, y_train)\n",
    "y_pred = model.predict(X_test_scaled)\n",
    "mse = mean_squared_error(y_test, y_pred)\n",
    "r2 = r2_score(y_test, y_pred)\n",
    "print(\"Mean Squared Error:\", mse)\n",
    "print(\"R-squared:\", r2)\n",
    "coefficients = model.coef_\n",
    "intercept = model.intercept_\n",
    "\n",
    "\n",
    "conf_matrix = confusion_matrix(y_test, y_pred)\n",
    "print(\"Confusion Matrix:\")\n",
    "print(conf_matrix)\n",
    "classification_rep = classification_report(y_test, y_pred)\n",
    "print(\"\\nClassification Report:\")\n",
    "print(classification_rep)"
   ]
  },
  {
   "cell_type": "markdown",
   "metadata": {},
   "source": [
    "## Linear Regression\n"
   ]
  },
  {
   "cell_type": "code",
   "execution_count": 161,
   "metadata": {},
   "outputs": [
    {
     "name": "stdout",
     "output_type": "stream",
     "text": [
      "Mean Squared Error: 0.007632149265912448\n",
      "R-squared: 0.14322201905764587\n",
      "Coefficients: [-0.00375393 -0.06441143 -0.00042193  0.00141503 -0.00767383  0.0026687\n",
      "  0.00420604  0.00046814 -0.01633283 -0.00045575  0.00038404 -0.00825186\n",
      "  0.00168323 -0.00028511 -0.04249975  0.0243767   0.05637428 -0.00145505\n",
      " -0.11732824  0.          0.          0.          0.          0.\n",
      "  0.          0.          0.          0.        ]\n",
      "Intercept: 1.8148447662827003\n"
     ]
    }
   ],
   "source": [
    "import numpy as np\n",
    "import pandas as pd\n",
    "from sklearn.linear_model import LinearRegression\n",
    "from sklearn.model_selection import train_test_split\n",
    "from sklearn.metrics import mean_squared_error, r2_score\n",
    "\n",
    "model = LinearRegression()\n",
    "model.fit(X_train_scaled, y_train)\n",
    "y_pred = model.predict(X_test_scaled)\n",
    "mse = mean_squared_error(y_test, y_pred)\n",
    "r2 = r2_score(y_test, y_pred)\n",
    "print(\"Mean Squared Error:\", mse)\n",
    "print(\"R-squared:\", r2)\n",
    "coefficients = model.coef_\n",
    "intercept = model.intercept_\n",
    "print(\"Coefficients:\", coefficients)\n",
    "print(\"Intercept:\", intercept)"
   ]
  }
 ],
 "metadata": {
  "kernelspec": {
   "display_name": "Python 3 (ipykernel)",
   "language": "python",
   "name": "python3"
  },
  "language_info": {
   "codemirror_mode": {
    "name": "ipython",
    "version": 3
   },
   "file_extension": ".py",
   "mimetype": "text/x-python",
   "name": "python",
   "nbconvert_exporter": "python",
   "pygments_lexer": "ipython3",
   "version": "3.9.12"
  },
  "orig_nbformat": 4
 },
 "nbformat": 4,
 "nbformat_minor": 2
}
