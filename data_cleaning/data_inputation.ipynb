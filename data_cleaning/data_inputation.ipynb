{
 "cells": [
  {
   "cell_type": "code",
   "execution_count": null,
   "metadata": {},
   "outputs": [],
   "source": [
    "!pip install pandas google-cloud-bigquery\n",
    "!pip install pandas-gbq\n",
    "import pandas as pd\n",
    "from google.oauth2 import service_account\n",
    "import pandas as pd\n",
    "import pandas_gbq as gbq\n",
    "credentials_path = '../token.json'\n",
    "\n",
    "# Authenticate with your credentials\n",
    "credentials = service_account.Credentials.from_service_account_file(\n",
    "    credentials_path, scopes=['https://www.googleapis.com/auth/bigquery'])\n",
    "\n",
    "# Set the credentials for pandas_gbq\n",
    "gbq.context.credentials = credentials"
   ]
  },
  {
   "cell_type": "code",
   "execution_count": 14,
   "metadata": {},
   "outputs": [
    {
     "name": "stdout",
     "output_type": "stream",
     "text": [
      "Downloading: 100%|\u001b[32m████████████████████████████████████████████████████████████████████████████████████████████████████████████████████████████████████████████████████████████\u001b[0m|\u001b[0m\n"
     ]
    }
   ],
   "source": [
    "from pandas_gbq import read_gbq\n",
    "merged_data = read_gbq(f\"\"\"\n",
    "SELECT *\n",
    "FROM `capstone-398012.capstone.X_Y_merged_2`\n",
    "\n",
    "\"\"\",project_id='capstone-398012', dialect='standard')"
   ]
  },
  {
   "cell_type": "code",
   "execution_count": 41,
   "metadata": {},
   "outputs": [],
   "source": [
    "data = ['CompanyNumber', 'yyyy', 'mm', 'ni2talevel','ni2tatrend', 'sizelevel', 'sizetrend', 'm2b']\n",
    "# temp = merged_data.copy()\n",
    "merged_data= temp.copy()"
   ]
  },
  {
   "cell_type": "code",
   "execution_count": 50,
   "metadata": {},
   "outputs": [],
   "source": [
    "merged_data.sort_values(by=['CompanyNumber', 'yyyy', 'mm'], inplace=True)\n",
    "\n",
    "\n",
    "def rolling_average_with_min_count(series):\n",
    "    rolling_window = series.rolling(window=48, min_periods=0)\n",
    "    return rolling_window.mean()\n",
    "\n",
    "\n",
    "level_variables = ['ni2talevel', 'sizelevel']\n",
    "\n",
    "# Loop through each 'level' variable and apply the imputation logic\n",
    "for variable in level_variables:\n",
    "    imputed_column = merged_data.groupby('CompanyNumber')[variable].apply(rolling_average_with_min_count)\n",
    "    \n",
    "    merged_data[variable + '_imputed'] = imputed_column.reset_index(level=0, drop=True)\n",
    "merged_data['sizelevel'].fillna(merged_data['sizelevel_imputed'], inplace=True)\n",
    "merged_data['ni2talevel'].fillna(merged_data['ni2talevel_imputed'], inplace=True)\n"
   ]
  },
  {
   "cell_type": "code",
   "execution_count": 27,
   "metadata": {},
   "outputs": [
    {
     "data": {
      "text/plain": [
       "Index(['CompanyNumber', 'yyyy', 'mm', 'StkIndx', 'STInt', 'dtdlevel',\n",
       "       'dtdtrend', 'liqnonfinlevel', 'liqnonfintrend', 'ni2talevel',\n",
       "       'ni2tatrend', 'sizelevel', 'sizetrend', 'm2b', 'sigma', 'liqfinlevel',\n",
       "       'lqfintrend', 'DTDmedianFin', 'DTDmedianNonFin', 'dummy297fin',\n",
       "       'EventDate', 'EventType'],\n",
       "      dtype='object')"
      ]
     },
     "execution_count": 27,
     "metadata": {},
     "output_type": "execute_result"
    }
   ],
   "source": [
    "temp.columns"
   ]
  },
  {
   "cell_type": "code",
   "execution_count": 51,
   "metadata": {},
   "outputs": [
    {
     "data": {
      "text/plain": [
       "CompanyNumber              0\n",
       "yyyy                       0\n",
       "mm                         0\n",
       "StkIndx                47043\n",
       "STInt                  17318\n",
       "dtdlevel              415827\n",
       "dtdtrend              415827\n",
       "liqnonfinlevel        313582\n",
       "liqnonfintrend        313582\n",
       "ni2talevel            228614\n",
       "ni2tatrend            295878\n",
       "sizelevel             142513\n",
       "sizetrend             160735\n",
       "m2b                   304381\n",
       "sigma                 289846\n",
       "liqfinlevel            64824\n",
       "lqfintrend             64824\n",
       "DTDmedianFin           29919\n",
       "DTDmedianNonFin       126689\n",
       "dummy297fin                0\n",
       "EventDate                  0\n",
       "EventType                  0\n",
       "ni2talevel_imputed    228614\n",
       "sizelevel_imputed     142513\n",
       "dtype: int64"
      ]
     },
     "execution_count": 51,
     "metadata": {},
     "output_type": "execute_result"
    }
   ],
   "source": [
    "merged_data.isna().sum()"
   ]
  },
  {
   "cell_type": "code",
   "execution_count": null,
   "metadata": {},
   "outputs": [],
   "source": []
  }
 ],
 "metadata": {
  "kernelspec": {
   "display_name": "Python 3 (ipykernel)",
   "language": "python",
   "name": "python3"
  },
  "language_info": {
   "codemirror_mode": {
    "name": "ipython",
    "version": 3
   },
   "file_extension": ".py",
   "mimetype": "text/x-python",
   "name": "python",
   "nbconvert_exporter": "python",
   "pygments_lexer": "ipython3",
   "version": "3.9.12"
  },
  "orig_nbformat": 4
 },
 "nbformat": 4,
 "nbformat_minor": 2
}
