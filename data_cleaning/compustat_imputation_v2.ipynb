{
 "cells": [
  {
   "cell_type": "code",
   "execution_count": 32,
   "id": "initial_id",
   "metadata": {
    "collapsed": true,
    "ExecuteTime": {
     "end_time": "2023-10-30T11:22:53.939010Z",
     "start_time": "2023-10-30T11:22:20.306909Z"
    }
   },
   "outputs": [
    {
     "name": "stderr",
     "output_type": "stream",
     "text": [
      "/var/folders/kp/rt42wzwx7sz9plr9l175fkv40000gn/T/ipykernel_83096/313954475.py:2: DtypeWarning: Columns (10,12,13,17,18,20,25,26,30,32,33,34,35,647,648,649,650,654,656,664,668,669,674,675,678,679) have mixed types. Specify dtype option on import or set low_memory=False.\n",
      "  df = pd.read_csv('compustat.csv')\n"
     ]
    },
    {
     "data": {
      "text/plain": "   gvkey    datadate  fyearq  fqtr  fyr indfmt consol popsrc datafmt  tic  \\\n0   1004  2000-02-29    1999   3.0    5   INDL      C      D     STD  AIR   \n1   1004  2000-05-31    1999   4.0    5   INDL      C      D     STD  AIR   \n2   1004  2000-08-31    2000   1.0    5   INDL      C      D     STD  AIR   \n3   1004  2000-11-30    2000   2.0    5   INDL      C      D     STD  AIR   \n4   1004  2001-02-28    2000   3.0    5   INDL      C      D     STD  AIR   \n\n   ... priusa   sic spcindcd spcseccd  spcsrc  state  stko           weburl  \\\n0  ...    1.0  5080    110.0    925.0       B     IL   0.0  www.aarcorp.com   \n1  ...    1.0  5080    110.0    925.0       B     IL   0.0  www.aarcorp.com   \n2  ...    1.0  5080    110.0    925.0       B     IL   0.0  www.aarcorp.com   \n3  ...    1.0  5080    110.0    925.0       B     IL   0.0  www.aarcorp.com   \n4  ...    1.0  5080    110.0    925.0       B     IL   0.0  www.aarcorp.com   \n\n  dldte     ipodate  \n0   NaN  1988-01-01  \n1   NaN  1988-01-01  \n2   NaN  1988-01-01  \n3   NaN  1988-01-01  \n4   NaN  1988-01-01  \n\n[5 rows x 680 columns]",
      "text/html": "<div>\n<style scoped>\n    .dataframe tbody tr th:only-of-type {\n        vertical-align: middle;\n    }\n\n    .dataframe tbody tr th {\n        vertical-align: top;\n    }\n\n    .dataframe thead th {\n        text-align: right;\n    }\n</style>\n<table border=\"1\" class=\"dataframe\">\n  <thead>\n    <tr style=\"text-align: right;\">\n      <th></th>\n      <th>gvkey</th>\n      <th>datadate</th>\n      <th>fyearq</th>\n      <th>fqtr</th>\n      <th>fyr</th>\n      <th>indfmt</th>\n      <th>consol</th>\n      <th>popsrc</th>\n      <th>datafmt</th>\n      <th>tic</th>\n      <th>...</th>\n      <th>priusa</th>\n      <th>sic</th>\n      <th>spcindcd</th>\n      <th>spcseccd</th>\n      <th>spcsrc</th>\n      <th>state</th>\n      <th>stko</th>\n      <th>weburl</th>\n      <th>dldte</th>\n      <th>ipodate</th>\n    </tr>\n  </thead>\n  <tbody>\n    <tr>\n      <th>0</th>\n      <td>1004</td>\n      <td>2000-02-29</td>\n      <td>1999</td>\n      <td>3.0</td>\n      <td>5</td>\n      <td>INDL</td>\n      <td>C</td>\n      <td>D</td>\n      <td>STD</td>\n      <td>AIR</td>\n      <td>...</td>\n      <td>1.0</td>\n      <td>5080</td>\n      <td>110.0</td>\n      <td>925.0</td>\n      <td>B</td>\n      <td>IL</td>\n      <td>0.0</td>\n      <td>www.aarcorp.com</td>\n      <td>NaN</td>\n      <td>1988-01-01</td>\n    </tr>\n    <tr>\n      <th>1</th>\n      <td>1004</td>\n      <td>2000-05-31</td>\n      <td>1999</td>\n      <td>4.0</td>\n      <td>5</td>\n      <td>INDL</td>\n      <td>C</td>\n      <td>D</td>\n      <td>STD</td>\n      <td>AIR</td>\n      <td>...</td>\n      <td>1.0</td>\n      <td>5080</td>\n      <td>110.0</td>\n      <td>925.0</td>\n      <td>B</td>\n      <td>IL</td>\n      <td>0.0</td>\n      <td>www.aarcorp.com</td>\n      <td>NaN</td>\n      <td>1988-01-01</td>\n    </tr>\n    <tr>\n      <th>2</th>\n      <td>1004</td>\n      <td>2000-08-31</td>\n      <td>2000</td>\n      <td>1.0</td>\n      <td>5</td>\n      <td>INDL</td>\n      <td>C</td>\n      <td>D</td>\n      <td>STD</td>\n      <td>AIR</td>\n      <td>...</td>\n      <td>1.0</td>\n      <td>5080</td>\n      <td>110.0</td>\n      <td>925.0</td>\n      <td>B</td>\n      <td>IL</td>\n      <td>0.0</td>\n      <td>www.aarcorp.com</td>\n      <td>NaN</td>\n      <td>1988-01-01</td>\n    </tr>\n    <tr>\n      <th>3</th>\n      <td>1004</td>\n      <td>2000-11-30</td>\n      <td>2000</td>\n      <td>2.0</td>\n      <td>5</td>\n      <td>INDL</td>\n      <td>C</td>\n      <td>D</td>\n      <td>STD</td>\n      <td>AIR</td>\n      <td>...</td>\n      <td>1.0</td>\n      <td>5080</td>\n      <td>110.0</td>\n      <td>925.0</td>\n      <td>B</td>\n      <td>IL</td>\n      <td>0.0</td>\n      <td>www.aarcorp.com</td>\n      <td>NaN</td>\n      <td>1988-01-01</td>\n    </tr>\n    <tr>\n      <th>4</th>\n      <td>1004</td>\n      <td>2001-02-28</td>\n      <td>2000</td>\n      <td>3.0</td>\n      <td>5</td>\n      <td>INDL</td>\n      <td>C</td>\n      <td>D</td>\n      <td>STD</td>\n      <td>AIR</td>\n      <td>...</td>\n      <td>1.0</td>\n      <td>5080</td>\n      <td>110.0</td>\n      <td>925.0</td>\n      <td>B</td>\n      <td>IL</td>\n      <td>0.0</td>\n      <td>www.aarcorp.com</td>\n      <td>NaN</td>\n      <td>1988-01-01</td>\n    </tr>\n  </tbody>\n</table>\n<p>5 rows × 680 columns</p>\n</div>"
     },
     "execution_count": 32,
     "metadata": {},
     "output_type": "execute_result"
    }
   ],
   "source": [
    "import pandas as pd\n",
    "df = pd.read_csv('compustat.csv')\n",
    "df.head()"
   ]
  },
  {
   "cell_type": "code",
   "execution_count": 33,
   "outputs": [
    {
     "data": {
      "text/plain": "datadate      0\ngvkey         0\nfqtr        346\nfyr           0\ntic         694\nsic           0\ndtype: int64"
     },
     "execution_count": 33,
     "metadata": {},
     "output_type": "execute_result"
    }
   ],
   "source": [
    "df_with_ratios = pd.DataFrame(df[['datadate', 'gvkey', 'fqtr', 'fyr', 'tic', 'sic']])\n",
    "df_with_ratios.isna().sum()"
   ],
   "metadata": {
    "collapsed": false,
    "ExecuteTime": {
     "end_time": "2023-10-30T11:22:54.107036Z",
     "start_time": "2023-10-30T11:22:53.956361Z"
    }
   },
   "id": "61407de953a3c370"
  },
  {
   "cell_type": "markdown",
   "source": [
    "Looks like gvkey would be a better primary key than ticker since it has no nans in this dataset. We also need to inspect financial quarter"
   ],
   "metadata": {
    "collapsed": false
   },
   "id": "d40928e6df226e1d"
  },
  {
   "cell_type": "code",
   "execution_count": 34,
   "outputs": [
    {
     "data": {
      "text/plain": "           datadate   gvkey  fqtr  fyr    tic   sic\n2746     2014-03-31    1224   NaN   12   EGN1  4924\n2747     2014-06-30    1224   NaN   12   EGN1  4924\n12300    2014-11-30    1951   NaN    8  PRSNQ  3845\n31199    2014-12-31    3424   NaN    9     BH  5812\n35114    2014-12-31    3806   NaN    9   DWSN  1382\n...             ...     ...   ...  ...    ...   ...\n1050126  2013-06-30  196766   NaN    3  ALGDF  1040\n1050128  2013-09-30  196766   NaN    3  ALGDF  1040\n1074260  2015-06-30  317427   NaN    3   NOMD  2030\n1074262  2015-09-30  317427   NaN    3   NOMD  2030\n1074264  2015-12-31  317427   NaN    3   NOMD  2030\n\n[346 rows x 6 columns]",
      "text/html": "<div>\n<style scoped>\n    .dataframe tbody tr th:only-of-type {\n        vertical-align: middle;\n    }\n\n    .dataframe tbody tr th {\n        vertical-align: top;\n    }\n\n    .dataframe thead th {\n        text-align: right;\n    }\n</style>\n<table border=\"1\" class=\"dataframe\">\n  <thead>\n    <tr style=\"text-align: right;\">\n      <th></th>\n      <th>datadate</th>\n      <th>gvkey</th>\n      <th>fqtr</th>\n      <th>fyr</th>\n      <th>tic</th>\n      <th>sic</th>\n    </tr>\n  </thead>\n  <tbody>\n    <tr>\n      <th>2746</th>\n      <td>2014-03-31</td>\n      <td>1224</td>\n      <td>NaN</td>\n      <td>12</td>\n      <td>EGN1</td>\n      <td>4924</td>\n    </tr>\n    <tr>\n      <th>2747</th>\n      <td>2014-06-30</td>\n      <td>1224</td>\n      <td>NaN</td>\n      <td>12</td>\n      <td>EGN1</td>\n      <td>4924</td>\n    </tr>\n    <tr>\n      <th>12300</th>\n      <td>2014-11-30</td>\n      <td>1951</td>\n      <td>NaN</td>\n      <td>8</td>\n      <td>PRSNQ</td>\n      <td>3845</td>\n    </tr>\n    <tr>\n      <th>31199</th>\n      <td>2014-12-31</td>\n      <td>3424</td>\n      <td>NaN</td>\n      <td>9</td>\n      <td>BH</td>\n      <td>5812</td>\n    </tr>\n    <tr>\n      <th>35114</th>\n      <td>2014-12-31</td>\n      <td>3806</td>\n      <td>NaN</td>\n      <td>9</td>\n      <td>DWSN</td>\n      <td>1382</td>\n    </tr>\n    <tr>\n      <th>...</th>\n      <td>...</td>\n      <td>...</td>\n      <td>...</td>\n      <td>...</td>\n      <td>...</td>\n      <td>...</td>\n    </tr>\n    <tr>\n      <th>1050126</th>\n      <td>2013-06-30</td>\n      <td>196766</td>\n      <td>NaN</td>\n      <td>3</td>\n      <td>ALGDF</td>\n      <td>1040</td>\n    </tr>\n    <tr>\n      <th>1050128</th>\n      <td>2013-09-30</td>\n      <td>196766</td>\n      <td>NaN</td>\n      <td>3</td>\n      <td>ALGDF</td>\n      <td>1040</td>\n    </tr>\n    <tr>\n      <th>1074260</th>\n      <td>2015-06-30</td>\n      <td>317427</td>\n      <td>NaN</td>\n      <td>3</td>\n      <td>NOMD</td>\n      <td>2030</td>\n    </tr>\n    <tr>\n      <th>1074262</th>\n      <td>2015-09-30</td>\n      <td>317427</td>\n      <td>NaN</td>\n      <td>3</td>\n      <td>NOMD</td>\n      <td>2030</td>\n    </tr>\n    <tr>\n      <th>1074264</th>\n      <td>2015-12-31</td>\n      <td>317427</td>\n      <td>NaN</td>\n      <td>3</td>\n      <td>NOMD</td>\n      <td>2030</td>\n    </tr>\n  </tbody>\n</table>\n<p>346 rows × 6 columns</p>\n</div>"
     },
     "execution_count": 34,
     "metadata": {},
     "output_type": "execute_result"
    }
   ],
   "source": [
    "df_with_ratios[df['fqtr'].isna()]"
   ],
   "metadata": {
    "collapsed": false,
    "ExecuteTime": {
     "end_time": "2023-10-30T11:22:54.116186Z",
     "start_time": "2023-10-30T11:22:54.106861Z"
    }
   },
   "id": "1d051243cd48ce27"
  },
  {
   "cell_type": "markdown",
   "source": [
    "No clear pattern in financial quarters with nan values. Just use date value since there is no nans there"
   ],
   "metadata": {
    "collapsed": false
   },
   "id": "bb5bfc7fef3da35b"
  },
  {
   "cell_type": "code",
   "execution_count": 35,
   "outputs": [
    {
     "data": {
      "text/plain": "     datadate  gvkey  tic   sic\n0  2000-02-29   1004  AIR  5080\n1  2000-05-31   1004  AIR  5080\n2  2000-08-31   1004  AIR  5080\n3  2000-11-30   1004  AIR  5080\n4  2001-02-28   1004  AIR  5080",
      "text/html": "<div>\n<style scoped>\n    .dataframe tbody tr th:only-of-type {\n        vertical-align: middle;\n    }\n\n    .dataframe tbody tr th {\n        vertical-align: top;\n    }\n\n    .dataframe thead th {\n        text-align: right;\n    }\n</style>\n<table border=\"1\" class=\"dataframe\">\n  <thead>\n    <tr style=\"text-align: right;\">\n      <th></th>\n      <th>datadate</th>\n      <th>gvkey</th>\n      <th>tic</th>\n      <th>sic</th>\n    </tr>\n  </thead>\n  <tbody>\n    <tr>\n      <th>0</th>\n      <td>2000-02-29</td>\n      <td>1004</td>\n      <td>AIR</td>\n      <td>5080</td>\n    </tr>\n    <tr>\n      <th>1</th>\n      <td>2000-05-31</td>\n      <td>1004</td>\n      <td>AIR</td>\n      <td>5080</td>\n    </tr>\n    <tr>\n      <th>2</th>\n      <td>2000-08-31</td>\n      <td>1004</td>\n      <td>AIR</td>\n      <td>5080</td>\n    </tr>\n    <tr>\n      <th>3</th>\n      <td>2000-11-30</td>\n      <td>1004</td>\n      <td>AIR</td>\n      <td>5080</td>\n    </tr>\n    <tr>\n      <th>4</th>\n      <td>2001-02-28</td>\n      <td>1004</td>\n      <td>AIR</td>\n      <td>5080</td>\n    </tr>\n  </tbody>\n</table>\n</div>"
     },
     "execution_count": 35,
     "metadata": {},
     "output_type": "execute_result"
    }
   ],
   "source": [
    "df_with_ratios.drop(['fqtr', 'fyr'], axis=1, inplace=True)\n",
    "df_with_ratios.head()"
   ],
   "metadata": {
    "collapsed": false,
    "ExecuteTime": {
     "end_time": "2023-10-30T11:22:54.167954Z",
     "start_time": "2023-10-30T11:22:54.136413Z"
    }
   },
   "id": "4f2ead5a6d60d71e"
  },
  {
   "cell_type": "code",
   "execution_count": 36,
   "outputs": [],
   "source": [
    "df['average_asset'] = (df['atq'] + df['atq'].shift(1)) / 2\n",
    "df['average_inventory'] = (df['invtq'] + df['invtq'].shift(1)) / 2\n",
    "df['average_receivables'] = (df['rectq'] + df['rectq'].shift(1)) / 2\n",
    "df['average_workingcapital'] = (df['wcapq'] + df['wcapq'].shift(1)) / 2\n",
    "df['cogs'] = df['cogsq'] / (1e-6 + df['cogsy'])"
   ],
   "metadata": {
    "collapsed": false,
    "ExecuteTime": {
     "end_time": "2023-10-30T11:22:54.182836Z",
     "start_time": "2023-10-30T11:22:54.140784Z"
    }
   },
   "id": "2999313ffedc3020"
  },
  {
   "cell_type": "code",
   "execution_count": 37,
   "outputs": [],
   "source": [
    "df_with_ratios['current_ratio'] = df['actq'] / (1e-6 + df['lctq'])\n",
    "df_with_ratios['quick_ratio'] = (df['actq'] - df['invtq']) / (1e-6 + df['lctq']) \n",
    "df_with_ratios['cash_ratio'] = df['chechy'] / (1e-6 + df['lctq'] ) \n",
    "df_with_ratios['net_working_capital'] = df['actq'] - df['lctq']\n",
    "df_with_ratios['debt_ratio'] = (df['dlttq'] + df['dlcq']) / (1e-6 + df['atq'])\n",
    "df_with_ratios['debt_to_equity_ratio'] = (df['dlttq'] + df['dlcq']) / (1e-6 + df['ceqq']) \n",
    "df_with_ratios['equity_ratio'] = df['ceqq'] / (1e-6 + df['atq'])\n",
    "df_with_ratios['cashflow_to_debt_ratio'] = df['oancfy'] / (1e-6 + (df['dlttq'] + df['dlcq']))\n",
    "df_with_ratios['net_profit_margin'] = 100 * (df['niq'] / (1e-6 + df['revtq']))\n",
    "df_with_ratios['return_on_assets'] = 100 * (df['niq'] / (1e-6 + df['atq']))\n",
    "df_with_ratios['asset_turnover'] = df['revtq'] / (1e-6 + df['average_asset'])\n",
    "df_with_ratios['inventory_turnover'] = df['cogs'] / (1e-6 + df['average_inventory'])\n",
    "df_with_ratios['days_in_inventory'] = 365 / (1e-6 + (df['cogs'] / (1e-6 + df['average_inventory'])))\n",
    "df_with_ratios['receivables_turnover'] = df['revtq'] / (1e-6 + df['average_inventory'])\n",
    "df_with_ratios['day_sales_outstanding'] = 365 / (1e-6 + (df['revtq'] / (1e-6 + df['average_inventory'])))\n",
    "df_with_ratios['working_capital_turnover'] = df['revtq'] / (1e-6 + df['average_workingcapital'])\n",
    "df_with_ratios['price_to_earnings'] = df['prccq'] / (1e-6 + df['epsfxq'])\n",
    "df_with_ratios['dividend_payout_ratio'] = df['dvpspq'] / (1e-6 + df['epsfxq'])\n",
    "df_with_ratios['retention_ratio'] = 1 - (df['dvpspq'] / (1e-6 + df['epsfxq']))\n",
    "df_with_ratios['gross_margin_ratio'] = 100 * ((df['revtq'] - df['cogsq']) / (1e-6 + df['revtq']))\n",
    "df_with_ratios['operating_profit_margin'] = 100 * ((df['revtq'] - df['cogsq']- df['xoprq']) / (1e-6 + df['revtq']))\n",
    "df_with_ratios['ebitda_margin'] = 100 * ((df['revtq'] - df['cogsq']- df['xoprq'] + df['dpq']) / (1e-6 + df['revtq']))\n",
    "df_with_ratios['debt_service_coverage_ratio'] = (df['revtq'] - df['cogsq']- df['xoprq']) / (1e-6 + (df['dlttq'] + df['dlcq']))\n",
    "df_with_ratios['interest_coverage_ratio'] = df['oibdpq'] / (1e-6 + df['xintq'])"
   ],
   "metadata": {
    "collapsed": false,
    "ExecuteTime": {
     "end_time": "2023-10-30T11:22:54.255485Z",
     "start_time": "2023-10-30T11:22:54.175716Z"
    }
   },
   "id": "5892de2b16998b88"
  },
  {
   "cell_type": "code",
   "execution_count": 38,
   "outputs": [
    {
     "data": {
      "text/plain": "     datadate  gvkey  tic   sic  current_ratio  quick_ratio  cash_ratio  \\\n0  2000-02-29   1004  AIR  5080       2.981531     1.176928   -0.021609   \n1  2000-05-31   1004  AIR  5080       3.120983     1.069792   -0.042786   \n2  2000-08-31   1004  AIR  5080       3.032279     0.989191   -0.003399   \n3  2000-11-30   1004  AIR  5080       2.718261     0.897575    0.009653   \n4  2001-02-28   1004  AIR  5080       3.136912     1.025058   -0.002824   \n\n   net_working_capital  debt_ratio  debt_to_equity_ratio  ...  \\\n0              350.202    0.273288              0.601468  ...   \n1              347.451    0.279030              0.608989  ...   \n2              341.996    0.305692              0.673592  ...   \n3              325.382    0.298354              0.675752  ...   \n4              358.685    0.304446              0.666264  ...   \n\n   day_sales_outstanding  working_capital_turnover  price_to_earnings  \\\n0                    NaN                       NaN          59.375000   \n1             531.051575                  0.645246         154.166667   \n2             513.171702                  0.701345          93.750000   \n3             594.639896                  0.633329          64.843750   \n4             637.845577                  0.584946          68.000000   \n\n   dividend_payout_ratio  retention_ratio  gross_margin_ratio  \\\n0               0.212500         0.787500           18.234795   \n1               0.944444         0.055556           18.944015   \n2               0.708333         0.291667           16.176118   \n3               0.531250         0.468750           18.857738   \n4               0.425000         0.575000           20.259808   \n\n   operating_profit_margin  ebitda_margin  debt_service_coverage_ratio  \\\n0               -72.491564     -70.807951                    -0.958372   \n1               -75.280235     -73.157425                    -0.819497   \n2               -77.799562     -75.858047                    -0.823112   \n3               -73.583647     -71.446755                    -0.674333   \n4               -71.119752     -68.726602                    -0.619269   \n\n   interest_coverage_ratio  \n0                 4.223950  \n1                 2.287927  \n2                 2.432365  \n3                 2.793634  \n4                 3.174489  \n\n[5 rows x 28 columns]",
      "text/html": "<div>\n<style scoped>\n    .dataframe tbody tr th:only-of-type {\n        vertical-align: middle;\n    }\n\n    .dataframe tbody tr th {\n        vertical-align: top;\n    }\n\n    .dataframe thead th {\n        text-align: right;\n    }\n</style>\n<table border=\"1\" class=\"dataframe\">\n  <thead>\n    <tr style=\"text-align: right;\">\n      <th></th>\n      <th>datadate</th>\n      <th>gvkey</th>\n      <th>tic</th>\n      <th>sic</th>\n      <th>current_ratio</th>\n      <th>quick_ratio</th>\n      <th>cash_ratio</th>\n      <th>net_working_capital</th>\n      <th>debt_ratio</th>\n      <th>debt_to_equity_ratio</th>\n      <th>...</th>\n      <th>day_sales_outstanding</th>\n      <th>working_capital_turnover</th>\n      <th>price_to_earnings</th>\n      <th>dividend_payout_ratio</th>\n      <th>retention_ratio</th>\n      <th>gross_margin_ratio</th>\n      <th>operating_profit_margin</th>\n      <th>ebitda_margin</th>\n      <th>debt_service_coverage_ratio</th>\n      <th>interest_coverage_ratio</th>\n    </tr>\n  </thead>\n  <tbody>\n    <tr>\n      <th>0</th>\n      <td>2000-02-29</td>\n      <td>1004</td>\n      <td>AIR</td>\n      <td>5080</td>\n      <td>2.981531</td>\n      <td>1.176928</td>\n      <td>-0.021609</td>\n      <td>350.202</td>\n      <td>0.273288</td>\n      <td>0.601468</td>\n      <td>...</td>\n      <td>NaN</td>\n      <td>NaN</td>\n      <td>59.375000</td>\n      <td>0.212500</td>\n      <td>0.787500</td>\n      <td>18.234795</td>\n      <td>-72.491564</td>\n      <td>-70.807951</td>\n      <td>-0.958372</td>\n      <td>4.223950</td>\n    </tr>\n    <tr>\n      <th>1</th>\n      <td>2000-05-31</td>\n      <td>1004</td>\n      <td>AIR</td>\n      <td>5080</td>\n      <td>3.120983</td>\n      <td>1.069792</td>\n      <td>-0.042786</td>\n      <td>347.451</td>\n      <td>0.279030</td>\n      <td>0.608989</td>\n      <td>...</td>\n      <td>531.051575</td>\n      <td>0.645246</td>\n      <td>154.166667</td>\n      <td>0.944444</td>\n      <td>0.055556</td>\n      <td>18.944015</td>\n      <td>-75.280235</td>\n      <td>-73.157425</td>\n      <td>-0.819497</td>\n      <td>2.287927</td>\n    </tr>\n    <tr>\n      <th>2</th>\n      <td>2000-08-31</td>\n      <td>1004</td>\n      <td>AIR</td>\n      <td>5080</td>\n      <td>3.032279</td>\n      <td>0.989191</td>\n      <td>-0.003399</td>\n      <td>341.996</td>\n      <td>0.305692</td>\n      <td>0.673592</td>\n      <td>...</td>\n      <td>513.171702</td>\n      <td>0.701345</td>\n      <td>93.750000</td>\n      <td>0.708333</td>\n      <td>0.291667</td>\n      <td>16.176118</td>\n      <td>-77.799562</td>\n      <td>-75.858047</td>\n      <td>-0.823112</td>\n      <td>2.432365</td>\n    </tr>\n    <tr>\n      <th>3</th>\n      <td>2000-11-30</td>\n      <td>1004</td>\n      <td>AIR</td>\n      <td>5080</td>\n      <td>2.718261</td>\n      <td>0.897575</td>\n      <td>0.009653</td>\n      <td>325.382</td>\n      <td>0.298354</td>\n      <td>0.675752</td>\n      <td>...</td>\n      <td>594.639896</td>\n      <td>0.633329</td>\n      <td>64.843750</td>\n      <td>0.531250</td>\n      <td>0.468750</td>\n      <td>18.857738</td>\n      <td>-73.583647</td>\n      <td>-71.446755</td>\n      <td>-0.674333</td>\n      <td>2.793634</td>\n    </tr>\n    <tr>\n      <th>4</th>\n      <td>2001-02-28</td>\n      <td>1004</td>\n      <td>AIR</td>\n      <td>5080</td>\n      <td>3.136912</td>\n      <td>1.025058</td>\n      <td>-0.002824</td>\n      <td>358.685</td>\n      <td>0.304446</td>\n      <td>0.666264</td>\n      <td>...</td>\n      <td>637.845577</td>\n      <td>0.584946</td>\n      <td>68.000000</td>\n      <td>0.425000</td>\n      <td>0.575000</td>\n      <td>20.259808</td>\n      <td>-71.119752</td>\n      <td>-68.726602</td>\n      <td>-0.619269</td>\n      <td>3.174489</td>\n    </tr>\n  </tbody>\n</table>\n<p>5 rows × 28 columns</p>\n</div>"
     },
     "execution_count": 38,
     "metadata": {},
     "output_type": "execute_result"
    }
   ],
   "source": [
    "df_with_ratios.head(5)"
   ],
   "metadata": {
    "collapsed": false,
    "ExecuteTime": {
     "end_time": "2023-10-30T11:22:54.260092Z",
     "start_time": "2023-10-30T11:22:54.256492Z"
    }
   },
   "id": "7474976106c6e01b"
  },
  {
   "cell_type": "code",
   "execution_count": 39,
   "outputs": [
    {
     "name": "stdout",
     "output_type": "stream",
     "text": [
      "length of dataset: 1075571\n",
      "shape of dataset: (1075571, 28)\n"
     ]
    }
   ],
   "source": [
    "print(f\"length of dataset: {len(df_with_ratios)}\")\n",
    "print(f\"shape of dataset: {df_with_ratios.shape}\")"
   ],
   "metadata": {
    "collapsed": false,
    "ExecuteTime": {
     "end_time": "2023-10-30T11:22:54.266170Z",
     "start_time": "2023-10-30T11:22:54.259226Z"
    }
   },
   "id": "365f07b9101d2915"
  },
  {
   "cell_type": "code",
   "execution_count": 40,
   "outputs": [
    {
     "data": {
      "text/plain": "                               pct_nan\ndatadate                      0.000000\ngvkey                         0.000000\ntic                           0.064524\nsic                           0.000000\ncurrent_ratio                37.248122\nquick_ratio                  38.371990\ncash_ratio                   38.470171\nnet_working_capital          37.207679\ndebt_ratio                   28.442846\ndebt_to_equity_ratio         28.606852\nequity_ratio                 24.486993\ncashflow_to_debt_ratio       31.512564\nnet_profit_margin            28.302827\nreturn_on_assets             24.576527\nasset_turnover               33.507690\ninventory_turnover           37.789509\ndays_in_inventory            37.789509\nreceivables_turnover         42.795501\nday_sales_outstanding        42.795501\nworking_capital_turnover     40.247645\nprice_to_earnings            30.025261\ndividend_payout_ratio        34.557272\nretention_ratio              34.557272\ngross_margin_ratio           36.340418\noperating_profit_margin      29.008964\nebitda_margin                35.047152\ndebt_service_coverage_ratio  35.057007\ninterest_coverage_ratio      42.831947",
      "text/html": "<div>\n<style scoped>\n    .dataframe tbody tr th:only-of-type {\n        vertical-align: middle;\n    }\n\n    .dataframe tbody tr th {\n        vertical-align: top;\n    }\n\n    .dataframe thead th {\n        text-align: right;\n    }\n</style>\n<table border=\"1\" class=\"dataframe\">\n  <thead>\n    <tr style=\"text-align: right;\">\n      <th></th>\n      <th>pct_nan</th>\n    </tr>\n  </thead>\n  <tbody>\n    <tr>\n      <th>datadate</th>\n      <td>0.000000</td>\n    </tr>\n    <tr>\n      <th>gvkey</th>\n      <td>0.000000</td>\n    </tr>\n    <tr>\n      <th>tic</th>\n      <td>0.064524</td>\n    </tr>\n    <tr>\n      <th>sic</th>\n      <td>0.000000</td>\n    </tr>\n    <tr>\n      <th>current_ratio</th>\n      <td>37.248122</td>\n    </tr>\n    <tr>\n      <th>quick_ratio</th>\n      <td>38.371990</td>\n    </tr>\n    <tr>\n      <th>cash_ratio</th>\n      <td>38.470171</td>\n    </tr>\n    <tr>\n      <th>net_working_capital</th>\n      <td>37.207679</td>\n    </tr>\n    <tr>\n      <th>debt_ratio</th>\n      <td>28.442846</td>\n    </tr>\n    <tr>\n      <th>debt_to_equity_ratio</th>\n      <td>28.606852</td>\n    </tr>\n    <tr>\n      <th>equity_ratio</th>\n      <td>24.486993</td>\n    </tr>\n    <tr>\n      <th>cashflow_to_debt_ratio</th>\n      <td>31.512564</td>\n    </tr>\n    <tr>\n      <th>net_profit_margin</th>\n      <td>28.302827</td>\n    </tr>\n    <tr>\n      <th>return_on_assets</th>\n      <td>24.576527</td>\n    </tr>\n    <tr>\n      <th>asset_turnover</th>\n      <td>33.507690</td>\n    </tr>\n    <tr>\n      <th>inventory_turnover</th>\n      <td>37.789509</td>\n    </tr>\n    <tr>\n      <th>days_in_inventory</th>\n      <td>37.789509</td>\n    </tr>\n    <tr>\n      <th>receivables_turnover</th>\n      <td>42.795501</td>\n    </tr>\n    <tr>\n      <th>day_sales_outstanding</th>\n      <td>42.795501</td>\n    </tr>\n    <tr>\n      <th>working_capital_turnover</th>\n      <td>40.247645</td>\n    </tr>\n    <tr>\n      <th>price_to_earnings</th>\n      <td>30.025261</td>\n    </tr>\n    <tr>\n      <th>dividend_payout_ratio</th>\n      <td>34.557272</td>\n    </tr>\n    <tr>\n      <th>retention_ratio</th>\n      <td>34.557272</td>\n    </tr>\n    <tr>\n      <th>gross_margin_ratio</th>\n      <td>36.340418</td>\n    </tr>\n    <tr>\n      <th>operating_profit_margin</th>\n      <td>29.008964</td>\n    </tr>\n    <tr>\n      <th>ebitda_margin</th>\n      <td>35.047152</td>\n    </tr>\n    <tr>\n      <th>debt_service_coverage_ratio</th>\n      <td>35.057007</td>\n    </tr>\n    <tr>\n      <th>interest_coverage_ratio</th>\n      <td>42.831947</td>\n    </tr>\n  </tbody>\n</table>\n</div>"
     },
     "execution_count": 40,
     "metadata": {},
     "output_type": "execute_result"
    }
   ],
   "source": [
    "nan_breakdown = pd.DataFrame()\n",
    "nan_breakdown['pct_nan'] = (df_with_ratios.isna().sum() / len(df_with_ratios)) * 100\n",
    "nan_breakdown"
   ],
   "metadata": {
    "collapsed": false,
    "ExecuteTime": {
     "end_time": "2023-10-30T11:22:54.489349Z",
     "start_time": "2023-10-30T11:22:54.261849Z"
    }
   },
   "id": "99c04e0303a63594"
  },
  {
   "cell_type": "markdown",
   "source": [
    "At this point our dataset should have columns with at most 20-30% nan values. we shall now inpute them using sector median. \n",
    "Let us first try Methodology 1: \n",
    "1. map gvkey to sector\n",
    "2. Eg. if company X in sector A on date 2000-01-01 has a missing value for total income, we inpute it using the median of sector A in 2000-01-01. \n",
    "\n",
    "This assumes that on a particular date, a companies fundamentals can be represented by its sector median on that date. \n",
    "Sector will be represented by SIC code. (I used all 4 digits for now)"
   ],
   "metadata": {
    "collapsed": false
   },
   "id": "684d7f68b48f5cf0"
  },
  {
   "cell_type": "markdown",
   "source": [
    "First let us convert datadate to year and quarter representation"
   ],
   "metadata": {
    "collapsed": false
   },
   "id": "4d48aa8938b7b102"
  },
  {
   "cell_type": "code",
   "execution_count": 41,
   "outputs": [
    {
     "data": {
      "text/plain": "    datadate  gvkey  tic   sic  current_ratio  quick_ratio  cash_ratio  \\\n0 2000-02-29   1004  AIR  5080       2.981531     1.176928   -0.021609   \n1 2000-05-31   1004  AIR  5080       3.120983     1.069792   -0.042786   \n2 2000-08-31   1004  AIR  5080       3.032279     0.989191   -0.003399   \n3 2000-11-30   1004  AIR  5080       2.718261     0.897575    0.009653   \n4 2001-02-28   1004  AIR  5080       3.136912     1.025058   -0.002824   \n\n   net_working_capital  debt_ratio  debt_to_equity_ratio  ...  \\\n0              350.202    0.273288              0.601468  ...   \n1              347.451    0.279030              0.608989  ...   \n2              341.996    0.305692              0.673592  ...   \n3              325.382    0.298354              0.675752  ...   \n4              358.685    0.304446              0.666264  ...   \n\n   price_to_earnings  dividend_payout_ratio  retention_ratio  \\\n0          59.375000               0.212500         0.787500   \n1         154.166667               0.944444         0.055556   \n2          93.750000               0.708333         0.291667   \n3          64.843750               0.531250         0.468750   \n4          68.000000               0.425000         0.575000   \n\n   gross_margin_ratio  operating_profit_margin  ebitda_margin  \\\n0           18.234795               -72.491564     -70.807951   \n1           18.944015               -75.280235     -73.157425   \n2           16.176118               -77.799562     -75.858047   \n3           18.857738               -73.583647     -71.446755   \n4           20.259808               -71.119752     -68.726602   \n\n   debt_service_coverage_ratio  interest_coverage_ratio  year  quarter  \n0                    -0.958372                 4.223950  2000        1  \n1                    -0.819497                 2.287927  2000        2  \n2                    -0.823112                 2.432365  2000        3  \n3                    -0.674333                 2.793634  2000        4  \n4                    -0.619269                 3.174489  2001        1  \n\n[5 rows x 30 columns]",
      "text/html": "<div>\n<style scoped>\n    .dataframe tbody tr th:only-of-type {\n        vertical-align: middle;\n    }\n\n    .dataframe tbody tr th {\n        vertical-align: top;\n    }\n\n    .dataframe thead th {\n        text-align: right;\n    }\n</style>\n<table border=\"1\" class=\"dataframe\">\n  <thead>\n    <tr style=\"text-align: right;\">\n      <th></th>\n      <th>datadate</th>\n      <th>gvkey</th>\n      <th>tic</th>\n      <th>sic</th>\n      <th>current_ratio</th>\n      <th>quick_ratio</th>\n      <th>cash_ratio</th>\n      <th>net_working_capital</th>\n      <th>debt_ratio</th>\n      <th>debt_to_equity_ratio</th>\n      <th>...</th>\n      <th>price_to_earnings</th>\n      <th>dividend_payout_ratio</th>\n      <th>retention_ratio</th>\n      <th>gross_margin_ratio</th>\n      <th>operating_profit_margin</th>\n      <th>ebitda_margin</th>\n      <th>debt_service_coverage_ratio</th>\n      <th>interest_coverage_ratio</th>\n      <th>year</th>\n      <th>quarter</th>\n    </tr>\n  </thead>\n  <tbody>\n    <tr>\n      <th>0</th>\n      <td>2000-02-29</td>\n      <td>1004</td>\n      <td>AIR</td>\n      <td>5080</td>\n      <td>2.981531</td>\n      <td>1.176928</td>\n      <td>-0.021609</td>\n      <td>350.202</td>\n      <td>0.273288</td>\n      <td>0.601468</td>\n      <td>...</td>\n      <td>59.375000</td>\n      <td>0.212500</td>\n      <td>0.787500</td>\n      <td>18.234795</td>\n      <td>-72.491564</td>\n      <td>-70.807951</td>\n      <td>-0.958372</td>\n      <td>4.223950</td>\n      <td>2000</td>\n      <td>1</td>\n    </tr>\n    <tr>\n      <th>1</th>\n      <td>2000-05-31</td>\n      <td>1004</td>\n      <td>AIR</td>\n      <td>5080</td>\n      <td>3.120983</td>\n      <td>1.069792</td>\n      <td>-0.042786</td>\n      <td>347.451</td>\n      <td>0.279030</td>\n      <td>0.608989</td>\n      <td>...</td>\n      <td>154.166667</td>\n      <td>0.944444</td>\n      <td>0.055556</td>\n      <td>18.944015</td>\n      <td>-75.280235</td>\n      <td>-73.157425</td>\n      <td>-0.819497</td>\n      <td>2.287927</td>\n      <td>2000</td>\n      <td>2</td>\n    </tr>\n    <tr>\n      <th>2</th>\n      <td>2000-08-31</td>\n      <td>1004</td>\n      <td>AIR</td>\n      <td>5080</td>\n      <td>3.032279</td>\n      <td>0.989191</td>\n      <td>-0.003399</td>\n      <td>341.996</td>\n      <td>0.305692</td>\n      <td>0.673592</td>\n      <td>...</td>\n      <td>93.750000</td>\n      <td>0.708333</td>\n      <td>0.291667</td>\n      <td>16.176118</td>\n      <td>-77.799562</td>\n      <td>-75.858047</td>\n      <td>-0.823112</td>\n      <td>2.432365</td>\n      <td>2000</td>\n      <td>3</td>\n    </tr>\n    <tr>\n      <th>3</th>\n      <td>2000-11-30</td>\n      <td>1004</td>\n      <td>AIR</td>\n      <td>5080</td>\n      <td>2.718261</td>\n      <td>0.897575</td>\n      <td>0.009653</td>\n      <td>325.382</td>\n      <td>0.298354</td>\n      <td>0.675752</td>\n      <td>...</td>\n      <td>64.843750</td>\n      <td>0.531250</td>\n      <td>0.468750</td>\n      <td>18.857738</td>\n      <td>-73.583647</td>\n      <td>-71.446755</td>\n      <td>-0.674333</td>\n      <td>2.793634</td>\n      <td>2000</td>\n      <td>4</td>\n    </tr>\n    <tr>\n      <th>4</th>\n      <td>2001-02-28</td>\n      <td>1004</td>\n      <td>AIR</td>\n      <td>5080</td>\n      <td>3.136912</td>\n      <td>1.025058</td>\n      <td>-0.002824</td>\n      <td>358.685</td>\n      <td>0.304446</td>\n      <td>0.666264</td>\n      <td>...</td>\n      <td>68.000000</td>\n      <td>0.425000</td>\n      <td>0.575000</td>\n      <td>20.259808</td>\n      <td>-71.119752</td>\n      <td>-68.726602</td>\n      <td>-0.619269</td>\n      <td>3.174489</td>\n      <td>2001</td>\n      <td>1</td>\n    </tr>\n  </tbody>\n</table>\n<p>5 rows × 30 columns</p>\n</div>"
     },
     "execution_count": 41,
     "metadata": {},
     "output_type": "execute_result"
    }
   ],
   "source": [
    "df_with_ratios['datadate'] = pd.to_datetime(df_with_ratios['datadate'])\n",
    "df_with_ratios['year'] = df_with_ratios['datadate'].dt.year\n",
    "df_with_ratios['quarter'] = df_with_ratios['datadate'].dt.quarter\n",
    "df_with_ratios.head()"
   ],
   "metadata": {
    "collapsed": false,
    "ExecuteTime": {
     "end_time": "2023-10-30T11:22:54.620745Z",
     "start_time": "2023-10-30T11:22:54.506350Z"
    }
   },
   "id": "c2bc99e8b9bdbe5b"
  },
  {
   "cell_type": "code",
   "execution_count": 42,
   "outputs": [
    {
     "data": {
      "text/plain": "1402"
     },
     "execution_count": 42,
     "metadata": {},
     "output_type": "execute_result"
    }
   ],
   "source": [
    "df_drop_duplicates = df_with_ratios.drop_duplicates(subset=['gvkey', 'year', 'quarter'])\n",
    "len(df_with_ratios) - len(df_drop_duplicates)"
   ],
   "metadata": {
    "collapsed": false,
    "ExecuteTime": {
     "end_time": "2023-10-30T11:22:54.786356Z",
     "start_time": "2023-10-30T11:22:54.621357Z"
    }
   },
   "id": "a4af01747ab0cb14"
  },
  {
   "cell_type": "markdown",
   "source": [
    "We then drop rows where there are duplicate year, quarters and gvkey, since the original dataset is monthly data. We only drop 1402 rows, so not significant. "
   ],
   "metadata": {
    "collapsed": false
   },
   "id": "a9e34480cfa5749b"
  },
  {
   "cell_type": "code",
   "execution_count": 43,
   "outputs": [],
   "source": [
    "df_with_ratios = df_drop_duplicates"
   ],
   "metadata": {
    "collapsed": false,
    "ExecuteTime": {
     "end_time": "2023-10-30T11:22:54.792801Z",
     "start_time": "2023-10-30T11:22:54.789254Z"
    }
   },
   "id": "7a27562471a30f"
  },
  {
   "cell_type": "markdown",
   "source": [
    "Now we find all the gvkeys where there is no data at all and drop them from our dataframe. From this operation we remove 6813 gvkeys from a total of "
   ],
   "metadata": {
    "collapsed": false
   },
   "id": "70c4ae63b5670604"
  },
  {
   "cell_type": "code",
   "execution_count": 44,
   "outputs": [],
   "source": [
    "df_drop_gvkey = df_with_ratios.drop(['sic',  'tic', 'year', 'quarter', 'datadate'], axis=1)\n",
    "df_drop_gvkey = df_drop_gvkey.groupby('gvkey').apply(lambda group: group.iloc[:, 1:].isna().all().all())\n",
    "to_drop = df_drop_gvkey[df_drop_gvkey == True]\n",
    "gvkeys_to_drop = list(to_drop.index)"
   ],
   "metadata": {
    "collapsed": false,
    "ExecuteTime": {
     "end_time": "2023-10-30T11:23:00.108853Z",
     "start_time": "2023-10-30T11:22:54.791975Z"
    }
   },
   "id": "75eb5948a8ba4adc"
  },
  {
   "cell_type": "code",
   "execution_count": 45,
   "outputs": [
    {
     "name": "stdout",
     "output_type": "stream",
     "text": [
      "Dropped 22.53381394887397% of stocks\n"
     ]
    }
   ],
   "source": [
    "original_number_of_gvkeys = len(df_with_ratios['gvkey'].unique())\n",
    "print(f\"Dropped {len(gvkeys_to_drop) * 100 / original_number_of_gvkeys}% of stocks\")"
   ],
   "metadata": {
    "collapsed": false,
    "ExecuteTime": {
     "end_time": "2023-10-30T11:23:00.116093Z",
     "start_time": "2023-10-30T11:23:00.109335Z"
    }
   },
   "id": "2a34e00a8f2355d1"
  },
  {
   "cell_type": "code",
   "execution_count": 46,
   "outputs": [
    {
     "name": "stdout",
     "output_type": "stream",
     "text": [
      "number of unique gvkeys now: 23425\n",
      "% of total rows lost: 17.750651899282143%\n"
     ]
    }
   ],
   "source": [
    "df_with_ratios_dropped_gvkey = df_with_ratios[~df_with_ratios['gvkey'].isin(gvkeys_to_drop)]\n",
    "print(f\"number of unique gvkeys now: {len(df_with_ratios_dropped_gvkey['gvkey'].unique())}\")\n",
    "print(f\"% of total rows lost: {(len(df_with_ratios) - len(df_with_ratios_dropped_gvkey)) * 100 / len(df_with_ratios)  }%\")"
   ],
   "metadata": {
    "collapsed": false,
    "ExecuteTime": {
     "end_time": "2023-10-30T11:23:00.180861Z",
     "start_time": "2023-10-30T11:23:00.117533Z"
    }
   },
   "id": "3af94cb278776090"
  },
  {
   "cell_type": "code",
   "execution_count": 47,
   "outputs": [
    {
     "data": {
      "text/plain": "                               pct_nan\ndatadate                      0.000000\ngvkey                         0.000000\ntic                           0.027957\nsic                           0.000000\ncurrent_ratio                23.707834\nquick_ratio                  25.075580\ncash_ratio                   25.167941\nnet_working_capital          23.658937\ndebt_ratio                   12.990197\ndebt_to_equity_ratio         13.190650\nequity_ratio                  8.179315\ncashflow_to_debt_ratio       16.698529\nnet_profit_margin            12.821775\nreturn_on_assets              8.272354\nasset_turnover               19.121174\ninventory_turnover           24.318475\ndays_in_inventory            24.318475\nreceivables_turnover         30.411422\nday_sales_outstanding        30.411422\nworking_capital_turnover     27.304564\nprice_to_earnings            14.922065\ndividend_payout_ratio        20.426781\nretention_ratio              20.426781\ngross_margin_ratio           22.593399\noperating_profit_margin      13.677353\nebitda_margin                21.018860\ndebt_service_coverage_ratio  21.023388\ninterest_coverage_ratio      30.498010\nyear                          0.000000\nquarter                       0.000000",
      "text/html": "<div>\n<style scoped>\n    .dataframe tbody tr th:only-of-type {\n        vertical-align: middle;\n    }\n\n    .dataframe tbody tr th {\n        vertical-align: top;\n    }\n\n    .dataframe thead th {\n        text-align: right;\n    }\n</style>\n<table border=\"1\" class=\"dataframe\">\n  <thead>\n    <tr style=\"text-align: right;\">\n      <th></th>\n      <th>pct_nan</th>\n    </tr>\n  </thead>\n  <tbody>\n    <tr>\n      <th>datadate</th>\n      <td>0.000000</td>\n    </tr>\n    <tr>\n      <th>gvkey</th>\n      <td>0.000000</td>\n    </tr>\n    <tr>\n      <th>tic</th>\n      <td>0.027957</td>\n    </tr>\n    <tr>\n      <th>sic</th>\n      <td>0.000000</td>\n    </tr>\n    <tr>\n      <th>current_ratio</th>\n      <td>23.707834</td>\n    </tr>\n    <tr>\n      <th>quick_ratio</th>\n      <td>25.075580</td>\n    </tr>\n    <tr>\n      <th>cash_ratio</th>\n      <td>25.167941</td>\n    </tr>\n    <tr>\n      <th>net_working_capital</th>\n      <td>23.658937</td>\n    </tr>\n    <tr>\n      <th>debt_ratio</th>\n      <td>12.990197</td>\n    </tr>\n    <tr>\n      <th>debt_to_equity_ratio</th>\n      <td>13.190650</td>\n    </tr>\n    <tr>\n      <th>equity_ratio</th>\n      <td>8.179315</td>\n    </tr>\n    <tr>\n      <th>cashflow_to_debt_ratio</th>\n      <td>16.698529</td>\n    </tr>\n    <tr>\n      <th>net_profit_margin</th>\n      <td>12.821775</td>\n    </tr>\n    <tr>\n      <th>return_on_assets</th>\n      <td>8.272354</td>\n    </tr>\n    <tr>\n      <th>asset_turnover</th>\n      <td>19.121174</td>\n    </tr>\n    <tr>\n      <th>inventory_turnover</th>\n      <td>24.318475</td>\n    </tr>\n    <tr>\n      <th>days_in_inventory</th>\n      <td>24.318475</td>\n    </tr>\n    <tr>\n      <th>receivables_turnover</th>\n      <td>30.411422</td>\n    </tr>\n    <tr>\n      <th>day_sales_outstanding</th>\n      <td>30.411422</td>\n    </tr>\n    <tr>\n      <th>working_capital_turnover</th>\n      <td>27.304564</td>\n    </tr>\n    <tr>\n      <th>price_to_earnings</th>\n      <td>14.922065</td>\n    </tr>\n    <tr>\n      <th>dividend_payout_ratio</th>\n      <td>20.426781</td>\n    </tr>\n    <tr>\n      <th>retention_ratio</th>\n      <td>20.426781</td>\n    </tr>\n    <tr>\n      <th>gross_margin_ratio</th>\n      <td>22.593399</td>\n    </tr>\n    <tr>\n      <th>operating_profit_margin</th>\n      <td>13.677353</td>\n    </tr>\n    <tr>\n      <th>ebitda_margin</th>\n      <td>21.018860</td>\n    </tr>\n    <tr>\n      <th>debt_service_coverage_ratio</th>\n      <td>21.023388</td>\n    </tr>\n    <tr>\n      <th>interest_coverage_ratio</th>\n      <td>30.498010</td>\n    </tr>\n    <tr>\n      <th>year</th>\n      <td>0.000000</td>\n    </tr>\n    <tr>\n      <th>quarter</th>\n      <td>0.000000</td>\n    </tr>\n  </tbody>\n</table>\n</div>"
     },
     "execution_count": 47,
     "metadata": {},
     "output_type": "execute_result"
    }
   ],
   "source": [
    "nan_breakdown = pd.DataFrame()\n",
    "nan_breakdown['pct_nan'] = (df_with_ratios_dropped_gvkey.isna().sum() / len(df_with_ratios_dropped_gvkey)) * 100\n",
    "nan_breakdown"
   ],
   "metadata": {
    "collapsed": false,
    "ExecuteTime": {
     "end_time": "2023-10-30T11:23:00.271210Z",
     "start_time": "2023-10-30T11:23:00.180727Z"
    }
   },
   "id": "a33b6449eccab27"
  },
  {
   "cell_type": "markdown",
   "source": [
    "We can also see that the % of nans has decreased significantly across columns after dropping these gvkeys"
   ],
   "metadata": {
    "collapsed": false
   },
   "id": "881427e58132ef4"
  },
  {
   "cell_type": "code",
   "execution_count": 48,
   "outputs": [
    {
     "data": {
      "text/plain": "      datadate  gvkey   tic   sic  current_ratio  quick_ratio  cash_ratio  \\\n156 2000-03-31   1019  AFAP  7380            NaN          NaN         NaN   \n157 2000-06-30   1019  AFAP  7380            NaN          NaN         NaN   \n158 2000-09-30   1019  AFAP  7380            NaN          NaN         NaN   \n159 2000-12-31   1019  AFAP  7380       1.640074     1.550835    0.116883   \n160 2001-03-31   1019  AFAP  7380            NaN          NaN         NaN   \n..         ...    ...   ...   ...            ...          ...         ...   \n235 2019-12-31   1019  AFAP  7380       1.405545     1.159588    0.031515   \n236 2020-03-31   1019  AFAP  7380            NaN          NaN         NaN   \n237 2020-06-30   1019  AFAP  7380            NaN          NaN         NaN   \n238 2020-09-30   1019  AFAP  7380            NaN          NaN         NaN   \n239 2020-12-31   1019  AFAP  7380       1.996918     1.743017    0.268863   \n\n     net_working_capital  debt_ratio  debt_to_equity_ratio  ...  \\\n156                  NaN         NaN                   NaN  ...   \n157                  NaN         NaN                   NaN  ...   \n158                  NaN         NaN                   NaN  ...   \n159                3.450    0.062365              0.135467  ...   \n160                  NaN         NaN                   NaN  ...   \n..                   ...         ...                   ...  ...   \n235                6.846    0.054954              0.157569  ...   \n236                  NaN         NaN                   NaN  ...   \n237                  NaN         NaN                   NaN  ...   \n238                  NaN         NaN                   NaN  ...   \n239               15.525    0.213655              0.643074  ...   \n\n     price_to_earnings  dividend_payout_ratio  retention_ratio  \\\n156          84.745763               0.282486         0.717514   \n157          49.848943               0.151057         0.848943   \n158                NaN                    NaN              NaN   \n159          34.014870               0.092937         0.907063   \n160          75.100402               0.200803         0.799197   \n..                 ...                    ...              ...   \n235          13.225569               0.036738         0.963262   \n236                NaN                    NaN              NaN   \n237                NaN                    NaN              NaN   \n238                NaN                    NaN              NaN   \n239          10.814170               0.031075         0.968925   \n\n     gross_margin_ratio  operating_profit_margin  ebitda_margin  \\\n156                 NaN                      NaN            NaN   \n157                 NaN                      NaN            NaN   \n158                 NaN                      NaN            NaN   \n159          -17.483221              -195.148610    -185.426654   \n160                 NaN                      NaN            NaN   \n..                  ...                      ...            ...   \n235           32.806181               -60.904102     -58.519883   \n236                 NaN                      NaN            NaN   \n237                 NaN                      NaN            NaN   \n238                 NaN                      NaN            NaN   \n239           32.663675               -60.357527     -58.030455   \n\n     debt_service_coverage_ratio  interest_coverage_ratio  year  quarter  \n156                          NaN                      NaN  2000        1  \n157                          NaN                      NaN  2000        2  \n158                          NaN                      NaN  2000        3  \n159                   -22.792833                24.408072  2000        4  \n160                          NaN                      NaN  2001        1  \n..                           ...                      ...   ...      ...  \n235                   -27.607201                44.666667  2019        4  \n236                          NaN                      NaN  2020        1  \n237                          NaN                      NaN  2020        2  \n238                          NaN                      NaN  2020        3  \n239                    -5.757153                52.935780  2020        4  \n\n[84 rows x 30 columns]",
      "text/html": "<div>\n<style scoped>\n    .dataframe tbody tr th:only-of-type {\n        vertical-align: middle;\n    }\n\n    .dataframe tbody tr th {\n        vertical-align: top;\n    }\n\n    .dataframe thead th {\n        text-align: right;\n    }\n</style>\n<table border=\"1\" class=\"dataframe\">\n  <thead>\n    <tr style=\"text-align: right;\">\n      <th></th>\n      <th>datadate</th>\n      <th>gvkey</th>\n      <th>tic</th>\n      <th>sic</th>\n      <th>current_ratio</th>\n      <th>quick_ratio</th>\n      <th>cash_ratio</th>\n      <th>net_working_capital</th>\n      <th>debt_ratio</th>\n      <th>debt_to_equity_ratio</th>\n      <th>...</th>\n      <th>price_to_earnings</th>\n      <th>dividend_payout_ratio</th>\n      <th>retention_ratio</th>\n      <th>gross_margin_ratio</th>\n      <th>operating_profit_margin</th>\n      <th>ebitda_margin</th>\n      <th>debt_service_coverage_ratio</th>\n      <th>interest_coverage_ratio</th>\n      <th>year</th>\n      <th>quarter</th>\n    </tr>\n  </thead>\n  <tbody>\n    <tr>\n      <th>156</th>\n      <td>2000-03-31</td>\n      <td>1019</td>\n      <td>AFAP</td>\n      <td>7380</td>\n      <td>NaN</td>\n      <td>NaN</td>\n      <td>NaN</td>\n      <td>NaN</td>\n      <td>NaN</td>\n      <td>NaN</td>\n      <td>...</td>\n      <td>84.745763</td>\n      <td>0.282486</td>\n      <td>0.717514</td>\n      <td>NaN</td>\n      <td>NaN</td>\n      <td>NaN</td>\n      <td>NaN</td>\n      <td>NaN</td>\n      <td>2000</td>\n      <td>1</td>\n    </tr>\n    <tr>\n      <th>157</th>\n      <td>2000-06-30</td>\n      <td>1019</td>\n      <td>AFAP</td>\n      <td>7380</td>\n      <td>NaN</td>\n      <td>NaN</td>\n      <td>NaN</td>\n      <td>NaN</td>\n      <td>NaN</td>\n      <td>NaN</td>\n      <td>...</td>\n      <td>49.848943</td>\n      <td>0.151057</td>\n      <td>0.848943</td>\n      <td>NaN</td>\n      <td>NaN</td>\n      <td>NaN</td>\n      <td>NaN</td>\n      <td>NaN</td>\n      <td>2000</td>\n      <td>2</td>\n    </tr>\n    <tr>\n      <th>158</th>\n      <td>2000-09-30</td>\n      <td>1019</td>\n      <td>AFAP</td>\n      <td>7380</td>\n      <td>NaN</td>\n      <td>NaN</td>\n      <td>NaN</td>\n      <td>NaN</td>\n      <td>NaN</td>\n      <td>NaN</td>\n      <td>...</td>\n      <td>NaN</td>\n      <td>NaN</td>\n      <td>NaN</td>\n      <td>NaN</td>\n      <td>NaN</td>\n      <td>NaN</td>\n      <td>NaN</td>\n      <td>NaN</td>\n      <td>2000</td>\n      <td>3</td>\n    </tr>\n    <tr>\n      <th>159</th>\n      <td>2000-12-31</td>\n      <td>1019</td>\n      <td>AFAP</td>\n      <td>7380</td>\n      <td>1.640074</td>\n      <td>1.550835</td>\n      <td>0.116883</td>\n      <td>3.450</td>\n      <td>0.062365</td>\n      <td>0.135467</td>\n      <td>...</td>\n      <td>34.014870</td>\n      <td>0.092937</td>\n      <td>0.907063</td>\n      <td>-17.483221</td>\n      <td>-195.148610</td>\n      <td>-185.426654</td>\n      <td>-22.792833</td>\n      <td>24.408072</td>\n      <td>2000</td>\n      <td>4</td>\n    </tr>\n    <tr>\n      <th>160</th>\n      <td>2001-03-31</td>\n      <td>1019</td>\n      <td>AFAP</td>\n      <td>7380</td>\n      <td>NaN</td>\n      <td>NaN</td>\n      <td>NaN</td>\n      <td>NaN</td>\n      <td>NaN</td>\n      <td>NaN</td>\n      <td>...</td>\n      <td>75.100402</td>\n      <td>0.200803</td>\n      <td>0.799197</td>\n      <td>NaN</td>\n      <td>NaN</td>\n      <td>NaN</td>\n      <td>NaN</td>\n      <td>NaN</td>\n      <td>2001</td>\n      <td>1</td>\n    </tr>\n    <tr>\n      <th>...</th>\n      <td>...</td>\n      <td>...</td>\n      <td>...</td>\n      <td>...</td>\n      <td>...</td>\n      <td>...</td>\n      <td>...</td>\n      <td>...</td>\n      <td>...</td>\n      <td>...</td>\n      <td>...</td>\n      <td>...</td>\n      <td>...</td>\n      <td>...</td>\n      <td>...</td>\n      <td>...</td>\n      <td>...</td>\n      <td>...</td>\n      <td>...</td>\n      <td>...</td>\n      <td>...</td>\n    </tr>\n    <tr>\n      <th>235</th>\n      <td>2019-12-31</td>\n      <td>1019</td>\n      <td>AFAP</td>\n      <td>7380</td>\n      <td>1.405545</td>\n      <td>1.159588</td>\n      <td>0.031515</td>\n      <td>6.846</td>\n      <td>0.054954</td>\n      <td>0.157569</td>\n      <td>...</td>\n      <td>13.225569</td>\n      <td>0.036738</td>\n      <td>0.963262</td>\n      <td>32.806181</td>\n      <td>-60.904102</td>\n      <td>-58.519883</td>\n      <td>-27.607201</td>\n      <td>44.666667</td>\n      <td>2019</td>\n      <td>4</td>\n    </tr>\n    <tr>\n      <th>236</th>\n      <td>2020-03-31</td>\n      <td>1019</td>\n      <td>AFAP</td>\n      <td>7380</td>\n      <td>NaN</td>\n      <td>NaN</td>\n      <td>NaN</td>\n      <td>NaN</td>\n      <td>NaN</td>\n      <td>NaN</td>\n      <td>...</td>\n      <td>NaN</td>\n      <td>NaN</td>\n      <td>NaN</td>\n      <td>NaN</td>\n      <td>NaN</td>\n      <td>NaN</td>\n      <td>NaN</td>\n      <td>NaN</td>\n      <td>2020</td>\n      <td>1</td>\n    </tr>\n    <tr>\n      <th>237</th>\n      <td>2020-06-30</td>\n      <td>1019</td>\n      <td>AFAP</td>\n      <td>7380</td>\n      <td>NaN</td>\n      <td>NaN</td>\n      <td>NaN</td>\n      <td>NaN</td>\n      <td>NaN</td>\n      <td>NaN</td>\n      <td>...</td>\n      <td>NaN</td>\n      <td>NaN</td>\n      <td>NaN</td>\n      <td>NaN</td>\n      <td>NaN</td>\n      <td>NaN</td>\n      <td>NaN</td>\n      <td>NaN</td>\n      <td>2020</td>\n      <td>2</td>\n    </tr>\n    <tr>\n      <th>238</th>\n      <td>2020-09-30</td>\n      <td>1019</td>\n      <td>AFAP</td>\n      <td>7380</td>\n      <td>NaN</td>\n      <td>NaN</td>\n      <td>NaN</td>\n      <td>NaN</td>\n      <td>NaN</td>\n      <td>NaN</td>\n      <td>...</td>\n      <td>NaN</td>\n      <td>NaN</td>\n      <td>NaN</td>\n      <td>NaN</td>\n      <td>NaN</td>\n      <td>NaN</td>\n      <td>NaN</td>\n      <td>NaN</td>\n      <td>2020</td>\n      <td>3</td>\n    </tr>\n    <tr>\n      <th>239</th>\n      <td>2020-12-31</td>\n      <td>1019</td>\n      <td>AFAP</td>\n      <td>7380</td>\n      <td>1.996918</td>\n      <td>1.743017</td>\n      <td>0.268863</td>\n      <td>15.525</td>\n      <td>0.213655</td>\n      <td>0.643074</td>\n      <td>...</td>\n      <td>10.814170</td>\n      <td>0.031075</td>\n      <td>0.968925</td>\n      <td>32.663675</td>\n      <td>-60.357527</td>\n      <td>-58.030455</td>\n      <td>-5.757153</td>\n      <td>52.935780</td>\n      <td>2020</td>\n      <td>4</td>\n    </tr>\n  </tbody>\n</table>\n<p>84 rows × 30 columns</p>\n</div>"
     },
     "execution_count": 48,
     "metadata": {},
     "output_type": "execute_result"
    }
   ],
   "source": [
    "test = df_with_ratios_dropped_gvkey\n",
    "test = test[test.isna().any(axis=1)]\n",
    "test[test['tic'] == 'AFAP']"
   ],
   "metadata": {
    "collapsed": false,
    "ExecuteTime": {
     "end_time": "2023-10-30T11:23:00.419868Z",
     "start_time": "2023-10-30T11:23:00.271008Z"
    }
   },
   "id": "c8aeffe5a75e257e"
  },
  {
   "cell_type": "markdown",
   "source": [
    "Here we can see that there are still certain stocks where there is data, but many missing values. for example for ticker AFAP, we have data missing from 2003-2016. Such tickers should be dropped as well"
   ],
   "metadata": {
    "collapsed": false
   },
   "id": "5ca1578e1294e6da"
  },
  {
   "cell_type": "code",
   "execution_count": 49,
   "outputs": [],
   "source": [
    "cols_df = df_with_ratios_dropped_gvkey.drop(['gvkey', 'sic',  'tic', 'year', 'quarter', 'datadate'], axis=1)\n",
    "all_na_rows = cols_df[cols_df.isna().all(axis=1)]\n",
    "df_with_nans = df_with_ratios_dropped_gvkey.loc[all_na_rows.index]\n",
    "df_with_nans_counts = df_with_nans.groupby('gvkey').size()\n",
    "gvkey_with_bad_data = df_with_nans_counts[df_with_nans_counts > 10]"
   ],
   "metadata": {
    "collapsed": false,
    "ExecuteTime": {
     "end_time": "2023-10-30T11:23:00.487823Z",
     "start_time": "2023-10-30T11:23:00.435283Z"
    }
   },
   "id": "bdda00a640318e15"
  },
  {
   "cell_type": "code",
   "execution_count": 50,
   "outputs": [
    {
     "name": "stdout",
     "output_type": "stream",
     "text": [
      "23425\n",
      "2.992529348986126\n"
     ]
    }
   ],
   "source": [
    "print(len(df_with_ratios_dropped_gvkey['gvkey'].unique()))\n",
    "print(100*len(gvkey_with_bad_data) / len(df_with_ratios_dropped_gvkey['gvkey'].unique()))"
   ],
   "metadata": {
    "collapsed": false,
    "ExecuteTime": {
     "end_time": "2023-10-30T11:23:00.506071Z",
     "start_time": "2023-10-30T11:23:00.486083Z"
    }
   },
   "id": "ea4aaa1ffcc6feb5"
  },
  {
   "cell_type": "markdown",
   "source": [
    "We can decide here the threshold for which we want to drop our gvkeys. How many nan rows can we allow a gvkey to have? For now i set the value at less than 10. This causes us to drop 671 gvkeys, or 2.86% of gvkeys. "
   ],
   "metadata": {
    "collapsed": false
   },
   "id": "8a765a57c64abf89"
  },
  {
   "cell_type": "code",
   "execution_count": 51,
   "outputs": [
    {
     "data": {
      "text/plain": "843144"
     },
     "execution_count": 51,
     "metadata": {},
     "output_type": "execute_result"
    }
   ],
   "source": [
    "df_with_ratios_dropped_gvkey_v2 = df_with_ratios_dropped_gvkey[~df_with_ratios_dropped_gvkey['gvkey'].isin(gvkey_with_bad_data.index)]\n",
    "len(df_with_ratios_dropped_gvkey_v2)"
   ],
   "metadata": {
    "collapsed": false,
    "ExecuteTime": {
     "end_time": "2023-10-30T11:23:00.556819Z",
     "start_time": "2023-10-30T11:23:00.497082Z"
    }
   },
   "id": "30c1a593eec8c4bb"
  },
  {
   "cell_type": "code",
   "execution_count": 52,
   "outputs": [
    {
     "name": "stdout",
     "output_type": "stream",
     "text": [
      "% of total rows lost: 21.50732333552728%\n"
     ]
    }
   ],
   "source": [
    "print(f\"% of total rows lost: {(len(df_with_ratios) - len(df_with_ratios_dropped_gvkey_v2)) * 100 / len(df_with_ratios)  }%\")"
   ],
   "metadata": {
    "collapsed": false,
    "ExecuteTime": {
     "end_time": "2023-10-30T11:23:00.558990Z",
     "start_time": "2023-10-30T11:23:00.556238Z"
    }
   },
   "id": "63884745d1714c8f"
  },
  {
   "cell_type": "code",
   "execution_count": 53,
   "outputs": [
    {
     "data": {
      "text/plain": "                               pct_nan\ndatadate                      0.000000\ngvkey                         0.000000\ntic                           0.022995\nsic                           0.000000\ncurrent_ratio                17.390932\nquick_ratio                  18.483870\ncash_ratio                   18.525577\nnet_working_capital          17.353787\ndebt_ratio                    8.907723\ndebt_to_equity_ratio          9.064216\nequity_ratio                  5.069780\ncashflow_to_debt_ratio       11.808663\nnet_profit_margin             8.826637\nreturn_on_assets              5.143232\nasset_turnover               13.043478\ninventory_turnover           17.216937\ndays_in_inventory            17.216937\nreceivables_turnover         22.149494\nday_sales_outstanding        22.149494\nworking_capital_turnover     19.646257\nprice_to_earnings            10.492669\ndividend_payout_ratio        14.885460\nretention_ratio              14.885460\ngross_margin_ratio           16.633695\noperating_profit_margin       9.491337\nebitda_margin                15.245366\ndebt_service_coverage_ratio  15.316584\ninterest_coverage_ratio      22.883829\nyear                          0.000000\nquarter                       0.000000",
      "text/html": "<div>\n<style scoped>\n    .dataframe tbody tr th:only-of-type {\n        vertical-align: middle;\n    }\n\n    .dataframe tbody tr th {\n        vertical-align: top;\n    }\n\n    .dataframe thead th {\n        text-align: right;\n    }\n</style>\n<table border=\"1\" class=\"dataframe\">\n  <thead>\n    <tr style=\"text-align: right;\">\n      <th></th>\n      <th>pct_nan</th>\n    </tr>\n  </thead>\n  <tbody>\n    <tr>\n      <th>datadate</th>\n      <td>0.000000</td>\n    </tr>\n    <tr>\n      <th>gvkey</th>\n      <td>0.000000</td>\n    </tr>\n    <tr>\n      <th>tic</th>\n      <td>0.022995</td>\n    </tr>\n    <tr>\n      <th>sic</th>\n      <td>0.000000</td>\n    </tr>\n    <tr>\n      <th>current_ratio</th>\n      <td>17.390932</td>\n    </tr>\n    <tr>\n      <th>quick_ratio</th>\n      <td>18.483870</td>\n    </tr>\n    <tr>\n      <th>cash_ratio</th>\n      <td>18.525577</td>\n    </tr>\n    <tr>\n      <th>net_working_capital</th>\n      <td>17.353787</td>\n    </tr>\n    <tr>\n      <th>debt_ratio</th>\n      <td>8.907723</td>\n    </tr>\n    <tr>\n      <th>debt_to_equity_ratio</th>\n      <td>9.064216</td>\n    </tr>\n    <tr>\n      <th>equity_ratio</th>\n      <td>5.069780</td>\n    </tr>\n    <tr>\n      <th>cashflow_to_debt_ratio</th>\n      <td>11.808663</td>\n    </tr>\n    <tr>\n      <th>net_profit_margin</th>\n      <td>8.826637</td>\n    </tr>\n    <tr>\n      <th>return_on_assets</th>\n      <td>5.143232</td>\n    </tr>\n    <tr>\n      <th>asset_turnover</th>\n      <td>13.043478</td>\n    </tr>\n    <tr>\n      <th>inventory_turnover</th>\n      <td>17.216937</td>\n    </tr>\n    <tr>\n      <th>days_in_inventory</th>\n      <td>17.216937</td>\n    </tr>\n    <tr>\n      <th>receivables_turnover</th>\n      <td>22.149494</td>\n    </tr>\n    <tr>\n      <th>day_sales_outstanding</th>\n      <td>22.149494</td>\n    </tr>\n    <tr>\n      <th>working_capital_turnover</th>\n      <td>19.646257</td>\n    </tr>\n    <tr>\n      <th>price_to_earnings</th>\n      <td>10.492669</td>\n    </tr>\n    <tr>\n      <th>dividend_payout_ratio</th>\n      <td>14.885460</td>\n    </tr>\n    <tr>\n      <th>retention_ratio</th>\n      <td>14.885460</td>\n    </tr>\n    <tr>\n      <th>gross_margin_ratio</th>\n      <td>16.633695</td>\n    </tr>\n    <tr>\n      <th>operating_profit_margin</th>\n      <td>9.491337</td>\n    </tr>\n    <tr>\n      <th>ebitda_margin</th>\n      <td>15.245366</td>\n    </tr>\n    <tr>\n      <th>debt_service_coverage_ratio</th>\n      <td>15.316584</td>\n    </tr>\n    <tr>\n      <th>interest_coverage_ratio</th>\n      <td>22.883829</td>\n    </tr>\n    <tr>\n      <th>year</th>\n      <td>0.000000</td>\n    </tr>\n    <tr>\n      <th>quarter</th>\n      <td>0.000000</td>\n    </tr>\n  </tbody>\n</table>\n</div>"
     },
     "execution_count": 53,
     "metadata": {},
     "output_type": "execute_result"
    }
   ],
   "source": [
    "nan_breakdown = pd.DataFrame()\n",
    "nan_breakdown['pct_nan'] = (df_with_ratios_dropped_gvkey_v2.isna().sum() / len(df_with_ratios)) * 100\n",
    "nan_breakdown"
   ],
   "metadata": {
    "collapsed": false,
    "ExecuteTime": {
     "end_time": "2023-10-30T11:23:00.657368Z",
     "start_time": "2023-10-30T11:23:00.569610Z"
    }
   },
   "id": "f206955cbff215cc"
  },
  {
   "cell_type": "markdown",
   "source": [
    "Our % of rows dropped increased from 17% to 21%. We can reduce this perentage by increasing the tolerance of how many nan rows a stock can have. This is balancing data quantity vs quality. "
   ],
   "metadata": {
    "collapsed": false
   },
   "id": "21561e5f9e734a26"
  },
  {
   "cell_type": "code",
   "execution_count": 54,
   "outputs": [
    {
     "data": {
      "text/plain": "                               pct_inf\ndatadate                      0.000000\ngvkey                         0.000000\ntic                           0.000000\nsic                           0.000000\ncurrent_ratio                 0.082430\nquick_ratio                   0.082311\ncash_ratio                    0.071874\nnet_working_capital           0.000000\ndebt_ratio                    0.182531\ndebt_to_equity_ratio          0.011742\nequity_ratio                  0.335293\ncashflow_to_debt_ratio       15.462602\nnet_profit_margin            11.375518\nreturn_on_assets              0.320230\nasset_turnover                0.013402\ninventory_turnover           23.817047\ndays_in_inventory             0.050644\nreceivables_turnover         22.074640\nday_sales_outstanding         0.899016\nworking_capital_turnover      0.009726\nprice_to_earnings             7.021932\ndividend_payout_ratio         0.169841\nretention_ratio               0.169841\ngross_margin_ratio            1.872041\noperating_profit_margin      11.136769\nebitda_margin                10.687380\ndebt_service_coverage_ratio  15.730409\ninterest_coverage_ratio      12.264572\nyear                          0.000000\nquarter                       0.000000",
      "text/html": "<div>\n<style scoped>\n    .dataframe tbody tr th:only-of-type {\n        vertical-align: middle;\n    }\n\n    .dataframe tbody tr th {\n        vertical-align: top;\n    }\n\n    .dataframe thead th {\n        text-align: right;\n    }\n</style>\n<table border=\"1\" class=\"dataframe\">\n  <thead>\n    <tr style=\"text-align: right;\">\n      <th></th>\n      <th>pct_inf</th>\n    </tr>\n  </thead>\n  <tbody>\n    <tr>\n      <th>datadate</th>\n      <td>0.000000</td>\n    </tr>\n    <tr>\n      <th>gvkey</th>\n      <td>0.000000</td>\n    </tr>\n    <tr>\n      <th>tic</th>\n      <td>0.000000</td>\n    </tr>\n    <tr>\n      <th>sic</th>\n      <td>0.000000</td>\n    </tr>\n    <tr>\n      <th>current_ratio</th>\n      <td>0.082430</td>\n    </tr>\n    <tr>\n      <th>quick_ratio</th>\n      <td>0.082311</td>\n    </tr>\n    <tr>\n      <th>cash_ratio</th>\n      <td>0.071874</td>\n    </tr>\n    <tr>\n      <th>net_working_capital</th>\n      <td>0.000000</td>\n    </tr>\n    <tr>\n      <th>debt_ratio</th>\n      <td>0.182531</td>\n    </tr>\n    <tr>\n      <th>debt_to_equity_ratio</th>\n      <td>0.011742</td>\n    </tr>\n    <tr>\n      <th>equity_ratio</th>\n      <td>0.335293</td>\n    </tr>\n    <tr>\n      <th>cashflow_to_debt_ratio</th>\n      <td>15.462602</td>\n    </tr>\n    <tr>\n      <th>net_profit_margin</th>\n      <td>11.375518</td>\n    </tr>\n    <tr>\n      <th>return_on_assets</th>\n      <td>0.320230</td>\n    </tr>\n    <tr>\n      <th>asset_turnover</th>\n      <td>0.013402</td>\n    </tr>\n    <tr>\n      <th>inventory_turnover</th>\n      <td>23.817047</td>\n    </tr>\n    <tr>\n      <th>days_in_inventory</th>\n      <td>0.050644</td>\n    </tr>\n    <tr>\n      <th>receivables_turnover</th>\n      <td>22.074640</td>\n    </tr>\n    <tr>\n      <th>day_sales_outstanding</th>\n      <td>0.899016</td>\n    </tr>\n    <tr>\n      <th>working_capital_turnover</th>\n      <td>0.009726</td>\n    </tr>\n    <tr>\n      <th>price_to_earnings</th>\n      <td>7.021932</td>\n    </tr>\n    <tr>\n      <th>dividend_payout_ratio</th>\n      <td>0.169841</td>\n    </tr>\n    <tr>\n      <th>retention_ratio</th>\n      <td>0.169841</td>\n    </tr>\n    <tr>\n      <th>gross_margin_ratio</th>\n      <td>1.872041</td>\n    </tr>\n    <tr>\n      <th>operating_profit_margin</th>\n      <td>11.136769</td>\n    </tr>\n    <tr>\n      <th>ebitda_margin</th>\n      <td>10.687380</td>\n    </tr>\n    <tr>\n      <th>debt_service_coverage_ratio</th>\n      <td>15.730409</td>\n    </tr>\n    <tr>\n      <th>interest_coverage_ratio</th>\n      <td>12.264572</td>\n    </tr>\n    <tr>\n      <th>year</th>\n      <td>0.000000</td>\n    </tr>\n    <tr>\n      <th>quarter</th>\n      <td>0.000000</td>\n    </tr>\n  </tbody>\n</table>\n</div>"
     },
     "execution_count": 54,
     "metadata": {},
     "output_type": "execute_result"
    }
   ],
   "source": [
    "# dealing with inf value\n",
    "inf_breakdown = pd.DataFrame()\n",
    "inf_breakdown['pct_inf'] = (100 * df_with_ratios_dropped_gvkey_v2.isin([float('inf'), float('-inf')]).sum()) / len(df_with_ratios_dropped_gvkey_v2)\n",
    "inf_breakdown"
   ],
   "metadata": {
    "collapsed": false,
    "ExecuteTime": {
     "end_time": "2023-10-30T11:23:02.600406Z",
     "start_time": "2023-10-30T11:23:00.718067Z"
    }
   },
   "id": "35b58ced90195a57"
  },
  {
   "cell_type": "code",
   "execution_count": 135,
   "outputs": [],
   "source": [
    "df_with_ratios_dropped_gvkey_v2['cashflow_to_debt_ratio'].quantile(0.1)"
   ],
   "metadata": {
    "collapsed": false,
    "ExecuteTime": {
     "end_time": "2023-10-30T12:13:52.812894Z",
     "start_time": "2023-10-30T12:12:51.523411Z"
    }
   },
   "id": "2f09bf5e8412e60b"
  },
  {
   "cell_type": "code",
   "execution_count": 137,
   "outputs": [
    {
     "data": {
      "text/plain": "                             pct_inf\ncurrent_ratio                    0.0\nquick_ratio                      0.0\ncash_ratio                       0.0\nnet_working_capital              0.0\ndebt_ratio                       0.0\ndebt_to_equity_ratio             0.0\nequity_ratio                     0.0\ncashflow_to_debt_ratio           0.0\nnet_profit_margin                0.0\nreturn_on_assets                 0.0\nasset_turnover                   0.0\ninventory_turnover               0.0\ndays_in_inventory                0.0\nreceivables_turnover             0.0\nday_sales_outstanding            0.0\nworking_capital_turnover         0.0\nprice_to_earnings                0.0\ndividend_payout_ratio            0.0\nretention_ratio                  0.0\ngross_margin_ratio               0.0\noperating_profit_margin          0.0\nebitda_margin                    0.0\ndebt_service_coverage_ratio      0.0\ninterest_coverage_ratio          0.0",
      "text/html": "<div>\n<style scoped>\n    .dataframe tbody tr th:only-of-type {\n        vertical-align: middle;\n    }\n\n    .dataframe tbody tr th {\n        vertical-align: top;\n    }\n\n    .dataframe thead th {\n        text-align: right;\n    }\n</style>\n<table border=\"1\" class=\"dataframe\">\n  <thead>\n    <tr style=\"text-align: right;\">\n      <th></th>\n      <th>pct_inf</th>\n    </tr>\n  </thead>\n  <tbody>\n    <tr>\n      <th>current_ratio</th>\n      <td>0.0</td>\n    </tr>\n    <tr>\n      <th>quick_ratio</th>\n      <td>0.0</td>\n    </tr>\n    <tr>\n      <th>cash_ratio</th>\n      <td>0.0</td>\n    </tr>\n    <tr>\n      <th>net_working_capital</th>\n      <td>0.0</td>\n    </tr>\n    <tr>\n      <th>debt_ratio</th>\n      <td>0.0</td>\n    </tr>\n    <tr>\n      <th>debt_to_equity_ratio</th>\n      <td>0.0</td>\n    </tr>\n    <tr>\n      <th>equity_ratio</th>\n      <td>0.0</td>\n    </tr>\n    <tr>\n      <th>cashflow_to_debt_ratio</th>\n      <td>0.0</td>\n    </tr>\n    <tr>\n      <th>net_profit_margin</th>\n      <td>0.0</td>\n    </tr>\n    <tr>\n      <th>return_on_assets</th>\n      <td>0.0</td>\n    </tr>\n    <tr>\n      <th>asset_turnover</th>\n      <td>0.0</td>\n    </tr>\n    <tr>\n      <th>inventory_turnover</th>\n      <td>0.0</td>\n    </tr>\n    <tr>\n      <th>days_in_inventory</th>\n      <td>0.0</td>\n    </tr>\n    <tr>\n      <th>receivables_turnover</th>\n      <td>0.0</td>\n    </tr>\n    <tr>\n      <th>day_sales_outstanding</th>\n      <td>0.0</td>\n    </tr>\n    <tr>\n      <th>working_capital_turnover</th>\n      <td>0.0</td>\n    </tr>\n    <tr>\n      <th>price_to_earnings</th>\n      <td>0.0</td>\n    </tr>\n    <tr>\n      <th>dividend_payout_ratio</th>\n      <td>0.0</td>\n    </tr>\n    <tr>\n      <th>retention_ratio</th>\n      <td>0.0</td>\n    </tr>\n    <tr>\n      <th>gross_margin_ratio</th>\n      <td>0.0</td>\n    </tr>\n    <tr>\n      <th>operating_profit_margin</th>\n      <td>0.0</td>\n    </tr>\n    <tr>\n      <th>ebitda_margin</th>\n      <td>0.0</td>\n    </tr>\n    <tr>\n      <th>debt_service_coverage_ratio</th>\n      <td>0.0</td>\n    </tr>\n    <tr>\n      <th>interest_coverage_ratio</th>\n      <td>0.0</td>\n    </tr>\n  </tbody>\n</table>\n</div>"
     },
     "execution_count": 137,
     "metadata": {},
     "output_type": "execute_result"
    }
   ],
   "source": [
    "sector_date_median = df_with_ratios_dropped_gvkey_v2.groupby(['sic', 'year', 'quarter']).median()\n",
    "sector_date_median"
   ],
   "metadata": {
    "collapsed": false,
    "ExecuteTime": {
     "end_time": "2023-10-30T12:14:56.626930Z",
     "start_time": "2023-10-30T12:14:56.451989Z"
    }
   },
   "id": "60e9cfeb22f9a10b"
  },
  {
   "cell_type": "code",
   "execution_count": 140,
   "outputs": [],
   "source": [
    "cols_to_check = [col for col in df_with_ratios_dropped_gvkey_v2.columns if col not in ['datadate', 'year', 'quarter', 'sic', 'gvkey', 'tic']]\n",
    "cols_to_check"
   ],
   "metadata": {
    "collapsed": false,
    "ExecuteTime": {
     "end_time": "2023-10-30T12:16:55.408295Z",
     "start_time": "2023-10-30T12:16:55.384014Z"
    }
   },
   "id": "1b8254cad68aa301"
  },
  {
   "cell_type": "code",
   "execution_count": 142,
   "outputs": [
    {
     "data": {
      "text/plain": "   current_ratio  quick_ratio  cash_ratio  net_working_capital  debt_ratio  \\\n0       2.981531     1.176928   -0.021609              350.202    0.273288   \n1       3.120983     1.069792   -0.042786              347.451    0.279030   \n2       3.032279     0.989191   -0.003399              341.996    0.305692   \n3       2.718261     0.897575    0.009653              325.382    0.298354   \n4       3.136912     1.025058   -0.002824              358.685    0.304446   \n\n   debt_to_equity_ratio  equity_ratio  cashflow_to_debt_ratio  \\\n0              0.601468      0.454368                0.027511   \n1              0.608989      0.458186                0.048612   \n2              0.673592      0.453824               -0.033884   \n3              0.675752      0.441514                0.044014   \n4              0.666264      0.456946                0.008334   \n\n   net_profit_margin  return_on_assets  ...  operating_profit_margin  \\\n0           4.022678          1.453390  ...               -72.491564   \n1           1.097837          0.333469  ...               -75.280235   \n2           1.306614          0.422584  ...               -77.799562   \n3           2.024274          0.553470  ...               -73.583647   \n4           2.693044          0.713909  ...               -71.119752   \n\n   ebitda_margin  debt_service_coverage_ratio  interest_coverage_ratio  gvkey  \\\n0     -70.807951                    -0.958372                 4.223950   1004   \n1     -73.157425                    -0.819497                 2.287927   1004   \n2     -75.858047                    -0.823112                 2.432365   1004   \n3     -71.446755                    -0.674333                 2.793634   1004   \n4     -68.726602                    -0.619269                 3.174489   1004   \n\n    sic  tic  year  quarter   datadate  \n0  5080  AIR  2000        1 2000-02-29  \n1  5080  AIR  2000        2 2000-05-31  \n2  5080  AIR  2000        3 2000-08-31  \n3  5080  AIR  2000        4 2000-11-30  \n4  5080  AIR  2001        1 2001-02-28  \n\n[5 rows x 30 columns]",
      "text/html": "<div>\n<style scoped>\n    .dataframe tbody tr th:only-of-type {\n        vertical-align: middle;\n    }\n\n    .dataframe tbody tr th {\n        vertical-align: top;\n    }\n\n    .dataframe thead th {\n        text-align: right;\n    }\n</style>\n<table border=\"1\" class=\"dataframe\">\n  <thead>\n    <tr style=\"text-align: right;\">\n      <th></th>\n      <th>current_ratio</th>\n      <th>quick_ratio</th>\n      <th>cash_ratio</th>\n      <th>net_working_capital</th>\n      <th>debt_ratio</th>\n      <th>debt_to_equity_ratio</th>\n      <th>equity_ratio</th>\n      <th>cashflow_to_debt_ratio</th>\n      <th>net_profit_margin</th>\n      <th>return_on_assets</th>\n      <th>...</th>\n      <th>operating_profit_margin</th>\n      <th>ebitda_margin</th>\n      <th>debt_service_coverage_ratio</th>\n      <th>interest_coverage_ratio</th>\n      <th>gvkey</th>\n      <th>sic</th>\n      <th>tic</th>\n      <th>year</th>\n      <th>quarter</th>\n      <th>datadate</th>\n    </tr>\n  </thead>\n  <tbody>\n    <tr>\n      <th>0</th>\n      <td>2.981531</td>\n      <td>1.176928</td>\n      <td>-0.021609</td>\n      <td>350.202</td>\n      <td>0.273288</td>\n      <td>0.601468</td>\n      <td>0.454368</td>\n      <td>0.027511</td>\n      <td>4.022678</td>\n      <td>1.453390</td>\n      <td>...</td>\n      <td>-72.491564</td>\n      <td>-70.807951</td>\n      <td>-0.958372</td>\n      <td>4.223950</td>\n      <td>1004</td>\n      <td>5080</td>\n      <td>AIR</td>\n      <td>2000</td>\n      <td>1</td>\n      <td>2000-02-29</td>\n    </tr>\n    <tr>\n      <th>1</th>\n      <td>3.120983</td>\n      <td>1.069792</td>\n      <td>-0.042786</td>\n      <td>347.451</td>\n      <td>0.279030</td>\n      <td>0.608989</td>\n      <td>0.458186</td>\n      <td>0.048612</td>\n      <td>1.097837</td>\n      <td>0.333469</td>\n      <td>...</td>\n      <td>-75.280235</td>\n      <td>-73.157425</td>\n      <td>-0.819497</td>\n      <td>2.287927</td>\n      <td>1004</td>\n      <td>5080</td>\n      <td>AIR</td>\n      <td>2000</td>\n      <td>2</td>\n      <td>2000-05-31</td>\n    </tr>\n    <tr>\n      <th>2</th>\n      <td>3.032279</td>\n      <td>0.989191</td>\n      <td>-0.003399</td>\n      <td>341.996</td>\n      <td>0.305692</td>\n      <td>0.673592</td>\n      <td>0.453824</td>\n      <td>-0.033884</td>\n      <td>1.306614</td>\n      <td>0.422584</td>\n      <td>...</td>\n      <td>-77.799562</td>\n      <td>-75.858047</td>\n      <td>-0.823112</td>\n      <td>2.432365</td>\n      <td>1004</td>\n      <td>5080</td>\n      <td>AIR</td>\n      <td>2000</td>\n      <td>3</td>\n      <td>2000-08-31</td>\n    </tr>\n    <tr>\n      <th>3</th>\n      <td>2.718261</td>\n      <td>0.897575</td>\n      <td>0.009653</td>\n      <td>325.382</td>\n      <td>0.298354</td>\n      <td>0.675752</td>\n      <td>0.441514</td>\n      <td>0.044014</td>\n      <td>2.024274</td>\n      <td>0.553470</td>\n      <td>...</td>\n      <td>-73.583647</td>\n      <td>-71.446755</td>\n      <td>-0.674333</td>\n      <td>2.793634</td>\n      <td>1004</td>\n      <td>5080</td>\n      <td>AIR</td>\n      <td>2000</td>\n      <td>4</td>\n      <td>2000-11-30</td>\n    </tr>\n    <tr>\n      <th>4</th>\n      <td>3.136912</td>\n      <td>1.025058</td>\n      <td>-0.002824</td>\n      <td>358.685</td>\n      <td>0.304446</td>\n      <td>0.666264</td>\n      <td>0.456946</td>\n      <td>0.008334</td>\n      <td>2.693044</td>\n      <td>0.713909</td>\n      <td>...</td>\n      <td>-71.119752</td>\n      <td>-68.726602</td>\n      <td>-0.619269</td>\n      <td>3.174489</td>\n      <td>1004</td>\n      <td>5080</td>\n      <td>AIR</td>\n      <td>2001</td>\n      <td>1</td>\n      <td>2001-02-28</td>\n    </tr>\n  </tbody>\n</table>\n<p>5 rows × 30 columns</p>\n</div>"
     },
     "execution_count": 142,
     "metadata": {},
     "output_type": "execute_result"
    }
   ],
   "source": [
    "import numpy as np\n",
    "def fill_with_median(x):\n",
    "    sic = x['sic']\n",
    "    year = x['year']\n",
    "    quarter = x['quarter']\n",
    "    for col in cols_to_check: \n",
    "        if np.isnan(x[col]): \n",
    "            median = sector_date_median[sector_date_median.index == (sic,year,quarter)][col].iloc[0]\n",
    "            x[col] = median\n",
    "    return x"
   ],
   "metadata": {
    "collapsed": false,
    "ExecuteTime": {
     "end_time": "2023-10-30T12:17:21.793401Z",
     "start_time": "2023-10-30T12:17:21.787022Z"
    }
   },
   "id": "fb6659f626cdd823"
  },
  {
   "cell_type": "code",
   "execution_count": 144,
   "outputs": [
    {
     "data": {
      "text/plain": "                   current_ratio  quick_ratio  cash_ratio  \\\nsic  year quarter                                           \n100  2000 1             1.647509     0.737603   -0.005996   \n          2             1.814017     0.896253   -0.006626   \n          3             1.507615     0.904313   -0.004942   \n          4             1.577333     0.855120    0.000416   \n     2001 1             1.650396     0.930933    0.001662   \n...                          ...          ...         ...   \n9998 2010 4            13.658537    13.658537   -8.469512   \n     2011 1            15.833837    15.833837    2.410876   \n          2            15.663768    15.663768    2.646377   \n          3            17.950156    17.950156    3.532710   \n          4            20.237931    20.237931    4.906897   \n\n                   net_working_capital  debt_ratio  debt_to_equity_ratio  \\\nsic  year quarter                                                          \n100  2000 1                    20.4455    0.420928              0.854158   \n          2                    22.4370    0.390419              0.736070   \n          3                    21.1725    0.385024              0.819076   \n          4                    19.9730    0.378760              0.842804   \n     2001 1                    17.5215    0.376966              0.800000   \n...                                ...         ...                   ...   \n9998 2010 4                     4.1520    0.000000              0.000000   \n     2011 1                     4.9100    0.000000              0.000000   \n          2                     5.0590    0.000000              0.000000   \n          3                     5.4410    0.000000              0.000000   \n          4                     5.5790    0.000000              0.000000   \n\n                   equity_ratio  cashflow_to_debt_ratio  net_profit_margin  \\\nsic  year quarter                                                            \n100  2000 1            0.424581               -0.046012       2.629500e+00   \n          2            0.434415                0.054531       2.120489e+00   \n          3            0.446250                0.046320      -7.016296e+00   \n          4            0.467537                0.014073      -4.486626e+00   \n     2001 1            0.474421                0.002461       3.246027e+00   \n...                         ...                     ...                ...   \n9998 2010 4            0.986136           -32257.000000       4.395000e+04   \n     2011 1            0.985965           -32257.000000      -2.901190e+07   \n          2            0.986099           -32257.000000       4.395000e+04   \n          3            0.987607           -32257.000000       4.395000e+04   \n          4            0.988962           -32257.000000       4.395000e+04   \n\n                   return_on_assets  ...  working_capital_turnover  \\\nsic  year quarter                    ...                             \n100  2000 1                0.387070  ...                  0.269688   \n          2                0.306799  ...                  0.645276   \n          3               -0.895477  ...                  0.577829   \n          4               -0.695809  ...                  1.754690   \n     2001 1                0.459175  ...                  0.898301   \n...                             ...  ...                       ...   \n9998 2010 4                1.327247  ...                  0.000000   \n     2011 1               -0.326493  ...                  0.000000   \n          2                4.919618  ...                  0.000000   \n          3                4.270105  ...                  0.000000   \n          4                1.533894  ...                  0.000000   \n\n                   price_to_earnings  dividend_payout_ratio  retention_ratio  \\\nsic  year quarter                                                              \n100  2000 1                11.902778               0.000000         1.000000   \n          2                 0.122622               0.000000         1.000000   \n          3                -1.157407               0.000000         1.000000   \n          4                -3.296703              -0.000000         1.000000   \n     2001 1                21.169811               0.000000         1.000000   \n...                              ...                    ...              ...   \n9998 2010 4                55.666667               5.555556        -4.555556   \n     2011 1              -270.000000              -0.000000         1.000000   \n          2                16.666667               0.000000         1.000000   \n          3                18.281250               0.000000         1.000000   \n          4                50.000000               0.000000         1.000000   \n\n                   gross_margin_ratio  operating_profit_margin  ebitda_margin  \\\nsic  year quarter                                                               \n100  2000 1                 27.073591            -6.300268e+01  -5.350257e+01   \n          2                 31.971606            -6.237524e+01  -3.388960e+01   \n          3                 34.283935            -7.920856e+01  -4.546297e+01   \n          4                 29.187245            -5.619516e+01  -3.792260e+01   \n     2001 1                 31.844447            -5.493607e+01  -4.542146e+01   \n...                               ...                      ...            ...   \n9998 2010 4                       NaN            -2.189250e+07  -2.185540e+07   \n     2011 1                       NaN            -2.189250e+07  -2.185540e+07   \n          2                       NaN            -2.189250e+07  -2.185540e+07   \n          3                       NaN            -2.189250e+07  -2.185540e+07   \n          4                       NaN            -2.189250e+07  -2.185540e+07   \n\n                   debt_service_coverage_ratio  interest_coverage_ratio  \\\nsic  year quarter                                                         \n100  2000 1                          -0.299947                 2.722530   \n          2                          -0.198087                 2.532468   \n          3                          -0.188243                 1.835821   \n          4                          -0.261538                 1.364330   \n     2001 1                          -0.197965                 3.045755   \n...                                        ...                      ...   \n9998 2010 4                     -149041.103448           -297211.000000   \n     2011 1                     -149041.103448           -297211.000000   \n          2                     -149041.103448           -297211.000000   \n          3                     -149041.103448           -297211.000000   \n          4                     -149041.103448           -297211.000000   \n\n                     gvkey  \nsic  year quarter           \n100  2000 1        26100.5  \n          2        26100.5  \n          3        24900.0  \n          4        25190.5  \n     2001 1        27301.0  \n...                    ...  \n9998 2010 4        22707.0  \n     2011 1        22707.0  \n          2        22707.0  \n          3        22707.0  \n          4        22707.0  \n\n[39285 rows x 25 columns]",
      "text/html": "<div>\n<style scoped>\n    .dataframe tbody tr th:only-of-type {\n        vertical-align: middle;\n    }\n\n    .dataframe tbody tr th {\n        vertical-align: top;\n    }\n\n    .dataframe thead th {\n        text-align: right;\n    }\n</style>\n<table border=\"1\" class=\"dataframe\">\n  <thead>\n    <tr style=\"text-align: right;\">\n      <th></th>\n      <th></th>\n      <th></th>\n      <th>current_ratio</th>\n      <th>quick_ratio</th>\n      <th>cash_ratio</th>\n      <th>net_working_capital</th>\n      <th>debt_ratio</th>\n      <th>debt_to_equity_ratio</th>\n      <th>equity_ratio</th>\n      <th>cashflow_to_debt_ratio</th>\n      <th>net_profit_margin</th>\n      <th>return_on_assets</th>\n      <th>...</th>\n      <th>working_capital_turnover</th>\n      <th>price_to_earnings</th>\n      <th>dividend_payout_ratio</th>\n      <th>retention_ratio</th>\n      <th>gross_margin_ratio</th>\n      <th>operating_profit_margin</th>\n      <th>ebitda_margin</th>\n      <th>debt_service_coverage_ratio</th>\n      <th>interest_coverage_ratio</th>\n      <th>gvkey</th>\n    </tr>\n    <tr>\n      <th>sic</th>\n      <th>year</th>\n      <th>quarter</th>\n      <th></th>\n      <th></th>\n      <th></th>\n      <th></th>\n      <th></th>\n      <th></th>\n      <th></th>\n      <th></th>\n      <th></th>\n      <th></th>\n      <th></th>\n      <th></th>\n      <th></th>\n      <th></th>\n      <th></th>\n      <th></th>\n      <th></th>\n      <th></th>\n      <th></th>\n      <th></th>\n      <th></th>\n    </tr>\n  </thead>\n  <tbody>\n    <tr>\n      <th rowspan=\"5\" valign=\"top\">100</th>\n      <th rowspan=\"4\" valign=\"top\">2000</th>\n      <th>1</th>\n      <td>1.647509</td>\n      <td>0.737603</td>\n      <td>-0.005996</td>\n      <td>20.4455</td>\n      <td>0.420928</td>\n      <td>0.854158</td>\n      <td>0.424581</td>\n      <td>-0.046012</td>\n      <td>2.629500e+00</td>\n      <td>0.387070</td>\n      <td>...</td>\n      <td>0.269688</td>\n      <td>11.902778</td>\n      <td>0.000000</td>\n      <td>1.000000</td>\n      <td>27.073591</td>\n      <td>-6.300268e+01</td>\n      <td>-5.350257e+01</td>\n      <td>-0.299947</td>\n      <td>2.722530</td>\n      <td>26100.5</td>\n    </tr>\n    <tr>\n      <th>2</th>\n      <td>1.814017</td>\n      <td>0.896253</td>\n      <td>-0.006626</td>\n      <td>22.4370</td>\n      <td>0.390419</td>\n      <td>0.736070</td>\n      <td>0.434415</td>\n      <td>0.054531</td>\n      <td>2.120489e+00</td>\n      <td>0.306799</td>\n      <td>...</td>\n      <td>0.645276</td>\n      <td>0.122622</td>\n      <td>0.000000</td>\n      <td>1.000000</td>\n      <td>31.971606</td>\n      <td>-6.237524e+01</td>\n      <td>-3.388960e+01</td>\n      <td>-0.198087</td>\n      <td>2.532468</td>\n      <td>26100.5</td>\n    </tr>\n    <tr>\n      <th>3</th>\n      <td>1.507615</td>\n      <td>0.904313</td>\n      <td>-0.004942</td>\n      <td>21.1725</td>\n      <td>0.385024</td>\n      <td>0.819076</td>\n      <td>0.446250</td>\n      <td>0.046320</td>\n      <td>-7.016296e+00</td>\n      <td>-0.895477</td>\n      <td>...</td>\n      <td>0.577829</td>\n      <td>-1.157407</td>\n      <td>0.000000</td>\n      <td>1.000000</td>\n      <td>34.283935</td>\n      <td>-7.920856e+01</td>\n      <td>-4.546297e+01</td>\n      <td>-0.188243</td>\n      <td>1.835821</td>\n      <td>24900.0</td>\n    </tr>\n    <tr>\n      <th>4</th>\n      <td>1.577333</td>\n      <td>0.855120</td>\n      <td>0.000416</td>\n      <td>19.9730</td>\n      <td>0.378760</td>\n      <td>0.842804</td>\n      <td>0.467537</td>\n      <td>0.014073</td>\n      <td>-4.486626e+00</td>\n      <td>-0.695809</td>\n      <td>...</td>\n      <td>1.754690</td>\n      <td>-3.296703</td>\n      <td>-0.000000</td>\n      <td>1.000000</td>\n      <td>29.187245</td>\n      <td>-5.619516e+01</td>\n      <td>-3.792260e+01</td>\n      <td>-0.261538</td>\n      <td>1.364330</td>\n      <td>25190.5</td>\n    </tr>\n    <tr>\n      <th>2001</th>\n      <th>1</th>\n      <td>1.650396</td>\n      <td>0.930933</td>\n      <td>0.001662</td>\n      <td>17.5215</td>\n      <td>0.376966</td>\n      <td>0.800000</td>\n      <td>0.474421</td>\n      <td>0.002461</td>\n      <td>3.246027e+00</td>\n      <td>0.459175</td>\n      <td>...</td>\n      <td>0.898301</td>\n      <td>21.169811</td>\n      <td>0.000000</td>\n      <td>1.000000</td>\n      <td>31.844447</td>\n      <td>-5.493607e+01</td>\n      <td>-4.542146e+01</td>\n      <td>-0.197965</td>\n      <td>3.045755</td>\n      <td>27301.0</td>\n    </tr>\n    <tr>\n      <th>...</th>\n      <th>...</th>\n      <th>...</th>\n      <td>...</td>\n      <td>...</td>\n      <td>...</td>\n      <td>...</td>\n      <td>...</td>\n      <td>...</td>\n      <td>...</td>\n      <td>...</td>\n      <td>...</td>\n      <td>...</td>\n      <td>...</td>\n      <td>...</td>\n      <td>...</td>\n      <td>...</td>\n      <td>...</td>\n      <td>...</td>\n      <td>...</td>\n      <td>...</td>\n      <td>...</td>\n      <td>...</td>\n      <td>...</td>\n    </tr>\n    <tr>\n      <th rowspan=\"5\" valign=\"top\">9998</th>\n      <th>2010</th>\n      <th>4</th>\n      <td>13.658537</td>\n      <td>13.658537</td>\n      <td>-8.469512</td>\n      <td>4.1520</td>\n      <td>0.000000</td>\n      <td>0.000000</td>\n      <td>0.986136</td>\n      <td>-32257.000000</td>\n      <td>4.395000e+04</td>\n      <td>1.327247</td>\n      <td>...</td>\n      <td>0.000000</td>\n      <td>55.666667</td>\n      <td>5.555556</td>\n      <td>-4.555556</td>\n      <td>NaN</td>\n      <td>-2.189250e+07</td>\n      <td>-2.185540e+07</td>\n      <td>-149041.103448</td>\n      <td>-297211.000000</td>\n      <td>22707.0</td>\n    </tr>\n    <tr>\n      <th rowspan=\"4\" valign=\"top\">2011</th>\n      <th>1</th>\n      <td>15.833837</td>\n      <td>15.833837</td>\n      <td>2.410876</td>\n      <td>4.9100</td>\n      <td>0.000000</td>\n      <td>0.000000</td>\n      <td>0.985965</td>\n      <td>-32257.000000</td>\n      <td>-2.901190e+07</td>\n      <td>-0.326493</td>\n      <td>...</td>\n      <td>0.000000</td>\n      <td>-270.000000</td>\n      <td>-0.000000</td>\n      <td>1.000000</td>\n      <td>NaN</td>\n      <td>-2.189250e+07</td>\n      <td>-2.185540e+07</td>\n      <td>-149041.103448</td>\n      <td>-297211.000000</td>\n      <td>22707.0</td>\n    </tr>\n    <tr>\n      <th>2</th>\n      <td>15.663768</td>\n      <td>15.663768</td>\n      <td>2.646377</td>\n      <td>5.0590</td>\n      <td>0.000000</td>\n      <td>0.000000</td>\n      <td>0.986099</td>\n      <td>-32257.000000</td>\n      <td>4.395000e+04</td>\n      <td>4.919618</td>\n      <td>...</td>\n      <td>0.000000</td>\n      <td>16.666667</td>\n      <td>0.000000</td>\n      <td>1.000000</td>\n      <td>NaN</td>\n      <td>-2.189250e+07</td>\n      <td>-2.185540e+07</td>\n      <td>-149041.103448</td>\n      <td>-297211.000000</td>\n      <td>22707.0</td>\n    </tr>\n    <tr>\n      <th>3</th>\n      <td>17.950156</td>\n      <td>17.950156</td>\n      <td>3.532710</td>\n      <td>5.4410</td>\n      <td>0.000000</td>\n      <td>0.000000</td>\n      <td>0.987607</td>\n      <td>-32257.000000</td>\n      <td>4.395000e+04</td>\n      <td>4.270105</td>\n      <td>...</td>\n      <td>0.000000</td>\n      <td>18.281250</td>\n      <td>0.000000</td>\n      <td>1.000000</td>\n      <td>NaN</td>\n      <td>-2.189250e+07</td>\n      <td>-2.185540e+07</td>\n      <td>-149041.103448</td>\n      <td>-297211.000000</td>\n      <td>22707.0</td>\n    </tr>\n    <tr>\n      <th>4</th>\n      <td>20.237931</td>\n      <td>20.237931</td>\n      <td>4.906897</td>\n      <td>5.5790</td>\n      <td>0.000000</td>\n      <td>0.000000</td>\n      <td>0.988962</td>\n      <td>-32257.000000</td>\n      <td>4.395000e+04</td>\n      <td>1.533894</td>\n      <td>...</td>\n      <td>0.000000</td>\n      <td>50.000000</td>\n      <td>0.000000</td>\n      <td>1.000000</td>\n      <td>NaN</td>\n      <td>-2.189250e+07</td>\n      <td>-2.185540e+07</td>\n      <td>-149041.103448</td>\n      <td>-297211.000000</td>\n      <td>22707.0</td>\n    </tr>\n  </tbody>\n</table>\n<p>39285 rows × 25 columns</p>\n</div>"
     },
     "execution_count": 144,
     "metadata": {},
     "output_type": "execute_result"
    }
   ],
   "source": [
    "df_inputed1 = df_with_ratios_dropped_gvkey_v2[:50000].apply(fill_with_median, axis=1)\n",
    "df_inputed2 = df_with_ratios_dropped_gvkey_v2[50000:100000].apply(fill_with_median, axis=1)\n",
    "df_inputed3 = df_with_ratios_dropped_gvkey_v2[100000:150000].apply(fill_with_median, axis=1)"
   ],
   "metadata": {
    "collapsed": false,
    "ExecuteTime": {
     "end_time": "2023-10-30T12:17:56.095985Z",
     "start_time": "2023-10-30T12:17:55.768663Z"
    }
   },
   "id": "2f05fe6bade5f41e"
  },
  {
   "cell_type": "code",
   "execution_count": 145,
   "outputs": [
    {
     "data": {
      "text/plain": "['current_ratio',\n 'quick_ratio',\n 'cash_ratio',\n 'net_working_capital',\n 'debt_ratio',\n 'debt_to_equity_ratio',\n 'equity_ratio',\n 'cashflow_to_debt_ratio',\n 'net_profit_margin',\n 'return_on_assets',\n 'asset_turnover',\n 'inventory_turnover',\n 'days_in_inventory',\n 'receivables_turnover',\n 'day_sales_outstanding',\n 'working_capital_turnover',\n 'price_to_earnings',\n 'dividend_payout_ratio',\n 'retention_ratio',\n 'gross_margin_ratio',\n 'operating_profit_margin',\n 'ebitda_margin',\n 'debt_service_coverage_ratio',\n 'interest_coverage_ratio']"
     },
     "execution_count": 145,
     "metadata": {},
     "output_type": "execute_result"
    }
   ],
   "source": [
    "df_inputed4 = df_with_ratios_dropped_gvkey_v2[150000:200000].apply(fill_with_median, axis=1)\n",
    "df_inputed5 = df_with_ratios_dropped_gvkey_v2[200000:250000].apply(fill_with_median, axis=1)\n",
    "df_inputed6 = df_with_ratios_dropped_gvkey_v2[250000:300000].apply(fill_with_median, axis=1)"
   ],
   "metadata": {
    "collapsed": false,
    "ExecuteTime": {
     "end_time": "2023-10-30T12:18:03.702602Z",
     "start_time": "2023-10-30T12:18:03.685916Z"
    }
   },
   "id": "169334a0d2b57774"
  },
  {
   "cell_type": "code",
   "execution_count": 146,
   "outputs": [],
   "source": [
    "df_inputed7 = df_with_ratios_dropped_gvkey_v2[300000:350000].apply(fill_with_median, axis=1)\n",
    "df_inputed8 = df_with_ratios_dropped_gvkey_v2[350000:400000].apply(fill_with_median, axis=1)\n",
    "df_inputed9 = df_with_ratios_dropped_gvkey_v2[400000:450000].apply(fill_with_median, axis=1)"
   ],
   "metadata": {
    "collapsed": false,
    "ExecuteTime": {
     "end_time": "2023-10-30T12:18:13.783045Z",
     "start_time": "2023-10-30T12:18:13.762974Z"
    }
   },
   "id": "1ea8a9139f051fc5"
  },
  {
   "cell_type": "code",
   "execution_count": 147,
   "outputs": [],
   "source": [
    "combined = pd.DataFrame()\n",
    "for df in [\n",
    "    df_inputed1,\n",
    "    df_inputed2,\n",
    "        df_inputed3,\n",
    "    df_inputed4,\n",
    "        df_inputed5,\n",
    "    df_inputed6,\n",
    "        df_inputed7,\n",
    "    df_inputed8,\n",
    "    df_inputed9,\n",
    "]:\n",
    "    combined = pd.concat([combined, df])\n",
    "    \n",
    "    "
   ],
   "metadata": {
    "collapsed": false,
    "ExecuteTime": {
     "end_time": "2023-10-30T12:27:01.194656Z",
     "start_time": "2023-10-30T12:19:20.543616Z"
    }
   },
   "id": "8606843416ad188e"
  },
  {
   "cell_type": "code",
   "execution_count": 148,
   "outputs": [],
   "source": [
    "df_inputed10 = df_with_ratios_dropped_gvkey_v2[450000:500000].apply(fill_with_median, axis=1)\n",
    "df_inputed11 = df_with_ratios_dropped_gvkey_v2[500000:550000].apply(fill_with_median, axis=1)\n",
    "df_inputed12 = df_with_ratios_dropped_gvkey_v2[550000:600000].apply(fill_with_median, axis=1)"
   ],
   "metadata": {
    "collapsed": false,
    "ExecuteTime": {
     "end_time": "2023-10-30T12:44:50.003720Z",
     "start_time": "2023-10-30T12:27:01.193847Z"
    }
   },
   "id": "11815fb08c031251"
  },
  {
   "cell_type": "code",
   "execution_count": 149,
   "outputs": [],
   "source": [
    "df_inputed13 = df_with_ratios_dropped_gvkey_v2[600000:650000].apply(fill_with_median, axis=1)\n",
    "df_inputed14 = df_with_ratios_dropped_gvkey_v2[650000:700000].apply(fill_with_median, axis=1)\n",
    "df_inputed15 = df_with_ratios_dropped_gvkey_v2[700000:750000].apply(fill_with_median, axis=1)"
   ],
   "metadata": {
    "collapsed": false,
    "ExecuteTime": {
     "end_time": "2023-10-30T13:04:28.621837Z",
     "start_time": "2023-10-30T12:44:50.005071Z"
    }
   },
   "id": "47f5adf2daeff8de"
  },
  {
   "cell_type": "code",
   "execution_count": 150,
   "outputs": [],
   "source": [
    "\n",
    "df_inputed16 = df_with_ratios_dropped_gvkey_v2[750000:800000].apply(fill_with_median, axis=1)\n",
    "df_inputed17 = df_with_ratios_dropped_gvkey_v2[800000:850000].apply(fill_with_median, axis=1)"
   ],
   "metadata": {
    "collapsed": false,
    "ExecuteTime": {
     "end_time": "2023-10-30T13:04:28.707439Z",
     "start_time": "2023-10-30T13:04:28.625662Z"
    }
   },
   "id": "5fccc973a879d115"
  },
  {
   "cell_type": "code",
   "execution_count": 151,
   "outputs": [],
   "source": [
    "for df in [\n",
    "    df_inputed10,\n",
    "    df_inputed11,\n",
    "        df_inputed12,\n",
    "    df_inputed13,\n",
    "        df_inputed14,\n",
    "    df_inputed15,\n",
    "        df_inputed16,\n",
    "    df_inputed17,\n",
    "]:\n",
    "    combined = pd.concat([combined, df])"
   ],
   "metadata": {
    "collapsed": false,
    "ExecuteTime": {
     "end_time": "2023-10-30T13:17:57.220349Z",
     "start_time": "2023-10-30T13:04:28.708435Z"
    }
   },
   "id": "bcaf60a5f63d7afc"
  },
  {
   "cell_type": "code",
   "execution_count": 152,
   "outputs": [],
   "source": [
    "combined.to_pickle('./combined_final_22_oct.pkl')"
   ],
   "metadata": {
    "collapsed": false,
    "ExecuteTime": {
     "end_time": "2023-10-30T13:35:12.153668Z",
     "start_time": "2023-10-30T13:17:57.221007Z"
    }
   },
   "id": "e19d0798ac658575"
  },
  {
   "cell_type": "code",
   "execution_count": 153,
   "outputs": [],
   "source": [
    "nan_breakdown = pd.DataFrame()\n",
    "nan_breakdown['pct_nan_before_sector_inpute'] = (df_with_ratios_dropped_gvkey_v2.isna().sum() / len(df_with_ratios)) * 100\n",
    "nan_breakdown['pct_nan_after_sector_inpute'] = (combined.isna().sum() / len(df_with_ratios)) * 100\n",
    "nan_breakdown"
   ],
   "metadata": {
    "collapsed": false,
    "ExecuteTime": {
     "end_time": "2023-10-30T13:47:34.536094Z",
     "start_time": "2023-10-30T13:35:12.155194Z"
    }
   },
   "id": "8fd6b7446589c93d"
  },
  {
   "cell_type": "code",
   "execution_count": 154,
   "outputs": [],
   "source": [
    "inputed_data_ffill = combined.ffill(limit=4)"
   ],
   "metadata": {
    "collapsed": false,
    "ExecuteTime": {
     "end_time": "2023-10-30T13:47:34.832770Z",
     "start_time": "2023-10-30T13:47:34.535559Z"
    }
   },
   "id": "ff6bbcc584663042"
  },
  {
   "cell_type": "code",
   "execution_count": 155,
   "outputs": [],
   "source": [
    "nan_breakdown = pd.DataFrame()\n",
    "nan_breakdown['pct_nan_before_sector_inpute'] = (df_with_ratios_dropped_gvkey_v2.isna().sum() / len(df_with_ratios)) * 100\n",
    "nan_breakdown['pct_nan_after_sector_inpute'] = (combined.isna().sum() / len(df_with_ratios)) * 100\n",
    "nan_breakdown['pct_nan_after_sector_inpute_and_ffill'] = (inputed_data_ffill.isna().sum() / len(df_with_ratios)) * 100\n",
    "nan_breakdown"
   ],
   "metadata": {
    "collapsed": false,
    "ExecuteTime": {
     "end_time": "2023-10-30T13:47:34.914444Z",
     "start_time": "2023-10-30T13:47:34.833099Z"
    }
   },
   "id": "75312ad3242ee1c3"
  },
  {
   "cell_type": "code",
   "execution_count": 156,
   "outputs": [
    {
     "data": {
      "text/plain": "843144"
     },
     "execution_count": 156,
     "metadata": {},
     "output_type": "execute_result"
    }
   ],
   "source": [
    "print(len(df_with_ratios))\n",
    "print(len(inputed_data_ffill))"
   ],
   "metadata": {
    "collapsed": false,
    "ExecuteTime": {
     "end_time": "2023-10-30T13:48:37.103373Z",
     "start_time": "2023-10-30T13:48:37.096130Z"
    }
   },
   "id": "b5f163327d7af45d"
  },
  {
   "cell_type": "code",
   "execution_count": 165,
   "outputs": [],
   "source": [
    "inputed_data_ffill_dropna = inputed_data_ffill.dropna()"
   ],
   "metadata": {
    "collapsed": false,
    "ExecuteTime": {
     "end_time": "2023-10-30T13:52:35.042071Z",
     "start_time": "2023-10-30T13:52:34.885668Z"
    }
   },
   "id": "ee7d1d609dbd234b"
  },
  {
   "cell_type": "code",
   "execution_count": 171,
   "outputs": [
    {
     "data": {
      "text/plain": "(843144, 30)"
     },
     "execution_count": 171,
     "metadata": {},
     "output_type": "execute_result"
    }
   ],
   "source": [
    "len(inputed_data_ffill_dropna)"
   ],
   "metadata": {
    "collapsed": false,
    "ExecuteTime": {
     "end_time": "2023-10-30T13:53:09.429877Z",
     "start_time": "2023-10-30T13:53:09.416367Z"
    }
   },
   "id": "1681456057303885"
  },
  {
   "cell_type": "code",
   "execution_count": 167,
   "outputs": [],
   "source": [
    "print(len(df_with_ratios['gvkey'].unique()))\n",
    "print(len(inputed_data_ffill_dropna['gvkey'].unique()))"
   ],
   "metadata": {
    "collapsed": false,
    "ExecuteTime": {
     "end_time": "2023-10-30T13:52:37.597931Z",
     "start_time": "2023-10-30T13:52:37.398107Z"
    }
   },
   "id": "6f475a92cff14235"
  },
  {
   "cell_type": "code",
   "execution_count": 168,
   "outputs": [
    {
     "data": {
      "text/plain": "                             pct_nan_before_sector_inpute  \\\ndatadate                                         0.000000   \ngvkey                                            0.000000   \ntic                                              0.022995   \nsic                                              0.000000   \ncurrent_ratio                                   17.390932   \nquick_ratio                                     18.483870   \ncash_ratio                                      18.525577   \nnet_working_capital                             17.353787   \ndebt_ratio                                       8.907723   \ndebt_to_equity_ratio                             9.064216   \nequity_ratio                                     5.069780   \ncashflow_to_debt_ratio                          11.808663   \nnet_profit_margin                                8.826637   \nreturn_on_assets                                 5.143232   \nasset_turnover                                  13.043478   \ninventory_turnover                              17.216937   \ndays_in_inventory                               17.216937   \nreceivables_turnover                            22.149494   \nday_sales_outstanding                           22.149494   \nworking_capital_turnover                        19.646257   \nprice_to_earnings                               10.492669   \ndividend_payout_ratio                           14.885460   \nretention_ratio                                 14.885460   \ngross_margin_ratio                              16.633695   \noperating_profit_margin                          9.491337   \nebitda_margin                                   15.245366   \ndebt_service_coverage_ratio                     15.316584   \ninterest_coverage_ratio                         22.883829   \nyear                                             0.000000   \nquarter                                          0.000000   \n\n                             pct_nan_after_sector_inpute  \\\ndatadate                                        0.000000   \ngvkey                                           0.000000   \ntic                                             0.022995   \nsic                                             0.000000   \ncurrent_ratio                                   6.011438   \nquick_ratio                                     6.048303   \ncash_ratio                                      6.116356   \nnet_working_capital                             6.000173   \ndebt_ratio                                      0.037145   \ndebt_to_equity_ratio                            0.038076   \nequity_ratio                                    0.018712   \ncashflow_to_debt_ratio                          0.237765   \nnet_profit_margin                               0.401613   \nreturn_on_assets                                0.019550   \nasset_turnover                                  0.419115   \ninventory_turnover                              0.040403   \ndays_in_inventory                               0.040403   \nreceivables_turnover                            0.430565   \nday_sales_outstanding                           0.430565   \nworking_capital_turnover                        6.440793   \nprice_to_earnings                               0.044779   \ndividend_payout_ratio                           0.045617   \nretention_ratio                                 0.045617   \ngross_margin_ratio                              0.406919   \noperating_profit_margin                         0.403195   \nebitda_margin                                   0.492194   \ndebt_service_coverage_ratio                     0.672892   \ninterest_coverage_ratio                         0.646919   \nyear                                            0.000000   \nquarter                                         0.000000   \n\n                             pct_nan_after_sector_inpute_and_ffill  \ndatadate                                                  0.000000  \ngvkey                                                     0.000000  \ntic                                                       0.020388  \nsic                                                       0.000000  \ncurrent_ratio                                             4.738361  \nquick_ratio                                               4.740316  \ncash_ratio                                                4.601976  \nnet_working_capital                                       4.738267  \ndebt_ratio                                                0.001490  \ndebt_to_equity_ratio                                      0.001490  \nequity_ratio                                              0.000000  \ncashflow_to_debt_ratio                                    0.004469  \nnet_profit_margin                                         0.272769  \nreturn_on_assets                                          0.000838  \nasset_turnover                                            0.284127  \ninventory_turnover                                        0.019550  \ndays_in_inventory                                         0.019550  \nreceivables_turnover                                      0.291574  \nday_sales_outstanding                                     0.291574  \nworking_capital_turnover                                  5.364519  \nprice_to_earnings                                         0.025880  \ndividend_payout_ratio                                     0.017874  \nretention_ratio                                           0.017874  \ngross_margin_ratio                                        0.276214  \noperating_profit_margin                                   0.272769  \nebitda_margin                                             0.296136  \ndebt_service_coverage_ratio                               0.306097  \ninterest_coverage_ratio                                   0.416136  \nyear                                                      0.000000  \nquarter                                                   0.000000  ",
      "text/html": "<div>\n<style scoped>\n    .dataframe tbody tr th:only-of-type {\n        vertical-align: middle;\n    }\n\n    .dataframe tbody tr th {\n        vertical-align: top;\n    }\n\n    .dataframe thead th {\n        text-align: right;\n    }\n</style>\n<table border=\"1\" class=\"dataframe\">\n  <thead>\n    <tr style=\"text-align: right;\">\n      <th></th>\n      <th>pct_nan_before_sector_inpute</th>\n      <th>pct_nan_after_sector_inpute</th>\n      <th>pct_nan_after_sector_inpute_and_ffill</th>\n    </tr>\n  </thead>\n  <tbody>\n    <tr>\n      <th>datadate</th>\n      <td>0.000000</td>\n      <td>0.000000</td>\n      <td>0.000000</td>\n    </tr>\n    <tr>\n      <th>gvkey</th>\n      <td>0.000000</td>\n      <td>0.000000</td>\n      <td>0.000000</td>\n    </tr>\n    <tr>\n      <th>tic</th>\n      <td>0.022995</td>\n      <td>0.022995</td>\n      <td>0.020388</td>\n    </tr>\n    <tr>\n      <th>sic</th>\n      <td>0.000000</td>\n      <td>0.000000</td>\n      <td>0.000000</td>\n    </tr>\n    <tr>\n      <th>current_ratio</th>\n      <td>17.390932</td>\n      <td>6.011438</td>\n      <td>4.738361</td>\n    </tr>\n    <tr>\n      <th>quick_ratio</th>\n      <td>18.483870</td>\n      <td>6.048303</td>\n      <td>4.740316</td>\n    </tr>\n    <tr>\n      <th>cash_ratio</th>\n      <td>18.525577</td>\n      <td>6.116356</td>\n      <td>4.601976</td>\n    </tr>\n    <tr>\n      <th>net_working_capital</th>\n      <td>17.353787</td>\n      <td>6.000173</td>\n      <td>4.738267</td>\n    </tr>\n    <tr>\n      <th>debt_ratio</th>\n      <td>8.907723</td>\n      <td>0.037145</td>\n      <td>0.001490</td>\n    </tr>\n    <tr>\n      <th>debt_to_equity_ratio</th>\n      <td>9.064216</td>\n      <td>0.038076</td>\n      <td>0.001490</td>\n    </tr>\n    <tr>\n      <th>equity_ratio</th>\n      <td>5.069780</td>\n      <td>0.018712</td>\n      <td>0.000000</td>\n    </tr>\n    <tr>\n      <th>cashflow_to_debt_ratio</th>\n      <td>11.808663</td>\n      <td>0.237765</td>\n      <td>0.004469</td>\n    </tr>\n    <tr>\n      <th>net_profit_margin</th>\n      <td>8.826637</td>\n      <td>0.401613</td>\n      <td>0.272769</td>\n    </tr>\n    <tr>\n      <th>return_on_assets</th>\n      <td>5.143232</td>\n      <td>0.019550</td>\n      <td>0.000838</td>\n    </tr>\n    <tr>\n      <th>asset_turnover</th>\n      <td>13.043478</td>\n      <td>0.419115</td>\n      <td>0.284127</td>\n    </tr>\n    <tr>\n      <th>inventory_turnover</th>\n      <td>17.216937</td>\n      <td>0.040403</td>\n      <td>0.019550</td>\n    </tr>\n    <tr>\n      <th>days_in_inventory</th>\n      <td>17.216937</td>\n      <td>0.040403</td>\n      <td>0.019550</td>\n    </tr>\n    <tr>\n      <th>receivables_turnover</th>\n      <td>22.149494</td>\n      <td>0.430565</td>\n      <td>0.291574</td>\n    </tr>\n    <tr>\n      <th>day_sales_outstanding</th>\n      <td>22.149494</td>\n      <td>0.430565</td>\n      <td>0.291574</td>\n    </tr>\n    <tr>\n      <th>working_capital_turnover</th>\n      <td>19.646257</td>\n      <td>6.440793</td>\n      <td>5.364519</td>\n    </tr>\n    <tr>\n      <th>price_to_earnings</th>\n      <td>10.492669</td>\n      <td>0.044779</td>\n      <td>0.025880</td>\n    </tr>\n    <tr>\n      <th>dividend_payout_ratio</th>\n      <td>14.885460</td>\n      <td>0.045617</td>\n      <td>0.017874</td>\n    </tr>\n    <tr>\n      <th>retention_ratio</th>\n      <td>14.885460</td>\n      <td>0.045617</td>\n      <td>0.017874</td>\n    </tr>\n    <tr>\n      <th>gross_margin_ratio</th>\n      <td>16.633695</td>\n      <td>0.406919</td>\n      <td>0.276214</td>\n    </tr>\n    <tr>\n      <th>operating_profit_margin</th>\n      <td>9.491337</td>\n      <td>0.403195</td>\n      <td>0.272769</td>\n    </tr>\n    <tr>\n      <th>ebitda_margin</th>\n      <td>15.245366</td>\n      <td>0.492194</td>\n      <td>0.296136</td>\n    </tr>\n    <tr>\n      <th>debt_service_coverage_ratio</th>\n      <td>15.316584</td>\n      <td>0.672892</td>\n      <td>0.306097</td>\n    </tr>\n    <tr>\n      <th>interest_coverage_ratio</th>\n      <td>22.883829</td>\n      <td>0.646919</td>\n      <td>0.416136</td>\n    </tr>\n    <tr>\n      <th>year</th>\n      <td>0.000000</td>\n      <td>0.000000</td>\n      <td>0.000000</td>\n    </tr>\n    <tr>\n      <th>quarter</th>\n      <td>0.000000</td>\n      <td>0.000000</td>\n      <td>0.000000</td>\n    </tr>\n  </tbody>\n</table>\n</div>"
     },
     "execution_count": 168,
     "metadata": {},
     "output_type": "execute_result"
    }
   ],
   "source": [
    "inputed_data_ffill_dropna.to_pickle('./compustat_inputed.pkl')"
   ],
   "metadata": {
    "collapsed": false,
    "ExecuteTime": {
     "end_time": "2023-10-30T13:52:38.441344Z",
     "start_time": "2023-10-30T13:52:38.121826Z"
    }
   },
   "id": "2565212e012ae2db"
  },
  {
   "cell_type": "code",
   "execution_count": 169,
   "outputs": [
    {
     "name": "stdout",
     "output_type": "stream",
     "text": [
      "1074169\n",
      "843144\n"
     ]
    }
   ],
   "source": [
    "inputed_data_ffill_dropna"
   ],
   "metadata": {
    "collapsed": false,
    "ExecuteTime": {
     "end_time": "2023-10-30T13:52:39.529886Z",
     "start_time": "2023-10-30T13:52:39.524462Z"
    }
   },
   "id": "bff71db9ad7cf70b"
  },
  {
   "cell_type": "code",
   "execution_count": 170,
   "outputs": [],
   "source": [],
   "metadata": {
    "collapsed": false,
    "ExecuteTime": {
     "end_time": "2023-10-30T13:52:40.200279Z",
     "start_time": "2023-10-30T13:52:40.062027Z"
    }
   },
   "id": "e2a01855971f9374"
  }
 ],
 "metadata": {
  "kernelspec": {
   "display_name": "Python 3",
   "language": "python",
   "name": "python3"
  },
  "language_info": {
   "codemirror_mode": {
    "name": "ipython",
    "version": 2
   },
   "file_extension": ".py",
   "mimetype": "text/x-python",
   "name": "python",
   "nbconvert_exporter": "python",
   "pygments_lexer": "ipython2",
   "version": "2.7.6"
  }
 },
 "nbformat": 4,
 "nbformat_minor": 5
}
