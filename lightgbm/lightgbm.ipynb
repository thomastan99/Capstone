{
 "cells": [
  {
   "cell_type": "code",
   "execution_count": 35,
   "metadata": {},
   "outputs": [],
   "source": [
    "import numpy as np\n",
    "import pandas as pd\n",
    "import matplotlib.pyplot as plt\n",
    "import seaborn as sns\n",
    "import lightgbm as lgb\n",
    "from lightgbm import LGBMClassifier\n",
    "from sklearn.model_selection import train_test_split\n",
    "from sklearn import metrics\n",
    "from sklearn.preprocessing import StandardScaler\n",
    "import pickle\n",
    "import optuna as optuna\n",
    "from sklearn.metrics import accuracy_score, recall_score, precision_score, f1_score, roc_auc_score, confusion_matrix\n",
    "from sklearn.metrics import ConfusionMatrixDisplay\n",
    "import matplotlib.pyplot as plt\n",
    "from sklearn.metrics import roc_curve\n",
    "from sklearn.metrics import precision_recall_curve\n",
    "from sklearn.inspection import permutation_importance"
   ]
  },
  {
   "cell_type": "code",
   "execution_count": 59,
   "metadata": {},
   "outputs": [
    {
     "data": {
      "text/html": [
       "<div>\n",
       "<style scoped>\n",
       "    .dataframe tbody tr th:only-of-type {\n",
       "        vertical-align: middle;\n",
       "    }\n",
       "\n",
       "    .dataframe tbody tr th {\n",
       "        vertical-align: top;\n",
       "    }\n",
       "\n",
       "    .dataframe thead th {\n",
       "        text-align: right;\n",
       "    }\n",
       "</style>\n",
       "<table border=\"1\" class=\"dataframe\">\n",
       "  <thead>\n",
       "    <tr style=\"text-align: right;\">\n",
       "      <th></th>\n",
       "      <th>CompanyNumber</th>\n",
       "      <th>yyyy</th>\n",
       "      <th>mm</th>\n",
       "      <th>DTDmedianFin</th>\n",
       "      <th>DTDmedianNonFin</th>\n",
       "      <th>dummy297fin</th>\n",
       "      <th>EventDate</th>\n",
       "      <th>EventDate_string</th>\n",
       "      <th>Duration</th>\n",
       "      <th>StartDate</th>\n",
       "      <th>...</th>\n",
       "      <th>equity_ratio</th>\n",
       "      <th>financial_leverage_ratio</th>\n",
       "      <th>cashflow_to_debt_ratio</th>\n",
       "      <th>net_profit_margin</th>\n",
       "      <th>asset_turnover</th>\n",
       "      <th>receivables_turnover</th>\n",
       "      <th>day_sales_outstanding</th>\n",
       "      <th>working_capital_turnover</th>\n",
       "      <th>price_to_earnings</th>\n",
       "      <th>retention_ratio</th>\n",
       "    </tr>\n",
       "  </thead>\n",
       "  <tbody>\n",
       "    <tr>\n",
       "      <th>0</th>\n",
       "      <td>26980</td>\n",
       "      <td>2000.0</td>\n",
       "      <td>5</td>\n",
       "      <td>0.0</td>\n",
       "      <td>2.190874</td>\n",
       "      <td>0.0</td>\n",
       "      <td>2000-05-01 00:00:00+00:00</td>\n",
       "      <td>2000 05</td>\n",
       "      <td>4501 days 00:00:00</td>\n",
       "      <td>1988-01-04 00:00:00+00:00</td>\n",
       "      <td>...</td>\n",
       "      <td>8.653470</td>\n",
       "      <td>0.115561</td>\n",
       "      <td>0.353320</td>\n",
       "      <td>0.496181</td>\n",
       "      <td>0.500283</td>\n",
       "      <td>0.439043</td>\n",
       "      <td>2.277680</td>\n",
       "      <td>6.329094</td>\n",
       "      <td>-10.552301</td>\n",
       "      <td>5.626957</td>\n",
       "    </tr>\n",
       "    <tr>\n",
       "      <th>1</th>\n",
       "      <td>26995</td>\n",
       "      <td>2000.0</td>\n",
       "      <td>12</td>\n",
       "      <td>0.0</td>\n",
       "      <td>1.863172</td>\n",
       "      <td>0.0</td>\n",
       "      <td>2000-12-01 00:00:00+00:00</td>\n",
       "      <td>2000 12</td>\n",
       "      <td>4715 days 00:00:00</td>\n",
       "      <td>1988-01-04 00:00:00+00:00</td>\n",
       "      <td>...</td>\n",
       "      <td>5.227711</td>\n",
       "      <td>0.191288</td>\n",
       "      <td>0.270503</td>\n",
       "      <td>0.309987</td>\n",
       "      <td>0.252043</td>\n",
       "      <td>5.105960</td>\n",
       "      <td>0.195850</td>\n",
       "      <td>-30.840000</td>\n",
       "      <td>98.727273</td>\n",
       "      <td>0.127184</td>\n",
       "    </tr>\n",
       "    <tr>\n",
       "      <th>2</th>\n",
       "      <td>27003</td>\n",
       "      <td>2000.0</td>\n",
       "      <td>6</td>\n",
       "      <td>0.0</td>\n",
       "      <td>2.257787</td>\n",
       "      <td>0.0</td>\n",
       "      <td>2000-06-01 00:00:00+00:00</td>\n",
       "      <td>2000 06</td>\n",
       "      <td>4532 days 00:00:00</td>\n",
       "      <td>1988-01-04 00:00:00+00:00</td>\n",
       "      <td>...</td>\n",
       "      <td>2.758440</td>\n",
       "      <td>0.362524</td>\n",
       "      <td>0.040856</td>\n",
       "      <td>0.553460</td>\n",
       "      <td>0.471932</td>\n",
       "      <td>0.027663</td>\n",
       "      <td>42.234378</td>\n",
       "      <td>1.449149</td>\n",
       "      <td>42.256637</td>\n",
       "      <td>13.899441</td>\n",
       "    </tr>\n",
       "    <tr>\n",
       "      <th>3</th>\n",
       "      <td>27058</td>\n",
       "      <td>2000.0</td>\n",
       "      <td>3</td>\n",
       "      <td>0.0</td>\n",
       "      <td>2.599548</td>\n",
       "      <td>0.0</td>\n",
       "      <td>2000-03-01 00:00:00+00:00</td>\n",
       "      <td>2000 03</td>\n",
       "      <td>4440 days 00:00:00</td>\n",
       "      <td>1988-01-04 00:00:00+00:00</td>\n",
       "      <td>...</td>\n",
       "      <td>0.977792</td>\n",
       "      <td>1.022712</td>\n",
       "      <td>0.154983</td>\n",
       "      <td>0.351704</td>\n",
       "      <td>1.000000</td>\n",
       "      <td>2.866751</td>\n",
       "      <td>0.348827</td>\n",
       "      <td>0.677361</td>\n",
       "      <td>14.625000</td>\n",
       "      <td>5.160377</td>\n",
       "    </tr>\n",
       "    <tr>\n",
       "      <th>4</th>\n",
       "      <td>27071</td>\n",
       "      <td>2000.0</td>\n",
       "      <td>4</td>\n",
       "      <td>0.0</td>\n",
       "      <td>2.318686</td>\n",
       "      <td>0.0</td>\n",
       "      <td>2000-04-01 00:00:00+00:00</td>\n",
       "      <td>2000 04</td>\n",
       "      <td>4471 days 00:00:00</td>\n",
       "      <td>1988-01-04 00:00:00+00:00</td>\n",
       "      <td>...</td>\n",
       "      <td>0.883145</td>\n",
       "      <td>1.132316</td>\n",
       "      <td>0.307483</td>\n",
       "      <td>0.303481</td>\n",
       "      <td>0.541856</td>\n",
       "      <td>1.503662</td>\n",
       "      <td>0.665043</td>\n",
       "      <td>3.567568</td>\n",
       "      <td>17.829861</td>\n",
       "      <td>14.014418</td>\n",
       "    </tr>\n",
       "  </tbody>\n",
       "</table>\n",
       "<p>5 rows × 65 columns</p>\n",
       "</div>"
      ],
      "text/plain": [
       "   CompanyNumber    yyyy  mm  DTDmedianFin  DTDmedianNonFin  dummy297fin  \\\n",
       "0          26980  2000.0   5           0.0         2.190874          0.0   \n",
       "1          26995  2000.0  12           0.0         1.863172          0.0   \n",
       "2          27003  2000.0   6           0.0         2.257787          0.0   \n",
       "3          27058  2000.0   3           0.0         2.599548          0.0   \n",
       "4          27071  2000.0   4           0.0         2.318686          0.0   \n",
       "\n",
       "                  EventDate EventDate_string            Duration  \\\n",
       "0 2000-05-01 00:00:00+00:00          2000 05  4501 days 00:00:00   \n",
       "1 2000-12-01 00:00:00+00:00          2000 12  4715 days 00:00:00   \n",
       "2 2000-06-01 00:00:00+00:00          2000 06  4532 days 00:00:00   \n",
       "3 2000-03-01 00:00:00+00:00          2000 03  4440 days 00:00:00   \n",
       "4 2000-04-01 00:00:00+00:00          2000 04  4471 days 00:00:00   \n",
       "\n",
       "                  StartDate  ...  equity_ratio financial_leverage_ratio  \\\n",
       "0 1988-01-04 00:00:00+00:00  ...      8.653470                 0.115561   \n",
       "1 1988-01-04 00:00:00+00:00  ...      5.227711                 0.191288   \n",
       "2 1988-01-04 00:00:00+00:00  ...      2.758440                 0.362524   \n",
       "3 1988-01-04 00:00:00+00:00  ...      0.977792                 1.022712   \n",
       "4 1988-01-04 00:00:00+00:00  ...      0.883145                 1.132316   \n",
       "\n",
       "  cashflow_to_debt_ratio net_profit_margin  asset_turnover  \\\n",
       "0               0.353320          0.496181        0.500283   \n",
       "1               0.270503          0.309987        0.252043   \n",
       "2               0.040856          0.553460        0.471932   \n",
       "3               0.154983          0.351704        1.000000   \n",
       "4               0.307483          0.303481        0.541856   \n",
       "\n",
       "   receivables_turnover  day_sales_outstanding  working_capital_turnover  \\\n",
       "0              0.439043               2.277680                  6.329094   \n",
       "1              5.105960               0.195850                -30.840000   \n",
       "2              0.027663              42.234378                  1.449149   \n",
       "3              2.866751               0.348827                  0.677361   \n",
       "4              1.503662               0.665043                  3.567568   \n",
       "\n",
       "   price_to_earnings  retention_ratio  \n",
       "0         -10.552301         5.626957  \n",
       "1          98.727273         0.127184  \n",
       "2          42.256637        13.899441  \n",
       "3          14.625000         5.160377  \n",
       "4          17.829861        14.014418  \n",
       "\n",
       "[5 rows x 65 columns]"
      ]
     },
     "execution_count": 59,
     "metadata": {},
     "output_type": "execute_result"
    }
   ],
   "source": [
    "# Specify the path to your pickle file\n",
    "file_path = \"../dataset/merged_data.pkl\"\n",
    "\n",
    "# Open the pickle file for reading\n",
    "with open(file_path, 'rb') as file:\n",
    "    # Load the data from the pickle file\n",
    "    data = pickle.load(file)\n",
    "\n",
    "data.head()"
   ]
  },
  {
   "cell_type": "code",
   "execution_count": 60,
   "metadata": {},
   "outputs": [
    {
     "name": "stdout",
     "output_type": "stream",
     "text": [
      "train_df shape: (564102, 65)\n",
      "val_df shape: (8390, 65)\n",
      "train_df shape: (564102, 65)\n",
      "test_df shape: (6733, 65)\n"
     ]
    }
   ],
   "source": [
    "selected_features = [\n",
    "        'DTDmedianFin', 'DTDmedianNonFin', 'dummy297fin', 'sic', 'atq',\n",
    "        # 'ltq', 'dlcq', 'txditcq', 'cheq', \n",
    "        # 'lctq', 'actq', 'invtq', 'intanq',\n",
    "        # 'oibdpq', 'txpq', 'piq', 'niq', 'revtq', 'cogsq', 'oancfy', 'ivncfy',\n",
    "        # 'fincfy', 'dltisy', 'dltry', 'ceqq', 'dpq', 'saleq', 'saley', 'invchy',\n",
    "        # 'rectq', 'wcapq', 'prccq', 'epsf12', 'cshoq', 'dvy', 'req', 'dlttq',\n",
    "        # 'chechy', \n",
    "        'current_ratio', 'quick_ratio',\n",
    "        'cash_ratio', 'net_working_capital', 'debt_ratio',\n",
    "        'debt_to_equity_ratio', 'equity_ratio', 'financial_leverage_ratio',\n",
    "        'cashflow_to_debt_ratio', 'net_profit_margin', 'asset_turnover',\n",
    "        'receivables_turnover', 'day_sales_outstanding',\n",
    "        'working_capital_turnover', 'price_to_earnings', 'retention_ratio',\n",
    "        ]\n",
    "\n",
    "\n",
    "data['Duration'] = data['Duration'].str.extract(r'(\\d+) days').astype(int)\n",
    "data['sic'] = data['sic'].astype(float)\n",
    "\n",
    "\n",
    "# Data preprocessing\n",
    "train_df = data[data['Duration'] > 653]\n",
    "test_df = data[data['Duration'] <= 653]\n",
    "val_df = train_df[train_df[\"Duration\"] < 1384]\n",
    "train_df = train_df[train_df[\"Duration\"] >= 1384]\n",
    "print(\"train_df shape:\", train_df.shape)\n",
    "print(\"val_df shape:\", val_df.shape)\n",
    "print(\"train_df shape:\", train_df.shape)\n",
    "print(\"test_df shape:\", test_df.shape)"
   ]
  },
  {
   "cell_type": "code",
   "execution_count": 61,
   "metadata": {},
   "outputs": [
    {
     "name": "stdout",
     "output_type": "stream",
     "text": [
      "(564102, 21)\n"
     ]
    }
   ],
   "source": [
    "X_train = train_df[selected_features] # Features\n",
    "y_train = train_df['EventType']  # Target\n",
    "X_test = test_df[selected_features] # Features\n",
    "y_test = test_df['EventType']  # Target\n",
    "X_val = val_df[selected_features] # Features\n",
    "y_val = val_df['EventType']  # Target\n",
    "\n",
    "#X_train, X_test, y_train, y_test = train_test_split(X, y, test_size=0.2, random_state=42)\n",
    "\n",
    "scaler = StandardScaler()\n",
    "X_train_scaled = scaler.fit_transform(X_train)\n",
    "X_test_scaled = scaler.transform(X_test)\n",
    "\n",
    "print(X_train_scaled.shape)"
   ]
  },
  {
   "cell_type": "code",
   "execution_count": 63,
   "metadata": {},
   "outputs": [
    {
     "name": "stderr",
     "output_type": "stream",
     "text": [
      "[I 2023-10-17 00:36:48,163] A new study created in memory with name: no-name-0fb5c38f-3be8-4100-954f-70e448288d2c\n"
     ]
    },
    {
     "name": "stdout",
     "output_type": "stream",
     "text": [
      "[LightGBM] [Info] Number of positive: 4330, number of negative: 559772\n",
      "[LightGBM] [Info] Auto-choosing col-wise multi-threading, the overhead of testing was 0.037035 seconds.\n",
      "You can set `force_col_wise=true` to remove the overhead.\n",
      "[LightGBM] [Info] Total Bins 5068\n",
      "[LightGBM] [Info] Number of data points in the train set: 564102, number of used features: 21\n",
      "[LightGBM] [Info] [binary:BoostFromScore]: pavg=0.007676 -> initscore=-4.861962\n",
      "[LightGBM] [Info] Start training from score -4.861962\n"
     ]
    },
    {
     "name": "stderr",
     "output_type": "stream",
     "text": [
      "[I 2023-10-17 00:37:12,871] Trial 0 finished with value: 0.5773373005155185 and parameters: {'num_leaves': 255, 'lambda_l1': 8.848549501400608e-06, 'lambda_l2': 1.674527841748936e-08, 'feature_fraction': 0.8166362043109641, 'bagging_fraction': 0.4934501461772914, 'bagging_freq': 6, 'min_child_samples': 86}. Best is trial 0 with value: 0.5773373005155185.\n"
     ]
    },
    {
     "name": "stdout",
     "output_type": "stream",
     "text": [
      "[LightGBM] [Info] Number of positive: 4330, number of negative: 559772\n",
      "[LightGBM] [Info] Auto-choosing row-wise multi-threading, the overhead of testing was 0.011595 seconds.\n",
      "You can set `force_row_wise=true` to remove the overhead.\n",
      "And if memory is not enough, you can set `force_col_wise=true`.\n",
      "[LightGBM] [Info] Total Bins 5068\n",
      "[LightGBM] [Info] Number of data points in the train set: 564102, number of used features: 21\n",
      "[LightGBM] [Info] [binary:BoostFromScore]: pavg=0.007676 -> initscore=-4.861962\n",
      "[LightGBM] [Info] Start training from score -4.861962\n"
     ]
    },
    {
     "name": "stderr",
     "output_type": "stream",
     "text": [
      "[I 2023-10-17 00:37:28,588] Trial 1 finished with value: 0.6328450685204975 and parameters: {'num_leaves': 62, 'lambda_l1': 6.764735254713837e-08, 'lambda_l2': 1.6694670818941871e-07, 'feature_fraction': 0.964337502410802, 'bagging_fraction': 0.5662024339571684, 'bagging_freq': 5, 'min_child_samples': 72}. Best is trial 1 with value: 0.6328450685204975.\n"
     ]
    },
    {
     "name": "stdout",
     "output_type": "stream",
     "text": [
      "[LightGBM] [Info] Number of positive: 4330, number of negative: 559772\n",
      "[LightGBM] [Info] Auto-choosing col-wise multi-threading, the overhead of testing was 0.039628 seconds.\n",
      "You can set `force_col_wise=true` to remove the overhead.\n",
      "[LightGBM] [Info] Total Bins 5068\n",
      "[LightGBM] [Info] Number of data points in the train set: 564102, number of used features: 21\n",
      "[LightGBM] [Info] [binary:BoostFromScore]: pavg=0.007676 -> initscore=-4.861962\n",
      "[LightGBM] [Info] Start training from score -4.861962\n"
     ]
    },
    {
     "name": "stderr",
     "output_type": "stream",
     "text": [
      "[I 2023-10-17 00:37:50,406] Trial 2 finished with value: 0.6004211339056097 and parameters: {'num_leaves': 168, 'lambda_l1': 1.3756468446790676e-05, 'lambda_l2': 0.022473344613868816, 'feature_fraction': 0.6957790721926698, 'bagging_fraction': 0.6774855364508192, 'bagging_freq': 7, 'min_child_samples': 35}. Best is trial 1 with value: 0.6328450685204975.\n"
     ]
    },
    {
     "name": "stdout",
     "output_type": "stream",
     "text": [
      "[LightGBM] [Info] Number of positive: 4330, number of negative: 559772\n",
      "[LightGBM] [Info] Auto-choosing col-wise multi-threading, the overhead of testing was 0.059824 seconds.\n",
      "You can set `force_col_wise=true` to remove the overhead.\n",
      "[LightGBM] [Info] Total Bins 5068\n",
      "[LightGBM] [Info] Number of data points in the train set: 564102, number of used features: 21\n",
      "[LightGBM] [Info] [binary:BoostFromScore]: pavg=0.007676 -> initscore=-4.861962\n",
      "[LightGBM] [Info] Start training from score -4.861962\n"
     ]
    },
    {
     "name": "stderr",
     "output_type": "stream",
     "text": [
      "[I 2023-10-17 00:38:15,792] Trial 3 finished with value: 0.6238910189414846 and parameters: {'num_leaves': 176, 'lambda_l1': 0.013776942049153066, 'lambda_l2': 0.7166178303872184, 'feature_fraction': 0.8778389391744982, 'bagging_fraction': 0.52583924440858, 'bagging_freq': 4, 'min_child_samples': 96}. Best is trial 1 with value: 0.6328450685204975.\n"
     ]
    },
    {
     "name": "stdout",
     "output_type": "stream",
     "text": [
      "[LightGBM] [Info] Number of positive: 4330, number of negative: 559772\n",
      "[LightGBM] [Info] Auto-choosing row-wise multi-threading, the overhead of testing was 0.004896 seconds.\n",
      "You can set `force_row_wise=true` to remove the overhead.\n",
      "And if memory is not enough, you can set `force_col_wise=true`.\n",
      "[LightGBM] [Info] Total Bins 5068\n",
      "[LightGBM] [Info] Number of data points in the train set: 564102, number of used features: 21\n",
      "[LightGBM] [Info] [binary:BoostFromScore]: pavg=0.007676 -> initscore=-4.861962\n",
      "[LightGBM] [Info] Start training from score -4.861962\n"
     ]
    },
    {
     "name": "stderr",
     "output_type": "stream",
     "text": [
      "[I 2023-10-17 00:38:32,642] Trial 4 finished with value: 0.6350446821752762 and parameters: {'num_leaves': 80, 'lambda_l1': 0.02764245826286201, 'lambda_l2': 0.20629540863895018, 'feature_fraction': 0.4198597536484228, 'bagging_fraction': 0.7576208927329298, 'bagging_freq': 2, 'min_child_samples': 100}. Best is trial 4 with value: 0.6350446821752762.\n"
     ]
    },
    {
     "name": "stdout",
     "output_type": "stream",
     "text": [
      "[LightGBM] [Info] Number of positive: 4330, number of negative: 559772\n",
      "[LightGBM] [Info] Auto-choosing col-wise multi-threading, the overhead of testing was 0.038962 seconds.\n",
      "You can set `force_col_wise=true` to remove the overhead.\n",
      "[LightGBM] [Info] Total Bins 5068\n",
      "[LightGBM] [Info] Number of data points in the train set: 564102, number of used features: 21\n",
      "[LightGBM] [Info] [binary:BoostFromScore]: pavg=0.007676 -> initscore=-4.861962\n",
      "[LightGBM] [Info] Start training from score -4.861962\n"
     ]
    },
    {
     "name": "stderr",
     "output_type": "stream",
     "text": [
      "[I 2023-10-17 00:38:49,499] Trial 5 finished with value: 0.6600719846871073 and parameters: {'num_leaves': 93, 'lambda_l1': 0.00012651908162373098, 'lambda_l2': 8.852259957228657e-08, 'feature_fraction': 0.9453181070589197, 'bagging_fraction': 0.4062107782917877, 'bagging_freq': 6, 'min_child_samples': 83}. Best is trial 5 with value: 0.6600719846871073.\n"
     ]
    },
    {
     "name": "stdout",
     "output_type": "stream",
     "text": [
      "[LightGBM] [Info] Number of positive: 4330, number of negative: 559772\n",
      "[LightGBM] [Info] Auto-choosing col-wise multi-threading, the overhead of testing was 0.053349 seconds.\n",
      "You can set `force_col_wise=true` to remove the overhead.\n",
      "[LightGBM] [Info] Total Bins 5068\n",
      "[LightGBM] [Info] Number of data points in the train set: 564102, number of used features: 21\n",
      "[LightGBM] [Info] [binary:BoostFromScore]: pavg=0.007676 -> initscore=-4.861962\n",
      "[LightGBM] [Info] Start training from score -4.861962\n"
     ]
    },
    {
     "name": "stderr",
     "output_type": "stream",
     "text": [
      "[I 2023-10-17 00:39:13,558] Trial 6 finished with value: 0.6216334241459891 and parameters: {'num_leaves': 154, 'lambda_l1': 2.2727519675366172e-08, 'lambda_l2': 0.0016443818068255446, 'feature_fraction': 0.752277422708075, 'bagging_fraction': 0.7201715234936614, 'bagging_freq': 4, 'min_child_samples': 68}. Best is trial 5 with value: 0.6600719846871073.\n"
     ]
    },
    {
     "name": "stdout",
     "output_type": "stream",
     "text": [
      "[LightGBM] [Info] Number of positive: 4330, number of negative: 559772\n",
      "[LightGBM] [Info] Auto-choosing col-wise multi-threading, the overhead of testing was 0.040668 seconds.\n",
      "You can set `force_col_wise=true` to remove the overhead.\n",
      "[LightGBM] [Info] Total Bins 5068\n",
      "[LightGBM] [Info] Number of data points in the train set: 564102, number of used features: 21\n",
      "[LightGBM] [Info] [binary:BoostFromScore]: pavg=0.007676 -> initscore=-4.861962\n",
      "[LightGBM] [Info] Start training from score -4.861962\n"
     ]
    },
    {
     "name": "stderr",
     "output_type": "stream",
     "text": [
      "[I 2023-10-17 00:39:29,553] Trial 7 finished with value: 0.6192517937456697 and parameters: {'num_leaves': 102, 'lambda_l1': 1.5089070797760153e-07, 'lambda_l2': 7.682199934897833e-05, 'feature_fraction': 0.7665134262422664, 'bagging_fraction': 0.6079288870526296, 'bagging_freq': 5, 'min_child_samples': 18}. Best is trial 5 with value: 0.6600719846871073.\n"
     ]
    },
    {
     "name": "stdout",
     "output_type": "stream",
     "text": [
      "[LightGBM] [Info] Number of positive: 4330, number of negative: 559772\n",
      "[LightGBM] [Info] Auto-choosing col-wise multi-threading, the overhead of testing was 0.044596 seconds.\n",
      "You can set `force_col_wise=true` to remove the overhead.\n",
      "[LightGBM] [Info] Total Bins 5068\n",
      "[LightGBM] [Info] Number of data points in the train set: 564102, number of used features: 21\n",
      "[LightGBM] [Info] [binary:BoostFromScore]: pavg=0.007676 -> initscore=-4.861962\n",
      "[LightGBM] [Info] Start training from score -4.861962\n"
     ]
    },
    {
     "name": "stderr",
     "output_type": "stream",
     "text": [
      "[I 2023-10-17 00:39:56,786] Trial 8 finished with value: 0.6303276594995126 and parameters: {'num_leaves': 179, 'lambda_l1': 0.00024381665221252617, 'lambda_l2': 0.2871084972757033, 'feature_fraction': 0.8281638913035116, 'bagging_fraction': 0.9490911650824032, 'bagging_freq': 2, 'min_child_samples': 43}. Best is trial 5 with value: 0.6600719846871073.\n"
     ]
    },
    {
     "name": "stdout",
     "output_type": "stream",
     "text": [
      "[LightGBM] [Info] Number of positive: 4330, number of negative: 559772\n",
      "[LightGBM] [Info] Auto-choosing col-wise multi-threading, the overhead of testing was 0.039529 seconds.\n",
      "You can set `force_col_wise=true` to remove the overhead.\n",
      "[LightGBM] [Info] Total Bins 5068\n",
      "[LightGBM] [Info] Number of data points in the train set: 564102, number of used features: 21\n",
      "[LightGBM] [Info] [binary:BoostFromScore]: pavg=0.007676 -> initscore=-4.861962\n",
      "[LightGBM] [Info] Start training from score -4.861962\n"
     ]
    },
    {
     "name": "stderr",
     "output_type": "stream",
     "text": [
      "[I 2023-10-17 00:40:10,790] Trial 9 finished with value: 0.6372575067228765 and parameters: {'num_leaves': 42, 'lambda_l1': 0.16075288461633433, 'lambda_l2': 5.966479517420078e-08, 'feature_fraction': 0.587162602867796, 'bagging_fraction': 0.9662025603354432, 'bagging_freq': 2, 'min_child_samples': 64}. Best is trial 5 with value: 0.6600719846871073.\n"
     ]
    },
    {
     "name": "stdout",
     "output_type": "stream",
     "text": [
      "[LightGBM] [Info] Number of positive: 4330, number of negative: 559772\n",
      "[LightGBM] [Info] Auto-choosing col-wise multi-threading, the overhead of testing was 0.045585 seconds.\n",
      "You can set `force_col_wise=true` to remove the overhead.\n",
      "[LightGBM] [Info] Total Bins 5068\n",
      "[LightGBM] [Info] Number of data points in the train set: 564102, number of used features: 21\n",
      "[LightGBM] [Info] [binary:BoostFromScore]: pavg=0.007676 -> initscore=-4.861962\n",
      "[LightGBM] [Info] Start training from score -4.861962\n"
     ]
    },
    {
     "name": "stderr",
     "output_type": "stream",
     "text": [
      "[I 2023-10-17 00:40:18,997] Trial 10 finished with value: 0.6531803022652277 and parameters: {'num_leaves': 16, 'lambda_l1': 1.8534789250638466, 'lambda_l2': 7.221883250436221e-06, 'feature_fraction': 0.9765203835143031, 'bagging_fraction': 0.41228689376430294, 'bagging_freq': 7, 'min_child_samples': 11}. Best is trial 5 with value: 0.6600719846871073.\n"
     ]
    },
    {
     "name": "stdout",
     "output_type": "stream",
     "text": [
      "[LightGBM] [Info] Number of positive: 4330, number of negative: 559772\n",
      "[LightGBM] [Info] Auto-choosing col-wise multi-threading, the overhead of testing was 0.043233 seconds.\n",
      "You can set `force_col_wise=true` to remove the overhead.\n",
      "[LightGBM] [Info] Total Bins 5068\n",
      "[LightGBM] [Info] Number of data points in the train set: 564102, number of used features: 21\n",
      "[LightGBM] [Info] [binary:BoostFromScore]: pavg=0.007676 -> initscore=-4.861962\n",
      "[LightGBM] [Info] Start training from score -4.861962\n"
     ]
    },
    {
     "name": "stderr",
     "output_type": "stream",
     "text": [
      "c:\\Users\\Melissa\\AppData\\Local\\Programs\\Python\\Python310\\lib\\site-packages\\sklearn\\metrics\\_classification.py:1344: UndefinedMetricWarning: Precision is ill-defined and being set to 0.0 due to no predicted samples. Use `zero_division` parameter to control this behavior.\n",
      "  _warn_prf(average, modifier, msg_start, len(result))\n",
      "[I 2023-10-17 00:40:29,709] Trial 11 finished with value: 0.6325881900489683 and parameters: {'num_leaves': 22, 'lambda_l1': 9.941025553712766, 'lambda_l2': 2.494118055192818e-06, 'feature_fraction': 0.9719941504319224, 'bagging_fraction': 0.40185571604333503, 'bagging_freq': 7, 'min_child_samples': 12}. Best is trial 5 with value: 0.6600719846871073.\n"
     ]
    },
    {
     "name": "stdout",
     "output_type": "stream",
     "text": [
      "[LightGBM] [Info] Number of positive: 4330, number of negative: 559772\n",
      "[LightGBM] [Info] Auto-choosing col-wise multi-threading, the overhead of testing was 0.040541 seconds.\n",
      "You can set `force_col_wise=true` to remove the overhead.\n",
      "[LightGBM] [Info] Total Bins 5068\n",
      "[LightGBM] [Info] Number of data points in the train set: 564102, number of used features: 21\n",
      "[LightGBM] [Info] [binary:BoostFromScore]: pavg=0.007676 -> initscore=-4.861962\n",
      "[LightGBM] [Info] Start training from score -4.861962\n"
     ]
    },
    {
     "name": "stderr",
     "output_type": "stream",
     "text": [
      "c:\\Users\\Melissa\\AppData\\Local\\Programs\\Python\\Python310\\lib\\site-packages\\sklearn\\metrics\\_classification.py:1344: UndefinedMetricWarning: Precision is ill-defined and being set to 0.0 due to no predicted samples. Use `zero_division` parameter to control this behavior.\n",
      "  _warn_prf(average, modifier, msg_start, len(result))\n",
      "[I 2023-10-17 00:40:35,815] Trial 12 finished with value: 0.6407488521202015 and parameters: {'num_leaves': 3, 'lambda_l1': 8.161711163047116, 'lambda_l2': 3.3552342298852338e-06, 'feature_fraction': 0.9834456156681786, 'bagging_fraction': 0.4098634310767354, 'bagging_freq': 6, 'min_child_samples': 28}. Best is trial 5 with value: 0.6600719846871073.\n"
     ]
    },
    {
     "name": "stdout",
     "output_type": "stream",
     "text": [
      "[LightGBM] [Info] Number of positive: 4330, number of negative: 559772\n",
      "[LightGBM] [Info] Auto-choosing col-wise multi-threading, the overhead of testing was 0.050027 seconds.\n",
      "You can set `force_col_wise=true` to remove the overhead.\n",
      "[LightGBM] [Info] Total Bins 5068\n",
      "[LightGBM] [Info] Number of data points in the train set: 564102, number of used features: 21\n",
      "[LightGBM] [Info] [binary:BoostFromScore]: pavg=0.007676 -> initscore=-4.861962\n",
      "[LightGBM] [Info] Start training from score -4.861962\n"
     ]
    },
    {
     "name": "stderr",
     "output_type": "stream",
     "text": [
      "[I 2023-10-17 00:40:57,894] Trial 13 finished with value: 0.6211314102187724 and parameters: {'num_leaves': 116, 'lambda_l1': 0.001284707591016972, 'lambda_l2': 1.6988916305163855e-06, 'feature_fraction': 0.9066619564697743, 'bagging_fraction': 0.4684274419831032, 'bagging_freq': 7, 'min_child_samples': 52}. Best is trial 5 with value: 0.6600719846871073.\n"
     ]
    },
    {
     "name": "stdout",
     "output_type": "stream",
     "text": [
      "[LightGBM] [Info] Number of positive: 4330, number of negative: 559772\n",
      "[LightGBM] [Info] Auto-choosing col-wise multi-threading, the overhead of testing was 0.044292 seconds.\n",
      "You can set `force_col_wise=true` to remove the overhead.\n",
      "[LightGBM] [Info] Total Bins 5068\n",
      "[LightGBM] [Info] Number of data points in the train set: 564102, number of used features: 21\n",
      "[LightGBM] [Info] [binary:BoostFromScore]: pavg=0.007676 -> initscore=-4.861962\n",
      "[LightGBM] [Info] Start training from score -4.861962\n"
     ]
    },
    {
     "name": "stderr",
     "output_type": "stream",
     "text": [
      "[I 2023-10-17 00:41:11,759] Trial 14 finished with value: 0.5639297121786817 and parameters: {'num_leaves': 67, 'lambda_l1': 0.7772283494281007, 'lambda_l2': 0.00012400181150869953, 'feature_fraction': 0.9950715354584287, 'bagging_fraction': 0.40908788275874014, 'bagging_freq': 6, 'min_child_samples': 6}. Best is trial 5 with value: 0.6600719846871073.\n"
     ]
    },
    {
     "name": "stdout",
     "output_type": "stream",
     "text": [
      "[LightGBM] [Info] Number of positive: 4330, number of negative: 559772\n",
      "[LightGBM] [Info] Auto-choosing col-wise multi-threading, the overhead of testing was 0.051694 seconds.\n",
      "You can set `force_col_wise=true` to remove the overhead.\n",
      "[LightGBM] [Info] Total Bins 5068\n",
      "[LightGBM] [Info] Number of data points in the train set: 564102, number of used features: 21\n",
      "[LightGBM] [Info] [binary:BoostFromScore]: pavg=0.007676 -> initscore=-4.861962\n",
      "[LightGBM] [Info] Start training from score -4.861962\n"
     ]
    },
    {
     "name": "stderr",
     "output_type": "stream",
     "text": [
      "[I 2023-10-17 00:41:41,346] Trial 15 finished with value: 0.5785739868713082 and parameters: {'num_leaves': 223, 'lambda_l1': 0.001080725993890771, 'lambda_l2': 6.896772024642558, 'feature_fraction': 0.8903688749962447, 'bagging_fraction': 0.4884489863977601, 'bagging_freq': 5, 'min_child_samples': 78}. Best is trial 5 with value: 0.6600719846871073.\n"
     ]
    },
    {
     "name": "stdout",
     "output_type": "stream",
     "text": [
      "[LightGBM] [Info] Number of positive: 4330, number of negative: 559772\n",
      "[LightGBM] [Info] Auto-choosing col-wise multi-threading, the overhead of testing was 0.058745 seconds.\n",
      "You can set `force_col_wise=true` to remove the overhead.\n",
      "[LightGBM] [Info] Total Bins 5068\n",
      "[LightGBM] [Info] Number of data points in the train set: 564102, number of used features: 21\n",
      "[LightGBM] [Info] [binary:BoostFromScore]: pavg=0.007676 -> initscore=-4.861962\n",
      "[LightGBM] [Info] Start training from score -4.861962\n"
     ]
    },
    {
     "name": "stderr",
     "output_type": "stream",
     "text": [
      "[I 2023-10-17 00:41:55,208] Trial 16 finished with value: 0.6077957478539638 and parameters: {'num_leaves': 40, 'lambda_l1': 0.1577935056360259, 'lambda_l2': 3.465000346759426e-07, 'feature_fraction': 0.9240731280275694, 'bagging_fraction': 0.5794396594307709, 'bagging_freq': 3, 'min_child_samples': 54}. Best is trial 5 with value: 0.6600719846871073.\n"
     ]
    },
    {
     "name": "stdout",
     "output_type": "stream",
     "text": [
      "[LightGBM] [Info] Number of positive: 4330, number of negative: 559772\n",
      "[LightGBM] [Info] Auto-choosing col-wise multi-threading, the overhead of testing was 0.045897 seconds.\n",
      "You can set `force_col_wise=true` to remove the overhead.\n",
      "[LightGBM] [Info] Total Bins 5068\n",
      "[LightGBM] [Info] Number of data points in the train set: 564102, number of used features: 21\n",
      "[LightGBM] [Info] [binary:BoostFromScore]: pavg=0.007676 -> initscore=-4.861962\n",
      "[LightGBM] [Info] Start training from score -4.861962\n"
     ]
    },
    {
     "name": "stderr",
     "output_type": "stream",
     "text": [
      "[I 2023-10-17 00:42:19,149] Trial 17 finished with value: 0.6129912984252616 and parameters: {'num_leaves': 136, 'lambda_l1': 9.325959281352338e-05, 'lambda_l2': 1.0090910718657916e-08, 'feature_fraction': 0.9994654179500433, 'bagging_fraction': 0.46622917832913435, 'bagging_freq': 6, 'min_child_samples': 23}. Best is trial 5 with value: 0.6600719846871073.\n"
     ]
    },
    {
     "name": "stdout",
     "output_type": "stream",
     "text": [
      "[LightGBM] [Info] Number of positive: 4330, number of negative: 559772\n",
      "[LightGBM] [Info] Auto-choosing col-wise multi-threading, the overhead of testing was 0.058900 seconds.\n",
      "You can set `force_col_wise=true` to remove the overhead.\n",
      "[LightGBM] [Info] Total Bins 5068\n",
      "[LightGBM] [Info] Number of data points in the train set: 564102, number of used features: 21\n",
      "[LightGBM] [Info] [binary:BoostFromScore]: pavg=0.007676 -> initscore=-4.861962\n",
      "[LightGBM] [Info] Start training from score -4.861962\n"
     ]
    },
    {
     "name": "stderr",
     "output_type": "stream",
     "text": [
      "[I 2023-10-17 00:42:37,603] Trial 18 finished with value: 0.6224796552250549 and parameters: {'num_leaves': 89, 'lambda_l1': 0.013699823106648154, 'lambda_l2': 1.5135174591813768e-05, 'feature_fraction': 0.8445653191203151, 'bagging_fraction': 0.6361536850111589, 'bagging_freq': 7, 'min_child_samples': 84}. Best is trial 5 with value: 0.6600719846871073.\n"
     ]
    },
    {
     "name": "stdout",
     "output_type": "stream",
     "text": [
      "[LightGBM] [Info] Number of positive: 4330, number of negative: 559772\n",
      "[LightGBM] [Info] Auto-choosing col-wise multi-threading, the overhead of testing was 0.053268 seconds.\n",
      "You can set `force_col_wise=true` to remove the overhead.\n",
      "[LightGBM] [Info] Total Bins 5068\n",
      "[LightGBM] [Info] Number of data points in the train set: 564102, number of used features: 21\n",
      "[LightGBM] [Info] [binary:BoostFromScore]: pavg=0.007676 -> initscore=-4.861962\n",
      "[LightGBM] [Info] Start training from score -4.861962\n"
     ]
    },
    {
     "name": "stderr",
     "output_type": "stream",
     "text": [
      "[I 2023-10-17 00:42:45,198] Trial 19 finished with value: 0.6659794555937856 and parameters: {'num_leaves': 7, 'lambda_l1': 0.002843135877679122, 'lambda_l2': 7.031181463665935e-07, 'feature_fraction': 0.921038196572129, 'bagging_fraction': 0.5428341941679213, 'bagging_freq': 4, 'min_child_samples': 56}. Best is trial 19 with value: 0.6659794555937856.\n"
     ]
    },
    {
     "name": "stdout",
     "output_type": "stream",
     "text": [
      "[LightGBM] [Info] Number of positive: 4330, number of negative: 559772\n",
      "[LightGBM] [Info] Auto-choosing col-wise multi-threading, the overhead of testing was 0.063118 seconds.\n",
      "You can set `force_col_wise=true` to remove the overhead.\n",
      "[LightGBM] [Info] Total Bins 5068\n",
      "[LightGBM] [Info] Number of data points in the train set: 564102, number of used features: 21\n",
      "[LightGBM] [Info] [binary:BoostFromScore]: pavg=0.007676 -> initscore=-4.861962\n",
      "[LightGBM] [Info] Start training from score -4.861962\n"
     ]
    },
    {
     "name": "stderr",
     "output_type": "stream",
     "text": [
      "[I 2023-10-17 00:42:59,418] Trial 20 finished with value: 0.5901232429512547 and parameters: {'num_leaves': 45, 'lambda_l1': 2.106284088130465e-06, 'lambda_l2': 3.365700174117335e-07, 'feature_fraction': 0.9204421901252421, 'bagging_fraction': 0.5535801480526505, 'bagging_freq': 1, 'min_child_samples': 56}. Best is trial 19 with value: 0.6659794555937856.\n"
     ]
    },
    {
     "name": "stdout",
     "output_type": "stream",
     "text": [
      "[LightGBM] [Info] Number of positive: 4330, number of negative: 559772\n",
      "[LightGBM] [Info] Auto-choosing row-wise multi-threading, the overhead of testing was 0.011075 seconds.\n",
      "You can set `force_row_wise=true` to remove the overhead.\n",
      "And if memory is not enough, you can set `force_col_wise=true`.\n",
      "[LightGBM] [Info] Total Bins 5068\n",
      "[LightGBM] [Info] Number of data points in the train set: 564102, number of used features: 21\n",
      "[LightGBM] [Info] [binary:BoostFromScore]: pavg=0.007676 -> initscore=-4.861962\n",
      "[LightGBM] [Info] Start training from score -4.861962\n"
     ]
    },
    {
     "name": "stderr",
     "output_type": "stream",
     "text": [
      "[I 2023-10-17 00:43:08,976] Trial 21 finished with value: 0.6186316157215497 and parameters: {'num_leaves': 13, 'lambda_l1': 0.0010830719987537953, 'lambda_l2': 7.96341133042148e-06, 'feature_fraction': 0.9270728295103073, 'bagging_fraction': 0.4395582440273903, 'bagging_freq': 3, 'min_child_samples': 43}. Best is trial 19 with value: 0.6659794555937856.\n"
     ]
    },
    {
     "name": "stdout",
     "output_type": "stream",
     "text": [
      "[LightGBM] [Info] Number of positive: 4330, number of negative: 559772\n",
      "[LightGBM] [Info] Auto-choosing col-wise multi-threading, the overhead of testing was 0.044496 seconds.\n",
      "You can set `force_col_wise=true` to remove the overhead.\n",
      "[LightGBM] [Info] Total Bins 5068\n",
      "[LightGBM] [Info] Number of data points in the train set: 564102, number of used features: 21\n",
      "[LightGBM] [Info] [binary:BoostFromScore]: pavg=0.007676 -> initscore=-4.861962\n",
      "[LightGBM] [Info] Start training from score -4.861962\n"
     ]
    },
    {
     "name": "stderr",
     "output_type": "stream",
     "text": [
      "[I 2023-10-17 00:43:19,182] Trial 22 finished with value: 0.6199886679897131 and parameters: {'num_leaves': 27, 'lambda_l1': 0.00011375553131432152, 'lambda_l2': 9.291520689208298e-07, 'feature_fraction': 0.8608210562675284, 'bagging_fraction': 0.5122901755863825, 'bagging_freq': 5, 'min_child_samples': 38}. Best is trial 19 with value: 0.6659794555937856.\n"
     ]
    },
    {
     "name": "stdout",
     "output_type": "stream",
     "text": [
      "[LightGBM] [Info] Number of positive: 4330, number of negative: 559772\n",
      "[LightGBM] [Info] Auto-choosing col-wise multi-threading, the overhead of testing was 0.041987 seconds.\n",
      "You can set `force_col_wise=true` to remove the overhead.\n",
      "[LightGBM] [Info] Total Bins 5068\n",
      "[LightGBM] [Info] Number of data points in the train set: 564102, number of used features: 21\n",
      "[LightGBM] [Info] [binary:BoostFromScore]: pavg=0.007676 -> initscore=-4.861962\n",
      "[LightGBM] [Info] Start training from score -4.861962\n"
     ]
    },
    {
     "name": "stderr",
     "output_type": "stream",
     "text": [
      "c:\\Users\\Melissa\\AppData\\Local\\Programs\\Python\\Python310\\lib\\site-packages\\sklearn\\metrics\\_classification.py:1344: UndefinedMetricWarning: Precision is ill-defined and being set to 0.0 due to no predicted samples. Use `zero_division` parameter to control this behavior.\n",
      "  _warn_prf(average, modifier, msg_start, len(result))\n",
      "[I 2023-10-17 00:43:26,243] Trial 23 finished with value: 0.6511957325880433 and parameters: {'num_leaves': 3, 'lambda_l1': 0.0028741230706235393, 'lambda_l2': 6.842371959208863e-08, 'feature_fraction': 0.9380742495226979, 'bagging_fraction': 0.4528184059039707, 'bagging_freq': 3, 'min_child_samples': 62}. Best is trial 19 with value: 0.6659794555937856.\n"
     ]
    },
    {
     "name": "stdout",
     "output_type": "stream",
     "text": [
      "[LightGBM] [Info] Number of positive: 4330, number of negative: 559772\n",
      "[LightGBM] [Info] Auto-choosing col-wise multi-threading, the overhead of testing was 0.041139 seconds.\n",
      "You can set `force_col_wise=true` to remove the overhead.\n",
      "[LightGBM] [Info] Total Bins 5068\n",
      "[LightGBM] [Info] Number of data points in the train set: 564102, number of used features: 21\n",
      "[LightGBM] [Info] [binary:BoostFromScore]: pavg=0.007676 -> initscore=-4.861962\n",
      "[LightGBM] [Info] Start training from score -4.861962\n"
     ]
    },
    {
     "name": "stderr",
     "output_type": "stream",
     "text": [
      "[I 2023-10-17 00:43:43,632] Trial 24 finished with value: 0.5952182439494111 and parameters: {'num_leaves': 63, 'lambda_l1': 1.2539018625899712, 'lambda_l2': 2.1351929726813145e-05, 'feature_fraction': 0.9434896477480176, 'bagging_fraction': 0.529073557313593, 'bagging_freq': 4, 'min_child_samples': 93}. Best is trial 19 with value: 0.6659794555937856.\n"
     ]
    },
    {
     "name": "stdout",
     "output_type": "stream",
     "text": [
      "[LightGBM] [Info] Number of positive: 4330, number of negative: 559772\n",
      "[LightGBM] [Info] Auto-choosing col-wise multi-threading, the overhead of testing was 0.047289 seconds.\n",
      "You can set `force_col_wise=true` to remove the overhead.\n",
      "[LightGBM] [Info] Total Bins 5068\n",
      "[LightGBM] [Info] Number of data points in the train set: 564102, number of used features: 21\n",
      "[LightGBM] [Info] [binary:BoostFromScore]: pavg=0.007676 -> initscore=-4.861962\n",
      "[LightGBM] [Info] Start training from score -4.861962\n"
     ]
    },
    {
     "name": "stderr",
     "output_type": "stream",
     "text": [
      "[I 2023-10-17 00:44:06,702] Trial 25 finished with value: 0.5896623295794826 and parameters: {'num_leaves': 128, 'lambda_l1': 0.005091209144517962, 'lambda_l2': 6.712807052539195e-07, 'feature_fraction': 0.8759164566099206, 'bagging_fraction': 0.4442163845388642, 'bagging_freq': 6, 'min_child_samples': 73}. Best is trial 19 with value: 0.6659794555937856.\n"
     ]
    },
    {
     "name": "stdout",
     "output_type": "stream",
     "text": [
      "[LightGBM] [Info] Number of positive: 4330, number of negative: 559772\n",
      "[LightGBM] [Info] Auto-choosing col-wise multi-threading, the overhead of testing was 0.041125 seconds.\n",
      "You can set `force_col_wise=true` to remove the overhead.\n",
      "[LightGBM] [Info] Total Bins 5068\n",
      "[LightGBM] [Info] Number of data points in the train set: 564102, number of used features: 21\n",
      "[LightGBM] [Info] [binary:BoostFromScore]: pavg=0.007676 -> initscore=-4.861962\n",
      "[LightGBM] [Info] Start training from score -4.861962\n"
     ]
    },
    {
     "name": "stderr",
     "output_type": "stream",
     "text": [
      "[I 2023-10-17 00:44:18,035] Trial 26 finished with value: 0.6023726763507404 and parameters: {'num_leaves': 32, 'lambda_l1': 0.06187596443400974, 'lambda_l2': 8.895396195296247e-08, 'feature_fraction': 0.9583776342589545, 'bagging_fraction': 0.4039732405505531, 'bagging_freq': 5, 'min_child_samples': 29}. Best is trial 19 with value: 0.6659794555937856.\n"
     ]
    },
    {
     "name": "stdout",
     "output_type": "stream",
     "text": [
      "[LightGBM] [Info] Number of positive: 4330, number of negative: 559772\n",
      "[LightGBM] [Info] Auto-choosing col-wise multi-threading, the overhead of testing was 0.039186 seconds.\n",
      "You can set `force_col_wise=true` to remove the overhead.\n",
      "[LightGBM] [Info] Total Bins 5068\n",
      "[LightGBM] [Info] Number of data points in the train set: 564102, number of used features: 21\n",
      "[LightGBM] [Info] [binary:BoostFromScore]: pavg=0.007676 -> initscore=-4.861962\n",
      "[LightGBM] [Info] Start training from score -4.861962\n"
     ]
    },
    {
     "name": "stderr",
     "output_type": "stream",
     "text": [
      "[I 2023-10-17 00:44:39,299] Trial 27 finished with value: 0.6115769989548716 and parameters: {'num_leaves': 94, 'lambda_l1': 0.0003200206200296573, 'lambda_l2': 4.411190968794334e-06, 'feature_fraction': 0.9991844486246696, 'bagging_fraction': 0.499986028667056, 'bagging_freq': 7, 'min_child_samples': 49}. Best is trial 19 with value: 0.6659794555937856.\n"
     ]
    },
    {
     "name": "stdout",
     "output_type": "stream",
     "text": [
      "[LightGBM] [Info] Number of positive: 4330, number of negative: 559772\n",
      "[LightGBM] [Info] Auto-choosing row-wise multi-threading, the overhead of testing was 0.012696 seconds.\n",
      "You can set `force_row_wise=true` to remove the overhead.\n",
      "And if memory is not enough, you can set `force_col_wise=true`.\n",
      "[LightGBM] [Info] Total Bins 5068\n",
      "[LightGBM] [Info] Number of data points in the train set: 564102, number of used features: 21\n",
      "[LightGBM] [Info] [binary:BoostFromScore]: pavg=0.007676 -> initscore=-4.861962\n",
      "[LightGBM] [Info] Start training from score -4.861962\n"
     ]
    },
    {
     "name": "stderr",
     "output_type": "stream",
     "text": [
      "[I 2023-10-17 00:45:04,338] Trial 28 finished with value: 0.6313104031377339 and parameters: {'num_leaves': 58, 'lambda_l1': 0.007275604965022488, 'lambda_l2': 2.405670032219769e-05, 'feature_fraction': 0.8853854757021699, 'bagging_fraction': 0.5437113285507925, 'bagging_freq': 6, 'min_child_samples': 79}. Best is trial 19 with value: 0.6659794555937856.\n"
     ]
    },
    {
     "name": "stdout",
     "output_type": "stream",
     "text": [
      "[LightGBM] [Info] Number of positive: 4330, number of negative: 559772\n",
      "[LightGBM] [Info] Auto-choosing col-wise multi-threading, the overhead of testing was 0.116841 seconds.\n",
      "You can set `force_col_wise=true` to remove the overhead.\n",
      "[LightGBM] [Info] Total Bins 5068\n",
      "[LightGBM] [Info] Number of data points in the train set: 564102, number of used features: 21\n",
      "[LightGBM] [Info] [binary:BoostFromScore]: pavg=0.007676 -> initscore=-4.861962\n",
      "[LightGBM] [Info] Start training from score -4.861962\n"
     ]
    },
    {
     "name": "stderr",
     "output_type": "stream",
     "text": [
      "[I 2023-10-17 00:45:57,777] Trial 29 finished with value: 0.5983360146552837 and parameters: {'num_leaves': 197, 'lambda_l1': 2.1103349514661812e-05, 'lambda_l2': 2.8970344131907102e-08, 'feature_fraction': 0.8118071283339129, 'bagging_fraction': 0.4851369892549427, 'bagging_freq': 4, 'min_child_samples': 89}. Best is trial 19 with value: 0.6659794555937856.\n"
     ]
    },
    {
     "name": "stdout",
     "output_type": "stream",
     "text": [
      "[LightGBM] [Info] Number of positive: 4330, number of negative: 559772\n",
      "[LightGBM] [Info] Auto-choosing col-wise multi-threading, the overhead of testing was 0.123572 seconds.\n",
      "You can set `force_col_wise=true` to remove the overhead.\n",
      "[LightGBM] [Info] Total Bins 5068\n",
      "[LightGBM] [Info] Number of data points in the train set: 564102, number of used features: 21\n",
      "[LightGBM] [Info] [binary:BoostFromScore]: pavg=0.007676 -> initscore=-4.861962\n",
      "[LightGBM] [Info] Start training from score -4.861962\n"
     ]
    },
    {
     "name": "stderr",
     "output_type": "stream",
     "text": [
      "[I 2023-10-17 00:46:57,250] Trial 30 finished with value: 0.6055976020761652 and parameters: {'num_leaves': 241, 'lambda_l1': 2.2039338466533283e-06, 'lambda_l2': 1.1958380695118282e-08, 'feature_fraction': 0.9363123580221273, 'bagging_fraction': 0.4475547314058349, 'bagging_freq': 7, 'min_child_samples': 60}. Best is trial 19 with value: 0.6659794555937856.\n"
     ]
    },
    {
     "name": "stdout",
     "output_type": "stream",
     "text": [
      "[LightGBM] [Info] Number of positive: 4330, number of negative: 559772\n",
      "[LightGBM] [Info] Auto-choosing col-wise multi-threading, the overhead of testing was 0.102359 seconds.\n",
      "You can set `force_col_wise=true` to remove the overhead.\n",
      "[LightGBM] [Info] Total Bins 5068\n",
      "[LightGBM] [Info] Number of data points in the train set: 564102, number of used features: 21\n",
      "[LightGBM] [Info] [binary:BoostFromScore]: pavg=0.007676 -> initscore=-4.861962\n",
      "[LightGBM] [Info] Start training from score -4.861962\n"
     ]
    },
    {
     "name": "stderr",
     "output_type": "stream",
     "text": [
      "[I 2023-10-17 00:47:12,121] Trial 31 finished with value: 0.6514445377361814 and parameters: {'num_leaves': 6, 'lambda_l1': 0.002934988111654524, 'lambda_l2': 7.528201822761388e-08, 'feature_fraction': 0.9419879042844719, 'bagging_fraction': 0.4508998385686647, 'bagging_freq': 3, 'min_child_samples': 62}. Best is trial 19 with value: 0.6659794555937856.\n"
     ]
    },
    {
     "name": "stdout",
     "output_type": "stream",
     "text": [
      "[LightGBM] [Info] Number of positive: 4330, number of negative: 559772\n",
      "[LightGBM] [Info] Auto-choosing col-wise multi-threading, the overhead of testing was 0.100839 seconds.\n",
      "You can set `force_col_wise=true` to remove the overhead.\n",
      "[LightGBM] [Info] Total Bins 5068\n",
      "[LightGBM] [Info] Number of data points in the train set: 564102, number of used features: 21\n",
      "[LightGBM] [Info] [binary:BoostFromScore]: pavg=0.007676 -> initscore=-4.861962\n",
      "[LightGBM] [Info] Start training from score -4.861962\n"
     ]
    },
    {
     "name": "stderr",
     "output_type": "stream",
     "text": [
      "[I 2023-10-17 00:47:30,597] Trial 32 finished with value: 0.6020820367086674 and parameters: {'num_leaves': 18, 'lambda_l1': 0.0025474457992537966, 'lambda_l2': 2.7030287883763934e-07, 'feature_fraction': 0.9614365843305015, 'bagging_fraction': 0.4992050864871791, 'bagging_freq': 3, 'min_child_samples': 69}. Best is trial 19 with value: 0.6659794555937856.\n"
     ]
    },
    {
     "name": "stdout",
     "output_type": "stream",
     "text": [
      "[LightGBM] [Info] Number of positive: 4330, number of negative: 559772\n",
      "[LightGBM] [Info] Auto-choosing col-wise multi-threading, the overhead of testing was 0.088934 seconds.\n",
      "You can set `force_col_wise=true` to remove the overhead.\n",
      "[LightGBM] [Info] Total Bins 5068\n",
      "[LightGBM] [Info] Number of data points in the train set: 564102, number of used features: 21\n",
      "[LightGBM] [Info] [binary:BoostFromScore]: pavg=0.007676 -> initscore=-4.861962\n",
      "[LightGBM] [Info] Start training from score -4.861962\n"
     ]
    },
    {
     "name": "stderr",
     "output_type": "stream",
     "text": [
      "[I 2023-10-17 00:47:58,624] Trial 33 finished with value: 0.6298623424968 and parameters: {'num_leaves': 51, 'lambda_l1': 0.05145890879656844, 'lambda_l2': 1.687373900993419e-07, 'feature_fraction': 0.9065820874338107, 'bagging_fraction': 0.4364592905998094, 'bagging_freq': 4, 'min_child_samples': 78}. Best is trial 19 with value: 0.6659794555937856.\n"
     ]
    },
    {
     "name": "stdout",
     "output_type": "stream",
     "text": [
      "[LightGBM] [Info] Number of positive: 4330, number of negative: 559772\n",
      "[LightGBM] [Info] Auto-choosing row-wise multi-threading, the overhead of testing was 0.028123 seconds.\n",
      "You can set `force_row_wise=true` to remove the overhead.\n",
      "And if memory is not enough, you can set `force_col_wise=true`.\n",
      "[LightGBM] [Info] Total Bins 5068\n",
      "[LightGBM] [Info] Number of data points in the train set: 564102, number of used features: 21\n",
      "[LightGBM] [Info] [binary:BoostFromScore]: pavg=0.007676 -> initscore=-4.861962\n",
      "[LightGBM] [Info] Start training from score -4.861962\n"
     ]
    },
    {
     "name": "stderr",
     "output_type": "stream",
     "text": [
      "[I 2023-10-17 00:48:36,595] Trial 34 finished with value: 0.6162455816902896 and parameters: {'num_leaves': 76, 'lambda_l1': 0.0005717325665706402, 'lambda_l2': 4.429137857007847e-08, 'feature_fraction': 0.9572302193401644, 'bagging_fraction': 0.46384365105386427, 'bagging_freq': 3, 'min_child_samples': 46}. Best is trial 19 with value: 0.6659794555937856.\n"
     ]
    },
    {
     "name": "stdout",
     "output_type": "stream",
     "text": [
      "[LightGBM] [Info] Number of positive: 4330, number of negative: 559772\n",
      "[LightGBM] [Info] Auto-choosing col-wise multi-threading, the overhead of testing was 0.108191 seconds.\n",
      "You can set `force_col_wise=true` to remove the overhead.\n",
      "[LightGBM] [Info] Total Bins 5068\n",
      "[LightGBM] [Info] Number of data points in the train set: 564102, number of used features: 21\n",
      "[LightGBM] [Info] [binary:BoostFromScore]: pavg=0.007676 -> initscore=-4.861962\n",
      "[LightGBM] [Info] Start training from score -4.861962\n"
     ]
    },
    {
     "name": "stderr",
     "output_type": "stream",
     "text": [
      "c:\\Users\\Melissa\\AppData\\Local\\Programs\\Python\\Python310\\lib\\site-packages\\sklearn\\metrics\\_classification.py:1344: UndefinedMetricWarning: Precision is ill-defined and being set to 0.0 due to no predicted samples. Use `zero_division` parameter to control this behavior.\n",
      "  _warn_prf(average, modifier, msg_start, len(result))\n",
      "[I 2023-10-17 00:48:50,783] Trial 35 finished with value: 0.631975351409749 and parameters: {'num_leaves': 5, 'lambda_l1': 0.007631224820124013, 'lambda_l2': 1.0107898059755474e-06, 'feature_fraction': 0.8589707514326567, 'bagging_fraction': 0.5218081467481995, 'bagging_freq': 5, 'min_child_samples': 35}. Best is trial 19 with value: 0.6659794555937856.\n"
     ]
    },
    {
     "name": "stdout",
     "output_type": "stream",
     "text": [
      "[LightGBM] [Info] Number of positive: 4330, number of negative: 559772\n",
      "[LightGBM] [Info] Auto-choosing col-wise multi-threading, the overhead of testing was 0.097668 seconds.\n",
      "You can set `force_col_wise=true` to remove the overhead.\n",
      "[LightGBM] [Info] Total Bins 5068\n",
      "[LightGBM] [Info] Number of data points in the train set: 564102, number of used features: 21\n",
      "[LightGBM] [Info] [binary:BoostFromScore]: pavg=0.007676 -> initscore=-4.861962\n",
      "[LightGBM] [Info] Start training from score -4.861962\n"
     ]
    },
    {
     "name": "stderr",
     "output_type": "stream",
     "text": [
      "[I 2023-10-17 00:49:12,530] Trial 36 finished with value: 0.6371738377350071 and parameters: {'num_leaves': 28, 'lambda_l1': 4.093832707800598e-05, 'lambda_l2': 1.1063134888535367e-07, 'feature_fraction': 0.8984098727867406, 'bagging_fraction': 0.5841145395855154, 'bagging_freq': 4, 'min_child_samples': 85}. Best is trial 19 with value: 0.6659794555937856.\n"
     ]
    },
    {
     "name": "stdout",
     "output_type": "stream",
     "text": [
      "[LightGBM] [Info] Number of positive: 4330, number of negative: 559772\n",
      "[LightGBM] [Info] Auto-choosing col-wise multi-threading, the overhead of testing was 0.113636 seconds.\n",
      "You can set `force_col_wise=true` to remove the overhead.\n",
      "[LightGBM] [Info] Total Bins 5068\n",
      "[LightGBM] [Info] Number of data points in the train set: 564102, number of used features: 21\n",
      "[LightGBM] [Info] [binary:BoostFromScore]: pavg=0.007676 -> initscore=-4.861962\n",
      "[LightGBM] [Info] Start training from score -4.861962\n"
     ]
    },
    {
     "name": "stderr",
     "output_type": "stream",
     "text": [
      "[I 2023-10-17 00:49:33,007] Trial 37 finished with value: 0.603553583381284 and parameters: {'num_leaves': 19, 'lambda_l1': 0.015774183397856946, 'lambda_l2': 2.8475247874863225e-08, 'feature_fraction': 0.8007436348385568, 'bagging_fraction': 0.43228993985237896, 'bagging_freq': 1, 'min_child_samples': 73}. Best is trial 19 with value: 0.6659794555937856.\n"
     ]
    },
    {
     "name": "stdout",
     "output_type": "stream",
     "text": [
      "[LightGBM] [Info] Number of positive: 4330, number of negative: 559772\n",
      "[LightGBM] [Info] Auto-choosing row-wise multi-threading, the overhead of testing was 0.030872 seconds.\n",
      "You can set `force_row_wise=true` to remove the overhead.\n",
      "And if memory is not enough, you can set `force_col_wise=true`.\n",
      "[LightGBM] [Info] Total Bins 5068\n",
      "[LightGBM] [Info] Number of data points in the train set: 564102, number of used features: 21\n",
      "[LightGBM] [Info] [binary:BoostFromScore]: pavg=0.007676 -> initscore=-4.861962\n",
      "[LightGBM] [Info] Start training from score -4.861962\n"
     ]
    },
    {
     "name": "stderr",
     "output_type": "stream",
     "text": [
      "[I 2023-10-17 00:50:00,993] Trial 38 finished with value: 0.6197288537642238 and parameters: {'num_leaves': 36, 'lambda_l1': 0.0003371979148353188, 'lambda_l2': 5.252157483014775e-07, 'feature_fraction': 0.9704567599690908, 'bagging_fraction': 0.4839273230017711, 'bagging_freq': 2, 'min_child_samples': 67}. Best is trial 19 with value: 0.6659794555937856.\n"
     ]
    },
    {
     "name": "stdout",
     "output_type": "stream",
     "text": [
      "[LightGBM] [Info] Number of positive: 4330, number of negative: 559772\n",
      "[LightGBM] [Info] Auto-choosing col-wise multi-threading, the overhead of testing was 0.112966 seconds.\n",
      "You can set `force_col_wise=true` to remove the overhead.\n",
      "[LightGBM] [Info] Total Bins 5068\n",
      "[LightGBM] [Info] Number of data points in the train set: 564102, number of used features: 21\n",
      "[LightGBM] [Info] [binary:BoostFromScore]: pavg=0.007676 -> initscore=-4.861962\n",
      "[LightGBM] [Info] Start training from score -4.861962\n"
     ]
    },
    {
     "name": "stderr",
     "output_type": "stream",
     "text": [
      "[I 2023-10-17 00:50:28,994] Trial 39 finished with value: 0.6469601735617742 and parameters: {'num_leaves': 52, 'lambda_l1': 0.002471989222248388, 'lambda_l2': 1.3467898536674991e-06, 'feature_fraction': 0.8537380028614322, 'bagging_fraction': 0.528425514640037, 'bagging_freq': 6, 'min_child_samples': 57}. Best is trial 19 with value: 0.6659794555937856.\n"
     ]
    },
    {
     "name": "stdout",
     "output_type": "stream",
     "text": [
      "[LightGBM] [Info] Number of positive: 4330, number of negative: 559772\n",
      "[LightGBM] [Info] Auto-choosing col-wise multi-threading, the overhead of testing was 0.094839 seconds.\n",
      "You can set `force_col_wise=true` to remove the overhead.\n",
      "[LightGBM] [Info] Total Bins 5068\n",
      "[LightGBM] [Info] Number of data points in the train set: 564102, number of used features: 21\n",
      "[LightGBM] [Info] [binary:BoostFromScore]: pavg=0.007676 -> initscore=-4.861962\n",
      "[LightGBM] [Info] Start training from score -4.861962\n"
     ]
    },
    {
     "name": "stderr",
     "output_type": "stream",
     "text": [
      "[I 2023-10-17 00:51:13,856] Trial 40 finished with value: 0.5628522904752398 and parameters: {'num_leaves': 150, 'lambda_l1': 0.02651592178297122, 'lambda_l2': 1.461513794049412e-07, 'feature_fraction': 0.8313459627036927, 'bagging_fraction': 0.40264661723705114, 'bagging_freq': 4, 'min_child_samples': 99}. Best is trial 19 with value: 0.6659794555937856.\n"
     ]
    },
    {
     "name": "stdout",
     "output_type": "stream",
     "text": [
      "[LightGBM] [Info] Number of positive: 4330, number of negative: 559772\n",
      "[LightGBM] [Info] Auto-choosing col-wise multi-threading, the overhead of testing was 0.114649 seconds.\n",
      "You can set `force_col_wise=true` to remove the overhead.\n",
      "[LightGBM] [Info] Total Bins 5068\n",
      "[LightGBM] [Info] Number of data points in the train set: 564102, number of used features: 21\n",
      "[LightGBM] [Info] [binary:BoostFromScore]: pavg=0.007676 -> initscore=-4.861962\n",
      "[LightGBM] [Info] Start training from score -4.861962\n"
     ]
    },
    {
     "name": "stderr",
     "output_type": "stream",
     "text": [
      "c:\\Users\\Melissa\\AppData\\Local\\Programs\\Python\\Python310\\lib\\site-packages\\sklearn\\metrics\\_classification.py:1344: UndefinedMetricWarning: Precision is ill-defined and being set to 0.0 due to no predicted samples. Use `zero_division` parameter to control this behavior.\n",
      "  _warn_prf(average, modifier, msg_start, len(result))\n",
      "[I 2023-10-17 00:51:27,126] Trial 41 finished with value: 0.6504250971734561 and parameters: {'num_leaves': 3, 'lambda_l1': 0.005414088608178457, 'lambda_l2': 5.5009527838855386e-08, 'feature_fraction': 0.9323665087490093, 'bagging_fraction': 0.45031669135874974, 'bagging_freq': 3, 'min_child_samples': 62}. Best is trial 19 with value: 0.6659794555937856.\n"
     ]
    },
    {
     "name": "stdout",
     "output_type": "stream",
     "text": [
      "[LightGBM] [Info] Number of positive: 4330, number of negative: 559772\n",
      "[LightGBM] [Info] Auto-choosing col-wise multi-threading, the overhead of testing was 0.104080 seconds.\n",
      "You can set `force_col_wise=true` to remove the overhead.\n",
      "[LightGBM] [Info] Total Bins 5068\n",
      "[LightGBM] [Info] Number of data points in the train set: 564102, number of used features: 21\n",
      "[LightGBM] [Info] [binary:BoostFromScore]: pavg=0.007676 -> initscore=-4.861962\n",
      "[LightGBM] [Info] Start training from score -4.861962\n"
     ]
    },
    {
     "name": "stderr",
     "output_type": "stream",
     "text": [
      "[I 2023-10-17 00:51:44,446] Trial 42 finished with value: 0.651768204610308 and parameters: {'num_leaves': 14, 'lambda_l1': 0.002701466022416881, 'lambda_l2': 2.8516264069820668e-08, 'feature_fraction': 0.9437501566352634, 'bagging_fraction': 0.43010749397537296, 'bagging_freq': 2, 'min_child_samples': 63}. Best is trial 19 with value: 0.6659794555937856.\n"
     ]
    },
    {
     "name": "stdout",
     "output_type": "stream",
     "text": [
      "[LightGBM] [Info] Number of positive: 4330, number of negative: 559772\n",
      "[LightGBM] [Info] Auto-choosing col-wise multi-threading, the overhead of testing was 0.100519 seconds.\n",
      "You can set `force_col_wise=true` to remove the overhead.\n",
      "[LightGBM] [Info] Total Bins 5068\n",
      "[LightGBM] [Info] Number of data points in the train set: 564102, number of used features: 21\n",
      "[LightGBM] [Info] [binary:BoostFromScore]: pavg=0.007676 -> initscore=-4.861962\n",
      "[LightGBM] [Info] Start training from score -4.861962\n"
     ]
    },
    {
     "name": "stderr",
     "output_type": "stream",
     "text": [
      "[I 2023-10-17 00:52:02,426] Trial 43 finished with value: 0.6497263877308971 and parameters: {'num_leaves': 16, 'lambda_l1': 0.0001301685961494402, 'lambda_l2': 1.969169772637049e-08, 'feature_fraction': 0.972238412272505, 'bagging_fraction': 0.427587098654659, 'bagging_freq': 2, 'min_child_samples': 49}. Best is trial 19 with value: 0.6659794555937856.\n"
     ]
    },
    {
     "name": "stdout",
     "output_type": "stream",
     "text": [
      "[LightGBM] [Info] Number of positive: 4330, number of negative: 559772\n",
      "[LightGBM] [Info] Auto-choosing col-wise multi-threading, the overhead of testing was 0.125470 seconds.\n",
      "You can set `force_col_wise=true` to remove the overhead.\n",
      "[LightGBM] [Info] Total Bins 5068\n",
      "[LightGBM] [Info] Number of data points in the train set: 564102, number of used features: 21\n",
      "[LightGBM] [Info] [binary:BoostFromScore]: pavg=0.007676 -> initscore=-4.861962\n",
      "[LightGBM] [Info] Start training from score -4.861962\n"
     ]
    },
    {
     "name": "stderr",
     "output_type": "stream",
     "text": [
      "[I 2023-10-17 00:52:41,221] Trial 44 finished with value: 0.6282139166480736 and parameters: {'num_leaves': 110, 'lambda_l1': 0.0013607051596864442, 'lambda_l2': 1.9578541205918575e-07, 'feature_fraction': 0.8979206418941259, 'bagging_fraction': 0.4711009447127198, 'bagging_freq': 2, 'min_child_samples': 67}. Best is trial 19 with value: 0.6659794555937856.\n"
     ]
    },
    {
     "name": "stdout",
     "output_type": "stream",
     "text": [
      "[LightGBM] [Info] Number of positive: 4330, number of negative: 559772\n",
      "[LightGBM] [Info] Auto-choosing col-wise multi-threading, the overhead of testing was 0.043214 seconds.\n",
      "You can set `force_col_wise=true` to remove the overhead.\n",
      "[LightGBM] [Info] Total Bins 5068\n",
      "[LightGBM] [Info] Number of data points in the train set: 564102, number of used features: 21\n",
      "[LightGBM] [Info] [binary:BoostFromScore]: pavg=0.007676 -> initscore=-4.861962\n",
      "[LightGBM] [Info] Start training from score -4.861962\n"
     ]
    },
    {
     "name": "stderr",
     "output_type": "stream",
     "text": [
      "[I 2023-10-17 00:53:04,596] Trial 45 finished with value: 0.6057642061134141 and parameters: {'num_leaves': 77, 'lambda_l1': 0.0005586081039137813, 'lambda_l2': 2.5798425116487993e-06, 'feature_fraction': 0.9678751813885929, 'bagging_fraction': 0.416329695171682, 'bagging_freq': 1, 'min_child_samples': 58}. Best is trial 19 with value: 0.6659794555937856.\n"
     ]
    },
    {
     "name": "stdout",
     "output_type": "stream",
     "text": [
      "[LightGBM] [Info] Number of positive: 4330, number of negative: 559772\n",
      "[LightGBM] [Info] Auto-choosing col-wise multi-threading, the overhead of testing was 0.044837 seconds.\n",
      "You can set `force_col_wise=true` to remove the overhead.\n",
      "[LightGBM] [Info] Total Bins 5068\n",
      "[LightGBM] [Info] Number of data points in the train set: 564102, number of used features: 21\n",
      "[LightGBM] [Info] [binary:BoostFromScore]: pavg=0.007676 -> initscore=-4.861962\n",
      "[LightGBM] [Info] Start training from score -4.861962\n"
     ]
    },
    {
     "name": "stderr",
     "output_type": "stream",
     "text": [
      "[I 2023-10-17 00:53:23,672] Trial 46 finished with value: 0.5926934955435256 and parameters: {'num_leaves': 31, 'lambda_l1': 0.23409485950421782, 'lambda_l2': 5.43929772680884e-07, 'feature_fraction': 0.887709900754135, 'bagging_fraction': 0.4971475912923777, 'bagging_freq': 3, 'min_child_samples': 39}. Best is trial 19 with value: 0.6659794555937856.\n"
     ]
    },
    {
     "name": "stdout",
     "output_type": "stream",
     "text": [
      "[LightGBM] [Info] Number of positive: 4330, number of negative: 559772\n",
      "[LightGBM] [Info] Auto-choosing col-wise multi-threading, the overhead of testing was 0.123486 seconds.\n",
      "You can set `force_col_wise=true` to remove the overhead.\n",
      "[LightGBM] [Info] Total Bins 5068\n",
      "[LightGBM] [Info] Number of data points in the train set: 564102, number of used features: 21\n",
      "[LightGBM] [Info] [binary:BoostFromScore]: pavg=0.007676 -> initscore=-4.861962\n",
      "[LightGBM] [Info] Start training from score -4.861962\n"
     ]
    },
    {
     "name": "stderr",
     "output_type": "stream",
     "text": [
      "[I 2023-10-17 00:53:42,415] Trial 47 finished with value: 0.6410893995796001 and parameters: {'num_leaves': 13, 'lambda_l1': 0.020733432450944625, 'lambda_l2': 2.398340116484009e-08, 'feature_fraction': 0.9876184502082165, 'bagging_fraction': 0.42694129270587056, 'bagging_freq': 2, 'min_child_samples': 14}. Best is trial 19 with value: 0.6659794555937856.\n"
     ]
    },
    {
     "name": "stdout",
     "output_type": "stream",
     "text": [
      "[LightGBM] [Info] Number of positive: 4330, number of negative: 559772\n",
      "[LightGBM] [Info] Auto-choosing col-wise multi-threading, the overhead of testing was 0.055816 seconds.\n",
      "You can set `force_col_wise=true` to remove the overhead.\n",
      "[LightGBM] [Info] Total Bins 5068\n",
      "[LightGBM] [Info] Number of data points in the train set: 564102, number of used features: 21\n",
      "[LightGBM] [Info] [binary:BoostFromScore]: pavg=0.007676 -> initscore=-4.861962\n",
      "[LightGBM] [Info] Start training from score -4.861962\n"
     ]
    },
    {
     "name": "stderr",
     "output_type": "stream",
     "text": [
      "[I 2023-10-17 00:53:55,297] Trial 48 finished with value: 0.6577637481357963 and parameters: {'num_leaves': 39, 'lambda_l1': 4.307283601762783e-05, 'lambda_l2': 0.0007864402916544991, 'feature_fraction': 0.9542958808968313, 'bagging_fraction': 0.400109841229817, 'bagging_freq': 7, 'min_child_samples': 52}. Best is trial 19 with value: 0.6659794555937856.\n"
     ]
    },
    {
     "name": "stdout",
     "output_type": "stream",
     "text": [
      "[LightGBM] [Info] Number of positive: 4330, number of negative: 559772\n",
      "[LightGBM] [Info] Auto-choosing col-wise multi-threading, the overhead of testing was 0.043126 seconds.\n",
      "You can set `force_col_wise=true` to remove the overhead.\n",
      "[LightGBM] [Info] Total Bins 5068\n",
      "[LightGBM] [Info] Number of data points in the train set: 564102, number of used features: 21\n",
      "[LightGBM] [Info] [binary:BoostFromScore]: pavg=0.007676 -> initscore=-4.861962\n",
      "[LightGBM] [Info] Start training from score -4.861962\n"
     ]
    },
    {
     "name": "stderr",
     "output_type": "stream",
     "text": [
      "[I 2023-10-17 00:54:08,526] Trial 49 finished with value: 0.5713021243115657 and parameters: {'num_leaves': 68, 'lambda_l1': 8.261638196171414e-06, 'lambda_l2': 0.0007713967472312117, 'feature_fraction': 0.9141759323837109, 'bagging_fraction': 0.4100129351170536, 'bagging_freq': 7, 'min_child_samples': 5}. Best is trial 19 with value: 0.6659794555937856.\n"
     ]
    },
    {
     "name": "stdout",
     "output_type": "stream",
     "text": [
      "[LightGBM] [Info] Number of positive: 4330, number of negative: 559772\n",
      "[LightGBM] [Info] Auto-choosing col-wise multi-threading, the overhead of testing was 0.047071 seconds.\n",
      "You can set `force_col_wise=true` to remove the overhead.\n",
      "[LightGBM] [Info] Total Bins 5068\n",
      "[LightGBM] [Info] Number of data points in the train set: 564102, number of used features: 21\n",
      "[LightGBM] [Info] [binary:BoostFromScore]: pavg=0.007676 -> initscore=-4.861962\n",
      "[LightGBM] [Info] Start training from score -4.861962\n"
     ]
    },
    {
     "name": "stderr",
     "output_type": "stream",
     "text": [
      "[I 2023-10-17 00:54:22,485] Trial 50 finished with value: 0.5995646276876828 and parameters: {'num_leaves': 42, 'lambda_l1': 6.002921380151758e-05, 'lambda_l2': 0.005287723925389579, 'feature_fraction': 0.9983622732620583, 'bagging_fraction': 0.5608756626153025, 'bagging_freq': 7, 'min_child_samples': 28}. Best is trial 19 with value: 0.6659794555937856.\n"
     ]
    },
    {
     "name": "stdout",
     "output_type": "stream",
     "text": [
      "[LightGBM] [Info] Number of positive: 4330, number of negative: 559772\n",
      "[LightGBM] [Info] Auto-choosing col-wise multi-threading, the overhead of testing was 0.047619 seconds.\n",
      "You can set `force_col_wise=true` to remove the overhead.\n",
      "[LightGBM] [Info] Total Bins 5068\n",
      "[LightGBM] [Info] Number of data points in the train set: 564102, number of used features: 21\n",
      "[LightGBM] [Info] [binary:BoostFromScore]: pavg=0.007676 -> initscore=-4.861962\n",
      "[LightGBM] [Info] Start training from score -4.861962\n"
     ]
    },
    {
     "name": "stderr",
     "output_type": "stream",
     "text": [
      "[I 2023-10-17 00:54:31,851] Trial 51 finished with value: 0.6019499277804525 and parameters: {'num_leaves': 23, 'lambda_l1': 0.00017564391075440845, 'lambda_l2': 0.00019494467142109346, 'feature_fraction': 0.9482935698947901, 'bagging_fraction': 0.4653185751889968, 'bagging_freq': 7, 'min_child_samples': 53}. Best is trial 19 with value: 0.6659794555937856.\n"
     ]
    },
    {
     "name": "stdout",
     "output_type": "stream",
     "text": [
      "[LightGBM] [Info] Number of positive: 4330, number of negative: 559772\n",
      "[LightGBM] [Info] Auto-choosing col-wise multi-threading, the overhead of testing was 0.058717 seconds.\n",
      "You can set `force_col_wise=true` to remove the overhead.\n",
      "[LightGBM] [Info] Total Bins 5068\n",
      "[LightGBM] [Info] Number of data points in the train set: 564102, number of used features: 21\n",
      "[LightGBM] [Info] [binary:BoostFromScore]: pavg=0.007676 -> initscore=-4.861962\n",
      "[LightGBM] [Info] Start training from score -4.861962\n"
     ]
    },
    {
     "name": "stderr",
     "output_type": "stream",
     "text": [
      "[I 2023-10-17 00:54:39,309] Trial 52 finished with value: 0.5817284545016852 and parameters: {'num_leaves': 12, 'lambda_l1': 0.0005452324079024696, 'lambda_l2': 1.0310753962202098e-08, 'feature_fraction': 0.9169099361673032, 'bagging_fraction': 0.40010009592839674, 'bagging_freq': 6, 'min_child_samples': 82}. Best is trial 19 with value: 0.6659794555937856.\n"
     ]
    },
    {
     "name": "stdout",
     "output_type": "stream",
     "text": [
      "[LightGBM] [Info] Number of positive: 4330, number of negative: 559772\n",
      "[LightGBM] [Info] Auto-choosing col-wise multi-threading, the overhead of testing was 0.046170 seconds.\n",
      "You can set `force_col_wise=true` to remove the overhead.\n",
      "[LightGBM] [Info] Total Bins 5068\n",
      "[LightGBM] [Info] Number of data points in the train set: 564102, number of used features: 21\n",
      "[LightGBM] [Info] [binary:BoostFromScore]: pavg=0.007676 -> initscore=-4.861962\n",
      "[LightGBM] [Info] Start training from score -4.861962\n"
     ]
    },
    {
     "name": "stderr",
     "output_type": "stream",
     "text": [
      "[I 2023-10-17 00:54:52,801] Trial 53 finished with value: 0.6240759714409855 and parameters: {'num_leaves': 47, 'lambda_l1': 3.039931174787498e-05, 'lambda_l2': 8.973832158225646e-08, 'feature_fraction': 0.9486741636354854, 'bagging_fraction': 0.42936499361843183, 'bagging_freq': 7, 'min_child_samples': 71}. Best is trial 19 with value: 0.6659794555937856.\n"
     ]
    },
    {
     "name": "stdout",
     "output_type": "stream",
     "text": [
      "[LightGBM] [Info] Number of positive: 4330, number of negative: 559772\n",
      "[LightGBM] [Info] Auto-choosing col-wise multi-threading, the overhead of testing was 0.043374 seconds.\n",
      "You can set `force_col_wise=true` to remove the overhead.\n",
      "[LightGBM] [Info] Total Bins 5068\n",
      "[LightGBM] [Info] Number of data points in the train set: 564102, number of used features: 21\n",
      "[LightGBM] [Info] [binary:BoostFromScore]: pavg=0.007676 -> initscore=-4.861962\n",
      "[LightGBM] [Info] Start training from score -4.861962\n"
     ]
    },
    {
     "name": "stderr",
     "output_type": "stream",
     "text": [
      "[I 2023-10-17 00:55:04,588] Trial 54 finished with value: 0.5966707082212854 and parameters: {'num_leaves': 34, 'lambda_l1': 0.00015051227759378417, 'lambda_l2': 6.985052024174032e-05, 'feature_fraction': 0.977924576942481, 'bagging_fraction': 0.4778262296182436, 'bagging_freq': 5, 'min_child_samples': 90}. Best is trial 19 with value: 0.6659794555937856.\n"
     ]
    },
    {
     "name": "stdout",
     "output_type": "stream",
     "text": [
      "[LightGBM] [Info] Number of positive: 4330, number of negative: 559772\n",
      "[LightGBM] [Info] Auto-choosing col-wise multi-threading, the overhead of testing was 0.066898 seconds.\n",
      "You can set `force_col_wise=true` to remove the overhead.\n",
      "[LightGBM] [Info] Total Bins 5068\n",
      "[LightGBM] [Info] Number of data points in the train set: 564102, number of used features: 21\n",
      "[LightGBM] [Info] [binary:BoostFromScore]: pavg=0.007676 -> initscore=-4.861962\n",
      "[LightGBM] [Info] Start training from score -4.861962\n"
     ]
    },
    {
     "name": "stderr",
     "output_type": "stream",
     "text": [
      "[I 2023-10-17 00:55:11,971] Trial 55 finished with value: 0.6244620230867691 and parameters: {'num_leaves': 9, 'lambda_l1': 0.0015616940986441603, 'lambda_l2': 2.6746630688030217e-07, 'feature_fraction': 0.8757746986419908, 'bagging_fraction': 0.46479515744210625, 'bagging_freq': 6, 'min_child_samples': 63}. Best is trial 19 with value: 0.6659794555937856.\n"
     ]
    },
    {
     "name": "stdout",
     "output_type": "stream",
     "text": [
      "[LightGBM] [Info] Number of positive: 4330, number of negative: 559772\n",
      "[LightGBM] [Info] Auto-choosing col-wise multi-threading, the overhead of testing was 0.041448 seconds.\n",
      "You can set `force_col_wise=true` to remove the overhead.\n",
      "[LightGBM] [Info] Total Bins 5068\n",
      "[LightGBM] [Info] Number of data points in the train set: 564102, number of used features: 21\n",
      "[LightGBM] [Info] [binary:BoostFromScore]: pavg=0.007676 -> initscore=-4.861962\n",
      "[LightGBM] [Info] Start training from score -4.861962\n"
     ]
    },
    {
     "name": "stderr",
     "output_type": "stream",
     "text": [
      "[I 2023-10-17 00:55:23,838] Trial 56 finished with value: 0.5909203001514849 and parameters: {'num_leaves': 26, 'lambda_l1': 3.590205588996513, 'lambda_l2': 5.119086916125657e-06, 'feature_fraction': 0.9161743223534007, 'bagging_fraction': 0.4282023953057034, 'bagging_freq': 7, 'min_child_samples': 75}. Best is trial 19 with value: 0.6659794555937856.\n"
     ]
    },
    {
     "name": "stdout",
     "output_type": "stream",
     "text": [
      "[LightGBM] [Info] Number of positive: 4330, number of negative: 559772\n",
      "[LightGBM] [Info] Auto-choosing row-wise multi-threading, the overhead of testing was 0.013960 seconds.\n",
      "You can set `force_row_wise=true` to remove the overhead.\n",
      "And if memory is not enough, you can set `force_col_wise=true`.\n",
      "[LightGBM] [Info] Total Bins 5068\n",
      "[LightGBM] [Info] Number of data points in the train set: 564102, number of used features: 21\n",
      "[LightGBM] [Info] [binary:BoostFromScore]: pavg=0.007676 -> initscore=-4.861962\n",
      "[LightGBM] [Info] Start training from score -4.861962\n"
     ]
    },
    {
     "name": "stderr",
     "output_type": "stream",
     "text": [
      "[I 2023-10-17 00:55:39,867] Trial 57 finished with value: 0.6019440562725319 and parameters: {'num_leaves': 56, 'lambda_l1': 0.23842618979162036, 'lambda_l2': 4.481469665090337e-08, 'feature_fraction': 0.9378350720257408, 'bagging_fraction': 0.5104801270187538, 'bagging_freq': 3, 'min_child_samples': 22}. Best is trial 19 with value: 0.6659794555937856.\n"
     ]
    },
    {
     "name": "stdout",
     "output_type": "stream",
     "text": [
      "[LightGBM] [Info] Number of positive: 4330, number of negative: 559772\n",
      "[LightGBM] [Info] Auto-choosing row-wise multi-threading, the overhead of testing was 0.012174 seconds.\n",
      "You can set `force_row_wise=true` to remove the overhead.\n",
      "And if memory is not enough, you can set `force_col_wise=true`.\n",
      "[LightGBM] [Info] Total Bins 5068\n",
      "[LightGBM] [Info] Number of data points in the train set: 564102, number of used features: 21\n",
      "[LightGBM] [Info] [binary:BoostFromScore]: pavg=0.007676 -> initscore=-4.861962\n",
      "[LightGBM] [Info] Start training from score -4.861962\n"
     ]
    },
    {
     "name": "stderr",
     "output_type": "stream",
     "text": [
      "[I 2023-10-17 00:55:54,836] Trial 58 finished with value: 0.5997158190166398 and parameters: {'num_leaves': 39, 'lambda_l1': 6.647166248108603e-05, 'lambda_l2': 1.45502158238424e-06, 'feature_fraction': 0.974680811849861, 'bagging_fraction': 0.44912496775458494, 'bagging_freq': 2, 'min_child_samples': 50}. Best is trial 19 with value: 0.6659794555937856.\n"
     ]
    },
    {
     "name": "stdout",
     "output_type": "stream",
     "text": [
      "[LightGBM] [Info] Number of positive: 4330, number of negative: 559772\n",
      "[LightGBM] [Info] Auto-choosing col-wise multi-threading, the overhead of testing was 0.047757 seconds.\n",
      "You can set `force_col_wise=true` to remove the overhead.\n",
      "[LightGBM] [Info] Total Bins 5068\n",
      "[LightGBM] [Info] Number of data points in the train set: 564102, number of used features: 21\n",
      "[LightGBM] [Info] [binary:BoostFromScore]: pavg=0.007676 -> initscore=-4.861962\n",
      "[LightGBM] [Info] Start training from score -4.861962\n"
     ]
    },
    {
     "name": "stderr",
     "output_type": "stream",
     "text": [
      "[I 2023-10-17 00:56:12,525] Trial 59 finished with value: 0.6001539802952194 and parameters: {'num_leaves': 90, 'lambda_l1': 0.05975752979859104, 'lambda_l2': 4.538304052483222e-07, 'feature_fraction': 0.6977673779489932, 'bagging_fraction': 0.4858894167359025, 'bagging_freq': 5, 'min_child_samples': 44}. Best is trial 19 with value: 0.6659794555937856.\n"
     ]
    },
    {
     "name": "stdout",
     "output_type": "stream",
     "text": [
      "[LightGBM] [Info] Number of positive: 4330, number of negative: 559772\n",
      "[LightGBM] [Info] Auto-choosing row-wise multi-threading, the overhead of testing was 0.011723 seconds.\n",
      "You can set `force_row_wise=true` to remove the overhead.\n",
      "And if memory is not enough, you can set `force_col_wise=true`.\n",
      "[LightGBM] [Info] Total Bins 5068\n",
      "[LightGBM] [Info] Number of data points in the train set: 564102, number of used features: 21\n",
      "[LightGBM] [Info] [binary:BoostFromScore]: pavg=0.007676 -> initscore=-4.861962\n",
      "[LightGBM] [Info] Start training from score -4.861962\n"
     ]
    },
    {
     "name": "stderr",
     "output_type": "stream",
     "text": [
      "[I 2023-10-17 00:56:30,611] Trial 60 finished with value: 0.6526430592904869 and parameters: {'num_leaves': 69, 'lambda_l1': 0.0002659524386234414, 'lambda_l2': 2.104292664580717e-06, 'feature_fraction': 0.9492737411550455, 'bagging_fraction': 0.4257351225542562, 'bagging_freq': 4, 'min_child_samples': 65}. Best is trial 19 with value: 0.6659794555937856.\n"
     ]
    },
    {
     "name": "stdout",
     "output_type": "stream",
     "text": [
      "[LightGBM] [Info] Number of positive: 4330, number of negative: 559772\n",
      "[LightGBM] [Info] Auto-choosing col-wise multi-threading, the overhead of testing was 0.042744 seconds.\n",
      "You can set `force_col_wise=true` to remove the overhead.\n",
      "[LightGBM] [Info] Total Bins 5068\n",
      "[LightGBM] [Info] Number of data points in the train set: 564102, number of used features: 21\n",
      "[LightGBM] [Info] [binary:BoostFromScore]: pavg=0.007676 -> initscore=-4.861962\n",
      "[LightGBM] [Info] Start training from score -4.861962\n"
     ]
    },
    {
     "name": "stderr",
     "output_type": "stream",
     "text": [
      "[I 2023-10-17 00:56:46,779] Trial 61 finished with value: 0.6775221062273213 and parameters: {'num_leaves': 69, 'lambda_l1': 0.00019666115428383546, 'lambda_l2': 2.704552942274959e-06, 'feature_fraction': 0.9529078374544686, 'bagging_fraction': 0.40073920920252026, 'bagging_freq': 4, 'min_child_samples': 65}. Best is trial 61 with value: 0.6775221062273213.\n"
     ]
    },
    {
     "name": "stdout",
     "output_type": "stream",
     "text": [
      "[LightGBM] [Info] Number of positive: 4330, number of negative: 559772\n",
      "[LightGBM] [Info] Auto-choosing col-wise multi-threading, the overhead of testing was 0.042702 seconds.\n",
      "You can set `force_col_wise=true` to remove the overhead.\n",
      "[LightGBM] [Info] Total Bins 5068\n",
      "[LightGBM] [Info] Number of data points in the train set: 564102, number of used features: 21\n",
      "[LightGBM] [Info] [binary:BoostFromScore]: pavg=0.007676 -> initscore=-4.861962\n",
      "[LightGBM] [Info] Start training from score -4.861962\n"
     ]
    },
    {
     "name": "stderr",
     "output_type": "stream",
     "text": [
      "[I 2023-10-17 00:57:03,797] Trial 62 finished with value: 0.6160848491609615 and parameters: {'num_leaves': 71, 'lambda_l1': 0.00028216893863732494, 'lambda_l2': 7.852986669185877e-06, 'feature_fraction': 0.984345679967148, 'bagging_fraction': 0.40272105870455893, 'bagging_freq': 4, 'min_child_samples': 65}. Best is trial 61 with value: 0.6775221062273213.\n"
     ]
    },
    {
     "name": "stdout",
     "output_type": "stream",
     "text": [
      "[LightGBM] [Info] Number of positive: 4330, number of negative: 559772\n",
      "[LightGBM] [Info] Auto-choosing col-wise multi-threading, the overhead of testing was 0.044337 seconds.\n",
      "You can set `force_col_wise=true` to remove the overhead.\n",
      "[LightGBM] [Info] Total Bins 5068\n",
      "[LightGBM] [Info] Number of data points in the train set: 564102, number of used features: 21\n",
      "[LightGBM] [Info] [binary:BoostFromScore]: pavg=0.007676 -> initscore=-4.861962\n",
      "[LightGBM] [Info] Start training from score -4.861962\n"
     ]
    },
    {
     "name": "stderr",
     "output_type": "stream",
     "text": [
      "[I 2023-10-17 00:57:21,865] Trial 63 finished with value: 0.5855867691440516 and parameters: {'num_leaves': 84, 'lambda_l1': 9.595326215530556e-05, 'lambda_l2': 2.5099255843356037e-06, 'feature_fraction': 0.9255999294115836, 'bagging_fraction': 0.4228336342175868, 'bagging_freq': 4, 'min_child_samples': 58}. Best is trial 61 with value: 0.6775221062273213.\n"
     ]
    },
    {
     "name": "stdout",
     "output_type": "stream",
     "text": [
      "[LightGBM] [Info] Number of positive: 4330, number of negative: 559772\n",
      "[LightGBM] [Info] Auto-choosing col-wise multi-threading, the overhead of testing was 0.042702 seconds.\n",
      "You can set `force_col_wise=true` to remove the overhead.\n",
      "[LightGBM] [Info] Total Bins 5068\n",
      "[LightGBM] [Info] Number of data points in the train set: 564102, number of used features: 21\n",
      "[LightGBM] [Info] [binary:BoostFromScore]: pavg=0.007676 -> initscore=-4.861962\n",
      "[LightGBM] [Info] Start training from score -4.861962\n"
     ]
    },
    {
     "name": "stderr",
     "output_type": "stream",
     "text": [
      "[I 2023-10-17 00:57:41,406] Trial 64 finished with value: 0.6035822069823973 and parameters: {'num_leaves': 99, 'lambda_l1': 1.1973319043916332e-05, 'lambda_l2': 9.20189518625035e-07, 'feature_fraction': 0.9563167892150433, 'bagging_fraction': 0.4209460003335568, 'bagging_freq': 6, 'min_child_samples': 54}. Best is trial 61 with value: 0.6775221062273213.\n"
     ]
    },
    {
     "name": "stdout",
     "output_type": "stream",
     "text": [
      "[LightGBM] [Info] Number of positive: 4330, number of negative: 559772\n",
      "[LightGBM] [Info] Auto-choosing col-wise multi-threading, the overhead of testing was 0.044259 seconds.\n",
      "You can set `force_col_wise=true` to remove the overhead.\n",
      "[LightGBM] [Info] Total Bins 5068\n",
      "[LightGBM] [Info] Number of data points in the train set: 564102, number of used features: 21\n",
      "[LightGBM] [Info] [binary:BoostFromScore]: pavg=0.007676 -> initscore=-4.861962\n",
      "[LightGBM] [Info] Start training from score -4.861962\n"
     ]
    },
    {
     "name": "stderr",
     "output_type": "stream",
     "text": [
      "[I 2023-10-17 00:58:01,610] Trial 65 finished with value: 0.5935749556701152 and parameters: {'num_leaves': 107, 'lambda_l1': 0.000628643716778503, 'lambda_l2': 1.3156125753210866e-05, 'feature_fraction': 0.9003974050113023, 'bagging_fraction': 0.4457624362797119, 'bagging_freq': 5, 'min_child_samples': 76}. Best is trial 61 with value: 0.6775221062273213.\n"
     ]
    },
    {
     "name": "stdout",
     "output_type": "stream",
     "text": [
      "[LightGBM] [Info] Number of positive: 4330, number of negative: 559772\n",
      "[LightGBM] [Info] Auto-choosing col-wise multi-threading, the overhead of testing was 0.065322 seconds.\n",
      "You can set `force_col_wise=true` to remove the overhead.\n",
      "[LightGBM] [Info] Total Bins 5068\n",
      "[LightGBM] [Info] Number of data points in the train set: 564102, number of used features: 21\n",
      "[LightGBM] [Info] [binary:BoostFromScore]: pavg=0.007676 -> initscore=-4.861962\n",
      "[LightGBM] [Info] Start training from score -4.861962\n"
     ]
    },
    {
     "name": "stderr",
     "output_type": "stream",
     "text": [
      "[I 2023-10-17 00:58:17,708] Trial 66 finished with value: 0.6622158190166398 and parameters: {'num_leaves': 61, 'lambda_l1': 0.00024446212198844905, 'lambda_l2': 2.077958149497257e-06, 'feature_fraction': 0.998370800537139, 'bagging_fraction': 0.466683073612954, 'bagging_freq': 4, 'min_child_samples': 70}. Best is trial 61 with value: 0.6775221062273213.\n"
     ]
    },
    {
     "name": "stdout",
     "output_type": "stream",
     "text": [
      "[LightGBM] [Info] Number of positive: 4330, number of negative: 559772\n",
      "[LightGBM] [Info] Auto-choosing row-wise multi-threading, the overhead of testing was 0.012074 seconds.\n",
      "You can set `force_row_wise=true` to remove the overhead.\n",
      "And if memory is not enough, you can set `force_col_wise=true`.\n",
      "[LightGBM] [Info] Total Bins 5068\n",
      "[LightGBM] [Info] Number of data points in the train set: 564102, number of used features: 21\n",
      "[LightGBM] [Info] [binary:BoostFromScore]: pavg=0.007676 -> initscore=-4.861962\n",
      "[LightGBM] [Info] Start training from score -4.861962\n"
     ]
    },
    {
     "name": "stderr",
     "output_type": "stream",
     "text": [
      "[I 2023-10-17 00:58:35,490] Trial 67 finished with value: 0.6503172082154138 and parameters: {'num_leaves': 63, 'lambda_l1': 0.00022047533967830478, 'lambda_l2': 1.7686315026032097e-06, 'feature_fraction': 0.9776853451767668, 'bagging_fraction': 0.46349545237936207, 'bagging_freq': 4, 'min_child_samples': 70}. Best is trial 61 with value: 0.6775221062273213.\n"
     ]
    },
    {
     "name": "stdout",
     "output_type": "stream",
     "text": [
      "[LightGBM] [Info] Number of positive: 4330, number of negative: 559772\n",
      "[LightGBM] [Info] Auto-choosing row-wise multi-threading, the overhead of testing was 0.011933 seconds.\n",
      "You can set `force_row_wise=true` to remove the overhead.\n",
      "And if memory is not enough, you can set `force_col_wise=true`.\n",
      "[LightGBM] [Info] Total Bins 5068\n",
      "[LightGBM] [Info] Number of data points in the train set: 564102, number of used features: 21\n",
      "[LightGBM] [Info] [binary:BoostFromScore]: pavg=0.007676 -> initscore=-4.861962\n",
      "[LightGBM] [Info] Start training from score -4.861962\n"
     ]
    },
    {
     "name": "stderr",
     "output_type": "stream",
     "text": [
      "[I 2023-10-17 00:59:01,544] Trial 68 finished with value: 0.6048842138638044 and parameters: {'num_leaves': 122, 'lambda_l1': 4.8588109482060336e-05, 'lambda_l2': 4.09937808312094e-06, 'feature_fraction': 0.9982829305179011, 'bagging_fraction': 0.5397835872485912, 'bagging_freq': 4, 'min_child_samples': 83}. Best is trial 61 with value: 0.6775221062273213.\n"
     ]
    },
    {
     "name": "stdout",
     "output_type": "stream",
     "text": [
      "[LightGBM] [Info] Number of positive: 4330, number of negative: 559772\n",
      "[LightGBM] [Info] Auto-choosing col-wise multi-threading, the overhead of testing was 0.044053 seconds.\n",
      "You can set `force_col_wise=true` to remove the overhead.\n",
      "[LightGBM] [Info] Total Bins 5068\n",
      "[LightGBM] [Info] Number of data points in the train set: 564102, number of used features: 21\n",
      "[LightGBM] [Info] [binary:BoostFromScore]: pavg=0.007676 -> initscore=-4.861962\n",
      "[LightGBM] [Info] Start training from score -4.861962\n"
     ]
    },
    {
     "name": "stderr",
     "output_type": "stream",
     "text": [
      "[I 2023-10-17 00:59:21,401] Trial 69 finished with value: 0.6508008736803785 and parameters: {'num_leaves': 82, 'lambda_l1': 2.6315122048772044e-05, 'lambda_l2': 3.186120831567978e-05, 'feature_fraction': 0.9600693528624872, 'bagging_fraction': 0.5124031068664412, 'bagging_freq': 4, 'min_child_samples': 80}. Best is trial 61 with value: 0.6775221062273213.\n"
     ]
    },
    {
     "name": "stdout",
     "output_type": "stream",
     "text": [
      "[LightGBM] [Info] Number of positive: 4330, number of negative: 559772\n",
      "[LightGBM] [Info] Auto-choosing row-wise multi-threading, the overhead of testing was 0.015066 seconds.\n",
      "You can set `force_row_wise=true` to remove the overhead.\n",
      "And if memory is not enough, you can set `force_col_wise=true`.\n",
      "[LightGBM] [Info] Total Bins 5068\n",
      "[LightGBM] [Info] Number of data points in the train set: 564102, number of used features: 21\n",
      "[LightGBM] [Info] [binary:BoostFromScore]: pavg=0.007676 -> initscore=-4.861962\n",
      "[LightGBM] [Info] Start training from score -4.861962\n"
     ]
    },
    {
     "name": "stderr",
     "output_type": "stream",
     "text": [
      "[I 2023-10-17 00:59:35,575] Trial 70 finished with value: 0.5675164695797176 and parameters: {'num_leaves': 58, 'lambda_l1': 0.0008077459864476171, 'lambda_l2': 8.100655469575879e-07, 'feature_fraction': 0.9299057448510738, 'bagging_fraction': 0.41279001938305077, 'bagging_freq': 5, 'min_child_samples': 10}. Best is trial 61 with value: 0.6775221062273213.\n"
     ]
    },
    {
     "name": "stdout",
     "output_type": "stream",
     "text": [
      "[LightGBM] [Info] Number of positive: 4330, number of negative: 559772\n",
      "[LightGBM] [Info] Auto-choosing col-wise multi-threading, the overhead of testing was 0.044718 seconds.\n",
      "You can set `force_col_wise=true` to remove the overhead.\n",
      "[LightGBM] [Info] Total Bins 5068\n",
      "[LightGBM] [Info] Number of data points in the train set: 564102, number of used features: 21\n",
      "[LightGBM] [Info] [binary:BoostFromScore]: pavg=0.007676 -> initscore=-4.861962\n",
      "[LightGBM] [Info] Start training from score -4.861962\n"
     ]
    },
    {
     "name": "stderr",
     "output_type": "stream",
     "text": [
      "[I 2023-10-17 00:59:49,375] Trial 71 finished with value: 0.6412251782002654 and parameters: {'num_leaves': 47, 'lambda_l1': 0.00033444533846945635, 'lambda_l2': 7.4898826496373365e-06, 'feature_fraction': 0.9533032577133305, 'bagging_fraction': 0.44023691580901386, 'bagging_freq': 4, 'min_child_samples': 64}. Best is trial 61 with value: 0.6775221062273213.\n"
     ]
    },
    {
     "name": "stdout",
     "output_type": "stream",
     "text": [
      "[LightGBM] [Info] Number of positive: 4330, number of negative: 559772\n",
      "[LightGBM] [Info] Auto-choosing col-wise multi-threading, the overhead of testing was 0.046322 seconds.\n",
      "You can set `force_col_wise=true` to remove the overhead.\n",
      "[LightGBM] [Info] Total Bins 5068\n",
      "[LightGBM] [Info] Number of data points in the train set: 564102, number of used features: 21\n",
      "[LightGBM] [Info] [binary:BoostFromScore]: pavg=0.007676 -> initscore=-4.861962\n",
      "[LightGBM] [Info] Start training from score -4.861962\n"
     ]
    },
    {
     "name": "stderr",
     "output_type": "stream",
     "text": [
      "[I 2023-10-17 00:59:59,619] Trial 72 finished with value: 0.578579858379229 and parameters: {'num_leaves': 22, 'lambda_l1': 9.039652547294568e-05, 'lambda_l2': 2.6271487603040605e-07, 'feature_fraction': 0.9840015128039508, 'bagging_fraction': 0.4794082120292147, 'bagging_freq': 5, 'min_child_samples': 88}. Best is trial 61 with value: 0.6775221062273213.\n"
     ]
    },
    {
     "name": "stdout",
     "output_type": "stream",
     "text": [
      "[LightGBM] [Info] Number of positive: 4330, number of negative: 559772\n",
      "[LightGBM] [Info] Auto-choosing col-wise multi-threading, the overhead of testing was 0.050728 seconds.\n",
      "You can set `force_col_wise=true` to remove the overhead.\n",
      "[LightGBM] [Info] Total Bins 5068\n",
      "[LightGBM] [Info] Number of data points in the train set: 564102, number of used features: 21\n",
      "[LightGBM] [Info] [binary:BoostFromScore]: pavg=0.007676 -> initscore=-4.861962\n",
      "[LightGBM] [Info] Start training from score -4.861962\n"
     ]
    },
    {
     "name": "stderr",
     "output_type": "stream",
     "text": [
      "[I 2023-10-17 01:00:16,075] Trial 73 finished with value: 0.6288818006740491 and parameters: {'num_leaves': 68, 'lambda_l1': 0.00017594698429311483, 'lambda_l2': 2.2523560210353525e-06, 'feature_fraction': 0.9438471805648904, 'bagging_fraction': 0.44025891297210257, 'bagging_freq': 4, 'min_child_samples': 67}. Best is trial 61 with value: 0.6775221062273213.\n"
     ]
    },
    {
     "name": "stdout",
     "output_type": "stream",
     "text": [
      "[LightGBM] [Info] Number of positive: 4330, number of negative: 559772\n",
      "[LightGBM] [Info] Auto-choosing col-wise multi-threading, the overhead of testing was 0.048914 seconds.\n",
      "You can set `force_col_wise=true` to remove the overhead.\n",
      "[LightGBM] [Info] Total Bins 5068\n",
      "[LightGBM] [Info] Number of data points in the train set: 564102, number of used features: 21\n",
      "[LightGBM] [Info] [binary:BoostFromScore]: pavg=0.007676 -> initscore=-4.861962\n",
      "[LightGBM] [Info] Start training from score -4.861962\n"
     ]
    },
    {
     "name": "stderr",
     "output_type": "stream",
     "text": [
      "[I 2023-10-17 01:00:28,365] Trial 74 finished with value: 0.6590562138168324 and parameters: {'num_leaves': 43, 'lambda_l1': 0.0012981199877761368, 'lambda_l2': 4.5314029519082213e-07, 'feature_fraction': 0.8785395389848618, 'bagging_fraction': 0.45607297477457515, 'bagging_freq': 7, 'min_child_samples': 55}. Best is trial 61 with value: 0.6775221062273213.\n"
     ]
    },
    {
     "name": "stdout",
     "output_type": "stream",
     "text": [
      "[LightGBM] [Info] Number of positive: 4330, number of negative: 559772\n",
      "[LightGBM] [Info] Auto-choosing col-wise multi-threading, the overhead of testing was 0.045240 seconds.\n",
      "You can set `force_col_wise=true` to remove the overhead.\n",
      "[LightGBM] [Info] Total Bins 5068\n",
      "[LightGBM] [Info] Number of data points in the train set: 564102, number of used features: 21\n",
      "[LightGBM] [Info] [binary:BoostFromScore]: pavg=0.007676 -> initscore=-4.861962\n",
      "[LightGBM] [Info] Start training from score -4.861962\n"
     ]
    },
    {
     "name": "stderr",
     "output_type": "stream",
     "text": [
      "[I 2023-10-17 01:00:44,782] Trial 75 finished with value: 0.6503406942470966 and parameters: {'num_leaves': 74, 'lambda_l1': 0.00042037510896839655, 'lambda_l2': 5.376035572912483e-07, 'feature_fraction': 0.9106549424024075, 'bagging_fraction': 0.4007506779590671, 'bagging_freq': 7, 'min_child_samples': 56}. Best is trial 61 with value: 0.6775221062273213.\n"
     ]
    },
    {
     "name": "stdout",
     "output_type": "stream",
     "text": [
      "[LightGBM] [Info] Number of positive: 4330, number of negative: 559772\n",
      "[LightGBM] [Info] Auto-choosing col-wise multi-threading, the overhead of testing was 0.067862 seconds.\n",
      "You can set `force_col_wise=true` to remove the overhead.\n",
      "[LightGBM] [Info] Total Bins 5068\n",
      "[LightGBM] [Info] Number of data points in the train set: 564102, number of used features: 21\n",
      "[LightGBM] [Info] [binary:BoostFromScore]: pavg=0.007676 -> initscore=-4.861962\n",
      "[LightGBM] [Info] Start training from score -4.861962\n"
     ]
    },
    {
     "name": "stderr",
     "output_type": "stream",
     "text": [
      "[I 2023-10-17 01:00:59,039] Trial 76 finished with value: 0.6083168441819228 and parameters: {'num_leaves': 53, 'lambda_l1': 0.00023613343770431818, 'lambda_l2': 1.0323801609414317e-06, 'feature_fraction': 0.8816517615832586, 'bagging_fraction': 0.45299239355403326, 'bagging_freq': 6, 'min_child_samples': 46}. Best is trial 61 with value: 0.6775221062273213.\n"
     ]
    },
    {
     "name": "stdout",
     "output_type": "stream",
     "text": [
      "[LightGBM] [Info] Number of positive: 4330, number of negative: 559772\n",
      "[LightGBM] [Info] Auto-choosing col-wise multi-threading, the overhead of testing was 0.043816 seconds.\n",
      "You can set `force_col_wise=true` to remove the overhead.\n",
      "[LightGBM] [Info] Total Bins 5068\n",
      "[LightGBM] [Info] Number of data points in the train set: 564102, number of used features: 21\n",
      "[LightGBM] [Info] [binary:BoostFromScore]: pavg=0.007676 -> initscore=-4.861962\n",
      "[LightGBM] [Info] Start training from score -4.861962\n"
     ]
    },
    {
     "name": "stderr",
     "output_type": "stream",
     "text": [
      "[I 2023-10-17 01:01:13,646] Trial 77 finished with value: 0.6156444860669117 and parameters: {'num_leaves': 62, 'lambda_l1': 0.0012001565973142202, 'lambda_l2': 1.5735367111557758e-07, 'feature_fraction': 0.86904538720203, 'bagging_fraction': 0.48769345297850764, 'bagging_freq': 7, 'min_child_samples': 59}. Best is trial 61 with value: 0.6775221062273213.\n"
     ]
    },
    {
     "name": "stdout",
     "output_type": "stream",
     "text": [
      "[LightGBM] [Info] Number of positive: 4330, number of negative: 559772\n",
      "[LightGBM] [Info] Auto-choosing col-wise multi-threading, the overhead of testing was 0.050433 seconds.\n",
      "You can set `force_col_wise=true` to remove the overhead.\n",
      "[LightGBM] [Info] Total Bins 5068\n",
      "[LightGBM] [Info] Number of data points in the train set: 564102, number of used features: 21\n",
      "[LightGBM] [Info] [binary:BoostFromScore]: pavg=0.007676 -> initscore=-4.861962\n",
      "[LightGBM] [Info] Start training from score -4.861962\n"
     ]
    },
    {
     "name": "stderr",
     "output_type": "stream",
     "text": [
      "[I 2023-10-17 01:01:33,460] Trial 78 finished with value: 0.6364707246615076 and parameters: {'num_leaves': 97, 'lambda_l1': 0.0009431030485272104, 'lambda_l2': 2.8955036083387044e-06, 'feature_fraction': 0.9642916420382845, 'bagging_fraction': 0.4180697869604706, 'bagging_freq': 7, 'min_child_samples': 51}. Best is trial 61 with value: 0.6775221062273213.\n"
     ]
    },
    {
     "name": "stdout",
     "output_type": "stream",
     "text": [
      "[LightGBM] [Info] Number of positive: 4330, number of negative: 559772\n",
      "[LightGBM] [Info] Auto-choosing col-wise multi-threading, the overhead of testing was 0.046812 seconds.\n",
      "You can set `force_col_wise=true` to remove the overhead.\n",
      "[LightGBM] [Info] Total Bins 5068\n",
      "[LightGBM] [Info] Number of data points in the train set: 564102, number of used features: 21\n",
      "[LightGBM] [Info] [binary:BoostFromScore]: pavg=0.007676 -> initscore=-4.861962\n",
      "[LightGBM] [Info] Start training from score -4.861962\n"
     ]
    },
    {
     "name": "stderr",
     "output_type": "stream",
     "text": [
      "[I 2023-10-17 01:01:46,439] Trial 79 finished with value: 0.5653829103890461 and parameters: {'num_leaves': 43, 'lambda_l1': 8.958091814369866e-05, 'lambda_l2': 1.4611205931984816e-06, 'feature_fraction': 0.9296977514555262, 'bagging_fraction': 0.49752949437803456, 'bagging_freq': 4, 'min_child_samples': 94}. Best is trial 61 with value: 0.6775221062273213.\n"
     ]
    },
    {
     "name": "stdout",
     "output_type": "stream",
     "text": [
      "[LightGBM] [Info] Number of positive: 4330, number of negative: 559772\n",
      "[LightGBM] [Info] Auto-choosing col-wise multi-threading, the overhead of testing was 0.049426 seconds.\n",
      "You can set `force_col_wise=true` to remove the overhead.\n",
      "[LightGBM] [Info] Total Bins 5068\n",
      "[LightGBM] [Info] Number of data points in the train set: 564102, number of used features: 21\n",
      "[LightGBM] [Info] [binary:BoostFromScore]: pavg=0.007676 -> initscore=-4.861962\n",
      "[LightGBM] [Info] Start training from score -4.861962\n"
     ]
    },
    {
     "name": "stderr",
     "output_type": "stream",
     "text": [
      "[I 2023-10-17 01:02:05,033] Trial 80 finished with value: 0.6176774956844416 and parameters: {'num_leaves': 87, 'lambda_l1': 0.0075649217343657085, 'lambda_l2': 5.166136262220522e-06, 'feature_fraction': 0.8996609558843044, 'bagging_fraction': 0.4594677113454638, 'bagging_freq': 7, 'min_child_samples': 75}. Best is trial 61 with value: 0.6775221062273213.\n"
     ]
    },
    {
     "name": "stdout",
     "output_type": "stream",
     "text": [
      "[LightGBM] [Info] Number of positive: 4330, number of negative: 559772\n",
      "[LightGBM] [Info] Auto-choosing col-wise multi-threading, the overhead of testing was 0.046222 seconds.\n",
      "You can set `force_col_wise=true` to remove the overhead.\n",
      "[LightGBM] [Info] Total Bins 5068\n",
      "[LightGBM] [Info] Number of data points in the train set: 564102, number of used features: 21\n",
      "[LightGBM] [Info] [binary:BoostFromScore]: pavg=0.007676 -> initscore=-4.861962\n",
      "[LightGBM] [Info] Start training from score -4.861962\n"
     ]
    },
    {
     "name": "stderr",
     "output_type": "stream",
     "text": [
      "[I 2023-10-17 01:02:16,187] Trial 81 finished with value: 0.5976013422267106 and parameters: {'num_leaves': 35, 'lambda_l1': 0.0036735657196867574, 'lambda_l2': 3.6396588899698293e-07, 'feature_fraction': 0.9455679193151991, 'bagging_fraction': 0.43001666447701853, 'bagging_freq': 6, 'min_child_samples': 61}. Best is trial 61 with value: 0.6775221062273213.\n"
     ]
    },
    {
     "name": "stdout",
     "output_type": "stream",
     "text": [
      "[LightGBM] [Info] Number of positive: 4330, number of negative: 559772\n",
      "[LightGBM] [Info] Auto-choosing col-wise multi-threading, the overhead of testing was 0.047785 seconds.\n",
      "You can set `force_col_wise=true` to remove the overhead.\n",
      "[LightGBM] [Info] Total Bins 5068\n",
      "[LightGBM] [Info] Number of data points in the train set: 564102, number of used features: 21\n",
      "[LightGBM] [Info] [binary:BoostFromScore]: pavg=0.007676 -> initscore=-4.861962\n",
      "[LightGBM] [Info] Start training from score -4.861962\n"
     ]
    },
    {
     "name": "stderr",
     "output_type": "stream",
     "text": [
      "[I 2023-10-17 01:02:26,073] Trial 82 finished with value: 0.6216642495625726 and parameters: {'num_leaves': 19, 'lambda_l1': 0.0025129482638147154, 'lambda_l2': 7.056596576088216e-07, 'feature_fraction': 0.9892191937953543, 'bagging_fraction': 0.41441021980270987, 'bagging_freq': 3, 'min_child_samples': 55}. Best is trial 61 with value: 0.6775221062273213.\n"
     ]
    },
    {
     "name": "stdout",
     "output_type": "stream",
     "text": [
      "[LightGBM] [Info] Number of positive: 4330, number of negative: 559772\n",
      "[LightGBM] [Info] Auto-choosing col-wise multi-threading, the overhead of testing was 0.048093 seconds.\n",
      "You can set `force_col_wise=true` to remove the overhead.\n",
      "[LightGBM] [Info] Total Bins 5068\n",
      "[LightGBM] [Info] Number of data points in the train set: 564102, number of used features: 21\n",
      "[LightGBM] [Info] [binary:BoostFromScore]: pavg=0.007676 -> initscore=-4.861962\n",
      "[LightGBM] [Info] Start training from score -4.861962\n"
     ]
    },
    {
     "name": "stderr",
     "output_type": "stream",
     "text": [
      "[I 2023-10-17 01:02:36,903] Trial 83 finished with value: 0.5778884883215707 and parameters: {'num_leaves': 28, 'lambda_l1': 0.0004793815334327517, 'lambda_l2': 1.0581743446358778e-07, 'feature_fraction': 0.9655777659568887, 'bagging_fraction': 0.4379213599718634, 'bagging_freq': 7, 'min_child_samples': 66}. Best is trial 61 with value: 0.6775221062273213.\n"
     ]
    },
    {
     "name": "stdout",
     "output_type": "stream",
     "text": [
      "[LightGBM] [Info] Number of positive: 4330, number of negative: 559772\n",
      "[LightGBM] [Info] Auto-choosing col-wise multi-threading, the overhead of testing was 0.046589 seconds.\n",
      "You can set `force_col_wise=true` to remove the overhead.\n",
      "[LightGBM] [Info] Total Bins 5068\n",
      "[LightGBM] [Info] Number of data points in the train set: 564102, number of used features: 21\n",
      "[LightGBM] [Info] [binary:BoostFromScore]: pavg=0.007676 -> initscore=-4.861962\n",
      "[LightGBM] [Info] Start training from score -4.861962\n"
     ]
    },
    {
     "name": "stderr",
     "output_type": "stream",
     "text": [
      "[I 2023-10-17 01:02:50,200] Trial 84 finished with value: 0.646976320208556 and parameters: {'num_leaves': 49, 'lambda_l1': 0.0017959761422791387, 'lambda_l2': 2.391298468311191e-07, 'feature_fraction': 0.9269737400094952, 'bagging_fraction': 0.4733481224814492, 'bagging_freq': 4, 'min_child_samples': 69}. Best is trial 61 with value: 0.6775221062273213.\n"
     ]
    },
    {
     "name": "stdout",
     "output_type": "stream",
     "text": [
      "[LightGBM] [Info] Number of positive: 4330, number of negative: 559772\n",
      "[LightGBM] [Info] Auto-choosing row-wise multi-threading, the overhead of testing was 0.011651 seconds.\n",
      "You can set `force_row_wise=true` to remove the overhead.\n",
      "And if memory is not enough, you can set `force_col_wise=true`.\n",
      "[LightGBM] [Info] Total Bins 5068\n",
      "[LightGBM] [Info] Number of data points in the train set: 564102, number of used features: 21\n",
      "[LightGBM] [Info] [binary:BoostFromScore]: pavg=0.007676 -> initscore=-4.861962\n",
      "[LightGBM] [Info] Start training from score -4.861962\n"
     ]
    },
    {
     "name": "stderr",
     "output_type": "stream",
     "text": [
      "[I 2023-10-17 01:03:03,375] Trial 85 finished with value: 0.6127960707868996 and parameters: {'num_leaves': 38, 'lambda_l1': 0.012916082906252183, 'lambda_l2': 3.6500843698725164e-08, 'feature_fraction': 0.9119948970385325, 'bagging_fraction': 0.417786402086172, 'bagging_freq': 7, 'min_child_samples': 52}. Best is trial 61 with value: 0.6775221062273213.\n"
     ]
    },
    {
     "name": "stdout",
     "output_type": "stream",
     "text": [
      "[LightGBM] [Info] Number of positive: 4330, number of negative: 559772\n",
      "[LightGBM] [Info] Auto-choosing col-wise multi-threading, the overhead of testing was 0.061432 seconds.\n",
      "You can set `force_col_wise=true` to remove the overhead.\n",
      "[LightGBM] [Info] Total Bins 5068\n",
      "[LightGBM] [Info] Number of data points in the train set: 564102, number of used features: 21\n",
      "[LightGBM] [Info] [binary:BoostFromScore]: pavg=0.007676 -> initscore=-4.861962\n",
      "[LightGBM] [Info] Start training from score -4.861962\n"
     ]
    },
    {
     "name": "stderr",
     "output_type": "stream",
     "text": [
      "[I 2023-10-17 01:03:11,396] Trial 86 finished with value: 0.6707434503329145 and parameters: {'num_leaves': 9, 'lambda_l1': 0.004217712154208825, 'lambda_l2': 6.432838085927654e-08, 'feature_fraction': 0.9527305349451941, 'bagging_fraction': 0.45605708541977696, 'bagging_freq': 6, 'min_child_samples': 61}. Best is trial 61 with value: 0.6775221062273213.\n"
     ]
    },
    {
     "name": "stdout",
     "output_type": "stream",
     "text": [
      "[LightGBM] [Info] Number of positive: 4330, number of negative: 559772\n",
      "[LightGBM] [Info] Auto-choosing col-wise multi-threading, the overhead of testing was 0.049758 seconds.\n",
      "You can set `force_col_wise=true` to remove the overhead.\n",
      "[LightGBM] [Info] Total Bins 5068\n",
      "[LightGBM] [Info] Number of data points in the train set: 564102, number of used features: 21\n",
      "[LightGBM] [Info] [binary:BoostFromScore]: pavg=0.007676 -> initscore=-4.861962\n",
      "[LightGBM] [Info] Start training from score -4.861962\n"
     ]
    },
    {
     "name": "stderr",
     "output_type": "stream",
     "text": [
      "[I 2023-10-17 01:03:18,175] Trial 87 finished with value: 0.6583237432037294 and parameters: {'num_leaves': 6, 'lambda_l1': 0.0008359399025377594, 'lambda_l2': 6.920430527768753e-08, 'feature_fraction': 0.9816220451934015, 'bagging_fraction': 0.4550528339686828, 'bagging_freq': 6, 'min_child_samples': 47}. Best is trial 61 with value: 0.6775221062273213.\n"
     ]
    },
    {
     "name": "stdout",
     "output_type": "stream",
     "text": [
      "[LightGBM] [Info] Number of positive: 4330, number of negative: 559772\n",
      "[LightGBM] [Info] Auto-choosing row-wise multi-threading, the overhead of testing was 0.012297 seconds.\n",
      "You can set `force_row_wise=true` to remove the overhead.\n",
      "And if memory is not enough, you can set `force_col_wise=true`.\n",
      "[LightGBM] [Info] Total Bins 5068\n",
      "[LightGBM] [Info] Number of data points in the train set: 564102, number of used features: 21\n",
      "[LightGBM] [Info] [binary:BoostFromScore]: pavg=0.007676 -> initscore=-4.861962\n",
      "[LightGBM] [Info] Start training from score -4.861962\n"
     ]
    },
    {
     "name": "stderr",
     "output_type": "stream",
     "text": [
      "c:\\Users\\Melissa\\AppData\\Local\\Programs\\Python\\Python310\\lib\\site-packages\\sklearn\\metrics\\_classification.py:1344: UndefinedMetricWarning: Precision is ill-defined and being set to 0.0 due to no predicted samples. Use `zero_division` parameter to control this behavior.\n",
      "  _warn_prf(average, modifier, msg_start, len(result))\n",
      "[I 2023-10-17 01:03:27,088] Trial 88 finished with value: 0.6474731965663422 and parameters: {'num_leaves': 3, 'lambda_l1': 0.004591030400664294, 'lambda_l2': 6.623408868094442e-08, 'feature_fraction': 0.9973281117786053, 'bagging_fraction': 0.452259444213261, 'bagging_freq': 6, 'min_child_samples': 37}. Best is trial 61 with value: 0.6775221062273213.\n"
     ]
    },
    {
     "name": "stdout",
     "output_type": "stream",
     "text": [
      "[LightGBM] [Info] Number of positive: 4330, number of negative: 559772\n",
      "[LightGBM] [Info] Auto-choosing col-wise multi-threading, the overhead of testing was 0.058425 seconds.\n",
      "You can set `force_col_wise=true` to remove the overhead.\n",
      "[LightGBM] [Info] Total Bins 5068\n",
      "[LightGBM] [Info] Number of data points in the train set: 564102, number of used features: 21\n",
      "[LightGBM] [Info] [binary:BoostFromScore]: pavg=0.007676 -> initscore=-4.861962\n",
      "[LightGBM] [Info] Start training from score -4.861962\n"
     ]
    },
    {
     "name": "stderr",
     "output_type": "stream",
     "text": [
      "[I 2023-10-17 01:03:34,659] Trial 89 finished with value: 0.6222169052456051 and parameters: {'num_leaves': 9, 'lambda_l1': 0.0009796595434126596, 'lambda_l2': 1.4371672284889942e-07, 'feature_fraction': 0.9720287632120078, 'bagging_fraction': 0.47348458194366183, 'bagging_freq': 6, 'min_child_samples': 32}. Best is trial 61 with value: 0.6775221062273213.\n"
     ]
    },
    {
     "name": "stdout",
     "output_type": "stream",
     "text": [
      "[LightGBM] [Info] Number of positive: 4330, number of negative: 559772\n",
      "[LightGBM] [Info] Auto-choosing col-wise multi-threading, the overhead of testing was 0.049304 seconds.\n",
      "You can set `force_col_wise=true` to remove the overhead.\n",
      "[LightGBM] [Info] Total Bins 5068\n",
      "[LightGBM] [Info] Number of data points in the train set: 564102, number of used features: 21\n",
      "[LightGBM] [Info] [binary:BoostFromScore]: pavg=0.007676 -> initscore=-4.861962\n",
      "[LightGBM] [Info] Start training from score -4.861962\n"
     ]
    },
    {
     "name": "stderr",
     "output_type": "stream",
     "text": [
      "[I 2023-10-17 01:04:03,714] Trial 90 finished with value: 0.6404802306328311 and parameters: {'num_leaves': 196, 'lambda_l1': 0.0017312864412231664, 'lambda_l2': 4.714320443988561e-08, 'feature_fraction': 0.9848199787895798, 'bagging_fraction': 0.5120840024750115, 'bagging_freq': 6, 'min_child_samples': 42}. Best is trial 61 with value: 0.6775221062273213.\n"
     ]
    },
    {
     "name": "stdout",
     "output_type": "stream",
     "text": [
      "[LightGBM] [Info] Number of positive: 4330, number of negative: 559772\n",
      "[LightGBM] [Info] Auto-choosing col-wise multi-threading, the overhead of testing was 0.043701 seconds.\n",
      "You can set `force_col_wise=true` to remove the overhead.\n",
      "[LightGBM] [Info] Total Bins 5068\n",
      "[LightGBM] [Info] Number of data points in the train set: 564102, number of used features: 21\n",
      "[LightGBM] [Info] [binary:BoostFromScore]: pavg=0.007676 -> initscore=-4.861962\n",
      "[LightGBM] [Info] Start training from score -4.861962\n"
     ]
    },
    {
     "name": "stderr",
     "output_type": "stream",
     "text": [
      "[I 2023-10-17 01:04:12,860] Trial 91 finished with value: 0.5879544547130595 and parameters: {'num_leaves': 18, 'lambda_l1': 0.00017734135877719369, 'lambda_l2': 3.6756586665901883e-07, 'feature_fraction': 0.9596000134349251, 'bagging_fraction': 0.4392064639031666, 'bagging_freq': 5, 'min_child_samples': 60}. Best is trial 61 with value: 0.6775221062273213.\n"
     ]
    },
    {
     "name": "stdout",
     "output_type": "stream",
     "text": [
      "[LightGBM] [Info] Number of positive: 4330, number of negative: 559772\n",
      "[LightGBM] [Info] Auto-choosing col-wise multi-threading, the overhead of testing was 0.057119 seconds.\n",
      "You can set `force_col_wise=true` to remove the overhead.\n",
      "[LightGBM] [Info] Total Bins 5068\n",
      "[LightGBM] [Info] Number of data points in the train set: 564102, number of used features: 21\n",
      "[LightGBM] [Info] [binary:BoostFromScore]: pavg=0.007676 -> initscore=-4.861962\n",
      "[LightGBM] [Info] Start training from score -4.861962\n"
     ]
    },
    {
     "name": "stderr",
     "output_type": "stream",
     "text": [
      "[I 2023-10-17 01:04:25,057] Trial 92 finished with value: 0.6199989431285743 and parameters: {'num_leaves': 29, 'lambda_l1': 0.00037472702472113355, 'lambda_l2': 1.636988024203969e-08, 'feature_fraction': 0.9335689916132064, 'bagging_fraction': 0.40228994431596005, 'bagging_freq': 4, 'min_child_samples': 48}. Best is trial 61 with value: 0.6775221062273213.\n"
     ]
    },
    {
     "name": "stdout",
     "output_type": "stream",
     "text": [
      "[LightGBM] [Info] Number of positive: 4330, number of negative: 559772\n",
      "[LightGBM] [Info] Auto-choosing col-wise multi-threading, the overhead of testing was 0.052663 seconds.\n",
      "You can set `force_col_wise=true` to remove the overhead.\n",
      "[LightGBM] [Info] Total Bins 5068\n",
      "[LightGBM] [Info] Number of data points in the train set: 564102, number of used features: 21\n",
      "[LightGBM] [Info] [binary:BoostFromScore]: pavg=0.007676 -> initscore=-4.861962\n",
      "[LightGBM] [Info] Start training from score -4.861962\n"
     ]
    },
    {
     "name": "stderr",
     "output_type": "stream",
     "text": [
      "c:\\Users\\Melissa\\AppData\\Local\\Programs\\Python\\Python310\\lib\\site-packages\\sklearn\\metrics\\_classification.py:1344: UndefinedMetricWarning: Precision is ill-defined and being set to 0.0 due to no predicted samples. Use `zero_division` parameter to control this behavior.\n",
      "  _warn_prf(average, modifier, msg_start, len(result))\n",
      "[I 2023-10-17 01:04:31,728] Trial 93 finished with value: 0.6614092206160387 and parameters: {'num_leaves': 2, 'lambda_l1': 0.0008793015998396934, 'lambda_l2': 1.9349479101885406e-07, 'feature_fraction': 0.951190197077654, 'bagging_fraction': 0.46368328152187455, 'bagging_freq': 6, 'min_child_samples': 72}. Best is trial 61 with value: 0.6775221062273213.\n"
     ]
    },
    {
     "name": "stdout",
     "output_type": "stream",
     "text": [
      "[LightGBM] [Info] Number of positive: 4330, number of negative: 559772\n",
      "[LightGBM] [Info] Auto-choosing col-wise multi-threading, the overhead of testing was 0.062125 seconds.\n",
      "You can set `force_col_wise=true` to remove the overhead.\n",
      "[LightGBM] [Info] Total Bins 5068\n",
      "[LightGBM] [Info] Number of data points in the train set: 564102, number of used features: 21\n",
      "[LightGBM] [Info] [binary:BoostFromScore]: pavg=0.007676 -> initscore=-4.861962\n",
      "[LightGBM] [Info] Start training from score -4.861962\n"
     ]
    },
    {
     "name": "stderr",
     "output_type": "stream",
     "text": [
      "[I 2023-10-17 01:04:39,715] Trial 94 finished with value: 0.6144694505442888 and parameters: {'num_leaves': 10, 'lambda_l1': 0.0009513472658254357, 'lambda_l2': 1.0581427991466709e-07, 'feature_fraction': 0.9696970911718185, 'bagging_fraction': 0.4571440385798811, 'bagging_freq': 6, 'min_child_samples': 72}. Best is trial 61 with value: 0.6775221062273213.\n"
     ]
    },
    {
     "name": "stdout",
     "output_type": "stream",
     "text": [
      "[LightGBM] [Info] Number of positive: 4330, number of negative: 559772\n",
      "[LightGBM] [Info] Auto-choosing col-wise multi-threading, the overhead of testing was 0.047761 seconds.\n",
      "You can set `force_col_wise=true` to remove the overhead.\n",
      "[LightGBM] [Info] Total Bins 5068\n",
      "[LightGBM] [Info] Number of data points in the train set: 564102, number of used features: 21\n",
      "[LightGBM] [Info] [binary:BoostFromScore]: pavg=0.007676 -> initscore=-4.861962\n",
      "[LightGBM] [Info] Start training from score -4.861962\n"
     ]
    },
    {
     "name": "stderr",
     "output_type": "stream",
     "text": [
      "[I 2023-10-17 01:04:49,555] Trial 95 finished with value: 0.5937811923858285 and parameters: {'num_leaves': 22, 'lambda_l1': 0.0005962390269920557, 'lambda_l2': 1.658353881830194e-07, 'feature_fraction': 0.920427635105949, 'bagging_fraction': 0.4915075611378177, 'bagging_freq': 6, 'min_child_samples': 56}. Best is trial 61 with value: 0.6775221062273213.\n"
     ]
    },
    {
     "name": "stdout",
     "output_type": "stream",
     "text": [
      "[LightGBM] [Info] Number of positive: 4330, number of negative: 559772\n",
      "[LightGBM] [Info] Auto-choosing col-wise multi-threading, the overhead of testing was 0.039759 seconds.\n",
      "You can set `force_col_wise=true` to remove the overhead.\n",
      "[LightGBM] [Info] Total Bins 5068\n",
      "[LightGBM] [Info] Number of data points in the train set: 564102, number of used features: 21\n",
      "[LightGBM] [Info] [binary:BoostFromScore]: pavg=0.007676 -> initscore=-4.861962\n",
      "[LightGBM] [Info] Start training from score -4.861962\n"
     ]
    },
    {
     "name": "stderr",
     "output_type": "stream",
     "text": [
      "[I 2023-10-17 01:04:56,314] Trial 96 finished with value: 0.6220480993928861 and parameters: {'num_leaves': 6, 'lambda_l1': 0.004262139272961862, 'lambda_l2': 7.716755125238767e-08, 'feature_fraction': 0.8891161128215702, 'bagging_fraction': 0.46866523798685444, 'bagging_freq': 7, 'min_child_samples': 53}. Best is trial 61 with value: 0.6775221062273213.\n"
     ]
    },
    {
     "name": "stdout",
     "output_type": "stream",
     "text": [
      "[LightGBM] [Info] Number of positive: 4330, number of negative: 559772\n",
      "[LightGBM] [Info] Auto-choosing col-wise multi-threading, the overhead of testing was 0.049395 seconds.\n",
      "You can set `force_col_wise=true` to remove the overhead.\n",
      "[LightGBM] [Info] Total Bins 5068\n",
      "[LightGBM] [Info] Number of data points in the train set: 564102, number of used features: 21\n",
      "[LightGBM] [Info] [binary:BoostFromScore]: pavg=0.007676 -> initscore=-4.861962\n",
      "[LightGBM] [Info] Start training from score -4.861962\n"
     ]
    },
    {
     "name": "stderr",
     "output_type": "stream",
     "text": [
      "c:\\Users\\Melissa\\AppData\\Local\\Programs\\Python\\Python310\\lib\\site-packages\\sklearn\\metrics\\_classification.py:1344: UndefinedMetricWarning: Precision is ill-defined and being set to 0.0 due to no predicted samples. Use `zero_division` parameter to control this behavior.\n",
      "  _warn_prf(average, modifier, msg_start, len(result))\n",
      "[I 2023-10-17 01:05:02,235] Trial 97 finished with value: 0.662800767993236 and parameters: {'num_leaves': 3, 'lambda_l1': 0.00013627357111063634, 'lambda_l2': 2.4019592466208413e-07, 'feature_fraction': 0.9859578331095391, 'bagging_fraction': 0.4137522331726591, 'bagging_freq': 6, 'min_child_samples': 77}. Best is trial 61 with value: 0.6775221062273213.\n"
     ]
    },
    {
     "name": "stdout",
     "output_type": "stream",
     "text": [
      "[LightGBM] [Info] Number of positive: 4330, number of negative: 559772\n",
      "[LightGBM] [Info] Auto-choosing row-wise multi-threading, the overhead of testing was 0.012693 seconds.\n",
      "You can set `force_row_wise=true` to remove the overhead.\n",
      "And if memory is not enough, you can set `force_col_wise=true`.\n",
      "[LightGBM] [Info] Total Bins 5068\n",
      "[LightGBM] [Info] Number of data points in the train set: 564102, number of used features: 21\n",
      "[LightGBM] [Info] [binary:BoostFromScore]: pavg=0.007676 -> initscore=-4.861962\n",
      "[LightGBM] [Info] Start training from score -4.861962\n"
     ]
    },
    {
     "name": "stderr",
     "output_type": "stream",
     "text": [
      "c:\\Users\\Melissa\\AppData\\Local\\Programs\\Python\\Python310\\lib\\site-packages\\sklearn\\metrics\\_classification.py:1344: UndefinedMetricWarning: Precision is ill-defined and being set to 0.0 due to no predicted samples. Use `zero_division` parameter to control this behavior.\n",
      "  _warn_prf(average, modifier, msg_start, len(result))\n",
      "[I 2023-10-17 01:05:09,174] Trial 98 finished with value: 0.6563171553718427 and parameters: {'num_leaves': 2, 'lambda_l1': 0.0001118391528574933, 'lambda_l2': 2.2185114379372343e-07, 'feature_fraction': 0.98516905239328, 'bagging_fraction': 0.440342739840473, 'bagging_freq': 6, 'min_child_samples': 78}. Best is trial 61 with value: 0.6775221062273213.\n"
     ]
    },
    {
     "name": "stdout",
     "output_type": "stream",
     "text": [
      "[LightGBM] [Info] Number of positive: 4330, number of negative: 559772\n",
      "[LightGBM] [Info] Auto-choosing col-wise multi-threading, the overhead of testing was 0.042609 seconds.\n",
      "You can set `force_col_wise=true` to remove the overhead.\n",
      "[LightGBM] [Info] Total Bins 5068\n",
      "[LightGBM] [Info] Number of data points in the train set: 564102, number of used features: 21\n",
      "[LightGBM] [Info] [binary:BoostFromScore]: pavg=0.007676 -> initscore=-4.861962\n",
      "[LightGBM] [Info] Start training from score -4.861962\n"
     ]
    },
    {
     "name": "stderr",
     "output_type": "stream",
     "text": [
      "[I 2023-10-17 01:05:32,470] Trial 99 finished with value: 0.6009686520192116 and parameters: {'num_leaves': 141, 'lambda_l1': 0.001719543409270541, 'lambda_l2': 4.054102789329166e-07, 'feature_fraction': 0.9517698054164879, 'bagging_fraction': 0.4607323836036655, 'bagging_freq': 6, 'min_child_samples': 73}. Best is trial 61 with value: 0.6775221062273213.\n"
     ]
    }
   ],
   "source": [
    "optimisation_metric = \"auc\" #\"accuracy\" \"recall\" \"precision\" \"f1\" \"auc\"\n",
    "def objective(trial):\n",
    "    param = {\n",
    "        'num_leaves': trial.suggest_int('num_leaves', 2, 256),\n",
    "        'objective': 'binary',\n",
    "        'metric': 'precision', #\"accuracy\" \"recall\" \"precision\" \"f1\" \"auc\"\n",
    "        'boosting_type': 'gbdt',\n",
    "        'lambda_l1': trial.suggest_float('lambda_l1', 1e-8, 10.0, log=True),\n",
    "        'lambda_l2': trial.suggest_float('lambda_l2', 1e-8, 10.0, log=True),\n",
    "        'feature_fraction': trial.suggest_float('feature_fraction', 0.4, 1.0),\n",
    "        'bagging_fraction': trial.suggest_float('bagging_fraction', 0.4, 1.0),\n",
    "        'bagging_freq': trial.suggest_int('bagging_freq', 1, 7),\n",
    "        'min_child_samples': trial.suggest_int('min_child_samples', 5, 100),\n",
    "    }\n",
    "    \n",
    "    # full data\n",
    "    gbm = lgb.train(param, lgb.Dataset(X_train, y_train), num_boost_round=500)\n",
    "    \n",
    "    preds = gbm.predict(X_val)\n",
    "    y_pred_binary = np.round(preds)\n",
    "    \n",
    "    auc = roc_auc_score(y_val, preds)\n",
    "    accuracy = accuracy_score(y_val, y_pred_binary)\n",
    "    recall = recall_score(y_val, y_pred_binary)\n",
    "    precision = precision_score(y_val, y_pred_binary)\n",
    "    f1 = f1_score(y_val, y_pred_binary)\n",
    "    #choose the metric you want to optimized\n",
    "    \n",
    "    match optimisation_metric:\n",
    "        case \"auc\":\n",
    "            return auc\n",
    "        case \"recall\":\n",
    "            return recall\n",
    "        case \"precision\":\n",
    "            return precision\n",
    "        case \"f1\":\n",
    "            return f1\n",
    "        case _:\n",
    "            return auc\n",
    "    return auc\n",
    "\n",
    "study = optuna.create_study(direction='maximize')\n",
    "study.optimize(objective, n_trials=100)\n",
    "\n",
    "best_params = study.best_params"
   ]
  },
  {
   "cell_type": "code",
   "execution_count": 64,
   "metadata": {},
   "outputs": [
    {
     "name": "stderr",
     "output_type": "stream",
     "text": [
      "c:\\Users\\Melissa\\AppData\\Local\\Programs\\Python\\Python310\\lib\\site-packages\\lightgbm\\engine.py:172: UserWarning: Found `num_boost_round` in params. Will use it instead of argument\n",
      "  _log_warning(f\"Found `{alias}` in params. Will use it instead of argument\")\n"
     ]
    },
    {
     "name": "stdout",
     "output_type": "stream",
     "text": [
      "[LightGBM] [Info] Number of positive: 4330, number of negative: 559772\n",
      "[LightGBM] [Info] Auto-choosing col-wise multi-threading, the overhead of testing was 0.035568 seconds.\n",
      "You can set `force_col_wise=true` to remove the overhead.\n",
      "[LightGBM] [Info] Total Bins 5081\n",
      "[LightGBM] [Info] Number of data points in the train set: 564102, number of used features: 21\n",
      "[LightGBM] [Info] [binary:BoostFromScore]: pavg=0.007676 -> initscore=-4.861962\n",
      "[LightGBM] [Info] Start training from score -4.861962\n"
     ]
    }
   ],
   "source": [
    "best_params['objective'] = 'binary'\n",
    "best_params['metric'] = 'auc' #\"accuracy\" \"recall\" \"precision\" \"f1\" \"auc\"\n",
    "best_params['num_boost_round'] = 500\n",
    "\n",
    "\n",
    "gbm = lgb.train(best_params, lgb.Dataset(X_train_scaled, y_train), num_boost_round=500)\n"
   ]
  },
  {
   "cell_type": "code",
   "execution_count": 65,
   "metadata": {},
   "outputs": [],
   "source": [
    "y_pred = gbm.predict(X_test)\n",
    "y_pred_binary = np.round(y_pred)"
   ]
  },
  {
   "cell_type": "code",
   "execution_count": 66,
   "metadata": {},
   "outputs": [
    {
     "name": "stdout",
     "output_type": "stream",
     "text": [
      "0.9859614105661384\n",
      "0.853315673848335\n",
      "0.9005305026447933\n",
      "0.6655773382210621\n",
      "0.6661219603583606\n",
      "0.9927532872598344\n",
      "0.5718835835162356\n",
      "0.7671947084413563\n",
      "0.5985441135232504\n",
      "0.9986396654222602\n",
      "0.9847260677472983\n",
      "0.9847260677472983\n",
      "0.9053912791077047\n",
      "0.8664800424880402\n",
      "0.6149118815059738\n",
      "0.5527890387470105\n",
      "0.8661772196553814\n",
      "0.9846477984372463\n",
      "0.6258186573496543\n",
      "0.9448081696224029\n",
      "0.5760756175758571\n",
      "0.758999682860306\n",
      "0.8728082844042839\n",
      "0.9755320136122735\n",
      "0.9846477984372463\n",
      "0.5356823438732697\n",
      "0.7497580975479636\n",
      "0.9306153364384838\n",
      "0.5718835835162356\n",
      "0.9580763568264696\n",
      "0.5718835835162356\n",
      "0.9488964763678299\n",
      "0.78917252943417\n",
      "0.6524661152530559\n",
      "0.827074669247045\n",
      "0.7553554969882975\n",
      "0.8525584457919788\n",
      "0.7867053724465456\n",
      "0.8262219320178741\n",
      "0.8664800424880402\n",
      "0.758999682860306\n",
      "0.6064458788863022\n",
      "0.9759869457162625\n",
      "0.8063722857271868\n",
      "0.5508599395321008\n",
      "0.5485688105646499\n",
      "0.9369819056131319\n",
      "0.9624495773591969\n",
      "0.8804933865578926\n",
      "0.9748036583199928\n",
      "0.8963649778772644\n",
      "0.8743968699691264\n",
      "0.758999682860306\n",
      "0.8063722857271868\n",
      "0.5786049571431862\n",
      "0.9755320136122735\n",
      "0.5913836235735208\n",
      "0.518398691919065\n",
      "0.6974975514899442\n",
      "0.7867053724465456\n",
      "0.9624495773591969\n",
      "0.9053996208250503\n",
      "0.8759625333580106\n",
      "0.827074669247045\n",
      "0.8963649778772644\n",
      "0.7144148196100546\n",
      "0.6974975514899442\n",
      "0.9488964763678299\n",
      "0.7342191805337489\n",
      "0.9846477984372463\n",
      "0.716677435426253\n",
      "0.5333278544509066\n",
      "0.749845144892916\n",
      "0.9005305026447933\n",
      "0.7795078116040273\n",
      "0.7380852188831798\n",
      "0.9053912791077047\n",
      "0.7717450236672436\n",
      "0.7671947084413563\n",
      "0.6978115419788264\n",
      "0.8778503474253465\n",
      "0.982793143930547\n",
      "0.8804933865578926\n",
      "0.9822908270318943\n",
      "0.9847260677472983\n",
      "0.587394287882709\n",
      "0.8041083584669461\n",
      "0.8963649778772644\n",
      "0.8804933865578926\n",
      "0.8778503474253465\n",
      "0.9369819056131319\n",
      "0.8210878766550671\n",
      "0.8788697567257429\n",
      "0.7380852188831798\n",
      "0.758180204025156\n",
      "0.7867053724465456\n",
      "0.6655773382210621\n",
      "0.6968926077056727\n",
      "0.5831928734224373\n",
      "0.8041083584669461\n",
      "0.6845480708081729\n",
      "0.9369819056131319\n",
      "0.5284252988077487\n",
      "0.7717450236672436\n",
      "0.86143825520488\n",
      "0.9193311037095688\n",
      "0.7795078116040273\n",
      "0.9053996208250503\n",
      "0.8003779727813986\n",
      "0.9365205127068137\n",
      "0.7973514003955283\n",
      "0.9624495773591969\n",
      "0.8003779727813986\n",
      "0.5913836235735208\n",
      "0.7786617274137544\n",
      "0.9005305026447933\n",
      "0.5613018834857115\n",
      "0.6156289640409341\n",
      "0.6354369308546488\n",
      "0.7144148196100546\n",
      "0.9560615138042002\n",
      "0.8743968699691264\n",
      "0.7533356977024911\n",
      "0.9887621536251933\n",
      "0.9667754260660005\n",
      "0.9986396654222602\n",
      "0.518398691919065\n",
      "0.5331586263514015\n",
      "0.587394287882709\n",
      "0.758999682860306\n",
      "0.5913836235735208\n",
      "0.7342191805337489\n",
      "0.7671947084413563\n",
      "0.758180204025156\n",
      "0.86143825520488\n",
      "0.9448081696224029\n",
      "0.9560615138042002\n",
      "0.9755320136122735\n",
      "0.8759625333580106\n",
      "0.587394287882709\n",
      "0.8648448464977033\n",
      "0.8062532578194759\n",
      "0.5331586263514015\n",
      "0.8743968699691264\n",
      "0.8210878766550671\n",
      "0.8041083584669461\n",
      "0.9927532872598344\n",
      "0.5718835835162356\n",
      "0.827074669247045\n",
      "0.7533356977024911\n",
      "0.7144148196100546\n",
      "0.685339359904301\n",
      "0.7969455522999742\n",
      "0.6968926077056727\n",
      "0.7355640976447797\n",
      "0.9448081696224029\n",
      "0.685339359904301\n",
      "0.8228578715091422\n",
      "0.758999682860306\n",
      "0.8262219320178741\n",
      "0.9986396654222602\n",
      "0.8228578715091422\n",
      "0.9927532872598344\n",
      "0.6258186573496543\n",
      "0.518398691919065\n",
      "0.6161785273744295\n",
      "0.8664800424880402\n",
      "0.827074669247045\n",
      "0.7969455522999742\n",
      "0.9053912791077047\n",
      "0.8743968699691264\n",
      "0.9560615138042002\n",
      "0.685339359904301\n",
      "0.982793143930547\n",
      "0.827074669247045\n",
      "0.9900664420636133\n",
      "0.7380852188831798\n",
      "0.716677435426253\n",
      "0.7984446965660051\n",
      "0.7717450236672436\n",
      "0.9532065203045246\n",
      "0.6845480708081729\n",
      "0.827074669247045\n",
      "0.7342191805337489\n",
      "0.8228578715091422\n",
      "0.5786049571431862\n",
      "0.8387267318569298\n",
      "0.7671947084413563\n",
      "0.7973514003955283\n",
      "0.8689328569540768\n",
      "0.5662240591225758\n",
      "0.7818477184172401\n",
      "0.86143825520488\n",
      "0.9053996208250503\n",
      "0.5760756175758571\n",
      "0.8759625333580106\n",
      "0.5249521929199126\n",
      "0.5333278544509066\n",
      "0.7818477184172401\n",
      "0.9193311037095688\n",
      "0.915229625436164\n",
      "0.6655773382210621\n",
      "0.8778503474253465\n",
      "0.9759869457162625\n",
      "0.9878497645109493\n",
      "0.7533356977024911\n",
      "0.716677435426253\n",
      "0.6845480708081729\n",
      "0.9488964763678299\n",
      "0.6132362748809582\n",
      "0.9759869457162625\n",
      "0.9667754260660005\n",
      "0.7717450236672436\n",
      "0.6968926077056727\n",
      "0.8062532578194759\n",
      "0.7717450236672436\n",
      "0.8062532578194759\n",
      "0.7867053724465456\n",
      "0.5760756175758571\n",
      "0.7973514003955283\n",
      "0.9297392136491013\n",
      "0.7078810813892005\n",
      "0.7818477184172401\n",
      "0.8210878766550671\n",
      "0.5333278544509066\n",
      "0.758180204025156\n",
      "0.6974975514899442\n",
      "0.7342191805337489\n",
      "0.8262219320178741\n",
      "0.8003779727813986\n",
      "0.982793143930547\n",
      "0.9488964763678299\n",
      "0.915229625436164\n",
      "0.5760756175758571\n",
      "0.758999682860306\n",
      "0.6851765113145943\n",
      "0.9667754260660005\n",
      "0.7717450236672436\n",
      "0.6325936406890297\n",
      "0.8713033931757481\n",
      "0.5485385672276073\n",
      "0.8713033931757481\n",
      "0.5925411767051374\n",
      "0.6256094349423011\n",
      "0.5485385672276073\n",
      "0.5485385672276073\n",
      "0.5034847939975229\n",
      "0.5034847939975229\n",
      "0.5034847939975229\n",
      "0.5109756226676477\n",
      "0.8713033931757481\n",
      "0.6060136161339421\n",
      "0.5957322923938506\n",
      "0.5957322923938506\n",
      "0.5957322923938506\n",
      "0.5702224808357231\n"
     ]
    }
   ],
   "source": [
    "for pred in y_pred:\n",
    "    if pred > 0.5:\n",
    "        print(str(pred))"
   ]
  },
  {
   "cell_type": "code",
   "execution_count": 67,
   "metadata": {},
   "outputs": [
    {
     "name": "stdout",
     "output_type": "stream",
     "text": [
      "Accuracy: 0.9554433387791474\n",
      "Recall: 0.16666666666666666\n",
      "Precision: 0.04296875\n",
      "F1 Score: 0.06832298136645963\n",
      "AUC: 0.6212780270077405\n"
     ]
    },
    {
     "data": {
      "text/plain": [
       "<sklearn.metrics._plot.confusion_matrix.ConfusionMatrixDisplay at 0x202c9a6a830>"
      ]
     },
     "execution_count": 67,
     "metadata": {},
     "output_type": "execute_result"
    },
    {
     "data": {
      "image/png": "[encoded data removed]",
      "text/plain": [
       "<Figure size 640x480 with 2 Axes>"
      ]
     },
     "metadata": {},
     "output_type": "display_data"
    }
   ],
   "source": [
    "accuracy = accuracy_score(y_test, y_pred_binary)\n",
    "recall = recall_score(y_test, y_pred_binary)\n",
    "precision = precision_score(y_test, y_pred_binary)\n",
    "f1 = f1_score(y_test, y_pred_binary)\n",
    "auc = roc_auc_score(y_test, y_pred)\n",
    "confusion = confusion_matrix(y_test, y_pred_binary)\n",
    "\n",
    "print('Accuracy:', accuracy)\n",
    "print('Recall:', recall)\n",
    "print('Precision:', precision)\n",
    "print('F1 Score:', f1)\n",
    "print('AUC:', auc)\n",
    "\n",
    "ConfusionMatrixDisplay(confusion).plot()"
   ]
  },
  {
   "cell_type": "code",
   "execution_count": 68,
   "metadata": {},
   "outputs": [
    {
     "data": {
      "image/png": "[encoded data removed]",
      "text/plain": [
       "<Figure size 1000x600 with 1 Axes>"
      ]
     },
     "metadata": {},
     "output_type": "display_data"
    }
   ],
   "source": [
    "metrics = ['Accuracy', 'Recall', 'Precision', 'F1 Score', 'AUC']\n",
    "values = [accuracy, recall, precision, f1, auc]\n",
    "colors = sns.color_palette('pastel', len(metrics))\n",
    "\n",
    "plt.figure(figsize=(10, 6))\n",
    "plt.barh(metrics, values, color=colors)\n",
    "plt.xlabel('Score')\n",
    "plt.title('Model Performance')\n",
    "plt.xlim(0, 1)\n",
    "plt.show()"
   ]
  },
  {
   "cell_type": "code",
   "execution_count": 70,
   "metadata": {},
   "outputs": [
    {
     "name": "stdout",
     "output_type": "stream",
     "text": [
      "                     feature  importance\n",
      "1            DTDmedianNonFin        5268\n",
      "19         price_to_earnings        2736\n",
      "3                        sic        2503\n",
      "20           retention_ratio        2122\n",
      "7                 cash_ratio        1906\n",
      "13    cashflow_to_debt_ratio        1628\n",
      "14         net_profit_margin        1627\n",
      "18  working_capital_turnover        1473\n",
      "4                        atq        1451\n",
      "15            asset_turnover        1420\n",
      "8        net_working_capital        1395\n",
      "16      receivables_turnover        1313\n",
      "5              current_ratio        1308\n",
      "6                quick_ratio        1305\n",
      "10      debt_to_equity_ratio        1260\n",
      "17     day_sales_outstanding        1218\n",
      "12  financial_leverage_ratio        1204\n",
      "11              equity_ratio        1143\n",
      "9                 debt_ratio        1058\n",
      "0               DTDmedianFin         662\n",
      "2                dummy297fin           0\n"
     ]
    }
   ],
   "source": [
    "importance = pd.DataFrame({'feature': X_train.columns, 'importance': gbm.feature_importance()})\n",
    "importance = importance.sort_values('importance', ascending=False)\n",
    "print(importance)"
   ]
  },
  {
   "cell_type": "code",
   "execution_count": 72,
   "metadata": {},
   "outputs": [
    {
     "data": {
      "image/png": "[encoded data removed]",
      "text/plain": [
       "<Figure size 1000x600 with 1 Axes>"
      ]
     },
     "metadata": {},
     "output_type": "display_data"
    }
   ],
   "source": [
    "feature_importance = gbm.feature_importance()\n",
    "features = X_train.columns\n",
    "importance_df = pd.DataFrame({'Feature': features, 'Importance': feature_importance})\n",
    "\n",
    "plt.figure(figsize=(10, 6))\n",
    "sns.barplot(x='Importance', y='Feature', data=importance_df.sort_values(by='Importance', ascending=False))\n",
    "plt.title('Feature Importance')\n",
    "plt.show()"
   ]
  },
  {
   "cell_type": "code",
   "execution_count": null,
   "metadata": {},
   "outputs": [
    {
     "name": "stdout",
     "output_type": "stream",
     "text": [
      "[LightGBM] [Info] Auto-choosing col-wise multi-threading, the overhead of testing was 0.048622 seconds.\n",
      "You can set `force_col_wise=true` to remove the overhead.\n",
      "[LightGBM] [Info] Total Bins 5081\n",
      "[LightGBM] [Info] Number of data points in the train set: 463380, number of used features: 21\n",
      "[LightGBM] [Info] Start training from score -0.007880\n",
      "[LightGBM] [Info] Start training from score -4.850693\n",
      "[LightGBM] [Info] Start training from score -10.561396\n",
      "[LightGBM] [Warning] No further splits with positive gain, best gain: -inf\n"
     ]
    }
   ],
   "source": [
    "model = LGBMClassifier()\n",
    "model.fit(X_train_scaled, y_train)\n",
    "\n",
    "pred = model.predict(X_test_scaled)\n",
    "y_pred_binary = np.round(pred)"
   ]
  },
  {
   "cell_type": "code",
   "execution_count": null,
   "metadata": {},
   "outputs": [
    {
     "name": "stdout",
     "output_type": "stream",
     "text": [
      "Training accuracy 0.9921\n",
      "Testing accuracy 0.9919\n"
     ]
    }
   ],
   "source": [
    "print('Training accuracy {:.4f}'.format(model.score(X_train_scaled,y_train)))\n",
    "print('Testing accuracy {:.4f}'.format(model.score(X_test_scaled,y_test)))"
   ]
  },
  {
   "cell_type": "code",
   "execution_count": null,
   "metadata": {},
   "outputs": [
    {
     "name": "stdout",
     "output_type": "stream",
     "text": [
      "              precision    recall  f1-score   support\n",
      "\n",
      "         0.0       0.99      1.00      1.00    115004\n",
      "         1.0       0.28      0.07      0.11       839\n",
      "         2.0       0.00      0.00      0.00         2\n",
      "\n",
      "    accuracy                           0.99    115845\n",
      "   macro avg       0.42      0.36      0.37    115845\n",
      "weighted avg       0.99      0.99      0.99    115845\n",
      "\n"
     ]
    }
   ],
   "source": [
    "print(metrics.classification_report(y_test,model.predict(X_test_scaled)))"
   ]
  },
  {
   "cell_type": "markdown",
   "metadata": {},
   "source": [
    "<font size=\"6\">Testing LightGBM model with filled_table</font>"
   ]
  },
  {
   "cell_type": "code",
   "execution_count": null,
   "metadata": {},
   "outputs": [],
   "source": [
    "from google.oauth2 import service_account\n",
    "import pandas as pd\n",
    "import pandas_gbq as gbq\n",
    "credentials_path = 'data_cleaning/token.json'\n",
    "\n",
    "# Authenticate with your credentials\n",
    "credentials = service_account.Credentials.from_service_account_file(\n",
    "    credentials_path, scopes=['https://www.googleapis.com/auth/bigquery'])\n",
    "\n",
    "# Set the credentials for pandas_gbq\n",
    "gbq.context.credentials = credentials"
   ]
  },
  {
   "cell_type": "code",
   "execution_count": null,
   "metadata": {},
   "outputs": [],
   "source": [
    "project_id = 'capstone-398012'\n",
    "dataset_id = 'capstone'\n",
    "table_id = \"filled_table\""
   ]
  },
  {
   "cell_type": "code",
   "execution_count": null,
   "metadata": {},
   "outputs": [
    {
     "name": "stderr",
     "output_type": "stream",
     "text": [
      "/usr/local/lib/python3.9/site-packages/google/cloud/bigquery/table.py:2155: UserWarning: A progress bar was requested, but there was an error loading the tqdm library. Please install tqdm to use the progress bar functionality.\n",
      "  record_batch = self.to_arrow(\n"
     ]
    },
    {
     "data": {
      "text/html": [
       "<div>\n",
       "<style scoped>\n",
       "    .dataframe tbody tr th:only-of-type {\n",
       "        vertical-align: middle;\n",
       "    }\n",
       "\n",
       "    .dataframe tbody tr th {\n",
       "        vertical-align: top;\n",
       "    }\n",
       "\n",
       "    .dataframe thead th {\n",
       "        text-align: right;\n",
       "    }\n",
       "</style>\n",
       "<table border=\"1\" class=\"dataframe\">\n",
       "  <thead>\n",
       "    <tr style=\"text-align: right;\">\n",
       "      <th></th>\n",
       "      <th>CompNo</th>\n",
       "      <th>yyyy</th>\n",
       "      <th>mm</th>\n",
       "      <th>StkIndx</th>\n",
       "      <th>STInt</th>\n",
       "      <th>dtdlevel</th>\n",
       "      <th>dtdtrend</th>\n",
       "      <th>liqnonfinlevel</th>\n",
       "      <th>liqnonfintrend</th>\n",
       "      <th>ni2talevel</th>\n",
       "      <th>...</th>\n",
       "      <th>nan_count</th>\n",
       "      <th>liqnonfinlevel_notNA</th>\n",
       "      <th>liqnonfintrend_notNA</th>\n",
       "      <th>dtdlevel_notNA</th>\n",
       "      <th>dtdtrend_notNA</th>\n",
       "      <th>DTDmedianNonFin_notNA</th>\n",
       "      <th>Sector_Number_notNA</th>\n",
       "      <th>DTDmedianFin_notNA</th>\n",
       "      <th>sigma_notNA</th>\n",
       "      <th>StkIndx_notNA</th>\n",
       "    </tr>\n",
       "  </thead>\n",
       "  <tbody>\n",
       "    <tr>\n",
       "      <th>0</th>\n",
       "      <td>26995</td>\n",
       "      <td>1990</td>\n",
       "      <td>1</td>\n",
       "      <td>0.106263</td>\n",
       "      <td>0.020305</td>\n",
       "      <td>3.176331</td>\n",
       "      <td>-0.148469</td>\n",
       "      <td>0.280325</td>\n",
       "      <td>-0.146216</td>\n",
       "      <td>0.002395</td>\n",
       "      <td>...</td>\n",
       "      <td>3</td>\n",
       "      <td>1</td>\n",
       "      <td>1</td>\n",
       "      <td>0</td>\n",
       "      <td>0</td>\n",
       "      <td>0</td>\n",
       "      <td>1</td>\n",
       "      <td>1</td>\n",
       "      <td>1</td>\n",
       "      <td>1</td>\n",
       "    </tr>\n",
       "    <tr>\n",
       "      <th>1</th>\n",
       "      <td>26996</td>\n",
       "      <td>1990</td>\n",
       "      <td>1</td>\n",
       "      <td>0.106263</td>\n",
       "      <td>0.020305</td>\n",
       "      <td>4.401022</td>\n",
       "      <td>0.054801</td>\n",
       "      <td>0.951410</td>\n",
       "      <td>0.033574</td>\n",
       "      <td>0.002635</td>\n",
       "      <td>...</td>\n",
       "      <td>3</td>\n",
       "      <td>1</td>\n",
       "      <td>1</td>\n",
       "      <td>0</td>\n",
       "      <td>0</td>\n",
       "      <td>0</td>\n",
       "      <td>1</td>\n",
       "      <td>1</td>\n",
       "      <td>1</td>\n",
       "      <td>1</td>\n",
       "    </tr>\n",
       "    <tr>\n",
       "      <th>2</th>\n",
       "      <td>26996</td>\n",
       "      <td>1990</td>\n",
       "      <td>1</td>\n",
       "      <td>0.106263</td>\n",
       "      <td>0.020305</td>\n",
       "      <td>4.401022</td>\n",
       "      <td>0.054801</td>\n",
       "      <td>0.951410</td>\n",
       "      <td>0.033574</td>\n",
       "      <td>0.002635</td>\n",
       "      <td>...</td>\n",
       "      <td>3</td>\n",
       "      <td>1</td>\n",
       "      <td>1</td>\n",
       "      <td>0</td>\n",
       "      <td>0</td>\n",
       "      <td>0</td>\n",
       "      <td>1</td>\n",
       "      <td>1</td>\n",
       "      <td>1</td>\n",
       "      <td>1</td>\n",
       "    </tr>\n",
       "    <tr>\n",
       "      <th>3</th>\n",
       "      <td>27000</td>\n",
       "      <td>1990</td>\n",
       "      <td>1</td>\n",
       "      <td>0.106263</td>\n",
       "      <td>0.020305</td>\n",
       "      <td>2.908823</td>\n",
       "      <td>0.056226</td>\n",
       "      <td>-0.312616</td>\n",
       "      <td>-0.149733</td>\n",
       "      <td>0.004073</td>\n",
       "      <td>...</td>\n",
       "      <td>3</td>\n",
       "      <td>1</td>\n",
       "      <td>1</td>\n",
       "      <td>0</td>\n",
       "      <td>0</td>\n",
       "      <td>0</td>\n",
       "      <td>1</td>\n",
       "      <td>1</td>\n",
       "      <td>1</td>\n",
       "      <td>1</td>\n",
       "    </tr>\n",
       "    <tr>\n",
       "      <th>4</th>\n",
       "      <td>27000</td>\n",
       "      <td>1990</td>\n",
       "      <td>1</td>\n",
       "      <td>0.106263</td>\n",
       "      <td>0.020305</td>\n",
       "      <td>2.908823</td>\n",
       "      <td>0.056226</td>\n",
       "      <td>-0.312616</td>\n",
       "      <td>-0.149733</td>\n",
       "      <td>0.004073</td>\n",
       "      <td>...</td>\n",
       "      <td>3</td>\n",
       "      <td>1</td>\n",
       "      <td>1</td>\n",
       "      <td>0</td>\n",
       "      <td>0</td>\n",
       "      <td>0</td>\n",
       "      <td>1</td>\n",
       "      <td>1</td>\n",
       "      <td>1</td>\n",
       "      <td>1</td>\n",
       "    </tr>\n",
       "    <tr>\n",
       "      <th>...</th>\n",
       "      <td>...</td>\n",
       "      <td>...</td>\n",
       "      <td>...</td>\n",
       "      <td>...</td>\n",
       "      <td>...</td>\n",
       "      <td>...</td>\n",
       "      <td>...</td>\n",
       "      <td>...</td>\n",
       "      <td>...</td>\n",
       "      <td>...</td>\n",
       "      <td>...</td>\n",
       "      <td>...</td>\n",
       "      <td>...</td>\n",
       "      <td>...</td>\n",
       "      <td>...</td>\n",
       "      <td>...</td>\n",
       "      <td>...</td>\n",
       "      <td>...</td>\n",
       "      <td>...</td>\n",
       "      <td>...</td>\n",
       "      <td>...</td>\n",
       "    </tr>\n",
       "    <tr>\n",
       "      <th>12334</th>\n",
       "      <td>27058</td>\n",
       "      <td>2023</td>\n",
       "      <td>7</td>\n",
       "      <td>0.110445</td>\n",
       "      <td>0.009928</td>\n",
       "      <td>6.832332</td>\n",
       "      <td>2.326057</td>\n",
       "      <td>0.673112</td>\n",
       "      <td>-0.089241</td>\n",
       "      <td>0.006030</td>\n",
       "      <td>...</td>\n",
       "      <td>0</td>\n",
       "      <td>1</td>\n",
       "      <td>1</td>\n",
       "      <td>1</td>\n",
       "      <td>1</td>\n",
       "      <td>1</td>\n",
       "      <td>1</td>\n",
       "      <td>1</td>\n",
       "      <td>1</td>\n",
       "      <td>1</td>\n",
       "    </tr>\n",
       "    <tr>\n",
       "      <th>12335</th>\n",
       "      <td>27058</td>\n",
       "      <td>2023</td>\n",
       "      <td>7</td>\n",
       "      <td>0.110445</td>\n",
       "      <td>0.009928</td>\n",
       "      <td>6.832332</td>\n",
       "      <td>2.326057</td>\n",
       "      <td>0.673112</td>\n",
       "      <td>-0.089241</td>\n",
       "      <td>0.006030</td>\n",
       "      <td>...</td>\n",
       "      <td>0</td>\n",
       "      <td>1</td>\n",
       "      <td>1</td>\n",
       "      <td>1</td>\n",
       "      <td>1</td>\n",
       "      <td>1</td>\n",
       "      <td>1</td>\n",
       "      <td>1</td>\n",
       "      <td>1</td>\n",
       "      <td>1</td>\n",
       "    </tr>\n",
       "    <tr>\n",
       "      <th>12336</th>\n",
       "      <td>27058</td>\n",
       "      <td>2023</td>\n",
       "      <td>7</td>\n",
       "      <td>0.110445</td>\n",
       "      <td>0.009928</td>\n",
       "      <td>6.832332</td>\n",
       "      <td>2.326057</td>\n",
       "      <td>0.673112</td>\n",
       "      <td>-0.089241</td>\n",
       "      <td>0.006030</td>\n",
       "      <td>...</td>\n",
       "      <td>0</td>\n",
       "      <td>1</td>\n",
       "      <td>1</td>\n",
       "      <td>1</td>\n",
       "      <td>1</td>\n",
       "      <td>1</td>\n",
       "      <td>1</td>\n",
       "      <td>1</td>\n",
       "      <td>1</td>\n",
       "      <td>1</td>\n",
       "    </tr>\n",
       "    <tr>\n",
       "      <th>12337</th>\n",
       "      <td>27058</td>\n",
       "      <td>2023</td>\n",
       "      <td>7</td>\n",
       "      <td>0.110445</td>\n",
       "      <td>0.009928</td>\n",
       "      <td>6.832332</td>\n",
       "      <td>2.326057</td>\n",
       "      <td>0.673112</td>\n",
       "      <td>-0.089241</td>\n",
       "      <td>0.006030</td>\n",
       "      <td>...</td>\n",
       "      <td>0</td>\n",
       "      <td>1</td>\n",
       "      <td>1</td>\n",
       "      <td>1</td>\n",
       "      <td>1</td>\n",
       "      <td>1</td>\n",
       "      <td>1</td>\n",
       "      <td>1</td>\n",
       "      <td>1</td>\n",
       "      <td>1</td>\n",
       "    </tr>\n",
       "    <tr>\n",
       "      <th>12338</th>\n",
       "      <td>27058</td>\n",
       "      <td>2023</td>\n",
       "      <td>7</td>\n",
       "      <td>0.110445</td>\n",
       "      <td>0.009928</td>\n",
       "      <td>6.832332</td>\n",
       "      <td>2.326057</td>\n",
       "      <td>0.673112</td>\n",
       "      <td>-0.089241</td>\n",
       "      <td>0.006030</td>\n",
       "      <td>...</td>\n",
       "      <td>0</td>\n",
       "      <td>1</td>\n",
       "      <td>1</td>\n",
       "      <td>1</td>\n",
       "      <td>1</td>\n",
       "      <td>1</td>\n",
       "      <td>1</td>\n",
       "      <td>1</td>\n",
       "      <td>1</td>\n",
       "      <td>1</td>\n",
       "    </tr>\n",
       "  </tbody>\n",
       "</table>\n",
       "<p>12339 rows × 34 columns</p>\n",
       "</div>"
      ],
      "text/plain": [
       "       CompNo  yyyy mm   StkIndx     STInt  dtdlevel  dtdtrend  \\\n",
       "0       26995  1990  1  0.106263  0.020305  3.176331 -0.148469   \n",
       "1       26996  1990  1  0.106263  0.020305  4.401022  0.054801   \n",
       "2       26996  1990  1  0.106263  0.020305  4.401022  0.054801   \n",
       "3       27000  1990  1  0.106263  0.020305  2.908823  0.056226   \n",
       "4       27000  1990  1  0.106263  0.020305  2.908823  0.056226   \n",
       "...       ...   ... ..       ...       ...       ...       ...   \n",
       "12334   27058  2023  7  0.110445  0.009928  6.832332  2.326057   \n",
       "12335   27058  2023  7  0.110445  0.009928  6.832332  2.326057   \n",
       "12336   27058  2023  7  0.110445  0.009928  6.832332  2.326057   \n",
       "12337   27058  2023  7  0.110445  0.009928  6.832332  2.326057   \n",
       "12338   27058  2023  7  0.110445  0.009928  6.832332  2.326057   \n",
       "\n",
       "       liqnonfinlevel  liqnonfintrend  ni2talevel  ...  nan_count  \\\n",
       "0            0.280325       -0.146216    0.002395  ...          3   \n",
       "1            0.951410        0.033574    0.002635  ...          3   \n",
       "2            0.951410        0.033574    0.002635  ...          3   \n",
       "3           -0.312616       -0.149733    0.004073  ...          3   \n",
       "4           -0.312616       -0.149733    0.004073  ...          3   \n",
       "...               ...             ...         ...  ...        ...   \n",
       "12334        0.673112       -0.089241    0.006030  ...          0   \n",
       "12335        0.673112       -0.089241    0.006030  ...          0   \n",
       "12336        0.673112       -0.089241    0.006030  ...          0   \n",
       "12337        0.673112       -0.089241    0.006030  ...          0   \n",
       "12338        0.673112       -0.089241    0.006030  ...          0   \n",
       "\n",
       "       liqnonfinlevel_notNA  liqnonfintrend_notNA  dtdlevel_notNA  \\\n",
       "0                         1                     1               0   \n",
       "1                         1                     1               0   \n",
       "2                         1                     1               0   \n",
       "3                         1                     1               0   \n",
       "4                         1                     1               0   \n",
       "...                     ...                   ...             ...   \n",
       "12334                     1                     1               1   \n",
       "12335                     1                     1               1   \n",
       "12336                     1                     1               1   \n",
       "12337                     1                     1               1   \n",
       "12338                     1                     1               1   \n",
       "\n",
       "       dtdtrend_notNA  DTDmedianNonFin_notNA  Sector_Number_notNA  \\\n",
       "0                   0                      0                    1   \n",
       "1                   0                      0                    1   \n",
       "2                   0                      0                    1   \n",
       "3                   0                      0                    1   \n",
       "4                   0                      0                    1   \n",
       "...               ...                    ...                  ...   \n",
       "12334               1                      1                    1   \n",
       "12335               1                      1                    1   \n",
       "12336               1                      1                    1   \n",
       "12337               1                      1                    1   \n",
       "12338               1                      1                    1   \n",
       "\n",
       "       DTDmedianFin_notNA  sigma_notNA  StkIndx_notNA  \n",
       "0                       1            1              1  \n",
       "1                       1            1              1  \n",
       "2                       1            1              1  \n",
       "3                       1            1              1  \n",
       "4                       1            1              1  \n",
       "...                   ...          ...            ...  \n",
       "12334                   1            1              1  \n",
       "12335                   1            1              1  \n",
       "12336                   1            1              1  \n",
       "12337                   1            1              1  \n",
       "12338                   1            1              1  \n",
       "\n",
       "[12339 rows x 34 columns]"
      ]
     },
     "execution_count": 19,
     "metadata": {},
     "output_type": "execute_result"
    }
   ],
   "source": [
    "from pandas_gbq import read_gbq\n",
    "\n",
    "query = f\"\"\"\n",
    "SELECT *\n",
    "FROM `{project_id}.{dataset_id}.{table_id}`\n",
    "\n",
    "\"\"\"\n",
    "\n",
    "# Authenticate and read data from BigQuery into a DataFrame\n",
    "df = read_gbq(query, project_id=project_id, dialect='standard')\n",
    "df"
   ]
  },
  {
   "cell_type": "code",
   "execution_count": null,
   "metadata": {},
   "outputs": [
    {
     "data": {
      "text/html": [
       "<div>\n",
       "<style scoped>\n",
       "    .dataframe tbody tr th:only-of-type {\n",
       "        vertical-align: middle;\n",
       "    }\n",
       "\n",
       "    .dataframe tbody tr th {\n",
       "        vertical-align: top;\n",
       "    }\n",
       "\n",
       "    .dataframe thead th {\n",
       "        text-align: right;\n",
       "    }\n",
       "</style>\n",
       "<table border=\"1\" class=\"dataframe\">\n",
       "  <thead>\n",
       "    <tr style=\"text-align: right;\">\n",
       "      <th></th>\n",
       "      <th>CompNo</th>\n",
       "      <th>yyyy</th>\n",
       "      <th>mm</th>\n",
       "      <th>StkIndx</th>\n",
       "      <th>STInt</th>\n",
       "      <th>dtdlevel</th>\n",
       "      <th>dtdtrend</th>\n",
       "      <th>liqnonfinlevel</th>\n",
       "      <th>liqnonfintrend</th>\n",
       "      <th>ni2talevel</th>\n",
       "      <th>...</th>\n",
       "      <th>nan_count</th>\n",
       "      <th>liqnonfinlevel_notNA</th>\n",
       "      <th>liqnonfintrend_notNA</th>\n",
       "      <th>dtdlevel_notNA</th>\n",
       "      <th>dtdtrend_notNA</th>\n",
       "      <th>DTDmedianNonFin_notNA</th>\n",
       "      <th>Sector_Number_notNA</th>\n",
       "      <th>DTDmedianFin_notNA</th>\n",
       "      <th>sigma_notNA</th>\n",
       "      <th>StkIndx_notNA</th>\n",
       "    </tr>\n",
       "  </thead>\n",
       "  <tbody>\n",
       "    <tr>\n",
       "      <th>0</th>\n",
       "      <td>26995</td>\n",
       "      <td>1990</td>\n",
       "      <td>1</td>\n",
       "      <td>0.106263</td>\n",
       "      <td>0.020305</td>\n",
       "      <td>3.176331</td>\n",
       "      <td>-0.148469</td>\n",
       "      <td>0.280325</td>\n",
       "      <td>-0.146216</td>\n",
       "      <td>0.002395</td>\n",
       "      <td>...</td>\n",
       "      <td>3</td>\n",
       "      <td>1</td>\n",
       "      <td>1</td>\n",
       "      <td>0</td>\n",
       "      <td>0</td>\n",
       "      <td>0</td>\n",
       "      <td>1</td>\n",
       "      <td>1</td>\n",
       "      <td>1</td>\n",
       "      <td>1</td>\n",
       "    </tr>\n",
       "    <tr>\n",
       "      <th>1</th>\n",
       "      <td>26996</td>\n",
       "      <td>1990</td>\n",
       "      <td>1</td>\n",
       "      <td>0.106263</td>\n",
       "      <td>0.020305</td>\n",
       "      <td>4.401022</td>\n",
       "      <td>0.054801</td>\n",
       "      <td>0.951410</td>\n",
       "      <td>0.033574</td>\n",
       "      <td>0.002635</td>\n",
       "      <td>...</td>\n",
       "      <td>3</td>\n",
       "      <td>1</td>\n",
       "      <td>1</td>\n",
       "      <td>0</td>\n",
       "      <td>0</td>\n",
       "      <td>0</td>\n",
       "      <td>1</td>\n",
       "      <td>1</td>\n",
       "      <td>1</td>\n",
       "      <td>1</td>\n",
       "    </tr>\n",
       "    <tr>\n",
       "      <th>2</th>\n",
       "      <td>26996</td>\n",
       "      <td>1990</td>\n",
       "      <td>1</td>\n",
       "      <td>0.106263</td>\n",
       "      <td>0.020305</td>\n",
       "      <td>4.401022</td>\n",
       "      <td>0.054801</td>\n",
       "      <td>0.951410</td>\n",
       "      <td>0.033574</td>\n",
       "      <td>0.002635</td>\n",
       "      <td>...</td>\n",
       "      <td>3</td>\n",
       "      <td>1</td>\n",
       "      <td>1</td>\n",
       "      <td>0</td>\n",
       "      <td>0</td>\n",
       "      <td>0</td>\n",
       "      <td>1</td>\n",
       "      <td>1</td>\n",
       "      <td>1</td>\n",
       "      <td>1</td>\n",
       "    </tr>\n",
       "    <tr>\n",
       "      <th>3</th>\n",
       "      <td>27000</td>\n",
       "      <td>1990</td>\n",
       "      <td>1</td>\n",
       "      <td>0.106263</td>\n",
       "      <td>0.020305</td>\n",
       "      <td>2.908823</td>\n",
       "      <td>0.056226</td>\n",
       "      <td>-0.312616</td>\n",
       "      <td>-0.149733</td>\n",
       "      <td>0.004073</td>\n",
       "      <td>...</td>\n",
       "      <td>3</td>\n",
       "      <td>1</td>\n",
       "      <td>1</td>\n",
       "      <td>0</td>\n",
       "      <td>0</td>\n",
       "      <td>0</td>\n",
       "      <td>1</td>\n",
       "      <td>1</td>\n",
       "      <td>1</td>\n",
       "      <td>1</td>\n",
       "    </tr>\n",
       "    <tr>\n",
       "      <th>4</th>\n",
       "      <td>27000</td>\n",
       "      <td>1990</td>\n",
       "      <td>1</td>\n",
       "      <td>0.106263</td>\n",
       "      <td>0.020305</td>\n",
       "      <td>2.908823</td>\n",
       "      <td>0.056226</td>\n",
       "      <td>-0.312616</td>\n",
       "      <td>-0.149733</td>\n",
       "      <td>0.004073</td>\n",
       "      <td>...</td>\n",
       "      <td>3</td>\n",
       "      <td>1</td>\n",
       "      <td>1</td>\n",
       "      <td>0</td>\n",
       "      <td>0</td>\n",
       "      <td>0</td>\n",
       "      <td>1</td>\n",
       "      <td>1</td>\n",
       "      <td>1</td>\n",
       "      <td>1</td>\n",
       "    </tr>\n",
       "    <tr>\n",
       "      <th>...</th>\n",
       "      <td>...</td>\n",
       "      <td>...</td>\n",
       "      <td>...</td>\n",
       "      <td>...</td>\n",
       "      <td>...</td>\n",
       "      <td>...</td>\n",
       "      <td>...</td>\n",
       "      <td>...</td>\n",
       "      <td>...</td>\n",
       "      <td>...</td>\n",
       "      <td>...</td>\n",
       "      <td>...</td>\n",
       "      <td>...</td>\n",
       "      <td>...</td>\n",
       "      <td>...</td>\n",
       "      <td>...</td>\n",
       "      <td>...</td>\n",
       "      <td>...</td>\n",
       "      <td>...</td>\n",
       "      <td>...</td>\n",
       "      <td>...</td>\n",
       "    </tr>\n",
       "    <tr>\n",
       "      <th>12334</th>\n",
       "      <td>27058</td>\n",
       "      <td>2023</td>\n",
       "      <td>7</td>\n",
       "      <td>0.110445</td>\n",
       "      <td>0.009928</td>\n",
       "      <td>6.832332</td>\n",
       "      <td>2.326057</td>\n",
       "      <td>0.673112</td>\n",
       "      <td>-0.089241</td>\n",
       "      <td>0.006030</td>\n",
       "      <td>...</td>\n",
       "      <td>0</td>\n",
       "      <td>1</td>\n",
       "      <td>1</td>\n",
       "      <td>1</td>\n",
       "      <td>1</td>\n",
       "      <td>1</td>\n",
       "      <td>1</td>\n",
       "      <td>1</td>\n",
       "      <td>1</td>\n",
       "      <td>1</td>\n",
       "    </tr>\n",
       "    <tr>\n",
       "      <th>12335</th>\n",
       "      <td>27058</td>\n",
       "      <td>2023</td>\n",
       "      <td>7</td>\n",
       "      <td>0.110445</td>\n",
       "      <td>0.009928</td>\n",
       "      <td>6.832332</td>\n",
       "      <td>2.326057</td>\n",
       "      <td>0.673112</td>\n",
       "      <td>-0.089241</td>\n",
       "      <td>0.006030</td>\n",
       "      <td>...</td>\n",
       "      <td>0</td>\n",
       "      <td>1</td>\n",
       "      <td>1</td>\n",
       "      <td>1</td>\n",
       "      <td>1</td>\n",
       "      <td>1</td>\n",
       "      <td>1</td>\n",
       "      <td>1</td>\n",
       "      <td>1</td>\n",
       "      <td>1</td>\n",
       "    </tr>\n",
       "    <tr>\n",
       "      <th>12336</th>\n",
       "      <td>27058</td>\n",
       "      <td>2023</td>\n",
       "      <td>7</td>\n",
       "      <td>0.110445</td>\n",
       "      <td>0.009928</td>\n",
       "      <td>6.832332</td>\n",
       "      <td>2.326057</td>\n",
       "      <td>0.673112</td>\n",
       "      <td>-0.089241</td>\n",
       "      <td>0.006030</td>\n",
       "      <td>...</td>\n",
       "      <td>0</td>\n",
       "      <td>1</td>\n",
       "      <td>1</td>\n",
       "      <td>1</td>\n",
       "      <td>1</td>\n",
       "      <td>1</td>\n",
       "      <td>1</td>\n",
       "      <td>1</td>\n",
       "      <td>1</td>\n",
       "      <td>1</td>\n",
       "    </tr>\n",
       "    <tr>\n",
       "      <th>12337</th>\n",
       "      <td>27058</td>\n",
       "      <td>2023</td>\n",
       "      <td>7</td>\n",
       "      <td>0.110445</td>\n",
       "      <td>0.009928</td>\n",
       "      <td>6.832332</td>\n",
       "      <td>2.326057</td>\n",
       "      <td>0.673112</td>\n",
       "      <td>-0.089241</td>\n",
       "      <td>0.006030</td>\n",
       "      <td>...</td>\n",
       "      <td>0</td>\n",
       "      <td>1</td>\n",
       "      <td>1</td>\n",
       "      <td>1</td>\n",
       "      <td>1</td>\n",
       "      <td>1</td>\n",
       "      <td>1</td>\n",
       "      <td>1</td>\n",
       "      <td>1</td>\n",
       "      <td>1</td>\n",
       "    </tr>\n",
       "    <tr>\n",
       "      <th>12338</th>\n",
       "      <td>27058</td>\n",
       "      <td>2023</td>\n",
       "      <td>7</td>\n",
       "      <td>0.110445</td>\n",
       "      <td>0.009928</td>\n",
       "      <td>6.832332</td>\n",
       "      <td>2.326057</td>\n",
       "      <td>0.673112</td>\n",
       "      <td>-0.089241</td>\n",
       "      <td>0.006030</td>\n",
       "      <td>...</td>\n",
       "      <td>0</td>\n",
       "      <td>1</td>\n",
       "      <td>1</td>\n",
       "      <td>1</td>\n",
       "      <td>1</td>\n",
       "      <td>1</td>\n",
       "      <td>1</td>\n",
       "      <td>1</td>\n",
       "      <td>1</td>\n",
       "      <td>1</td>\n",
       "    </tr>\n",
       "  </tbody>\n",
       "</table>\n",
       "<p>12178 rows × 34 columns</p>\n",
       "</div>"
      ],
      "text/plain": [
       "       CompNo  yyyy mm   StkIndx     STInt  dtdlevel  dtdtrend  \\\n",
       "0       26995  1990  1  0.106263  0.020305  3.176331 -0.148469   \n",
       "1       26996  1990  1  0.106263  0.020305  4.401022  0.054801   \n",
       "2       26996  1990  1  0.106263  0.020305  4.401022  0.054801   \n",
       "3       27000  1990  1  0.106263  0.020305  2.908823  0.056226   \n",
       "4       27000  1990  1  0.106263  0.020305  2.908823  0.056226   \n",
       "...       ...   ... ..       ...       ...       ...       ...   \n",
       "12334   27058  2023  7  0.110445  0.009928  6.832332  2.326057   \n",
       "12335   27058  2023  7  0.110445  0.009928  6.832332  2.326057   \n",
       "12336   27058  2023  7  0.110445  0.009928  6.832332  2.326057   \n",
       "12337   27058  2023  7  0.110445  0.009928  6.832332  2.326057   \n",
       "12338   27058  2023  7  0.110445  0.009928  6.832332  2.326057   \n",
       "\n",
       "       liqnonfinlevel  liqnonfintrend  ni2talevel  ...  nan_count  \\\n",
       "0            0.280325       -0.146216    0.002395  ...          3   \n",
       "1            0.951410        0.033574    0.002635  ...          3   \n",
       "2            0.951410        0.033574    0.002635  ...          3   \n",
       "3           -0.312616       -0.149733    0.004073  ...          3   \n",
       "4           -0.312616       -0.149733    0.004073  ...          3   \n",
       "...               ...             ...         ...  ...        ...   \n",
       "12334        0.673112       -0.089241    0.006030  ...          0   \n",
       "12335        0.673112       -0.089241    0.006030  ...          0   \n",
       "12336        0.673112       -0.089241    0.006030  ...          0   \n",
       "12337        0.673112       -0.089241    0.006030  ...          0   \n",
       "12338        0.673112       -0.089241    0.006030  ...          0   \n",
       "\n",
       "       liqnonfinlevel_notNA  liqnonfintrend_notNA  dtdlevel_notNA  \\\n",
       "0                         1                     1               0   \n",
       "1                         1                     1               0   \n",
       "2                         1                     1               0   \n",
       "3                         1                     1               0   \n",
       "4                         1                     1               0   \n",
       "...                     ...                   ...             ...   \n",
       "12334                     1                     1               1   \n",
       "12335                     1                     1               1   \n",
       "12336                     1                     1               1   \n",
       "12337                     1                     1               1   \n",
       "12338                     1                     1               1   \n",
       "\n",
       "       dtdtrend_notNA  DTDmedianNonFin_notNA  Sector_Number_notNA  \\\n",
       "0                   0                      0                    1   \n",
       "1                   0                      0                    1   \n",
       "2                   0                      0                    1   \n",
       "3                   0                      0                    1   \n",
       "4                   0                      0                    1   \n",
       "...               ...                    ...                  ...   \n",
       "12334               1                      1                    1   \n",
       "12335               1                      1                    1   \n",
       "12336               1                      1                    1   \n",
       "12337               1                      1                    1   \n",
       "12338               1                      1                    1   \n",
       "\n",
       "       DTDmedianFin_notNA  sigma_notNA  StkIndx_notNA  \n",
       "0                       1            1              1  \n",
       "1                       1            1              1  \n",
       "2                       1            1              1  \n",
       "3                       1            1              1  \n",
       "4                       1            1              1  \n",
       "...                   ...          ...            ...  \n",
       "12334                   1            1              1  \n",
       "12335                   1            1              1  \n",
       "12336                   1            1              1  \n",
       "12337                   1            1              1  \n",
       "12338                   1            1              1  \n",
       "\n",
       "[12178 rows x 34 columns]"
      ]
     },
     "execution_count": 20,
     "metadata": {},
     "output_type": "execute_result"
    }
   ],
   "source": [
    "#drop na rows\n",
    "test_df = df.dropna()\n",
    "test_df"
   ]
  },
  {
   "cell_type": "code",
   "execution_count": null,
   "metadata": {},
   "outputs": [
    {
     "name": "stderr",
     "output_type": "stream",
     "text": [
      "/var/folders/rz/d40gjr2505ddk3wl3mnzmvdm0000gn/T/ipykernel_15768/3448417843.py:2: SettingWithCopyWarning: \n",
      "A value is trying to be set on a copy of a slice from a DataFrame.\n",
      "Try using .loc[row_indexer,col_indexer] = value instead\n",
      "\n",
      "See the caveats in the documentation: https://pandas.pydata.org/pandas-docs/stable/user_guide/indexing.html#returning-a-view-versus-a-copy\n",
      "  test_df['Event_type'] = test_df['Event_type'].map(lambda x : 0 if x ==2  else x)\n"
     ]
    },
    {
     "data": {
      "text/html": [
       "<div>\n",
       "<style scoped>\n",
       "    .dataframe tbody tr th:only-of-type {\n",
       "        vertical-align: middle;\n",
       "    }\n",
       "\n",
       "    .dataframe tbody tr th {\n",
       "        vertical-align: top;\n",
       "    }\n",
       "\n",
       "    .dataframe thead th {\n",
       "        text-align: right;\n",
       "    }\n",
       "</style>\n",
       "<table border=\"1\" class=\"dataframe\">\n",
       "  <thead>\n",
       "    <tr style=\"text-align: right;\">\n",
       "      <th></th>\n",
       "      <th>CompNo</th>\n",
       "      <th>yyyy</th>\n",
       "      <th>mm</th>\n",
       "      <th>StkIndx</th>\n",
       "      <th>STInt</th>\n",
       "      <th>dtdlevel</th>\n",
       "      <th>dtdtrend</th>\n",
       "      <th>liqnonfinlevel</th>\n",
       "      <th>liqnonfintrend</th>\n",
       "      <th>ni2talevel</th>\n",
       "      <th>...</th>\n",
       "      <th>nan_count</th>\n",
       "      <th>liqnonfinlevel_notNA</th>\n",
       "      <th>liqnonfintrend_notNA</th>\n",
       "      <th>dtdlevel_notNA</th>\n",
       "      <th>dtdtrend_notNA</th>\n",
       "      <th>DTDmedianNonFin_notNA</th>\n",
       "      <th>Sector_Number_notNA</th>\n",
       "      <th>DTDmedianFin_notNA</th>\n",
       "      <th>sigma_notNA</th>\n",
       "      <th>StkIndx_notNA</th>\n",
       "    </tr>\n",
       "  </thead>\n",
       "  <tbody>\n",
       "    <tr>\n",
       "      <th>0</th>\n",
       "      <td>26995</td>\n",
       "      <td>1990</td>\n",
       "      <td>1</td>\n",
       "      <td>0.106263</td>\n",
       "      <td>0.020305</td>\n",
       "      <td>3.176331</td>\n",
       "      <td>-0.148469</td>\n",
       "      <td>0.280325</td>\n",
       "      <td>-0.146216</td>\n",
       "      <td>0.002395</td>\n",
       "      <td>...</td>\n",
       "      <td>3</td>\n",
       "      <td>1</td>\n",
       "      <td>1</td>\n",
       "      <td>0</td>\n",
       "      <td>0</td>\n",
       "      <td>0</td>\n",
       "      <td>1</td>\n",
       "      <td>1</td>\n",
       "      <td>1</td>\n",
       "      <td>1</td>\n",
       "    </tr>\n",
       "    <tr>\n",
       "      <th>1</th>\n",
       "      <td>26996</td>\n",
       "      <td>1990</td>\n",
       "      <td>1</td>\n",
       "      <td>0.106263</td>\n",
       "      <td>0.020305</td>\n",
       "      <td>4.401022</td>\n",
       "      <td>0.054801</td>\n",
       "      <td>0.951410</td>\n",
       "      <td>0.033574</td>\n",
       "      <td>0.002635</td>\n",
       "      <td>...</td>\n",
       "      <td>3</td>\n",
       "      <td>1</td>\n",
       "      <td>1</td>\n",
       "      <td>0</td>\n",
       "      <td>0</td>\n",
       "      <td>0</td>\n",
       "      <td>1</td>\n",
       "      <td>1</td>\n",
       "      <td>1</td>\n",
       "      <td>1</td>\n",
       "    </tr>\n",
       "    <tr>\n",
       "      <th>2</th>\n",
       "      <td>26996</td>\n",
       "      <td>1990</td>\n",
       "      <td>1</td>\n",
       "      <td>0.106263</td>\n",
       "      <td>0.020305</td>\n",
       "      <td>4.401022</td>\n",
       "      <td>0.054801</td>\n",
       "      <td>0.951410</td>\n",
       "      <td>0.033574</td>\n",
       "      <td>0.002635</td>\n",
       "      <td>...</td>\n",
       "      <td>3</td>\n",
       "      <td>1</td>\n",
       "      <td>1</td>\n",
       "      <td>0</td>\n",
       "      <td>0</td>\n",
       "      <td>0</td>\n",
       "      <td>1</td>\n",
       "      <td>1</td>\n",
       "      <td>1</td>\n",
       "      <td>1</td>\n",
       "    </tr>\n",
       "    <tr>\n",
       "      <th>3</th>\n",
       "      <td>27000</td>\n",
       "      <td>1990</td>\n",
       "      <td>1</td>\n",
       "      <td>0.106263</td>\n",
       "      <td>0.020305</td>\n",
       "      <td>2.908823</td>\n",
       "      <td>0.056226</td>\n",
       "      <td>-0.312616</td>\n",
       "      <td>-0.149733</td>\n",
       "      <td>0.004073</td>\n",
       "      <td>...</td>\n",
       "      <td>3</td>\n",
       "      <td>1</td>\n",
       "      <td>1</td>\n",
       "      <td>0</td>\n",
       "      <td>0</td>\n",
       "      <td>0</td>\n",
       "      <td>1</td>\n",
       "      <td>1</td>\n",
       "      <td>1</td>\n",
       "      <td>1</td>\n",
       "    </tr>\n",
       "    <tr>\n",
       "      <th>4</th>\n",
       "      <td>27000</td>\n",
       "      <td>1990</td>\n",
       "      <td>1</td>\n",
       "      <td>0.106263</td>\n",
       "      <td>0.020305</td>\n",
       "      <td>2.908823</td>\n",
       "      <td>0.056226</td>\n",
       "      <td>-0.312616</td>\n",
       "      <td>-0.149733</td>\n",
       "      <td>0.004073</td>\n",
       "      <td>...</td>\n",
       "      <td>3</td>\n",
       "      <td>1</td>\n",
       "      <td>1</td>\n",
       "      <td>0</td>\n",
       "      <td>0</td>\n",
       "      <td>0</td>\n",
       "      <td>1</td>\n",
       "      <td>1</td>\n",
       "      <td>1</td>\n",
       "      <td>1</td>\n",
       "    </tr>\n",
       "    <tr>\n",
       "      <th>...</th>\n",
       "      <td>...</td>\n",
       "      <td>...</td>\n",
       "      <td>...</td>\n",
       "      <td>...</td>\n",
       "      <td>...</td>\n",
       "      <td>...</td>\n",
       "      <td>...</td>\n",
       "      <td>...</td>\n",
       "      <td>...</td>\n",
       "      <td>...</td>\n",
       "      <td>...</td>\n",
       "      <td>...</td>\n",
       "      <td>...</td>\n",
       "      <td>...</td>\n",
       "      <td>...</td>\n",
       "      <td>...</td>\n",
       "      <td>...</td>\n",
       "      <td>...</td>\n",
       "      <td>...</td>\n",
       "      <td>...</td>\n",
       "      <td>...</td>\n",
       "    </tr>\n",
       "    <tr>\n",
       "      <th>12334</th>\n",
       "      <td>27058</td>\n",
       "      <td>2023</td>\n",
       "      <td>7</td>\n",
       "      <td>0.110445</td>\n",
       "      <td>0.009928</td>\n",
       "      <td>6.832332</td>\n",
       "      <td>2.326057</td>\n",
       "      <td>0.673112</td>\n",
       "      <td>-0.089241</td>\n",
       "      <td>0.006030</td>\n",
       "      <td>...</td>\n",
       "      <td>0</td>\n",
       "      <td>1</td>\n",
       "      <td>1</td>\n",
       "      <td>1</td>\n",
       "      <td>1</td>\n",
       "      <td>1</td>\n",
       "      <td>1</td>\n",
       "      <td>1</td>\n",
       "      <td>1</td>\n",
       "      <td>1</td>\n",
       "    </tr>\n",
       "    <tr>\n",
       "      <th>12335</th>\n",
       "      <td>27058</td>\n",
       "      <td>2023</td>\n",
       "      <td>7</td>\n",
       "      <td>0.110445</td>\n",
       "      <td>0.009928</td>\n",
       "      <td>6.832332</td>\n",
       "      <td>2.326057</td>\n",
       "      <td>0.673112</td>\n",
       "      <td>-0.089241</td>\n",
       "      <td>0.006030</td>\n",
       "      <td>...</td>\n",
       "      <td>0</td>\n",
       "      <td>1</td>\n",
       "      <td>1</td>\n",
       "      <td>1</td>\n",
       "      <td>1</td>\n",
       "      <td>1</td>\n",
       "      <td>1</td>\n",
       "      <td>1</td>\n",
       "      <td>1</td>\n",
       "      <td>1</td>\n",
       "    </tr>\n",
       "    <tr>\n",
       "      <th>12336</th>\n",
       "      <td>27058</td>\n",
       "      <td>2023</td>\n",
       "      <td>7</td>\n",
       "      <td>0.110445</td>\n",
       "      <td>0.009928</td>\n",
       "      <td>6.832332</td>\n",
       "      <td>2.326057</td>\n",
       "      <td>0.673112</td>\n",
       "      <td>-0.089241</td>\n",
       "      <td>0.006030</td>\n",
       "      <td>...</td>\n",
       "      <td>0</td>\n",
       "      <td>1</td>\n",
       "      <td>1</td>\n",
       "      <td>1</td>\n",
       "      <td>1</td>\n",
       "      <td>1</td>\n",
       "      <td>1</td>\n",
       "      <td>1</td>\n",
       "      <td>1</td>\n",
       "      <td>1</td>\n",
       "    </tr>\n",
       "    <tr>\n",
       "      <th>12337</th>\n",
       "      <td>27058</td>\n",
       "      <td>2023</td>\n",
       "      <td>7</td>\n",
       "      <td>0.110445</td>\n",
       "      <td>0.009928</td>\n",
       "      <td>6.832332</td>\n",
       "      <td>2.326057</td>\n",
       "      <td>0.673112</td>\n",
       "      <td>-0.089241</td>\n",
       "      <td>0.006030</td>\n",
       "      <td>...</td>\n",
       "      <td>0</td>\n",
       "      <td>1</td>\n",
       "      <td>1</td>\n",
       "      <td>1</td>\n",
       "      <td>1</td>\n",
       "      <td>1</td>\n",
       "      <td>1</td>\n",
       "      <td>1</td>\n",
       "      <td>1</td>\n",
       "      <td>1</td>\n",
       "    </tr>\n",
       "    <tr>\n",
       "      <th>12338</th>\n",
       "      <td>27058</td>\n",
       "      <td>2023</td>\n",
       "      <td>7</td>\n",
       "      <td>0.110445</td>\n",
       "      <td>0.009928</td>\n",
       "      <td>6.832332</td>\n",
       "      <td>2.326057</td>\n",
       "      <td>0.673112</td>\n",
       "      <td>-0.089241</td>\n",
       "      <td>0.006030</td>\n",
       "      <td>...</td>\n",
       "      <td>0</td>\n",
       "      <td>1</td>\n",
       "      <td>1</td>\n",
       "      <td>1</td>\n",
       "      <td>1</td>\n",
       "      <td>1</td>\n",
       "      <td>1</td>\n",
       "      <td>1</td>\n",
       "      <td>1</td>\n",
       "      <td>1</td>\n",
       "    </tr>\n",
       "  </tbody>\n",
       "</table>\n",
       "<p>12178 rows × 34 columns</p>\n",
       "</div>"
      ],
      "text/plain": [
       "       CompNo  yyyy mm   StkIndx     STInt  dtdlevel  dtdtrend  \\\n",
       "0       26995  1990  1  0.106263  0.020305  3.176331 -0.148469   \n",
       "1       26996  1990  1  0.106263  0.020305  4.401022  0.054801   \n",
       "2       26996  1990  1  0.106263  0.020305  4.401022  0.054801   \n",
       "3       27000  1990  1  0.106263  0.020305  2.908823  0.056226   \n",
       "4       27000  1990  1  0.106263  0.020305  2.908823  0.056226   \n",
       "...       ...   ... ..       ...       ...       ...       ...   \n",
       "12334   27058  2023  7  0.110445  0.009928  6.832332  2.326057   \n",
       "12335   27058  2023  7  0.110445  0.009928  6.832332  2.326057   \n",
       "12336   27058  2023  7  0.110445  0.009928  6.832332  2.326057   \n",
       "12337   27058  2023  7  0.110445  0.009928  6.832332  2.326057   \n",
       "12338   27058  2023  7  0.110445  0.009928  6.832332  2.326057   \n",
       "\n",
       "       liqnonfinlevel  liqnonfintrend  ni2talevel  ...  nan_count  \\\n",
       "0            0.280325       -0.146216    0.002395  ...          3   \n",
       "1            0.951410        0.033574    0.002635  ...          3   \n",
       "2            0.951410        0.033574    0.002635  ...          3   \n",
       "3           -0.312616       -0.149733    0.004073  ...          3   \n",
       "4           -0.312616       -0.149733    0.004073  ...          3   \n",
       "...               ...             ...         ...  ...        ...   \n",
       "12334        0.673112       -0.089241    0.006030  ...          0   \n",
       "12335        0.673112       -0.089241    0.006030  ...          0   \n",
       "12336        0.673112       -0.089241    0.006030  ...          0   \n",
       "12337        0.673112       -0.089241    0.006030  ...          0   \n",
       "12338        0.673112       -0.089241    0.006030  ...          0   \n",
       "\n",
       "       liqnonfinlevel_notNA  liqnonfintrend_notNA  dtdlevel_notNA  \\\n",
       "0                         1                     1               0   \n",
       "1                         1                     1               0   \n",
       "2                         1                     1               0   \n",
       "3                         1                     1               0   \n",
       "4                         1                     1               0   \n",
       "...                     ...                   ...             ...   \n",
       "12334                     1                     1               1   \n",
       "12335                     1                     1               1   \n",
       "12336                     1                     1               1   \n",
       "12337                     1                     1               1   \n",
       "12338                     1                     1               1   \n",
       "\n",
       "       dtdtrend_notNA  DTDmedianNonFin_notNA  Sector_Number_notNA  \\\n",
       "0                   0                      0                    1   \n",
       "1                   0                      0                    1   \n",
       "2                   0                      0                    1   \n",
       "3                   0                      0                    1   \n",
       "4                   0                      0                    1   \n",
       "...               ...                    ...                  ...   \n",
       "12334               1                      1                    1   \n",
       "12335               1                      1                    1   \n",
       "12336               1                      1                    1   \n",
       "12337               1                      1                    1   \n",
       "12338               1                      1                    1   \n",
       "\n",
       "       DTDmedianFin_notNA  sigma_notNA  StkIndx_notNA  \n",
       "0                       1            1              1  \n",
       "1                       1            1              1  \n",
       "2                       1            1              1  \n",
       "3                       1            1              1  \n",
       "4                       1            1              1  \n",
       "...                   ...          ...            ...  \n",
       "12334                   1            1              1  \n",
       "12335                   1            1              1  \n",
       "12336                   1            1              1  \n",
       "12337                   1            1              1  \n",
       "12338                   1            1              1  \n",
       "\n",
       "[12178 rows x 34 columns]"
      ]
     },
     "execution_count": 21,
     "metadata": {},
     "output_type": "execute_result"
    }
   ],
   "source": [
    "#map event type\n",
    "test_df['Event_type'] = test_df['Event_type'].map(lambda x : 0 if x ==2  else x)\n",
    "test_df"
   ]
  },
  {
   "cell_type": "code",
   "execution_count": null,
   "metadata": {},
   "outputs": [],
   "source": [
    "X = test_df.drop(['Event_type', 'yyyy', 'mm', 'EventDate'], axis=1)  # Features\n",
    "y = test_df['Event_type']  # Target\n",
    "\n",
    "X_train, X_test, y_train, y_test = train_test_split(X, y, test_size=0.2, random_state=42)"
   ]
  },
  {
   "cell_type": "code",
   "execution_count": null,
   "metadata": {},
   "outputs": [
    {
     "name": "stdout",
     "output_type": "stream",
     "text": [
      "[LightGBM] [Info] Number of positive: 727, number of negative: 9015\n",
      "[LightGBM] [Warning] Auto-choosing col-wise multi-threading, the overhead of testing was 0.002911 seconds.\n",
      "You can set `force_col_wise=true` to remove the overhead.\n",
      "[LightGBM] [Info] Total Bins 4108\n",
      "[LightGBM] [Info] Number of data points in the train set: 9742, number of used features: 28\n",
      "[LightGBM] [Info] [binary:BoostFromScore]: pavg=0.889678 -> initscore=2.087452\n",
      "[LightGBM] [Info] Start training from score 2.087452\n"
     ]
    }
   ],
   "source": [
    "class_weights = {0:1, 1:100}\n",
    "model = LGBMClassifier( class_weight = class_weights)\n",
    "model.fit(X_train, y_train)\n",
    "pred = model.predict(X_test)"
   ]
  },
  {
   "cell_type": "code",
   "execution_count": null,
   "metadata": {},
   "outputs": [
    {
     "name": "stdout",
     "output_type": "stream",
     "text": [
      "Training accuracy 0.7540\n",
      "Testing accuracy 0.6773\n"
     ]
    }
   ],
   "source": [
    "print('Training accuracy {:.4f}'.format(model.score(X_train,y_train)))\n",
    "print('Testing accuracy {:.4f}'.format(model.score(X_test,y_test)))"
   ]
  },
  {
   "cell_type": "code",
   "execution_count": null,
   "metadata": {},
   "outputs": [
    {
     "name": "stdout",
     "output_type": "stream",
     "text": [
      "              precision    recall  f1-score   support\n",
      "\n",
      "           0       0.96      0.68      0.80      2254\n",
      "           1       0.14      0.67      0.24       182\n",
      "\n",
      "    accuracy                           0.68      2436\n",
      "   macro avg       0.55      0.67      0.52      2436\n",
      "weighted avg       0.90      0.68      0.75      2436\n",
      "\n"
     ]
    }
   ],
   "source": [
    "print(metrics.classification_report(y_test,model.predict(X_test)))"
   ]
  },
  {
   "cell_type": "markdown",
   "metadata": {},
   "source": [
    "push updated table to gbq, ie the table used for modeling"
   ]
  },
  {
   "cell_type": "code",
   "execution_count": null,
   "metadata": {},
   "outputs": [
    {
     "data": {
      "text/html": [
       "<div>\n",
       "<style scoped>\n",
       "    .dataframe tbody tr th:only-of-type {\n",
       "        vertical-align: middle;\n",
       "    }\n",
       "\n",
       "    .dataframe tbody tr th {\n",
       "        vertical-align: top;\n",
       "    }\n",
       "\n",
       "    .dataframe thead th {\n",
       "        text-align: right;\n",
       "    }\n",
       "</style>\n",
       "<table border=\"1\" class=\"dataframe\">\n",
       "  <thead>\n",
       "    <tr style=\"text-align: right;\">\n",
       "      <th></th>\n",
       "      <th>CompNo</th>\n",
       "      <th>StkIndx</th>\n",
       "      <th>STInt</th>\n",
       "      <th>dtdlevel</th>\n",
       "      <th>dtdtrend</th>\n",
       "      <th>liqnonfinlevel</th>\n",
       "      <th>liqnonfintrend</th>\n",
       "      <th>ni2talevel</th>\n",
       "      <th>ni2tatrend</th>\n",
       "      <th>sizelevel</th>\n",
       "      <th>...</th>\n",
       "      <th>nan_count</th>\n",
       "      <th>liqnonfinlevel_notNA</th>\n",
       "      <th>liqnonfintrend_notNA</th>\n",
       "      <th>dtdlevel_notNA</th>\n",
       "      <th>dtdtrend_notNA</th>\n",
       "      <th>DTDmedianNonFin_notNA</th>\n",
       "      <th>Sector_Number_notNA</th>\n",
       "      <th>DTDmedianFin_notNA</th>\n",
       "      <th>sigma_notNA</th>\n",
       "      <th>StkIndx_notNA</th>\n",
       "    </tr>\n",
       "  </thead>\n",
       "  <tbody>\n",
       "    <tr>\n",
       "      <th>0</th>\n",
       "      <td>26995</td>\n",
       "      <td>0.106263</td>\n",
       "      <td>0.020305</td>\n",
       "      <td>3.176331</td>\n",
       "      <td>-0.148469</td>\n",
       "      <td>0.280325</td>\n",
       "      <td>-0.146216</td>\n",
       "      <td>0.002395</td>\n",
       "      <td>0.001367</td>\n",
       "      <td>0.666644</td>\n",
       "      <td>...</td>\n",
       "      <td>3</td>\n",
       "      <td>1</td>\n",
       "      <td>1</td>\n",
       "      <td>0</td>\n",
       "      <td>0</td>\n",
       "      <td>0</td>\n",
       "      <td>1</td>\n",
       "      <td>1</td>\n",
       "      <td>1</td>\n",
       "      <td>1</td>\n",
       "    </tr>\n",
       "    <tr>\n",
       "      <th>1</th>\n",
       "      <td>26996</td>\n",
       "      <td>0.106263</td>\n",
       "      <td>0.020305</td>\n",
       "      <td>4.401022</td>\n",
       "      <td>0.054801</td>\n",
       "      <td>0.951410</td>\n",
       "      <td>0.033574</td>\n",
       "      <td>0.002635</td>\n",
       "      <td>-0.000224</td>\n",
       "      <td>0.014110</td>\n",
       "      <td>...</td>\n",
       "      <td>3</td>\n",
       "      <td>1</td>\n",
       "      <td>1</td>\n",
       "      <td>0</td>\n",
       "      <td>0</td>\n",
       "      <td>0</td>\n",
       "      <td>1</td>\n",
       "      <td>1</td>\n",
       "      <td>1</td>\n",
       "      <td>1</td>\n",
       "    </tr>\n",
       "    <tr>\n",
       "      <th>2</th>\n",
       "      <td>26996</td>\n",
       "      <td>0.106263</td>\n",
       "      <td>0.020305</td>\n",
       "      <td>4.401022</td>\n",
       "      <td>0.054801</td>\n",
       "      <td>0.951410</td>\n",
       "      <td>0.033574</td>\n",
       "      <td>0.002635</td>\n",
       "      <td>-0.000224</td>\n",
       "      <td>0.014110</td>\n",
       "      <td>...</td>\n",
       "      <td>3</td>\n",
       "      <td>1</td>\n",
       "      <td>1</td>\n",
       "      <td>0</td>\n",
       "      <td>0</td>\n",
       "      <td>0</td>\n",
       "      <td>1</td>\n",
       "      <td>1</td>\n",
       "      <td>1</td>\n",
       "      <td>1</td>\n",
       "    </tr>\n",
       "    <tr>\n",
       "      <th>3</th>\n",
       "      <td>27000</td>\n",
       "      <td>0.106263</td>\n",
       "      <td>0.020305</td>\n",
       "      <td>2.908823</td>\n",
       "      <td>0.056226</td>\n",
       "      <td>-0.312616</td>\n",
       "      <td>-0.149733</td>\n",
       "      <td>0.004073</td>\n",
       "      <td>0.004625</td>\n",
       "      <td>1.248517</td>\n",
       "      <td>...</td>\n",
       "      <td>3</td>\n",
       "      <td>1</td>\n",
       "      <td>1</td>\n",
       "      <td>0</td>\n",
       "      <td>0</td>\n",
       "      <td>0</td>\n",
       "      <td>1</td>\n",
       "      <td>1</td>\n",
       "      <td>1</td>\n",
       "      <td>1</td>\n",
       "    </tr>\n",
       "    <tr>\n",
       "      <th>4</th>\n",
       "      <td>27000</td>\n",
       "      <td>0.106263</td>\n",
       "      <td>0.020305</td>\n",
       "      <td>2.908823</td>\n",
       "      <td>0.056226</td>\n",
       "      <td>-0.312616</td>\n",
       "      <td>-0.149733</td>\n",
       "      <td>0.004073</td>\n",
       "      <td>0.004625</td>\n",
       "      <td>1.248517</td>\n",
       "      <td>...</td>\n",
       "      <td>3</td>\n",
       "      <td>1</td>\n",
       "      <td>1</td>\n",
       "      <td>0</td>\n",
       "      <td>0</td>\n",
       "      <td>0</td>\n",
       "      <td>1</td>\n",
       "      <td>1</td>\n",
       "      <td>1</td>\n",
       "      <td>1</td>\n",
       "    </tr>\n",
       "    <tr>\n",
       "      <th>...</th>\n",
       "      <td>...</td>\n",
       "      <td>...</td>\n",
       "      <td>...</td>\n",
       "      <td>...</td>\n",
       "      <td>...</td>\n",
       "      <td>...</td>\n",
       "      <td>...</td>\n",
       "      <td>...</td>\n",
       "      <td>...</td>\n",
       "      <td>...</td>\n",
       "      <td>...</td>\n",
       "      <td>...</td>\n",
       "      <td>...</td>\n",
       "      <td>...</td>\n",
       "      <td>...</td>\n",
       "      <td>...</td>\n",
       "      <td>...</td>\n",
       "      <td>...</td>\n",
       "      <td>...</td>\n",
       "      <td>...</td>\n",
       "      <td>...</td>\n",
       "    </tr>\n",
       "    <tr>\n",
       "      <th>12334</th>\n",
       "      <td>27058</td>\n",
       "      <td>0.110445</td>\n",
       "      <td>0.009928</td>\n",
       "      <td>6.832332</td>\n",
       "      <td>2.326057</td>\n",
       "      <td>0.673112</td>\n",
       "      <td>-0.089241</td>\n",
       "      <td>0.006030</td>\n",
       "      <td>0.000547</td>\n",
       "      <td>5.101596</td>\n",
       "      <td>...</td>\n",
       "      <td>0</td>\n",
       "      <td>1</td>\n",
       "      <td>1</td>\n",
       "      <td>1</td>\n",
       "      <td>1</td>\n",
       "      <td>1</td>\n",
       "      <td>1</td>\n",
       "      <td>1</td>\n",
       "      <td>1</td>\n",
       "      <td>1</td>\n",
       "    </tr>\n",
       "    <tr>\n",
       "      <th>12335</th>\n",
       "      <td>27058</td>\n",
       "      <td>0.110445</td>\n",
       "      <td>0.009928</td>\n",
       "      <td>6.832332</td>\n",
       "      <td>2.326057</td>\n",
       "      <td>0.673112</td>\n",
       "      <td>-0.089241</td>\n",
       "      <td>0.006030</td>\n",
       "      <td>0.000547</td>\n",
       "      <td>5.101596</td>\n",
       "      <td>...</td>\n",
       "      <td>0</td>\n",
       "      <td>1</td>\n",
       "      <td>1</td>\n",
       "      <td>1</td>\n",
       "      <td>1</td>\n",
       "      <td>1</td>\n",
       "      <td>1</td>\n",
       "      <td>1</td>\n",
       "      <td>1</td>\n",
       "      <td>1</td>\n",
       "    </tr>\n",
       "    <tr>\n",
       "      <th>12336</th>\n",
       "      <td>27058</td>\n",
       "      <td>0.110445</td>\n",
       "      <td>0.009928</td>\n",
       "      <td>6.832332</td>\n",
       "      <td>2.326057</td>\n",
       "      <td>0.673112</td>\n",
       "      <td>-0.089241</td>\n",
       "      <td>0.006030</td>\n",
       "      <td>0.000547</td>\n",
       "      <td>5.101596</td>\n",
       "      <td>...</td>\n",
       "      <td>0</td>\n",
       "      <td>1</td>\n",
       "      <td>1</td>\n",
       "      <td>1</td>\n",
       "      <td>1</td>\n",
       "      <td>1</td>\n",
       "      <td>1</td>\n",
       "      <td>1</td>\n",
       "      <td>1</td>\n",
       "      <td>1</td>\n",
       "    </tr>\n",
       "    <tr>\n",
       "      <th>12337</th>\n",
       "      <td>27058</td>\n",
       "      <td>0.110445</td>\n",
       "      <td>0.009928</td>\n",
       "      <td>6.832332</td>\n",
       "      <td>2.326057</td>\n",
       "      <td>0.673112</td>\n",
       "      <td>-0.089241</td>\n",
       "      <td>0.006030</td>\n",
       "      <td>0.000547</td>\n",
       "      <td>5.101596</td>\n",
       "      <td>...</td>\n",
       "      <td>0</td>\n",
       "      <td>1</td>\n",
       "      <td>1</td>\n",
       "      <td>1</td>\n",
       "      <td>1</td>\n",
       "      <td>1</td>\n",
       "      <td>1</td>\n",
       "      <td>1</td>\n",
       "      <td>1</td>\n",
       "      <td>1</td>\n",
       "    </tr>\n",
       "    <tr>\n",
       "      <th>12338</th>\n",
       "      <td>27058</td>\n",
       "      <td>0.110445</td>\n",
       "      <td>0.009928</td>\n",
       "      <td>6.832332</td>\n",
       "      <td>2.326057</td>\n",
       "      <td>0.673112</td>\n",
       "      <td>-0.089241</td>\n",
       "      <td>0.006030</td>\n",
       "      <td>0.000547</td>\n",
       "      <td>5.101596</td>\n",
       "      <td>...</td>\n",
       "      <td>0</td>\n",
       "      <td>1</td>\n",
       "      <td>1</td>\n",
       "      <td>1</td>\n",
       "      <td>1</td>\n",
       "      <td>1</td>\n",
       "      <td>1</td>\n",
       "      <td>1</td>\n",
       "      <td>1</td>\n",
       "      <td>1</td>\n",
       "    </tr>\n",
       "  </tbody>\n",
       "</table>\n",
       "<p>12178 rows × 31 columns</p>\n",
       "</div>"
      ],
      "text/plain": [
       "       CompNo   StkIndx     STInt  dtdlevel  dtdtrend  liqnonfinlevel  \\\n",
       "0       26995  0.106263  0.020305  3.176331 -0.148469        0.280325   \n",
       "1       26996  0.106263  0.020305  4.401022  0.054801        0.951410   \n",
       "2       26996  0.106263  0.020305  4.401022  0.054801        0.951410   \n",
       "3       27000  0.106263  0.020305  2.908823  0.056226       -0.312616   \n",
       "4       27000  0.106263  0.020305  2.908823  0.056226       -0.312616   \n",
       "...       ...       ...       ...       ...       ...             ...   \n",
       "12334   27058  0.110445  0.009928  6.832332  2.326057        0.673112   \n",
       "12335   27058  0.110445  0.009928  6.832332  2.326057        0.673112   \n",
       "12336   27058  0.110445  0.009928  6.832332  2.326057        0.673112   \n",
       "12337   27058  0.110445  0.009928  6.832332  2.326057        0.673112   \n",
       "12338   27058  0.110445  0.009928  6.832332  2.326057        0.673112   \n",
       "\n",
       "       liqnonfintrend  ni2talevel  ni2tatrend  sizelevel  ...  nan_count  \\\n",
       "0           -0.146216    0.002395    0.001367   0.666644  ...          3   \n",
       "1            0.033574    0.002635   -0.000224   0.014110  ...          3   \n",
       "2            0.033574    0.002635   -0.000224   0.014110  ...          3   \n",
       "3           -0.149733    0.004073    0.004625   1.248517  ...          3   \n",
       "4           -0.149733    0.004073    0.004625   1.248517  ...          3   \n",
       "...               ...         ...         ...        ...  ...        ...   \n",
       "12334       -0.089241    0.006030    0.000547   5.101596  ...          0   \n",
       "12335       -0.089241    0.006030    0.000547   5.101596  ...          0   \n",
       "12336       -0.089241    0.006030    0.000547   5.101596  ...          0   \n",
       "12337       -0.089241    0.006030    0.000547   5.101596  ...          0   \n",
       "12338       -0.089241    0.006030    0.000547   5.101596  ...          0   \n",
       "\n",
       "       liqnonfinlevel_notNA  liqnonfintrend_notNA  dtdlevel_notNA  \\\n",
       "0                         1                     1               0   \n",
       "1                         1                     1               0   \n",
       "2                         1                     1               0   \n",
       "3                         1                     1               0   \n",
       "4                         1                     1               0   \n",
       "...                     ...                   ...             ...   \n",
       "12334                     1                     1               1   \n",
       "12335                     1                     1               1   \n",
       "12336                     1                     1               1   \n",
       "12337                     1                     1               1   \n",
       "12338                     1                     1               1   \n",
       "\n",
       "       dtdtrend_notNA  DTDmedianNonFin_notNA  Sector_Number_notNA  \\\n",
       "0                   0                      0                    1   \n",
       "1                   0                      0                    1   \n",
       "2                   0                      0                    1   \n",
       "3                   0                      0                    1   \n",
       "4                   0                      0                    1   \n",
       "...               ...                    ...                  ...   \n",
       "12334               1                      1                    1   \n",
       "12335               1                      1                    1   \n",
       "12336               1                      1                    1   \n",
       "12337               1                      1                    1   \n",
       "12338               1                      1                    1   \n",
       "\n",
       "       DTDmedianFin_notNA  sigma_notNA  StkIndx_notNA  \n",
       "0                       1            1              1  \n",
       "1                       1            1              1  \n",
       "2                       1            1              1  \n",
       "3                       1            1              1  \n",
       "4                       1            1              1  \n",
       "...                   ...          ...            ...  \n",
       "12334                   1            1              1  \n",
       "12335                   1            1              1  \n",
       "12336                   1            1              1  \n",
       "12337                   1            1              1  \n",
       "12338                   1            1              1  \n",
       "\n",
       "[12178 rows x 31 columns]"
      ]
     },
     "execution_count": 34,
     "metadata": {},
     "output_type": "execute_result"
    }
   ],
   "source": [
    "new_df = df.dropna()\n",
    "new_df = new_df.drop(['yyyy', 'mm', 'EventDate'], axis=1,)\n",
    "new_df['Event_type'] = new_df['Event_type'].map(lambda x : 0 if x ==2  else x)\n",
    "new_df"
   ]
  },
  {
   "cell_type": "code",
   "execution_count": null,
   "metadata": {},
   "outputs": [],
   "source": [
    "new_df.to_gbq(destination_table=f'{project_id}.{dataset_id}.filled_table', project_id=project_id, if_exists='replace')"
   ]
  }
 ],
 "metadata": {
  "kernelspec": {
   "display_name": "Python 3",
   "language": "python",
   "name": "python3"
  },
  "language_info": {
   "codemirror_mode": {
    "name": "ipython",
    "version": 3
   },
   "file_extension": ".py",
   "mimetype": "text/x-python",
   "name": "python",
   "nbconvert_exporter": "python",
   "pygments_lexer": "ipython3",
   "version": "3.10.7"
  },
  "orig_nbformat": 4
 },
 "nbformat": 4,
 "nbformat_minor": 2
}
